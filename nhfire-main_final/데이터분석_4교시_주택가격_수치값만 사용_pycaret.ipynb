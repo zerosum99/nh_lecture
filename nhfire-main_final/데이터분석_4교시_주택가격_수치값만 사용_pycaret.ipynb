{
 "cells": [
  {
   "cell_type": "code",
   "execution_count": null,
   "id": "6449498f",
   "metadata": {},
   "outputs": [],
   "source": []
  },
  {
   "cell_type": "markdown",
   "id": "2d0914e3",
   "metadata": {},
   "source": [
    "# 아이오와 주 에임스(Ames)에 있는 주거용 주택을 설명하는 79가지 변수로 각 주택의 최종 가격을 예측합니다."
   ]
  },
  {
   "cell_type": "code",
   "execution_count": null,
   "id": "09bdd149",
   "metadata": {},
   "outputs": [],
   "source": []
  },
  {
   "cell_type": "markdown",
   "id": "6a9cff3b",
   "metadata": {},
   "source": [
    "# 데이터 분석 처리 단계 "
   ]
  },
  {
   "cell_type": "markdown",
   "id": "459bada1",
   "metadata": {},
   "source": [
    "# 1단계 : 탐색적 자료 분석 (EDA : Exploratory Data Analysis)\n",
    "- 시각화와 기술 통계(Descriptive statistics)를 통해서 데이터를 이해하는 단계이다."
   ]
  },
  {
   "cell_type": "markdown",
   "id": "e81d4253",
   "metadata": {},
   "source": [
    "## 1-1 모듈 사용하기 "
   ]
  },
  {
   "cell_type": "code",
   "execution_count": 1,
   "id": "c6964d99",
   "metadata": {},
   "outputs": [],
   "source": [
    "import pandas as pd\n",
    "import numpy as np"
   ]
  },
  {
   "cell_type": "markdown",
   "id": "c84b3fde",
   "metadata": {},
   "source": [
    "## 1-2 데이터 읽어오기"
   ]
  },
  {
   "cell_type": "code",
   "execution_count": null,
   "id": "0e8976da",
   "metadata": {},
   "outputs": [],
   "source": []
  },
  {
   "cell_type": "code",
   "execution_count": 2,
   "id": "ea2643ac",
   "metadata": {},
   "outputs": [],
   "source": [
    "dirname = './data/ames_house_prices'"
   ]
  },
  {
   "cell_type": "code",
   "execution_count": 3,
   "id": "6d821a24",
   "metadata": {},
   "outputs": [],
   "source": [
    "df_train = pd.read_csv(dirname + '/train.csv')\n",
    "df_test = pd.read_csv(dirname + '/test.csv')"
   ]
  },
  {
   "cell_type": "code",
   "execution_count": 4,
   "id": "69dc7466",
   "metadata": {},
   "outputs": [
    {
     "data": {
      "text/plain": [
       "((1460, 81), (1459, 80))"
      ]
     },
     "execution_count": 4,
     "metadata": {},
     "output_type": "execute_result"
    }
   ],
   "source": [
    "df_train.shape, df_test.shape"
   ]
  },
  {
   "cell_type": "code",
   "execution_count": 5,
   "id": "03162e79",
   "metadata": {},
   "outputs": [
    {
     "name": "stdout",
     "output_type": "stream",
     "text": [
      "<class 'pandas.core.frame.DataFrame'>\n",
      "RangeIndex: 1460 entries, 0 to 1459\n",
      "Data columns (total 81 columns):\n",
      " #   Column         Non-Null Count  Dtype  \n",
      "---  ------         --------------  -----  \n",
      " 0   Id             1460 non-null   int64  \n",
      " 1   MSSubClass     1460 non-null   int64  \n",
      " 2   MSZoning       1460 non-null   object \n",
      " 3   LotFrontage    1201 non-null   float64\n",
      " 4   LotArea        1460 non-null   int64  \n",
      " 5   Street         1460 non-null   object \n",
      " 6   Alley          91 non-null     object \n",
      " 7   LotShape       1460 non-null   object \n",
      " 8   LandContour    1460 non-null   object \n",
      " 9   Utilities      1460 non-null   object \n",
      " 10  LotConfig      1460 non-null   object \n",
      " 11  LandSlope      1460 non-null   object \n",
      " 12  Neighborhood   1460 non-null   object \n",
      " 13  Condition1     1460 non-null   object \n",
      " 14  Condition2     1460 non-null   object \n",
      " 15  BldgType       1460 non-null   object \n",
      " 16  HouseStyle     1460 non-null   object \n",
      " 17  OverallQual    1460 non-null   int64  \n",
      " 18  OverallCond    1460 non-null   int64  \n",
      " 19  YearBuilt      1460 non-null   int64  \n",
      " 20  YearRemodAdd   1460 non-null   int64  \n",
      " 21  RoofStyle      1460 non-null   object \n",
      " 22  RoofMatl       1460 non-null   object \n",
      " 23  Exterior1st    1460 non-null   object \n",
      " 24  Exterior2nd    1460 non-null   object \n",
      " 25  MasVnrType     1452 non-null   object \n",
      " 26  MasVnrArea     1452 non-null   float64\n",
      " 27  ExterQual      1460 non-null   object \n",
      " 28  ExterCond      1460 non-null   object \n",
      " 29  Foundation     1460 non-null   object \n",
      " 30  BsmtQual       1423 non-null   object \n",
      " 31  BsmtCond       1423 non-null   object \n",
      " 32  BsmtExposure   1422 non-null   object \n",
      " 33  BsmtFinType1   1423 non-null   object \n",
      " 34  BsmtFinSF1     1460 non-null   int64  \n",
      " 35  BsmtFinType2   1422 non-null   object \n",
      " 36  BsmtFinSF2     1460 non-null   int64  \n",
      " 37  BsmtUnfSF      1460 non-null   int64  \n",
      " 38  TotalBsmtSF    1460 non-null   int64  \n",
      " 39  Heating        1460 non-null   object \n",
      " 40  HeatingQC      1460 non-null   object \n",
      " 41  CentralAir     1460 non-null   object \n",
      " 42  Electrical     1459 non-null   object \n",
      " 43  1stFlrSF       1460 non-null   int64  \n",
      " 44  2ndFlrSF       1460 non-null   int64  \n",
      " 45  LowQualFinSF   1460 non-null   int64  \n",
      " 46  GrLivArea      1460 non-null   int64  \n",
      " 47  BsmtFullBath   1460 non-null   int64  \n",
      " 48  BsmtHalfBath   1460 non-null   int64  \n",
      " 49  FullBath       1460 non-null   int64  \n",
      " 50  HalfBath       1460 non-null   int64  \n",
      " 51  BedroomAbvGr   1460 non-null   int64  \n",
      " 52  KitchenAbvGr   1460 non-null   int64  \n",
      " 53  KitchenQual    1460 non-null   object \n",
      " 54  TotRmsAbvGrd   1460 non-null   int64  \n",
      " 55  Functional     1460 non-null   object \n",
      " 56  Fireplaces     1460 non-null   int64  \n",
      " 57  FireplaceQu    770 non-null    object \n",
      " 58  GarageType     1379 non-null   object \n",
      " 59  GarageYrBlt    1379 non-null   float64\n",
      " 60  GarageFinish   1379 non-null   object \n",
      " 61  GarageCars     1460 non-null   int64  \n",
      " 62  GarageArea     1460 non-null   int64  \n",
      " 63  GarageQual     1379 non-null   object \n",
      " 64  GarageCond     1379 non-null   object \n",
      " 65  PavedDrive     1460 non-null   object \n",
      " 66  WoodDeckSF     1460 non-null   int64  \n",
      " 67  OpenPorchSF    1460 non-null   int64  \n",
      " 68  EnclosedPorch  1460 non-null   int64  \n",
      " 69  3SsnPorch      1460 non-null   int64  \n",
      " 70  ScreenPorch    1460 non-null   int64  \n",
      " 71  PoolArea       1460 non-null   int64  \n",
      " 72  PoolQC         7 non-null      object \n",
      " 73  Fence          281 non-null    object \n",
      " 74  MiscFeature    54 non-null     object \n",
      " 75  MiscVal        1460 non-null   int64  \n",
      " 76  MoSold         1460 non-null   int64  \n",
      " 77  YrSold         1460 non-null   int64  \n",
      " 78  SaleType       1460 non-null   object \n",
      " 79  SaleCondition  1460 non-null   object \n",
      " 80  SalePrice      1460 non-null   int64  \n",
      "dtypes: float64(3), int64(35), object(43)\n",
      "memory usage: 924.0+ KB\n"
     ]
    }
   ],
   "source": [
    "df_train.info()"
   ]
  },
  {
   "cell_type": "code",
   "execution_count": null,
   "id": "cf987d07",
   "metadata": {},
   "outputs": [],
   "source": []
  },
  {
   "cell_type": "code",
   "execution_count": 6,
   "id": "ec303bea",
   "metadata": {},
   "outputs": [
    {
     "name": "stdout",
     "output_type": "stream",
     "text": [
      "The train data size before dropping Id feature is : (1460, 81) \n",
      "The test data size before dropping Id feature is : (1459, 80) \n",
      "\n",
      "The train data size after dropping Id feature is : (1460, 80) \n",
      "The test data size after dropping Id feature is : (1459, 79) \n"
     ]
    }
   ],
   "source": [
    "#check the numbers of samples and features\n",
    "print(\"The train data size before dropping Id feature is : {} \".format(df_train.shape))\n",
    "print(\"The test data size before dropping Id feature is : {} \".format(df_test.shape))\n",
    "\n",
    "#Save the 'Id' column\n",
    "train_ID = df_train['Id']\n",
    "test_ID = df_test['Id']\n",
    "\n",
    "#Now drop the  'Id' colum since it's unnecessary for  the prediction process.\n",
    "df_train.drop(\"Id\", axis = 1, inplace = True)\n",
    "df_test.drop(\"Id\", axis = 1, inplace = True)\n",
    "\n",
    "#check again the data size after dropping the 'Id' variable\n",
    "print(\"\\nThe train data size after dropping Id feature is : {} \".format(df_train.shape)) \n",
    "print(\"The test data size after dropping Id feature is : {} \".format(df_test.shape))"
   ]
  },
  {
   "cell_type": "code",
   "execution_count": null,
   "id": "b34e9594",
   "metadata": {},
   "outputs": [],
   "source": []
  },
  {
   "cell_type": "markdown",
   "id": "ed726c6c",
   "metadata": {},
   "source": [
    "# 2단계 : 전처리 (Preprocessing)\n",
    "\n",
    "데이터를 정제하고 가공해서 머신 러닝 모델의 입력에 적합한 형태로 바꿔주는 단계이다.\n",
    "\n",
    "- Data Cleaning\n",
    "  - Deduplication\n",
    "  - Outlier detection\n",
    "  - Other cleaning techniques\n",
    "\n",
    "- For model\n",
    "  - Feature extraction\n",
    "  - Feature scaling\n",
    "  - Dummification\n",
    "  - Dimensionality reduction\n",
    "\n",
    "탐색적 자료 분석과 전처리는 순차적이라기 보다 반복적인 관계이다. EDA를 통해 어떤 전처리가 필요한지 알 수 있고 전처리를 통해 EDA를 수월하게 할 수 있다."
   ]
  },
  {
   "cell_type": "code",
   "execution_count": 7,
   "id": "b2a9abe8",
   "metadata": {},
   "outputs": [],
   "source": [
    "cols_fillna = ['PoolQC','MiscFeature','Alley','Fence','MasVnrType','FireplaceQu',\n",
    "               'GarageQual','GarageCond','GarageFinish','GarageType', 'Electrical',\n",
    "               'KitchenQual', 'SaleType', 'Functional', 'Exterior2nd', 'Exterior1st',\n",
    "               'BsmtExposure','BsmtCond','BsmtQual','BsmtFinType1','BsmtFinType2',\n",
    "               'MSZoning', 'Utilities']\n",
    "\n",
    "for col in cols_fillna:\n",
    "    df_train[col].fillna('None',inplace=True)\n",
    "    df_test[col].fillna('None',inplace=True)"
   ]
  },
  {
   "cell_type": "code",
   "execution_count": null,
   "id": "3ca8da7b",
   "metadata": {},
   "outputs": [],
   "source": []
  },
  {
   "cell_type": "code",
   "execution_count": 8,
   "id": "f4f34ee6",
   "metadata": {},
   "outputs": [
    {
     "data": {
      "text/plain": [
       "MSSubClass         0\n",
       "LotFrontage      259\n",
       "LotArea            0\n",
       "OverallQual        0\n",
       "OverallCond        0\n",
       "YearBuilt          0\n",
       "YearRemodAdd       0\n",
       "MasVnrArea         8\n",
       "BsmtFinSF1         0\n",
       "BsmtFinSF2         0\n",
       "BsmtUnfSF          0\n",
       "TotalBsmtSF        0\n",
       "1stFlrSF           0\n",
       "2ndFlrSF           0\n",
       "LowQualFinSF       0\n",
       "GrLivArea          0\n",
       "BsmtFullBath       0\n",
       "BsmtHalfBath       0\n",
       "FullBath           0\n",
       "HalfBath           0\n",
       "BedroomAbvGr       0\n",
       "KitchenAbvGr       0\n",
       "TotRmsAbvGrd       0\n",
       "Fireplaces         0\n",
       "GarageYrBlt       81\n",
       "GarageCars         0\n",
       "GarageArea         0\n",
       "WoodDeckSF         0\n",
       "OpenPorchSF        0\n",
       "EnclosedPorch      0\n",
       "3SsnPorch          0\n",
       "ScreenPorch        0\n",
       "PoolArea           0\n",
       "MiscVal            0\n",
       "MoSold             0\n",
       "YrSold             0\n",
       "SalePrice          0\n",
       "dtype: int64"
      ]
     },
     "execution_count": 8,
     "metadata": {},
     "output_type": "execute_result"
    }
   ],
   "source": [
    "df_train.select_dtypes(include='number').isnull().sum()"
   ]
  },
  {
   "cell_type": "code",
   "execution_count": 9,
   "id": "ec049b77",
   "metadata": {},
   "outputs": [
    {
     "data": {
      "text/plain": [
       "MSSubClass         0\n",
       "LotFrontage      227\n",
       "LotArea            0\n",
       "OverallQual        0\n",
       "OverallCond        0\n",
       "YearBuilt          0\n",
       "YearRemodAdd       0\n",
       "MasVnrArea        15\n",
       "BsmtFinSF1         1\n",
       "BsmtFinSF2         1\n",
       "BsmtUnfSF          1\n",
       "TotalBsmtSF        1\n",
       "1stFlrSF           0\n",
       "2ndFlrSF           0\n",
       "LowQualFinSF       0\n",
       "GrLivArea          0\n",
       "BsmtFullBath       2\n",
       "BsmtHalfBath       2\n",
       "FullBath           0\n",
       "HalfBath           0\n",
       "BedroomAbvGr       0\n",
       "KitchenAbvGr       0\n",
       "TotRmsAbvGrd       0\n",
       "Fireplaces         0\n",
       "GarageYrBlt       78\n",
       "GarageCars         1\n",
       "GarageArea         1\n",
       "WoodDeckSF         0\n",
       "OpenPorchSF        0\n",
       "EnclosedPorch      0\n",
       "3SsnPorch          0\n",
       "ScreenPorch        0\n",
       "PoolArea           0\n",
       "MiscVal            0\n",
       "MoSold             0\n",
       "YrSold             0\n",
       "dtype: int64"
      ]
     },
     "execution_count": 9,
     "metadata": {},
     "output_type": "execute_result"
    }
   ],
   "source": [
    "df_test.select_dtypes(include='number').isnull().sum()"
   ]
  },
  {
   "cell_type": "code",
   "execution_count": 10,
   "id": "9f6d5c6d",
   "metadata": {},
   "outputs": [],
   "source": [
    "df_train.fillna(df_train.select_dtypes(include='number').mean(), inplace=True)\n",
    "df_test.fillna(df_test.select_dtypes(include='number').mean(), inplace=True)"
   ]
  },
  {
   "cell_type": "code",
   "execution_count": null,
   "id": "d29deed5",
   "metadata": {},
   "outputs": [],
   "source": []
  },
  {
   "cell_type": "code",
   "execution_count": 11,
   "id": "58ee865a",
   "metadata": {},
   "outputs": [],
   "source": [
    "df_train_num = df_train.select_dtypes(include='number')\n",
    "df_test_num = df_test.select_dtypes(include='number')"
   ]
  },
  {
   "cell_type": "code",
   "execution_count": 12,
   "id": "6f94353d",
   "metadata": {},
   "outputs": [
    {
     "data": {
      "text/plain": [
       "((1460, 37), (1459, 36))"
      ]
     },
     "execution_count": 12,
     "metadata": {},
     "output_type": "execute_result"
    }
   ],
   "source": [
    "df_train_num.shape, df_test_num.shape"
   ]
  },
  {
   "cell_type": "code",
   "execution_count": 13,
   "id": "4f8569cd",
   "metadata": {},
   "outputs": [],
   "source": [
    "## 로그값으로 처리 "
   ]
  },
  {
   "cell_type": "code",
   "execution_count": 14,
   "id": "b9292193",
   "metadata": {},
   "outputs": [],
   "source": [
    "sg = df_train_num.copy()"
   ]
  },
  {
   "cell_type": "code",
   "execution_count": 15,
   "id": "88e4c3b0",
   "metadata": {},
   "outputs": [],
   "source": [
    "from pycaret.regression import *"
   ]
  },
  {
   "cell_type": "code",
   "execution_count": 16,
   "id": "6c47f26a",
   "metadata": {},
   "outputs": [
    {
     "data": {
      "text/html": [
       "<style type=\"text/css\">\n",
       "#T_90bc1_row8_col1 {\n",
       "  background-color: lightgreen;\n",
       "}\n",
       "</style>\n",
       "<table id=\"T_90bc1\">\n",
       "  <thead>\n",
       "    <tr>\n",
       "      <th class=\"blank level0\" >&nbsp;</th>\n",
       "      <th id=\"T_90bc1_level0_col0\" class=\"col_heading level0 col0\" >Description</th>\n",
       "      <th id=\"T_90bc1_level0_col1\" class=\"col_heading level0 col1\" >Value</th>\n",
       "    </tr>\n",
       "  </thead>\n",
       "  <tbody>\n",
       "    <tr>\n",
       "      <th id=\"T_90bc1_level0_row0\" class=\"row_heading level0 row0\" >0</th>\n",
       "      <td id=\"T_90bc1_row0_col0\" class=\"data row0 col0\" >Session id</td>\n",
       "      <td id=\"T_90bc1_row0_col1\" class=\"data row0 col1\" >4733</td>\n",
       "    </tr>\n",
       "    <tr>\n",
       "      <th id=\"T_90bc1_level0_row1\" class=\"row_heading level0 row1\" >1</th>\n",
       "      <td id=\"T_90bc1_row1_col0\" class=\"data row1 col0\" >Target</td>\n",
       "      <td id=\"T_90bc1_row1_col1\" class=\"data row1 col1\" >SalePrice</td>\n",
       "    </tr>\n",
       "    <tr>\n",
       "      <th id=\"T_90bc1_level0_row2\" class=\"row_heading level0 row2\" >2</th>\n",
       "      <td id=\"T_90bc1_row2_col0\" class=\"data row2 col0\" >Target type</td>\n",
       "      <td id=\"T_90bc1_row2_col1\" class=\"data row2 col1\" >Regression</td>\n",
       "    </tr>\n",
       "    <tr>\n",
       "      <th id=\"T_90bc1_level0_row3\" class=\"row_heading level0 row3\" >3</th>\n",
       "      <td id=\"T_90bc1_row3_col0\" class=\"data row3 col0\" >Original data shape</td>\n",
       "      <td id=\"T_90bc1_row3_col1\" class=\"data row3 col1\" >(1460, 37)</td>\n",
       "    </tr>\n",
       "    <tr>\n",
       "      <th id=\"T_90bc1_level0_row4\" class=\"row_heading level0 row4\" >4</th>\n",
       "      <td id=\"T_90bc1_row4_col0\" class=\"data row4 col0\" >Transformed data shape</td>\n",
       "      <td id=\"T_90bc1_row4_col1\" class=\"data row4 col1\" >(1460, 37)</td>\n",
       "    </tr>\n",
       "    <tr>\n",
       "      <th id=\"T_90bc1_level0_row5\" class=\"row_heading level0 row5\" >5</th>\n",
       "      <td id=\"T_90bc1_row5_col0\" class=\"data row5 col0\" >Transformed train set shape</td>\n",
       "      <td id=\"T_90bc1_row5_col1\" class=\"data row5 col1\" >(1168, 37)</td>\n",
       "    </tr>\n",
       "    <tr>\n",
       "      <th id=\"T_90bc1_level0_row6\" class=\"row_heading level0 row6\" >6</th>\n",
       "      <td id=\"T_90bc1_row6_col0\" class=\"data row6 col0\" >Transformed test set shape</td>\n",
       "      <td id=\"T_90bc1_row6_col1\" class=\"data row6 col1\" >(292, 37)</td>\n",
       "    </tr>\n",
       "    <tr>\n",
       "      <th id=\"T_90bc1_level0_row7\" class=\"row_heading level0 row7\" >7</th>\n",
       "      <td id=\"T_90bc1_row7_col0\" class=\"data row7 col0\" >Numeric features</td>\n",
       "      <td id=\"T_90bc1_row7_col1\" class=\"data row7 col1\" >36</td>\n",
       "    </tr>\n",
       "    <tr>\n",
       "      <th id=\"T_90bc1_level0_row8\" class=\"row_heading level0 row8\" >8</th>\n",
       "      <td id=\"T_90bc1_row8_col0\" class=\"data row8 col0\" >Preprocess</td>\n",
       "      <td id=\"T_90bc1_row8_col1\" class=\"data row8 col1\" >True</td>\n",
       "    </tr>\n",
       "    <tr>\n",
       "      <th id=\"T_90bc1_level0_row9\" class=\"row_heading level0 row9\" >9</th>\n",
       "      <td id=\"T_90bc1_row9_col0\" class=\"data row9 col0\" >Imputation type</td>\n",
       "      <td id=\"T_90bc1_row9_col1\" class=\"data row9 col1\" >simple</td>\n",
       "    </tr>\n",
       "    <tr>\n",
       "      <th id=\"T_90bc1_level0_row10\" class=\"row_heading level0 row10\" >10</th>\n",
       "      <td id=\"T_90bc1_row10_col0\" class=\"data row10 col0\" >Numeric imputation</td>\n",
       "      <td id=\"T_90bc1_row10_col1\" class=\"data row10 col1\" >mean</td>\n",
       "    </tr>\n",
       "    <tr>\n",
       "      <th id=\"T_90bc1_level0_row11\" class=\"row_heading level0 row11\" >11</th>\n",
       "      <td id=\"T_90bc1_row11_col0\" class=\"data row11 col0\" >Categorical imputation</td>\n",
       "      <td id=\"T_90bc1_row11_col1\" class=\"data row11 col1\" >mode</td>\n",
       "    </tr>\n",
       "    <tr>\n",
       "      <th id=\"T_90bc1_level0_row12\" class=\"row_heading level0 row12\" >12</th>\n",
       "      <td id=\"T_90bc1_row12_col0\" class=\"data row12 col0\" >Fold Generator</td>\n",
       "      <td id=\"T_90bc1_row12_col1\" class=\"data row12 col1\" >KFold</td>\n",
       "    </tr>\n",
       "    <tr>\n",
       "      <th id=\"T_90bc1_level0_row13\" class=\"row_heading level0 row13\" >13</th>\n",
       "      <td id=\"T_90bc1_row13_col0\" class=\"data row13 col0\" >Fold Number</td>\n",
       "      <td id=\"T_90bc1_row13_col1\" class=\"data row13 col1\" >10</td>\n",
       "    </tr>\n",
       "    <tr>\n",
       "      <th id=\"T_90bc1_level0_row14\" class=\"row_heading level0 row14\" >14</th>\n",
       "      <td id=\"T_90bc1_row14_col0\" class=\"data row14 col0\" >CPU Jobs</td>\n",
       "      <td id=\"T_90bc1_row14_col1\" class=\"data row14 col1\" >-1</td>\n",
       "    </tr>\n",
       "    <tr>\n",
       "      <th id=\"T_90bc1_level0_row15\" class=\"row_heading level0 row15\" >15</th>\n",
       "      <td id=\"T_90bc1_row15_col0\" class=\"data row15 col0\" >Use GPU</td>\n",
       "      <td id=\"T_90bc1_row15_col1\" class=\"data row15 col1\" >False</td>\n",
       "    </tr>\n",
       "    <tr>\n",
       "      <th id=\"T_90bc1_level0_row16\" class=\"row_heading level0 row16\" >16</th>\n",
       "      <td id=\"T_90bc1_row16_col0\" class=\"data row16 col0\" >Log Experiment</td>\n",
       "      <td id=\"T_90bc1_row16_col1\" class=\"data row16 col1\" >False</td>\n",
       "    </tr>\n",
       "    <tr>\n",
       "      <th id=\"T_90bc1_level0_row17\" class=\"row_heading level0 row17\" >17</th>\n",
       "      <td id=\"T_90bc1_row17_col0\" class=\"data row17 col0\" >Experiment Name</td>\n",
       "      <td id=\"T_90bc1_row17_col1\" class=\"data row17 col1\" >reg-default-name</td>\n",
       "    </tr>\n",
       "    <tr>\n",
       "      <th id=\"T_90bc1_level0_row18\" class=\"row_heading level0 row18\" >18</th>\n",
       "      <td id=\"T_90bc1_row18_col0\" class=\"data row18 col0\" >USI</td>\n",
       "      <td id=\"T_90bc1_row18_col1\" class=\"data row18 col1\" >ef0f</td>\n",
       "    </tr>\n",
       "  </tbody>\n",
       "</table>\n"
      ],
      "text/plain": [
       "<pandas.io.formats.style.Styler at 0x175f56c70>"
      ]
     },
     "metadata": {},
     "output_type": "display_data"
    }
   ],
   "source": [
    "sup = setup(sg, target = \"SalePrice\", train_size = 0.8)"
   ]
  },
  {
   "cell_type": "code",
   "execution_count": null,
   "id": "a6126c37",
   "metadata": {},
   "outputs": [],
   "source": []
  },
  {
   "cell_type": "code",
   "execution_count": 17,
   "id": "3ef2b384",
   "metadata": {},
   "outputs": [
    {
     "data": {
      "text/html": [],
      "text/plain": [
       "<IPython.core.display.HTML object>"
      ]
     },
     "metadata": {},
     "output_type": "display_data"
    },
    {
     "data": {
      "text/html": [
       "<style type=\"text/css\">\n",
       "#T_f4735 th {\n",
       "  text-align: left;\n",
       "}\n",
       "#T_f4735_row0_col0, #T_f4735_row1_col0, #T_f4735_row1_col1, #T_f4735_row1_col2, #T_f4735_row1_col3, #T_f4735_row1_col4, #T_f4735_row1_col5, #T_f4735_row1_col6, #T_f4735_row2_col0, #T_f4735_row2_col1, #T_f4735_row2_col2, #T_f4735_row2_col3, #T_f4735_row2_col4, #T_f4735_row2_col5, #T_f4735_row2_col6, #T_f4735_row3_col0, #T_f4735_row3_col1, #T_f4735_row3_col2, #T_f4735_row3_col3, #T_f4735_row3_col4, #T_f4735_row3_col5, #T_f4735_row3_col6, #T_f4735_row4_col0, #T_f4735_row4_col1, #T_f4735_row4_col2, #T_f4735_row4_col3, #T_f4735_row4_col4, #T_f4735_row4_col5, #T_f4735_row4_col6, #T_f4735_row5_col0, #T_f4735_row5_col1, #T_f4735_row5_col2, #T_f4735_row5_col3, #T_f4735_row5_col4, #T_f4735_row5_col5, #T_f4735_row5_col6, #T_f4735_row6_col0, #T_f4735_row6_col1, #T_f4735_row6_col2, #T_f4735_row6_col3, #T_f4735_row6_col4, #T_f4735_row6_col5, #T_f4735_row6_col6, #T_f4735_row7_col0, #T_f4735_row7_col1, #T_f4735_row7_col2, #T_f4735_row7_col3, #T_f4735_row7_col4, #T_f4735_row7_col5, #T_f4735_row7_col6, #T_f4735_row8_col0, #T_f4735_row8_col1, #T_f4735_row8_col2, #T_f4735_row8_col3, #T_f4735_row8_col4, #T_f4735_row8_col5, #T_f4735_row8_col6, #T_f4735_row9_col0, #T_f4735_row9_col1, #T_f4735_row9_col2, #T_f4735_row9_col3, #T_f4735_row9_col4, #T_f4735_row9_col5, #T_f4735_row9_col6, #T_f4735_row10_col0, #T_f4735_row10_col1, #T_f4735_row10_col2, #T_f4735_row10_col3, #T_f4735_row10_col4, #T_f4735_row10_col5, #T_f4735_row10_col6, #T_f4735_row11_col0, #T_f4735_row11_col1, #T_f4735_row11_col2, #T_f4735_row11_col3, #T_f4735_row11_col4, #T_f4735_row11_col5, #T_f4735_row11_col6, #T_f4735_row12_col0, #T_f4735_row12_col1, #T_f4735_row12_col2, #T_f4735_row12_col3, #T_f4735_row12_col4, #T_f4735_row12_col5, #T_f4735_row12_col6, #T_f4735_row13_col0, #T_f4735_row13_col1, #T_f4735_row13_col2, #T_f4735_row13_col3, #T_f4735_row13_col4, #T_f4735_row13_col5, #T_f4735_row13_col6, #T_f4735_row14_col0, #T_f4735_row14_col1, #T_f4735_row14_col2, #T_f4735_row14_col3, #T_f4735_row14_col4, #T_f4735_row14_col5, #T_f4735_row14_col6, #T_f4735_row15_col0, #T_f4735_row15_col1, #T_f4735_row15_col2, #T_f4735_row15_col3, #T_f4735_row15_col4, #T_f4735_row15_col5, #T_f4735_row15_col6, #T_f4735_row16_col0, #T_f4735_row16_col1, #T_f4735_row16_col2, #T_f4735_row16_col3, #T_f4735_row16_col4, #T_f4735_row16_col5, #T_f4735_row16_col6, #T_f4735_row17_col0, #T_f4735_row17_col1, #T_f4735_row17_col2, #T_f4735_row17_col3, #T_f4735_row17_col4, #T_f4735_row17_col5, #T_f4735_row17_col6, #T_f4735_row18_col0, #T_f4735_row18_col1, #T_f4735_row18_col2, #T_f4735_row18_col3, #T_f4735_row18_col4, #T_f4735_row18_col5, #T_f4735_row18_col6 {\n",
       "  text-align: left;\n",
       "}\n",
       "#T_f4735_row0_col1, #T_f4735_row0_col2, #T_f4735_row0_col3, #T_f4735_row0_col4, #T_f4735_row0_col5, #T_f4735_row0_col6 {\n",
       "  text-align: left;\n",
       "  background-color: yellow;\n",
       "}\n",
       "#T_f4735_row0_col7, #T_f4735_row1_col7, #T_f4735_row2_col7, #T_f4735_row3_col7, #T_f4735_row4_col7, #T_f4735_row5_col7, #T_f4735_row9_col7, #T_f4735_row11_col7, #T_f4735_row14_col7, #T_f4735_row15_col7, #T_f4735_row16_col7, #T_f4735_row18_col7 {\n",
       "  text-align: left;\n",
       "  background-color: lightgrey;\n",
       "}\n",
       "#T_f4735_row6_col7, #T_f4735_row7_col7, #T_f4735_row8_col7, #T_f4735_row10_col7, #T_f4735_row12_col7, #T_f4735_row13_col7, #T_f4735_row17_col7 {\n",
       "  text-align: left;\n",
       "  background-color: yellow;\n",
       "  background-color: lightgrey;\n",
       "}\n",
       "</style>\n",
       "<table id=\"T_f4735\">\n",
       "  <thead>\n",
       "    <tr>\n",
       "      <th class=\"blank level0\" >&nbsp;</th>\n",
       "      <th id=\"T_f4735_level0_col0\" class=\"col_heading level0 col0\" >Model</th>\n",
       "      <th id=\"T_f4735_level0_col1\" class=\"col_heading level0 col1\" >MAE</th>\n",
       "      <th id=\"T_f4735_level0_col2\" class=\"col_heading level0 col2\" >MSE</th>\n",
       "      <th id=\"T_f4735_level0_col3\" class=\"col_heading level0 col3\" >RMSE</th>\n",
       "      <th id=\"T_f4735_level0_col4\" class=\"col_heading level0 col4\" >R2</th>\n",
       "      <th id=\"T_f4735_level0_col5\" class=\"col_heading level0 col5\" >RMSLE</th>\n",
       "      <th id=\"T_f4735_level0_col6\" class=\"col_heading level0 col6\" >MAPE</th>\n",
       "      <th id=\"T_f4735_level0_col7\" class=\"col_heading level0 col7\" >TT (Sec)</th>\n",
       "    </tr>\n",
       "  </thead>\n",
       "  <tbody>\n",
       "    <tr>\n",
       "      <th id=\"T_f4735_level0_row0\" class=\"row_heading level0 row0\" >gbr</th>\n",
       "      <td id=\"T_f4735_row0_col0\" class=\"data row0 col0\" >Gradient Boosting Regressor</td>\n",
       "      <td id=\"T_f4735_row0_col1\" class=\"data row0 col1\" >16801.8744</td>\n",
       "      <td id=\"T_f4735_row0_col2\" class=\"data row0 col2\" >797375964.3690</td>\n",
       "      <td id=\"T_f4735_row0_col3\" class=\"data row0 col3\" >27575.2857</td>\n",
       "      <td id=\"T_f4735_row0_col4\" class=\"data row0 col4\" >0.8580</td>\n",
       "      <td id=\"T_f4735_row0_col5\" class=\"data row0 col5\" >0.1363</td>\n",
       "      <td id=\"T_f4735_row0_col6\" class=\"data row0 col6\" >0.0975</td>\n",
       "      <td id=\"T_f4735_row0_col7\" class=\"data row0 col7\" >0.0550</td>\n",
       "    </tr>\n",
       "    <tr>\n",
       "      <th id=\"T_f4735_level0_row1\" class=\"row_heading level0 row1\" >et</th>\n",
       "      <td id=\"T_f4735_row1_col0\" class=\"data row1 col0\" >Extra Trees Regressor</td>\n",
       "      <td id=\"T_f4735_row1_col1\" class=\"data row1 col1\" >17457.0543</td>\n",
       "      <td id=\"T_f4735_row1_col2\" class=\"data row1 col2\" >819943784.6180</td>\n",
       "      <td id=\"T_f4735_row1_col3\" class=\"data row1 col3\" >28263.7355</td>\n",
       "      <td id=\"T_f4735_row1_col4\" class=\"data row1 col4\" >0.8576</td>\n",
       "      <td id=\"T_f4735_row1_col5\" class=\"data row1 col5\" >0.1435</td>\n",
       "      <td id=\"T_f4735_row1_col6\" class=\"data row1 col6\" >0.1027</td>\n",
       "      <td id=\"T_f4735_row1_col7\" class=\"data row1 col7\" >0.0710</td>\n",
       "    </tr>\n",
       "    <tr>\n",
       "      <th id=\"T_f4735_level0_row2\" class=\"row_heading level0 row2\" >rf</th>\n",
       "      <td id=\"T_f4735_row2_col0\" class=\"data row2 col0\" >Random Forest Regressor</td>\n",
       "      <td id=\"T_f4735_row2_col1\" class=\"data row2 col1\" >18038.6390</td>\n",
       "      <td id=\"T_f4735_row2_col2\" class=\"data row2 col2\" >922242605.0745</td>\n",
       "      <td id=\"T_f4735_row2_col3\" class=\"data row2 col3\" >29657.3918</td>\n",
       "      <td id=\"T_f4735_row2_col4\" class=\"data row2 col4\" >0.8354</td>\n",
       "      <td id=\"T_f4735_row2_col5\" class=\"data row2 col5\" >0.1479</td>\n",
       "      <td id=\"T_f4735_row2_col6\" class=\"data row2 col6\" >0.1062</td>\n",
       "      <td id=\"T_f4735_row2_col7\" class=\"data row2 col7\" >0.0920</td>\n",
       "    </tr>\n",
       "    <tr>\n",
       "      <th id=\"T_f4735_level0_row3\" class=\"row_heading level0 row3\" >lightgbm</th>\n",
       "      <td id=\"T_f4735_row3_col0\" class=\"data row3 col0\" >Light Gradient Boosting Machine</td>\n",
       "      <td id=\"T_f4735_row3_col1\" class=\"data row3 col1\" >17681.2987</td>\n",
       "      <td id=\"T_f4735_row3_col2\" class=\"data row3 col2\" >927454379.5839</td>\n",
       "      <td id=\"T_f4735_row3_col3\" class=\"data row3 col3\" >30040.8627</td>\n",
       "      <td id=\"T_f4735_row3_col4\" class=\"data row3 col4\" >0.8410</td>\n",
       "      <td id=\"T_f4735_row3_col5\" class=\"data row3 col5\" >0.1420</td>\n",
       "      <td id=\"T_f4735_row3_col6\" class=\"data row3 col6\" >0.1001</td>\n",
       "      <td id=\"T_f4735_row3_col7\" class=\"data row3 col7\" >0.0790</td>\n",
       "    </tr>\n",
       "    <tr>\n",
       "      <th id=\"T_f4735_level0_row4\" class=\"row_heading level0 row4\" >xgboost</th>\n",
       "      <td id=\"T_f4735_row4_col0\" class=\"data row4 col0\" >Extreme Gradient Boosting</td>\n",
       "      <td id=\"T_f4735_row4_col1\" class=\"data row4 col1\" >18913.1776</td>\n",
       "      <td id=\"T_f4735_row4_col2\" class=\"data row4 col2\" >961112596.8013</td>\n",
       "      <td id=\"T_f4735_row4_col3\" class=\"data row4 col3\" >30541.1432</td>\n",
       "      <td id=\"T_f4735_row4_col4\" class=\"data row4 col4\" >0.8338</td>\n",
       "      <td id=\"T_f4735_row4_col5\" class=\"data row4 col5\" >0.1479</td>\n",
       "      <td id=\"T_f4735_row4_col6\" class=\"data row4 col6\" >0.1079</td>\n",
       "      <td id=\"T_f4735_row4_col7\" class=\"data row4 col7\" >0.0520</td>\n",
       "    </tr>\n",
       "    <tr>\n",
       "      <th id=\"T_f4735_level0_row5\" class=\"row_heading level0 row5\" >ada</th>\n",
       "      <td id=\"T_f4735_row5_col0\" class=\"data row5 col0\" >AdaBoost Regressor</td>\n",
       "      <td id=\"T_f4735_row5_col1\" class=\"data row5 col1\" >24402.6169</td>\n",
       "      <td id=\"T_f4735_row5_col2\" class=\"data row5 col2\" >1293177226.4162</td>\n",
       "      <td id=\"T_f4735_row5_col3\" class=\"data row5 col3\" >35661.9824</td>\n",
       "      <td id=\"T_f4735_row5_col4\" class=\"data row5 col4\" >0.7784</td>\n",
       "      <td id=\"T_f4735_row5_col5\" class=\"data row5 col5\" >0.2036</td>\n",
       "      <td id=\"T_f4735_row5_col6\" class=\"data row5 col6\" >0.1613</td>\n",
       "      <td id=\"T_f4735_row5_col7\" class=\"data row5 col7\" >0.0340</td>\n",
       "    </tr>\n",
       "    <tr>\n",
       "      <th id=\"T_f4735_level0_row6\" class=\"row_heading level0 row6\" >llar</th>\n",
       "      <td id=\"T_f4735_row6_col0\" class=\"data row6 col0\" >Lasso Least Angle Regression</td>\n",
       "      <td id=\"T_f4735_row6_col1\" class=\"data row6 col1\" >22903.7252</td>\n",
       "      <td id=\"T_f4735_row6_col2\" class=\"data row6 col2\" >1625729091.2452</td>\n",
       "      <td id=\"T_f4735_row6_col3\" class=\"data row6 col3\" >38047.2398</td>\n",
       "      <td id=\"T_f4735_row6_col4\" class=\"data row6 col4\" >0.7038</td>\n",
       "      <td id=\"T_f4735_row6_col5\" class=\"data row6 col5\" >0.2159</td>\n",
       "      <td id=\"T_f4735_row6_col6\" class=\"data row6 col6\" >0.1368</td>\n",
       "      <td id=\"T_f4735_row6_col7\" class=\"data row6 col7\" >0.0140</td>\n",
       "    </tr>\n",
       "    <tr>\n",
       "      <th id=\"T_f4735_level0_row7\" class=\"row_heading level0 row7\" >ridge</th>\n",
       "      <td id=\"T_f4735_row7_col0\" class=\"data row7 col0\" >Ridge Regression</td>\n",
       "      <td id=\"T_f4735_row7_col1\" class=\"data row7 col1\" >22933.4672</td>\n",
       "      <td id=\"T_f4735_row7_col2\" class=\"data row7 col2\" >1628741765.7012</td>\n",
       "      <td id=\"T_f4735_row7_col3\" class=\"data row7 col3\" >38073.1105</td>\n",
       "      <td id=\"T_f4735_row7_col4\" class=\"data row7 col4\" >0.7031</td>\n",
       "      <td id=\"T_f4735_row7_col5\" class=\"data row7 col5\" >0.2171</td>\n",
       "      <td id=\"T_f4735_row7_col6\" class=\"data row7 col6\" >0.1371</td>\n",
       "      <td id=\"T_f4735_row7_col7\" class=\"data row7 col7\" >0.0140</td>\n",
       "    </tr>\n",
       "    <tr>\n",
       "      <th id=\"T_f4735_level0_row8\" class=\"row_heading level0 row8\" >lasso</th>\n",
       "      <td id=\"T_f4735_row8_col0\" class=\"data row8 col0\" >Lasso Regression</td>\n",
       "      <td id=\"T_f4735_row8_col1\" class=\"data row8 col1\" >22942.5896</td>\n",
       "      <td id=\"T_f4735_row8_col2\" class=\"data row8 col2\" >1629412792.8488</td>\n",
       "      <td id=\"T_f4735_row8_col3\" class=\"data row8 col3\" >38080.0628</td>\n",
       "      <td id=\"T_f4735_row8_col4\" class=\"data row8 col4\" >0.7030</td>\n",
       "      <td id=\"T_f4735_row8_col5\" class=\"data row8 col5\" >0.2173</td>\n",
       "      <td id=\"T_f4735_row8_col6\" class=\"data row8 col6\" >0.1371</td>\n",
       "      <td id=\"T_f4735_row8_col7\" class=\"data row8 col7\" >0.0140</td>\n",
       "    </tr>\n",
       "    <tr>\n",
       "      <th id=\"T_f4735_level0_row9\" class=\"row_heading level0 row9\" >lr</th>\n",
       "      <td id=\"T_f4735_row9_col0\" class=\"data row9 col0\" >Linear Regression</td>\n",
       "      <td id=\"T_f4735_row9_col1\" class=\"data row9 col1\" >22943.3592</td>\n",
       "      <td id=\"T_f4735_row9_col2\" class=\"data row9 col2\" >1629439061.4498</td>\n",
       "      <td id=\"T_f4735_row9_col3\" class=\"data row9 col3\" >38080.5319</td>\n",
       "      <td id=\"T_f4735_row9_col4\" class=\"data row9 col4\" >0.7030</td>\n",
       "      <td id=\"T_f4735_row9_col5\" class=\"data row9 col5\" >0.2173</td>\n",
       "      <td id=\"T_f4735_row9_col6\" class=\"data row9 col6\" >0.1371</td>\n",
       "      <td id=\"T_f4735_row9_col7\" class=\"data row9 col7\" >0.2480</td>\n",
       "    </tr>\n",
       "    <tr>\n",
       "      <th id=\"T_f4735_level0_row10\" class=\"row_heading level0 row10\" >lar</th>\n",
       "      <td id=\"T_f4735_row10_col0\" class=\"data row10 col0\" >Least Angle Regression</td>\n",
       "      <td id=\"T_f4735_row10_col1\" class=\"data row10 col1\" >22931.4500</td>\n",
       "      <td id=\"T_f4735_row10_col2\" class=\"data row10 col2\" >1634965345.9930</td>\n",
       "      <td id=\"T_f4735_row10_col3\" class=\"data row10 col3\" >38117.3847</td>\n",
       "      <td id=\"T_f4735_row10_col4\" class=\"data row10 col4\" >0.7016</td>\n",
       "      <td id=\"T_f4735_row10_col5\" class=\"data row10 col5\" >0.2178</td>\n",
       "      <td id=\"T_f4735_row10_col6\" class=\"data row10 col6\" >0.1370</td>\n",
       "      <td id=\"T_f4735_row10_col7\" class=\"data row10 col7\" >0.0140</td>\n",
       "    </tr>\n",
       "    <tr>\n",
       "      <th id=\"T_f4735_level0_row11\" class=\"row_heading level0 row11\" >en</th>\n",
       "      <td id=\"T_f4735_row11_col0\" class=\"data row11 col0\" >Elastic Net</td>\n",
       "      <td id=\"T_f4735_row11_col1\" class=\"data row11 col1\" >22353.3965</td>\n",
       "      <td id=\"T_f4735_row11_col2\" class=\"data row11 col2\" >1673156224.4599</td>\n",
       "      <td id=\"T_f4735_row11_col3\" class=\"data row11 col3\" >38654.5597</td>\n",
       "      <td id=\"T_f4735_row11_col4\" class=\"data row11 col4\" >0.6946</td>\n",
       "      <td id=\"T_f4735_row11_col5\" class=\"data row11 col5\" >0.1954</td>\n",
       "      <td id=\"T_f4735_row11_col6\" class=\"data row11 col6\" >0.1291</td>\n",
       "      <td id=\"T_f4735_row11_col7\" class=\"data row11 col7\" >0.0180</td>\n",
       "    </tr>\n",
       "    <tr>\n",
       "      <th id=\"T_f4735_level0_row12\" class=\"row_heading level0 row12\" >omp</th>\n",
       "      <td id=\"T_f4735_row12_col0\" class=\"data row12 col0\" >Orthogonal Matching Pursuit</td>\n",
       "      <td id=\"T_f4735_row12_col1\" class=\"data row12 col1\" >26258.8923</td>\n",
       "      <td id=\"T_f4735_row12_col2\" class=\"data row12 col2\" >1756533001.7573</td>\n",
       "      <td id=\"T_f4735_row12_col3\" class=\"data row12 col3\" >40928.5913</td>\n",
       "      <td id=\"T_f4735_row12_col4\" class=\"data row12 col4\" >0.6938</td>\n",
       "      <td id=\"T_f4735_row12_col5\" class=\"data row12 col5\" >0.2588</td>\n",
       "      <td id=\"T_f4735_row12_col6\" class=\"data row12 col6\" >0.1634</td>\n",
       "      <td id=\"T_f4735_row12_col7\" class=\"data row12 col7\" >0.0140</td>\n",
       "    </tr>\n",
       "    <tr>\n",
       "      <th id=\"T_f4735_level0_row13\" class=\"row_heading level0 row13\" >br</th>\n",
       "      <td id=\"T_f4735_row13_col0\" class=\"data row13 col0\" >Bayesian Ridge</td>\n",
       "      <td id=\"T_f4735_row13_col1\" class=\"data row13 col1\" >25115.6990</td>\n",
       "      <td id=\"T_f4735_row13_col2\" class=\"data row13 col2\" >1975369133.1173</td>\n",
       "      <td id=\"T_f4735_row13_col3\" class=\"data row13 col3\" >42443.7306</td>\n",
       "      <td id=\"T_f4735_row13_col4\" class=\"data row13 col4\" >0.6419</td>\n",
       "      <td id=\"T_f4735_row13_col5\" class=\"data row13 col5\" >0.2044</td>\n",
       "      <td id=\"T_f4735_row13_col6\" class=\"data row13 col6\" >0.1442</td>\n",
       "      <td id=\"T_f4735_row13_col7\" class=\"data row13 col7\" >0.0140</td>\n",
       "    </tr>\n",
       "    <tr>\n",
       "      <th id=\"T_f4735_level0_row14\" class=\"row_heading level0 row14\" >huber</th>\n",
       "      <td id=\"T_f4735_row14_col0\" class=\"data row14 col0\" >Huber Regressor</td>\n",
       "      <td id=\"T_f4735_row14_col1\" class=\"data row14 col1\" >27554.4038</td>\n",
       "      <td id=\"T_f4735_row14_col2\" class=\"data row14 col2\" >2087988329.3266</td>\n",
       "      <td id=\"T_f4735_row14_col3\" class=\"data row14 col3\" >44666.3174</td>\n",
       "      <td id=\"T_f4735_row14_col4\" class=\"data row14 col4\" >0.6335</td>\n",
       "      <td id=\"T_f4735_row14_col5\" class=\"data row14 col5\" >0.2172</td>\n",
       "      <td id=\"T_f4735_row14_col6\" class=\"data row14 col6\" >0.1615</td>\n",
       "      <td id=\"T_f4735_row14_col7\" class=\"data row14 col7\" >0.0160</td>\n",
       "    </tr>\n",
       "    <tr>\n",
       "      <th id=\"T_f4735_level0_row15\" class=\"row_heading level0 row15\" >dt</th>\n",
       "      <td id=\"T_f4735_row15_col0\" class=\"data row15 col0\" >Decision Tree Regressor</td>\n",
       "      <td id=\"T_f4735_row15_col1\" class=\"data row15 col1\" >27891.4434</td>\n",
       "      <td id=\"T_f4735_row15_col2\" class=\"data row15 col2\" >2105234501.9607</td>\n",
       "      <td id=\"T_f4735_row15_col3\" class=\"data row15 col3\" >44805.2167</td>\n",
       "      <td id=\"T_f4735_row15_col4\" class=\"data row15 col4\" >0.6602</td>\n",
       "      <td id=\"T_f4735_row15_col5\" class=\"data row15 col5\" >0.2184</td>\n",
       "      <td id=\"T_f4735_row15_col6\" class=\"data row15 col6\" >0.1597</td>\n",
       "      <td id=\"T_f4735_row15_col7\" class=\"data row15 col7\" >0.0150</td>\n",
       "    </tr>\n",
       "    <tr>\n",
       "      <th id=\"T_f4735_level0_row16\" class=\"row_heading level0 row16\" >knn</th>\n",
       "      <td id=\"T_f4735_row16_col0\" class=\"data row16 col0\" >K Neighbors Regressor</td>\n",
       "      <td id=\"T_f4735_row16_col1\" class=\"data row16 col1\" >30146.5446</td>\n",
       "      <td id=\"T_f4735_row16_col2\" class=\"data row16 col2\" >2403617294.8410</td>\n",
       "      <td id=\"T_f4735_row16_col3\" class=\"data row16 col3\" >48423.9167</td>\n",
       "      <td id=\"T_f4735_row16_col4\" class=\"data row16 col4\" >0.6340</td>\n",
       "      <td id=\"T_f4735_row16_col5\" class=\"data row16 col5\" >0.2282</td>\n",
       "      <td id=\"T_f4735_row16_col6\" class=\"data row16 col6\" >0.1746</td>\n",
       "      <td id=\"T_f4735_row16_col7\" class=\"data row16 col7\" >0.0170</td>\n",
       "    </tr>\n",
       "    <tr>\n",
       "      <th id=\"T_f4735_level0_row17\" class=\"row_heading level0 row17\" >par</th>\n",
       "      <td id=\"T_f4735_row17_col0\" class=\"data row17 col0\" >Passive Aggressive Regressor</td>\n",
       "      <td id=\"T_f4735_row17_col1\" class=\"data row17 col1\" >51165.7177</td>\n",
       "      <td id=\"T_f4735_row17_col2\" class=\"data row17 col2\" >5629982351.1076</td>\n",
       "      <td id=\"T_f4735_row17_col3\" class=\"data row17 col3\" >71719.9119</td>\n",
       "      <td id=\"T_f4735_row17_col4\" class=\"data row17 col4\" >0.0799</td>\n",
       "      <td id=\"T_f4735_row17_col5\" class=\"data row17 col5\" >0.3993</td>\n",
       "      <td id=\"T_f4735_row17_col6\" class=\"data row17 col6\" >0.2947</td>\n",
       "      <td id=\"T_f4735_row17_col7\" class=\"data row17 col7\" >0.0140</td>\n",
       "    </tr>\n",
       "    <tr>\n",
       "      <th id=\"T_f4735_level0_row18\" class=\"row_heading level0 row18\" >dummy</th>\n",
       "      <td id=\"T_f4735_row18_col0\" class=\"data row18 col0\" >Dummy Regressor</td>\n",
       "      <td id=\"T_f4735_row18_col1\" class=\"data row18 col1\" >58097.8427</td>\n",
       "      <td id=\"T_f4735_row18_col2\" class=\"data row18 col2\" >6545713158.5065</td>\n",
       "      <td id=\"T_f4735_row18_col3\" class=\"data row18 col3\" >80378.0834</td>\n",
       "      <td id=\"T_f4735_row18_col4\" class=\"data row18 col4\" >-0.0029</td>\n",
       "      <td id=\"T_f4735_row18_col5\" class=\"data row18 col5\" >0.4122</td>\n",
       "      <td id=\"T_f4735_row18_col6\" class=\"data row18 col6\" >0.3684</td>\n",
       "      <td id=\"T_f4735_row18_col7\" class=\"data row18 col7\" >0.0240</td>\n",
       "    </tr>\n",
       "  </tbody>\n",
       "</table>\n"
      ],
      "text/plain": [
       "<pandas.io.formats.style.Styler at 0x12e93f190>"
      ]
     },
     "metadata": {},
     "output_type": "display_data"
    },
    {
     "data": {
      "application/vnd.jupyter.widget-view+json": {
       "model_id": "",
       "version_major": 2,
       "version_minor": 0
      },
      "text/plain": [
       "Processing:   0%|          | 0/81 [00:00<?, ?it/s]"
      ]
     },
     "metadata": {},
     "output_type": "display_data"
    }
   ],
   "source": [
    "comp = compare_models(sort = 'RMSE')"
   ]
  },
  {
   "cell_type": "code",
   "execution_count": null,
   "id": "4d0ca593",
   "metadata": {},
   "outputs": [],
   "source": []
  },
  {
   "cell_type": "code",
   "execution_count": null,
   "id": "7a1cd6eb",
   "metadata": {},
   "outputs": [],
   "source": []
  },
  {
   "cell_type": "code",
   "execution_count": null,
   "id": "5bebf510",
   "metadata": {},
   "outputs": [],
   "source": []
  },
  {
   "cell_type": "code",
   "execution_count": null,
   "id": "d85159aa",
   "metadata": {},
   "outputs": [],
   "source": []
  },
  {
   "cell_type": "code",
   "execution_count": null,
   "id": "d5cf9eac",
   "metadata": {},
   "outputs": [],
   "source": []
  },
  {
   "cell_type": "code",
   "execution_count": null,
   "id": "1ce2d9f2",
   "metadata": {},
   "outputs": [],
   "source": []
  }
 ],
 "metadata": {
  "kernelspec": {
   "display_name": "Python 3 (ipykernel)",
   "language": "python",
   "name": "python3"
  },
  "language_info": {
   "codemirror_mode": {
    "name": "ipython",
    "version": 3
   },
   "file_extension": ".py",
   "mimetype": "text/x-python",
   "name": "python",
   "nbconvert_exporter": "python",
   "pygments_lexer": "ipython3",
   "version": "3.9.15"
  }
 },
 "nbformat": 4,
 "nbformat_minor": 5
}
