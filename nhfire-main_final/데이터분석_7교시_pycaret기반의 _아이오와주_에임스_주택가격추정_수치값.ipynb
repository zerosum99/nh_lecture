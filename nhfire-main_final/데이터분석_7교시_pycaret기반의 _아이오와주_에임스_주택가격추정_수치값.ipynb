{
 "cells": [
  {
   "cell_type": "code",
   "execution_count": null,
   "id": "6449498f",
   "metadata": {},
   "outputs": [],
   "source": []
  },
  {
   "cell_type": "code",
   "execution_count": 1,
   "id": "c6964d99",
   "metadata": {},
   "outputs": [],
   "source": [
    "import pandas as pd\n",
    "import numpy as np\n",
    "from sklearn.model_selection import train_test_split"
   ]
  },
  {
   "cell_type": "markdown",
   "id": "2d0914e3",
   "metadata": {},
   "source": [
    "# 아이오와 주 에임스(Ames)에 있는 주거용 주택을 설명하는 79가지 변수로 각 주택의 최종 가격을 예측합니다."
   ]
  },
  {
   "cell_type": "code",
   "execution_count": null,
   "id": "09bdd149",
   "metadata": {},
   "outputs": [],
   "source": []
  },
  {
   "cell_type": "markdown",
   "id": "6a9cff3b",
   "metadata": {},
   "source": [
    "# 데이터 분석 처리 단계 "
   ]
  },
  {
   "cell_type": "markdown",
   "id": "459bada1",
   "metadata": {},
   "source": [
    "# 1단계 : 탐색적 자료 분석 (EDA : Exploratory Data Analysis)\n",
    "- 시각화와 기술 통계(Descriptive statistics)를 통해서 데이터를 이해하는 단계이다."
   ]
  },
  {
   "cell_type": "markdown",
   "id": "c84b3fde",
   "metadata": {},
   "source": [
    "## 1 데이터 읽어오기"
   ]
  },
  {
   "cell_type": "markdown",
   "id": "35f28ac2",
   "metadata": {},
   "source": [
    "### 경로지정"
   ]
  },
  {
   "cell_type": "code",
   "execution_count": 2,
   "id": "ea2643ac",
   "metadata": {},
   "outputs": [],
   "source": [
    "dirname = './data/ames_house_prices'"
   ]
  },
  {
   "cell_type": "markdown",
   "id": "a18c6a21",
   "metadata": {},
   "source": [
    "### 데이터 읽어오기"
   ]
  },
  {
   "cell_type": "code",
   "execution_count": 3,
   "id": "6d821a24",
   "metadata": {},
   "outputs": [],
   "source": [
    "df_train = pd.read_csv(dirname + '/train.csv')\n",
    "df_test = pd.read_csv(dirname + '/test.csv')"
   ]
  },
  {
   "cell_type": "markdown",
   "id": "498b61c6",
   "metadata": {},
   "source": [
    "### 데이터 형태 확인 "
   ]
  },
  {
   "cell_type": "code",
   "execution_count": 4,
   "id": "69dc7466",
   "metadata": {},
   "outputs": [
    {
     "data": {
      "text/plain": [
       "((1460, 81), (1459, 80))"
      ]
     },
     "execution_count": 4,
     "metadata": {},
     "output_type": "execute_result"
    }
   ],
   "source": [
    "df_train.shape, df_test.shape"
   ]
  },
  {
   "cell_type": "markdown",
   "id": "a711fe28",
   "metadata": {},
   "source": [
    "### 데이터 정보 확인하기 "
   ]
  },
  {
   "cell_type": "code",
   "execution_count": 5,
   "id": "03162e79",
   "metadata": {},
   "outputs": [
    {
     "name": "stdout",
     "output_type": "stream",
     "text": [
      "<class 'pandas.core.frame.DataFrame'>\n",
      "RangeIndex: 1460 entries, 0 to 1459\n",
      "Data columns (total 81 columns):\n",
      " #   Column         Non-Null Count  Dtype  \n",
      "---  ------         --------------  -----  \n",
      " 0   Id             1460 non-null   int64  \n",
      " 1   MSSubClass     1460 non-null   int64  \n",
      " 2   MSZoning       1460 non-null   object \n",
      " 3   LotFrontage    1201 non-null   float64\n",
      " 4   LotArea        1460 non-null   int64  \n",
      " 5   Street         1460 non-null   object \n",
      " 6   Alley          91 non-null     object \n",
      " 7   LotShape       1460 non-null   object \n",
      " 8   LandContour    1460 non-null   object \n",
      " 9   Utilities      1460 non-null   object \n",
      " 10  LotConfig      1460 non-null   object \n",
      " 11  LandSlope      1460 non-null   object \n",
      " 12  Neighborhood   1460 non-null   object \n",
      " 13  Condition1     1460 non-null   object \n",
      " 14  Condition2     1460 non-null   object \n",
      " 15  BldgType       1460 non-null   object \n",
      " 16  HouseStyle     1460 non-null   object \n",
      " 17  OverallQual    1460 non-null   int64  \n",
      " 18  OverallCond    1460 non-null   int64  \n",
      " 19  YearBuilt      1460 non-null   int64  \n",
      " 20  YearRemodAdd   1460 non-null   int64  \n",
      " 21  RoofStyle      1460 non-null   object \n",
      " 22  RoofMatl       1460 non-null   object \n",
      " 23  Exterior1st    1460 non-null   object \n",
      " 24  Exterior2nd    1460 non-null   object \n",
      " 25  MasVnrType     1452 non-null   object \n",
      " 26  MasVnrArea     1452 non-null   float64\n",
      " 27  ExterQual      1460 non-null   object \n",
      " 28  ExterCond      1460 non-null   object \n",
      " 29  Foundation     1460 non-null   object \n",
      " 30  BsmtQual       1423 non-null   object \n",
      " 31  BsmtCond       1423 non-null   object \n",
      " 32  BsmtExposure   1422 non-null   object \n",
      " 33  BsmtFinType1   1423 non-null   object \n",
      " 34  BsmtFinSF1     1460 non-null   int64  \n",
      " 35  BsmtFinType2   1422 non-null   object \n",
      " 36  BsmtFinSF2     1460 non-null   int64  \n",
      " 37  BsmtUnfSF      1460 non-null   int64  \n",
      " 38  TotalBsmtSF    1460 non-null   int64  \n",
      " 39  Heating        1460 non-null   object \n",
      " 40  HeatingQC      1460 non-null   object \n",
      " 41  CentralAir     1460 non-null   object \n",
      " 42  Electrical     1459 non-null   object \n",
      " 43  1stFlrSF       1460 non-null   int64  \n",
      " 44  2ndFlrSF       1460 non-null   int64  \n",
      " 45  LowQualFinSF   1460 non-null   int64  \n",
      " 46  GrLivArea      1460 non-null   int64  \n",
      " 47  BsmtFullBath   1460 non-null   int64  \n",
      " 48  BsmtHalfBath   1460 non-null   int64  \n",
      " 49  FullBath       1460 non-null   int64  \n",
      " 50  HalfBath       1460 non-null   int64  \n",
      " 51  BedroomAbvGr   1460 non-null   int64  \n",
      " 52  KitchenAbvGr   1460 non-null   int64  \n",
      " 53  KitchenQual    1460 non-null   object \n",
      " 54  TotRmsAbvGrd   1460 non-null   int64  \n",
      " 55  Functional     1460 non-null   object \n",
      " 56  Fireplaces     1460 non-null   int64  \n",
      " 57  FireplaceQu    770 non-null    object \n",
      " 58  GarageType     1379 non-null   object \n",
      " 59  GarageYrBlt    1379 non-null   float64\n",
      " 60  GarageFinish   1379 non-null   object \n",
      " 61  GarageCars     1460 non-null   int64  \n",
      " 62  GarageArea     1460 non-null   int64  \n",
      " 63  GarageQual     1379 non-null   object \n",
      " 64  GarageCond     1379 non-null   object \n",
      " 65  PavedDrive     1460 non-null   object \n",
      " 66  WoodDeckSF     1460 non-null   int64  \n",
      " 67  OpenPorchSF    1460 non-null   int64  \n",
      " 68  EnclosedPorch  1460 non-null   int64  \n",
      " 69  3SsnPorch      1460 non-null   int64  \n",
      " 70  ScreenPorch    1460 non-null   int64  \n",
      " 71  PoolArea       1460 non-null   int64  \n",
      " 72  PoolQC         7 non-null      object \n",
      " 73  Fence          281 non-null    object \n",
      " 74  MiscFeature    54 non-null     object \n",
      " 75  MiscVal        1460 non-null   int64  \n",
      " 76  MoSold         1460 non-null   int64  \n",
      " 77  YrSold         1460 non-null   int64  \n",
      " 78  SaleType       1460 non-null   object \n",
      " 79  SaleCondition  1460 non-null   object \n",
      " 80  SalePrice      1460 non-null   int64  \n",
      "dtypes: float64(3), int64(35), object(43)\n",
      "memory usage: 924.0+ KB\n"
     ]
    }
   ],
   "source": [
    "df_train.info()"
   ]
  },
  {
   "cell_type": "code",
   "execution_count": null,
   "id": "cf987d07",
   "metadata": {},
   "outputs": [],
   "source": []
  },
  {
   "cell_type": "markdown",
   "id": "ed726c6c",
   "metadata": {},
   "source": [
    "# 2단계 : 전처리 (Preprocessing)\n",
    "\n",
    "데이터를 정제하고 가공해서 머신 러닝 모델의 입력에 적합한 형태로 바꿔주는 단계이다.\n",
    "\n",
    "- Data Cleaning\n",
    "  - Deduplication\n",
    "  - Outlier detection\n",
    "  - Other cleaning techniques\n",
    "\n",
    "- For model\n",
    "  - Feature extraction\n",
    "  - Feature scaling\n",
    "  - Dummification\n",
    "  - Dimensionality reduction\n",
    "\n",
    "탐색적 자료 분석과 전처리는 순차적이라기 보다 반복적인 관계이다. EDA를 통해 어떤 전처리가 필요한지 알 수 있고 전처리를 통해 EDA를 수월하게 할 수 있다."
   ]
  },
  {
   "cell_type": "markdown",
   "id": "23968f7f",
   "metadata": {},
   "source": [
    "## 범주형 널값 처리 "
   ]
  },
  {
   "cell_type": "code",
   "execution_count": 6,
   "id": "b2a9abe8",
   "metadata": {},
   "outputs": [],
   "source": [
    "cols_fillna = ['PoolQC','MiscFeature','Alley','Fence','MasVnrType','FireplaceQu',\n",
    "               'GarageQual','GarageCond','GarageFinish','GarageType', 'Electrical',\n",
    "               'KitchenQual', 'SaleType', 'Functional', 'Exterior2nd', 'Exterior1st',\n",
    "               'BsmtExposure','BsmtCond','BsmtQual','BsmtFinType1','BsmtFinType2',\n",
    "               'MSZoning', 'Utilities']\n",
    "\n",
    "for col in cols_fillna:\n",
    "    df_train[col].fillna('None',inplace=True)\n",
    "    df_test[col].fillna('None',inplace=True)"
   ]
  },
  {
   "cell_type": "markdown",
   "id": "0a169a4c",
   "metadata": {},
   "source": [
    "### 수치형 널값 처리 "
   ]
  },
  {
   "cell_type": "code",
   "execution_count": 7,
   "id": "f4f34ee6",
   "metadata": {},
   "outputs": [
    {
     "data": {
      "text/plain": [
       "Id                 0\n",
       "MSSubClass         0\n",
       "LotFrontage      259\n",
       "LotArea            0\n",
       "OverallQual        0\n",
       "OverallCond        0\n",
       "YearBuilt          0\n",
       "YearRemodAdd       0\n",
       "MasVnrArea         8\n",
       "BsmtFinSF1         0\n",
       "BsmtFinSF2         0\n",
       "BsmtUnfSF          0\n",
       "TotalBsmtSF        0\n",
       "1stFlrSF           0\n",
       "2ndFlrSF           0\n",
       "LowQualFinSF       0\n",
       "GrLivArea          0\n",
       "BsmtFullBath       0\n",
       "BsmtHalfBath       0\n",
       "FullBath           0\n",
       "HalfBath           0\n",
       "BedroomAbvGr       0\n",
       "KitchenAbvGr       0\n",
       "TotRmsAbvGrd       0\n",
       "Fireplaces         0\n",
       "GarageYrBlt       81\n",
       "GarageCars         0\n",
       "GarageArea         0\n",
       "WoodDeckSF         0\n",
       "OpenPorchSF        0\n",
       "EnclosedPorch      0\n",
       "3SsnPorch          0\n",
       "ScreenPorch        0\n",
       "PoolArea           0\n",
       "MiscVal            0\n",
       "MoSold             0\n",
       "YrSold             0\n",
       "SalePrice          0\n",
       "dtype: int64"
      ]
     },
     "execution_count": 7,
     "metadata": {},
     "output_type": "execute_result"
    }
   ],
   "source": [
    "df_train.select_dtypes(include='number').isnull().sum()"
   ]
  },
  {
   "cell_type": "code",
   "execution_count": 8,
   "id": "ec049b77",
   "metadata": {},
   "outputs": [
    {
     "data": {
      "text/plain": [
       "Id                 0\n",
       "MSSubClass         0\n",
       "LotFrontage      227\n",
       "LotArea            0\n",
       "OverallQual        0\n",
       "OverallCond        0\n",
       "YearBuilt          0\n",
       "YearRemodAdd       0\n",
       "MasVnrArea        15\n",
       "BsmtFinSF1         1\n",
       "BsmtFinSF2         1\n",
       "BsmtUnfSF          1\n",
       "TotalBsmtSF        1\n",
       "1stFlrSF           0\n",
       "2ndFlrSF           0\n",
       "LowQualFinSF       0\n",
       "GrLivArea          0\n",
       "BsmtFullBath       2\n",
       "BsmtHalfBath       2\n",
       "FullBath           0\n",
       "HalfBath           0\n",
       "BedroomAbvGr       0\n",
       "KitchenAbvGr       0\n",
       "TotRmsAbvGrd       0\n",
       "Fireplaces         0\n",
       "GarageYrBlt       78\n",
       "GarageCars         1\n",
       "GarageArea         1\n",
       "WoodDeckSF         0\n",
       "OpenPorchSF        0\n",
       "EnclosedPorch      0\n",
       "3SsnPorch          0\n",
       "ScreenPorch        0\n",
       "PoolArea           0\n",
       "MiscVal            0\n",
       "MoSold             0\n",
       "YrSold             0\n",
       "dtype: int64"
      ]
     },
     "execution_count": 8,
     "metadata": {},
     "output_type": "execute_result"
    }
   ],
   "source": [
    "df_test.select_dtypes(include='number').isnull().sum()"
   ]
  },
  {
   "cell_type": "markdown",
   "id": "3b792420",
   "metadata": {},
   "source": [
    "### 수치값은 널값을 평균으로 처리 "
   ]
  },
  {
   "cell_type": "code",
   "execution_count": 9,
   "id": "9f6d5c6d",
   "metadata": {},
   "outputs": [],
   "source": [
    "df_train.fillna(df_train.select_dtypes(include='number').mean(), inplace=True)\n",
    "df_test.fillna(df_test.select_dtypes(include='number').mean(), inplace=True)"
   ]
  },
  {
   "cell_type": "code",
   "execution_count": null,
   "id": "d29deed5",
   "metadata": {},
   "outputs": [],
   "source": []
  },
  {
   "cell_type": "code",
   "execution_count": 10,
   "id": "58ee865a",
   "metadata": {},
   "outputs": [],
   "source": [
    "df_train_num = df_train.select_dtypes(include='number')\n",
    "df_test_num = df_test.select_dtypes(include='number')"
   ]
  },
  {
   "cell_type": "code",
   "execution_count": 11,
   "id": "6f94353d",
   "metadata": {},
   "outputs": [
    {
     "data": {
      "text/plain": [
       "((1460, 38), (1459, 37))"
      ]
     },
     "execution_count": 11,
     "metadata": {},
     "output_type": "execute_result"
    }
   ],
   "source": [
    "df_train_num.shape, df_test_num.shape"
   ]
  },
  {
   "cell_type": "markdown",
   "id": "e4483735",
   "metadata": {},
   "source": [
    "## 파이캐럿 세팅 "
   ]
  },
  {
   "cell_type": "code",
   "execution_count": 12,
   "id": "b9292193",
   "metadata": {},
   "outputs": [],
   "source": [
    "sg = df_train_num.copy()"
   ]
  },
  {
   "cell_type": "code",
   "execution_count": 13,
   "id": "88e4c3b0",
   "metadata": {},
   "outputs": [],
   "source": [
    "from pycaret.regression import *"
   ]
  },
  {
   "cell_type": "code",
   "execution_count": 14,
   "id": "6c47f26a",
   "metadata": {},
   "outputs": [
    {
     "data": {
      "text/html": [
       "<style type=\"text/css\">\n",
       "#T_83e63_row8_col1 {\n",
       "  background-color: lightgreen;\n",
       "}\n",
       "</style>\n",
       "<table id=\"T_83e63\">\n",
       "  <thead>\n",
       "    <tr>\n",
       "      <th class=\"blank level0\" >&nbsp;</th>\n",
       "      <th id=\"T_83e63_level0_col0\" class=\"col_heading level0 col0\" >Description</th>\n",
       "      <th id=\"T_83e63_level0_col1\" class=\"col_heading level0 col1\" >Value</th>\n",
       "    </tr>\n",
       "  </thead>\n",
       "  <tbody>\n",
       "    <tr>\n",
       "      <th id=\"T_83e63_level0_row0\" class=\"row_heading level0 row0\" >0</th>\n",
       "      <td id=\"T_83e63_row0_col0\" class=\"data row0 col0\" >Session id</td>\n",
       "      <td id=\"T_83e63_row0_col1\" class=\"data row0 col1\" >729</td>\n",
       "    </tr>\n",
       "    <tr>\n",
       "      <th id=\"T_83e63_level0_row1\" class=\"row_heading level0 row1\" >1</th>\n",
       "      <td id=\"T_83e63_row1_col0\" class=\"data row1 col0\" >Target</td>\n",
       "      <td id=\"T_83e63_row1_col1\" class=\"data row1 col1\" >SalePrice</td>\n",
       "    </tr>\n",
       "    <tr>\n",
       "      <th id=\"T_83e63_level0_row2\" class=\"row_heading level0 row2\" >2</th>\n",
       "      <td id=\"T_83e63_row2_col0\" class=\"data row2 col0\" >Target type</td>\n",
       "      <td id=\"T_83e63_row2_col1\" class=\"data row2 col1\" >Regression</td>\n",
       "    </tr>\n",
       "    <tr>\n",
       "      <th id=\"T_83e63_level0_row3\" class=\"row_heading level0 row3\" >3</th>\n",
       "      <td id=\"T_83e63_row3_col0\" class=\"data row3 col0\" >Original data shape</td>\n",
       "      <td id=\"T_83e63_row3_col1\" class=\"data row3 col1\" >(1460, 38)</td>\n",
       "    </tr>\n",
       "    <tr>\n",
       "      <th id=\"T_83e63_level0_row4\" class=\"row_heading level0 row4\" >4</th>\n",
       "      <td id=\"T_83e63_row4_col0\" class=\"data row4 col0\" >Transformed data shape</td>\n",
       "      <td id=\"T_83e63_row4_col1\" class=\"data row4 col1\" >(1460, 38)</td>\n",
       "    </tr>\n",
       "    <tr>\n",
       "      <th id=\"T_83e63_level0_row5\" class=\"row_heading level0 row5\" >5</th>\n",
       "      <td id=\"T_83e63_row5_col0\" class=\"data row5 col0\" >Transformed train set shape</td>\n",
       "      <td id=\"T_83e63_row5_col1\" class=\"data row5 col1\" >(1168, 38)</td>\n",
       "    </tr>\n",
       "    <tr>\n",
       "      <th id=\"T_83e63_level0_row6\" class=\"row_heading level0 row6\" >6</th>\n",
       "      <td id=\"T_83e63_row6_col0\" class=\"data row6 col0\" >Transformed test set shape</td>\n",
       "      <td id=\"T_83e63_row6_col1\" class=\"data row6 col1\" >(292, 38)</td>\n",
       "    </tr>\n",
       "    <tr>\n",
       "      <th id=\"T_83e63_level0_row7\" class=\"row_heading level0 row7\" >7</th>\n",
       "      <td id=\"T_83e63_row7_col0\" class=\"data row7 col0\" >Numeric features</td>\n",
       "      <td id=\"T_83e63_row7_col1\" class=\"data row7 col1\" >37</td>\n",
       "    </tr>\n",
       "    <tr>\n",
       "      <th id=\"T_83e63_level0_row8\" class=\"row_heading level0 row8\" >8</th>\n",
       "      <td id=\"T_83e63_row8_col0\" class=\"data row8 col0\" >Preprocess</td>\n",
       "      <td id=\"T_83e63_row8_col1\" class=\"data row8 col1\" >True</td>\n",
       "    </tr>\n",
       "    <tr>\n",
       "      <th id=\"T_83e63_level0_row9\" class=\"row_heading level0 row9\" >9</th>\n",
       "      <td id=\"T_83e63_row9_col0\" class=\"data row9 col0\" >Imputation type</td>\n",
       "      <td id=\"T_83e63_row9_col1\" class=\"data row9 col1\" >simple</td>\n",
       "    </tr>\n",
       "    <tr>\n",
       "      <th id=\"T_83e63_level0_row10\" class=\"row_heading level0 row10\" >10</th>\n",
       "      <td id=\"T_83e63_row10_col0\" class=\"data row10 col0\" >Numeric imputation</td>\n",
       "      <td id=\"T_83e63_row10_col1\" class=\"data row10 col1\" >mean</td>\n",
       "    </tr>\n",
       "    <tr>\n",
       "      <th id=\"T_83e63_level0_row11\" class=\"row_heading level0 row11\" >11</th>\n",
       "      <td id=\"T_83e63_row11_col0\" class=\"data row11 col0\" >Categorical imputation</td>\n",
       "      <td id=\"T_83e63_row11_col1\" class=\"data row11 col1\" >mode</td>\n",
       "    </tr>\n",
       "    <tr>\n",
       "      <th id=\"T_83e63_level0_row12\" class=\"row_heading level0 row12\" >12</th>\n",
       "      <td id=\"T_83e63_row12_col0\" class=\"data row12 col0\" >Fold Generator</td>\n",
       "      <td id=\"T_83e63_row12_col1\" class=\"data row12 col1\" >KFold</td>\n",
       "    </tr>\n",
       "    <tr>\n",
       "      <th id=\"T_83e63_level0_row13\" class=\"row_heading level0 row13\" >13</th>\n",
       "      <td id=\"T_83e63_row13_col0\" class=\"data row13 col0\" >Fold Number</td>\n",
       "      <td id=\"T_83e63_row13_col1\" class=\"data row13 col1\" >10</td>\n",
       "    </tr>\n",
       "    <tr>\n",
       "      <th id=\"T_83e63_level0_row14\" class=\"row_heading level0 row14\" >14</th>\n",
       "      <td id=\"T_83e63_row14_col0\" class=\"data row14 col0\" >CPU Jobs</td>\n",
       "      <td id=\"T_83e63_row14_col1\" class=\"data row14 col1\" >-1</td>\n",
       "    </tr>\n",
       "    <tr>\n",
       "      <th id=\"T_83e63_level0_row15\" class=\"row_heading level0 row15\" >15</th>\n",
       "      <td id=\"T_83e63_row15_col0\" class=\"data row15 col0\" >Use GPU</td>\n",
       "      <td id=\"T_83e63_row15_col1\" class=\"data row15 col1\" >False</td>\n",
       "    </tr>\n",
       "    <tr>\n",
       "      <th id=\"T_83e63_level0_row16\" class=\"row_heading level0 row16\" >16</th>\n",
       "      <td id=\"T_83e63_row16_col0\" class=\"data row16 col0\" >Log Experiment</td>\n",
       "      <td id=\"T_83e63_row16_col1\" class=\"data row16 col1\" >False</td>\n",
       "    </tr>\n",
       "    <tr>\n",
       "      <th id=\"T_83e63_level0_row17\" class=\"row_heading level0 row17\" >17</th>\n",
       "      <td id=\"T_83e63_row17_col0\" class=\"data row17 col0\" >Experiment Name</td>\n",
       "      <td id=\"T_83e63_row17_col1\" class=\"data row17 col1\" >reg-default-name</td>\n",
       "    </tr>\n",
       "    <tr>\n",
       "      <th id=\"T_83e63_level0_row18\" class=\"row_heading level0 row18\" >18</th>\n",
       "      <td id=\"T_83e63_row18_col0\" class=\"data row18 col0\" >USI</td>\n",
       "      <td id=\"T_83e63_row18_col1\" class=\"data row18 col1\" >4989</td>\n",
       "    </tr>\n",
       "  </tbody>\n",
       "</table>\n"
      ],
      "text/plain": [
       "<pandas.io.formats.style.Styler at 0x14cf0a130>"
      ]
     },
     "metadata": {},
     "output_type": "display_data"
    }
   ],
   "source": [
    "sup = setup(sg, target = \"SalePrice\", train_size = 0.8)"
   ]
  },
  {
   "cell_type": "markdown",
   "id": "ee063df7",
   "metadata": {},
   "source": [
    "## 파이케럿 모델 확인 "
   ]
  },
  {
   "cell_type": "code",
   "execution_count": 15,
   "id": "3ef2b384",
   "metadata": {},
   "outputs": [
    {
     "data": {
      "text/html": [],
      "text/plain": [
       "<IPython.core.display.HTML object>"
      ]
     },
     "metadata": {},
     "output_type": "display_data"
    },
    {
     "data": {
      "text/html": [
       "<style type=\"text/css\">\n",
       "#T_616fa th {\n",
       "  text-align: left;\n",
       "}\n",
       "#T_616fa_row0_col0, #T_616fa_row0_col1, #T_616fa_row0_col5, #T_616fa_row0_col6, #T_616fa_row1_col0, #T_616fa_row1_col2, #T_616fa_row1_col3, #T_616fa_row1_col4, #T_616fa_row2_col0, #T_616fa_row2_col1, #T_616fa_row2_col2, #T_616fa_row2_col3, #T_616fa_row2_col4, #T_616fa_row2_col5, #T_616fa_row2_col6, #T_616fa_row3_col0, #T_616fa_row3_col1, #T_616fa_row3_col2, #T_616fa_row3_col3, #T_616fa_row3_col4, #T_616fa_row3_col5, #T_616fa_row3_col6, #T_616fa_row4_col0, #T_616fa_row4_col1, #T_616fa_row4_col2, #T_616fa_row4_col3, #T_616fa_row4_col4, #T_616fa_row4_col5, #T_616fa_row4_col6, #T_616fa_row5_col0, #T_616fa_row5_col1, #T_616fa_row5_col2, #T_616fa_row5_col3, #T_616fa_row5_col4, #T_616fa_row5_col5, #T_616fa_row5_col6, #T_616fa_row6_col0, #T_616fa_row6_col1, #T_616fa_row6_col2, #T_616fa_row6_col3, #T_616fa_row6_col4, #T_616fa_row6_col5, #T_616fa_row6_col6, #T_616fa_row7_col0, #T_616fa_row7_col1, #T_616fa_row7_col2, #T_616fa_row7_col3, #T_616fa_row7_col4, #T_616fa_row7_col5, #T_616fa_row7_col6, #T_616fa_row8_col0, #T_616fa_row8_col1, #T_616fa_row8_col2, #T_616fa_row8_col3, #T_616fa_row8_col4, #T_616fa_row8_col5, #T_616fa_row8_col6, #T_616fa_row9_col0, #T_616fa_row9_col1, #T_616fa_row9_col2, #T_616fa_row9_col3, #T_616fa_row9_col4, #T_616fa_row9_col5, #T_616fa_row9_col6, #T_616fa_row10_col0, #T_616fa_row10_col1, #T_616fa_row10_col2, #T_616fa_row10_col3, #T_616fa_row10_col4, #T_616fa_row10_col5, #T_616fa_row10_col6, #T_616fa_row11_col0, #T_616fa_row11_col1, #T_616fa_row11_col2, #T_616fa_row11_col3, #T_616fa_row11_col4, #T_616fa_row11_col5, #T_616fa_row11_col6, #T_616fa_row12_col0, #T_616fa_row12_col1, #T_616fa_row12_col2, #T_616fa_row12_col3, #T_616fa_row12_col4, #T_616fa_row12_col5, #T_616fa_row12_col6, #T_616fa_row13_col0, #T_616fa_row13_col1, #T_616fa_row13_col2, #T_616fa_row13_col3, #T_616fa_row13_col4, #T_616fa_row13_col5, #T_616fa_row13_col6, #T_616fa_row14_col0, #T_616fa_row14_col1, #T_616fa_row14_col2, #T_616fa_row14_col3, #T_616fa_row14_col4, #T_616fa_row14_col5, #T_616fa_row14_col6, #T_616fa_row15_col0, #T_616fa_row15_col1, #T_616fa_row15_col2, #T_616fa_row15_col3, #T_616fa_row15_col4, #T_616fa_row15_col5, #T_616fa_row15_col6, #T_616fa_row16_col0, #T_616fa_row16_col1, #T_616fa_row16_col2, #T_616fa_row16_col3, #T_616fa_row16_col4, #T_616fa_row16_col5, #T_616fa_row16_col6, #T_616fa_row17_col0, #T_616fa_row17_col1, #T_616fa_row17_col2, #T_616fa_row17_col3, #T_616fa_row17_col4, #T_616fa_row17_col5, #T_616fa_row17_col6, #T_616fa_row18_col0, #T_616fa_row18_col1, #T_616fa_row18_col2, #T_616fa_row18_col3, #T_616fa_row18_col4, #T_616fa_row18_col5, #T_616fa_row18_col6 {\n",
       "  text-align: left;\n",
       "}\n",
       "#T_616fa_row0_col2, #T_616fa_row0_col3, #T_616fa_row0_col4, #T_616fa_row1_col1, #T_616fa_row1_col5, #T_616fa_row1_col6 {\n",
       "  text-align: left;\n",
       "  background-color: yellow;\n",
       "}\n",
       "#T_616fa_row0_col7, #T_616fa_row1_col7, #T_616fa_row2_col7, #T_616fa_row3_col7, #T_616fa_row4_col7, #T_616fa_row5_col7, #T_616fa_row6_col7, #T_616fa_row7_col7, #T_616fa_row8_col7, #T_616fa_row9_col7, #T_616fa_row10_col7, #T_616fa_row11_col7, #T_616fa_row12_col7, #T_616fa_row14_col7, #T_616fa_row15_col7, #T_616fa_row16_col7, #T_616fa_row17_col7, #T_616fa_row18_col7 {\n",
       "  text-align: left;\n",
       "  background-color: lightgrey;\n",
       "}\n",
       "#T_616fa_row13_col7 {\n",
       "  text-align: left;\n",
       "  background-color: yellow;\n",
       "  background-color: lightgrey;\n",
       "}\n",
       "</style>\n",
       "<table id=\"T_616fa\">\n",
       "  <thead>\n",
       "    <tr>\n",
       "      <th class=\"blank level0\" >&nbsp;</th>\n",
       "      <th id=\"T_616fa_level0_col0\" class=\"col_heading level0 col0\" >Model</th>\n",
       "      <th id=\"T_616fa_level0_col1\" class=\"col_heading level0 col1\" >MAE</th>\n",
       "      <th id=\"T_616fa_level0_col2\" class=\"col_heading level0 col2\" >MSE</th>\n",
       "      <th id=\"T_616fa_level0_col3\" class=\"col_heading level0 col3\" >RMSE</th>\n",
       "      <th id=\"T_616fa_level0_col4\" class=\"col_heading level0 col4\" >R2</th>\n",
       "      <th id=\"T_616fa_level0_col5\" class=\"col_heading level0 col5\" >RMSLE</th>\n",
       "      <th id=\"T_616fa_level0_col6\" class=\"col_heading level0 col6\" >MAPE</th>\n",
       "      <th id=\"T_616fa_level0_col7\" class=\"col_heading level0 col7\" >TT (Sec)</th>\n",
       "    </tr>\n",
       "  </thead>\n",
       "  <tbody>\n",
       "    <tr>\n",
       "      <th id=\"T_616fa_level0_row0\" class=\"row_heading level0 row0\" >lightgbm</th>\n",
       "      <td id=\"T_616fa_row0_col0\" class=\"data row0 col0\" >Light Gradient Boosting Machine</td>\n",
       "      <td id=\"T_616fa_row0_col1\" class=\"data row0 col1\" >17572.8819</td>\n",
       "      <td id=\"T_616fa_row0_col2\" class=\"data row0 col2\" >911034231.4089</td>\n",
       "      <td id=\"T_616fa_row0_col3\" class=\"data row0 col3\" >29164.7592</td>\n",
       "      <td id=\"T_616fa_row0_col4\" class=\"data row0 col4\" >0.8452</td>\n",
       "      <td id=\"T_616fa_row0_col5\" class=\"data row0 col5\" >0.1412</td>\n",
       "      <td id=\"T_616fa_row0_col6\" class=\"data row0 col6\" >0.1006</td>\n",
       "      <td id=\"T_616fa_row0_col7\" class=\"data row0 col7\" >0.2450</td>\n",
       "    </tr>\n",
       "    <tr>\n",
       "      <th id=\"T_616fa_level0_row1\" class=\"row_heading level0 row1\" >gbr</th>\n",
       "      <td id=\"T_616fa_row1_col0\" class=\"data row1 col0\" >Gradient Boosting Regressor</td>\n",
       "      <td id=\"T_616fa_row1_col1\" class=\"data row1 col1\" >17200.0918</td>\n",
       "      <td id=\"T_616fa_row1_col2\" class=\"data row1 col2\" >972186588.0239</td>\n",
       "      <td id=\"T_616fa_row1_col3\" class=\"data row1 col3\" >29331.6217</td>\n",
       "      <td id=\"T_616fa_row1_col4\" class=\"data row1 col4\" >0.8230</td>\n",
       "      <td id=\"T_616fa_row1_col5\" class=\"data row1 col5\" >0.1377</td>\n",
       "      <td id=\"T_616fa_row1_col6\" class=\"data row1 col6\" >0.0982</td>\n",
       "      <td id=\"T_616fa_row1_col7\" class=\"data row1 col7\" >0.2060</td>\n",
       "    </tr>\n",
       "    <tr>\n",
       "      <th id=\"T_616fa_level0_row2\" class=\"row_heading level0 row2\" >rf</th>\n",
       "      <td id=\"T_616fa_row2_col0\" class=\"data row2 col0\" >Random Forest Regressor</td>\n",
       "      <td id=\"T_616fa_row2_col1\" class=\"data row2 col1\" >18147.3548</td>\n",
       "      <td id=\"T_616fa_row2_col2\" class=\"data row2 col2\" >950438374.3108</td>\n",
       "      <td id=\"T_616fa_row2_col3\" class=\"data row2 col3\" >29904.8733</td>\n",
       "      <td id=\"T_616fa_row2_col4\" class=\"data row2 col4\" >0.8392</td>\n",
       "      <td id=\"T_616fa_row2_col5\" class=\"data row2 col5\" >0.1467</td>\n",
       "      <td id=\"T_616fa_row2_col6\" class=\"data row2 col6\" >0.1057</td>\n",
       "      <td id=\"T_616fa_row2_col7\" class=\"data row2 col7\" >0.2520</td>\n",
       "    </tr>\n",
       "    <tr>\n",
       "      <th id=\"T_616fa_level0_row3\" class=\"row_heading level0 row3\" >et</th>\n",
       "      <td id=\"T_616fa_row3_col0\" class=\"data row3 col0\" >Extra Trees Regressor</td>\n",
       "      <td id=\"T_616fa_row3_col1\" class=\"data row3 col1\" >17489.5141</td>\n",
       "      <td id=\"T_616fa_row3_col2\" class=\"data row3 col2\" >990570557.3247</td>\n",
       "      <td id=\"T_616fa_row3_col3\" class=\"data row3 col3\" >30061.5231</td>\n",
       "      <td id=\"T_616fa_row3_col4\" class=\"data row3 col4\" >0.8326</td>\n",
       "      <td id=\"T_616fa_row3_col5\" class=\"data row3 col5\" >0.1423</td>\n",
       "      <td id=\"T_616fa_row3_col6\" class=\"data row3 col6\" >0.1007</td>\n",
       "      <td id=\"T_616fa_row3_col7\" class=\"data row3 col7\" >0.2120</td>\n",
       "    </tr>\n",
       "    <tr>\n",
       "      <th id=\"T_616fa_level0_row4\" class=\"row_heading level0 row4\" >xgboost</th>\n",
       "      <td id=\"T_616fa_row4_col0\" class=\"data row4 col0\" >Extreme Gradient Boosting</td>\n",
       "      <td id=\"T_616fa_row4_col1\" class=\"data row4 col1\" >18313.7397</td>\n",
       "      <td id=\"T_616fa_row4_col2\" class=\"data row4 col2\" >1074531039.7660</td>\n",
       "      <td id=\"T_616fa_row4_col3\" class=\"data row4 col3\" >31217.5598</td>\n",
       "      <td id=\"T_616fa_row4_col4\" class=\"data row4 col4\" >0.8261</td>\n",
       "      <td id=\"T_616fa_row4_col5\" class=\"data row4 col5\" >0.1488</td>\n",
       "      <td id=\"T_616fa_row4_col6\" class=\"data row4 col6\" >0.1047</td>\n",
       "      <td id=\"T_616fa_row4_col7\" class=\"data row4 col7\" >0.2090</td>\n",
       "    </tr>\n",
       "    <tr>\n",
       "      <th id=\"T_616fa_level0_row5\" class=\"row_heading level0 row5\" >llar</th>\n",
       "      <td id=\"T_616fa_row5_col0\" class=\"data row5 col0\" >Lasso Least Angle Regression</td>\n",
       "      <td id=\"T_616fa_row5_col1\" class=\"data row5 col1\" >21199.1617</td>\n",
       "      <td id=\"T_616fa_row5_col2\" class=\"data row5 col2\" >1157025708.6939</td>\n",
       "      <td id=\"T_616fa_row5_col3\" class=\"data row5 col3\" >33163.6471</td>\n",
       "      <td id=\"T_616fa_row5_col4\" class=\"data row5 col4\" >0.8042</td>\n",
       "      <td id=\"T_616fa_row5_col5\" class=\"data row5 col5\" >0.2003</td>\n",
       "      <td id=\"T_616fa_row5_col6\" class=\"data row5 col6\" >0.1278</td>\n",
       "      <td id=\"T_616fa_row5_col7\" class=\"data row5 col7\" >0.1540</td>\n",
       "    </tr>\n",
       "    <tr>\n",
       "      <th id=\"T_616fa_level0_row6\" class=\"row_heading level0 row6\" >ridge</th>\n",
       "      <td id=\"T_616fa_row6_col0\" class=\"data row6 col0\" >Ridge Regression</td>\n",
       "      <td id=\"T_616fa_row6_col1\" class=\"data row6 col1\" >21219.9355</td>\n",
       "      <td id=\"T_616fa_row6_col2\" class=\"data row6 col2\" >1158938622.6205</td>\n",
       "      <td id=\"T_616fa_row6_col3\" class=\"data row6 col3\" >33190.5916</td>\n",
       "      <td id=\"T_616fa_row6_col4\" class=\"data row6 col4\" >0.8037</td>\n",
       "      <td id=\"T_616fa_row6_col5\" class=\"data row6 col5\" >0.2009</td>\n",
       "      <td id=\"T_616fa_row6_col6\" class=\"data row6 col6\" >0.1279</td>\n",
       "      <td id=\"T_616fa_row6_col7\" class=\"data row6 col7\" >0.1560</td>\n",
       "    </tr>\n",
       "    <tr>\n",
       "      <th id=\"T_616fa_level0_row7\" class=\"row_heading level0 row7\" >lasso</th>\n",
       "      <td id=\"T_616fa_row7_col0\" class=\"data row7 col0\" >Lasso Regression</td>\n",
       "      <td id=\"T_616fa_row7_col1\" class=\"data row7 col1\" >21224.2230</td>\n",
       "      <td id=\"T_616fa_row7_col2\" class=\"data row7 col2\" >1159156904.3680</td>\n",
       "      <td id=\"T_616fa_row7_col3\" class=\"data row7 col3\" >33192.0734</td>\n",
       "      <td id=\"T_616fa_row7_col4\" class=\"data row7 col4\" >0.8037</td>\n",
       "      <td id=\"T_616fa_row7_col5\" class=\"data row7 col5\" >0.2010</td>\n",
       "      <td id=\"T_616fa_row7_col6\" class=\"data row7 col6\" >0.1280</td>\n",
       "      <td id=\"T_616fa_row7_col7\" class=\"data row7 col7\" >0.1560</td>\n",
       "    </tr>\n",
       "    <tr>\n",
       "      <th id=\"T_616fa_level0_row8\" class=\"row_heading level0 row8\" >lr</th>\n",
       "      <td id=\"T_616fa_row8_col0\" class=\"data row8 col0\" >Linear Regression</td>\n",
       "      <td id=\"T_616fa_row8_col1\" class=\"data row8 col1\" >21224.9577</td>\n",
       "      <td id=\"T_616fa_row8_col2\" class=\"data row8 col2\" >1159200802.1273</td>\n",
       "      <td id=\"T_616fa_row8_col3\" class=\"data row8 col3\" >33192.5061</td>\n",
       "      <td id=\"T_616fa_row8_col4\" class=\"data row8 col4\" >0.8037</td>\n",
       "      <td id=\"T_616fa_row8_col5\" class=\"data row8 col5\" >0.2010</td>\n",
       "      <td id=\"T_616fa_row8_col6\" class=\"data row8 col6\" >0.1280</td>\n",
       "      <td id=\"T_616fa_row8_col7\" class=\"data row8 col7\" >0.4390</td>\n",
       "    </tr>\n",
       "    <tr>\n",
       "      <th id=\"T_616fa_level0_row9\" class=\"row_heading level0 row9\" >en</th>\n",
       "      <td id=\"T_616fa_row9_col0\" class=\"data row9 col0\" >Elastic Net</td>\n",
       "      <td id=\"T_616fa_row9_col1\" class=\"data row9 col1\" >21443.7729</td>\n",
       "      <td id=\"T_616fa_row9_col2\" class=\"data row9 col2\" >1202754252.7303</td>\n",
       "      <td id=\"T_616fa_row9_col3\" class=\"data row9 col3\" >33970.1597</td>\n",
       "      <td id=\"T_616fa_row9_col4\" class=\"data row9 col4\" >0.7966</td>\n",
       "      <td id=\"T_616fa_row9_col5\" class=\"data row9 col5\" >0.1875</td>\n",
       "      <td id=\"T_616fa_row9_col6\" class=\"data row9 col6\" >0.1265</td>\n",
       "      <td id=\"T_616fa_row9_col7\" class=\"data row9 col7\" >0.1610</td>\n",
       "    </tr>\n",
       "    <tr>\n",
       "      <th id=\"T_616fa_level0_row10\" class=\"row_heading level0 row10\" >ada</th>\n",
       "      <td id=\"T_616fa_row10_col0\" class=\"data row10 col0\" >AdaBoost Regressor</td>\n",
       "      <td id=\"T_616fa_row10_col1\" class=\"data row10 col1\" >24860.4058</td>\n",
       "      <td id=\"T_616fa_row10_col2\" class=\"data row10 col2\" >1369865032.4921</td>\n",
       "      <td id=\"T_616fa_row10_col3\" class=\"data row10 col3\" >36493.0149</td>\n",
       "      <td id=\"T_616fa_row10_col4\" class=\"data row10 col4\" >0.7755</td>\n",
       "      <td id=\"T_616fa_row10_col5\" class=\"data row10 col5\" >0.2036</td>\n",
       "      <td id=\"T_616fa_row10_col6\" class=\"data row10 col6\" >0.1618</td>\n",
       "      <td id=\"T_616fa_row10_col7\" class=\"data row10 col7\" >0.1690</td>\n",
       "    </tr>\n",
       "    <tr>\n",
       "      <th id=\"T_616fa_level0_row11\" class=\"row_heading level0 row11\" >br</th>\n",
       "      <td id=\"T_616fa_row11_col0\" class=\"data row11 col0\" >Bayesian Ridge</td>\n",
       "      <td id=\"T_616fa_row11_col1\" class=\"data row11 col1\" >24061.4628</td>\n",
       "      <td id=\"T_616fa_row11_col2\" class=\"data row11 col2\" >1441421858.6159</td>\n",
       "      <td id=\"T_616fa_row11_col3\" class=\"data row11 col3\" >37429.8116</td>\n",
       "      <td id=\"T_616fa_row11_col4\" class=\"data row11 col4\" >0.7554</td>\n",
       "      <td id=\"T_616fa_row11_col5\" class=\"data row11 col5\" >0.2245</td>\n",
       "      <td id=\"T_616fa_row11_col6\" class=\"data row11 col6\" >0.1417</td>\n",
       "      <td id=\"T_616fa_row11_col7\" class=\"data row11 col7\" >0.1600</td>\n",
       "    </tr>\n",
       "    <tr>\n",
       "      <th id=\"T_616fa_level0_row12\" class=\"row_heading level0 row12\" >omp</th>\n",
       "      <td id=\"T_616fa_row12_col0\" class=\"data row12 col0\" >Orthogonal Matching Pursuit</td>\n",
       "      <td id=\"T_616fa_row12_col1\" class=\"data row12 col1\" >26322.3446</td>\n",
       "      <td id=\"T_616fa_row12_col2\" class=\"data row12 col2\" >1557492069.9528</td>\n",
       "      <td id=\"T_616fa_row12_col3\" class=\"data row12 col3\" >38758.6842</td>\n",
       "      <td id=\"T_616fa_row12_col4\" class=\"data row12 col4\" >0.7450</td>\n",
       "      <td id=\"T_616fa_row12_col5\" class=\"data row12 col5\" >0.2382</td>\n",
       "      <td id=\"T_616fa_row12_col6\" class=\"data row12 col6\" >0.1632</td>\n",
       "      <td id=\"T_616fa_row12_col7\" class=\"data row12 col7\" >0.1530</td>\n",
       "    </tr>\n",
       "    <tr>\n",
       "      <th id=\"T_616fa_level0_row13\" class=\"row_heading level0 row13\" >huber</th>\n",
       "      <td id=\"T_616fa_row13_col0\" class=\"data row13 col0\" >Huber Regressor</td>\n",
       "      <td id=\"T_616fa_row13_col1\" class=\"data row13 col1\" >27124.2610</td>\n",
       "      <td id=\"T_616fa_row13_col2\" class=\"data row13 col2\" >1700878227.6339</td>\n",
       "      <td id=\"T_616fa_row13_col3\" class=\"data row13 col3\" >40853.7209</td>\n",
       "      <td id=\"T_616fa_row13_col4\" class=\"data row13 col4\" >0.7175</td>\n",
       "      <td id=\"T_616fa_row13_col5\" class=\"data row13 col5\" >0.2149</td>\n",
       "      <td id=\"T_616fa_row13_col6\" class=\"data row13 col6\" >0.1618</td>\n",
       "      <td id=\"T_616fa_row13_col7\" class=\"data row13 col7\" >0.1510</td>\n",
       "    </tr>\n",
       "    <tr>\n",
       "      <th id=\"T_616fa_level0_row14\" class=\"row_heading level0 row14\" >dt</th>\n",
       "      <td id=\"T_616fa_row14_col0\" class=\"data row14 col0\" >Decision Tree Regressor</td>\n",
       "      <td id=\"T_616fa_row14_col1\" class=\"data row14 col1\" >27385.3897</td>\n",
       "      <td id=\"T_616fa_row14_col2\" class=\"data row14 col2\" >1965079784.6550</td>\n",
       "      <td id=\"T_616fa_row14_col3\" class=\"data row14 col3\" >43644.7732</td>\n",
       "      <td id=\"T_616fa_row14_col4\" class=\"data row14 col4\" >0.6637</td>\n",
       "      <td id=\"T_616fa_row14_col5\" class=\"data row14 col5\" >0.2120</td>\n",
       "      <td id=\"T_616fa_row14_col6\" class=\"data row14 col6\" >0.1564</td>\n",
       "      <td id=\"T_616fa_row14_col7\" class=\"data row14 col7\" >0.1600</td>\n",
       "    </tr>\n",
       "    <tr>\n",
       "      <th id=\"T_616fa_level0_row15\" class=\"row_heading level0 row15\" >knn</th>\n",
       "      <td id=\"T_616fa_row15_col0\" class=\"data row15 col0\" >K Neighbors Regressor</td>\n",
       "      <td id=\"T_616fa_row15_col1\" class=\"data row15 col1\" >30015.6632</td>\n",
       "      <td id=\"T_616fa_row15_col2\" class=\"data row15 col2\" >2180496477.0869</td>\n",
       "      <td id=\"T_616fa_row15_col3\" class=\"data row15 col3\" >46105.5328</td>\n",
       "      <td id=\"T_616fa_row15_col4\" class=\"data row15 col4\" >0.6598</td>\n",
       "      <td id=\"T_616fa_row15_col5\" class=\"data row15 col5\" >0.2242</td>\n",
       "      <td id=\"T_616fa_row15_col6\" class=\"data row15 col6\" >0.1740</td>\n",
       "      <td id=\"T_616fa_row15_col7\" class=\"data row15 col7\" >0.1590</td>\n",
       "    </tr>\n",
       "    <tr>\n",
       "      <th id=\"T_616fa_level0_row16\" class=\"row_heading level0 row16\" >lar</th>\n",
       "      <td id=\"T_616fa_row16_col0\" class=\"data row16 col0\" >Least Angle Regression</td>\n",
       "      <td id=\"T_616fa_row16_col1\" class=\"data row16 col1\" >39382.5554</td>\n",
       "      <td id=\"T_616fa_row16_col2\" class=\"data row16 col2\" >14271867022.5553</td>\n",
       "      <td id=\"T_616fa_row16_col3\" class=\"data row16 col3\" >72324.5925</td>\n",
       "      <td id=\"T_616fa_row16_col4\" class=\"data row16 col4\" >-0.7783</td>\n",
       "      <td id=\"T_616fa_row16_col5\" class=\"data row16 col5\" >0.3232</td>\n",
       "      <td id=\"T_616fa_row16_col6\" class=\"data row16 col6\" >0.2448</td>\n",
       "      <td id=\"T_616fa_row16_col7\" class=\"data row16 col7\" >0.1520</td>\n",
       "    </tr>\n",
       "    <tr>\n",
       "      <th id=\"T_616fa_level0_row17\" class=\"row_heading level0 row17\" >dummy</th>\n",
       "      <td id=\"T_616fa_row17_col0\" class=\"data row17 col0\" >Dummy Regressor</td>\n",
       "      <td id=\"T_616fa_row17_col1\" class=\"data row17 col1\" >58599.7334</td>\n",
       "      <td id=\"T_616fa_row17_col2\" class=\"data row17 col2\" >6604614170.8661</td>\n",
       "      <td id=\"T_616fa_row17_col3\" class=\"data row17 col3\" >80364.9922</td>\n",
       "      <td id=\"T_616fa_row17_col4\" class=\"data row17 col4\" >-0.0187</td>\n",
       "      <td id=\"T_616fa_row17_col5\" class=\"data row17 col5\" >0.4115</td>\n",
       "      <td id=\"T_616fa_row17_col6\" class=\"data row17 col6\" >0.3680</td>\n",
       "      <td id=\"T_616fa_row17_col7\" class=\"data row17 col7\" >0.1630</td>\n",
       "    </tr>\n",
       "    <tr>\n",
       "      <th id=\"T_616fa_level0_row18\" class=\"row_heading level0 row18\" >par</th>\n",
       "      <td id=\"T_616fa_row18_col0\" class=\"data row18 col0\" >Passive Aggressive Regressor</td>\n",
       "      <td id=\"T_616fa_row18_col1\" class=\"data row18 col1\" >55974.0815</td>\n",
       "      <td id=\"T_616fa_row18_col2\" class=\"data row18 col2\" >9861569327.6868</td>\n",
       "      <td id=\"T_616fa_row18_col3\" class=\"data row18 col3\" >82473.4925</td>\n",
       "      <td id=\"T_616fa_row18_col4\" class=\"data row18 col4\" >-0.4540</td>\n",
       "      <td id=\"T_616fa_row18_col5\" class=\"data row18 col5\" >0.3426</td>\n",
       "      <td id=\"T_616fa_row18_col6\" class=\"data row18 col6\" >0.3503</td>\n",
       "      <td id=\"T_616fa_row18_col7\" class=\"data row18 col7\" >0.1520</td>\n",
       "    </tr>\n",
       "  </tbody>\n",
       "</table>\n"
      ],
      "text/plain": [
       "<pandas.io.formats.style.Styler at 0x14b3e4760>"
      ]
     },
     "metadata": {},
     "output_type": "display_data"
    },
    {
     "data": {
      "application/vnd.jupyter.widget-view+json": {
       "model_id": "",
       "version_major": 2,
       "version_minor": 0
      },
      "text/plain": [
       "Processing:   0%|          | 0/81 [00:00<?, ?it/s]"
      ]
     },
     "metadata": {},
     "output_type": "display_data"
    }
   ],
   "source": [
    "comp = compare_models(sort = 'RMSE')"
   ]
  },
  {
   "cell_type": "markdown",
   "id": "95f251b7",
   "metadata": {},
   "source": [
    "## 모델 선택 "
   ]
  },
  {
   "cell_type": "code",
   "execution_count": 16,
   "id": "7a1cd6eb",
   "metadata": {},
   "outputs": [
    {
     "data": {
      "text/html": [
       "<style>#sk-container-id-1 {color: black;background-color: white;}#sk-container-id-1 pre{padding: 0;}#sk-container-id-1 div.sk-toggleable {background-color: white;}#sk-container-id-1 label.sk-toggleable__label {cursor: pointer;display: block;width: 100%;margin-bottom: 0;padding: 0.3em;box-sizing: border-box;text-align: center;}#sk-container-id-1 label.sk-toggleable__label-arrow:before {content: \"▸\";float: left;margin-right: 0.25em;color: #696969;}#sk-container-id-1 label.sk-toggleable__label-arrow:hover:before {color: black;}#sk-container-id-1 div.sk-estimator:hover label.sk-toggleable__label-arrow:before {color: black;}#sk-container-id-1 div.sk-toggleable__content {max-height: 0;max-width: 0;overflow: hidden;text-align: left;background-color: #f0f8ff;}#sk-container-id-1 div.sk-toggleable__content pre {margin: 0.2em;color: black;border-radius: 0.25em;background-color: #f0f8ff;}#sk-container-id-1 input.sk-toggleable__control:checked~div.sk-toggleable__content {max-height: 200px;max-width: 100%;overflow: auto;}#sk-container-id-1 input.sk-toggleable__control:checked~label.sk-toggleable__label-arrow:before {content: \"▾\";}#sk-container-id-1 div.sk-estimator input.sk-toggleable__control:checked~label.sk-toggleable__label {background-color: #d4ebff;}#sk-container-id-1 div.sk-label input.sk-toggleable__control:checked~label.sk-toggleable__label {background-color: #d4ebff;}#sk-container-id-1 input.sk-hidden--visually {border: 0;clip: rect(1px 1px 1px 1px);clip: rect(1px, 1px, 1px, 1px);height: 1px;margin: -1px;overflow: hidden;padding: 0;position: absolute;width: 1px;}#sk-container-id-1 div.sk-estimator {font-family: monospace;background-color: #f0f8ff;border: 1px dotted black;border-radius: 0.25em;box-sizing: border-box;margin-bottom: 0.5em;}#sk-container-id-1 div.sk-estimator:hover {background-color: #d4ebff;}#sk-container-id-1 div.sk-parallel-item::after {content: \"\";width: 100%;border-bottom: 1px solid gray;flex-grow: 1;}#sk-container-id-1 div.sk-label:hover label.sk-toggleable__label {background-color: #d4ebff;}#sk-container-id-1 div.sk-serial::before {content: \"\";position: absolute;border-left: 1px solid gray;box-sizing: border-box;top: 0;bottom: 0;left: 50%;z-index: 0;}#sk-container-id-1 div.sk-serial {display: flex;flex-direction: column;align-items: center;background-color: white;padding-right: 0.2em;padding-left: 0.2em;position: relative;}#sk-container-id-1 div.sk-item {position: relative;z-index: 1;}#sk-container-id-1 div.sk-parallel {display: flex;align-items: stretch;justify-content: center;background-color: white;position: relative;}#sk-container-id-1 div.sk-item::before, #sk-container-id-1 div.sk-parallel-item::before {content: \"\";position: absolute;border-left: 1px solid gray;box-sizing: border-box;top: 0;bottom: 0;left: 50%;z-index: -1;}#sk-container-id-1 div.sk-parallel-item {display: flex;flex-direction: column;z-index: 1;position: relative;background-color: white;}#sk-container-id-1 div.sk-parallel-item:first-child::after {align-self: flex-end;width: 50%;}#sk-container-id-1 div.sk-parallel-item:last-child::after {align-self: flex-start;width: 50%;}#sk-container-id-1 div.sk-parallel-item:only-child::after {width: 0;}#sk-container-id-1 div.sk-dashed-wrapped {border: 1px dashed gray;margin: 0 0.4em 0.5em 0.4em;box-sizing: border-box;padding-bottom: 0.4em;background-color: white;}#sk-container-id-1 div.sk-label label {font-family: monospace;font-weight: bold;display: inline-block;line-height: 1.2em;}#sk-container-id-1 div.sk-label-container {text-align: center;}#sk-container-id-1 div.sk-container {/* jupyter's `normalize.less` sets `[hidden] { display: none; }` but bootstrap.min.css set `[hidden] { display: none !important; }` so we also need the `!important` here to be able to override the default hidden behavior on the sphinx rendered scikit-learn.org. See: https://github.com/scikit-learn/scikit-learn/issues/21755 */display: inline-block !important;position: relative;}#sk-container-id-1 div.sk-text-repr-fallback {display: none;}</style><div id=\"sk-container-id-1\" class=\"sk-top-container\"><div class=\"sk-text-repr-fallback\"><pre>LGBMRegressor(random_state=729)</pre><b>In a Jupyter environment, please rerun this cell to show the HTML representation or trust the notebook. <br />On GitHub, the HTML representation is unable to render, please try loading this page with nbviewer.org.</b></div><div class=\"sk-container\" hidden><div class=\"sk-item\"><div class=\"sk-estimator sk-toggleable\"><input class=\"sk-toggleable__control sk-hidden--visually\" id=\"sk-estimator-id-1\" type=\"checkbox\" checked><label for=\"sk-estimator-id-1\" class=\"sk-toggleable__label sk-toggleable__label-arrow\">LGBMRegressor</label><div class=\"sk-toggleable__content\"><pre>LGBMRegressor(random_state=729)</pre></div></div></div></div></div>"
      ],
      "text/plain": [
       "LGBMRegressor(random_state=729)"
      ]
     },
     "execution_count": 16,
     "metadata": {},
     "output_type": "execute_result"
    }
   ],
   "source": [
    "comp"
   ]
  },
  {
   "cell_type": "code",
   "execution_count": null,
   "id": "5bebf510",
   "metadata": {},
   "outputs": [],
   "source": []
  },
  {
   "cell_type": "code",
   "execution_count": null,
   "id": "d85159aa",
   "metadata": {},
   "outputs": [],
   "source": []
  },
  {
   "cell_type": "code",
   "execution_count": null,
   "id": "d5cf9eac",
   "metadata": {},
   "outputs": [],
   "source": []
  },
  {
   "cell_type": "code",
   "execution_count": null,
   "id": "1ce2d9f2",
   "metadata": {},
   "outputs": [],
   "source": []
  }
 ],
 "metadata": {
  "kernelspec": {
   "display_name": "Python 3 (ipykernel)",
   "language": "python",
   "name": "python3"
  },
  "language_info": {
   "codemirror_mode": {
    "name": "ipython",
    "version": 3
   },
   "file_extension": ".py",
   "mimetype": "text/x-python",
   "name": "python",
   "nbconvert_exporter": "python",
   "pygments_lexer": "ipython3",
   "version": "3.9.15"
  }
 },
 "nbformat": 4,
 "nbformat_minor": 5
}
