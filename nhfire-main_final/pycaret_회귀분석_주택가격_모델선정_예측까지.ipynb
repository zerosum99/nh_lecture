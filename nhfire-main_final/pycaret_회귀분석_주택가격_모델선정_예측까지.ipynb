{
 "cells": [
  {
   "cell_type": "markdown",
   "id": "75db31e3",
   "metadata": {},
   "source": [
    "## 주택가격 \n",
    "\n",
    "\n",
    "-  https://www.kaggle.com/competitions/house-prices-advanced-regression-techniques/overview"
   ]
  },
  {
   "cell_type": "markdown",
   "id": "c7f0131a",
   "metadata": {},
   "source": [
    "# 1. 데이터 확인하기"
   ]
  },
  {
   "cell_type": "code",
   "execution_count": 1,
   "id": "90d69470",
   "metadata": {},
   "outputs": [],
   "source": [
    "import pandas as pd"
   ]
  },
  {
   "cell_type": "markdown",
   "id": "5d66ed6e",
   "metadata": {},
   "source": [
    "### 훈련 데이터"
   ]
  },
  {
   "cell_type": "code",
   "execution_count": 2,
   "id": "e186ec43",
   "metadata": {},
   "outputs": [],
   "source": [
    "path = '../houseprices_advanced/train.csv'"
   ]
  },
  {
   "cell_type": "code",
   "execution_count": 3,
   "id": "116750b9",
   "metadata": {},
   "outputs": [],
   "source": [
    "df = pd.read_csv(path)"
   ]
  },
  {
   "cell_type": "code",
   "execution_count": 4,
   "id": "dd32b94d",
   "metadata": {},
   "outputs": [
    {
     "data": {
      "text/html": [
       "<div>\n",
       "<style scoped>\n",
       "    .dataframe tbody tr th:only-of-type {\n",
       "        vertical-align: middle;\n",
       "    }\n",
       "\n",
       "    .dataframe tbody tr th {\n",
       "        vertical-align: top;\n",
       "    }\n",
       "\n",
       "    .dataframe thead th {\n",
       "        text-align: right;\n",
       "    }\n",
       "</style>\n",
       "<table border=\"1\" class=\"dataframe\">\n",
       "  <thead>\n",
       "    <tr style=\"text-align: right;\">\n",
       "      <th></th>\n",
       "      <th>Id</th>\n",
       "      <th>MSSubClass</th>\n",
       "      <th>MSZoning</th>\n",
       "      <th>LotFrontage</th>\n",
       "      <th>LotArea</th>\n",
       "      <th>Street</th>\n",
       "      <th>Alley</th>\n",
       "      <th>LotShape</th>\n",
       "      <th>LandContour</th>\n",
       "      <th>Utilities</th>\n",
       "      <th>...</th>\n",
       "      <th>PoolArea</th>\n",
       "      <th>PoolQC</th>\n",
       "      <th>Fence</th>\n",
       "      <th>MiscFeature</th>\n",
       "      <th>MiscVal</th>\n",
       "      <th>MoSold</th>\n",
       "      <th>YrSold</th>\n",
       "      <th>SaleType</th>\n",
       "      <th>SaleCondition</th>\n",
       "      <th>SalePrice</th>\n",
       "    </tr>\n",
       "  </thead>\n",
       "  <tbody>\n",
       "    <tr>\n",
       "      <th>0</th>\n",
       "      <td>1</td>\n",
       "      <td>60</td>\n",
       "      <td>RL</td>\n",
       "      <td>65.0</td>\n",
       "      <td>8450</td>\n",
       "      <td>Pave</td>\n",
       "      <td>NaN</td>\n",
       "      <td>Reg</td>\n",
       "      <td>Lvl</td>\n",
       "      <td>AllPub</td>\n",
       "      <td>...</td>\n",
       "      <td>0</td>\n",
       "      <td>NaN</td>\n",
       "      <td>NaN</td>\n",
       "      <td>NaN</td>\n",
       "      <td>0</td>\n",
       "      <td>2</td>\n",
       "      <td>2008</td>\n",
       "      <td>WD</td>\n",
       "      <td>Normal</td>\n",
       "      <td>208500</td>\n",
       "    </tr>\n",
       "    <tr>\n",
       "      <th>1</th>\n",
       "      <td>2</td>\n",
       "      <td>20</td>\n",
       "      <td>RL</td>\n",
       "      <td>80.0</td>\n",
       "      <td>9600</td>\n",
       "      <td>Pave</td>\n",
       "      <td>NaN</td>\n",
       "      <td>Reg</td>\n",
       "      <td>Lvl</td>\n",
       "      <td>AllPub</td>\n",
       "      <td>...</td>\n",
       "      <td>0</td>\n",
       "      <td>NaN</td>\n",
       "      <td>NaN</td>\n",
       "      <td>NaN</td>\n",
       "      <td>0</td>\n",
       "      <td>5</td>\n",
       "      <td>2007</td>\n",
       "      <td>WD</td>\n",
       "      <td>Normal</td>\n",
       "      <td>181500</td>\n",
       "    </tr>\n",
       "    <tr>\n",
       "      <th>2</th>\n",
       "      <td>3</td>\n",
       "      <td>60</td>\n",
       "      <td>RL</td>\n",
       "      <td>68.0</td>\n",
       "      <td>11250</td>\n",
       "      <td>Pave</td>\n",
       "      <td>NaN</td>\n",
       "      <td>IR1</td>\n",
       "      <td>Lvl</td>\n",
       "      <td>AllPub</td>\n",
       "      <td>...</td>\n",
       "      <td>0</td>\n",
       "      <td>NaN</td>\n",
       "      <td>NaN</td>\n",
       "      <td>NaN</td>\n",
       "      <td>0</td>\n",
       "      <td>9</td>\n",
       "      <td>2008</td>\n",
       "      <td>WD</td>\n",
       "      <td>Normal</td>\n",
       "      <td>223500</td>\n",
       "    </tr>\n",
       "    <tr>\n",
       "      <th>3</th>\n",
       "      <td>4</td>\n",
       "      <td>70</td>\n",
       "      <td>RL</td>\n",
       "      <td>60.0</td>\n",
       "      <td>9550</td>\n",
       "      <td>Pave</td>\n",
       "      <td>NaN</td>\n",
       "      <td>IR1</td>\n",
       "      <td>Lvl</td>\n",
       "      <td>AllPub</td>\n",
       "      <td>...</td>\n",
       "      <td>0</td>\n",
       "      <td>NaN</td>\n",
       "      <td>NaN</td>\n",
       "      <td>NaN</td>\n",
       "      <td>0</td>\n",
       "      <td>2</td>\n",
       "      <td>2006</td>\n",
       "      <td>WD</td>\n",
       "      <td>Abnorml</td>\n",
       "      <td>140000</td>\n",
       "    </tr>\n",
       "    <tr>\n",
       "      <th>4</th>\n",
       "      <td>5</td>\n",
       "      <td>60</td>\n",
       "      <td>RL</td>\n",
       "      <td>84.0</td>\n",
       "      <td>14260</td>\n",
       "      <td>Pave</td>\n",
       "      <td>NaN</td>\n",
       "      <td>IR1</td>\n",
       "      <td>Lvl</td>\n",
       "      <td>AllPub</td>\n",
       "      <td>...</td>\n",
       "      <td>0</td>\n",
       "      <td>NaN</td>\n",
       "      <td>NaN</td>\n",
       "      <td>NaN</td>\n",
       "      <td>0</td>\n",
       "      <td>12</td>\n",
       "      <td>2008</td>\n",
       "      <td>WD</td>\n",
       "      <td>Normal</td>\n",
       "      <td>250000</td>\n",
       "    </tr>\n",
       "  </tbody>\n",
       "</table>\n",
       "<p>5 rows × 81 columns</p>\n",
       "</div>"
      ],
      "text/plain": [
       "   Id  MSSubClass MSZoning  LotFrontage  LotArea Street Alley LotShape  \\\n",
       "0   1          60       RL         65.0     8450   Pave   NaN      Reg   \n",
       "1   2          20       RL         80.0     9600   Pave   NaN      Reg   \n",
       "2   3          60       RL         68.0    11250   Pave   NaN      IR1   \n",
       "3   4          70       RL         60.0     9550   Pave   NaN      IR1   \n",
       "4   5          60       RL         84.0    14260   Pave   NaN      IR1   \n",
       "\n",
       "  LandContour Utilities  ... PoolArea PoolQC Fence MiscFeature MiscVal MoSold  \\\n",
       "0         Lvl    AllPub  ...        0    NaN   NaN         NaN       0      2   \n",
       "1         Lvl    AllPub  ...        0    NaN   NaN         NaN       0      5   \n",
       "2         Lvl    AllPub  ...        0    NaN   NaN         NaN       0      9   \n",
       "3         Lvl    AllPub  ...        0    NaN   NaN         NaN       0      2   \n",
       "4         Lvl    AllPub  ...        0    NaN   NaN         NaN       0     12   \n",
       "\n",
       "  YrSold  SaleType  SaleCondition  SalePrice  \n",
       "0   2008        WD         Normal     208500  \n",
       "1   2007        WD         Normal     181500  \n",
       "2   2008        WD         Normal     223500  \n",
       "3   2006        WD        Abnorml     140000  \n",
       "4   2008        WD         Normal     250000  \n",
       "\n",
       "[5 rows x 81 columns]"
      ]
     },
     "execution_count": 4,
     "metadata": {},
     "output_type": "execute_result"
    }
   ],
   "source": [
    "df.head()"
   ]
  },
  {
   "cell_type": "markdown",
   "id": "0d72610a",
   "metadata": {},
   "source": [
    "## 널 값이 있는 칼럼들"
   ]
  },
  {
   "cell_type": "code",
   "execution_count": 44,
   "id": "97c6c5d0",
   "metadata": {},
   "outputs": [
    {
     "data": {
      "text/plain": [
       "Index(['LotFrontage', 'Alley', 'MasVnrType', 'MasVnrArea', 'BsmtQual',\n",
       "       'BsmtCond', 'BsmtExposure', 'BsmtFinType1', 'BsmtFinType2',\n",
       "       'Electrical', 'FireplaceQu', 'GarageType', 'GarageYrBlt',\n",
       "       'GarageFinish', 'GarageQual', 'GarageCond', 'PoolQC', 'Fence',\n",
       "       'MiscFeature'],\n",
       "      dtype='object')"
      ]
     },
     "execution_count": 44,
     "metadata": {},
     "output_type": "execute_result"
    }
   ],
   "source": [
    "df[df.columns[df.isnull().sum() > 0]].columns"
   ]
  },
  {
   "cell_type": "code",
   "execution_count": null,
   "id": "33fbea26",
   "metadata": {},
   "outputs": [],
   "source": []
  },
  {
   "cell_type": "markdown",
   "id": "4ebbebbd",
   "metadata": {},
   "source": [
    "## 테스트 데이터\n",
    "\n",
    "- 테스트 데이터와 타켓 "
   ]
  },
  {
   "cell_type": "code",
   "execution_count": 5,
   "id": "a613e170",
   "metadata": {},
   "outputs": [],
   "source": [
    "path2 = '../houseprices_advanced/test.csv'"
   ]
  },
  {
   "cell_type": "code",
   "execution_count": 6,
   "id": "87c88dd7",
   "metadata": {},
   "outputs": [],
   "source": [
    "path3 = '../houseprices_advanced/sample_submission.csv'"
   ]
  },
  {
   "cell_type": "code",
   "execution_count": null,
   "id": "92b5b1c5",
   "metadata": {},
   "outputs": [],
   "source": []
  },
  {
   "cell_type": "code",
   "execution_count": 7,
   "id": "3e1dc3b4",
   "metadata": {},
   "outputs": [],
   "source": [
    "test = pd.read_csv(path2)"
   ]
  },
  {
   "cell_type": "code",
   "execution_count": 8,
   "id": "8a333a6b",
   "metadata": {},
   "outputs": [],
   "source": [
    "y_test = pd.read_csv(path3)"
   ]
  },
  {
   "cell_type": "code",
   "execution_count": null,
   "id": "df8a4597",
   "metadata": {},
   "outputs": [],
   "source": []
  },
  {
   "cell_type": "markdown",
   "id": "f3db020c",
   "metadata": {},
   "source": [
    "## 범주형 데이터 추출 "
   ]
  },
  {
   "cell_type": "code",
   "execution_count": 9,
   "id": "323d6329",
   "metadata": {},
   "outputs": [
    {
     "name": "stdout",
     "output_type": "stream",
     "text": [
      "<class 'pandas.core.frame.DataFrame'>\n",
      "RangeIndex: 1460 entries, 0 to 1459\n",
      "Data columns (total 81 columns):\n",
      " #   Column         Non-Null Count  Dtype  \n",
      "---  ------         --------------  -----  \n",
      " 0   Id             1460 non-null   int64  \n",
      " 1   MSSubClass     1460 non-null   int64  \n",
      " 2   MSZoning       1460 non-null   object \n",
      " 3   LotFrontage    1201 non-null   float64\n",
      " 4   LotArea        1460 non-null   int64  \n",
      " 5   Street         1460 non-null   object \n",
      " 6   Alley          91 non-null     object \n",
      " 7   LotShape       1460 non-null   object \n",
      " 8   LandContour    1460 non-null   object \n",
      " 9   Utilities      1460 non-null   object \n",
      " 10  LotConfig      1460 non-null   object \n",
      " 11  LandSlope      1460 non-null   object \n",
      " 12  Neighborhood   1460 non-null   object \n",
      " 13  Condition1     1460 non-null   object \n",
      " 14  Condition2     1460 non-null   object \n",
      " 15  BldgType       1460 non-null   object \n",
      " 16  HouseStyle     1460 non-null   object \n",
      " 17  OverallQual    1460 non-null   int64  \n",
      " 18  OverallCond    1460 non-null   int64  \n",
      " 19  YearBuilt      1460 non-null   int64  \n",
      " 20  YearRemodAdd   1460 non-null   int64  \n",
      " 21  RoofStyle      1460 non-null   object \n",
      " 22  RoofMatl       1460 non-null   object \n",
      " 23  Exterior1st    1460 non-null   object \n",
      " 24  Exterior2nd    1460 non-null   object \n",
      " 25  MasVnrType     1452 non-null   object \n",
      " 26  MasVnrArea     1452 non-null   float64\n",
      " 27  ExterQual      1460 non-null   object \n",
      " 28  ExterCond      1460 non-null   object \n",
      " 29  Foundation     1460 non-null   object \n",
      " 30  BsmtQual       1423 non-null   object \n",
      " 31  BsmtCond       1423 non-null   object \n",
      " 32  BsmtExposure   1422 non-null   object \n",
      " 33  BsmtFinType1   1423 non-null   object \n",
      " 34  BsmtFinSF1     1460 non-null   int64  \n",
      " 35  BsmtFinType2   1422 non-null   object \n",
      " 36  BsmtFinSF2     1460 non-null   int64  \n",
      " 37  BsmtUnfSF      1460 non-null   int64  \n",
      " 38  TotalBsmtSF    1460 non-null   int64  \n",
      " 39  Heating        1460 non-null   object \n",
      " 40  HeatingQC      1460 non-null   object \n",
      " 41  CentralAir     1460 non-null   object \n",
      " 42  Electrical     1459 non-null   object \n",
      " 43  1stFlrSF       1460 non-null   int64  \n",
      " 44  2ndFlrSF       1460 non-null   int64  \n",
      " 45  LowQualFinSF   1460 non-null   int64  \n",
      " 46  GrLivArea      1460 non-null   int64  \n",
      " 47  BsmtFullBath   1460 non-null   int64  \n",
      " 48  BsmtHalfBath   1460 non-null   int64  \n",
      " 49  FullBath       1460 non-null   int64  \n",
      " 50  HalfBath       1460 non-null   int64  \n",
      " 51  BedroomAbvGr   1460 non-null   int64  \n",
      " 52  KitchenAbvGr   1460 non-null   int64  \n",
      " 53  KitchenQual    1460 non-null   object \n",
      " 54  TotRmsAbvGrd   1460 non-null   int64  \n",
      " 55  Functional     1460 non-null   object \n",
      " 56  Fireplaces     1460 non-null   int64  \n",
      " 57  FireplaceQu    770 non-null    object \n",
      " 58  GarageType     1379 non-null   object \n",
      " 59  GarageYrBlt    1379 non-null   float64\n",
      " 60  GarageFinish   1379 non-null   object \n",
      " 61  GarageCars     1460 non-null   int64  \n",
      " 62  GarageArea     1460 non-null   int64  \n",
      " 63  GarageQual     1379 non-null   object \n",
      " 64  GarageCond     1379 non-null   object \n",
      " 65  PavedDrive     1460 non-null   object \n",
      " 66  WoodDeckSF     1460 non-null   int64  \n",
      " 67  OpenPorchSF    1460 non-null   int64  \n",
      " 68  EnclosedPorch  1460 non-null   int64  \n",
      " 69  3SsnPorch      1460 non-null   int64  \n",
      " 70  ScreenPorch    1460 non-null   int64  \n",
      " 71  PoolArea       1460 non-null   int64  \n",
      " 72  PoolQC         7 non-null      object \n",
      " 73  Fence          281 non-null    object \n",
      " 74  MiscFeature    54 non-null     object \n",
      " 75  MiscVal        1460 non-null   int64  \n",
      " 76  MoSold         1460 non-null   int64  \n",
      " 77  YrSold         1460 non-null   int64  \n",
      " 78  SaleType       1460 non-null   object \n",
      " 79  SaleCondition  1460 non-null   object \n",
      " 80  SalePrice      1460 non-null   int64  \n",
      "dtypes: float64(3), int64(35), object(43)\n",
      "memory usage: 924.0+ KB\n"
     ]
    }
   ],
   "source": [
    "df.info()"
   ]
  },
  {
   "cell_type": "markdown",
   "id": "f14347fc",
   "metadata": {},
   "source": [
    "## 범주형 처리가 가능한 칼럼들 "
   ]
  },
  {
   "cell_type": "code",
   "execution_count": 48,
   "id": "dda983f0",
   "metadata": {},
   "outputs": [
    {
     "data": {
      "text/plain": [
       "43"
      ]
     },
     "execution_count": 48,
     "metadata": {},
     "output_type": "execute_result"
    }
   ],
   "source": [
    "len(df.select_dtypes(include='object').columns)"
   ]
  },
  {
   "cell_type": "markdown",
   "id": "badb29e6",
   "metadata": {},
   "source": [
    "## 범주형 중에 37개만 선택"
   ]
  },
  {
   "cell_type": "code",
   "execution_count": 45,
   "id": "b3442a0a",
   "metadata": {},
   "outputs": [],
   "source": [
    "cat_f = ['MSZoning','Exterior1st','Exterior2nd',\n",
    "         'KitchenQual','Functional','SaleType',\n",
    "        'Street','LotShape','LandContour',\n",
    "         'LotConfig','LandSlope','Neighborhood',   \n",
    "        'Condition1','Condition2','BldgType',\n",
    "         'HouseStyle','RoofStyle','RoofMatl',    \n",
    "        'MasVnrType','ExterQual','ExterCond',\n",
    "         'Foundation','BsmtQual','BsmtCond',   \n",
    "        'BsmtExposure','BsmtFinType1','BsmtFinType2',\n",
    "         'Heating','HeatingQC','CentralAir',   \n",
    "         'Electrical','GarageType','GarageFinish',\n",
    "         'GarageQual','GarageCond','PavedDrive','SaleCondition']"
   ]
  },
  {
   "cell_type": "markdown",
   "id": "63bb7fd3",
   "metadata": {},
   "source": [
    "### 삭제된 칼럼 "
   ]
  },
  {
   "cell_type": "code",
   "execution_count": 49,
   "id": "aa4e00b8",
   "metadata": {},
   "outputs": [],
   "source": [
    "cat_if = ['Alley','PoolQC','MiscFeature',\n",
    "          'Fence','FireplaceQu','Utilities']"
   ]
  },
  {
   "cell_type": "code",
   "execution_count": 50,
   "id": "b2e7b0fe",
   "metadata": {},
   "outputs": [
    {
     "data": {
      "text/plain": [
       "(37, 6)"
      ]
     },
     "execution_count": 50,
     "metadata": {},
     "output_type": "execute_result"
    }
   ],
   "source": [
    "len(cat_f), len(cat_if)"
   ]
  },
  {
   "cell_type": "code",
   "execution_count": 51,
   "id": "4abb0a21",
   "metadata": {},
   "outputs": [
    {
     "data": {
      "text/plain": [
       "Alley          1369\n",
       "PoolQC         1453\n",
       "MiscFeature    1406\n",
       "Fence          1179\n",
       "FireplaceQu     690\n",
       "Utilities         0\n",
       "dtype: int64"
      ]
     },
     "execution_count": 51,
     "metadata": {},
     "output_type": "execute_result"
    }
   ],
   "source": [
    "df[cat_if].isnull().sum()"
   ]
  },
  {
   "cell_type": "code",
   "execution_count": 52,
   "id": "c0d723cf",
   "metadata": {},
   "outputs": [
    {
     "data": {
      "text/plain": [
       "2"
      ]
     },
     "execution_count": 52,
     "metadata": {},
     "output_type": "execute_result"
    }
   ],
   "source": [
    "df['Utilities'].nunique()"
   ]
  },
  {
   "cell_type": "code",
   "execution_count": 53,
   "id": "40923d78",
   "metadata": {},
   "outputs": [
    {
     "data": {
      "text/plain": [
       "array(['AllPub', 'NoSeWa'], dtype=object)"
      ]
     },
     "execution_count": 53,
     "metadata": {},
     "output_type": "execute_result"
    }
   ],
   "source": [
    "df['Utilities'].unique()"
   ]
  },
  {
   "cell_type": "code",
   "execution_count": null,
   "id": "e5dbc9eb",
   "metadata": {},
   "outputs": [],
   "source": []
  },
  {
   "cell_type": "markdown",
   "id": "6e16d24a",
   "metadata": {},
   "source": [
    "# 2. 회귀모델 머신러닝 확인하기 "
   ]
  },
  {
   "cell_type": "markdown",
   "id": "ffe92715",
   "metadata": {},
   "source": [
    "## AutoML 버전확인 "
   ]
  },
  {
   "cell_type": "code",
   "execution_count": 12,
   "id": "70c1e26b",
   "metadata": {},
   "outputs": [],
   "source": [
    "import pycaret"
   ]
  },
  {
   "cell_type": "code",
   "execution_count": 13,
   "id": "c13163c3",
   "metadata": {},
   "outputs": [
    {
     "data": {
      "text/plain": [
       "'3.0.0'"
      ]
     },
     "execution_count": 13,
     "metadata": {},
     "output_type": "execute_result"
    }
   ],
   "source": [
    "pycaret.__version__"
   ]
  },
  {
   "cell_type": "markdown",
   "id": "52e05563",
   "metadata": {},
   "source": [
    "## 회귀 모델 처리하기 "
   ]
  },
  {
   "cell_type": "code",
   "execution_count": 14,
   "id": "0ca045ee",
   "metadata": {},
   "outputs": [],
   "source": [
    "from pycaret.regression import *"
   ]
  },
  {
   "cell_type": "markdown",
   "id": "28c1c43a",
   "metadata": {},
   "source": [
    "## 데이터 세팅하기 \n",
    "\n",
    "- target = 'SalePrice' : 정답\n",
    "- categorical_features = cat_f : 범주형 데이터만 추출  \n",
    "- ignore_features= ['Alley','PoolQC','MiscFeature','Fence','FireplaceQu','Utilities'] : 제거 \n",
    "- normalize = True\n",
    "- session_id = 123"
   ]
  },
  {
   "cell_type": "code",
   "execution_count": 15,
   "id": "49aab101",
   "metadata": {},
   "outputs": [
    {
     "data": {
      "text/html": [
       "<style type=\"text/css\">\n",
       "#T_a0dc0_row12_col1, #T_a0dc0_row18_col1 {\n",
       "  background-color: lightgreen;\n",
       "}\n",
       "</style>\n",
       "<table id=\"T_a0dc0\">\n",
       "  <thead>\n",
       "    <tr>\n",
       "      <th class=\"blank level0\" >&nbsp;</th>\n",
       "      <th id=\"T_a0dc0_level0_col0\" class=\"col_heading level0 col0\" >Description</th>\n",
       "      <th id=\"T_a0dc0_level0_col1\" class=\"col_heading level0 col1\" >Value</th>\n",
       "    </tr>\n",
       "  </thead>\n",
       "  <tbody>\n",
       "    <tr>\n",
       "      <th id=\"T_a0dc0_level0_row0\" class=\"row_heading level0 row0\" >0</th>\n",
       "      <td id=\"T_a0dc0_row0_col0\" class=\"data row0 col0\" >Session id</td>\n",
       "      <td id=\"T_a0dc0_row0_col1\" class=\"data row0 col1\" >123</td>\n",
       "    </tr>\n",
       "    <tr>\n",
       "      <th id=\"T_a0dc0_level0_row1\" class=\"row_heading level0 row1\" >1</th>\n",
       "      <td id=\"T_a0dc0_row1_col0\" class=\"data row1 col0\" >Target</td>\n",
       "      <td id=\"T_a0dc0_row1_col1\" class=\"data row1 col1\" >SalePrice</td>\n",
       "    </tr>\n",
       "    <tr>\n",
       "      <th id=\"T_a0dc0_level0_row2\" class=\"row_heading level0 row2\" >2</th>\n",
       "      <td id=\"T_a0dc0_row2_col0\" class=\"data row2 col0\" >Target type</td>\n",
       "      <td id=\"T_a0dc0_row2_col1\" class=\"data row2 col1\" >Regression</td>\n",
       "    </tr>\n",
       "    <tr>\n",
       "      <th id=\"T_a0dc0_level0_row3\" class=\"row_heading level0 row3\" >3</th>\n",
       "      <td id=\"T_a0dc0_row3_col0\" class=\"data row3 col0\" >Original data shape</td>\n",
       "      <td id=\"T_a0dc0_row3_col1\" class=\"data row3 col1\" >(1460, 81)</td>\n",
       "    </tr>\n",
       "    <tr>\n",
       "      <th id=\"T_a0dc0_level0_row4\" class=\"row_heading level0 row4\" >4</th>\n",
       "      <td id=\"T_a0dc0_row4_col0\" class=\"data row4 col0\" >Transformed data shape</td>\n",
       "      <td id=\"T_a0dc0_row4_col1\" class=\"data row4 col1\" >(1460, 263)</td>\n",
       "    </tr>\n",
       "    <tr>\n",
       "      <th id=\"T_a0dc0_level0_row5\" class=\"row_heading level0 row5\" >5</th>\n",
       "      <td id=\"T_a0dc0_row5_col0\" class=\"data row5 col0\" >Transformed train set shape</td>\n",
       "      <td id=\"T_a0dc0_row5_col1\" class=\"data row5 col1\" >(1021, 263)</td>\n",
       "    </tr>\n",
       "    <tr>\n",
       "      <th id=\"T_a0dc0_level0_row6\" class=\"row_heading level0 row6\" >6</th>\n",
       "      <td id=\"T_a0dc0_row6_col0\" class=\"data row6 col0\" >Transformed test set shape</td>\n",
       "      <td id=\"T_a0dc0_row6_col1\" class=\"data row6 col1\" >(439, 263)</td>\n",
       "    </tr>\n",
       "    <tr>\n",
       "      <th id=\"T_a0dc0_level0_row7\" class=\"row_heading level0 row7\" >7</th>\n",
       "      <td id=\"T_a0dc0_row7_col0\" class=\"data row7 col0\" >Ignore features</td>\n",
       "      <td id=\"T_a0dc0_row7_col1\" class=\"data row7 col1\" >6</td>\n",
       "    </tr>\n",
       "    <tr>\n",
       "      <th id=\"T_a0dc0_level0_row8\" class=\"row_heading level0 row8\" >8</th>\n",
       "      <td id=\"T_a0dc0_row8_col0\" class=\"data row8 col0\" >Ordinal features</td>\n",
       "      <td id=\"T_a0dc0_row8_col1\" class=\"data row8 col1\" >2</td>\n",
       "    </tr>\n",
       "    <tr>\n",
       "      <th id=\"T_a0dc0_level0_row9\" class=\"row_heading level0 row9\" >9</th>\n",
       "      <td id=\"T_a0dc0_row9_col0\" class=\"data row9 col0\" >Numeric features</td>\n",
       "      <td id=\"T_a0dc0_row9_col1\" class=\"data row9 col1\" >37</td>\n",
       "    </tr>\n",
       "    <tr>\n",
       "      <th id=\"T_a0dc0_level0_row10\" class=\"row_heading level0 row10\" >10</th>\n",
       "      <td id=\"T_a0dc0_row10_col0\" class=\"data row10 col0\" >Categorical features</td>\n",
       "      <td id=\"T_a0dc0_row10_col1\" class=\"data row10 col1\" >37</td>\n",
       "    </tr>\n",
       "    <tr>\n",
       "      <th id=\"T_a0dc0_level0_row11\" class=\"row_heading level0 row11\" >11</th>\n",
       "      <td id=\"T_a0dc0_row11_col0\" class=\"data row11 col0\" >Rows with missing values</td>\n",
       "      <td id=\"T_a0dc0_row11_col1\" class=\"data row11 col1\" >100.0%</td>\n",
       "    </tr>\n",
       "    <tr>\n",
       "      <th id=\"T_a0dc0_level0_row12\" class=\"row_heading level0 row12\" >12</th>\n",
       "      <td id=\"T_a0dc0_row12_col0\" class=\"data row12 col0\" >Preprocess</td>\n",
       "      <td id=\"T_a0dc0_row12_col1\" class=\"data row12 col1\" >True</td>\n",
       "    </tr>\n",
       "    <tr>\n",
       "      <th id=\"T_a0dc0_level0_row13\" class=\"row_heading level0 row13\" >13</th>\n",
       "      <td id=\"T_a0dc0_row13_col0\" class=\"data row13 col0\" >Imputation type</td>\n",
       "      <td id=\"T_a0dc0_row13_col1\" class=\"data row13 col1\" >simple</td>\n",
       "    </tr>\n",
       "    <tr>\n",
       "      <th id=\"T_a0dc0_level0_row14\" class=\"row_heading level0 row14\" >14</th>\n",
       "      <td id=\"T_a0dc0_row14_col0\" class=\"data row14 col0\" >Numeric imputation</td>\n",
       "      <td id=\"T_a0dc0_row14_col1\" class=\"data row14 col1\" >mean</td>\n",
       "    </tr>\n",
       "    <tr>\n",
       "      <th id=\"T_a0dc0_level0_row15\" class=\"row_heading level0 row15\" >15</th>\n",
       "      <td id=\"T_a0dc0_row15_col0\" class=\"data row15 col0\" >Categorical imputation</td>\n",
       "      <td id=\"T_a0dc0_row15_col1\" class=\"data row15 col1\" >mode</td>\n",
       "    </tr>\n",
       "    <tr>\n",
       "      <th id=\"T_a0dc0_level0_row16\" class=\"row_heading level0 row16\" >16</th>\n",
       "      <td id=\"T_a0dc0_row16_col0\" class=\"data row16 col0\" >Maximum one-hot encoding</td>\n",
       "      <td id=\"T_a0dc0_row16_col1\" class=\"data row16 col1\" >25</td>\n",
       "    </tr>\n",
       "    <tr>\n",
       "      <th id=\"T_a0dc0_level0_row17\" class=\"row_heading level0 row17\" >17</th>\n",
       "      <td id=\"T_a0dc0_row17_col0\" class=\"data row17 col0\" >Encoding method</td>\n",
       "      <td id=\"T_a0dc0_row17_col1\" class=\"data row17 col1\" >None</td>\n",
       "    </tr>\n",
       "    <tr>\n",
       "      <th id=\"T_a0dc0_level0_row18\" class=\"row_heading level0 row18\" >18</th>\n",
       "      <td id=\"T_a0dc0_row18_col0\" class=\"data row18 col0\" >Normalize</td>\n",
       "      <td id=\"T_a0dc0_row18_col1\" class=\"data row18 col1\" >True</td>\n",
       "    </tr>\n",
       "    <tr>\n",
       "      <th id=\"T_a0dc0_level0_row19\" class=\"row_heading level0 row19\" >19</th>\n",
       "      <td id=\"T_a0dc0_row19_col0\" class=\"data row19 col0\" >Normalize method</td>\n",
       "      <td id=\"T_a0dc0_row19_col1\" class=\"data row19 col1\" >zscore</td>\n",
       "    </tr>\n",
       "    <tr>\n",
       "      <th id=\"T_a0dc0_level0_row20\" class=\"row_heading level0 row20\" >20</th>\n",
       "      <td id=\"T_a0dc0_row20_col0\" class=\"data row20 col0\" >Fold Generator</td>\n",
       "      <td id=\"T_a0dc0_row20_col1\" class=\"data row20 col1\" >KFold</td>\n",
       "    </tr>\n",
       "    <tr>\n",
       "      <th id=\"T_a0dc0_level0_row21\" class=\"row_heading level0 row21\" >21</th>\n",
       "      <td id=\"T_a0dc0_row21_col0\" class=\"data row21 col0\" >Fold Number</td>\n",
       "      <td id=\"T_a0dc0_row21_col1\" class=\"data row21 col1\" >10</td>\n",
       "    </tr>\n",
       "    <tr>\n",
       "      <th id=\"T_a0dc0_level0_row22\" class=\"row_heading level0 row22\" >22</th>\n",
       "      <td id=\"T_a0dc0_row22_col0\" class=\"data row22 col0\" >CPU Jobs</td>\n",
       "      <td id=\"T_a0dc0_row22_col1\" class=\"data row22 col1\" >-1</td>\n",
       "    </tr>\n",
       "    <tr>\n",
       "      <th id=\"T_a0dc0_level0_row23\" class=\"row_heading level0 row23\" >23</th>\n",
       "      <td id=\"T_a0dc0_row23_col0\" class=\"data row23 col0\" >Use GPU</td>\n",
       "      <td id=\"T_a0dc0_row23_col1\" class=\"data row23 col1\" >False</td>\n",
       "    </tr>\n",
       "    <tr>\n",
       "      <th id=\"T_a0dc0_level0_row24\" class=\"row_heading level0 row24\" >24</th>\n",
       "      <td id=\"T_a0dc0_row24_col0\" class=\"data row24 col0\" >Log Experiment</td>\n",
       "      <td id=\"T_a0dc0_row24_col1\" class=\"data row24 col1\" >False</td>\n",
       "    </tr>\n",
       "    <tr>\n",
       "      <th id=\"T_a0dc0_level0_row25\" class=\"row_heading level0 row25\" >25</th>\n",
       "      <td id=\"T_a0dc0_row25_col0\" class=\"data row25 col0\" >Experiment Name</td>\n",
       "      <td id=\"T_a0dc0_row25_col1\" class=\"data row25 col1\" >reg-default-name</td>\n",
       "    </tr>\n",
       "    <tr>\n",
       "      <th id=\"T_a0dc0_level0_row26\" class=\"row_heading level0 row26\" >26</th>\n",
       "      <td id=\"T_a0dc0_row26_col0\" class=\"data row26 col0\" >USI</td>\n",
       "      <td id=\"T_a0dc0_row26_col1\" class=\"data row26 col1\" >4477</td>\n",
       "    </tr>\n",
       "  </tbody>\n",
       "</table>\n"
      ],
      "text/plain": [
       "<pandas.io.formats.style.Styler at 0x161c8ce80>"
      ]
     },
     "metadata": {},
     "output_type": "display_data"
    }
   ],
   "source": [
    "exp_reg101 = setup(data = df, target = 'SalePrice', \n",
    "                   categorical_features = cat_f,\n",
    "                   ignore_features= ['Alley','PoolQC','MiscFeature',\n",
    "                                     'Fence','FireplaceQu','Utilities'],\n",
    "                   normalize = True,\n",
    "                   session_id = 123)"
   ]
  },
  {
   "cell_type": "markdown",
   "id": "6de08587",
   "metadata": {},
   "source": [
    "## 현재 제공하는 회귀 모델 확인하기 "
   ]
  },
  {
   "cell_type": "code",
   "execution_count": 54,
   "id": "ce2a1014",
   "metadata": {},
   "outputs": [],
   "source": [
    "df_md = models()"
   ]
  },
  {
   "cell_type": "code",
   "execution_count": null,
   "id": "e9d1e596",
   "metadata": {},
   "outputs": [],
   "source": []
  },
  {
   "cell_type": "code",
   "execution_count": 56,
   "id": "833d6985",
   "metadata": {},
   "outputs": [
    {
     "data": {
      "text/plain": [
       "Index(['Name', 'Reference', 'Turbo'], dtype='object')"
      ]
     },
     "execution_count": 56,
     "metadata": {},
     "output_type": "execute_result"
    }
   ],
   "source": [
    "df_md.columns"
   ]
  },
  {
   "cell_type": "code",
   "execution_count": 57,
   "id": "7346d23d",
   "metadata": {},
   "outputs": [
    {
     "data": {
      "text/plain": [
       "Index(['lr', 'lasso', 'ridge', 'en', 'lar', 'llar', 'omp', 'br', 'ard', 'par',\n",
       "       'ransac', 'tr', 'huber', 'kr', 'svm', 'knn', 'dt', 'rf', 'et', 'ada',\n",
       "       'gbr', 'mlp', 'xgboost', 'lightgbm', 'catboost', 'dummy'],\n",
       "      dtype='object', name='ID')"
      ]
     },
     "execution_count": 57,
     "metadata": {},
     "output_type": "execute_result"
    }
   ],
   "source": [
    "df_md.index"
   ]
  },
  {
   "cell_type": "code",
   "execution_count": 58,
   "id": "fd56328b",
   "metadata": {},
   "outputs": [
    {
     "data": {
      "text/plain": [
       "26"
      ]
     },
     "execution_count": 58,
     "metadata": {},
     "output_type": "execute_result"
    }
   ],
   "source": [
    "len(df_md.index)"
   ]
  },
  {
   "cell_type": "code",
   "execution_count": 59,
   "id": "53a541d8",
   "metadata": {},
   "outputs": [
    {
     "data": {
      "text/html": [
       "<div>\n",
       "<style scoped>\n",
       "    .dataframe tbody tr th:only-of-type {\n",
       "        vertical-align: middle;\n",
       "    }\n",
       "\n",
       "    .dataframe tbody tr th {\n",
       "        vertical-align: top;\n",
       "    }\n",
       "\n",
       "    .dataframe thead th {\n",
       "        text-align: right;\n",
       "    }\n",
       "</style>\n",
       "<table border=\"1\" class=\"dataframe\">\n",
       "  <thead>\n",
       "    <tr style=\"text-align: right;\">\n",
       "      <th></th>\n",
       "      <th>Name</th>\n",
       "      <th>Reference</th>\n",
       "    </tr>\n",
       "    <tr>\n",
       "      <th>ID</th>\n",
       "      <th></th>\n",
       "      <th></th>\n",
       "    </tr>\n",
       "  </thead>\n",
       "  <tbody>\n",
       "    <tr>\n",
       "      <th>lr</th>\n",
       "      <td>Linear Regression</td>\n",
       "      <td>sklearn.linear_model._base.LinearRegression</td>\n",
       "    </tr>\n",
       "    <tr>\n",
       "      <th>lasso</th>\n",
       "      <td>Lasso Regression</td>\n",
       "      <td>sklearn.linear_model._coordinate_descent.Lasso</td>\n",
       "    </tr>\n",
       "    <tr>\n",
       "      <th>ridge</th>\n",
       "      <td>Ridge Regression</td>\n",
       "      <td>sklearn.linear_model._ridge.Ridge</td>\n",
       "    </tr>\n",
       "    <tr>\n",
       "      <th>en</th>\n",
       "      <td>Elastic Net</td>\n",
       "      <td>sklearn.linear_model._coordinate_descent.Elast...</td>\n",
       "    </tr>\n",
       "    <tr>\n",
       "      <th>lar</th>\n",
       "      <td>Least Angle Regression</td>\n",
       "      <td>sklearn.linear_model._least_angle.Lars</td>\n",
       "    </tr>\n",
       "    <tr>\n",
       "      <th>llar</th>\n",
       "      <td>Lasso Least Angle Regression</td>\n",
       "      <td>sklearn.linear_model._least_angle.LassoLars</td>\n",
       "    </tr>\n",
       "    <tr>\n",
       "      <th>omp</th>\n",
       "      <td>Orthogonal Matching Pursuit</td>\n",
       "      <td>sklearn.linear_model._omp.OrthogonalMatchingPu...</td>\n",
       "    </tr>\n",
       "    <tr>\n",
       "      <th>br</th>\n",
       "      <td>Bayesian Ridge</td>\n",
       "      <td>sklearn.linear_model._bayes.BayesianRidge</td>\n",
       "    </tr>\n",
       "    <tr>\n",
       "      <th>ard</th>\n",
       "      <td>Automatic Relevance Determination</td>\n",
       "      <td>sklearn.linear_model._bayes.ARDRegression</td>\n",
       "    </tr>\n",
       "    <tr>\n",
       "      <th>par</th>\n",
       "      <td>Passive Aggressive Regressor</td>\n",
       "      <td>sklearn.linear_model._passive_aggressive.Passi...</td>\n",
       "    </tr>\n",
       "    <tr>\n",
       "      <th>ransac</th>\n",
       "      <td>Random Sample Consensus</td>\n",
       "      <td>sklearn.linear_model._ransac.RANSACRegressor</td>\n",
       "    </tr>\n",
       "    <tr>\n",
       "      <th>tr</th>\n",
       "      <td>TheilSen Regressor</td>\n",
       "      <td>sklearn.linear_model._theil_sen.TheilSenRegressor</td>\n",
       "    </tr>\n",
       "    <tr>\n",
       "      <th>huber</th>\n",
       "      <td>Huber Regressor</td>\n",
       "      <td>sklearn.linear_model._huber.HuberRegressor</td>\n",
       "    </tr>\n",
       "    <tr>\n",
       "      <th>kr</th>\n",
       "      <td>Kernel Ridge</td>\n",
       "      <td>sklearn.kernel_ridge.KernelRidge</td>\n",
       "    </tr>\n",
       "    <tr>\n",
       "      <th>svm</th>\n",
       "      <td>Support Vector Regression</td>\n",
       "      <td>sklearn.svm._classes.SVR</td>\n",
       "    </tr>\n",
       "    <tr>\n",
       "      <th>knn</th>\n",
       "      <td>K Neighbors Regressor</td>\n",
       "      <td>sklearn.neighbors._regression.KNeighborsRegressor</td>\n",
       "    </tr>\n",
       "    <tr>\n",
       "      <th>dt</th>\n",
       "      <td>Decision Tree Regressor</td>\n",
       "      <td>sklearn.tree._classes.DecisionTreeRegressor</td>\n",
       "    </tr>\n",
       "    <tr>\n",
       "      <th>rf</th>\n",
       "      <td>Random Forest Regressor</td>\n",
       "      <td>sklearn.ensemble._forest.RandomForestRegressor</td>\n",
       "    </tr>\n",
       "    <tr>\n",
       "      <th>et</th>\n",
       "      <td>Extra Trees Regressor</td>\n",
       "      <td>sklearn.ensemble._forest.ExtraTreesRegressor</td>\n",
       "    </tr>\n",
       "    <tr>\n",
       "      <th>ada</th>\n",
       "      <td>AdaBoost Regressor</td>\n",
       "      <td>sklearn.ensemble._weight_boosting.AdaBoostRegr...</td>\n",
       "    </tr>\n",
       "    <tr>\n",
       "      <th>gbr</th>\n",
       "      <td>Gradient Boosting Regressor</td>\n",
       "      <td>sklearn.ensemble._gb.GradientBoostingRegressor</td>\n",
       "    </tr>\n",
       "    <tr>\n",
       "      <th>mlp</th>\n",
       "      <td>MLP Regressor</td>\n",
       "      <td>sklearn.neural_network._multilayer_perceptron....</td>\n",
       "    </tr>\n",
       "    <tr>\n",
       "      <th>xgboost</th>\n",
       "      <td>Extreme Gradient Boosting</td>\n",
       "      <td>xgboost.sklearn.XGBRegressor</td>\n",
       "    </tr>\n",
       "    <tr>\n",
       "      <th>lightgbm</th>\n",
       "      <td>Light Gradient Boosting Machine</td>\n",
       "      <td>lightgbm.sklearn.LGBMRegressor</td>\n",
       "    </tr>\n",
       "    <tr>\n",
       "      <th>catboost</th>\n",
       "      <td>CatBoost Regressor</td>\n",
       "      <td>catboost.core.CatBoostRegressor</td>\n",
       "    </tr>\n",
       "    <tr>\n",
       "      <th>dummy</th>\n",
       "      <td>Dummy Regressor</td>\n",
       "      <td>sklearn.dummy.DummyRegressor</td>\n",
       "    </tr>\n",
       "  </tbody>\n",
       "</table>\n",
       "</div>"
      ],
      "text/plain": [
       "                                       Name  \\\n",
       "ID                                            \n",
       "lr                        Linear Regression   \n",
       "lasso                      Lasso Regression   \n",
       "ridge                      Ridge Regression   \n",
       "en                              Elastic Net   \n",
       "lar                  Least Angle Regression   \n",
       "llar           Lasso Least Angle Regression   \n",
       "omp             Orthogonal Matching Pursuit   \n",
       "br                           Bayesian Ridge   \n",
       "ard       Automatic Relevance Determination   \n",
       "par            Passive Aggressive Regressor   \n",
       "ransac              Random Sample Consensus   \n",
       "tr                       TheilSen Regressor   \n",
       "huber                       Huber Regressor   \n",
       "kr                             Kernel Ridge   \n",
       "svm               Support Vector Regression   \n",
       "knn                   K Neighbors Regressor   \n",
       "dt                  Decision Tree Regressor   \n",
       "rf                  Random Forest Regressor   \n",
       "et                    Extra Trees Regressor   \n",
       "ada                      AdaBoost Regressor   \n",
       "gbr             Gradient Boosting Regressor   \n",
       "mlp                           MLP Regressor   \n",
       "xgboost           Extreme Gradient Boosting   \n",
       "lightgbm    Light Gradient Boosting Machine   \n",
       "catboost                 CatBoost Regressor   \n",
       "dummy                       Dummy Regressor   \n",
       "\n",
       "                                                  Reference  \n",
       "ID                                                           \n",
       "lr              sklearn.linear_model._base.LinearRegression  \n",
       "lasso        sklearn.linear_model._coordinate_descent.Lasso  \n",
       "ridge                     sklearn.linear_model._ridge.Ridge  \n",
       "en        sklearn.linear_model._coordinate_descent.Elast...  \n",
       "lar                  sklearn.linear_model._least_angle.Lars  \n",
       "llar            sklearn.linear_model._least_angle.LassoLars  \n",
       "omp       sklearn.linear_model._omp.OrthogonalMatchingPu...  \n",
       "br                sklearn.linear_model._bayes.BayesianRidge  \n",
       "ard               sklearn.linear_model._bayes.ARDRegression  \n",
       "par       sklearn.linear_model._passive_aggressive.Passi...  \n",
       "ransac         sklearn.linear_model._ransac.RANSACRegressor  \n",
       "tr        sklearn.linear_model._theil_sen.TheilSenRegressor  \n",
       "huber            sklearn.linear_model._huber.HuberRegressor  \n",
       "kr                         sklearn.kernel_ridge.KernelRidge  \n",
       "svm                                sklearn.svm._classes.SVR  \n",
       "knn       sklearn.neighbors._regression.KNeighborsRegressor  \n",
       "dt              sklearn.tree._classes.DecisionTreeRegressor  \n",
       "rf           sklearn.ensemble._forest.RandomForestRegressor  \n",
       "et             sklearn.ensemble._forest.ExtraTreesRegressor  \n",
       "ada       sklearn.ensemble._weight_boosting.AdaBoostRegr...  \n",
       "gbr          sklearn.ensemble._gb.GradientBoostingRegressor  \n",
       "mlp       sklearn.neural_network._multilayer_perceptron....  \n",
       "xgboost                        xgboost.sklearn.XGBRegressor  \n",
       "lightgbm                     lightgbm.sklearn.LGBMRegressor  \n",
       "catboost                    catboost.core.CatBoostRegressor  \n",
       "dummy                          sklearn.dummy.DummyRegressor  "
      ]
     },
     "execution_count": 59,
     "metadata": {},
     "output_type": "execute_result"
    }
   ],
   "source": [
    "df_md[['Name', 'Reference']]"
   ]
  },
  {
   "cell_type": "code",
   "execution_count": null,
   "id": "58fe31a9",
   "metadata": {},
   "outputs": [],
   "source": []
  },
  {
   "cell_type": "code",
   "execution_count": 72,
   "id": "dc577a8d",
   "metadata": {},
   "outputs": [],
   "source": [
    "from sklearn.linear_model import (LinearRegression, \n",
    "                                  Lasso, \n",
    "                                  Ridge, \n",
    "                                  TheilSenRegressor,\n",
    "                                  Lars, \n",
    "                                  LassoLars,\n",
    "                                  BayesianRidge, \n",
    "                                  PassiveAggressiveRegressor, \n",
    "                                  RANSACRegressor, \n",
    "                                  HuberRegressor, \n",
    "                                  TheilSenRegressor,\n",
    "                                  ElasticNet)"
   ]
  },
  {
   "cell_type": "code",
   "execution_count": 73,
   "id": "d4b72068",
   "metadata": {},
   "outputs": [],
   "source": [
    "from sklearn.ensemble import (RandomForestRegressor,\n",
    "                              ExtraTreesRegressor,\n",
    "                              AdaBoostRegressor)"
   ]
  },
  {
   "cell_type": "code",
   "execution_count": null,
   "id": "b98b7cf7",
   "metadata": {},
   "outputs": [],
   "source": []
  },
  {
   "cell_type": "markdown",
   "id": "337f88db",
   "metadata": {},
   "source": [
    "## 여러 모델 성능 비교하기 "
   ]
  },
  {
   "cell_type": "code",
   "execution_count": 75,
   "id": "cc5cb590",
   "metadata": {},
   "outputs": [
    {
     "data": {
      "text/html": [],
      "text/plain": [
       "<IPython.core.display.HTML object>"
      ]
     },
     "metadata": {},
     "output_type": "display_data"
    },
    {
     "data": {
      "text/html": [
       "<style type=\"text/css\">\n",
       "#T_b0ac2 th {\n",
       "  text-align: left;\n",
       "}\n",
       "#T_b0ac2_row0_col0, #T_b0ac2_row1_col0, #T_b0ac2_row1_col1, #T_b0ac2_row1_col2, #T_b0ac2_row1_col3, #T_b0ac2_row1_col4, #T_b0ac2_row1_col5, #T_b0ac2_row1_col6, #T_b0ac2_row2_col0, #T_b0ac2_row2_col1, #T_b0ac2_row2_col2, #T_b0ac2_row2_col3, #T_b0ac2_row2_col4, #T_b0ac2_row2_col5, #T_b0ac2_row2_col6, #T_b0ac2_row3_col0, #T_b0ac2_row3_col1, #T_b0ac2_row3_col2, #T_b0ac2_row3_col3, #T_b0ac2_row3_col4, #T_b0ac2_row3_col5, #T_b0ac2_row3_col6, #T_b0ac2_row4_col0, #T_b0ac2_row4_col1, #T_b0ac2_row4_col2, #T_b0ac2_row4_col3, #T_b0ac2_row4_col4, #T_b0ac2_row4_col5, #T_b0ac2_row4_col6, #T_b0ac2_row5_col0, #T_b0ac2_row5_col1, #T_b0ac2_row5_col2, #T_b0ac2_row5_col3, #T_b0ac2_row5_col4, #T_b0ac2_row5_col5, #T_b0ac2_row5_col6, #T_b0ac2_row6_col0, #T_b0ac2_row6_col1, #T_b0ac2_row6_col2, #T_b0ac2_row6_col3, #T_b0ac2_row6_col4, #T_b0ac2_row6_col5, #T_b0ac2_row6_col6, #T_b0ac2_row7_col0, #T_b0ac2_row7_col1, #T_b0ac2_row7_col2, #T_b0ac2_row7_col3, #T_b0ac2_row7_col4, #T_b0ac2_row7_col5, #T_b0ac2_row7_col6, #T_b0ac2_row8_col0, #T_b0ac2_row8_col1, #T_b0ac2_row8_col2, #T_b0ac2_row8_col3, #T_b0ac2_row8_col4, #T_b0ac2_row8_col5, #T_b0ac2_row8_col6, #T_b0ac2_row9_col0, #T_b0ac2_row9_col1, #T_b0ac2_row9_col2, #T_b0ac2_row9_col3, #T_b0ac2_row9_col4, #T_b0ac2_row9_col5, #T_b0ac2_row9_col6, #T_b0ac2_row10_col0, #T_b0ac2_row10_col1, #T_b0ac2_row10_col2, #T_b0ac2_row10_col3, #T_b0ac2_row10_col4, #T_b0ac2_row10_col5, #T_b0ac2_row10_col6, #T_b0ac2_row11_col0, #T_b0ac2_row11_col1, #T_b0ac2_row11_col2, #T_b0ac2_row11_col3, #T_b0ac2_row11_col4, #T_b0ac2_row11_col5, #T_b0ac2_row11_col6, #T_b0ac2_row12_col0, #T_b0ac2_row12_col1, #T_b0ac2_row12_col2, #T_b0ac2_row12_col3, #T_b0ac2_row12_col4, #T_b0ac2_row12_col5, #T_b0ac2_row12_col6, #T_b0ac2_row13_col0, #T_b0ac2_row13_col1, #T_b0ac2_row13_col2, #T_b0ac2_row13_col3, #T_b0ac2_row13_col4, #T_b0ac2_row13_col5, #T_b0ac2_row13_col6, #T_b0ac2_row14_col0, #T_b0ac2_row14_col1, #T_b0ac2_row14_col2, #T_b0ac2_row14_col3, #T_b0ac2_row14_col4, #T_b0ac2_row14_col5, #T_b0ac2_row14_col6, #T_b0ac2_row15_col0, #T_b0ac2_row15_col1, #T_b0ac2_row15_col2, #T_b0ac2_row15_col3, #T_b0ac2_row15_col4, #T_b0ac2_row15_col5, #T_b0ac2_row15_col6, #T_b0ac2_row16_col0, #T_b0ac2_row16_col1, #T_b0ac2_row16_col2, #T_b0ac2_row16_col3, #T_b0ac2_row16_col4, #T_b0ac2_row16_col5, #T_b0ac2_row16_col6, #T_b0ac2_row17_col0, #T_b0ac2_row17_col1, #T_b0ac2_row17_col2, #T_b0ac2_row17_col3, #T_b0ac2_row17_col4, #T_b0ac2_row17_col5, #T_b0ac2_row17_col6, #T_b0ac2_row18_col0, #T_b0ac2_row18_col1, #T_b0ac2_row18_col2, #T_b0ac2_row18_col3, #T_b0ac2_row18_col4, #T_b0ac2_row18_col5, #T_b0ac2_row18_col6, #T_b0ac2_row19_col0, #T_b0ac2_row19_col1, #T_b0ac2_row19_col2, #T_b0ac2_row19_col3, #T_b0ac2_row19_col4, #T_b0ac2_row19_col5, #T_b0ac2_row19_col6 {\n",
       "  text-align: left;\n",
       "}\n",
       "#T_b0ac2_row0_col1, #T_b0ac2_row0_col2, #T_b0ac2_row0_col3, #T_b0ac2_row0_col4, #T_b0ac2_row0_col5, #T_b0ac2_row0_col6 {\n",
       "  text-align: left;\n",
       "  background-color: yellow;\n",
       "}\n",
       "#T_b0ac2_row0_col7, #T_b0ac2_row1_col7, #T_b0ac2_row2_col7, #T_b0ac2_row3_col7, #T_b0ac2_row4_col7, #T_b0ac2_row5_col7, #T_b0ac2_row6_col7, #T_b0ac2_row7_col7, #T_b0ac2_row8_col7, #T_b0ac2_row9_col7, #T_b0ac2_row10_col7, #T_b0ac2_row11_col7, #T_b0ac2_row12_col7, #T_b0ac2_row13_col7, #T_b0ac2_row14_col7, #T_b0ac2_row15_col7, #T_b0ac2_row16_col7, #T_b0ac2_row18_col7, #T_b0ac2_row19_col7 {\n",
       "  text-align: left;\n",
       "  background-color: lightgrey;\n",
       "}\n",
       "#T_b0ac2_row17_col7 {\n",
       "  text-align: left;\n",
       "  background-color: yellow;\n",
       "  background-color: lightgrey;\n",
       "}\n",
       "</style>\n",
       "<table id=\"T_b0ac2\">\n",
       "  <thead>\n",
       "    <tr>\n",
       "      <th class=\"blank level0\" >&nbsp;</th>\n",
       "      <th id=\"T_b0ac2_level0_col0\" class=\"col_heading level0 col0\" >Model</th>\n",
       "      <th id=\"T_b0ac2_level0_col1\" class=\"col_heading level0 col1\" >MAE</th>\n",
       "      <th id=\"T_b0ac2_level0_col2\" class=\"col_heading level0 col2\" >MSE</th>\n",
       "      <th id=\"T_b0ac2_level0_col3\" class=\"col_heading level0 col3\" >RMSE</th>\n",
       "      <th id=\"T_b0ac2_level0_col4\" class=\"col_heading level0 col4\" >R2</th>\n",
       "      <th id=\"T_b0ac2_level0_col5\" class=\"col_heading level0 col5\" >RMSLE</th>\n",
       "      <th id=\"T_b0ac2_level0_col6\" class=\"col_heading level0 col6\" >MAPE</th>\n",
       "      <th id=\"T_b0ac2_level0_col7\" class=\"col_heading level0 col7\" >TT (Sec)</th>\n",
       "    </tr>\n",
       "  </thead>\n",
       "  <tbody>\n",
       "    <tr>\n",
       "      <th id=\"T_b0ac2_level0_row0\" class=\"row_heading level0 row0\" >catboost</th>\n",
       "      <td id=\"T_b0ac2_row0_col0\" class=\"data row0 col0\" >CatBoost Regressor</td>\n",
       "      <td id=\"T_b0ac2_row0_col1\" class=\"data row0 col1\" >15620.2833</td>\n",
       "      <td id=\"T_b0ac2_row0_col2\" class=\"data row0 col2\" >834265771.3367</td>\n",
       "      <td id=\"T_b0ac2_row0_col3\" class=\"data row0 col3\" >27789.4853</td>\n",
       "      <td id=\"T_b0ac2_row0_col4\" class=\"data row0 col4\" >0.8783</td>\n",
       "      <td id=\"T_b0ac2_row0_col5\" class=\"data row0 col5\" >0.1292</td>\n",
       "      <td id=\"T_b0ac2_row0_col6\" class=\"data row0 col6\" >0.0901</td>\n",
       "      <td id=\"T_b0ac2_row0_col7\" class=\"data row0 col7\" >0.5050</td>\n",
       "    </tr>\n",
       "    <tr>\n",
       "      <th id=\"T_b0ac2_level0_row1\" class=\"row_heading level0 row1\" >gbr</th>\n",
       "      <td id=\"T_b0ac2_row1_col0\" class=\"data row1 col0\" >Gradient Boosting Regressor</td>\n",
       "      <td id=\"T_b0ac2_row1_col1\" class=\"data row1 col1\" >17242.5199</td>\n",
       "      <td id=\"T_b0ac2_row1_col2\" class=\"data row1 col2\" >856798302.8345</td>\n",
       "      <td id=\"T_b0ac2_row1_col3\" class=\"data row1 col3\" >28402.9232</td>\n",
       "      <td id=\"T_b0ac2_row1_col4\" class=\"data row1 col4\" >0.8718</td>\n",
       "      <td id=\"T_b0ac2_row1_col5\" class=\"data row1 col5\" >0.1375</td>\n",
       "      <td id=\"T_b0ac2_row1_col6\" class=\"data row1 col6\" >0.0998</td>\n",
       "      <td id=\"T_b0ac2_row1_col7\" class=\"data row1 col7\" >0.3970</td>\n",
       "    </tr>\n",
       "    <tr>\n",
       "      <th id=\"T_b0ac2_level0_row2\" class=\"row_heading level0 row2\" >lightgbm</th>\n",
       "      <td id=\"T_b0ac2_row2_col0\" class=\"data row2 col0\" >Light Gradient Boosting Machine</td>\n",
       "      <td id=\"T_b0ac2_row2_col1\" class=\"data row2 col1\" >17683.7076</td>\n",
       "      <td id=\"T_b0ac2_row2_col2\" class=\"data row2 col2\" >1007854246.5697</td>\n",
       "      <td id=\"T_b0ac2_row2_col3\" class=\"data row2 col3\" >30819.4442</td>\n",
       "      <td id=\"T_b0ac2_row2_col4\" class=\"data row2 col4\" >0.8502</td>\n",
       "      <td id=\"T_b0ac2_row2_col5\" class=\"data row2 col5\" >0.1455</td>\n",
       "      <td id=\"T_b0ac2_row2_col6\" class=\"data row2 col6\" >0.1025</td>\n",
       "      <td id=\"T_b0ac2_row2_col7\" class=\"data row2 col7\" >0.4910</td>\n",
       "    </tr>\n",
       "    <tr>\n",
       "      <th id=\"T_b0ac2_level0_row3\" class=\"row_heading level0 row3\" >xgboost</th>\n",
       "      <td id=\"T_b0ac2_row3_col0\" class=\"data row3 col0\" >Extreme Gradient Boosting</td>\n",
       "      <td id=\"T_b0ac2_row3_col1\" class=\"data row3 col1\" >18601.9995</td>\n",
       "      <td id=\"T_b0ac2_row3_col2\" class=\"data row3 col2\" >1119037035.9888</td>\n",
       "      <td id=\"T_b0ac2_row3_col3\" class=\"data row3 col3\" >31335.9088</td>\n",
       "      <td id=\"T_b0ac2_row3_col4\" class=\"data row3 col4\" >0.8417</td>\n",
       "      <td id=\"T_b0ac2_row3_col5\" class=\"data row3 col5\" >0.1516</td>\n",
       "      <td id=\"T_b0ac2_row3_col6\" class=\"data row3 col6\" >0.1088</td>\n",
       "      <td id=\"T_b0ac2_row3_col7\" class=\"data row3 col7\" >0.3940</td>\n",
       "    </tr>\n",
       "    <tr>\n",
       "      <th id=\"T_b0ac2_level0_row4\" class=\"row_heading level0 row4\" >rf</th>\n",
       "      <td id=\"T_b0ac2_row4_col0\" class=\"data row4 col0\" >Random Forest Regressor</td>\n",
       "      <td id=\"T_b0ac2_row4_col1\" class=\"data row4 col1\" >19022.1086</td>\n",
       "      <td id=\"T_b0ac2_row4_col2\" class=\"data row4 col2\" >1110134015.6217</td>\n",
       "      <td id=\"T_b0ac2_row4_col3\" class=\"data row4 col3\" >32354.6791</td>\n",
       "      <td id=\"T_b0ac2_row4_col4\" class=\"data row4 col4\" >0.8355</td>\n",
       "      <td id=\"T_b0ac2_row4_col5\" class=\"data row4 col5\" >0.1543</td>\n",
       "      <td id=\"T_b0ac2_row4_col6\" class=\"data row4 col6\" >0.1113</td>\n",
       "      <td id=\"T_b0ac2_row4_col7\" class=\"data row4 col7\" >0.3730</td>\n",
       "    </tr>\n",
       "    <tr>\n",
       "      <th id=\"T_b0ac2_level0_row5\" class=\"row_heading level0 row5\" >et</th>\n",
       "      <td id=\"T_b0ac2_row5_col0\" class=\"data row5 col0\" >Extra Trees Regressor</td>\n",
       "      <td id=\"T_b0ac2_row5_col1\" class=\"data row5 col1\" >19119.8387</td>\n",
       "      <td id=\"T_b0ac2_row5_col2\" class=\"data row5 col2\" >1186449454.6075</td>\n",
       "      <td id=\"T_b0ac2_row5_col3\" class=\"data row5 col3\" >33148.2505</td>\n",
       "      <td id=\"T_b0ac2_row5_col4\" class=\"data row5 col4\" >0.8289</td>\n",
       "      <td id=\"T_b0ac2_row5_col5\" class=\"data row5 col5\" >0.1531</td>\n",
       "      <td id=\"T_b0ac2_row5_col6\" class=\"data row5 col6\" >0.1111</td>\n",
       "      <td id=\"T_b0ac2_row5_col7\" class=\"data row5 col7\" >0.4300</td>\n",
       "    </tr>\n",
       "    <tr>\n",
       "      <th id=\"T_b0ac2_level0_row6\" class=\"row_heading level0 row6\" >en</th>\n",
       "      <td id=\"T_b0ac2_row6_col0\" class=\"data row6 col0\" >Elastic Net</td>\n",
       "      <td id=\"T_b0ac2_row6_col1\" class=\"data row6 col1\" >18341.4667</td>\n",
       "      <td id=\"T_b0ac2_row6_col2\" class=\"data row6 col2\" >1274193888.8387</td>\n",
       "      <td id=\"T_b0ac2_row6_col3\" class=\"data row6 col3\" >33702.1803</td>\n",
       "      <td id=\"T_b0ac2_row6_col4\" class=\"data row6 col4\" >0.8102</td>\n",
       "      <td id=\"T_b0ac2_row6_col5\" class=\"data row6 col5\" >0.1495</td>\n",
       "      <td id=\"T_b0ac2_row6_col6\" class=\"data row6 col6\" >0.1051</td>\n",
       "      <td id=\"T_b0ac2_row6_col7\" class=\"data row6 col7\" >0.3790</td>\n",
       "    </tr>\n",
       "    <tr>\n",
       "      <th id=\"T_b0ac2_level0_row7\" class=\"row_heading level0 row7\" >ada</th>\n",
       "      <td id=\"T_b0ac2_row7_col0\" class=\"data row7 col0\" >AdaBoost Regressor</td>\n",
       "      <td id=\"T_b0ac2_row7_col1\" class=\"data row7 col1\" >25675.4247</td>\n",
       "      <td id=\"T_b0ac2_row7_col2\" class=\"data row7 col2\" >1384653021.3860</td>\n",
       "      <td id=\"T_b0ac2_row7_col3\" class=\"data row7 col3\" >36567.5742</td>\n",
       "      <td id=\"T_b0ac2_row7_col4\" class=\"data row7 col4\" >0.7930</td>\n",
       "      <td id=\"T_b0ac2_row7_col5\" class=\"data row7 col5\" >0.2054</td>\n",
       "      <td id=\"T_b0ac2_row7_col6\" class=\"data row7 col6\" >0.1677</td>\n",
       "      <td id=\"T_b0ac2_row7_col7\" class=\"data row7 col7\" >0.4210</td>\n",
       "    </tr>\n",
       "    <tr>\n",
       "      <th id=\"T_b0ac2_level0_row8\" class=\"row_heading level0 row8\" >par</th>\n",
       "      <td id=\"T_b0ac2_row8_col0\" class=\"data row8 col0\" >Passive Aggressive Regressor</td>\n",
       "      <td id=\"T_b0ac2_row8_col1\" class=\"data row8 col1\" >17961.5193</td>\n",
       "      <td id=\"T_b0ac2_row8_col2\" class=\"data row8 col2\" >1393334324.9563</td>\n",
       "      <td id=\"T_b0ac2_row8_col3\" class=\"data row8 col3\" >34570.7230</td>\n",
       "      <td id=\"T_b0ac2_row8_col4\" class=\"data row8 col4\" >0.7877</td>\n",
       "      <td id=\"T_b0ac2_row8_col5\" class=\"data row8 col5\" >0.1897</td>\n",
       "      <td id=\"T_b0ac2_row8_col6\" class=\"data row8 col6\" >0.1069</td>\n",
       "      <td id=\"T_b0ac2_row8_col7\" class=\"data row8 col7\" >0.3800</td>\n",
       "    </tr>\n",
       "    <tr>\n",
       "      <th id=\"T_b0ac2_level0_row9\" class=\"row_heading level0 row9\" >llar</th>\n",
       "      <td id=\"T_b0ac2_row9_col0\" class=\"data row9 col0\" >Lasso Least Angle Regression</td>\n",
       "      <td id=\"T_b0ac2_row9_col1\" class=\"data row9 col1\" >18451.1457</td>\n",
       "      <td id=\"T_b0ac2_row9_col2\" class=\"data row9 col2\" >1440719503.1413</td>\n",
       "      <td id=\"T_b0ac2_row9_col3\" class=\"data row9 col3\" >34837.8055</td>\n",
       "      <td id=\"T_b0ac2_row9_col4\" class=\"data row9 col4\" >0.7794</td>\n",
       "      <td id=\"T_b0ac2_row9_col5\" class=\"data row9 col5\" >0.1964</td>\n",
       "      <td id=\"T_b0ac2_row9_col6\" class=\"data row9 col6\" >0.1118</td>\n",
       "      <td id=\"T_b0ac2_row9_col7\" class=\"data row9 col7\" >0.3760</td>\n",
       "    </tr>\n",
       "    <tr>\n",
       "      <th id=\"T_b0ac2_level0_row10\" class=\"row_heading level0 row10\" >br</th>\n",
       "      <td id=\"T_b0ac2_row10_col0\" class=\"data row10 col0\" >Bayesian Ridge</td>\n",
       "      <td id=\"T_b0ac2_row10_col1\" class=\"data row10 col1\" >18989.6560</td>\n",
       "      <td id=\"T_b0ac2_row10_col2\" class=\"data row10 col2\" >1442752130.3196</td>\n",
       "      <td id=\"T_b0ac2_row10_col3\" class=\"data row10 col3\" >35201.9564</td>\n",
       "      <td id=\"T_b0ac2_row10_col4\" class=\"data row10 col4\" >0.7790</td>\n",
       "      <td id=\"T_b0ac2_row10_col5\" class=\"data row10 col5\" >0.1915</td>\n",
       "      <td id=\"T_b0ac2_row10_col6\" class=\"data row10 col6\" >0.1138</td>\n",
       "      <td id=\"T_b0ac2_row10_col7\" class=\"data row10 col7\" >0.3820</td>\n",
       "    </tr>\n",
       "    <tr>\n",
       "      <th id=\"T_b0ac2_level0_row11\" class=\"row_heading level0 row11\" >omp</th>\n",
       "      <td id=\"T_b0ac2_row11_col0\" class=\"data row11 col0\" >Orthogonal Matching Pursuit</td>\n",
       "      <td id=\"T_b0ac2_row11_col1\" class=\"data row11 col1\" >19416.0414</td>\n",
       "      <td id=\"T_b0ac2_row11_col2\" class=\"data row11 col2\" >1453096780.0555</td>\n",
       "      <td id=\"T_b0ac2_row11_col3\" class=\"data row11 col3\" >35566.9594</td>\n",
       "      <td id=\"T_b0ac2_row11_col4\" class=\"data row11 col4\" >0.7760</td>\n",
       "      <td id=\"T_b0ac2_row11_col5\" class=\"data row11 col5\" >0.1896</td>\n",
       "      <td id=\"T_b0ac2_row11_col6\" class=\"data row11 col6\" >0.1169</td>\n",
       "      <td id=\"T_b0ac2_row11_col7\" class=\"data row11 col7\" >0.3810</td>\n",
       "    </tr>\n",
       "    <tr>\n",
       "      <th id=\"T_b0ac2_level0_row12\" class=\"row_heading level0 row12\" >huber</th>\n",
       "      <td id=\"T_b0ac2_row12_col0\" class=\"data row12 col0\" >Huber Regressor</td>\n",
       "      <td id=\"T_b0ac2_row12_col1\" class=\"data row12 col1\" >18452.9686</td>\n",
       "      <td id=\"T_b0ac2_row12_col2\" class=\"data row12 col2\" >1465191666.0584</td>\n",
       "      <td id=\"T_b0ac2_row12_col3\" class=\"data row12 col3\" >35264.1832</td>\n",
       "      <td id=\"T_b0ac2_row12_col4\" class=\"data row12 col4\" >0.7755</td>\n",
       "      <td id=\"T_b0ac2_row12_col5\" class=\"data row12 col5\" >0.1867</td>\n",
       "      <td id=\"T_b0ac2_row12_col6\" class=\"data row12 col6\" >0.1127</td>\n",
       "      <td id=\"T_b0ac2_row12_col7\" class=\"data row12 col7\" >0.3700</td>\n",
       "    </tr>\n",
       "    <tr>\n",
       "      <th id=\"T_b0ac2_level0_row13\" class=\"row_heading level0 row13\" >ridge</th>\n",
       "      <td id=\"T_b0ac2_row13_col0\" class=\"data row13 col0\" >Ridge Regression</td>\n",
       "      <td id=\"T_b0ac2_row13_col1\" class=\"data row13 col1\" >20123.6324</td>\n",
       "      <td id=\"T_b0ac2_row13_col2\" class=\"data row13 col2\" >1612475795.3755</td>\n",
       "      <td id=\"T_b0ac2_row13_col3\" class=\"data row13 col3\" >37001.9088</td>\n",
       "      <td id=\"T_b0ac2_row13_col4\" class=\"data row13 col4\" >0.7507</td>\n",
       "      <td id=\"T_b0ac2_row13_col5\" class=\"data row13 col5\" >0.2004</td>\n",
       "      <td id=\"T_b0ac2_row13_col6\" class=\"data row13 col6\" >0.1243</td>\n",
       "      <td id=\"T_b0ac2_row13_col7\" class=\"data row13 col7\" >0.3700</td>\n",
       "    </tr>\n",
       "    <tr>\n",
       "      <th id=\"T_b0ac2_level0_row14\" class=\"row_heading level0 row14\" >lasso</th>\n",
       "      <td id=\"T_b0ac2_row14_col0\" class=\"data row14 col0\" >Lasso Regression</td>\n",
       "      <td id=\"T_b0ac2_row14_col1\" class=\"data row14 col1\" >20177.4657</td>\n",
       "      <td id=\"T_b0ac2_row14_col2\" class=\"data row14 col2\" >1618834465.3062</td>\n",
       "      <td id=\"T_b0ac2_row14_col3\" class=\"data row14 col3\" >37048.6248</td>\n",
       "      <td id=\"T_b0ac2_row14_col4\" class=\"data row14 col4\" >0.7498</td>\n",
       "      <td id=\"T_b0ac2_row14_col5\" class=\"data row14 col5\" >0.2019</td>\n",
       "      <td id=\"T_b0ac2_row14_col6\" class=\"data row14 col6\" >0.1251</td>\n",
       "      <td id=\"T_b0ac2_row14_col7\" class=\"data row14 col7\" >0.3660</td>\n",
       "    </tr>\n",
       "    <tr>\n",
       "      <th id=\"T_b0ac2_level0_row15\" class=\"row_heading level0 row15\" >knn</th>\n",
       "      <td id=\"T_b0ac2_row15_col0\" class=\"data row15 col0\" >K Neighbors Regressor</td>\n",
       "      <td id=\"T_b0ac2_row15_col1\" class=\"data row15 col1\" >26847.5893</td>\n",
       "      <td id=\"T_b0ac2_row15_col2\" class=\"data row15 col2\" >1974437090.7885</td>\n",
       "      <td id=\"T_b0ac2_row15_col3\" class=\"data row15 col3\" >43650.1462</td>\n",
       "      <td id=\"T_b0ac2_row15_col4\" class=\"data row15 col4\" >0.7031</td>\n",
       "      <td id=\"T_b0ac2_row15_col5\" class=\"data row15 col5\" >0.2128</td>\n",
       "      <td id=\"T_b0ac2_row15_col6\" class=\"data row15 col6\" >0.1561</td>\n",
       "      <td id=\"T_b0ac2_row15_col7\" class=\"data row15 col7\" >0.3770</td>\n",
       "    </tr>\n",
       "    <tr>\n",
       "      <th id=\"T_b0ac2_level0_row16\" class=\"row_heading level0 row16\" >dt</th>\n",
       "      <td id=\"T_b0ac2_row16_col0\" class=\"data row16 col0\" >Decision Tree Regressor</td>\n",
       "      <td id=\"T_b0ac2_row16_col1\" class=\"data row16 col1\" >27388.1160</td>\n",
       "      <td id=\"T_b0ac2_row16_col2\" class=\"data row16 col2\" >2047228186.2749</td>\n",
       "      <td id=\"T_b0ac2_row16_col3\" class=\"data row16 col3\" >43752.3306</td>\n",
       "      <td id=\"T_b0ac2_row16_col4\" class=\"data row16 col4\" >0.6929</td>\n",
       "      <td id=\"T_b0ac2_row16_col5\" class=\"data row16 col5\" >0.2182</td>\n",
       "      <td id=\"T_b0ac2_row16_col6\" class=\"data row16 col6\" >0.1609</td>\n",
       "      <td id=\"T_b0ac2_row16_col7\" class=\"data row16 col7\" >0.3740</td>\n",
       "    </tr>\n",
       "    <tr>\n",
       "      <th id=\"T_b0ac2_level0_row17\" class=\"row_heading level0 row17\" >dummy</th>\n",
       "      <td id=\"T_b0ac2_row17_col0\" class=\"data row17 col0\" >Dummy Regressor</td>\n",
       "      <td id=\"T_b0ac2_row17_col1\" class=\"data row17 col1\" >58218.1257</td>\n",
       "      <td id=\"T_b0ac2_row17_col2\" class=\"data row17 col2\" >6558664005.0021</td>\n",
       "      <td id=\"T_b0ac2_row17_col3\" class=\"data row17 col3\" >80446.7191</td>\n",
       "      <td id=\"T_b0ac2_row17_col4\" class=\"data row17 col4\" >-0.0065</td>\n",
       "      <td id=\"T_b0ac2_row17_col5\" class=\"data row17 col5\" >0.4146</td>\n",
       "      <td id=\"T_b0ac2_row17_col6\" class=\"data row17 col6\" >0.3714</td>\n",
       "      <td id=\"T_b0ac2_row17_col7\" class=\"data row17 col7\" >0.3650</td>\n",
       "    </tr>\n",
       "    <tr>\n",
       "      <th id=\"T_b0ac2_level0_row18\" class=\"row_heading level0 row18\" >lr</th>\n",
       "      <td id=\"T_b0ac2_row18_col0\" class=\"data row18 col0\" >Linear Regression</td>\n",
       "      <td id=\"T_b0ac2_row18_col1\" class=\"data row18 col1\" >23757546593046676.0000</td>\n",
       "      <td id=\"T_b0ac2_row18_col2\" class=\"data row18 col2\" >138971436696417401461821931520000000.0000</td>\n",
       "      <td id=\"T_b0ac2_row18_col3\" class=\"data row18 col3\" >203184173680939968.0000</td>\n",
       "      <td id=\"T_b0ac2_row18_col4\" class=\"data row18 col4\" >-27676138319123542976757760.0000</td>\n",
       "      <td id=\"T_b0ac2_row18_col5\" class=\"data row18 col5\" >3.4862</td>\n",
       "      <td id=\"T_b0ac2_row18_col6\" class=\"data row18 col6\" >198753280549.3010</td>\n",
       "      <td id=\"T_b0ac2_row18_col7\" class=\"data row18 col7\" >0.5980</td>\n",
       "    </tr>\n",
       "    <tr>\n",
       "      <th id=\"T_b0ac2_level0_row19\" class=\"row_heading level0 row19\" >lar</th>\n",
       "      <td id=\"T_b0ac2_row19_col0\" class=\"data row19 col0\" >Least Angle Regression</td>\n",
       "      <td id=\"T_b0ac2_row19_col1\" class=\"data row19 col1\" >1367189429968420123790537987735945216.0000</td>\n",
       "      <td id=\"T_b0ac2_row19_col2\" class=\"data row19 col2\" >1904832678694644740022079360765999923162269684538392734220051995238072320000.0000</td>\n",
       "      <td id=\"T_b0ac2_row19_col3\" class=\"data row19 col3\" >13807875182849380543857790433967996928.0000</td>\n",
       "      <td id=\"T_b0ac2_row19_col4\" class=\"data row19 col4\" >-263901628344253428075702871087302438184944538345118735709283287040.0000</td>\n",
       "      <td id=\"T_b0ac2_row19_col5\" class=\"data row19 col5\" >22.2749</td>\n",
       "      <td id=\"T_b0ac2_row19_col6\" class=\"data row19 col6\" >11345361042780511945713610915840.0000</td>\n",
       "      <td id=\"T_b0ac2_row19_col7\" class=\"data row19 col7\" >0.3730</td>\n",
       "    </tr>\n",
       "  </tbody>\n",
       "</table>\n"
      ],
      "text/plain": [
       "<pandas.io.formats.style.Styler at 0x2a43aa610>"
      ]
     },
     "metadata": {},
     "output_type": "display_data"
    },
    {
     "data": {
      "application/vnd.jupyter.widget-view+json": {
       "model_id": "",
       "version_major": 2,
       "version_minor": 0
      },
      "text/plain": [
       "Processing:   0%|          | 0/85 [00:00<?, ?it/s]"
      ]
     },
     "metadata": {},
     "output_type": "display_data"
    }
   ],
   "source": [
    "# best = compare_models(exclude = ['ransac'])\n",
    "\n",
    "best = compare_models()"
   ]
  },
  {
   "cell_type": "code",
   "execution_count": null,
   "id": "42608d70",
   "metadata": {},
   "outputs": [],
   "source": []
  },
  {
   "cell_type": "code",
   "execution_count": 76,
   "id": "f1f89e51",
   "metadata": {},
   "outputs": [
    {
     "data": {
      "text/html": [],
      "text/plain": [
       "<IPython.core.display.HTML object>"
      ]
     },
     "metadata": {},
     "output_type": "display_data"
    },
    {
     "data": {
      "text/html": [
       "<style type=\"text/css\">\n",
       "#T_d0718 th {\n",
       "  text-align: left;\n",
       "}\n",
       "#T_d0718_row0_col0, #T_d0718_row1_col0, #T_d0718_row1_col1, #T_d0718_row1_col2, #T_d0718_row1_col3, #T_d0718_row1_col4, #T_d0718_row1_col5, #T_d0718_row1_col6, #T_d0718_row2_col0, #T_d0718_row2_col1, #T_d0718_row2_col2, #T_d0718_row2_col3, #T_d0718_row2_col4, #T_d0718_row2_col5, #T_d0718_row2_col6, #T_d0718_row3_col0, #T_d0718_row3_col1, #T_d0718_row3_col2, #T_d0718_row3_col3, #T_d0718_row3_col4, #T_d0718_row3_col5, #T_d0718_row3_col6, #T_d0718_row4_col0, #T_d0718_row4_col1, #T_d0718_row4_col2, #T_d0718_row4_col3, #T_d0718_row4_col4, #T_d0718_row4_col5, #T_d0718_row4_col6, #T_d0718_row5_col0, #T_d0718_row5_col1, #T_d0718_row5_col2, #T_d0718_row5_col3, #T_d0718_row5_col4, #T_d0718_row5_col5, #T_d0718_row5_col6, #T_d0718_row6_col0, #T_d0718_row6_col1, #T_d0718_row6_col2, #T_d0718_row6_col3, #T_d0718_row6_col4, #T_d0718_row6_col5, #T_d0718_row6_col6, #T_d0718_row7_col0, #T_d0718_row7_col1, #T_d0718_row7_col2, #T_d0718_row7_col3, #T_d0718_row7_col4, #T_d0718_row7_col5, #T_d0718_row7_col6, #T_d0718_row8_col0, #T_d0718_row8_col1, #T_d0718_row8_col2, #T_d0718_row8_col3, #T_d0718_row8_col4, #T_d0718_row8_col5, #T_d0718_row8_col6, #T_d0718_row9_col0, #T_d0718_row9_col1, #T_d0718_row9_col2, #T_d0718_row9_col3, #T_d0718_row9_col4, #T_d0718_row9_col5, #T_d0718_row9_col6, #T_d0718_row10_col0, #T_d0718_row10_col1, #T_d0718_row10_col2, #T_d0718_row10_col3, #T_d0718_row10_col4, #T_d0718_row10_col5, #T_d0718_row10_col6, #T_d0718_row11_col0, #T_d0718_row11_col1, #T_d0718_row11_col2, #T_d0718_row11_col3, #T_d0718_row11_col4, #T_d0718_row11_col5, #T_d0718_row11_col6, #T_d0718_row12_col0, #T_d0718_row12_col1, #T_d0718_row12_col2, #T_d0718_row12_col3, #T_d0718_row12_col4, #T_d0718_row12_col5, #T_d0718_row12_col6, #T_d0718_row13_col0, #T_d0718_row13_col1, #T_d0718_row13_col2, #T_d0718_row13_col3, #T_d0718_row13_col4, #T_d0718_row13_col5, #T_d0718_row13_col6, #T_d0718_row14_col0, #T_d0718_row14_col1, #T_d0718_row14_col2, #T_d0718_row14_col3, #T_d0718_row14_col4, #T_d0718_row14_col5, #T_d0718_row14_col6, #T_d0718_row15_col0, #T_d0718_row15_col1, #T_d0718_row15_col2, #T_d0718_row15_col3, #T_d0718_row15_col4, #T_d0718_row15_col5, #T_d0718_row15_col6, #T_d0718_row16_col0, #T_d0718_row16_col1, #T_d0718_row16_col2, #T_d0718_row16_col3, #T_d0718_row16_col4, #T_d0718_row16_col5, #T_d0718_row16_col6, #T_d0718_row17_col0, #T_d0718_row17_col1, #T_d0718_row17_col2, #T_d0718_row17_col3, #T_d0718_row17_col4, #T_d0718_row17_col5, #T_d0718_row17_col6, #T_d0718_row18_col0, #T_d0718_row18_col1, #T_d0718_row18_col2, #T_d0718_row18_col3, #T_d0718_row18_col4, #T_d0718_row18_col5, #T_d0718_row18_col6, #T_d0718_row19_col0, #T_d0718_row19_col1, #T_d0718_row19_col2, #T_d0718_row19_col3, #T_d0718_row19_col4, #T_d0718_row19_col5, #T_d0718_row19_col6 {\n",
       "  text-align: left;\n",
       "}\n",
       "#T_d0718_row0_col1, #T_d0718_row0_col2, #T_d0718_row0_col3, #T_d0718_row0_col4, #T_d0718_row0_col5, #T_d0718_row0_col6 {\n",
       "  text-align: left;\n",
       "  background-color: yellow;\n",
       "}\n",
       "#T_d0718_row0_col7, #T_d0718_row1_col7, #T_d0718_row2_col7, #T_d0718_row3_col7, #T_d0718_row4_col7, #T_d0718_row5_col7, #T_d0718_row6_col7, #T_d0718_row7_col7, #T_d0718_row8_col7, #T_d0718_row9_col7, #T_d0718_row10_col7, #T_d0718_row11_col7, #T_d0718_row12_col7, #T_d0718_row13_col7, #T_d0718_row15_col7, #T_d0718_row16_col7, #T_d0718_row17_col7, #T_d0718_row18_col7, #T_d0718_row19_col7 {\n",
       "  text-align: left;\n",
       "  background-color: lightgrey;\n",
       "}\n",
       "#T_d0718_row14_col7 {\n",
       "  text-align: left;\n",
       "  background-color: yellow;\n",
       "  background-color: lightgrey;\n",
       "}\n",
       "</style>\n",
       "<table id=\"T_d0718\">\n",
       "  <thead>\n",
       "    <tr>\n",
       "      <th class=\"blank level0\" >&nbsp;</th>\n",
       "      <th id=\"T_d0718_level0_col0\" class=\"col_heading level0 col0\" >Model</th>\n",
       "      <th id=\"T_d0718_level0_col1\" class=\"col_heading level0 col1\" >MAE</th>\n",
       "      <th id=\"T_d0718_level0_col2\" class=\"col_heading level0 col2\" >MSE</th>\n",
       "      <th id=\"T_d0718_level0_col3\" class=\"col_heading level0 col3\" >RMSE</th>\n",
       "      <th id=\"T_d0718_level0_col4\" class=\"col_heading level0 col4\" >R2</th>\n",
       "      <th id=\"T_d0718_level0_col5\" class=\"col_heading level0 col5\" >RMSLE</th>\n",
       "      <th id=\"T_d0718_level0_col6\" class=\"col_heading level0 col6\" >MAPE</th>\n",
       "      <th id=\"T_d0718_level0_col7\" class=\"col_heading level0 col7\" >TT (Sec)</th>\n",
       "    </tr>\n",
       "  </thead>\n",
       "  <tbody>\n",
       "    <tr>\n",
       "      <th id=\"T_d0718_level0_row0\" class=\"row_heading level0 row0\" >catboost</th>\n",
       "      <td id=\"T_d0718_row0_col0\" class=\"data row0 col0\" >CatBoost Regressor</td>\n",
       "      <td id=\"T_d0718_row0_col1\" class=\"data row0 col1\" >15620.2833</td>\n",
       "      <td id=\"T_d0718_row0_col2\" class=\"data row0 col2\" >834265771.3367</td>\n",
       "      <td id=\"T_d0718_row0_col3\" class=\"data row0 col3\" >27789.4853</td>\n",
       "      <td id=\"T_d0718_row0_col4\" class=\"data row0 col4\" >0.8783</td>\n",
       "      <td id=\"T_d0718_row0_col5\" class=\"data row0 col5\" >0.1292</td>\n",
       "      <td id=\"T_d0718_row0_col6\" class=\"data row0 col6\" >0.0901</td>\n",
       "      <td id=\"T_d0718_row0_col7\" class=\"data row0 col7\" >0.3750</td>\n",
       "    </tr>\n",
       "    <tr>\n",
       "      <th id=\"T_d0718_level0_row1\" class=\"row_heading level0 row1\" >gbr</th>\n",
       "      <td id=\"T_d0718_row1_col0\" class=\"data row1 col0\" >Gradient Boosting Regressor</td>\n",
       "      <td id=\"T_d0718_row1_col1\" class=\"data row1 col1\" >17242.5199</td>\n",
       "      <td id=\"T_d0718_row1_col2\" class=\"data row1 col2\" >856798302.8345</td>\n",
       "      <td id=\"T_d0718_row1_col3\" class=\"data row1 col3\" >28402.9232</td>\n",
       "      <td id=\"T_d0718_row1_col4\" class=\"data row1 col4\" >0.8718</td>\n",
       "      <td id=\"T_d0718_row1_col5\" class=\"data row1 col5\" >0.1375</td>\n",
       "      <td id=\"T_d0718_row1_col6\" class=\"data row1 col6\" >0.0998</td>\n",
       "      <td id=\"T_d0718_row1_col7\" class=\"data row1 col7\" >0.3680</td>\n",
       "    </tr>\n",
       "    <tr>\n",
       "      <th id=\"T_d0718_level0_row2\" class=\"row_heading level0 row2\" >lightgbm</th>\n",
       "      <td id=\"T_d0718_row2_col0\" class=\"data row2 col0\" >Light Gradient Boosting Machine</td>\n",
       "      <td id=\"T_d0718_row2_col1\" class=\"data row2 col1\" >17683.7076</td>\n",
       "      <td id=\"T_d0718_row2_col2\" class=\"data row2 col2\" >1007854246.5697</td>\n",
       "      <td id=\"T_d0718_row2_col3\" class=\"data row2 col3\" >30819.4442</td>\n",
       "      <td id=\"T_d0718_row2_col4\" class=\"data row2 col4\" >0.8502</td>\n",
       "      <td id=\"T_d0718_row2_col5\" class=\"data row2 col5\" >0.1455</td>\n",
       "      <td id=\"T_d0718_row2_col6\" class=\"data row2 col6\" >0.1025</td>\n",
       "      <td id=\"T_d0718_row2_col7\" class=\"data row2 col7\" >0.3660</td>\n",
       "    </tr>\n",
       "    <tr>\n",
       "      <th id=\"T_d0718_level0_row3\" class=\"row_heading level0 row3\" >xgboost</th>\n",
       "      <td id=\"T_d0718_row3_col0\" class=\"data row3 col0\" >Extreme Gradient Boosting</td>\n",
       "      <td id=\"T_d0718_row3_col1\" class=\"data row3 col1\" >18601.9995</td>\n",
       "      <td id=\"T_d0718_row3_col2\" class=\"data row3 col2\" >1119037035.9888</td>\n",
       "      <td id=\"T_d0718_row3_col3\" class=\"data row3 col3\" >31335.9088</td>\n",
       "      <td id=\"T_d0718_row3_col4\" class=\"data row3 col4\" >0.8417</td>\n",
       "      <td id=\"T_d0718_row3_col5\" class=\"data row3 col5\" >0.1516</td>\n",
       "      <td id=\"T_d0718_row3_col6\" class=\"data row3 col6\" >0.1088</td>\n",
       "      <td id=\"T_d0718_row3_col7\" class=\"data row3 col7\" >0.3750</td>\n",
       "    </tr>\n",
       "    <tr>\n",
       "      <th id=\"T_d0718_level0_row4\" class=\"row_heading level0 row4\" >rf</th>\n",
       "      <td id=\"T_d0718_row4_col0\" class=\"data row4 col0\" >Random Forest Regressor</td>\n",
       "      <td id=\"T_d0718_row4_col1\" class=\"data row4 col1\" >19022.1086</td>\n",
       "      <td id=\"T_d0718_row4_col2\" class=\"data row4 col2\" >1110134015.6217</td>\n",
       "      <td id=\"T_d0718_row4_col3\" class=\"data row4 col3\" >32354.6791</td>\n",
       "      <td id=\"T_d0718_row4_col4\" class=\"data row4 col4\" >0.8355</td>\n",
       "      <td id=\"T_d0718_row4_col5\" class=\"data row4 col5\" >0.1543</td>\n",
       "      <td id=\"T_d0718_row4_col6\" class=\"data row4 col6\" >0.1113</td>\n",
       "      <td id=\"T_d0718_row4_col7\" class=\"data row4 col7\" >0.3830</td>\n",
       "    </tr>\n",
       "    <tr>\n",
       "      <th id=\"T_d0718_level0_row5\" class=\"row_heading level0 row5\" >et</th>\n",
       "      <td id=\"T_d0718_row5_col0\" class=\"data row5 col0\" >Extra Trees Regressor</td>\n",
       "      <td id=\"T_d0718_row5_col1\" class=\"data row5 col1\" >19119.8387</td>\n",
       "      <td id=\"T_d0718_row5_col2\" class=\"data row5 col2\" >1186449454.6075</td>\n",
       "      <td id=\"T_d0718_row5_col3\" class=\"data row5 col3\" >33148.2505</td>\n",
       "      <td id=\"T_d0718_row5_col4\" class=\"data row5 col4\" >0.8289</td>\n",
       "      <td id=\"T_d0718_row5_col5\" class=\"data row5 col5\" >0.1531</td>\n",
       "      <td id=\"T_d0718_row5_col6\" class=\"data row5 col6\" >0.1111</td>\n",
       "      <td id=\"T_d0718_row5_col7\" class=\"data row5 col7\" >0.3820</td>\n",
       "    </tr>\n",
       "    <tr>\n",
       "      <th id=\"T_d0718_level0_row6\" class=\"row_heading level0 row6\" >en</th>\n",
       "      <td id=\"T_d0718_row6_col0\" class=\"data row6 col0\" >Elastic Net</td>\n",
       "      <td id=\"T_d0718_row6_col1\" class=\"data row6 col1\" >18341.4667</td>\n",
       "      <td id=\"T_d0718_row6_col2\" class=\"data row6 col2\" >1274193888.8387</td>\n",
       "      <td id=\"T_d0718_row6_col3\" class=\"data row6 col3\" >33702.1803</td>\n",
       "      <td id=\"T_d0718_row6_col4\" class=\"data row6 col4\" >0.8102</td>\n",
       "      <td id=\"T_d0718_row6_col5\" class=\"data row6 col5\" >0.1495</td>\n",
       "      <td id=\"T_d0718_row6_col6\" class=\"data row6 col6\" >0.1051</td>\n",
       "      <td id=\"T_d0718_row6_col7\" class=\"data row6 col7\" >0.4000</td>\n",
       "    </tr>\n",
       "    <tr>\n",
       "      <th id=\"T_d0718_level0_row7\" class=\"row_heading level0 row7\" >ada</th>\n",
       "      <td id=\"T_d0718_row7_col0\" class=\"data row7 col0\" >AdaBoost Regressor</td>\n",
       "      <td id=\"T_d0718_row7_col1\" class=\"data row7 col1\" >25675.4247</td>\n",
       "      <td id=\"T_d0718_row7_col2\" class=\"data row7 col2\" >1384653021.3860</td>\n",
       "      <td id=\"T_d0718_row7_col3\" class=\"data row7 col3\" >36567.5742</td>\n",
       "      <td id=\"T_d0718_row7_col4\" class=\"data row7 col4\" >0.7930</td>\n",
       "      <td id=\"T_d0718_row7_col5\" class=\"data row7 col5\" >0.2054</td>\n",
       "      <td id=\"T_d0718_row7_col6\" class=\"data row7 col6\" >0.1677</td>\n",
       "      <td id=\"T_d0718_row7_col7\" class=\"data row7 col7\" >0.3710</td>\n",
       "    </tr>\n",
       "    <tr>\n",
       "      <th id=\"T_d0718_level0_row8\" class=\"row_heading level0 row8\" >par</th>\n",
       "      <td id=\"T_d0718_row8_col0\" class=\"data row8 col0\" >Passive Aggressive Regressor</td>\n",
       "      <td id=\"T_d0718_row8_col1\" class=\"data row8 col1\" >17961.5193</td>\n",
       "      <td id=\"T_d0718_row8_col2\" class=\"data row8 col2\" >1393334324.9563</td>\n",
       "      <td id=\"T_d0718_row8_col3\" class=\"data row8 col3\" >34570.7230</td>\n",
       "      <td id=\"T_d0718_row8_col4\" class=\"data row8 col4\" >0.7877</td>\n",
       "      <td id=\"T_d0718_row8_col5\" class=\"data row8 col5\" >0.1897</td>\n",
       "      <td id=\"T_d0718_row8_col6\" class=\"data row8 col6\" >0.1069</td>\n",
       "      <td id=\"T_d0718_row8_col7\" class=\"data row8 col7\" >0.3810</td>\n",
       "    </tr>\n",
       "    <tr>\n",
       "      <th id=\"T_d0718_level0_row9\" class=\"row_heading level0 row9\" >llar</th>\n",
       "      <td id=\"T_d0718_row9_col0\" class=\"data row9 col0\" >Lasso Least Angle Regression</td>\n",
       "      <td id=\"T_d0718_row9_col1\" class=\"data row9 col1\" >18451.1457</td>\n",
       "      <td id=\"T_d0718_row9_col2\" class=\"data row9 col2\" >1440719503.1413</td>\n",
       "      <td id=\"T_d0718_row9_col3\" class=\"data row9 col3\" >34837.8055</td>\n",
       "      <td id=\"T_d0718_row9_col4\" class=\"data row9 col4\" >0.7794</td>\n",
       "      <td id=\"T_d0718_row9_col5\" class=\"data row9 col5\" >0.1964</td>\n",
       "      <td id=\"T_d0718_row9_col6\" class=\"data row9 col6\" >0.1118</td>\n",
       "      <td id=\"T_d0718_row9_col7\" class=\"data row9 col7\" >0.3880</td>\n",
       "    </tr>\n",
       "    <tr>\n",
       "      <th id=\"T_d0718_level0_row10\" class=\"row_heading level0 row10\" >br</th>\n",
       "      <td id=\"T_d0718_row10_col0\" class=\"data row10 col0\" >Bayesian Ridge</td>\n",
       "      <td id=\"T_d0718_row10_col1\" class=\"data row10 col1\" >18989.6560</td>\n",
       "      <td id=\"T_d0718_row10_col2\" class=\"data row10 col2\" >1442752130.3196</td>\n",
       "      <td id=\"T_d0718_row10_col3\" class=\"data row10 col3\" >35201.9564</td>\n",
       "      <td id=\"T_d0718_row10_col4\" class=\"data row10 col4\" >0.7790</td>\n",
       "      <td id=\"T_d0718_row10_col5\" class=\"data row10 col5\" >0.1915</td>\n",
       "      <td id=\"T_d0718_row10_col6\" class=\"data row10 col6\" >0.1138</td>\n",
       "      <td id=\"T_d0718_row10_col7\" class=\"data row10 col7\" >0.4000</td>\n",
       "    </tr>\n",
       "    <tr>\n",
       "      <th id=\"T_d0718_level0_row11\" class=\"row_heading level0 row11\" >omp</th>\n",
       "      <td id=\"T_d0718_row11_col0\" class=\"data row11 col0\" >Orthogonal Matching Pursuit</td>\n",
       "      <td id=\"T_d0718_row11_col1\" class=\"data row11 col1\" >19416.0414</td>\n",
       "      <td id=\"T_d0718_row11_col2\" class=\"data row11 col2\" >1453096780.0555</td>\n",
       "      <td id=\"T_d0718_row11_col3\" class=\"data row11 col3\" >35566.9594</td>\n",
       "      <td id=\"T_d0718_row11_col4\" class=\"data row11 col4\" >0.7760</td>\n",
       "      <td id=\"T_d0718_row11_col5\" class=\"data row11 col5\" >0.1896</td>\n",
       "      <td id=\"T_d0718_row11_col6\" class=\"data row11 col6\" >0.1169</td>\n",
       "      <td id=\"T_d0718_row11_col7\" class=\"data row11 col7\" >0.3690</td>\n",
       "    </tr>\n",
       "    <tr>\n",
       "      <th id=\"T_d0718_level0_row12\" class=\"row_heading level0 row12\" >huber</th>\n",
       "      <td id=\"T_d0718_row12_col0\" class=\"data row12 col0\" >Huber Regressor</td>\n",
       "      <td id=\"T_d0718_row12_col1\" class=\"data row12 col1\" >18452.9686</td>\n",
       "      <td id=\"T_d0718_row12_col2\" class=\"data row12 col2\" >1465191666.0584</td>\n",
       "      <td id=\"T_d0718_row12_col3\" class=\"data row12 col3\" >35264.1832</td>\n",
       "      <td id=\"T_d0718_row12_col4\" class=\"data row12 col4\" >0.7755</td>\n",
       "      <td id=\"T_d0718_row12_col5\" class=\"data row12 col5\" >0.1867</td>\n",
       "      <td id=\"T_d0718_row12_col6\" class=\"data row12 col6\" >0.1127</td>\n",
       "      <td id=\"T_d0718_row12_col7\" class=\"data row12 col7\" >0.3680</td>\n",
       "    </tr>\n",
       "    <tr>\n",
       "      <th id=\"T_d0718_level0_row13\" class=\"row_heading level0 row13\" >ridge</th>\n",
       "      <td id=\"T_d0718_row13_col0\" class=\"data row13 col0\" >Ridge Regression</td>\n",
       "      <td id=\"T_d0718_row13_col1\" class=\"data row13 col1\" >20123.6324</td>\n",
       "      <td id=\"T_d0718_row13_col2\" class=\"data row13 col2\" >1612475795.3755</td>\n",
       "      <td id=\"T_d0718_row13_col3\" class=\"data row13 col3\" >37001.9088</td>\n",
       "      <td id=\"T_d0718_row13_col4\" class=\"data row13 col4\" >0.7507</td>\n",
       "      <td id=\"T_d0718_row13_col5\" class=\"data row13 col5\" >0.2004</td>\n",
       "      <td id=\"T_d0718_row13_col6\" class=\"data row13 col6\" >0.1243</td>\n",
       "      <td id=\"T_d0718_row13_col7\" class=\"data row13 col7\" >0.3780</td>\n",
       "    </tr>\n",
       "    <tr>\n",
       "      <th id=\"T_d0718_level0_row14\" class=\"row_heading level0 row14\" >lasso</th>\n",
       "      <td id=\"T_d0718_row14_col0\" class=\"data row14 col0\" >Lasso Regression</td>\n",
       "      <td id=\"T_d0718_row14_col1\" class=\"data row14 col1\" >20177.4657</td>\n",
       "      <td id=\"T_d0718_row14_col2\" class=\"data row14 col2\" >1618834465.3062</td>\n",
       "      <td id=\"T_d0718_row14_col3\" class=\"data row14 col3\" >37048.6248</td>\n",
       "      <td id=\"T_d0718_row14_col4\" class=\"data row14 col4\" >0.7498</td>\n",
       "      <td id=\"T_d0718_row14_col5\" class=\"data row14 col5\" >0.2019</td>\n",
       "      <td id=\"T_d0718_row14_col6\" class=\"data row14 col6\" >0.1251</td>\n",
       "      <td id=\"T_d0718_row14_col7\" class=\"data row14 col7\" >0.3610</td>\n",
       "    </tr>\n",
       "    <tr>\n",
       "      <th id=\"T_d0718_level0_row15\" class=\"row_heading level0 row15\" >knn</th>\n",
       "      <td id=\"T_d0718_row15_col0\" class=\"data row15 col0\" >K Neighbors Regressor</td>\n",
       "      <td id=\"T_d0718_row15_col1\" class=\"data row15 col1\" >26847.5893</td>\n",
       "      <td id=\"T_d0718_row15_col2\" class=\"data row15 col2\" >1974437090.7885</td>\n",
       "      <td id=\"T_d0718_row15_col3\" class=\"data row15 col3\" >43650.1462</td>\n",
       "      <td id=\"T_d0718_row15_col4\" class=\"data row15 col4\" >0.7031</td>\n",
       "      <td id=\"T_d0718_row15_col5\" class=\"data row15 col5\" >0.2128</td>\n",
       "      <td id=\"T_d0718_row15_col6\" class=\"data row15 col6\" >0.1561</td>\n",
       "      <td id=\"T_d0718_row15_col7\" class=\"data row15 col7\" >0.4140</td>\n",
       "    </tr>\n",
       "    <tr>\n",
       "      <th id=\"T_d0718_level0_row16\" class=\"row_heading level0 row16\" >dt</th>\n",
       "      <td id=\"T_d0718_row16_col0\" class=\"data row16 col0\" >Decision Tree Regressor</td>\n",
       "      <td id=\"T_d0718_row16_col1\" class=\"data row16 col1\" >27388.1160</td>\n",
       "      <td id=\"T_d0718_row16_col2\" class=\"data row16 col2\" >2047228186.2749</td>\n",
       "      <td id=\"T_d0718_row16_col3\" class=\"data row16 col3\" >43752.3306</td>\n",
       "      <td id=\"T_d0718_row16_col4\" class=\"data row16 col4\" >0.6929</td>\n",
       "      <td id=\"T_d0718_row16_col5\" class=\"data row16 col5\" >0.2182</td>\n",
       "      <td id=\"T_d0718_row16_col6\" class=\"data row16 col6\" >0.1609</td>\n",
       "      <td id=\"T_d0718_row16_col7\" class=\"data row16 col7\" >0.3930</td>\n",
       "    </tr>\n",
       "    <tr>\n",
       "      <th id=\"T_d0718_level0_row17\" class=\"row_heading level0 row17\" >dummy</th>\n",
       "      <td id=\"T_d0718_row17_col0\" class=\"data row17 col0\" >Dummy Regressor</td>\n",
       "      <td id=\"T_d0718_row17_col1\" class=\"data row17 col1\" >58218.1257</td>\n",
       "      <td id=\"T_d0718_row17_col2\" class=\"data row17 col2\" >6558664005.0021</td>\n",
       "      <td id=\"T_d0718_row17_col3\" class=\"data row17 col3\" >80446.7191</td>\n",
       "      <td id=\"T_d0718_row17_col4\" class=\"data row17 col4\" >-0.0065</td>\n",
       "      <td id=\"T_d0718_row17_col5\" class=\"data row17 col5\" >0.4146</td>\n",
       "      <td id=\"T_d0718_row17_col6\" class=\"data row17 col6\" >0.3714</td>\n",
       "      <td id=\"T_d0718_row17_col7\" class=\"data row17 col7\" >0.3650</td>\n",
       "    </tr>\n",
       "    <tr>\n",
       "      <th id=\"T_d0718_level0_row18\" class=\"row_heading level0 row18\" >lr</th>\n",
       "      <td id=\"T_d0718_row18_col0\" class=\"data row18 col0\" >Linear Regression</td>\n",
       "      <td id=\"T_d0718_row18_col1\" class=\"data row18 col1\" >23757546593046676.0000</td>\n",
       "      <td id=\"T_d0718_row18_col2\" class=\"data row18 col2\" >138971436696417401461821931520000000.0000</td>\n",
       "      <td id=\"T_d0718_row18_col3\" class=\"data row18 col3\" >203184173680939968.0000</td>\n",
       "      <td id=\"T_d0718_row18_col4\" class=\"data row18 col4\" >-27676138319123542976757760.0000</td>\n",
       "      <td id=\"T_d0718_row18_col5\" class=\"data row18 col5\" >3.4862</td>\n",
       "      <td id=\"T_d0718_row18_col6\" class=\"data row18 col6\" >198753280549.3010</td>\n",
       "      <td id=\"T_d0718_row18_col7\" class=\"data row18 col7\" >0.3720</td>\n",
       "    </tr>\n",
       "    <tr>\n",
       "      <th id=\"T_d0718_level0_row19\" class=\"row_heading level0 row19\" >lar</th>\n",
       "      <td id=\"T_d0718_row19_col0\" class=\"data row19 col0\" >Least Angle Regression</td>\n",
       "      <td id=\"T_d0718_row19_col1\" class=\"data row19 col1\" >1367189429968420123790537987735945216.0000</td>\n",
       "      <td id=\"T_d0718_row19_col2\" class=\"data row19 col2\" >1904832678694644740022079360765999923162269684538392734220051995238072320000.0000</td>\n",
       "      <td id=\"T_d0718_row19_col3\" class=\"data row19 col3\" >13807875182849380543857790433967996928.0000</td>\n",
       "      <td id=\"T_d0718_row19_col4\" class=\"data row19 col4\" >-263901628344253428075702871087302438184944538345118735709283287040.0000</td>\n",
       "      <td id=\"T_d0718_row19_col5\" class=\"data row19 col5\" >22.2749</td>\n",
       "      <td id=\"T_d0718_row19_col6\" class=\"data row19 col6\" >11345361042780511945713610915840.0000</td>\n",
       "      <td id=\"T_d0718_row19_col7\" class=\"data row19 col7\" >0.3910</td>\n",
       "    </tr>\n",
       "  </tbody>\n",
       "</table>\n"
      ],
      "text/plain": [
       "<pandas.io.formats.style.Styler at 0x2a52e3220>"
      ]
     },
     "metadata": {},
     "output_type": "display_data"
    },
    {
     "data": {
      "application/vnd.jupyter.widget-view+json": {
       "model_id": "",
       "version_major": 2,
       "version_minor": 0
      },
      "text/plain": [
       "Processing:   0%|          | 0/85 [00:00<?, ?it/s]"
      ]
     },
     "metadata": {},
     "output_type": "display_data"
    }
   ],
   "source": [
    "best_ = compare_models()"
   ]
  },
  {
   "cell_type": "code",
   "execution_count": null,
   "id": "4e73e092",
   "metadata": {},
   "outputs": [],
   "source": []
  },
  {
   "cell_type": "markdown",
   "id": "1dddebf8",
   "metadata": {},
   "source": [
    "# 3. 단일 모델 확인하기 "
   ]
  },
  {
   "cell_type": "code",
   "execution_count": null,
   "id": "001959da",
   "metadata": {},
   "outputs": [],
   "source": []
  },
  {
   "cell_type": "code",
   "execution_count": 78,
   "id": "94a17d78",
   "metadata": {},
   "outputs": [
    {
     "data": {
      "text/plain": [
       "{}"
      ]
     },
     "execution_count": 78,
     "metadata": {},
     "output_type": "execute_result"
    }
   ],
   "source": [
    "best_"
   ]
  },
  {
   "cell_type": "markdown",
   "id": "616551d6",
   "metadata": {},
   "source": [
    "# Creating the model"
   ]
  },
  {
   "cell_type": "code",
   "execution_count": 18,
   "id": "9738d164",
   "metadata": {},
   "outputs": [
    {
     "data": {
      "text/html": [],
      "text/plain": [
       "<IPython.core.display.HTML object>"
      ]
     },
     "metadata": {},
     "output_type": "display_data"
    },
    {
     "data": {
      "text/html": [
       "<style type=\"text/css\">\n",
       "#T_0d9cb_row10_col0, #T_0d9cb_row10_col1, #T_0d9cb_row10_col2, #T_0d9cb_row10_col3, #T_0d9cb_row10_col4, #T_0d9cb_row10_col5 {\n",
       "  background: yellow;\n",
       "}\n",
       "</style>\n",
       "<table id=\"T_0d9cb\">\n",
       "  <thead>\n",
       "    <tr>\n",
       "      <th class=\"blank level0\" >&nbsp;</th>\n",
       "      <th id=\"T_0d9cb_level0_col0\" class=\"col_heading level0 col0\" >MAE</th>\n",
       "      <th id=\"T_0d9cb_level0_col1\" class=\"col_heading level0 col1\" >MSE</th>\n",
       "      <th id=\"T_0d9cb_level0_col2\" class=\"col_heading level0 col2\" >RMSE</th>\n",
       "      <th id=\"T_0d9cb_level0_col3\" class=\"col_heading level0 col3\" >R2</th>\n",
       "      <th id=\"T_0d9cb_level0_col4\" class=\"col_heading level0 col4\" >RMSLE</th>\n",
       "      <th id=\"T_0d9cb_level0_col5\" class=\"col_heading level0 col5\" >MAPE</th>\n",
       "    </tr>\n",
       "    <tr>\n",
       "      <th class=\"index_name level0\" >Fold</th>\n",
       "      <th class=\"blank col0\" >&nbsp;</th>\n",
       "      <th class=\"blank col1\" >&nbsp;</th>\n",
       "      <th class=\"blank col2\" >&nbsp;</th>\n",
       "      <th class=\"blank col3\" >&nbsp;</th>\n",
       "      <th class=\"blank col4\" >&nbsp;</th>\n",
       "      <th class=\"blank col5\" >&nbsp;</th>\n",
       "    </tr>\n",
       "  </thead>\n",
       "  <tbody>\n",
       "    <tr>\n",
       "      <th id=\"T_0d9cb_level0_row0\" class=\"row_heading level0 row0\" >0</th>\n",
       "      <td id=\"T_0d9cb_row0_col0\" class=\"data row0 col0\" >20917.6690</td>\n",
       "      <td id=\"T_0d9cb_row0_col1\" class=\"data row0 col1\" >2128068875.9588</td>\n",
       "      <td id=\"T_0d9cb_row0_col2\" class=\"data row0 col2\" >46130.9969</td>\n",
       "      <td id=\"T_0d9cb_row0_col3\" class=\"data row0 col3\" >0.7401</td>\n",
       "      <td id=\"T_0d9cb_row0_col4\" class=\"data row0 col4\" >0.1832</td>\n",
       "      <td id=\"T_0d9cb_row0_col5\" class=\"data row0 col5\" >0.1182</td>\n",
       "    </tr>\n",
       "    <tr>\n",
       "      <th id=\"T_0d9cb_level0_row1\" class=\"row_heading level0 row1\" >1</th>\n",
       "      <td id=\"T_0d9cb_row1_col0\" class=\"data row1 col0\" >17464.0822</td>\n",
       "      <td id=\"T_0d9cb_row1_col1\" class=\"data row1 col1\" >757633344.8999</td>\n",
       "      <td id=\"T_0d9cb_row1_col2\" class=\"data row1 col2\" >27525.1402</td>\n",
       "      <td id=\"T_0d9cb_row1_col3\" class=\"data row1 col3\" >0.8818</td>\n",
       "      <td id=\"T_0d9cb_row1_col4\" class=\"data row1 col4\" >0.1281</td>\n",
       "      <td id=\"T_0d9cb_row1_col5\" class=\"data row1 col5\" >0.0928</td>\n",
       "    </tr>\n",
       "    <tr>\n",
       "      <th id=\"T_0d9cb_level0_row2\" class=\"row_heading level0 row2\" >2</th>\n",
       "      <td id=\"T_0d9cb_row2_col0\" class=\"data row2 col0\" >15455.9590</td>\n",
       "      <td id=\"T_0d9cb_row2_col1\" class=\"data row2 col1\" >470020727.8455</td>\n",
       "      <td id=\"T_0d9cb_row2_col2\" class=\"data row2 col2\" >21679.9614</td>\n",
       "      <td id=\"T_0d9cb_row2_col3\" class=\"data row2 col3\" >0.8982</td>\n",
       "      <td id=\"T_0d9cb_row2_col4\" class=\"data row2 col4\" >0.1269</td>\n",
       "      <td id=\"T_0d9cb_row2_col5\" class=\"data row2 col5\" >0.0961</td>\n",
       "    </tr>\n",
       "    <tr>\n",
       "      <th id=\"T_0d9cb_level0_row3\" class=\"row_heading level0 row3\" >3</th>\n",
       "      <td id=\"T_0d9cb_row3_col0\" class=\"data row3 col0\" >15579.9656</td>\n",
       "      <td id=\"T_0d9cb_row3_col1\" class=\"data row3 col1\" >597743226.3357</td>\n",
       "      <td id=\"T_0d9cb_row3_col2\" class=\"data row3 col2\" >24448.7878</td>\n",
       "      <td id=\"T_0d9cb_row3_col3\" class=\"data row3 col3\" >0.8848</td>\n",
       "      <td id=\"T_0d9cb_row3_col4\" class=\"data row3 col4\" >0.1271</td>\n",
       "      <td id=\"T_0d9cb_row3_col5\" class=\"data row3 col5\" >0.0921</td>\n",
       "    </tr>\n",
       "    <tr>\n",
       "      <th id=\"T_0d9cb_level0_row4\" class=\"row_heading level0 row4\" >4</th>\n",
       "      <td id=\"T_0d9cb_row4_col0\" class=\"data row4 col0\" >19229.6347</td>\n",
       "      <td id=\"T_0d9cb_row4_col1\" class=\"data row4 col1\" >1101363525.5540</td>\n",
       "      <td id=\"T_0d9cb_row4_col2\" class=\"data row4 col2\" >33186.7975</td>\n",
       "      <td id=\"T_0d9cb_row4_col3\" class=\"data row4 col3\" >0.8880</td>\n",
       "      <td id=\"T_0d9cb_row4_col4\" class=\"data row4 col4\" >0.1721</td>\n",
       "      <td id=\"T_0d9cb_row4_col5\" class=\"data row4 col5\" >0.1221</td>\n",
       "    </tr>\n",
       "    <tr>\n",
       "      <th id=\"T_0d9cb_level0_row5\" class=\"row_heading level0 row5\" >5</th>\n",
       "      <td id=\"T_0d9cb_row5_col0\" class=\"data row5 col0\" >15421.2352</td>\n",
       "      <td id=\"T_0d9cb_row5_col1\" class=\"data row5 col1\" >716669387.4306</td>\n",
       "      <td id=\"T_0d9cb_row5_col2\" class=\"data row5 col2\" >26770.6815</td>\n",
       "      <td id=\"T_0d9cb_row5_col3\" class=\"data row5 col3\" >0.9007</td>\n",
       "      <td id=\"T_0d9cb_row5_col4\" class=\"data row5 col4\" >0.1267</td>\n",
       "      <td id=\"T_0d9cb_row5_col5\" class=\"data row5 col5\" >0.0907</td>\n",
       "    </tr>\n",
       "    <tr>\n",
       "      <th id=\"T_0d9cb_level0_row6\" class=\"row_heading level0 row6\" >6</th>\n",
       "      <td id=\"T_0d9cb_row6_col0\" class=\"data row6 col0\" >18219.9704</td>\n",
       "      <td id=\"T_0d9cb_row6_col1\" class=\"data row6 col1\" >706507189.8479</td>\n",
       "      <td id=\"T_0d9cb_row6_col2\" class=\"data row6 col2\" >26580.2030</td>\n",
       "      <td id=\"T_0d9cb_row6_col3\" class=\"data row6 col3\" >0.8501</td>\n",
       "      <td id=\"T_0d9cb_row6_col4\" class=\"data row6 col4\" >0.1224</td>\n",
       "      <td id=\"T_0d9cb_row6_col5\" class=\"data row6 col5\" >0.0988</td>\n",
       "    </tr>\n",
       "    <tr>\n",
       "      <th id=\"T_0d9cb_level0_row7\" class=\"row_heading level0 row7\" >7</th>\n",
       "      <td id=\"T_0d9cb_row7_col0\" class=\"data row7 col0\" >15631.6694</td>\n",
       "      <td id=\"T_0d9cb_row7_col1\" class=\"data row7 col1\" >543281285.4920</td>\n",
       "      <td id=\"T_0d9cb_row7_col2\" class=\"data row7 col2\" >23308.3952</td>\n",
       "      <td id=\"T_0d9cb_row7_col3\" class=\"data row7 col3\" >0.9203</td>\n",
       "      <td id=\"T_0d9cb_row7_col4\" class=\"data row7 col4\" >0.1277</td>\n",
       "      <td id=\"T_0d9cb_row7_col5\" class=\"data row7 col5\" >0.0937</td>\n",
       "    </tr>\n",
       "    <tr>\n",
       "      <th id=\"T_0d9cb_level0_row8\" class=\"row_heading level0 row8\" >8</th>\n",
       "      <td id=\"T_0d9cb_row8_col0\" class=\"data row8 col0\" >19605.4028</td>\n",
       "      <td id=\"T_0d9cb_row8_col1\" class=\"data row8 col1\" >1088458076.1607</td>\n",
       "      <td id=\"T_0d9cb_row8_col2\" class=\"data row8 col2\" >32991.7880</td>\n",
       "      <td id=\"T_0d9cb_row8_col3\" class=\"data row8 col3\" >0.8376</td>\n",
       "      <td id=\"T_0d9cb_row8_col4\" class=\"data row8 col4\" >0.1548</td>\n",
       "      <td id=\"T_0d9cb_row8_col5\" class=\"data row8 col5\" >0.1127</td>\n",
       "    </tr>\n",
       "    <tr>\n",
       "      <th id=\"T_0d9cb_level0_row9\" class=\"row_heading level0 row9\" >9</th>\n",
       "      <td id=\"T_0d9cb_row9_col0\" class=\"data row9 col0\" >14899.6104</td>\n",
       "      <td id=\"T_0d9cb_row9_col1\" class=\"data row9 col1\" >458237388.8198</td>\n",
       "      <td id=\"T_0d9cb_row9_col2\" class=\"data row9 col2\" >21406.4801</td>\n",
       "      <td id=\"T_0d9cb_row9_col3\" class=\"data row9 col3\" >0.9170</td>\n",
       "      <td id=\"T_0d9cb_row9_col4\" class=\"data row9 col4\" >0.1064</td>\n",
       "      <td id=\"T_0d9cb_row9_col5\" class=\"data row9 col5\" >0.0807</td>\n",
       "    </tr>\n",
       "    <tr>\n",
       "      <th id=\"T_0d9cb_level0_row10\" class=\"row_heading level0 row10\" >Mean</th>\n",
       "      <td id=\"T_0d9cb_row10_col0\" class=\"data row10 col0\" >17242.5199</td>\n",
       "      <td id=\"T_0d9cb_row10_col1\" class=\"data row10 col1\" >856798302.8345</td>\n",
       "      <td id=\"T_0d9cb_row10_col2\" class=\"data row10 col2\" >28402.9232</td>\n",
       "      <td id=\"T_0d9cb_row10_col3\" class=\"data row10 col3\" >0.8718</td>\n",
       "      <td id=\"T_0d9cb_row10_col4\" class=\"data row10 col4\" >0.1375</td>\n",
       "      <td id=\"T_0d9cb_row10_col5\" class=\"data row10 col5\" >0.0998</td>\n",
       "    </tr>\n",
       "    <tr>\n",
       "      <th id=\"T_0d9cb_level0_row11\" class=\"row_heading level0 row11\" >Std</th>\n",
       "      <td id=\"T_0d9cb_row11_col0\" class=\"data row11 col0\" >2034.7012</td>\n",
       "      <td id=\"T_0d9cb_row11_col1\" class=\"data row11 col1\" >474922587.0401</td>\n",
       "      <td id=\"T_0d9cb_row11_col2\" class=\"data row11 col2\" >7076.1754</td>\n",
       "      <td id=\"T_0d9cb_row11_col3\" class=\"data row11 col3\" >0.0504</td>\n",
       "      <td id=\"T_0d9cb_row11_col4\" class=\"data row11 col4\" >0.0230</td>\n",
       "      <td id=\"T_0d9cb_row11_col5\" class=\"data row11 col5\" >0.0127</td>\n",
       "    </tr>\n",
       "  </tbody>\n",
       "</table>\n"
      ],
      "text/plain": [
       "<pandas.io.formats.style.Styler at 0x1624869a0>"
      ]
     },
     "metadata": {},
     "output_type": "display_data"
    },
    {
     "data": {
      "application/vnd.jupyter.widget-view+json": {
       "model_id": "",
       "version_major": 2,
       "version_minor": 0
      },
      "text/plain": [
       "Processing:   0%|          | 0/4 [00:00<?, ?it/s]"
      ]
     },
     "metadata": {},
     "output_type": "display_data"
    }
   ],
   "source": [
    "gbr = create_model('gbr')"
   ]
  },
  {
   "cell_type": "markdown",
   "id": "833e6506",
   "metadata": {},
   "source": [
    "## 모델 튜닝"
   ]
  },
  {
   "cell_type": "code",
   "execution_count": 19,
   "id": "4a62ff09",
   "metadata": {},
   "outputs": [
    {
     "data": {
      "text/html": [],
      "text/plain": [
       "<IPython.core.display.HTML object>"
      ]
     },
     "metadata": {},
     "output_type": "display_data"
    },
    {
     "data": {
      "text/html": [
       "<style type=\"text/css\">\n",
       "#T_1428d_row10_col0, #T_1428d_row10_col1, #T_1428d_row10_col2, #T_1428d_row10_col3, #T_1428d_row10_col4, #T_1428d_row10_col5 {\n",
       "  background: yellow;\n",
       "}\n",
       "</style>\n",
       "<table id=\"T_1428d\">\n",
       "  <thead>\n",
       "    <tr>\n",
       "      <th class=\"blank level0\" >&nbsp;</th>\n",
       "      <th id=\"T_1428d_level0_col0\" class=\"col_heading level0 col0\" >MAE</th>\n",
       "      <th id=\"T_1428d_level0_col1\" class=\"col_heading level0 col1\" >MSE</th>\n",
       "      <th id=\"T_1428d_level0_col2\" class=\"col_heading level0 col2\" >RMSE</th>\n",
       "      <th id=\"T_1428d_level0_col3\" class=\"col_heading level0 col3\" >R2</th>\n",
       "      <th id=\"T_1428d_level0_col4\" class=\"col_heading level0 col4\" >RMSLE</th>\n",
       "      <th id=\"T_1428d_level0_col5\" class=\"col_heading level0 col5\" >MAPE</th>\n",
       "    </tr>\n",
       "    <tr>\n",
       "      <th class=\"index_name level0\" >Fold</th>\n",
       "      <th class=\"blank col0\" >&nbsp;</th>\n",
       "      <th class=\"blank col1\" >&nbsp;</th>\n",
       "      <th class=\"blank col2\" >&nbsp;</th>\n",
       "      <th class=\"blank col3\" >&nbsp;</th>\n",
       "      <th class=\"blank col4\" >&nbsp;</th>\n",
       "      <th class=\"blank col5\" >&nbsp;</th>\n",
       "    </tr>\n",
       "  </thead>\n",
       "  <tbody>\n",
       "    <tr>\n",
       "      <th id=\"T_1428d_level0_row0\" class=\"row_heading level0 row0\" >0</th>\n",
       "      <td id=\"T_1428d_row0_col0\" class=\"data row0 col0\" >22430.1919</td>\n",
       "      <td id=\"T_1428d_row0_col1\" class=\"data row0 col1\" >2066137025.3392</td>\n",
       "      <td id=\"T_1428d_row0_col2\" class=\"data row0 col2\" >45454.7800</td>\n",
       "      <td id=\"T_1428d_row0_col3\" class=\"data row0 col3\" >0.7476</td>\n",
       "      <td id=\"T_1428d_row0_col4\" class=\"data row0 col4\" >0.1985</td>\n",
       "      <td id=\"T_1428d_row0_col5\" class=\"data row0 col5\" >0.1306</td>\n",
       "    </tr>\n",
       "    <tr>\n",
       "      <th id=\"T_1428d_level0_row1\" class=\"row_heading level0 row1\" >1</th>\n",
       "      <td id=\"T_1428d_row1_col0\" class=\"data row1 col0\" >17058.7840</td>\n",
       "      <td id=\"T_1428d_row1_col1\" class=\"data row1 col1\" >710142209.2129</td>\n",
       "      <td id=\"T_1428d_row1_col2\" class=\"data row1 col2\" >26648.4936</td>\n",
       "      <td id=\"T_1428d_row1_col3\" class=\"data row1 col3\" >0.8892</td>\n",
       "      <td id=\"T_1428d_row1_col4\" class=\"data row1 col4\" >0.1281</td>\n",
       "      <td id=\"T_1428d_row1_col5\" class=\"data row1 col5\" >0.0912</td>\n",
       "    </tr>\n",
       "    <tr>\n",
       "      <th id=\"T_1428d_level0_row2\" class=\"row_heading level0 row2\" >2</th>\n",
       "      <td id=\"T_1428d_row2_col0\" class=\"data row2 col0\" >16602.8236</td>\n",
       "      <td id=\"T_1428d_row2_col1\" class=\"data row2 col1\" >581676511.0349</td>\n",
       "      <td id=\"T_1428d_row2_col2\" class=\"data row2 col2\" >24117.9707</td>\n",
       "      <td id=\"T_1428d_row2_col3\" class=\"data row2 col3\" >0.8741</td>\n",
       "      <td id=\"T_1428d_row2_col4\" class=\"data row2 col4\" >0.1415</td>\n",
       "      <td id=\"T_1428d_row2_col5\" class=\"data row2 col5\" >0.1041</td>\n",
       "    </tr>\n",
       "    <tr>\n",
       "      <th id=\"T_1428d_level0_row3\" class=\"row_heading level0 row3\" >3</th>\n",
       "      <td id=\"T_1428d_row3_col0\" class=\"data row3 col0\" >16642.1493</td>\n",
       "      <td id=\"T_1428d_row3_col1\" class=\"data row3 col1\" >617523619.2323</td>\n",
       "      <td id=\"T_1428d_row3_col2\" class=\"data row3 col2\" >24850.0225</td>\n",
       "      <td id=\"T_1428d_row3_col3\" class=\"data row3 col3\" >0.8810</td>\n",
       "      <td id=\"T_1428d_row3_col4\" class=\"data row3 col4\" >0.1328</td>\n",
       "      <td id=\"T_1428d_row3_col5\" class=\"data row3 col5\" >0.0984</td>\n",
       "    </tr>\n",
       "    <tr>\n",
       "      <th id=\"T_1428d_level0_row4\" class=\"row_heading level0 row4\" >4</th>\n",
       "      <td id=\"T_1428d_row4_col0\" class=\"data row4 col0\" >20836.1742</td>\n",
       "      <td id=\"T_1428d_row4_col1\" class=\"data row4 col1\" >1531598030.0311</td>\n",
       "      <td id=\"T_1428d_row4_col2\" class=\"data row4 col2\" >39135.6363</td>\n",
       "      <td id=\"T_1428d_row4_col3\" class=\"data row4 col3\" >0.8442</td>\n",
       "      <td id=\"T_1428d_row4_col4\" class=\"data row4 col4\" >0.1732</td>\n",
       "      <td id=\"T_1428d_row4_col5\" class=\"data row4 col5\" >0.1242</td>\n",
       "    </tr>\n",
       "    <tr>\n",
       "      <th id=\"T_1428d_level0_row5\" class=\"row_heading level0 row5\" >5</th>\n",
       "      <td id=\"T_1428d_row5_col0\" class=\"data row5 col0\" >17595.3516</td>\n",
       "      <td id=\"T_1428d_row5_col1\" class=\"data row5 col1\" >774651170.9311</td>\n",
       "      <td id=\"T_1428d_row5_col2\" class=\"data row5 col2\" >27832.5560</td>\n",
       "      <td id=\"T_1428d_row5_col3\" class=\"data row5 col3\" >0.8927</td>\n",
       "      <td id=\"T_1428d_row5_col4\" class=\"data row5 col4\" >0.1471</td>\n",
       "      <td id=\"T_1428d_row5_col5\" class=\"data row5 col5\" >0.1043</td>\n",
       "    </tr>\n",
       "    <tr>\n",
       "      <th id=\"T_1428d_level0_row6\" class=\"row_heading level0 row6\" >6</th>\n",
       "      <td id=\"T_1428d_row6_col0\" class=\"data row6 col0\" >22024.3518</td>\n",
       "      <td id=\"T_1428d_row6_col1\" class=\"data row6 col1\" >1236803281.1709</td>\n",
       "      <td id=\"T_1428d_row6_col2\" class=\"data row6 col2\" >35168.2141</td>\n",
       "      <td id=\"T_1428d_row6_col3\" class=\"data row6 col3\" >0.7376</td>\n",
       "      <td id=\"T_1428d_row6_col4\" class=\"data row6 col4\" >0.1481</td>\n",
       "      <td id=\"T_1428d_row6_col5\" class=\"data row6 col5\" >0.1133</td>\n",
       "    </tr>\n",
       "    <tr>\n",
       "      <th id=\"T_1428d_level0_row7\" class=\"row_heading level0 row7\" >7</th>\n",
       "      <td id=\"T_1428d_row7_col0\" class=\"data row7 col0\" >16327.1751</td>\n",
       "      <td id=\"T_1428d_row7_col1\" class=\"data row7 col1\" >542272736.4774</td>\n",
       "      <td id=\"T_1428d_row7_col2\" class=\"data row7 col2\" >23286.7502</td>\n",
       "      <td id=\"T_1428d_row7_col3\" class=\"data row7 col3\" >0.9204</td>\n",
       "      <td id=\"T_1428d_row7_col4\" class=\"data row7 col4\" >0.1204</td>\n",
       "      <td id=\"T_1428d_row7_col5\" class=\"data row7 col5\" >0.0927</td>\n",
       "    </tr>\n",
       "    <tr>\n",
       "      <th id=\"T_1428d_level0_row8\" class=\"row_heading level0 row8\" >8</th>\n",
       "      <td id=\"T_1428d_row8_col0\" class=\"data row8 col0\" >19654.8772</td>\n",
       "      <td id=\"T_1428d_row8_col1\" class=\"data row8 col1\" >1697516642.5628</td>\n",
       "      <td id=\"T_1428d_row8_col2\" class=\"data row8 col2\" >41200.9301</td>\n",
       "      <td id=\"T_1428d_row8_col3\" class=\"data row8 col3\" >0.7467</td>\n",
       "      <td id=\"T_1428d_row8_col4\" class=\"data row8 col4\" >0.1674</td>\n",
       "      <td id=\"T_1428d_row8_col5\" class=\"data row8 col5\" >0.1155</td>\n",
       "    </tr>\n",
       "    <tr>\n",
       "      <th id=\"T_1428d_level0_row9\" class=\"row_heading level0 row9\" >9</th>\n",
       "      <td id=\"T_1428d_row9_col0\" class=\"data row9 col0\" >15124.3000</td>\n",
       "      <td id=\"T_1428d_row9_col1\" class=\"data row9 col1\" >481666095.4885</td>\n",
       "      <td id=\"T_1428d_row9_col2\" class=\"data row9 col2\" >21946.8926</td>\n",
       "      <td id=\"T_1428d_row9_col3\" class=\"data row9 col3\" >0.9127</td>\n",
       "      <td id=\"T_1428d_row9_col4\" class=\"data row9 col4\" >0.1142</td>\n",
       "      <td id=\"T_1428d_row9_col5\" class=\"data row9 col5\" >0.0862</td>\n",
       "    </tr>\n",
       "    <tr>\n",
       "      <th id=\"T_1428d_level0_row10\" class=\"row_heading level0 row10\" >Mean</th>\n",
       "      <td id=\"T_1428d_row10_col0\" class=\"data row10 col0\" >18429.6179</td>\n",
       "      <td id=\"T_1428d_row10_col1\" class=\"data row10 col1\" >1023998732.1481</td>\n",
       "      <td id=\"T_1428d_row10_col2\" class=\"data row10 col2\" >30964.2246</td>\n",
       "      <td id=\"T_1428d_row10_col3\" class=\"data row10 col3\" >0.8446</td>\n",
       "      <td id=\"T_1428d_row10_col4\" class=\"data row10 col4\" >0.1471</td>\n",
       "      <td id=\"T_1428d_row10_col5\" class=\"data row10 col5\" >0.1060</td>\n",
       "    </tr>\n",
       "    <tr>\n",
       "      <th id=\"T_1428d_level0_row11\" class=\"row_heading level0 row11\" >Std</th>\n",
       "      <td id=\"T_1428d_row11_col0\" class=\"data row11 col0\" >2463.1743</td>\n",
       "      <td id=\"T_1428d_row11_col1\" class=\"data row11 col1\" >537620417.4653</td>\n",
       "      <td id=\"T_1428d_row11_col2\" class=\"data row11 col2\" >8075.6131</td>\n",
       "      <td id=\"T_1428d_row11_col3\" class=\"data row11 col3\" >0.0688</td>\n",
       "      <td id=\"T_1428d_row11_col4\" class=\"data row11 col4\" >0.0248</td>\n",
       "      <td id=\"T_1428d_row11_col5\" class=\"data row11 col5\" >0.0139</td>\n",
       "    </tr>\n",
       "  </tbody>\n",
       "</table>\n"
      ],
      "text/plain": [
       "<pandas.io.formats.style.Styler at 0x160ee1070>"
      ]
     },
     "metadata": {},
     "output_type": "display_data"
    },
    {
     "data": {
      "application/vnd.jupyter.widget-view+json": {
       "model_id": "",
       "version_major": 2,
       "version_minor": 0
      },
      "text/plain": [
       "Processing:   0%|          | 0/7 [00:00<?, ?it/s]"
      ]
     },
     "metadata": {},
     "output_type": "display_data"
    },
    {
     "name": "stdout",
     "output_type": "stream",
     "text": [
      "Fitting 10 folds for each of 10 candidates, totalling 100 fits\n",
      "Original model was better than the tuned model, hence it will be returned. NOTE: The display metrics are for the tuned model (not the original one).\n"
     ]
    }
   ],
   "source": [
    "tuned_gbr = tune_model(gbr)"
   ]
  },
  {
   "cell_type": "code",
   "execution_count": 20,
   "id": "2cbcadcb",
   "metadata": {},
   "outputs": [
    {
     "data": {
      "text/html": [
       "<style>#sk-container-id-1 {color: black;background-color: white;}#sk-container-id-1 pre{padding: 0;}#sk-container-id-1 div.sk-toggleable {background-color: white;}#sk-container-id-1 label.sk-toggleable__label {cursor: pointer;display: block;width: 100%;margin-bottom: 0;padding: 0.3em;box-sizing: border-box;text-align: center;}#sk-container-id-1 label.sk-toggleable__label-arrow:before {content: \"▸\";float: left;margin-right: 0.25em;color: #696969;}#sk-container-id-1 label.sk-toggleable__label-arrow:hover:before {color: black;}#sk-container-id-1 div.sk-estimator:hover label.sk-toggleable__label-arrow:before {color: black;}#sk-container-id-1 div.sk-toggleable__content {max-height: 0;max-width: 0;overflow: hidden;text-align: left;background-color: #f0f8ff;}#sk-container-id-1 div.sk-toggleable__content pre {margin: 0.2em;color: black;border-radius: 0.25em;background-color: #f0f8ff;}#sk-container-id-1 input.sk-toggleable__control:checked~div.sk-toggleable__content {max-height: 200px;max-width: 100%;overflow: auto;}#sk-container-id-1 input.sk-toggleable__control:checked~label.sk-toggleable__label-arrow:before {content: \"▾\";}#sk-container-id-1 div.sk-estimator input.sk-toggleable__control:checked~label.sk-toggleable__label {background-color: #d4ebff;}#sk-container-id-1 div.sk-label input.sk-toggleable__control:checked~label.sk-toggleable__label {background-color: #d4ebff;}#sk-container-id-1 input.sk-hidden--visually {border: 0;clip: rect(1px 1px 1px 1px);clip: rect(1px, 1px, 1px, 1px);height: 1px;margin: -1px;overflow: hidden;padding: 0;position: absolute;width: 1px;}#sk-container-id-1 div.sk-estimator {font-family: monospace;background-color: #f0f8ff;border: 1px dotted black;border-radius: 0.25em;box-sizing: border-box;margin-bottom: 0.5em;}#sk-container-id-1 div.sk-estimator:hover {background-color: #d4ebff;}#sk-container-id-1 div.sk-parallel-item::after {content: \"\";width: 100%;border-bottom: 1px solid gray;flex-grow: 1;}#sk-container-id-1 div.sk-label:hover label.sk-toggleable__label {background-color: #d4ebff;}#sk-container-id-1 div.sk-serial::before {content: \"\";position: absolute;border-left: 1px solid gray;box-sizing: border-box;top: 0;bottom: 0;left: 50%;z-index: 0;}#sk-container-id-1 div.sk-serial {display: flex;flex-direction: column;align-items: center;background-color: white;padding-right: 0.2em;padding-left: 0.2em;position: relative;}#sk-container-id-1 div.sk-item {position: relative;z-index: 1;}#sk-container-id-1 div.sk-parallel {display: flex;align-items: stretch;justify-content: center;background-color: white;position: relative;}#sk-container-id-1 div.sk-item::before, #sk-container-id-1 div.sk-parallel-item::before {content: \"\";position: absolute;border-left: 1px solid gray;box-sizing: border-box;top: 0;bottom: 0;left: 50%;z-index: -1;}#sk-container-id-1 div.sk-parallel-item {display: flex;flex-direction: column;z-index: 1;position: relative;background-color: white;}#sk-container-id-1 div.sk-parallel-item:first-child::after {align-self: flex-end;width: 50%;}#sk-container-id-1 div.sk-parallel-item:last-child::after {align-self: flex-start;width: 50%;}#sk-container-id-1 div.sk-parallel-item:only-child::after {width: 0;}#sk-container-id-1 div.sk-dashed-wrapped {border: 1px dashed gray;margin: 0 0.4em 0.5em 0.4em;box-sizing: border-box;padding-bottom: 0.4em;background-color: white;}#sk-container-id-1 div.sk-label label {font-family: monospace;font-weight: bold;display: inline-block;line-height: 1.2em;}#sk-container-id-1 div.sk-label-container {text-align: center;}#sk-container-id-1 div.sk-container {/* jupyter's `normalize.less` sets `[hidden] { display: none; }` but bootstrap.min.css set `[hidden] { display: none !important; }` so we also need the `!important` here to be able to override the default hidden behavior on the sphinx rendered scikit-learn.org. See: https://github.com/scikit-learn/scikit-learn/issues/21755 */display: inline-block !important;position: relative;}#sk-container-id-1 div.sk-text-repr-fallback {display: none;}</style><div id=\"sk-container-id-1\" class=\"sk-top-container\"><div class=\"sk-text-repr-fallback\"><pre>GradientBoostingRegressor(random_state=123)</pre><b>In a Jupyter environment, please rerun this cell to show the HTML representation or trust the notebook. <br />On GitHub, the HTML representation is unable to render, please try loading this page with nbviewer.org.</b></div><div class=\"sk-container\" hidden><div class=\"sk-item\"><div class=\"sk-estimator sk-toggleable\"><input class=\"sk-toggleable__control sk-hidden--visually\" id=\"sk-estimator-id-1\" type=\"checkbox\" checked><label for=\"sk-estimator-id-1\" class=\"sk-toggleable__label sk-toggleable__label-arrow\">GradientBoostingRegressor</label><div class=\"sk-toggleable__content\"><pre>GradientBoostingRegressor(random_state=123)</pre></div></div></div></div></div>"
      ],
      "text/plain": [
       "GradientBoostingRegressor(random_state=123)"
      ]
     },
     "execution_count": 20,
     "metadata": {},
     "output_type": "execute_result"
    }
   ],
   "source": [
    "tuned_gbr"
   ]
  },
  {
   "cell_type": "code",
   "execution_count": null,
   "id": "cf1f0b04",
   "metadata": {},
   "outputs": [],
   "source": []
  },
  {
   "cell_type": "markdown",
   "id": "cac71d7c",
   "metadata": {},
   "source": [
    "### 튜닝모델에 대한 그래프 확인하기 "
   ]
  },
  {
   "cell_type": "code",
   "execution_count": 21,
   "id": "eb6fd8f6",
   "metadata": {},
   "outputs": [
    {
     "data": {
      "text/html": [],
      "text/plain": [
       "<IPython.core.display.HTML object>"
      ]
     },
     "metadata": {},
     "output_type": "display_data"
    },
    {
     "data": {
      "image/png": "[encoded data removed]",
      "text/plain": [
       "<Figure size 800x550 with 2 Axes>"
      ]
     },
     "metadata": {},
     "output_type": "display_data"
    }
   ],
   "source": [
    "plot_model(tuned_gbr)"
   ]
  },
  {
   "cell_type": "code",
   "execution_count": null,
   "id": "420023ac",
   "metadata": {},
   "outputs": [],
   "source": []
  },
  {
   "cell_type": "code",
   "execution_count": 22,
   "id": "1f7b87ac",
   "metadata": {},
   "outputs": [
    {
     "data": {
      "text/html": [],
      "text/plain": [
       "<IPython.core.display.HTML object>"
      ]
     },
     "metadata": {},
     "output_type": "display_data"
    },
    {
     "data": {
      "image/png": "[encoded data removed]",
      "text/plain": [
       "<Figure size 800x550 with 1 Axes>"
      ]
     },
     "metadata": {},
     "output_type": "display_data"
    }
   ],
   "source": [
    "plot_model(tuned_gbr, plot = 'error')"
   ]
  },
  {
   "cell_type": "code",
   "execution_count": null,
   "id": "60989bdb",
   "metadata": {},
   "outputs": [],
   "source": []
  },
  {
   "cell_type": "code",
   "execution_count": 23,
   "id": "921b01e3",
   "metadata": {},
   "outputs": [
    {
     "data": {
      "text/html": [],
      "text/plain": [
       "<IPython.core.display.HTML object>"
      ]
     },
     "metadata": {},
     "output_type": "display_data"
    },
    {
     "data": {
      "image/png": "[encoded data removed]",
      "text/plain": [
       "<Figure size 800x500 with 1 Axes>"
      ]
     },
     "metadata": {},
     "output_type": "display_data"
    }
   ],
   "source": [
    "plot_model(tuned_gbr, plot = 'feature')"
   ]
  },
  {
   "cell_type": "markdown",
   "id": "90f5c55b",
   "metadata": {},
   "source": [
    "## 평가모델 확인하기 "
   ]
  },
  {
   "cell_type": "code",
   "execution_count": 24,
   "id": "c07ac47c",
   "metadata": {},
   "outputs": [
    {
     "data": {
      "application/vnd.jupyter.widget-view+json": {
       "model_id": "a485cbe6600740938a68717bd3c0c022",
       "version_major": 2,
       "version_minor": 0
      },
      "text/plain": [
       "interactive(children=(ToggleButtons(description='Plot Type:', icons=('',), options=(('Pipeline Plot', 'pipelin…"
      ]
     },
     "metadata": {},
     "output_type": "display_data"
    },
    {
     "data": {
      "image/png": "[encoded data removed]",
      "text/plain": [
       "<Figure size 2700x600 with 1 Axes>"
      ]
     },
     "metadata": {},
     "output_type": "display_data"
    }
   ],
   "source": [
    "evaluate_model(tuned_gbr)"
   ]
  },
  {
   "cell_type": "markdown",
   "id": "129d54d8",
   "metadata": {},
   "source": [
    "## 예측하기 "
   ]
  },
  {
   "cell_type": "code",
   "execution_count": 25,
   "id": "90453047",
   "metadata": {},
   "outputs": [
    {
     "data": {
      "text/html": [
       "<style type=\"text/css\">\n",
       "</style>\n",
       "<table id=\"T_8208b\">\n",
       "  <thead>\n",
       "    <tr>\n",
       "      <th class=\"blank level0\" >&nbsp;</th>\n",
       "      <th id=\"T_8208b_level0_col0\" class=\"col_heading level0 col0\" >Model</th>\n",
       "      <th id=\"T_8208b_level0_col1\" class=\"col_heading level0 col1\" >MAE</th>\n",
       "      <th id=\"T_8208b_level0_col2\" class=\"col_heading level0 col2\" >MSE</th>\n",
       "      <th id=\"T_8208b_level0_col3\" class=\"col_heading level0 col3\" >RMSE</th>\n",
       "      <th id=\"T_8208b_level0_col4\" class=\"col_heading level0 col4\" >R2</th>\n",
       "      <th id=\"T_8208b_level0_col5\" class=\"col_heading level0 col5\" >RMSLE</th>\n",
       "      <th id=\"T_8208b_level0_col6\" class=\"col_heading level0 col6\" >MAPE</th>\n",
       "    </tr>\n",
       "  </thead>\n",
       "  <tbody>\n",
       "    <tr>\n",
       "      <th id=\"T_8208b_level0_row0\" class=\"row_heading level0 row0\" >0</th>\n",
       "      <td id=\"T_8208b_row0_col0\" class=\"data row0 col0\" >Gradient Boosting Regressor</td>\n",
       "      <td id=\"T_8208b_row0_col1\" class=\"data row0 col1\" >15346.8587</td>\n",
       "      <td id=\"T_8208b_row0_col2\" class=\"data row0 col2\" >589399673.6666</td>\n",
       "      <td id=\"T_8208b_row0_col3\" class=\"data row0 col3\" >24277.5549</td>\n",
       "      <td id=\"T_8208b_row0_col4\" class=\"data row0 col4\" >0.8971</td>\n",
       "      <td id=\"T_8208b_row0_col5\" class=\"data row0 col5\" >0.1173</td>\n",
       "      <td id=\"T_8208b_row0_col6\" class=\"data row0 col6\" >0.0839</td>\n",
       "    </tr>\n",
       "  </tbody>\n",
       "</table>\n"
      ],
      "text/plain": [
       "<pandas.io.formats.style.Styler at 0x163a503a0>"
      ]
     },
     "metadata": {},
     "output_type": "display_data"
    },
    {
     "data": {
      "text/html": [
       "<div>\n",
       "<style scoped>\n",
       "    .dataframe tbody tr th:only-of-type {\n",
       "        vertical-align: middle;\n",
       "    }\n",
       "\n",
       "    .dataframe tbody tr th {\n",
       "        vertical-align: top;\n",
       "    }\n",
       "\n",
       "    .dataframe thead th {\n",
       "        text-align: right;\n",
       "    }\n",
       "</style>\n",
       "<table border=\"1\" class=\"dataframe\">\n",
       "  <thead>\n",
       "    <tr style=\"text-align: right;\">\n",
       "      <th></th>\n",
       "      <th>Id</th>\n",
       "      <th>MSSubClass</th>\n",
       "      <th>MSZoning</th>\n",
       "      <th>LotFrontage</th>\n",
       "      <th>LotArea</th>\n",
       "      <th>Street</th>\n",
       "      <th>LotShape</th>\n",
       "      <th>LandContour</th>\n",
       "      <th>LotConfig</th>\n",
       "      <th>LandSlope</th>\n",
       "      <th>...</th>\n",
       "      <th>3SsnPorch</th>\n",
       "      <th>ScreenPorch</th>\n",
       "      <th>PoolArea</th>\n",
       "      <th>MiscVal</th>\n",
       "      <th>MoSold</th>\n",
       "      <th>YrSold</th>\n",
       "      <th>SaleType</th>\n",
       "      <th>SaleCondition</th>\n",
       "      <th>SalePrice</th>\n",
       "      <th>prediction_label</th>\n",
       "    </tr>\n",
       "  </thead>\n",
       "  <tbody>\n",
       "    <tr>\n",
       "      <th>147</th>\n",
       "      <td>148</td>\n",
       "      <td>60</td>\n",
       "      <td>RL</td>\n",
       "      <td>NaN</td>\n",
       "      <td>9505</td>\n",
       "      <td>Pave</td>\n",
       "      <td>IR1</td>\n",
       "      <td>Lvl</td>\n",
       "      <td>CulDSac</td>\n",
       "      <td>Gtl</td>\n",
       "      <td>...</td>\n",
       "      <td>0</td>\n",
       "      <td>0</td>\n",
       "      <td>0</td>\n",
       "      <td>0</td>\n",
       "      <td>5</td>\n",
       "      <td>2010</td>\n",
       "      <td>WD</td>\n",
       "      <td>Normal</td>\n",
       "      <td>222500</td>\n",
       "      <td>222602.144163</td>\n",
       "    </tr>\n",
       "    <tr>\n",
       "      <th>676</th>\n",
       "      <td>677</td>\n",
       "      <td>70</td>\n",
       "      <td>RM</td>\n",
       "      <td>60.0</td>\n",
       "      <td>9600</td>\n",
       "      <td>Pave</td>\n",
       "      <td>Reg</td>\n",
       "      <td>Lvl</td>\n",
       "      <td>Inside</td>\n",
       "      <td>Gtl</td>\n",
       "      <td>...</td>\n",
       "      <td>0</td>\n",
       "      <td>0</td>\n",
       "      <td>0</td>\n",
       "      <td>0</td>\n",
       "      <td>5</td>\n",
       "      <td>2006</td>\n",
       "      <td>WD</td>\n",
       "      <td>Normal</td>\n",
       "      <td>87000</td>\n",
       "      <td>90126.596293</td>\n",
       "    </tr>\n",
       "    <tr>\n",
       "      <th>1304</th>\n",
       "      <td>1305</td>\n",
       "      <td>160</td>\n",
       "      <td>RM</td>\n",
       "      <td>32.0</td>\n",
       "      <td>3363</td>\n",
       "      <td>Pave</td>\n",
       "      <td>Reg</td>\n",
       "      <td>Lvl</td>\n",
       "      <td>Inside</td>\n",
       "      <td>Gtl</td>\n",
       "      <td>...</td>\n",
       "      <td>0</td>\n",
       "      <td>0</td>\n",
       "      <td>0</td>\n",
       "      <td>0</td>\n",
       "      <td>4</td>\n",
       "      <td>2006</td>\n",
       "      <td>WD</td>\n",
       "      <td>Normal</td>\n",
       "      <td>130000</td>\n",
       "      <td>155611.351984</td>\n",
       "    </tr>\n",
       "    <tr>\n",
       "      <th>1372</th>\n",
       "      <td>1373</td>\n",
       "      <td>60</td>\n",
       "      <td>RL</td>\n",
       "      <td>75.0</td>\n",
       "      <td>9750</td>\n",
       "      <td>Pave</td>\n",
       "      <td>Reg</td>\n",
       "      <td>Lvl</td>\n",
       "      <td>Corner</td>\n",
       "      <td>Gtl</td>\n",
       "      <td>...</td>\n",
       "      <td>0</td>\n",
       "      <td>0</td>\n",
       "      <td>0</td>\n",
       "      <td>0</td>\n",
       "      <td>6</td>\n",
       "      <td>2006</td>\n",
       "      <td>WD</td>\n",
       "      <td>Normal</td>\n",
       "      <td>274300</td>\n",
       "      <td>245305.656189</td>\n",
       "    </tr>\n",
       "    <tr>\n",
       "      <th>1427</th>\n",
       "      <td>1428</td>\n",
       "      <td>50</td>\n",
       "      <td>RL</td>\n",
       "      <td>60.0</td>\n",
       "      <td>10930</td>\n",
       "      <td>Pave</td>\n",
       "      <td>Reg</td>\n",
       "      <td>Bnk</td>\n",
       "      <td>Inside</td>\n",
       "      <td>Gtl</td>\n",
       "      <td>...</td>\n",
       "      <td>0</td>\n",
       "      <td>0</td>\n",
       "      <td>0</td>\n",
       "      <td>0</td>\n",
       "      <td>4</td>\n",
       "      <td>2008</td>\n",
       "      <td>WD</td>\n",
       "      <td>Normal</td>\n",
       "      <td>140000</td>\n",
       "      <td>136614.143785</td>\n",
       "    </tr>\n",
       "    <tr>\n",
       "      <th>...</th>\n",
       "      <td>...</td>\n",
       "      <td>...</td>\n",
       "      <td>...</td>\n",
       "      <td>...</td>\n",
       "      <td>...</td>\n",
       "      <td>...</td>\n",
       "      <td>...</td>\n",
       "      <td>...</td>\n",
       "      <td>...</td>\n",
       "      <td>...</td>\n",
       "      <td>...</td>\n",
       "      <td>...</td>\n",
       "      <td>...</td>\n",
       "      <td>...</td>\n",
       "      <td>...</td>\n",
       "      <td>...</td>\n",
       "      <td>...</td>\n",
       "      <td>...</td>\n",
       "      <td>...</td>\n",
       "      <td>...</td>\n",
       "      <td>...</td>\n",
       "    </tr>\n",
       "    <tr>\n",
       "      <th>1096</th>\n",
       "      <td>1097</td>\n",
       "      <td>70</td>\n",
       "      <td>RM</td>\n",
       "      <td>60.0</td>\n",
       "      <td>6882</td>\n",
       "      <td>Pave</td>\n",
       "      <td>Reg</td>\n",
       "      <td>Lvl</td>\n",
       "      <td>Inside</td>\n",
       "      <td>Gtl</td>\n",
       "      <td>...</td>\n",
       "      <td>0</td>\n",
       "      <td>0</td>\n",
       "      <td>0</td>\n",
       "      <td>0</td>\n",
       "      <td>3</td>\n",
       "      <td>2007</td>\n",
       "      <td>WD</td>\n",
       "      <td>Normal</td>\n",
       "      <td>127000</td>\n",
       "      <td>112778.665133</td>\n",
       "    </tr>\n",
       "    <tr>\n",
       "      <th>637</th>\n",
       "      <td>638</td>\n",
       "      <td>190</td>\n",
       "      <td>RM</td>\n",
       "      <td>50.0</td>\n",
       "      <td>6000</td>\n",
       "      <td>Pave</td>\n",
       "      <td>Reg</td>\n",
       "      <td>Lvl</td>\n",
       "      <td>Inside</td>\n",
       "      <td>Gtl</td>\n",
       "      <td>...</td>\n",
       "      <td>0</td>\n",
       "      <td>0</td>\n",
       "      <td>0</td>\n",
       "      <td>0</td>\n",
       "      <td>11</td>\n",
       "      <td>2009</td>\n",
       "      <td>WD</td>\n",
       "      <td>Normal</td>\n",
       "      <td>93000</td>\n",
       "      <td>108637.475303</td>\n",
       "    </tr>\n",
       "    <tr>\n",
       "      <th>753</th>\n",
       "      <td>754</td>\n",
       "      <td>60</td>\n",
       "      <td>RL</td>\n",
       "      <td>80.0</td>\n",
       "      <td>10240</td>\n",
       "      <td>Pave</td>\n",
       "      <td>Reg</td>\n",
       "      <td>Lvl</td>\n",
       "      <td>Inside</td>\n",
       "      <td>Gtl</td>\n",
       "      <td>...</td>\n",
       "      <td>0</td>\n",
       "      <td>0</td>\n",
       "      <td>0</td>\n",
       "      <td>0</td>\n",
       "      <td>3</td>\n",
       "      <td>2006</td>\n",
       "      <td>WD</td>\n",
       "      <td>Normal</td>\n",
       "      <td>275500</td>\n",
       "      <td>275193.086796</td>\n",
       "    </tr>\n",
       "    <tr>\n",
       "      <th>554</th>\n",
       "      <td>555</td>\n",
       "      <td>60</td>\n",
       "      <td>RL</td>\n",
       "      <td>85.0</td>\n",
       "      <td>10625</td>\n",
       "      <td>Pave</td>\n",
       "      <td>Reg</td>\n",
       "      <td>Lvl</td>\n",
       "      <td>Inside</td>\n",
       "      <td>Gtl</td>\n",
       "      <td>...</td>\n",
       "      <td>0</td>\n",
       "      <td>0</td>\n",
       "      <td>0</td>\n",
       "      <td>0</td>\n",
       "      <td>8</td>\n",
       "      <td>2008</td>\n",
       "      <td>WD</td>\n",
       "      <td>Normal</td>\n",
       "      <td>284000</td>\n",
       "      <td>242153.959355</td>\n",
       "    </tr>\n",
       "    <tr>\n",
       "      <th>376</th>\n",
       "      <td>377</td>\n",
       "      <td>85</td>\n",
       "      <td>RL</td>\n",
       "      <td>57.0</td>\n",
       "      <td>8846</td>\n",
       "      <td>Pave</td>\n",
       "      <td>IR1</td>\n",
       "      <td>Lvl</td>\n",
       "      <td>CulDSac</td>\n",
       "      <td>Gtl</td>\n",
       "      <td>...</td>\n",
       "      <td>0</td>\n",
       "      <td>0</td>\n",
       "      <td>0</td>\n",
       "      <td>0</td>\n",
       "      <td>7</td>\n",
       "      <td>2006</td>\n",
       "      <td>WD</td>\n",
       "      <td>Normal</td>\n",
       "      <td>148000</td>\n",
       "      <td>135634.535420</td>\n",
       "    </tr>\n",
       "  </tbody>\n",
       "</table>\n",
       "<p>439 rows × 76 columns</p>\n",
       "</div>"
      ],
      "text/plain": [
       "        Id  MSSubClass MSZoning  LotFrontage  LotArea Street LotShape  \\\n",
       "147    148          60       RL          NaN     9505   Pave      IR1   \n",
       "676    677          70       RM         60.0     9600   Pave      Reg   \n",
       "1304  1305         160       RM         32.0     3363   Pave      Reg   \n",
       "1372  1373          60       RL         75.0     9750   Pave      Reg   \n",
       "1427  1428          50       RL         60.0    10930   Pave      Reg   \n",
       "...    ...         ...      ...          ...      ...    ...      ...   \n",
       "1096  1097          70       RM         60.0     6882   Pave      Reg   \n",
       "637    638         190       RM         50.0     6000   Pave      Reg   \n",
       "753    754          60       RL         80.0    10240   Pave      Reg   \n",
       "554    555          60       RL         85.0    10625   Pave      Reg   \n",
       "376    377          85       RL         57.0     8846   Pave      IR1   \n",
       "\n",
       "     LandContour LotConfig LandSlope  ... 3SsnPorch ScreenPorch PoolArea  \\\n",
       "147          Lvl   CulDSac       Gtl  ...         0           0        0   \n",
       "676          Lvl    Inside       Gtl  ...         0           0        0   \n",
       "1304         Lvl    Inside       Gtl  ...         0           0        0   \n",
       "1372         Lvl    Corner       Gtl  ...         0           0        0   \n",
       "1427         Bnk    Inside       Gtl  ...         0           0        0   \n",
       "...          ...       ...       ...  ...       ...         ...      ...   \n",
       "1096         Lvl    Inside       Gtl  ...         0           0        0   \n",
       "637          Lvl    Inside       Gtl  ...         0           0        0   \n",
       "753          Lvl    Inside       Gtl  ...         0           0        0   \n",
       "554          Lvl    Inside       Gtl  ...         0           0        0   \n",
       "376          Lvl   CulDSac       Gtl  ...         0           0        0   \n",
       "\n",
       "     MiscVal MoSold  YrSold  SaleType  SaleCondition  SalePrice  \\\n",
       "147        0      5    2010        WD         Normal     222500   \n",
       "676        0      5    2006        WD         Normal      87000   \n",
       "1304       0      4    2006        WD         Normal     130000   \n",
       "1372       0      6    2006        WD         Normal     274300   \n",
       "1427       0      4    2008        WD         Normal     140000   \n",
       "...      ...    ...     ...       ...            ...        ...   \n",
       "1096       0      3    2007        WD         Normal     127000   \n",
       "637        0     11    2009        WD         Normal      93000   \n",
       "753        0      3    2006        WD         Normal     275500   \n",
       "554        0      8    2008        WD         Normal     284000   \n",
       "376        0      7    2006        WD         Normal     148000   \n",
       "\n",
       "     prediction_label  \n",
       "147     222602.144163  \n",
       "676      90126.596293  \n",
       "1304    155611.351984  \n",
       "1372    245305.656189  \n",
       "1427    136614.143785  \n",
       "...               ...  \n",
       "1096    112778.665133  \n",
       "637     108637.475303  \n",
       "753     275193.086796  \n",
       "554     242153.959355  \n",
       "376     135634.535420  \n",
       "\n",
       "[439 rows x 76 columns]"
      ]
     },
     "execution_count": 25,
     "metadata": {},
     "output_type": "execute_result"
    }
   ],
   "source": [
    "predict_model(tuned_gbr)"
   ]
  },
  {
   "cell_type": "markdown",
   "id": "9712b4e1",
   "metadata": {},
   "source": [
    "## 모델 확정하기 "
   ]
  },
  {
   "cell_type": "code",
   "execution_count": 26,
   "id": "7ae6b72f",
   "metadata": {},
   "outputs": [],
   "source": [
    "final_gbr = finalize_model(tuned_gbr)"
   ]
  },
  {
   "cell_type": "code",
   "execution_count": 27,
   "id": "07578db7",
   "metadata": {},
   "outputs": [
    {
     "data": {
      "text/html": [
       "<style>#sk-container-id-2 {color: black;background-color: white;}#sk-container-id-2 pre{padding: 0;}#sk-container-id-2 div.sk-toggleable {background-color: white;}#sk-container-id-2 label.sk-toggleable__label {cursor: pointer;display: block;width: 100%;margin-bottom: 0;padding: 0.3em;box-sizing: border-box;text-align: center;}#sk-container-id-2 label.sk-toggleable__label-arrow:before {content: \"▸\";float: left;margin-right: 0.25em;color: #696969;}#sk-container-id-2 label.sk-toggleable__label-arrow:hover:before {color: black;}#sk-container-id-2 div.sk-estimator:hover label.sk-toggleable__label-arrow:before {color: black;}#sk-container-id-2 div.sk-toggleable__content {max-height: 0;max-width: 0;overflow: hidden;text-align: left;background-color: #f0f8ff;}#sk-container-id-2 div.sk-toggleable__content pre {margin: 0.2em;color: black;border-radius: 0.25em;background-color: #f0f8ff;}#sk-container-id-2 input.sk-toggleable__control:checked~div.sk-toggleable__content {max-height: 200px;max-width: 100%;overflow: auto;}#sk-container-id-2 input.sk-toggleable__control:checked~label.sk-toggleable__label-arrow:before {content: \"▾\";}#sk-container-id-2 div.sk-estimator input.sk-toggleable__control:checked~label.sk-toggleable__label {background-color: #d4ebff;}#sk-container-id-2 div.sk-label input.sk-toggleable__control:checked~label.sk-toggleable__label {background-color: #d4ebff;}#sk-container-id-2 input.sk-hidden--visually {border: 0;clip: rect(1px 1px 1px 1px);clip: rect(1px, 1px, 1px, 1px);height: 1px;margin: -1px;overflow: hidden;padding: 0;position: absolute;width: 1px;}#sk-container-id-2 div.sk-estimator {font-family: monospace;background-color: #f0f8ff;border: 1px dotted black;border-radius: 0.25em;box-sizing: border-box;margin-bottom: 0.5em;}#sk-container-id-2 div.sk-estimator:hover {background-color: #d4ebff;}#sk-container-id-2 div.sk-parallel-item::after {content: \"\";width: 100%;border-bottom: 1px solid gray;flex-grow: 1;}#sk-container-id-2 div.sk-label:hover label.sk-toggleable__label {background-color: #d4ebff;}#sk-container-id-2 div.sk-serial::before {content: \"\";position: absolute;border-left: 1px solid gray;box-sizing: border-box;top: 0;bottom: 0;left: 50%;z-index: 0;}#sk-container-id-2 div.sk-serial {display: flex;flex-direction: column;align-items: center;background-color: white;padding-right: 0.2em;padding-left: 0.2em;position: relative;}#sk-container-id-2 div.sk-item {position: relative;z-index: 1;}#sk-container-id-2 div.sk-parallel {display: flex;align-items: stretch;justify-content: center;background-color: white;position: relative;}#sk-container-id-2 div.sk-item::before, #sk-container-id-2 div.sk-parallel-item::before {content: \"\";position: absolute;border-left: 1px solid gray;box-sizing: border-box;top: 0;bottom: 0;left: 50%;z-index: -1;}#sk-container-id-2 div.sk-parallel-item {display: flex;flex-direction: column;z-index: 1;position: relative;background-color: white;}#sk-container-id-2 div.sk-parallel-item:first-child::after {align-self: flex-end;width: 50%;}#sk-container-id-2 div.sk-parallel-item:last-child::after {align-self: flex-start;width: 50%;}#sk-container-id-2 div.sk-parallel-item:only-child::after {width: 0;}#sk-container-id-2 div.sk-dashed-wrapped {border: 1px dashed gray;margin: 0 0.4em 0.5em 0.4em;box-sizing: border-box;padding-bottom: 0.4em;background-color: white;}#sk-container-id-2 div.sk-label label {font-family: monospace;font-weight: bold;display: inline-block;line-height: 1.2em;}#sk-container-id-2 div.sk-label-container {text-align: center;}#sk-container-id-2 div.sk-container {/* jupyter's `normalize.less` sets `[hidden] { display: none; }` but bootstrap.min.css set `[hidden] { display: none !important; }` so we also need the `!important` here to be able to override the default hidden behavior on the sphinx rendered scikit-learn.org. See: https://github.com/scikit-learn/scikit-learn/issues/21755 */display: inline-block !important;position: relative;}#sk-container-id-2 div.sk-text-repr-fallback {display: none;}</style><div id=\"sk-container-id-2\" class=\"sk-top-container\"><div class=\"sk-text-repr-fallback\"><pre>Pipeline(memory=FastMemory(location=/var/folders/h4/44486vyn1_xbs13g1z50l5m00000gn/T/joblib),\n",
       "         steps=[(&#x27;numerical_imputer&#x27;,\n",
       "                 TransformerWrapper(include=[&#x27;Id&#x27;, &#x27;MSSubClass&#x27;, &#x27;LotFrontage&#x27;,\n",
       "                                             &#x27;LotArea&#x27;, &#x27;OverallQual&#x27;,\n",
       "                                             &#x27;OverallCond&#x27;, &#x27;YearBuilt&#x27;,\n",
       "                                             &#x27;YearRemodAdd&#x27;, &#x27;MasVnrArea&#x27;,\n",
       "                                             &#x27;BsmtFinSF1&#x27;, &#x27;BsmtFinSF2&#x27;,\n",
       "                                             &#x27;BsmtUnfSF&#x27;, &#x27;TotalBsmtSF&#x27;,\n",
       "                                             &#x27;1stFlrSF&#x27;, &#x27;2ndFlrSF&#x27;,\n",
       "                                             &#x27;LowQualFinSF&#x27;, &#x27;G...\n",
       "                                                                    &#x27;RoofMatl&#x27;,\n",
       "                                                                    &#x27;MasVnrType&#x27;,\n",
       "                                                                    &#x27;ExterQual&#x27;,\n",
       "                                                                    &#x27;ExterCond&#x27;,\n",
       "                                                                    &#x27;Foundation&#x27;,\n",
       "                                                                    &#x27;BsmtQual&#x27;,\n",
       "                                                                    &#x27;BsmtCond&#x27;,\n",
       "                                                                    &#x27;BsmtExposure&#x27;,\n",
       "                                                                    &#x27;BsmtFinType1&#x27;,\n",
       "                                                                    &#x27;BsmtFinType2&#x27;,\n",
       "                                                                    &#x27;Heating&#x27;,\n",
       "                                                                    &#x27;HeatingQC&#x27;,\n",
       "                                                                    &#x27;Electrical&#x27;,\n",
       "                                                                    &#x27;GarageType&#x27;, ...],\n",
       "                                                              handle_missing=&#x27;return_nan&#x27;,\n",
       "                                                              use_cat_names=True))),\n",
       "                (&#x27;normalize&#x27;, TransformerWrapper(transformer=StandardScaler())),\n",
       "                (&#x27;actual_estimator&#x27;,\n",
       "                 GradientBoostingRegressor(random_state=123))])</pre><b>In a Jupyter environment, please rerun this cell to show the HTML representation or trust the notebook. <br />On GitHub, the HTML representation is unable to render, please try loading this page with nbviewer.org.</b></div><div class=\"sk-container\" hidden><div class=\"sk-item sk-dashed-wrapped\"><div class=\"sk-label-container\"><div class=\"sk-label sk-toggleable\"><input class=\"sk-toggleable__control sk-hidden--visually\" id=\"sk-estimator-id-2\" type=\"checkbox\" ><label for=\"sk-estimator-id-2\" class=\"sk-toggleable__label sk-toggleable__label-arrow\">Pipeline</label><div class=\"sk-toggleable__content\"><pre>Pipeline(memory=FastMemory(location=/var/folders/h4/44486vyn1_xbs13g1z50l5m00000gn/T/joblib),\n",
       "         steps=[(&#x27;numerical_imputer&#x27;,\n",
       "                 TransformerWrapper(include=[&#x27;Id&#x27;, &#x27;MSSubClass&#x27;, &#x27;LotFrontage&#x27;,\n",
       "                                             &#x27;LotArea&#x27;, &#x27;OverallQual&#x27;,\n",
       "                                             &#x27;OverallCond&#x27;, &#x27;YearBuilt&#x27;,\n",
       "                                             &#x27;YearRemodAdd&#x27;, &#x27;MasVnrArea&#x27;,\n",
       "                                             &#x27;BsmtFinSF1&#x27;, &#x27;BsmtFinSF2&#x27;,\n",
       "                                             &#x27;BsmtUnfSF&#x27;, &#x27;TotalBsmtSF&#x27;,\n",
       "                                             &#x27;1stFlrSF&#x27;, &#x27;2ndFlrSF&#x27;,\n",
       "                                             &#x27;LowQualFinSF&#x27;, &#x27;G...\n",
       "                                                                    &#x27;RoofMatl&#x27;,\n",
       "                                                                    &#x27;MasVnrType&#x27;,\n",
       "                                                                    &#x27;ExterQual&#x27;,\n",
       "                                                                    &#x27;ExterCond&#x27;,\n",
       "                                                                    &#x27;Foundation&#x27;,\n",
       "                                                                    &#x27;BsmtQual&#x27;,\n",
       "                                                                    &#x27;BsmtCond&#x27;,\n",
       "                                                                    &#x27;BsmtExposure&#x27;,\n",
       "                                                                    &#x27;BsmtFinType1&#x27;,\n",
       "                                                                    &#x27;BsmtFinType2&#x27;,\n",
       "                                                                    &#x27;Heating&#x27;,\n",
       "                                                                    &#x27;HeatingQC&#x27;,\n",
       "                                                                    &#x27;Electrical&#x27;,\n",
       "                                                                    &#x27;GarageType&#x27;, ...],\n",
       "                                                              handle_missing=&#x27;return_nan&#x27;,\n",
       "                                                              use_cat_names=True))),\n",
       "                (&#x27;normalize&#x27;, TransformerWrapper(transformer=StandardScaler())),\n",
       "                (&#x27;actual_estimator&#x27;,\n",
       "                 GradientBoostingRegressor(random_state=123))])</pre></div></div></div><div class=\"sk-serial\"><div class=\"sk-item sk-dashed-wrapped\"><div class=\"sk-label-container\"><div class=\"sk-label sk-toggleable\"><input class=\"sk-toggleable__control sk-hidden--visually\" id=\"sk-estimator-id-3\" type=\"checkbox\" ><label for=\"sk-estimator-id-3\" class=\"sk-toggleable__label sk-toggleable__label-arrow\">numerical_imputer: TransformerWrapper</label><div class=\"sk-toggleable__content\"><pre>TransformerWrapper(include=[&#x27;Id&#x27;, &#x27;MSSubClass&#x27;, &#x27;LotFrontage&#x27;, &#x27;LotArea&#x27;,\n",
       "                            &#x27;OverallQual&#x27;, &#x27;OverallCond&#x27;, &#x27;YearBuilt&#x27;,\n",
       "                            &#x27;YearRemodAdd&#x27;, &#x27;MasVnrArea&#x27;, &#x27;BsmtFinSF1&#x27;,\n",
       "                            &#x27;BsmtFinSF2&#x27;, &#x27;BsmtUnfSF&#x27;, &#x27;TotalBsmtSF&#x27;,\n",
       "                            &#x27;1stFlrSF&#x27;, &#x27;2ndFlrSF&#x27;, &#x27;LowQualFinSF&#x27;, &#x27;GrLivArea&#x27;,\n",
       "                            &#x27;BsmtFullBath&#x27;, &#x27;BsmtHalfBath&#x27;, &#x27;FullBath&#x27;,\n",
       "                            &#x27;HalfBath&#x27;, &#x27;BedroomAbvGr&#x27;, &#x27;KitchenAbvGr&#x27;,\n",
       "                            &#x27;TotRmsAbvGrd&#x27;, &#x27;Fireplaces&#x27;, &#x27;GarageYrBlt&#x27;,\n",
       "                            &#x27;GarageCars&#x27;, &#x27;GarageArea&#x27;, &#x27;WoodDeckSF&#x27;,\n",
       "                            &#x27;OpenPorchSF&#x27;, ...],\n",
       "                   transformer=SimpleImputer())</pre></div></div></div><div class=\"sk-parallel\"><div class=\"sk-parallel-item\"><div class=\"sk-item\"><div class=\"sk-label-container\"><div class=\"sk-label sk-toggleable\"><input class=\"sk-toggleable__control sk-hidden--visually\" id=\"sk-estimator-id-4\" type=\"checkbox\" ><label for=\"sk-estimator-id-4\" class=\"sk-toggleable__label sk-toggleable__label-arrow\">transformer: SimpleImputer</label><div class=\"sk-toggleable__content\"><pre>SimpleImputer()</pre></div></div></div><div class=\"sk-serial\"><div class=\"sk-item\"><div class=\"sk-estimator sk-toggleable\"><input class=\"sk-toggleable__control sk-hidden--visually\" id=\"sk-estimator-id-5\" type=\"checkbox\" ><label for=\"sk-estimator-id-5\" class=\"sk-toggleable__label sk-toggleable__label-arrow\">SimpleImputer</label><div class=\"sk-toggleable__content\"><pre>SimpleImputer()</pre></div></div></div></div></div></div></div></div><div class=\"sk-item sk-dashed-wrapped\"><div class=\"sk-label-container\"><div class=\"sk-label sk-toggleable\"><input class=\"sk-toggleable__control sk-hidden--visually\" id=\"sk-estimator-id-6\" type=\"checkbox\" ><label for=\"sk-estimator-id-6\" class=\"sk-toggleable__label sk-toggleable__label-arrow\">categorical_imputer: TransformerWrapper</label><div class=\"sk-toggleable__content\"><pre>TransformerWrapper(include=[&#x27;MSZoning&#x27;, &#x27;Exterior1st&#x27;, &#x27;Exterior2nd&#x27;,\n",
       "                            &#x27;KitchenQual&#x27;, &#x27;Functional&#x27;, &#x27;SaleType&#x27;, &#x27;Street&#x27;,\n",
       "                            &#x27;LotShape&#x27;, &#x27;LandContour&#x27;, &#x27;LotConfig&#x27;, &#x27;LandSlope&#x27;,\n",
       "                            &#x27;Neighborhood&#x27;, &#x27;Condition1&#x27;, &#x27;Condition2&#x27;,\n",
       "                            &#x27;BldgType&#x27;, &#x27;HouseStyle&#x27;, &#x27;RoofStyle&#x27;, &#x27;RoofMatl&#x27;,\n",
       "                            &#x27;MasVnrType&#x27;, &#x27;ExterQual&#x27;, &#x27;ExterCond&#x27;,\n",
       "                            &#x27;Foundation&#x27;, &#x27;BsmtQual&#x27;, &#x27;BsmtCond&#x27;,\n",
       "                            &#x27;BsmtExposure&#x27;, &#x27;BsmtFinType1&#x27;, &#x27;BsmtFinType2&#x27;,\n",
       "                            &#x27;Heating&#x27;, &#x27;HeatingQC&#x27;, &#x27;CentralAir&#x27;, ...],\n",
       "                   transformer=SimpleImputer(strategy=&#x27;most_frequent&#x27;))</pre></div></div></div><div class=\"sk-parallel\"><div class=\"sk-parallel-item\"><div class=\"sk-item\"><div class=\"sk-label-container\"><div class=\"sk-label sk-toggleable\"><input class=\"sk-toggleable__control sk-hidden--visually\" id=\"sk-estimator-id-7\" type=\"checkbox\" ><label for=\"sk-estimator-id-7\" class=\"sk-toggleable__label sk-toggleable__label-arrow\">transformer: SimpleImputer</label><div class=\"sk-toggleable__content\"><pre>SimpleImputer(strategy=&#x27;most_frequent&#x27;)</pre></div></div></div><div class=\"sk-serial\"><div class=\"sk-item\"><div class=\"sk-estimator sk-toggleable\"><input class=\"sk-toggleable__control sk-hidden--visually\" id=\"sk-estimator-id-8\" type=\"checkbox\" ><label for=\"sk-estimator-id-8\" class=\"sk-toggleable__label sk-toggleable__label-arrow\">SimpleImputer</label><div class=\"sk-toggleable__content\"><pre>SimpleImputer(strategy=&#x27;most_frequent&#x27;)</pre></div></div></div></div></div></div></div></div><div class=\"sk-item sk-dashed-wrapped\"><div class=\"sk-label-container\"><div class=\"sk-label sk-toggleable\"><input class=\"sk-toggleable__control sk-hidden--visually\" id=\"sk-estimator-id-9\" type=\"checkbox\" ><label for=\"sk-estimator-id-9\" class=\"sk-toggleable__label sk-toggleable__label-arrow\">ordinal_encoding: TransformerWrapper</label><div class=\"sk-toggleable__content\"><pre>TransformerWrapper(include=[&#x27;Street&#x27;, &#x27;CentralAir&#x27;],\n",
       "                   transformer=OrdinalEncoder(cols=[&#x27;Street&#x27;, &#x27;CentralAir&#x27;],\n",
       "                                              handle_missing=&#x27;return_nan&#x27;,\n",
       "                                              mapping=[{&#x27;col&#x27;: &#x27;Street&#x27;,\n",
       "                                                        &#x27;data_type&#x27;: dtype(&#x27;O&#x27;),\n",
       "                                                        &#x27;mapping&#x27;: Grvl    0\n",
       "Pave    1\n",
       "NaN    -1\n",
       "dtype: int64},\n",
       "                                                       {&#x27;col&#x27;: &#x27;CentralAir&#x27;,\n",
       "                                                        &#x27;data_type&#x27;: dtype(&#x27;O&#x27;),\n",
       "                                                        &#x27;mapping&#x27;: N      0\n",
       "Y      1\n",
       "NaN   -1\n",
       "dtype: int64}]))</pre></div></div></div><div class=\"sk-parallel\"><div class=\"sk-parallel-item\"><div class=\"sk-item\"><div class=\"sk-label-container\"><div class=\"sk-label sk-toggleable\"><input class=\"sk-toggleable__control sk-hidden--visually\" id=\"sk-estimator-id-10\" type=\"checkbox\" ><label for=\"sk-estimator-id-10\" class=\"sk-toggleable__label sk-toggleable__label-arrow\">transformer: OrdinalEncoder</label><div class=\"sk-toggleable__content\"><pre>OrdinalEncoder(cols=[&#x27;Street&#x27;, &#x27;CentralAir&#x27;], handle_missing=&#x27;return_nan&#x27;,\n",
       "               mapping=[{&#x27;col&#x27;: &#x27;Street&#x27;, &#x27;data_type&#x27;: dtype(&#x27;O&#x27;),\n",
       "                         &#x27;mapping&#x27;: Grvl    0\n",
       "Pave    1\n",
       "NaN    -1\n",
       "dtype: int64},\n",
       "                        {&#x27;col&#x27;: &#x27;CentralAir&#x27;, &#x27;data_type&#x27;: dtype(&#x27;O&#x27;),\n",
       "                         &#x27;mapping&#x27;: N      0\n",
       "Y      1\n",
       "NaN   -1\n",
       "dtype: int64}])</pre></div></div></div><div class=\"sk-serial\"><div class=\"sk-item\"><div class=\"sk-estimator sk-toggleable\"><input class=\"sk-toggleable__control sk-hidden--visually\" id=\"sk-estimator-id-11\" type=\"checkbox\" ><label for=\"sk-estimator-id-11\" class=\"sk-toggleable__label sk-toggleable__label-arrow\">OrdinalEncoder</label><div class=\"sk-toggleable__content\"><pre>OrdinalEncoder(cols=[&#x27;Street&#x27;, &#x27;CentralAir&#x27;], handle_missing=&#x27;return_nan&#x27;,\n",
       "               mapping=[{&#x27;col&#x27;: &#x27;Street&#x27;, &#x27;data_type&#x27;: dtype(&#x27;O&#x27;),\n",
       "                         &#x27;mapping&#x27;: Grvl    0\n",
       "Pave    1\n",
       "NaN    -1\n",
       "dtype: int64},\n",
       "                        {&#x27;col&#x27;: &#x27;CentralAir&#x27;, &#x27;data_type&#x27;: dtype(&#x27;O&#x27;),\n",
       "                         &#x27;mapping&#x27;: N      0\n",
       "Y      1\n",
       "NaN   -1\n",
       "dtype: int64}])</pre></div></div></div></div></div></div></div></div><div class=\"sk-item sk-dashed-wrapped\"><div class=\"sk-label-container\"><div class=\"sk-label sk-toggleable\"><input class=\"sk-toggleable__control sk-hidden--visually\" id=\"sk-estimator-id-12\" type=\"checkbox\" ><label for=\"sk-estimator-id-12\" class=\"sk-toggleable__label sk-toggleable__label-arrow\">onehot_encoding: TransformerWrapper</label><div class=\"sk-toggleable__content\"><pre>TransformerWrapper(include=[&#x27;MSZoning&#x27;, &#x27;Exterior1st&#x27;, &#x27;Exterior2nd&#x27;,\n",
       "                            &#x27;KitchenQual&#x27;, &#x27;Functional&#x27;, &#x27;SaleType&#x27;, &#x27;LotShape&#x27;,\n",
       "                            &#x27;LandContour&#x27;, &#x27;LotConfig&#x27;, &#x27;LandSlope&#x27;,\n",
       "                            &#x27;Neighborhood&#x27;, &#x27;Condition1&#x27;, &#x27;Condition2&#x27;,\n",
       "                            &#x27;BldgType&#x27;, &#x27;HouseStyle&#x27;, &#x27;RoofStyle&#x27;, &#x27;RoofMatl&#x27;,\n",
       "                            &#x27;MasVnrType&#x27;, &#x27;ExterQual&#x27;, &#x27;ExterCond&#x27;,\n",
       "                            &#x27;Foundation&#x27;, &#x27;BsmtQual&#x27;, &#x27;BsmtCond&#x27;,\n",
       "                            &#x27;BsmtExposure&#x27;, &#x27;BsmtFinType1&#x27;, &#x27;BsmtF...\n",
       "                                                   &#x27;LotShape&#x27;, &#x27;LandContour&#x27;,\n",
       "                                                   &#x27;LotConfig&#x27;, &#x27;LandSlope&#x27;,\n",
       "                                                   &#x27;Neighborhood&#x27;, &#x27;Condition1&#x27;,\n",
       "                                                   &#x27;Condition2&#x27;, &#x27;BldgType&#x27;,\n",
       "                                                   &#x27;HouseStyle&#x27;, &#x27;RoofStyle&#x27;,\n",
       "                                                   &#x27;RoofMatl&#x27;, &#x27;MasVnrType&#x27;,\n",
       "                                                   &#x27;ExterQual&#x27;, &#x27;ExterCond&#x27;,\n",
       "                                                   &#x27;Foundation&#x27;, &#x27;BsmtQual&#x27;,\n",
       "                                                   &#x27;BsmtCond&#x27;, &#x27;BsmtExposure&#x27;,\n",
       "                                                   &#x27;BsmtFinType1&#x27;,\n",
       "                                                   &#x27;BsmtFinType2&#x27;, &#x27;Heating&#x27;,\n",
       "                                                   &#x27;HeatingQC&#x27;, &#x27;Electrical&#x27;,\n",
       "                                                   &#x27;GarageType&#x27;, ...],\n",
       "                                             handle_missing=&#x27;return_nan&#x27;,\n",
       "                                             use_cat_names=True))</pre></div></div></div><div class=\"sk-parallel\"><div class=\"sk-parallel-item\"><div class=\"sk-item\"><div class=\"sk-label-container\"><div class=\"sk-label sk-toggleable\"><input class=\"sk-toggleable__control sk-hidden--visually\" id=\"sk-estimator-id-13\" type=\"checkbox\" ><label for=\"sk-estimator-id-13\" class=\"sk-toggleable__label sk-toggleable__label-arrow\">transformer: OneHotEncoder</label><div class=\"sk-toggleable__content\"><pre>OneHotEncoder(cols=[&#x27;MSZoning&#x27;, &#x27;Exterior1st&#x27;, &#x27;Exterior2nd&#x27;, &#x27;KitchenQual&#x27;,\n",
       "                    &#x27;Functional&#x27;, &#x27;SaleType&#x27;, &#x27;LotShape&#x27;, &#x27;LandContour&#x27;,\n",
       "                    &#x27;LotConfig&#x27;, &#x27;LandSlope&#x27;, &#x27;Neighborhood&#x27;, &#x27;Condition1&#x27;,\n",
       "                    &#x27;Condition2&#x27;, &#x27;BldgType&#x27;, &#x27;HouseStyle&#x27;, &#x27;RoofStyle&#x27;,\n",
       "                    &#x27;RoofMatl&#x27;, &#x27;MasVnrType&#x27;, &#x27;ExterQual&#x27;, &#x27;ExterCond&#x27;,\n",
       "                    &#x27;Foundation&#x27;, &#x27;BsmtQual&#x27;, &#x27;BsmtCond&#x27;, &#x27;BsmtExposure&#x27;,\n",
       "                    &#x27;BsmtFinType1&#x27;, &#x27;BsmtFinType2&#x27;, &#x27;Heating&#x27;, &#x27;HeatingQC&#x27;,\n",
       "                    &#x27;Electrical&#x27;, &#x27;GarageType&#x27;, ...],\n",
       "              handle_missing=&#x27;return_nan&#x27;, use_cat_names=True)</pre></div></div></div><div class=\"sk-serial\"><div class=\"sk-item\"><div class=\"sk-estimator sk-toggleable\"><input class=\"sk-toggleable__control sk-hidden--visually\" id=\"sk-estimator-id-14\" type=\"checkbox\" ><label for=\"sk-estimator-id-14\" class=\"sk-toggleable__label sk-toggleable__label-arrow\">OneHotEncoder</label><div class=\"sk-toggleable__content\"><pre>OneHotEncoder(cols=[&#x27;MSZoning&#x27;, &#x27;Exterior1st&#x27;, &#x27;Exterior2nd&#x27;, &#x27;KitchenQual&#x27;,\n",
       "                    &#x27;Functional&#x27;, &#x27;SaleType&#x27;, &#x27;LotShape&#x27;, &#x27;LandContour&#x27;,\n",
       "                    &#x27;LotConfig&#x27;, &#x27;LandSlope&#x27;, &#x27;Neighborhood&#x27;, &#x27;Condition1&#x27;,\n",
       "                    &#x27;Condition2&#x27;, &#x27;BldgType&#x27;, &#x27;HouseStyle&#x27;, &#x27;RoofStyle&#x27;,\n",
       "                    &#x27;RoofMatl&#x27;, &#x27;MasVnrType&#x27;, &#x27;ExterQual&#x27;, &#x27;ExterCond&#x27;,\n",
       "                    &#x27;Foundation&#x27;, &#x27;BsmtQual&#x27;, &#x27;BsmtCond&#x27;, &#x27;BsmtExposure&#x27;,\n",
       "                    &#x27;BsmtFinType1&#x27;, &#x27;BsmtFinType2&#x27;, &#x27;Heating&#x27;, &#x27;HeatingQC&#x27;,\n",
       "                    &#x27;Electrical&#x27;, &#x27;GarageType&#x27;, ...],\n",
       "              handle_missing=&#x27;return_nan&#x27;, use_cat_names=True)</pre></div></div></div></div></div></div></div></div><div class=\"sk-item sk-dashed-wrapped\"><div class=\"sk-label-container\"><div class=\"sk-label sk-toggleable\"><input class=\"sk-toggleable__control sk-hidden--visually\" id=\"sk-estimator-id-15\" type=\"checkbox\" ><label for=\"sk-estimator-id-15\" class=\"sk-toggleable__label sk-toggleable__label-arrow\">normalize: TransformerWrapper</label><div class=\"sk-toggleable__content\"><pre>TransformerWrapper(transformer=StandardScaler())</pre></div></div></div><div class=\"sk-parallel\"><div class=\"sk-parallel-item\"><div class=\"sk-item\"><div class=\"sk-label-container\"><div class=\"sk-label sk-toggleable\"><input class=\"sk-toggleable__control sk-hidden--visually\" id=\"sk-estimator-id-16\" type=\"checkbox\" ><label for=\"sk-estimator-id-16\" class=\"sk-toggleable__label sk-toggleable__label-arrow\">transformer: StandardScaler</label><div class=\"sk-toggleable__content\"><pre>StandardScaler()</pre></div></div></div><div class=\"sk-serial\"><div class=\"sk-item\"><div class=\"sk-estimator sk-toggleable\"><input class=\"sk-toggleable__control sk-hidden--visually\" id=\"sk-estimator-id-17\" type=\"checkbox\" ><label for=\"sk-estimator-id-17\" class=\"sk-toggleable__label sk-toggleable__label-arrow\">StandardScaler</label><div class=\"sk-toggleable__content\"><pre>StandardScaler()</pre></div></div></div></div></div></div></div></div><div class=\"sk-item\"><div class=\"sk-estimator sk-toggleable\"><input class=\"sk-toggleable__control sk-hidden--visually\" id=\"sk-estimator-id-18\" type=\"checkbox\" ><label for=\"sk-estimator-id-18\" class=\"sk-toggleable__label sk-toggleable__label-arrow\">GradientBoostingRegressor</label><div class=\"sk-toggleable__content\"><pre>GradientBoostingRegressor(random_state=123)</pre></div></div></div></div></div></div></div>"
      ],
      "text/plain": [
       "Pipeline(memory=FastMemory(location=/var/folders/h4/44486vyn1_xbs13g1z50l5m00000gn/T/joblib),\n",
       "         steps=[('numerical_imputer',\n",
       "                 TransformerWrapper(include=['Id', 'MSSubClass', 'LotFrontage',\n",
       "                                             'LotArea', 'OverallQual',\n",
       "                                             'OverallCond', 'YearBuilt',\n",
       "                                             'YearRemodAdd', 'MasVnrArea',\n",
       "                                             'BsmtFinSF1', 'BsmtFinSF2',\n",
       "                                             'BsmtUnfSF', 'TotalBsmtSF',\n",
       "                                             '1stFlrSF', '2ndFlrSF',\n",
       "                                             'LowQualFinSF', 'G...\n",
       "                                                                    'RoofMatl',\n",
       "                                                                    'MasVnrType',\n",
       "                                                                    'ExterQual',\n",
       "                                                                    'ExterCond',\n",
       "                                                                    'Foundation',\n",
       "                                                                    'BsmtQual',\n",
       "                                                                    'BsmtCond',\n",
       "                                                                    'BsmtExposure',\n",
       "                                                                    'BsmtFinType1',\n",
       "                                                                    'BsmtFinType2',\n",
       "                                                                    'Heating',\n",
       "                                                                    'HeatingQC',\n",
       "                                                                    'Electrical',\n",
       "                                                                    'GarageType', ...],\n",
       "                                                              handle_missing='return_nan',\n",
       "                                                              use_cat_names=True))),\n",
       "                ('normalize', TransformerWrapper(transformer=StandardScaler())),\n",
       "                ('actual_estimator',\n",
       "                 GradientBoostingRegressor(random_state=123))])"
      ]
     },
     "execution_count": 27,
     "metadata": {},
     "output_type": "execute_result"
    }
   ],
   "source": [
    "final_gbr"
   ]
  },
  {
   "cell_type": "code",
   "execution_count": 28,
   "id": "e47a4061",
   "metadata": {},
   "outputs": [
    {
     "data": {
      "application/vnd.jupyter.widget-view+json": {
       "model_id": "d134498f8c4b44e28036f7fc3ad67aa4",
       "version_major": 2,
       "version_minor": 0
      },
      "text/plain": [
       "interactive(children=(ToggleButtons(description='Plot Type:', icons=('',), options=(('Pipeline Plot', 'pipelin…"
      ]
     },
     "metadata": {},
     "output_type": "display_data"
    },
    {
     "data": {
      "image/png": "[encoded data removed]",
      "text/plain": [
       "<Figure size 2700x600 with 1 Axes>"
      ]
     },
     "metadata": {},
     "output_type": "display_data"
    }
   ],
   "source": [
    "evaluate_model(final_gbr)"
   ]
  },
  {
   "cell_type": "markdown",
   "id": "d4eeab2f",
   "metadata": {},
   "source": [
    "## 에측할때는 새로운 데이터로 처리"
   ]
  },
  {
   "cell_type": "code",
   "execution_count": 29,
   "id": "d87a12c4",
   "metadata": {},
   "outputs": [],
   "source": [
    "# predict_model(final_gbr)"
   ]
  },
  {
   "cell_type": "code",
   "execution_count": 30,
   "id": "a5b6f387",
   "metadata": {},
   "outputs": [
    {
     "data": {
      "text/html": [],
      "text/plain": [
       "<IPython.core.display.HTML object>"
      ]
     },
     "metadata": {},
     "output_type": "display_data"
    },
    {
     "data": {
      "text/html": [
       "<div>\n",
       "<style scoped>\n",
       "    .dataframe tbody tr th:only-of-type {\n",
       "        vertical-align: middle;\n",
       "    }\n",
       "\n",
       "    .dataframe tbody tr th {\n",
       "        vertical-align: top;\n",
       "    }\n",
       "\n",
       "    .dataframe thead th {\n",
       "        text-align: right;\n",
       "    }\n",
       "</style>\n",
       "<table border=\"1\" class=\"dataframe\">\n",
       "  <thead>\n",
       "    <tr style=\"text-align: right;\">\n",
       "      <th></th>\n",
       "      <th>Id</th>\n",
       "      <th>MSSubClass</th>\n",
       "      <th>MSZoning</th>\n",
       "      <th>LotFrontage</th>\n",
       "      <th>LotArea</th>\n",
       "      <th>Street</th>\n",
       "      <th>Alley</th>\n",
       "      <th>LotShape</th>\n",
       "      <th>LandContour</th>\n",
       "      <th>Utilities</th>\n",
       "      <th>...</th>\n",
       "      <th>PoolArea</th>\n",
       "      <th>PoolQC</th>\n",
       "      <th>Fence</th>\n",
       "      <th>MiscFeature</th>\n",
       "      <th>MiscVal</th>\n",
       "      <th>MoSold</th>\n",
       "      <th>YrSold</th>\n",
       "      <th>SaleType</th>\n",
       "      <th>SaleCondition</th>\n",
       "      <th>prediction_label</th>\n",
       "    </tr>\n",
       "  </thead>\n",
       "  <tbody>\n",
       "    <tr>\n",
       "      <th>0</th>\n",
       "      <td>1461</td>\n",
       "      <td>20</td>\n",
       "      <td>RH</td>\n",
       "      <td>80.0</td>\n",
       "      <td>11622</td>\n",
       "      <td>Pave</td>\n",
       "      <td>NaN</td>\n",
       "      <td>Reg</td>\n",
       "      <td>Lvl</td>\n",
       "      <td>AllPub</td>\n",
       "      <td>...</td>\n",
       "      <td>0</td>\n",
       "      <td>NaN</td>\n",
       "      <td>MnPrv</td>\n",
       "      <td>NaN</td>\n",
       "      <td>0</td>\n",
       "      <td>6</td>\n",
       "      <td>2010</td>\n",
       "      <td>WD</td>\n",
       "      <td>Normal</td>\n",
       "      <td>121319.788517</td>\n",
       "    </tr>\n",
       "    <tr>\n",
       "      <th>1</th>\n",
       "      <td>1462</td>\n",
       "      <td>20</td>\n",
       "      <td>RL</td>\n",
       "      <td>81.0</td>\n",
       "      <td>14267</td>\n",
       "      <td>Pave</td>\n",
       "      <td>NaN</td>\n",
       "      <td>IR1</td>\n",
       "      <td>Lvl</td>\n",
       "      <td>AllPub</td>\n",
       "      <td>...</td>\n",
       "      <td>0</td>\n",
       "      <td>NaN</td>\n",
       "      <td>NaN</td>\n",
       "      <td>Gar2</td>\n",
       "      <td>12500</td>\n",
       "      <td>6</td>\n",
       "      <td>2010</td>\n",
       "      <td>WD</td>\n",
       "      <td>Normal</td>\n",
       "      <td>164794.561713</td>\n",
       "    </tr>\n",
       "    <tr>\n",
       "      <th>2</th>\n",
       "      <td>1463</td>\n",
       "      <td>60</td>\n",
       "      <td>RL</td>\n",
       "      <td>74.0</td>\n",
       "      <td>13830</td>\n",
       "      <td>Pave</td>\n",
       "      <td>NaN</td>\n",
       "      <td>IR1</td>\n",
       "      <td>Lvl</td>\n",
       "      <td>AllPub</td>\n",
       "      <td>...</td>\n",
       "      <td>0</td>\n",
       "      <td>NaN</td>\n",
       "      <td>MnPrv</td>\n",
       "      <td>NaN</td>\n",
       "      <td>0</td>\n",
       "      <td>3</td>\n",
       "      <td>2010</td>\n",
       "      <td>WD</td>\n",
       "      <td>Normal</td>\n",
       "      <td>176943.475406</td>\n",
       "    </tr>\n",
       "    <tr>\n",
       "      <th>3</th>\n",
       "      <td>1464</td>\n",
       "      <td>60</td>\n",
       "      <td>RL</td>\n",
       "      <td>78.0</td>\n",
       "      <td>9978</td>\n",
       "      <td>Pave</td>\n",
       "      <td>NaN</td>\n",
       "      <td>IR1</td>\n",
       "      <td>Lvl</td>\n",
       "      <td>AllPub</td>\n",
       "      <td>...</td>\n",
       "      <td>0</td>\n",
       "      <td>NaN</td>\n",
       "      <td>NaN</td>\n",
       "      <td>NaN</td>\n",
       "      <td>0</td>\n",
       "      <td>6</td>\n",
       "      <td>2010</td>\n",
       "      <td>WD</td>\n",
       "      <td>Normal</td>\n",
       "      <td>181234.184085</td>\n",
       "    </tr>\n",
       "    <tr>\n",
       "      <th>4</th>\n",
       "      <td>1465</td>\n",
       "      <td>120</td>\n",
       "      <td>RL</td>\n",
       "      <td>43.0</td>\n",
       "      <td>5005</td>\n",
       "      <td>Pave</td>\n",
       "      <td>NaN</td>\n",
       "      <td>IR1</td>\n",
       "      <td>HLS</td>\n",
       "      <td>AllPub</td>\n",
       "      <td>...</td>\n",
       "      <td>0</td>\n",
       "      <td>NaN</td>\n",
       "      <td>NaN</td>\n",
       "      <td>NaN</td>\n",
       "      <td>0</td>\n",
       "      <td>1</td>\n",
       "      <td>2010</td>\n",
       "      <td>WD</td>\n",
       "      <td>Normal</td>\n",
       "      <td>198957.511198</td>\n",
       "    </tr>\n",
       "  </tbody>\n",
       "</table>\n",
       "<p>5 rows × 81 columns</p>\n",
       "</div>"
      ],
      "text/plain": [
       "     Id  MSSubClass MSZoning  LotFrontage  LotArea Street Alley LotShape  \\\n",
       "0  1461          20       RH         80.0    11622   Pave   NaN      Reg   \n",
       "1  1462          20       RL         81.0    14267   Pave   NaN      IR1   \n",
       "2  1463          60       RL         74.0    13830   Pave   NaN      IR1   \n",
       "3  1464          60       RL         78.0     9978   Pave   NaN      IR1   \n",
       "4  1465         120       RL         43.0     5005   Pave   NaN      IR1   \n",
       "\n",
       "  LandContour Utilities  ... PoolArea PoolQC  Fence MiscFeature MiscVal  \\\n",
       "0         Lvl    AllPub  ...        0    NaN  MnPrv         NaN       0   \n",
       "1         Lvl    AllPub  ...        0    NaN    NaN        Gar2   12500   \n",
       "2         Lvl    AllPub  ...        0    NaN  MnPrv         NaN       0   \n",
       "3         Lvl    AllPub  ...        0    NaN    NaN         NaN       0   \n",
       "4         HLS    AllPub  ...        0    NaN    NaN         NaN       0   \n",
       "\n",
       "  MoSold YrSold  SaleType  SaleCondition  prediction_label  \n",
       "0      6   2010        WD         Normal     121319.788517  \n",
       "1      6   2010        WD         Normal     164794.561713  \n",
       "2      3   2010        WD         Normal     176943.475406  \n",
       "3      6   2010        WD         Normal     181234.184085  \n",
       "4      1   2010        WD         Normal     198957.511198  \n",
       "\n",
       "[5 rows x 81 columns]"
      ]
     },
     "execution_count": 30,
     "metadata": {},
     "output_type": "execute_result"
    }
   ],
   "source": [
    "unseen_predictions = predict_model(final_gbr, data=test)\n",
    "unseen_predictions.head()"
   ]
  },
  {
   "cell_type": "code",
   "execution_count": null,
   "id": "2aed5eb2",
   "metadata": {},
   "outputs": [],
   "source": []
  },
  {
   "cell_type": "markdown",
   "id": "6f6fa07c",
   "metadata": {},
   "source": [
    "## 예측 결과 확인하기 "
   ]
  },
  {
   "cell_type": "code",
   "execution_count": 32,
   "id": "accb48d3",
   "metadata": {},
   "outputs": [
    {
     "data": {
      "text/plain": [
       "(1459, 80)"
      ]
     },
     "execution_count": 32,
     "metadata": {},
     "output_type": "execute_result"
    }
   ],
   "source": [
    "test.shape"
   ]
  },
  {
   "cell_type": "code",
   "execution_count": 33,
   "id": "065d7acd",
   "metadata": {},
   "outputs": [
    {
     "data": {
      "text/plain": [
       "(1459, 81)"
      ]
     },
     "execution_count": 33,
     "metadata": {},
     "output_type": "execute_result"
    }
   ],
   "source": [
    "unseen_predictions.shape"
   ]
  },
  {
   "cell_type": "code",
   "execution_count": 34,
   "id": "24130401",
   "metadata": {},
   "outputs": [
    {
     "data": {
      "text/plain": [
       "0    121319.788517\n",
       "1    164794.561713\n",
       "2    176943.475406\n",
       "3    181234.184085\n",
       "4    198957.511198\n",
       "Name: prediction_label, dtype: float64"
      ]
     },
     "execution_count": 34,
     "metadata": {},
     "output_type": "execute_result"
    }
   ],
   "source": [
    "unseen_predictions['prediction_label'].head()"
   ]
  },
  {
   "cell_type": "code",
   "execution_count": 35,
   "id": "9c699492",
   "metadata": {},
   "outputs": [
    {
     "data": {
      "text/plain": [
       "(1459, 2)"
      ]
     },
     "execution_count": 35,
     "metadata": {},
     "output_type": "execute_result"
    }
   ],
   "source": [
    "y_test.shape"
   ]
  },
  {
   "cell_type": "code",
   "execution_count": 36,
   "id": "b59ce6ce",
   "metadata": {},
   "outputs": [
    {
     "data": {
      "text/plain": [
       "Index(['Id', 'SalePrice'], dtype='object')"
      ]
     },
     "execution_count": 36,
     "metadata": {},
     "output_type": "execute_result"
    }
   ],
   "source": [
    "y_test.columns"
   ]
  },
  {
   "cell_type": "code",
   "execution_count": 37,
   "id": "c4773352",
   "metadata": {},
   "outputs": [
    {
     "data": {
      "text/plain": [
       "896"
      ]
     },
     "execution_count": 37,
     "metadata": {},
     "output_type": "execute_result"
    }
   ],
   "source": [
    "(y_test['SalePrice'] > unseen_predictions['prediction_label']).sum()"
   ]
  },
  {
   "cell_type": "code",
   "execution_count": 38,
   "id": "2e3165b0",
   "metadata": {},
   "outputs": [
    {
     "data": {
      "text/plain": [
       "563"
      ]
     },
     "execution_count": 38,
     "metadata": {},
     "output_type": "execute_result"
    }
   ],
   "source": [
    "(y_test['SalePrice'] < unseen_predictions['prediction_label']).sum()"
   ]
  },
  {
   "cell_type": "markdown",
   "id": "1c5e985d",
   "metadata": {},
   "source": [
    "## 모델 저장하기 "
   ]
  },
  {
   "cell_type": "code",
   "execution_count": 39,
   "id": "5e275285",
   "metadata": {},
   "outputs": [
    {
     "name": "stdout",
     "output_type": "stream",
     "text": [
      "Transformation Pipeline and Model Successfully Saved\n"
     ]
    },
    {
     "data": {
      "text/plain": [
       "(Pipeline(memory=FastMemory(location=/var/folders/h4/44486vyn1_xbs13g1z50l5m00000gn/T/joblib),\n",
       "          steps=[('numerical_imputer',\n",
       "                  TransformerWrapper(include=['Id', 'MSSubClass', 'LotFrontage',\n",
       "                                              'LotArea', 'OverallQual',\n",
       "                                              'OverallCond', 'YearBuilt',\n",
       "                                              'YearRemodAdd', 'MasVnrArea',\n",
       "                                              'BsmtFinSF1', 'BsmtFinSF2',\n",
       "                                              'BsmtUnfSF', 'TotalBsmtSF',\n",
       "                                              '1stFlrSF', '2ndFlrSF',\n",
       "                                              'LowQualFinSF', 'G...\n",
       "                                                                     'RoofMatl',\n",
       "                                                                     'MasVnrType',\n",
       "                                                                     'ExterQual',\n",
       "                                                                     'ExterCond',\n",
       "                                                                     'Foundation',\n",
       "                                                                     'BsmtQual',\n",
       "                                                                     'BsmtCond',\n",
       "                                                                     'BsmtExposure',\n",
       "                                                                     'BsmtFinType1',\n",
       "                                                                     'BsmtFinType2',\n",
       "                                                                     'Heating',\n",
       "                                                                     'HeatingQC',\n",
       "                                                                     'Electrical',\n",
       "                                                                     'GarageType', ...],\n",
       "                                                               handle_missing='return_nan',\n",
       "                                                               use_cat_names=True))),\n",
       "                 ('normalize', TransformerWrapper(transformer=StandardScaler())),\n",
       "                 ('actual_estimator',\n",
       "                  GradientBoostingRegressor(random_state=123))]),\n",
       " 'Final GBR Model 7Jul2021.pkl')"
      ]
     },
     "execution_count": 39,
     "metadata": {},
     "output_type": "execute_result"
    }
   ],
   "source": [
    "save_model(final_gbr,'Final GBR Model 7Jul2021')"
   ]
  },
  {
   "cell_type": "markdown",
   "id": "a19dbeda",
   "metadata": {},
   "source": [
    "## catboost 모델로 처리하기"
   ]
  },
  {
   "cell_type": "code",
   "execution_count": 79,
   "id": "eeee8037",
   "metadata": {},
   "outputs": [
    {
     "data": {
      "text/html": [],
      "text/plain": [
       "<IPython.core.display.HTML object>"
      ]
     },
     "metadata": {},
     "output_type": "display_data"
    },
    {
     "data": {
      "text/html": [
       "<style type=\"text/css\">\n",
       "#T_eef3f_row10_col0, #T_eef3f_row10_col1, #T_eef3f_row10_col2, #T_eef3f_row10_col3, #T_eef3f_row10_col4, #T_eef3f_row10_col5 {\n",
       "  background: yellow;\n",
       "}\n",
       "</style>\n",
       "<table id=\"T_eef3f\">\n",
       "  <thead>\n",
       "    <tr>\n",
       "      <th class=\"blank level0\" >&nbsp;</th>\n",
       "      <th id=\"T_eef3f_level0_col0\" class=\"col_heading level0 col0\" >MAE</th>\n",
       "      <th id=\"T_eef3f_level0_col1\" class=\"col_heading level0 col1\" >MSE</th>\n",
       "      <th id=\"T_eef3f_level0_col2\" class=\"col_heading level0 col2\" >RMSE</th>\n",
       "      <th id=\"T_eef3f_level0_col3\" class=\"col_heading level0 col3\" >R2</th>\n",
       "      <th id=\"T_eef3f_level0_col4\" class=\"col_heading level0 col4\" >RMSLE</th>\n",
       "      <th id=\"T_eef3f_level0_col5\" class=\"col_heading level0 col5\" >MAPE</th>\n",
       "    </tr>\n",
       "    <tr>\n",
       "      <th class=\"index_name level0\" >Fold</th>\n",
       "      <th class=\"blank col0\" >&nbsp;</th>\n",
       "      <th class=\"blank col1\" >&nbsp;</th>\n",
       "      <th class=\"blank col2\" >&nbsp;</th>\n",
       "      <th class=\"blank col3\" >&nbsp;</th>\n",
       "      <th class=\"blank col4\" >&nbsp;</th>\n",
       "      <th class=\"blank col5\" >&nbsp;</th>\n",
       "    </tr>\n",
       "  </thead>\n",
       "  <tbody>\n",
       "    <tr>\n",
       "      <th id=\"T_eef3f_level0_row0\" class=\"row_heading level0 row0\" >0</th>\n",
       "      <td id=\"T_eef3f_row0_col0\" class=\"data row0 col0\" >18664.6530</td>\n",
       "      <td id=\"T_eef3f_row0_col1\" class=\"data row0 col1\" >2033720929.8023</td>\n",
       "      <td id=\"T_eef3f_row0_col2\" class=\"data row0 col2\" >45096.7951</td>\n",
       "      <td id=\"T_eef3f_row0_col3\" class=\"data row0 col3\" >0.7516</td>\n",
       "      <td id=\"T_eef3f_row0_col4\" class=\"data row0 col4\" >0.1753</td>\n",
       "      <td id=\"T_eef3f_row0_col5\" class=\"data row0 col5\" >0.1070</td>\n",
       "    </tr>\n",
       "    <tr>\n",
       "      <th id=\"T_eef3f_level0_row1\" class=\"row_heading level0 row1\" >1</th>\n",
       "      <td id=\"T_eef3f_row1_col0\" class=\"data row1 col0\" >15375.2345</td>\n",
       "      <td id=\"T_eef3f_row1_col1\" class=\"data row1 col1\" >628449694.9667</td>\n",
       "      <td id=\"T_eef3f_row1_col2\" class=\"data row1 col2\" >25068.8990</td>\n",
       "      <td id=\"T_eef3f_row1_col3\" class=\"data row1 col3\" >0.9019</td>\n",
       "      <td id=\"T_eef3f_row1_col4\" class=\"data row1 col4\" >0.1117</td>\n",
       "      <td id=\"T_eef3f_row1_col5\" class=\"data row1 col5\" >0.0809</td>\n",
       "    </tr>\n",
       "    <tr>\n",
       "      <th id=\"T_eef3f_level0_row2\" class=\"row_heading level0 row2\" >2</th>\n",
       "      <td id=\"T_eef3f_row2_col0\" class=\"data row2 col0\" >13068.9007</td>\n",
       "      <td id=\"T_eef3f_row2_col1\" class=\"data row2 col1\" >368716890.9564</td>\n",
       "      <td id=\"T_eef3f_row2_col2\" class=\"data row2 col2\" >19202.0023</td>\n",
       "      <td id=\"T_eef3f_row2_col3\" class=\"data row2 col3\" >0.9202</td>\n",
       "      <td id=\"T_eef3f_row2_col4\" class=\"data row2 col4\" >0.1185</td>\n",
       "      <td id=\"T_eef3f_row2_col5\" class=\"data row2 col5\" >0.0844</td>\n",
       "    </tr>\n",
       "    <tr>\n",
       "      <th id=\"T_eef3f_level0_row3\" class=\"row_heading level0 row3\" >3</th>\n",
       "      <td id=\"T_eef3f_row3_col0\" class=\"data row3 col0\" >13883.1716</td>\n",
       "      <td id=\"T_eef3f_row3_col1\" class=\"data row3 col1\" >485310168.9988</td>\n",
       "      <td id=\"T_eef3f_row3_col2\" class=\"data row3 col2\" >22029.7564</td>\n",
       "      <td id=\"T_eef3f_row3_col3\" class=\"data row3 col3\" >0.9064</td>\n",
       "      <td id=\"T_eef3f_row3_col4\" class=\"data row3 col4\" >0.1148</td>\n",
       "      <td id=\"T_eef3f_row3_col5\" class=\"data row3 col5\" >0.0818</td>\n",
       "    </tr>\n",
       "    <tr>\n",
       "      <th id=\"T_eef3f_level0_row4\" class=\"row_heading level0 row4\" >4</th>\n",
       "      <td id=\"T_eef3f_row4_col0\" class=\"data row4 col0\" >18101.5476</td>\n",
       "      <td id=\"T_eef3f_row4_col1\" class=\"data row4 col1\" >1231129892.2223</td>\n",
       "      <td id=\"T_eef3f_row4_col2\" class=\"data row4 col2\" >35087.4606</td>\n",
       "      <td id=\"T_eef3f_row4_col3\" class=\"data row4 col3\" >0.8748</td>\n",
       "      <td id=\"T_eef3f_row4_col4\" class=\"data row4 col4\" >0.1607</td>\n",
       "      <td id=\"T_eef3f_row4_col5\" class=\"data row4 col5\" >0.1100</td>\n",
       "    </tr>\n",
       "    <tr>\n",
       "      <th id=\"T_eef3f_level0_row5\" class=\"row_heading level0 row5\" >5</th>\n",
       "      <td id=\"T_eef3f_row5_col0\" class=\"data row5 col0\" >14716.0521</td>\n",
       "      <td id=\"T_eef3f_row5_col1\" class=\"data row5 col1\" >1025111496.6979</td>\n",
       "      <td id=\"T_eef3f_row5_col2\" class=\"data row5 col2\" >32017.3624</td>\n",
       "      <td id=\"T_eef3f_row5_col3\" class=\"data row5 col3\" >0.8580</td>\n",
       "      <td id=\"T_eef3f_row5_col4\" class=\"data row5 col4\" >0.1247</td>\n",
       "      <td id=\"T_eef3f_row5_col5\" class=\"data row5 col5\" >0.0833</td>\n",
       "    </tr>\n",
       "    <tr>\n",
       "      <th id=\"T_eef3f_level0_row6\" class=\"row_heading level0 row6\" >6</th>\n",
       "      <td id=\"T_eef3f_row6_col0\" class=\"data row6 col0\" >16114.8079</td>\n",
       "      <td id=\"T_eef3f_row6_col1\" class=\"data row6 col1\" >564648318.2109</td>\n",
       "      <td id=\"T_eef3f_row6_col2\" class=\"data row6 col2\" >23762.3298</td>\n",
       "      <td id=\"T_eef3f_row6_col3\" class=\"data row6 col3\" >0.8802</td>\n",
       "      <td id=\"T_eef3f_row6_col4\" class=\"data row6 col4\" >0.1053</td>\n",
       "      <td id=\"T_eef3f_row6_col5\" class=\"data row6 col5\" >0.0839</td>\n",
       "    </tr>\n",
       "    <tr>\n",
       "      <th id=\"T_eef3f_level0_row7\" class=\"row_heading level0 row7\" >7</th>\n",
       "      <td id=\"T_eef3f_row7_col0\" class=\"data row7 col0\" >14939.2753</td>\n",
       "      <td id=\"T_eef3f_row7_col1\" class=\"data row7 col1\" >545164917.1545</td>\n",
       "      <td id=\"T_eef3f_row7_col2\" class=\"data row7 col2\" >23348.7669</td>\n",
       "      <td id=\"T_eef3f_row7_col3\" class=\"data row7 col3\" >0.9200</td>\n",
       "      <td id=\"T_eef3f_row7_col4\" class=\"data row7 col4\" >0.1257</td>\n",
       "      <td id=\"T_eef3f_row7_col5\" class=\"data row7 col5\" >0.0887</td>\n",
       "    </tr>\n",
       "    <tr>\n",
       "      <th id=\"T_eef3f_level0_row8\" class=\"row_heading level0 row8\" >8</th>\n",
       "      <td id=\"T_eef3f_row8_col0\" class=\"data row8 col0\" >17715.7379</td>\n",
       "      <td id=\"T_eef3f_row8_col1\" class=\"data row8 col1\" >1088109056.1556</td>\n",
       "      <td id=\"T_eef3f_row8_col2\" class=\"data row8 col2\" >32986.4981</td>\n",
       "      <td id=\"T_eef3f_row8_col3\" class=\"data row8 col3\" >0.8376</td>\n",
       "      <td id=\"T_eef3f_row8_col4\" class=\"data row8 col4\" >0.1518</td>\n",
       "      <td id=\"T_eef3f_row8_col5\" class=\"data row8 col5\" >0.1040</td>\n",
       "    </tr>\n",
       "    <tr>\n",
       "      <th id=\"T_eef3f_level0_row9\" class=\"row_heading level0 row9\" >9</th>\n",
       "      <td id=\"T_eef3f_row9_col0\" class=\"data row9 col0\" >13623.4524</td>\n",
       "      <td id=\"T_eef3f_row9_col1\" class=\"data row9 col1\" >372296348.2012</td>\n",
       "      <td id=\"T_eef3f_row9_col2\" class=\"data row9 col2\" >19294.9825</td>\n",
       "      <td id=\"T_eef3f_row9_col3\" class=\"data row9 col3\" >0.9325</td>\n",
       "      <td id=\"T_eef3f_row9_col4\" class=\"data row9 col4\" >0.1033</td>\n",
       "      <td id=\"T_eef3f_row9_col5\" class=\"data row9 col5\" >0.0771</td>\n",
       "    </tr>\n",
       "    <tr>\n",
       "      <th id=\"T_eef3f_level0_row10\" class=\"row_heading level0 row10\" >Mean</th>\n",
       "      <td id=\"T_eef3f_row10_col0\" class=\"data row10 col0\" >15620.2833</td>\n",
       "      <td id=\"T_eef3f_row10_col1\" class=\"data row10 col1\" >834265771.3367</td>\n",
       "      <td id=\"T_eef3f_row10_col2\" class=\"data row10 col2\" >27789.4853</td>\n",
       "      <td id=\"T_eef3f_row10_col3\" class=\"data row10 col3\" >0.8783</td>\n",
       "      <td id=\"T_eef3f_row10_col4\" class=\"data row10 col4\" >0.1292</td>\n",
       "      <td id=\"T_eef3f_row10_col5\" class=\"data row10 col5\" >0.0901</td>\n",
       "    </tr>\n",
       "    <tr>\n",
       "      <th id=\"T_eef3f_level0_row11\" class=\"row_heading level0 row11\" >Std</th>\n",
       "      <td id=\"T_eef3f_row11_col0\" class=\"data row11 col0\" >1868.5888</td>\n",
       "      <td id=\"T_eef3f_row11_col1\" class=\"data row11 col1\" >494732954.6636</td>\n",
       "      <td id=\"T_eef3f_row11_col2\" class=\"data row11 col2\" >7874.6605</td>\n",
       "      <td id=\"T_eef3f_row11_col3\" class=\"data row11 col3\" >0.0509</td>\n",
       "      <td id=\"T_eef3f_row11_col4\" class=\"data row11 col4\" >0.0235</td>\n",
       "      <td id=\"T_eef3f_row11_col5\" class=\"data row11 col5\" >0.0115</td>\n",
       "    </tr>\n",
       "  </tbody>\n",
       "</table>\n"
      ],
      "text/plain": [
       "<pandas.io.formats.style.Styler at 0x29adb3970>"
      ]
     },
     "metadata": {},
     "output_type": "display_data"
    },
    {
     "data": {
      "application/vnd.jupyter.widget-view+json": {
       "model_id": "",
       "version_major": 2,
       "version_minor": 0
      },
      "text/plain": [
       "Processing:   0%|          | 0/4 [00:00<?, ?it/s]"
      ]
     },
     "metadata": {},
     "output_type": "display_data"
    }
   ],
   "source": [
    "cat = create_model('catboost')"
   ]
  },
  {
   "cell_type": "code",
   "execution_count": 80,
   "id": "322f9935",
   "metadata": {},
   "outputs": [
    {
     "data": {
      "text/html": [],
      "text/plain": [
       "<IPython.core.display.HTML object>"
      ]
     },
     "metadata": {},
     "output_type": "display_data"
    },
    {
     "data": {
      "image/png": "[encoded data removed]",
      "text/plain": [
       "<Figure size 800x550 with 2 Axes>"
      ]
     },
     "metadata": {},
     "output_type": "display_data"
    }
   ],
   "source": [
    "plot_model(cat)"
   ]
  },
  {
   "cell_type": "code",
   "execution_count": 81,
   "id": "f64e208b",
   "metadata": {},
   "outputs": [
    {
     "data": {
      "text/html": [],
      "text/plain": [
       "<IPython.core.display.HTML object>"
      ]
     },
     "metadata": {},
     "output_type": "display_data"
    },
    {
     "data": {
      "image/png": "[encoded data removed]",
      "text/plain": [
       "<Figure size 800x500 with 1 Axes>"
      ]
     },
     "metadata": {},
     "output_type": "display_data"
    }
   ],
   "source": [
    "plot_model(cat, plot = 'feature')"
   ]
  },
  {
   "cell_type": "code",
   "execution_count": 82,
   "id": "f1096cd1",
   "metadata": {},
   "outputs": [
    {
     "data": {
      "text/html": [],
      "text/plain": [
       "<IPython.core.display.HTML object>"
      ]
     },
     "metadata": {},
     "output_type": "display_data"
    },
    {
     "data": {
      "text/html": [
       "<div>\n",
       "<style scoped>\n",
       "    .dataframe tbody tr th:only-of-type {\n",
       "        vertical-align: middle;\n",
       "    }\n",
       "\n",
       "    .dataframe tbody tr th {\n",
       "        vertical-align: top;\n",
       "    }\n",
       "\n",
       "    .dataframe thead th {\n",
       "        text-align: right;\n",
       "    }\n",
       "</style>\n",
       "<table border=\"1\" class=\"dataframe\">\n",
       "  <thead>\n",
       "    <tr style=\"text-align: right;\">\n",
       "      <th></th>\n",
       "      <th>Id</th>\n",
       "      <th>MSSubClass</th>\n",
       "      <th>MSZoning</th>\n",
       "      <th>LotFrontage</th>\n",
       "      <th>LotArea</th>\n",
       "      <th>Street</th>\n",
       "      <th>Alley</th>\n",
       "      <th>LotShape</th>\n",
       "      <th>LandContour</th>\n",
       "      <th>Utilities</th>\n",
       "      <th>...</th>\n",
       "      <th>PoolArea</th>\n",
       "      <th>PoolQC</th>\n",
       "      <th>Fence</th>\n",
       "      <th>MiscFeature</th>\n",
       "      <th>MiscVal</th>\n",
       "      <th>MoSold</th>\n",
       "      <th>YrSold</th>\n",
       "      <th>SaleType</th>\n",
       "      <th>SaleCondition</th>\n",
       "      <th>prediction_label</th>\n",
       "    </tr>\n",
       "  </thead>\n",
       "  <tbody>\n",
       "    <tr>\n",
       "      <th>0</th>\n",
       "      <td>1461</td>\n",
       "      <td>20</td>\n",
       "      <td>RH</td>\n",
       "      <td>80.0</td>\n",
       "      <td>11622</td>\n",
       "      <td>Pave</td>\n",
       "      <td>NaN</td>\n",
       "      <td>Reg</td>\n",
       "      <td>Lvl</td>\n",
       "      <td>AllPub</td>\n",
       "      <td>...</td>\n",
       "      <td>0</td>\n",
       "      <td>NaN</td>\n",
       "      <td>MnPrv</td>\n",
       "      <td>NaN</td>\n",
       "      <td>0</td>\n",
       "      <td>6</td>\n",
       "      <td>2010</td>\n",
       "      <td>WD</td>\n",
       "      <td>Normal</td>\n",
       "      <td>119505.730839</td>\n",
       "    </tr>\n",
       "    <tr>\n",
       "      <th>1</th>\n",
       "      <td>1462</td>\n",
       "      <td>20</td>\n",
       "      <td>RL</td>\n",
       "      <td>81.0</td>\n",
       "      <td>14267</td>\n",
       "      <td>Pave</td>\n",
       "      <td>NaN</td>\n",
       "      <td>IR1</td>\n",
       "      <td>Lvl</td>\n",
       "      <td>AllPub</td>\n",
       "      <td>...</td>\n",
       "      <td>0</td>\n",
       "      <td>NaN</td>\n",
       "      <td>NaN</td>\n",
       "      <td>Gar2</td>\n",
       "      <td>12500</td>\n",
       "      <td>6</td>\n",
       "      <td>2010</td>\n",
       "      <td>WD</td>\n",
       "      <td>Normal</td>\n",
       "      <td>162833.203934</td>\n",
       "    </tr>\n",
       "    <tr>\n",
       "      <th>2</th>\n",
       "      <td>1463</td>\n",
       "      <td>60</td>\n",
       "      <td>RL</td>\n",
       "      <td>74.0</td>\n",
       "      <td>13830</td>\n",
       "      <td>Pave</td>\n",
       "      <td>NaN</td>\n",
       "      <td>IR1</td>\n",
       "      <td>Lvl</td>\n",
       "      <td>AllPub</td>\n",
       "      <td>...</td>\n",
       "      <td>0</td>\n",
       "      <td>NaN</td>\n",
       "      <td>MnPrv</td>\n",
       "      <td>NaN</td>\n",
       "      <td>0</td>\n",
       "      <td>3</td>\n",
       "      <td>2010</td>\n",
       "      <td>WD</td>\n",
       "      <td>Normal</td>\n",
       "      <td>185530.100385</td>\n",
       "    </tr>\n",
       "    <tr>\n",
       "      <th>3</th>\n",
       "      <td>1464</td>\n",
       "      <td>60</td>\n",
       "      <td>RL</td>\n",
       "      <td>78.0</td>\n",
       "      <td>9978</td>\n",
       "      <td>Pave</td>\n",
       "      <td>NaN</td>\n",
       "      <td>IR1</td>\n",
       "      <td>Lvl</td>\n",
       "      <td>AllPub</td>\n",
       "      <td>...</td>\n",
       "      <td>0</td>\n",
       "      <td>NaN</td>\n",
       "      <td>NaN</td>\n",
       "      <td>NaN</td>\n",
       "      <td>0</td>\n",
       "      <td>6</td>\n",
       "      <td>2010</td>\n",
       "      <td>WD</td>\n",
       "      <td>Normal</td>\n",
       "      <td>187006.533960</td>\n",
       "    </tr>\n",
       "    <tr>\n",
       "      <th>4</th>\n",
       "      <td>1465</td>\n",
       "      <td>120</td>\n",
       "      <td>RL</td>\n",
       "      <td>43.0</td>\n",
       "      <td>5005</td>\n",
       "      <td>Pave</td>\n",
       "      <td>NaN</td>\n",
       "      <td>IR1</td>\n",
       "      <td>HLS</td>\n",
       "      <td>AllPub</td>\n",
       "      <td>...</td>\n",
       "      <td>0</td>\n",
       "      <td>NaN</td>\n",
       "      <td>NaN</td>\n",
       "      <td>NaN</td>\n",
       "      <td>0</td>\n",
       "      <td>1</td>\n",
       "      <td>2010</td>\n",
       "      <td>WD</td>\n",
       "      <td>Normal</td>\n",
       "      <td>189480.184771</td>\n",
       "    </tr>\n",
       "  </tbody>\n",
       "</table>\n",
       "<p>5 rows × 81 columns</p>\n",
       "</div>"
      ],
      "text/plain": [
       "     Id  MSSubClass MSZoning  LotFrontage  LotArea Street Alley LotShape  \\\n",
       "0  1461          20       RH         80.0    11622   Pave   NaN      Reg   \n",
       "1  1462          20       RL         81.0    14267   Pave   NaN      IR1   \n",
       "2  1463          60       RL         74.0    13830   Pave   NaN      IR1   \n",
       "3  1464          60       RL         78.0     9978   Pave   NaN      IR1   \n",
       "4  1465         120       RL         43.0     5005   Pave   NaN      IR1   \n",
       "\n",
       "  LandContour Utilities  ... PoolArea PoolQC  Fence MiscFeature MiscVal  \\\n",
       "0         Lvl    AllPub  ...        0    NaN  MnPrv         NaN       0   \n",
       "1         Lvl    AllPub  ...        0    NaN    NaN        Gar2   12500   \n",
       "2         Lvl    AllPub  ...        0    NaN  MnPrv         NaN       0   \n",
       "3         Lvl    AllPub  ...        0    NaN    NaN         NaN       0   \n",
       "4         HLS    AllPub  ...        0    NaN    NaN         NaN       0   \n",
       "\n",
       "  MoSold YrSold  SaleType  SaleCondition  prediction_label  \n",
       "0      6   2010        WD         Normal     119505.730839  \n",
       "1      6   2010        WD         Normal     162833.203934  \n",
       "2      3   2010        WD         Normal     185530.100385  \n",
       "3      6   2010        WD         Normal     187006.533960  \n",
       "4      1   2010        WD         Normal     189480.184771  \n",
       "\n",
       "[5 rows x 81 columns]"
      ]
     },
     "execution_count": 82,
     "metadata": {},
     "output_type": "execute_result"
    }
   ],
   "source": [
    "unseen_pred_cat = predict_model(cat, data=test)\n",
    "unseen_pred_cat.head()"
   ]
  },
  {
   "cell_type": "code",
   "execution_count": 83,
   "id": "4fc65b33",
   "metadata": {},
   "outputs": [
    {
     "data": {
      "text/plain": [
       "901"
      ]
     },
     "execution_count": 83,
     "metadata": {},
     "output_type": "execute_result"
    }
   ],
   "source": [
    "(y_test['SalePrice'] > unseen_pred_cat['prediction_label']).sum()"
   ]
  },
  {
   "cell_type": "code",
   "execution_count": 84,
   "id": "6365bb24",
   "metadata": {},
   "outputs": [
    {
     "data": {
      "text/plain": [
       "558"
      ]
     },
     "execution_count": 84,
     "metadata": {},
     "output_type": "execute_result"
    }
   ],
   "source": [
    "(y_test['SalePrice'] < unseen_pred_cat['prediction_label']).sum()"
   ]
  },
  {
   "cell_type": "code",
   "execution_count": 85,
   "id": "28e23c06",
   "metadata": {},
   "outputs": [],
   "source": [
    "final_cat = finalize_model(cat)"
   ]
  },
  {
   "cell_type": "code",
   "execution_count": 86,
   "id": "734c8f01",
   "metadata": {},
   "outputs": [
    {
     "data": {
      "text/html": [
       "<style>#sk-container-id-3 {color: black;background-color: white;}#sk-container-id-3 pre{padding: 0;}#sk-container-id-3 div.sk-toggleable {background-color: white;}#sk-container-id-3 label.sk-toggleable__label {cursor: pointer;display: block;width: 100%;margin-bottom: 0;padding: 0.3em;box-sizing: border-box;text-align: center;}#sk-container-id-3 label.sk-toggleable__label-arrow:before {content: \"▸\";float: left;margin-right: 0.25em;color: #696969;}#sk-container-id-3 label.sk-toggleable__label-arrow:hover:before {color: black;}#sk-container-id-3 div.sk-estimator:hover label.sk-toggleable__label-arrow:before {color: black;}#sk-container-id-3 div.sk-toggleable__content {max-height: 0;max-width: 0;overflow: hidden;text-align: left;background-color: #f0f8ff;}#sk-container-id-3 div.sk-toggleable__content pre {margin: 0.2em;color: black;border-radius: 0.25em;background-color: #f0f8ff;}#sk-container-id-3 input.sk-toggleable__control:checked~div.sk-toggleable__content {max-height: 200px;max-width: 100%;overflow: auto;}#sk-container-id-3 input.sk-toggleable__control:checked~label.sk-toggleable__label-arrow:before {content: \"▾\";}#sk-container-id-3 div.sk-estimator input.sk-toggleable__control:checked~label.sk-toggleable__label {background-color: #d4ebff;}#sk-container-id-3 div.sk-label input.sk-toggleable__control:checked~label.sk-toggleable__label {background-color: #d4ebff;}#sk-container-id-3 input.sk-hidden--visually {border: 0;clip: rect(1px 1px 1px 1px);clip: rect(1px, 1px, 1px, 1px);height: 1px;margin: -1px;overflow: hidden;padding: 0;position: absolute;width: 1px;}#sk-container-id-3 div.sk-estimator {font-family: monospace;background-color: #f0f8ff;border: 1px dotted black;border-radius: 0.25em;box-sizing: border-box;margin-bottom: 0.5em;}#sk-container-id-3 div.sk-estimator:hover {background-color: #d4ebff;}#sk-container-id-3 div.sk-parallel-item::after {content: \"\";width: 100%;border-bottom: 1px solid gray;flex-grow: 1;}#sk-container-id-3 div.sk-label:hover label.sk-toggleable__label {background-color: #d4ebff;}#sk-container-id-3 div.sk-serial::before {content: \"\";position: absolute;border-left: 1px solid gray;box-sizing: border-box;top: 0;bottom: 0;left: 50%;z-index: 0;}#sk-container-id-3 div.sk-serial {display: flex;flex-direction: column;align-items: center;background-color: white;padding-right: 0.2em;padding-left: 0.2em;position: relative;}#sk-container-id-3 div.sk-item {position: relative;z-index: 1;}#sk-container-id-3 div.sk-parallel {display: flex;align-items: stretch;justify-content: center;background-color: white;position: relative;}#sk-container-id-3 div.sk-item::before, #sk-container-id-3 div.sk-parallel-item::before {content: \"\";position: absolute;border-left: 1px solid gray;box-sizing: border-box;top: 0;bottom: 0;left: 50%;z-index: -1;}#sk-container-id-3 div.sk-parallel-item {display: flex;flex-direction: column;z-index: 1;position: relative;background-color: white;}#sk-container-id-3 div.sk-parallel-item:first-child::after {align-self: flex-end;width: 50%;}#sk-container-id-3 div.sk-parallel-item:last-child::after {align-self: flex-start;width: 50%;}#sk-container-id-3 div.sk-parallel-item:only-child::after {width: 0;}#sk-container-id-3 div.sk-dashed-wrapped {border: 1px dashed gray;margin: 0 0.4em 0.5em 0.4em;box-sizing: border-box;padding-bottom: 0.4em;background-color: white;}#sk-container-id-3 div.sk-label label {font-family: monospace;font-weight: bold;display: inline-block;line-height: 1.2em;}#sk-container-id-3 div.sk-label-container {text-align: center;}#sk-container-id-3 div.sk-container {/* jupyter's `normalize.less` sets `[hidden] { display: none; }` but bootstrap.min.css set `[hidden] { display: none !important; }` so we also need the `!important` here to be able to override the default hidden behavior on the sphinx rendered scikit-learn.org. See: https://github.com/scikit-learn/scikit-learn/issues/21755 */display: inline-block !important;position: relative;}#sk-container-id-3 div.sk-text-repr-fallback {display: none;}</style><div id=\"sk-container-id-3\" class=\"sk-top-container\"><div class=\"sk-text-repr-fallback\"><pre>Pipeline(memory=FastMemory(location=/var/folders/h4/44486vyn1_xbs13g1z50l5m00000gn/T/joblib),\n",
       "         steps=[(&#x27;numerical_imputer&#x27;,\n",
       "                 TransformerWrapper(include=[&#x27;Id&#x27;, &#x27;MSSubClass&#x27;, &#x27;LotFrontage&#x27;,\n",
       "                                             &#x27;LotArea&#x27;, &#x27;OverallQual&#x27;,\n",
       "                                             &#x27;OverallCond&#x27;, &#x27;YearBuilt&#x27;,\n",
       "                                             &#x27;YearRemodAdd&#x27;, &#x27;MasVnrArea&#x27;,\n",
       "                                             &#x27;BsmtFinSF1&#x27;, &#x27;BsmtFinSF2&#x27;,\n",
       "                                             &#x27;BsmtUnfSF&#x27;, &#x27;TotalBsmtSF&#x27;,\n",
       "                                             &#x27;1stFlrSF&#x27;, &#x27;2ndFlrSF&#x27;,\n",
       "                                             &#x27;LowQualFinSF&#x27;, &#x27;G...\n",
       "                                                                    &#x27;MasVnrType&#x27;,\n",
       "                                                                    &#x27;ExterQual&#x27;,\n",
       "                                                                    &#x27;ExterCond&#x27;,\n",
       "                                                                    &#x27;Foundation&#x27;,\n",
       "                                                                    &#x27;BsmtQual&#x27;,\n",
       "                                                                    &#x27;BsmtCond&#x27;,\n",
       "                                                                    &#x27;BsmtExposure&#x27;,\n",
       "                                                                    &#x27;BsmtFinType1&#x27;,\n",
       "                                                                    &#x27;BsmtFinType2&#x27;,\n",
       "                                                                    &#x27;Heating&#x27;,\n",
       "                                                                    &#x27;HeatingQC&#x27;,\n",
       "                                                                    &#x27;Electrical&#x27;,\n",
       "                                                                    &#x27;GarageType&#x27;, ...],\n",
       "                                                              handle_missing=&#x27;return_nan&#x27;,\n",
       "                                                              use_cat_names=True))),\n",
       "                (&#x27;normalize&#x27;, TransformerWrapper(transformer=StandardScaler())),\n",
       "                (&#x27;actual_estimator&#x27;,\n",
       "                 &lt;catboost.core.CatBoostRegressor object at 0x2a713fc70&gt;)])</pre><b>In a Jupyter environment, please rerun this cell to show the HTML representation or trust the notebook. <br />On GitHub, the HTML representation is unable to render, please try loading this page with nbviewer.org.</b></div><div class=\"sk-container\" hidden><div class=\"sk-item sk-dashed-wrapped\"><div class=\"sk-label-container\"><div class=\"sk-label sk-toggleable\"><input class=\"sk-toggleable__control sk-hidden--visually\" id=\"sk-estimator-id-19\" type=\"checkbox\" ><label for=\"sk-estimator-id-19\" class=\"sk-toggleable__label sk-toggleable__label-arrow\">Pipeline</label><div class=\"sk-toggleable__content\"><pre>Pipeline(memory=FastMemory(location=/var/folders/h4/44486vyn1_xbs13g1z50l5m00000gn/T/joblib),\n",
       "         steps=[(&#x27;numerical_imputer&#x27;,\n",
       "                 TransformerWrapper(include=[&#x27;Id&#x27;, &#x27;MSSubClass&#x27;, &#x27;LotFrontage&#x27;,\n",
       "                                             &#x27;LotArea&#x27;, &#x27;OverallQual&#x27;,\n",
       "                                             &#x27;OverallCond&#x27;, &#x27;YearBuilt&#x27;,\n",
       "                                             &#x27;YearRemodAdd&#x27;, &#x27;MasVnrArea&#x27;,\n",
       "                                             &#x27;BsmtFinSF1&#x27;, &#x27;BsmtFinSF2&#x27;,\n",
       "                                             &#x27;BsmtUnfSF&#x27;, &#x27;TotalBsmtSF&#x27;,\n",
       "                                             &#x27;1stFlrSF&#x27;, &#x27;2ndFlrSF&#x27;,\n",
       "                                             &#x27;LowQualFinSF&#x27;, &#x27;G...\n",
       "                                                                    &#x27;MasVnrType&#x27;,\n",
       "                                                                    &#x27;ExterQual&#x27;,\n",
       "                                                                    &#x27;ExterCond&#x27;,\n",
       "                                                                    &#x27;Foundation&#x27;,\n",
       "                                                                    &#x27;BsmtQual&#x27;,\n",
       "                                                                    &#x27;BsmtCond&#x27;,\n",
       "                                                                    &#x27;BsmtExposure&#x27;,\n",
       "                                                                    &#x27;BsmtFinType1&#x27;,\n",
       "                                                                    &#x27;BsmtFinType2&#x27;,\n",
       "                                                                    &#x27;Heating&#x27;,\n",
       "                                                                    &#x27;HeatingQC&#x27;,\n",
       "                                                                    &#x27;Electrical&#x27;,\n",
       "                                                                    &#x27;GarageType&#x27;, ...],\n",
       "                                                              handle_missing=&#x27;return_nan&#x27;,\n",
       "                                                              use_cat_names=True))),\n",
       "                (&#x27;normalize&#x27;, TransformerWrapper(transformer=StandardScaler())),\n",
       "                (&#x27;actual_estimator&#x27;,\n",
       "                 &lt;catboost.core.CatBoostRegressor object at 0x2a713fc70&gt;)])</pre></div></div></div><div class=\"sk-serial\"><div class=\"sk-item sk-dashed-wrapped\"><div class=\"sk-label-container\"><div class=\"sk-label sk-toggleable\"><input class=\"sk-toggleable__control sk-hidden--visually\" id=\"sk-estimator-id-20\" type=\"checkbox\" ><label for=\"sk-estimator-id-20\" class=\"sk-toggleable__label sk-toggleable__label-arrow\">numerical_imputer: TransformerWrapper</label><div class=\"sk-toggleable__content\"><pre>TransformerWrapper(include=[&#x27;Id&#x27;, &#x27;MSSubClass&#x27;, &#x27;LotFrontage&#x27;, &#x27;LotArea&#x27;,\n",
       "                            &#x27;OverallQual&#x27;, &#x27;OverallCond&#x27;, &#x27;YearBuilt&#x27;,\n",
       "                            &#x27;YearRemodAdd&#x27;, &#x27;MasVnrArea&#x27;, &#x27;BsmtFinSF1&#x27;,\n",
       "                            &#x27;BsmtFinSF2&#x27;, &#x27;BsmtUnfSF&#x27;, &#x27;TotalBsmtSF&#x27;,\n",
       "                            &#x27;1stFlrSF&#x27;, &#x27;2ndFlrSF&#x27;, &#x27;LowQualFinSF&#x27;, &#x27;GrLivArea&#x27;,\n",
       "                            &#x27;BsmtFullBath&#x27;, &#x27;BsmtHalfBath&#x27;, &#x27;FullBath&#x27;,\n",
       "                            &#x27;HalfBath&#x27;, &#x27;BedroomAbvGr&#x27;, &#x27;KitchenAbvGr&#x27;,\n",
       "                            &#x27;TotRmsAbvGrd&#x27;, &#x27;Fireplaces&#x27;, &#x27;GarageYrBlt&#x27;,\n",
       "                            &#x27;GarageCars&#x27;, &#x27;GarageArea&#x27;, &#x27;WoodDeckSF&#x27;,\n",
       "                            &#x27;OpenPorchSF&#x27;, ...],\n",
       "                   transformer=SimpleImputer())</pre></div></div></div><div class=\"sk-parallel\"><div class=\"sk-parallel-item\"><div class=\"sk-item\"><div class=\"sk-label-container\"><div class=\"sk-label sk-toggleable\"><input class=\"sk-toggleable__control sk-hidden--visually\" id=\"sk-estimator-id-21\" type=\"checkbox\" ><label for=\"sk-estimator-id-21\" class=\"sk-toggleable__label sk-toggleable__label-arrow\">transformer: SimpleImputer</label><div class=\"sk-toggleable__content\"><pre>SimpleImputer()</pre></div></div></div><div class=\"sk-serial\"><div class=\"sk-item\"><div class=\"sk-estimator sk-toggleable\"><input class=\"sk-toggleable__control sk-hidden--visually\" id=\"sk-estimator-id-22\" type=\"checkbox\" ><label for=\"sk-estimator-id-22\" class=\"sk-toggleable__label sk-toggleable__label-arrow\">SimpleImputer</label><div class=\"sk-toggleable__content\"><pre>SimpleImputer()</pre></div></div></div></div></div></div></div></div><div class=\"sk-item sk-dashed-wrapped\"><div class=\"sk-label-container\"><div class=\"sk-label sk-toggleable\"><input class=\"sk-toggleable__control sk-hidden--visually\" id=\"sk-estimator-id-23\" type=\"checkbox\" ><label for=\"sk-estimator-id-23\" class=\"sk-toggleable__label sk-toggleable__label-arrow\">categorical_imputer: TransformerWrapper</label><div class=\"sk-toggleable__content\"><pre>TransformerWrapper(include=[&#x27;MSZoning&#x27;, &#x27;Exterior1st&#x27;, &#x27;Exterior2nd&#x27;,\n",
       "                            &#x27;KitchenQual&#x27;, &#x27;Functional&#x27;, &#x27;SaleType&#x27;, &#x27;Street&#x27;,\n",
       "                            &#x27;LotShape&#x27;, &#x27;LandContour&#x27;, &#x27;LotConfig&#x27;, &#x27;LandSlope&#x27;,\n",
       "                            &#x27;Neighborhood&#x27;, &#x27;Condition1&#x27;, &#x27;Condition2&#x27;,\n",
       "                            &#x27;BldgType&#x27;, &#x27;HouseStyle&#x27;, &#x27;RoofStyle&#x27;, &#x27;RoofMatl&#x27;,\n",
       "                            &#x27;MasVnrType&#x27;, &#x27;ExterQual&#x27;, &#x27;ExterCond&#x27;,\n",
       "                            &#x27;Foundation&#x27;, &#x27;BsmtQual&#x27;, &#x27;BsmtCond&#x27;,\n",
       "                            &#x27;BsmtExposure&#x27;, &#x27;BsmtFinType1&#x27;, &#x27;BsmtFinType2&#x27;,\n",
       "                            &#x27;Heating&#x27;, &#x27;HeatingQC&#x27;, &#x27;CentralAir&#x27;, ...],\n",
       "                   transformer=SimpleImputer(strategy=&#x27;most_frequent&#x27;))</pre></div></div></div><div class=\"sk-parallel\"><div class=\"sk-parallel-item\"><div class=\"sk-item\"><div class=\"sk-label-container\"><div class=\"sk-label sk-toggleable\"><input class=\"sk-toggleable__control sk-hidden--visually\" id=\"sk-estimator-id-24\" type=\"checkbox\" ><label for=\"sk-estimator-id-24\" class=\"sk-toggleable__label sk-toggleable__label-arrow\">transformer: SimpleImputer</label><div class=\"sk-toggleable__content\"><pre>SimpleImputer(strategy=&#x27;most_frequent&#x27;)</pre></div></div></div><div class=\"sk-serial\"><div class=\"sk-item\"><div class=\"sk-estimator sk-toggleable\"><input class=\"sk-toggleable__control sk-hidden--visually\" id=\"sk-estimator-id-25\" type=\"checkbox\" ><label for=\"sk-estimator-id-25\" class=\"sk-toggleable__label sk-toggleable__label-arrow\">SimpleImputer</label><div class=\"sk-toggleable__content\"><pre>SimpleImputer(strategy=&#x27;most_frequent&#x27;)</pre></div></div></div></div></div></div></div></div><div class=\"sk-item sk-dashed-wrapped\"><div class=\"sk-label-container\"><div class=\"sk-label sk-toggleable\"><input class=\"sk-toggleable__control sk-hidden--visually\" id=\"sk-estimator-id-26\" type=\"checkbox\" ><label for=\"sk-estimator-id-26\" class=\"sk-toggleable__label sk-toggleable__label-arrow\">ordinal_encoding: TransformerWrapper</label><div class=\"sk-toggleable__content\"><pre>TransformerWrapper(include=[&#x27;Street&#x27;, &#x27;CentralAir&#x27;],\n",
       "                   transformer=OrdinalEncoder(cols=[&#x27;Street&#x27;, &#x27;CentralAir&#x27;],\n",
       "                                              handle_missing=&#x27;return_nan&#x27;,\n",
       "                                              mapping=[{&#x27;col&#x27;: &#x27;Street&#x27;,\n",
       "                                                        &#x27;data_type&#x27;: dtype(&#x27;O&#x27;),\n",
       "                                                        &#x27;mapping&#x27;: Grvl    0\n",
       "Pave    1\n",
       "NaN    -1\n",
       "dtype: int64},\n",
       "                                                       {&#x27;col&#x27;: &#x27;CentralAir&#x27;,\n",
       "                                                        &#x27;data_type&#x27;: dtype(&#x27;O&#x27;),\n",
       "                                                        &#x27;mapping&#x27;: N      0\n",
       "Y      1\n",
       "NaN   -1\n",
       "dtype: int64}]))</pre></div></div></div><div class=\"sk-parallel\"><div class=\"sk-parallel-item\"><div class=\"sk-item\"><div class=\"sk-label-container\"><div class=\"sk-label sk-toggleable\"><input class=\"sk-toggleable__control sk-hidden--visually\" id=\"sk-estimator-id-27\" type=\"checkbox\" ><label for=\"sk-estimator-id-27\" class=\"sk-toggleable__label sk-toggleable__label-arrow\">transformer: OrdinalEncoder</label><div class=\"sk-toggleable__content\"><pre>OrdinalEncoder(cols=[&#x27;Street&#x27;, &#x27;CentralAir&#x27;], handle_missing=&#x27;return_nan&#x27;,\n",
       "               mapping=[{&#x27;col&#x27;: &#x27;Street&#x27;, &#x27;data_type&#x27;: dtype(&#x27;O&#x27;),\n",
       "                         &#x27;mapping&#x27;: Grvl    0\n",
       "Pave    1\n",
       "NaN    -1\n",
       "dtype: int64},\n",
       "                        {&#x27;col&#x27;: &#x27;CentralAir&#x27;, &#x27;data_type&#x27;: dtype(&#x27;O&#x27;),\n",
       "                         &#x27;mapping&#x27;: N      0\n",
       "Y      1\n",
       "NaN   -1\n",
       "dtype: int64}])</pre></div></div></div><div class=\"sk-serial\"><div class=\"sk-item\"><div class=\"sk-estimator sk-toggleable\"><input class=\"sk-toggleable__control sk-hidden--visually\" id=\"sk-estimator-id-28\" type=\"checkbox\" ><label for=\"sk-estimator-id-28\" class=\"sk-toggleable__label sk-toggleable__label-arrow\">OrdinalEncoder</label><div class=\"sk-toggleable__content\"><pre>OrdinalEncoder(cols=[&#x27;Street&#x27;, &#x27;CentralAir&#x27;], handle_missing=&#x27;return_nan&#x27;,\n",
       "               mapping=[{&#x27;col&#x27;: &#x27;Street&#x27;, &#x27;data_type&#x27;: dtype(&#x27;O&#x27;),\n",
       "                         &#x27;mapping&#x27;: Grvl    0\n",
       "Pave    1\n",
       "NaN    -1\n",
       "dtype: int64},\n",
       "                        {&#x27;col&#x27;: &#x27;CentralAir&#x27;, &#x27;data_type&#x27;: dtype(&#x27;O&#x27;),\n",
       "                         &#x27;mapping&#x27;: N      0\n",
       "Y      1\n",
       "NaN   -1\n",
       "dtype: int64}])</pre></div></div></div></div></div></div></div></div><div class=\"sk-item sk-dashed-wrapped\"><div class=\"sk-label-container\"><div class=\"sk-label sk-toggleable\"><input class=\"sk-toggleable__control sk-hidden--visually\" id=\"sk-estimator-id-29\" type=\"checkbox\" ><label for=\"sk-estimator-id-29\" class=\"sk-toggleable__label sk-toggleable__label-arrow\">onehot_encoding: TransformerWrapper</label><div class=\"sk-toggleable__content\"><pre>TransformerWrapper(include=[&#x27;MSZoning&#x27;, &#x27;Exterior1st&#x27;, &#x27;Exterior2nd&#x27;,\n",
       "                            &#x27;KitchenQual&#x27;, &#x27;Functional&#x27;, &#x27;SaleType&#x27;, &#x27;LotShape&#x27;,\n",
       "                            &#x27;LandContour&#x27;, &#x27;LotConfig&#x27;, &#x27;LandSlope&#x27;,\n",
       "                            &#x27;Neighborhood&#x27;, &#x27;Condition1&#x27;, &#x27;Condition2&#x27;,\n",
       "                            &#x27;BldgType&#x27;, &#x27;HouseStyle&#x27;, &#x27;RoofStyle&#x27;, &#x27;RoofMatl&#x27;,\n",
       "                            &#x27;MasVnrType&#x27;, &#x27;ExterQual&#x27;, &#x27;ExterCond&#x27;,\n",
       "                            &#x27;Foundation&#x27;, &#x27;BsmtQual&#x27;, &#x27;BsmtCond&#x27;,\n",
       "                            &#x27;BsmtExposure&#x27;, &#x27;BsmtFinType1&#x27;, &#x27;BsmtF...\n",
       "                                                   &#x27;LotShape&#x27;, &#x27;LandContour&#x27;,\n",
       "                                                   &#x27;LotConfig&#x27;, &#x27;LandSlope&#x27;,\n",
       "                                                   &#x27;Neighborhood&#x27;, &#x27;Condition1&#x27;,\n",
       "                                                   &#x27;Condition2&#x27;, &#x27;BldgType&#x27;,\n",
       "                                                   &#x27;HouseStyle&#x27;, &#x27;RoofStyle&#x27;,\n",
       "                                                   &#x27;RoofMatl&#x27;, &#x27;MasVnrType&#x27;,\n",
       "                                                   &#x27;ExterQual&#x27;, &#x27;ExterCond&#x27;,\n",
       "                                                   &#x27;Foundation&#x27;, &#x27;BsmtQual&#x27;,\n",
       "                                                   &#x27;BsmtCond&#x27;, &#x27;BsmtExposure&#x27;,\n",
       "                                                   &#x27;BsmtFinType1&#x27;,\n",
       "                                                   &#x27;BsmtFinType2&#x27;, &#x27;Heating&#x27;,\n",
       "                                                   &#x27;HeatingQC&#x27;, &#x27;Electrical&#x27;,\n",
       "                                                   &#x27;GarageType&#x27;, ...],\n",
       "                                             handle_missing=&#x27;return_nan&#x27;,\n",
       "                                             use_cat_names=True))</pre></div></div></div><div class=\"sk-parallel\"><div class=\"sk-parallel-item\"><div class=\"sk-item\"><div class=\"sk-label-container\"><div class=\"sk-label sk-toggleable\"><input class=\"sk-toggleable__control sk-hidden--visually\" id=\"sk-estimator-id-30\" type=\"checkbox\" ><label for=\"sk-estimator-id-30\" class=\"sk-toggleable__label sk-toggleable__label-arrow\">transformer: OneHotEncoder</label><div class=\"sk-toggleable__content\"><pre>OneHotEncoder(cols=[&#x27;MSZoning&#x27;, &#x27;Exterior1st&#x27;, &#x27;Exterior2nd&#x27;, &#x27;KitchenQual&#x27;,\n",
       "                    &#x27;Functional&#x27;, &#x27;SaleType&#x27;, &#x27;LotShape&#x27;, &#x27;LandContour&#x27;,\n",
       "                    &#x27;LotConfig&#x27;, &#x27;LandSlope&#x27;, &#x27;Neighborhood&#x27;, &#x27;Condition1&#x27;,\n",
       "                    &#x27;Condition2&#x27;, &#x27;BldgType&#x27;, &#x27;HouseStyle&#x27;, &#x27;RoofStyle&#x27;,\n",
       "                    &#x27;RoofMatl&#x27;, &#x27;MasVnrType&#x27;, &#x27;ExterQual&#x27;, &#x27;ExterCond&#x27;,\n",
       "                    &#x27;Foundation&#x27;, &#x27;BsmtQual&#x27;, &#x27;BsmtCond&#x27;, &#x27;BsmtExposure&#x27;,\n",
       "                    &#x27;BsmtFinType1&#x27;, &#x27;BsmtFinType2&#x27;, &#x27;Heating&#x27;, &#x27;HeatingQC&#x27;,\n",
       "                    &#x27;Electrical&#x27;, &#x27;GarageType&#x27;, ...],\n",
       "              handle_missing=&#x27;return_nan&#x27;, use_cat_names=True)</pre></div></div></div><div class=\"sk-serial\"><div class=\"sk-item\"><div class=\"sk-estimator sk-toggleable\"><input class=\"sk-toggleable__control sk-hidden--visually\" id=\"sk-estimator-id-31\" type=\"checkbox\" ><label for=\"sk-estimator-id-31\" class=\"sk-toggleable__label sk-toggleable__label-arrow\">OneHotEncoder</label><div class=\"sk-toggleable__content\"><pre>OneHotEncoder(cols=[&#x27;MSZoning&#x27;, &#x27;Exterior1st&#x27;, &#x27;Exterior2nd&#x27;, &#x27;KitchenQual&#x27;,\n",
       "                    &#x27;Functional&#x27;, &#x27;SaleType&#x27;, &#x27;LotShape&#x27;, &#x27;LandContour&#x27;,\n",
       "                    &#x27;LotConfig&#x27;, &#x27;LandSlope&#x27;, &#x27;Neighborhood&#x27;, &#x27;Condition1&#x27;,\n",
       "                    &#x27;Condition2&#x27;, &#x27;BldgType&#x27;, &#x27;HouseStyle&#x27;, &#x27;RoofStyle&#x27;,\n",
       "                    &#x27;RoofMatl&#x27;, &#x27;MasVnrType&#x27;, &#x27;ExterQual&#x27;, &#x27;ExterCond&#x27;,\n",
       "                    &#x27;Foundation&#x27;, &#x27;BsmtQual&#x27;, &#x27;BsmtCond&#x27;, &#x27;BsmtExposure&#x27;,\n",
       "                    &#x27;BsmtFinType1&#x27;, &#x27;BsmtFinType2&#x27;, &#x27;Heating&#x27;, &#x27;HeatingQC&#x27;,\n",
       "                    &#x27;Electrical&#x27;, &#x27;GarageType&#x27;, ...],\n",
       "              handle_missing=&#x27;return_nan&#x27;, use_cat_names=True)</pre></div></div></div></div></div></div></div></div><div class=\"sk-item sk-dashed-wrapped\"><div class=\"sk-label-container\"><div class=\"sk-label sk-toggleable\"><input class=\"sk-toggleable__control sk-hidden--visually\" id=\"sk-estimator-id-32\" type=\"checkbox\" ><label for=\"sk-estimator-id-32\" class=\"sk-toggleable__label sk-toggleable__label-arrow\">normalize: TransformerWrapper</label><div class=\"sk-toggleable__content\"><pre>TransformerWrapper(transformer=StandardScaler())</pre></div></div></div><div class=\"sk-parallel\"><div class=\"sk-parallel-item\"><div class=\"sk-item\"><div class=\"sk-label-container\"><div class=\"sk-label sk-toggleable\"><input class=\"sk-toggleable__control sk-hidden--visually\" id=\"sk-estimator-id-33\" type=\"checkbox\" ><label for=\"sk-estimator-id-33\" class=\"sk-toggleable__label sk-toggleable__label-arrow\">transformer: StandardScaler</label><div class=\"sk-toggleable__content\"><pre>StandardScaler()</pre></div></div></div><div class=\"sk-serial\"><div class=\"sk-item\"><div class=\"sk-estimator sk-toggleable\"><input class=\"sk-toggleable__control sk-hidden--visually\" id=\"sk-estimator-id-34\" type=\"checkbox\" ><label for=\"sk-estimator-id-34\" class=\"sk-toggleable__label sk-toggleable__label-arrow\">StandardScaler</label><div class=\"sk-toggleable__content\"><pre>StandardScaler()</pre></div></div></div></div></div></div></div></div><div class=\"sk-item\"><div class=\"sk-estimator sk-toggleable\"><input class=\"sk-toggleable__control sk-hidden--visually\" id=\"sk-estimator-id-35\" type=\"checkbox\" ><label for=\"sk-estimator-id-35\" class=\"sk-toggleable__label sk-toggleable__label-arrow\">CatBoostRegressor</label><div class=\"sk-toggleable__content\"><pre>&lt;catboost.core.CatBoostRegressor object at 0x2a713fc70&gt;</pre></div></div></div></div></div></div></div>"
      ],
      "text/plain": [
       "Pipeline(memory=FastMemory(location=/var/folders/h4/44486vyn1_xbs13g1z50l5m00000gn/T/joblib),\n",
       "         steps=[('numerical_imputer',\n",
       "                 TransformerWrapper(include=['Id', 'MSSubClass', 'LotFrontage',\n",
       "                                             'LotArea', 'OverallQual',\n",
       "                                             'OverallCond', 'YearBuilt',\n",
       "                                             'YearRemodAdd', 'MasVnrArea',\n",
       "                                             'BsmtFinSF1', 'BsmtFinSF2',\n",
       "                                             'BsmtUnfSF', 'TotalBsmtSF',\n",
       "                                             '1stFlrSF', '2ndFlrSF',\n",
       "                                             'LowQualFinSF', 'G...\n",
       "                                                                    'MasVnrType',\n",
       "                                                                    'ExterQual',\n",
       "                                                                    'ExterCond',\n",
       "                                                                    'Foundation',\n",
       "                                                                    'BsmtQual',\n",
       "                                                                    'BsmtCond',\n",
       "                                                                    'BsmtExposure',\n",
       "                                                                    'BsmtFinType1',\n",
       "                                                                    'BsmtFinType2',\n",
       "                                                                    'Heating',\n",
       "                                                                    'HeatingQC',\n",
       "                                                                    'Electrical',\n",
       "                                                                    'GarageType', ...],\n",
       "                                                              handle_missing='return_nan',\n",
       "                                                              use_cat_names=True))),\n",
       "                ('normalize', TransformerWrapper(transformer=StandardScaler())),\n",
       "                ('actual_estimator',\n",
       "                 <catboost.core.CatBoostRegressor object at 0x2a713fc70>)])"
      ]
     },
     "execution_count": 86,
     "metadata": {},
     "output_type": "execute_result"
    }
   ],
   "source": [
    "final_cat"
   ]
  },
  {
   "cell_type": "code",
   "execution_count": null,
   "id": "dd1e0f99",
   "metadata": {},
   "outputs": [],
   "source": []
  }
 ],
 "metadata": {
  "kernelspec": {
   "display_name": "Python 3 (ipykernel)",
   "language": "python",
   "name": "python3"
  },
  "language_info": {
   "codemirror_mode": {
    "name": "ipython",
    "version": 3
   },
   "file_extension": ".py",
   "mimetype": "text/x-python",
   "name": "python",
   "nbconvert_exporter": "python",
   "pygments_lexer": "ipython3",
   "version": "3.9.15"
  }
 },
 "nbformat": 4,
 "nbformat_minor": 5
}
