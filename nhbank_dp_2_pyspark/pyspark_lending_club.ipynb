{
 "cells": [
  {
   "cell_type": "code",
   "execution_count": null,
   "id": "2c9fbc94",
   "metadata": {},
   "outputs": [],
   "source": [
    "lending_club.db"
   ]
  },
  {
   "cell_type": "code",
   "execution_count": null,
   "id": "9bc5717f",
   "metadata": {},
   "outputs": [],
   "source": []
  },
  {
   "cell_type": "code",
   "execution_count": null,
   "id": "a5476dbc",
   "metadata": {},
   "outputs": [],
   "source": []
  },
  {
   "cell_type": "code",
   "execution_count": 1,
   "id": "599f1316",
   "metadata": {},
   "outputs": [
    {
     "name": "stderr",
     "output_type": "stream",
     "text": [
      "/Users/a06411/opt/anaconda3/envs/fluentPython/lib/python3.11/site-packages/pyspark/pandas/__init__.py:50: UserWarning: 'PYARROW_IGNORE_TIMEZONE' environment variable was not set. It is required to set this environment variable to '1' in both driver and executor sides if you use pyarrow>=2.0.0. pandas-on-Spark will set it for you but it does not work if there is a Spark context already launched.\n",
      "  warnings.warn(\n"
     ]
    }
   ],
   "source": [
    "import os\n",
    "import pandas as pd\n",
    "import numpy as np\n",
    "import pyspark.pandas as ps\n",
    "from pyspark.sql import SparkSession"
   ]
  },
  {
   "cell_type": "code",
   "execution_count": 2,
   "id": "a192d693",
   "metadata": {},
   "outputs": [
    {
     "data": {
      "text/plain": [
       "'/Users/a06411/Documents/GitHub/nh_lecture/nhbank_dp_2_pyspark'"
      ]
     },
     "execution_count": 2,
     "metadata": {},
     "output_type": "execute_result"
    }
   ],
   "source": [
    "%pwd"
   ]
  },
  {
   "cell_type": "markdown",
   "id": "72824b5d",
   "metadata": {},
   "source": [
    "## 판다스로 스키마 정보 확인하기 "
   ]
  },
  {
   "cell_type": "code",
   "execution_count": 15,
   "id": "3b8dcad2",
   "metadata": {},
   "outputs": [],
   "source": [
    "path_sch = \"/Users/a06411/documents/data_hub/lending_club/table_schema.csv\""
   ]
  },
  {
   "cell_type": "code",
   "execution_count": 17,
   "id": "aa2b7966",
   "metadata": {},
   "outputs": [],
   "source": [
    "df_sch = pd.read_csv(path_sch);"
   ]
  },
  {
   "cell_type": "code",
   "execution_count": 20,
   "id": "5b3fce87",
   "metadata": {},
   "outputs": [],
   "source": [
    "df_sch= df_sch.drop(\"Unnamed: 0\",axis=1)"
   ]
  },
  {
   "cell_type": "code",
   "execution_count": 21,
   "id": "89e2febb",
   "metadata": {},
   "outputs": [
    {
     "data": {
      "text/plain": [
       "(150, 5)"
      ]
     },
     "execution_count": 21,
     "metadata": {},
     "output_type": "execute_result"
    }
   ],
   "source": [
    "df_sch.shape"
   ]
  },
  {
   "cell_type": "code",
   "execution_count": 23,
   "id": "df71b872",
   "metadata": {},
   "outputs": [
    {
     "data": {
      "text/html": [
       "<div>\n",
       "<style scoped>\n",
       "    .dataframe tbody tr th:only-of-type {\n",
       "        vertical-align: middle;\n",
       "    }\n",
       "\n",
       "    .dataframe tbody tr th {\n",
       "        vertical-align: top;\n",
       "    }\n",
       "\n",
       "    .dataframe thead th {\n",
       "        text-align: right;\n",
       "    }\n",
       "</style>\n",
       "<table border=\"1\" class=\"dataframe\">\n",
       "  <thead>\n",
       "    <tr style=\"text-align: right;\">\n",
       "      <th></th>\n",
       "      <th>LoanStatNew</th>\n",
       "      <th>Label</th>\n",
       "      <th>Description</th>\n",
       "      <th>Korean</th>\n",
       "      <th>lab_desc</th>\n",
       "    </tr>\n",
       "  </thead>\n",
       "  <tbody>\n",
       "    <tr>\n",
       "      <th>0</th>\n",
       "      <td>emp_title</td>\n",
       "      <td>borrower</td>\n",
       "      <td>The job title supplied by the Borrower when ap...</td>\n",
       "      <td>직업</td>\n",
       "      <td>고객 정보</td>\n",
       "    </tr>\n",
       "    <tr>\n",
       "      <th>1</th>\n",
       "      <td>emp_length</td>\n",
       "      <td>borrower</td>\n",
       "      <td>Employment length in years. Possible values ar...</td>\n",
       "      <td>연차</td>\n",
       "      <td>NaN</td>\n",
       "    </tr>\n",
       "    <tr>\n",
       "      <th>2</th>\n",
       "      <td>home_ownership</td>\n",
       "      <td>borrower</td>\n",
       "      <td>The home ownership status provided by the borr...</td>\n",
       "      <td>주택 소유 상태</td>\n",
       "      <td>NaN</td>\n",
       "    </tr>\n",
       "    <tr>\n",
       "      <th>3</th>\n",
       "      <td>zip_code</td>\n",
       "      <td>borrower</td>\n",
       "      <td>The first 3 numbers of the zip code provided b...</td>\n",
       "      <td>우편번호(앞 3자리)</td>\n",
       "      <td>NaN</td>\n",
       "    </tr>\n",
       "    <tr>\n",
       "      <th>4</th>\n",
       "      <td>addr_state</td>\n",
       "      <td>borrower</td>\n",
       "      <td>The state provided by the borrower in the loan...</td>\n",
       "      <td>거주중인 주</td>\n",
       "      <td>NaN</td>\n",
       "    </tr>\n",
       "  </tbody>\n",
       "</table>\n",
       "</div>"
      ],
      "text/plain": [
       "      LoanStatNew     Label  \\\n",
       "0       emp_title  borrower   \n",
       "1      emp_length  borrower   \n",
       "2  home_ownership  borrower   \n",
       "3        zip_code  borrower   \n",
       "4      addr_state  borrower   \n",
       "\n",
       "                                         Description       Korean lab_desc  \n",
       "0  The job title supplied by the Borrower when ap...           직업    고객 정보  \n",
       "1  Employment length in years. Possible values ar...           연차      NaN  \n",
       "2  The home ownership status provided by the borr...     주택 소유 상태      NaN  \n",
       "3  The first 3 numbers of the zip code provided b...  우편번호(앞 3자리)      NaN  \n",
       "4  The state provided by the borrower in the loan...       거주중인 주      NaN  "
      ]
     },
     "execution_count": 23,
     "metadata": {},
     "output_type": "execute_result"
    }
   ],
   "source": [
    "df_sch.head()"
   ]
  },
  {
   "cell_type": "code",
   "execution_count": 40,
   "id": "32695720",
   "metadata": {},
   "outputs": [
    {
     "data": {
      "text/plain": [
       "Label\n",
       "credit                 32\n",
       "loan_account           23\n",
       "hardship               16\n",
       "payment                13\n",
       "secondary_applicant    13\n",
       "revolving              11\n",
       "installment             9\n",
       "settlement              7\n",
       "borrower                6\n",
       "credit_rating           6\n",
       "income                  6\n",
       "inquiry                 4\n",
       "trade                   4\n",
       "Name: count, dtype: int64"
      ]
     },
     "execution_count": 40,
     "metadata": {},
     "output_type": "execute_result"
    }
   ],
   "source": [
    "df_sch['Label'].value_counts()"
   ]
  },
  {
   "cell_type": "markdown",
   "id": "2c0aa9cf",
   "metadata": {},
   "source": [
    "### 판다스 쿼리로 행 선택하기 "
   ]
  },
  {
   "cell_type": "code",
   "execution_count": 48,
   "id": "96f3cb7d",
   "metadata": {},
   "outputs": [
    {
     "data": {
      "text/html": [
       "<div>\n",
       "<style scoped>\n",
       "    .dataframe tbody tr th:only-of-type {\n",
       "        vertical-align: middle;\n",
       "    }\n",
       "\n",
       "    .dataframe tbody tr th {\n",
       "        vertical-align: top;\n",
       "    }\n",
       "\n",
       "    .dataframe thead th {\n",
       "        text-align: right;\n",
       "    }\n",
       "</style>\n",
       "<table border=\"1\" class=\"dataframe\">\n",
       "  <thead>\n",
       "    <tr style=\"text-align: right;\">\n",
       "      <th></th>\n",
       "      <th>LoanStatNew</th>\n",
       "      <th>Label</th>\n",
       "      <th>Description</th>\n",
       "      <th>Korean</th>\n",
       "      <th>lab_desc</th>\n",
       "    </tr>\n",
       "  </thead>\n",
       "  <tbody>\n",
       "    <tr>\n",
       "      <th>0</th>\n",
       "      <td>emp_title</td>\n",
       "      <td>borrower</td>\n",
       "      <td>The job title supplied by the Borrower when ap...</td>\n",
       "      <td>직업</td>\n",
       "      <td>고객 정보</td>\n",
       "    </tr>\n",
       "    <tr>\n",
       "      <th>1</th>\n",
       "      <td>emp_length</td>\n",
       "      <td>borrower</td>\n",
       "      <td>Employment length in years. Possible values ar...</td>\n",
       "      <td>연차</td>\n",
       "      <td>NaN</td>\n",
       "    </tr>\n",
       "    <tr>\n",
       "      <th>2</th>\n",
       "      <td>home_ownership</td>\n",
       "      <td>borrower</td>\n",
       "      <td>The home ownership status provided by the borr...</td>\n",
       "      <td>주택 소유 상태</td>\n",
       "      <td>NaN</td>\n",
       "    </tr>\n",
       "    <tr>\n",
       "      <th>3</th>\n",
       "      <td>zip_code</td>\n",
       "      <td>borrower</td>\n",
       "      <td>The first 3 numbers of the zip code provided b...</td>\n",
       "      <td>우편번호(앞 3자리)</td>\n",
       "      <td>NaN</td>\n",
       "    </tr>\n",
       "    <tr>\n",
       "      <th>4</th>\n",
       "      <td>addr_state</td>\n",
       "      <td>borrower</td>\n",
       "      <td>The state provided by the borrower in the loan...</td>\n",
       "      <td>거주중인 주</td>\n",
       "      <td>NaN</td>\n",
       "    </tr>\n",
       "    <tr>\n",
       "      <th>5</th>\n",
       "      <td>member_id</td>\n",
       "      <td>borrower</td>\n",
       "      <td>A unique LC assigned Id for the borrower member.</td>\n",
       "      <td>고객 ID</td>\n",
       "      <td>NaN</td>\n",
       "    </tr>\n",
       "  </tbody>\n",
       "</table>\n",
       "</div>"
      ],
      "text/plain": [
       "      LoanStatNew     Label  \\\n",
       "0       emp_title  borrower   \n",
       "1      emp_length  borrower   \n",
       "2  home_ownership  borrower   \n",
       "3        zip_code  borrower   \n",
       "4      addr_state  borrower   \n",
       "5       member_id  borrower   \n",
       "\n",
       "                                         Description       Korean lab_desc  \n",
       "0  The job title supplied by the Borrower when ap...           직업    고객 정보  \n",
       "1  Employment length in years. Possible values ar...           연차      NaN  \n",
       "2  The home ownership status provided by the borr...     주택 소유 상태      NaN  \n",
       "3  The first 3 numbers of the zip code provided b...  우편번호(앞 3자리)      NaN  \n",
       "4  The state provided by the borrower in the loan...       거주중인 주      NaN  \n",
       "5   A unique LC assigned Id for the borrower member.        고객 ID      NaN  "
      ]
     },
     "execution_count": 48,
     "metadata": {},
     "output_type": "execute_result"
    }
   ],
   "source": [
    "df_sch.query(\"Label == 'borrower'\")"
   ]
  },
  {
   "cell_type": "code",
   "execution_count": 47,
   "id": "065b2a4b",
   "metadata": {},
   "outputs": [
    {
     "data": {
      "text/html": [
       "<div>\n",
       "<style scoped>\n",
       "    .dataframe tbody tr th:only-of-type {\n",
       "        vertical-align: middle;\n",
       "    }\n",
       "\n",
       "    .dataframe tbody tr th {\n",
       "        vertical-align: top;\n",
       "    }\n",
       "\n",
       "    .dataframe thead th {\n",
       "        text-align: right;\n",
       "    }\n",
       "</style>\n",
       "<table border=\"1\" class=\"dataframe\">\n",
       "  <thead>\n",
       "    <tr style=\"text-align: right;\">\n",
       "      <th></th>\n",
       "      <th>LoanStatNew</th>\n",
       "      <th>Label</th>\n",
       "      <th>Description</th>\n",
       "      <th>Korean</th>\n",
       "      <th>lab_desc</th>\n",
       "    </tr>\n",
       "  </thead>\n",
       "  <tbody>\n",
       "    <tr>\n",
       "      <th>66</th>\n",
       "      <td>inq_last_6mths</td>\n",
       "      <td>inquiry</td>\n",
       "      <td>The number of inquiries in past 6 months (excl...</td>\n",
       "      <td>지난 6개월 간 상담 수</td>\n",
       "      <td>상담 정보</td>\n",
       "    </tr>\n",
       "    <tr>\n",
       "      <th>67</th>\n",
       "      <td>inq_fi</td>\n",
       "      <td>inquiry</td>\n",
       "      <td>Number of personal finance inquiries</td>\n",
       "      <td>상담 수</td>\n",
       "      <td>NaN</td>\n",
       "    </tr>\n",
       "    <tr>\n",
       "      <th>68</th>\n",
       "      <td>inq_last_12m</td>\n",
       "      <td>inquiry</td>\n",
       "      <td>Number of credit inquiries in past 12 months</td>\n",
       "      <td>지난 12개월 간 상담 수</td>\n",
       "      <td>NaN</td>\n",
       "    </tr>\n",
       "    <tr>\n",
       "      <th>69</th>\n",
       "      <td>mths_since_recent_inq</td>\n",
       "      <td>inquiry</td>\n",
       "      <td>Months since most recent inquiry.</td>\n",
       "      <td>가장 최근 상담 이후의 개월 수</td>\n",
       "      <td>NaN</td>\n",
       "    </tr>\n",
       "  </tbody>\n",
       "</table>\n",
       "</div>"
      ],
      "text/plain": [
       "              LoanStatNew    Label  \\\n",
       "66         inq_last_6mths  inquiry   \n",
       "67                 inq_fi  inquiry   \n",
       "68           inq_last_12m  inquiry   \n",
       "69  mths_since_recent_inq  inquiry   \n",
       "\n",
       "                                          Description              Korean  \\\n",
       "66  The number of inquiries in past 6 months (excl...       지난 6개월 간 상담 수   \n",
       "67               Number of personal finance inquiries                상담 수   \n",
       "68       Number of credit inquiries in past 12 months      지난 12개월 간 상담 수   \n",
       "69                  Months since most recent inquiry.  가장 최근 상담 이후의 개월 수    \n",
       "\n",
       "   lab_desc  \n",
       "66    상담 정보  \n",
       "67      NaN  \n",
       "68      NaN  \n",
       "69      NaN  "
      ]
     },
     "execution_count": 47,
     "metadata": {},
     "output_type": "execute_result"
    }
   ],
   "source": [
    "df_sch.query(\"Label == 'inquiry'\")"
   ]
  },
  {
   "cell_type": "markdown",
   "id": "26300390",
   "metadata": {},
   "source": [
    "## sqlite를 접속해서 테이블 정보 확인하기 "
   ]
  },
  {
   "cell_type": "code",
   "execution_count": 10,
   "id": "f8744c16",
   "metadata": {},
   "outputs": [],
   "source": [
    "path = \"/Users/a06411/documents/data_hub/lending_club/lending_club.db\""
   ]
  },
  {
   "cell_type": "code",
   "execution_count": 11,
   "id": "b386343f",
   "metadata": {},
   "outputs": [],
   "source": [
    "import sqlite3"
   ]
  },
  {
   "cell_type": "code",
   "execution_count": 12,
   "id": "06af271a",
   "metadata": {},
   "outputs": [],
   "source": [
    "con = sqlite3.connect(path)"
   ]
  },
  {
   "cell_type": "code",
   "execution_count": 13,
   "id": "2ee5ec8e",
   "metadata": {},
   "outputs": [],
   "source": [
    "query = \"\"\"SELECT name FROM sqlite_master  \n",
    "  WHERE type='table';\"\"\""
   ]
  },
  {
   "cell_type": "code",
   "execution_count": 14,
   "id": "08ea6182",
   "metadata": {},
   "outputs": [
    {
     "data": {
      "text/html": [
       "<div>\n",
       "<style scoped>\n",
       "    .dataframe tbody tr th:only-of-type {\n",
       "        vertical-align: middle;\n",
       "    }\n",
       "\n",
       "    .dataframe tbody tr th {\n",
       "        vertical-align: top;\n",
       "    }\n",
       "\n",
       "    .dataframe thead th {\n",
       "        text-align: right;\n",
       "    }\n",
       "</style>\n",
       "<table border=\"1\" class=\"dataframe\">\n",
       "  <thead>\n",
       "    <tr style=\"text-align: right;\">\n",
       "      <th></th>\n",
       "      <th>name</th>\n",
       "    </tr>\n",
       "  </thead>\n",
       "  <tbody>\n",
       "    <tr>\n",
       "      <th>0</th>\n",
       "      <td>borrower</td>\n",
       "    </tr>\n",
       "    <tr>\n",
       "      <th>1</th>\n",
       "      <td>credit</td>\n",
       "    </tr>\n",
       "    <tr>\n",
       "      <th>2</th>\n",
       "      <td>credit_rating</td>\n",
       "    </tr>\n",
       "    <tr>\n",
       "      <th>3</th>\n",
       "      <td>hardship</td>\n",
       "    </tr>\n",
       "    <tr>\n",
       "      <th>4</th>\n",
       "      <td>income</td>\n",
       "    </tr>\n",
       "    <tr>\n",
       "      <th>5</th>\n",
       "      <td>inquiry</td>\n",
       "    </tr>\n",
       "    <tr>\n",
       "      <th>6</th>\n",
       "      <td>installment</td>\n",
       "    </tr>\n",
       "    <tr>\n",
       "      <th>7</th>\n",
       "      <td>loan_account</td>\n",
       "    </tr>\n",
       "    <tr>\n",
       "      <th>8</th>\n",
       "      <td>payment</td>\n",
       "    </tr>\n",
       "    <tr>\n",
       "      <th>9</th>\n",
       "      <td>revolving</td>\n",
       "    </tr>\n",
       "    <tr>\n",
       "      <th>10</th>\n",
       "      <td>secondary_applicant</td>\n",
       "    </tr>\n",
       "    <tr>\n",
       "      <th>11</th>\n",
       "      <td>settlement</td>\n",
       "    </tr>\n",
       "    <tr>\n",
       "      <th>12</th>\n",
       "      <td>trade</td>\n",
       "    </tr>\n",
       "  </tbody>\n",
       "</table>\n",
       "</div>"
      ],
      "text/plain": [
       "                   name\n",
       "0              borrower\n",
       "1                credit\n",
       "2         credit_rating\n",
       "3              hardship\n",
       "4                income\n",
       "5               inquiry\n",
       "6           installment\n",
       "7          loan_account\n",
       "8               payment\n",
       "9             revolving\n",
       "10  secondary_applicant\n",
       "11           settlement\n",
       "12                trade"
      ]
     },
     "execution_count": 14,
     "metadata": {},
     "output_type": "execute_result"
    }
   ],
   "source": [
    "pd.read_sql_query(query,con)"
   ]
  },
  {
   "cell_type": "markdown",
   "id": "7567f34d",
   "metadata": {},
   "source": [
    "## 스파크 세션 연결 "
   ]
  },
  {
   "cell_type": "code",
   "execution_count": 25,
   "id": "13c23779",
   "metadata": {},
   "outputs": [
    {
     "name": "stderr",
     "output_type": "stream",
     "text": [
      "23/06/10 23:39:40 WARN NativeCodeLoader: Unable to load native-hadoop library for your platform... using builtin-java classes where applicable\n",
      "Setting default log level to \"WARN\".\n",
      "To adjust logging level use sc.setLogLevel(newLevel). For SparkR, use setLogLevel(newLevel).\n",
      "23/06/10 23:39:40 WARN Utils: Service 'SparkUI' could not bind on port 4040. Attempting port 4041.\n",
      "23/06/10 23:39:40 WARN Utils: Service 'SparkUI' could not bind on port 4041. Attempting port 4042.\n",
      "23/06/10 23:39:40 WARN Utils: Service 'SparkUI' could not bind on port 4042. Attempting port 4043.\n"
     ]
    }
   ],
   "source": [
    "spark = (SparkSession.builder.appName('lendingclub-api')\n",
    "                             .config(\"spark.driver.host\",\"127.0.0.1\") \n",
    "                             .config(\"spark.driver.bindAddress\",\"127.0.0.1\")\n",
    "                             .config(\"spark.jars\",\"{}/sqlite-jdbc-3.34.0.jar\".format(os.getcwd()))\n",
    "                             .config(\"spark.driver.extraClassPath\",\"{}/sqlite-jdbc-3.34.0.jar\".format(os.getcwd()))\n",
    "                             .getOrCreate())"
   ]
  },
  {
   "cell_type": "markdown",
   "id": "2fdf1342",
   "metadata": {},
   "source": [
    "## 1. 테이블이름으로 처리 "
   ]
  },
  {
   "cell_type": "code",
   "execution_count": 27,
   "id": "c70e8cd2",
   "metadata": {},
   "outputs": [],
   "source": [
    "py_df_borrower = spark.read.format('jdbc') \\\n",
    "        .options(driver='org.sqlite.JDBC', dbtable='borrower',\n",
    "                 url=f'jdbc:sqlite:{path}')\\\n",
    "        .load()"
   ]
  },
  {
   "cell_type": "code",
   "execution_count": 28,
   "id": "119887bf",
   "metadata": {},
   "outputs": [
    {
     "name": "stdout",
     "output_type": "stream",
     "text": [
      "root\n",
      " |-- id: string (nullable = true)\n",
      " |-- emp_title: string (nullable = true)\n",
      " |-- emp_length: string (nullable = true)\n",
      " |-- home_ownership: string (nullable = true)\n",
      " |-- zip_code: string (nullable = true)\n",
      " |-- addr_state: string (nullable = true)\n",
      " |-- member_id: double (nullable = true)\n",
      "\n"
     ]
    }
   ],
   "source": [
    "py_df_borrower.printSchema()"
   ]
  },
  {
   "cell_type": "code",
   "execution_count": 30,
   "id": "246b5286",
   "metadata": {},
   "outputs": [
    {
     "name": "stderr",
     "output_type": "stream",
     "text": [
      "                                                                                \r"
     ]
    },
    {
     "data": {
      "text/plain": [
       "2260701"
      ]
     },
     "execution_count": 30,
     "metadata": {},
     "output_type": "execute_result"
    }
   ],
   "source": [
    "py_df_borrower.count()"
   ]
  },
  {
   "cell_type": "code",
   "execution_count": 31,
   "id": "f545719d",
   "metadata": {},
   "outputs": [],
   "source": [
    "py_df_borrower.createOrReplaceTempView('borrower')"
   ]
  },
  {
   "cell_type": "code",
   "execution_count": 33,
   "id": "c108d202",
   "metadata": {},
   "outputs": [
    {
     "data": {
      "text/plain": [
       "[Row(id='68407277', emp_title='leadman', emp_length='10+ years', home_ownership='MORTGAGE', zip_code='190xx', addr_state='PA', member_id=None),\n",
       " Row(id='68355089', emp_title='Engineer', emp_length='10+ years', home_ownership='MORTGAGE', zip_code='577xx', addr_state='SD', member_id=None),\n",
       " Row(id='68341763', emp_title='truck driver', emp_length='10+ years', home_ownership='MORTGAGE', zip_code='605xx', addr_state='IL', member_id=None)]"
      ]
     },
     "execution_count": 33,
     "metadata": {},
     "output_type": "execute_result"
    }
   ],
   "source": [
    "spark.sql(\"select * from borrower\").take(3)"
   ]
  },
  {
   "cell_type": "code",
   "execution_count": 34,
   "id": "ce563a05",
   "metadata": {},
   "outputs": [
    {
     "name": "stdout",
     "output_type": "stream",
     "text": [
      "+--------+------------+----------+--------------+--------+----------+---------+\n",
      "|      id|   emp_title|emp_length|home_ownership|zip_code|addr_state|member_id|\n",
      "+--------+------------+----------+--------------+--------+----------+---------+\n",
      "|68407277|     leadman| 10+ years|      MORTGAGE|   190xx|        PA|     null|\n",
      "|68355089|    Engineer| 10+ years|      MORTGAGE|   577xx|        SD|     null|\n",
      "|68341763|truck driver| 10+ years|      MORTGAGE|   605xx|        IL|     null|\n",
      "+--------+------------+----------+--------------+--------+----------+---------+\n",
      "\n"
     ]
    }
   ],
   "source": [
    "spark.sql(\"select * from borrower limit 3\").show()"
   ]
  },
  {
   "cell_type": "code",
   "execution_count": null,
   "id": "6c6b866e",
   "metadata": {},
   "outputs": [],
   "source": []
  },
  {
   "cell_type": "code",
   "execution_count": null,
   "id": "e6ed3195",
   "metadata": {},
   "outputs": [],
   "source": [
    "py_df_borrower = spark.read.format('jdbc') \\\n",
    "        .options(driver='org.sqlite.JDBC', dbtable='borrower',\n",
    "                 url=f'jdbc:sqlite:{path}')\\\n",
    "        .load()"
   ]
  },
  {
   "cell_type": "code",
   "execution_count": null,
   "id": "01ad63b1",
   "metadata": {},
   "outputs": [],
   "source": [
    ".option(\"query\", \"select id,age from borrower where gender='M'\") "
   ]
  },
  {
   "cell_type": "markdown",
   "id": "ecfd3e3d",
   "metadata": {},
   "source": [
    "## 2. 하나의 테이블 쿼리 처리  "
   ]
  },
  {
   "cell_type": "markdown",
   "id": "ba221a30",
   "metadata": {},
   "source": [
    "## 데이터베이스의 테이블 조회하기 "
   ]
  },
  {
   "cell_type": "code",
   "execution_count": 60,
   "id": "cb92a702",
   "metadata": {},
   "outputs": [],
   "source": [
    "query_tables = \"\"\"SELECT name FROM sqlite_master  \n",
    "  WHERE type='table'\"\"\""
   ]
  },
  {
   "cell_type": "code",
   "execution_count": 61,
   "id": "ef7a64a3",
   "metadata": {},
   "outputs": [],
   "source": [
    "df_tables = spark.read \\\n",
    "    .format(\"jdbc\") \\\n",
    "    .option(\"url\", f'jdbc:sqlite:{path}') \\\n",
    "    .option(\"driver\", 'org.sqlite.JDBC') \\\n",
    "    .option(\"query\", query_tables) \\\n",
    "    .load()"
   ]
  },
  {
   "cell_type": "code",
   "execution_count": 63,
   "id": "9774a088",
   "metadata": {},
   "outputs": [
    {
     "name": "stdout",
     "output_type": "stream",
     "text": [
      "+-------------------+\n",
      "|               name|\n",
      "+-------------------+\n",
      "|           borrower|\n",
      "|             credit|\n",
      "|      credit_rating|\n",
      "|           hardship|\n",
      "|             income|\n",
      "|            inquiry|\n",
      "|        installment|\n",
      "|       loan_account|\n",
      "|            payment|\n",
      "|          revolving|\n",
      "|secondary_applicant|\n",
      "|         settlement|\n",
      "|              trade|\n",
      "+-------------------+\n",
      "\n"
     ]
    }
   ],
   "source": [
    "df_tables.show(15)"
   ]
  },
  {
   "cell_type": "markdown",
   "id": "9d7943cb",
   "metadata": {},
   "source": [
    "## 하나의 테이블 조회 "
   ]
  },
  {
   "cell_type": "code",
   "execution_count": 70,
   "id": "1e12221c",
   "metadata": {},
   "outputs": [],
   "source": [
    "# Query from sql Table\n",
    "df_trade = spark.read \\\n",
    "    .format(\"jdbc\") \\\n",
    "    .option(\"url\", f'jdbc:sqlite:{path}') \\\n",
    "    .option(\"driver\", 'org.sqlite.JDBC') \\\n",
    "    .option(\"query\", \"select * from trade limit 10\") \\\n",
    "    .load()"
   ]
  },
  {
   "cell_type": "code",
   "execution_count": 71,
   "id": "b83bcf81",
   "metadata": {},
   "outputs": [
    {
     "name": "stdout",
     "output_type": "stream",
     "text": [
      "root\n",
      " |-- id: string (nullable = true)\n",
      " |-- open_acc_6m: double (nullable = true)\n",
      " |-- total_cu_tl: double (nullable = true)\n",
      " |-- acc_open_past_24mths: double (nullable = true)\n",
      " |-- pct_tl_nvr_dlq: double (nullable = true)\n",
      "\n"
     ]
    }
   ],
   "source": [
    "df_trade.printSchema()"
   ]
  },
  {
   "cell_type": "code",
   "execution_count": 72,
   "id": "12a6efcf",
   "metadata": {},
   "outputs": [],
   "source": [
    "# Query from sql Table\n",
    "df_inquiry = spark.read \\\n",
    "    .format(\"jdbc\") \\\n",
    "    .option(\"url\", f'jdbc:sqlite:{path}') \\\n",
    "    .option(\"driver\", 'org.sqlite.JDBC') \\\n",
    "    .option(\"query\", \"select * from inquiry limit 10\") \\\n",
    "    .load()"
   ]
  },
  {
   "cell_type": "code",
   "execution_count": 73,
   "id": "7f5af490",
   "metadata": {},
   "outputs": [
    {
     "name": "stdout",
     "output_type": "stream",
     "text": [
      "root\n",
      " |-- id: string (nullable = true)\n",
      " |-- inq_last_6mths: double (nullable = true)\n",
      " |-- inq_fi: double (nullable = true)\n",
      " |-- inq_last_12m: double (nullable = true)\n",
      " |-- mths_since_recent_inq: double (nullable = true)\n",
      "\n"
     ]
    }
   ],
   "source": [
    "df_inquiry.printSchema()"
   ]
  },
  {
   "cell_type": "code",
   "execution_count": 38,
   "id": "050aefaa",
   "metadata": {},
   "outputs": [],
   "source": [
    "# Query from sql Table\n",
    "df = spark.read \\\n",
    "    .format(\"jdbc\") \\\n",
    "    .option(\"url\", f'jdbc:sqlite:{path}') \\\n",
    "    .option(\"driver\", 'org.sqlite.JDBC') \\\n",
    "    .option(\"query\", \"select * from borrower limit 100\") \\\n",
    "    .load()"
   ]
  },
  {
   "cell_type": "code",
   "execution_count": 39,
   "id": "19ddcb47",
   "metadata": {},
   "outputs": [
    {
     "name": "stdout",
     "output_type": "stream",
     "text": [
      "+--------+--------------------+----------+--------------+--------+----------+---------+\n",
      "|      id|           emp_title|emp_length|home_ownership|zip_code|addr_state|member_id|\n",
      "+--------+--------------------+----------+--------------+--------+----------+---------+\n",
      "|68407277|             leadman| 10+ years|      MORTGAGE|   190xx|        PA|     null|\n",
      "|68355089|            Engineer| 10+ years|      MORTGAGE|   577xx|        SD|     null|\n",
      "|68341763|        truck driver| 10+ years|      MORTGAGE|   605xx|        IL|     null|\n",
      "|66310712|Information Syste...| 10+ years|      MORTGAGE|   076xx|        NJ|     null|\n",
      "|68476807| Contract Specialist|   3 years|      MORTGAGE|   174xx|        PA|     null|\n",
      "|68426831|Veterinary Tecnician|   4 years|          RENT|   300xx|        GA|     null|\n",
      "|68476668|Vice President of...| 10+ years|      MORTGAGE|   550xx|        MN|     null|\n",
      "|67275481|         road driver| 10+ years|      MORTGAGE|   293xx|        SC|     null|\n",
      "|68466926|     SERVICE MANAGER|   6 years|          RENT|   160xx|        PA|     null|\n",
      "|68616873|      Vendor liaison| 10+ years|      MORTGAGE|   029xx|        RI|     null|\n",
      "|68356421|  Executive Director|   6 years|      MORTGAGE|   290xx|        SC|     null|\n",
      "|68426545|Senior Structural...|    1 year|      MORTGAGE|   786xx|        TX|     null|\n",
      "|68338832|   Logistics Manager|   3 years|      MORTGAGE|   275xx|        NC|     null|\n",
      "|66624733|    Software Manager|   7 years|          RENT|   916xx|        CA|     null|\n",
      "|68466961|      Senior Manager| 10+ years|      MORTGAGE|   275xx|        NC|     null|\n",
      "|68354783|                tech|   8 years|      MORTGAGE|   299xx|        SC|     null|\n",
      "|68466916|       Sales Manager| 10+ years|      MORTGAGE|   226xx|        VA|     null|\n",
      "|68577849|               GS-11| 10+ years|      MORTGAGE|   856xx|        AZ|     null|\n",
      "|68506798|             Teacher|   5 years|          RENT|   117xx|        NY|     null|\n",
      "|68495092|Program Coordinator |   8 years|          RENT|   462xx|        IN|     null|\n",
      "+--------+--------------------+----------+--------------+--------+----------+---------+\n",
      "only showing top 20 rows\n",
      "\n"
     ]
    }
   ],
   "source": [
    "df.show()"
   ]
  },
  {
   "cell_type": "markdown",
   "id": "7d0de56f",
   "metadata": {},
   "source": [
    "## 3 . 조인처리하기 "
   ]
  },
  {
   "cell_type": "code",
   "execution_count": 54,
   "id": "f2eabd2b",
   "metadata": {},
   "outputs": [],
   "source": [
    "query = \"\"\"\n",
    "select b.id,b.emp_title, i.inq_fi from borrower b join inquiry i on b.id = i.id limit 100\n",
    "\"\"\""
   ]
  },
  {
   "cell_type": "code",
   "execution_count": 55,
   "id": "96157aaf",
   "metadata": {},
   "outputs": [],
   "source": [
    "# Query from sql Table\n",
    "df_join = spark.read \\\n",
    "    .format(\"jdbc\") \\\n",
    "    .option(\"url\", f'jdbc:sqlite:{path}') \\\n",
    "    .option(\"driver\", 'org.sqlite.JDBC') \\\n",
    "    .option(\"query\", query) \\\n",
    "    .load()"
   ]
  },
  {
   "cell_type": "code",
   "execution_count": 56,
   "id": "b30f2f08",
   "metadata": {},
   "outputs": [
    {
     "name": "stdout",
     "output_type": "stream",
     "text": [
      "root\n",
      " |-- id: string (nullable = true)\n",
      " |-- emp_title: string (nullable = true)\n",
      " |-- inq_fi: double (nullable = true)\n",
      "\n"
     ]
    }
   ],
   "source": [
    "df_join.printSchema()"
   ]
  },
  {
   "cell_type": "code",
   "execution_count": 57,
   "id": "b266ac35",
   "metadata": {},
   "outputs": [
    {
     "name": "stderr",
     "output_type": "stream",
     "text": [
      "\r",
      "[Stage 7:>                                                          (0 + 1) / 1]\r"
     ]
    },
    {
     "name": "stdout",
     "output_type": "stream",
     "text": [
      "+--------+--------------------+------+\n",
      "|      id|           emp_title|inq_fi|\n",
      "+--------+--------------------+------+\n",
      "|68407277|             leadman|   3.0|\n",
      "|68355089|            Engineer|   0.0|\n",
      "|68341763|        truck driver|   2.0|\n",
      "|66310712|Information Syste...|   0.0|\n",
      "|68476807| Contract Specialist|   2.0|\n",
      "|68426831|Veterinary Tecnician|   0.0|\n",
      "|68476668|Vice President of...|   1.0|\n",
      "|67275481|         road driver|   1.0|\n",
      "|68466926|     SERVICE MANAGER|   2.0|\n",
      "|68616873|      Vendor liaison|   0.0|\n",
      "|68356421|  Executive Director|   1.0|\n",
      "|68426545|Senior Structural...|   0.0|\n",
      "|68338832|   Logistics Manager|   0.0|\n",
      "|66624733|    Software Manager|   2.0|\n",
      "|68466961|      Senior Manager|   0.0|\n",
      "|68354783|                tech|   0.0|\n",
      "|68466916|       Sales Manager|   1.0|\n",
      "|68577849|               GS-11|   0.0|\n",
      "|68506798|             Teacher|   0.0|\n",
      "|68495092|Program Coordinator |   2.0|\n",
      "+--------+--------------------+------+\n",
      "only showing top 20 rows\n",
      "\n"
     ]
    },
    {
     "name": "stderr",
     "output_type": "stream",
     "text": [
      "\r",
      "                                                                                \r"
     ]
    }
   ],
   "source": [
    "df_join.show()"
   ]
  },
  {
   "cell_type": "code",
   "execution_count": null,
   "id": "07f3b2fe",
   "metadata": {},
   "outputs": [],
   "source": []
  }
 ],
 "metadata": {
  "kernelspec": {
   "display_name": "Python 3 (ipykernel)",
   "language": "python",
   "name": "python3"
  },
  "language_info": {
   "codemirror_mode": {
    "name": "ipython",
    "version": 3
   },
   "file_extension": ".py",
   "mimetype": "text/x-python",
   "name": "python",
   "nbconvert_exporter": "python",
   "pygments_lexer": "ipython3",
   "version": "3.11.3"
  }
 },
 "nbformat": 4,
 "nbformat_minor": 5
}
