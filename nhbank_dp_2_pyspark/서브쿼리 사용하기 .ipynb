{
 "cells": [
  {
   "cell_type": "code",
   "execution_count": null,
   "id": "7323a5fc",
   "metadata": {},
   "outputs": [],
   "source": []
  },
  {
   "cell_type": "code",
   "execution_count": 1,
   "id": "440ad315",
   "metadata": {},
   "outputs": [
    {
     "name": "stderr",
     "output_type": "stream",
     "text": [
      "Setting default log level to \"WARN\".\n",
      "To adjust logging level use sc.setLogLevel(newLevel). For SparkR, use setLogLevel(newLevel).\n",
      "23/06/09 18:07:53 WARN NativeCodeLoader: Unable to load native-hadoop library for your platform... using builtin-java classes where applicable\n"
     ]
    }
   ],
   "source": [
    "from pyspark.sql import SparkSession\n",
    "\n",
    "spark = (SparkSession.builder.appName('sub-query1')\n",
    "                             .config(\"spark.driver.host\",\"127.0.0.1\") \n",
    "                             .config(\"spark.driver.bindAddress\",\"127.0.0.1\")\n",
    "                             .getOrCreate())"
   ]
  },
  {
   "cell_type": "code",
   "execution_count": 2,
   "id": "f17107ca",
   "metadata": {},
   "outputs": [],
   "source": [
    "# Create a DataFrame\n",
    "data = [(\"Alice\", 25), (\"Bob\", 30), (\"Charlie\", 35)]\n",
    "df = spark.createDataFrame(data, [\"name\", \"age\"])\n",
    "\n",
    "# Register the DataFrame as a temporary view\n",
    "df.createOrReplaceTempView(\"people\")\n"
   ]
  },
  {
   "cell_type": "markdown",
   "id": "2b65f158",
   "metadata": {},
   "source": [
    "## CTE(공통 테이블 표현식) \n",
    "\n",
    "- with 구문으로 서브쿼리를 공통으로 표시\n",
    "- 본 쿼리에서 이를 임시테이블 처럼 사용 "
   ]
  },
  {
   "cell_type": "code",
   "execution_count": null,
   "id": "0531ab4b",
   "metadata": {},
   "outputs": [],
   "source": []
  },
  {
   "cell_type": "code",
   "execution_count": 3,
   "id": "5958dbec",
   "metadata": {},
   "outputs": [
    {
     "name": "stderr",
     "output_type": "stream",
     "text": [
      "\r",
      "[Stage 0:>                                                        (0 + 10) / 10]\r"
     ]
    },
    {
     "name": "stdout",
     "output_type": "stream",
     "text": [
      "+-----------+\n",
      "|average_age|\n",
      "+-----------+\n",
      "|       30.0|\n",
      "+-----------+\n",
      "\n"
     ]
    },
    {
     "name": "stderr",
     "output_type": "stream",
     "text": [
      "\r",
      "                                                                                \r"
     ]
    }
   ],
   "source": [
    "spark.sql(\"SELECT AVG(age) AS average_age FROM people\").show()"
   ]
  },
  {
   "cell_type": "code",
   "execution_count": 6,
   "id": "baeb3bd8",
   "metadata": {},
   "outputs": [
    {
     "name": "stdout",
     "output_type": "stream",
     "text": [
      "+-------+\n",
      "|   name|\n",
      "+-------+\n",
      "|Charlie|\n",
      "+-------+\n",
      "\n"
     ]
    }
   ],
   "source": [
    "# Use CTE to process a subquery\n",
    "result = spark.sql(\"\"\"\n",
    "    WITH avg_age AS (\n",
    "        SELECT AVG(age) AS average_age FROM people\n",
    "    )\n",
    "    SELECT name FROM people WHERE age > (SELECT average_age FROM avg_age)\n",
    "\"\"\")\n",
    "\n",
    "# Show the result\n",
    "result.show()"
   ]
  },
  {
   "cell_type": "markdown",
   "id": "f6357517",
   "metadata": {},
   "source": [
    "## select 절에 서브쿼리"
   ]
  },
  {
   "cell_type": "code",
   "execution_count": 11,
   "id": "22fbeb21",
   "metadata": {},
   "outputs": [
    {
     "name": "stdout",
     "output_type": "stream",
     "text": [
      "+-------+---+-------+\n",
      "|   name|age|avg_age|\n",
      "+-------+---+-------+\n",
      "|  Alice| 25|   30.0|\n",
      "|    Bob| 30|   30.0|\n",
      "|Charlie| 35|   30.0|\n",
      "+-------+---+-------+\n",
      "\n"
     ]
    }
   ],
   "source": [
    "# Use a subquery in the SELECT clause\n",
    "result3 = spark.sql(\"\"\"\n",
    "    SELECT name, age, (SELECT AVG(age) FROM people) AS avg_age\n",
    "    FROM people\n",
    "\"\"\")\n",
    "\n",
    "# Show the result\n",
    "result3.show()"
   ]
  },
  {
   "cell_type": "code",
   "execution_count": null,
   "id": "48469c36",
   "metadata": {},
   "outputs": [],
   "source": []
  },
  {
   "cell_type": "markdown",
   "id": "6d462b96",
   "metadata": {},
   "source": [
    "## from 절에 서브쿼리 "
   ]
  },
  {
   "cell_type": "code",
   "execution_count": 10,
   "id": "4dd0a95d",
   "metadata": {},
   "outputs": [
    {
     "name": "stdout",
     "output_type": "stream",
     "text": [
      "+-------+---+\n",
      "|   name|age|\n",
      "+-------+---+\n",
      "|Charlie| 35|\n",
      "+-------+---+\n",
      "\n"
     ]
    }
   ],
   "source": [
    "# Use a subquery in the FROM clause\n",
    "result2 = spark.sql(\"\"\"\n",
    "    SELECT subquery.name, subquery.age\n",
    "    FROM (SELECT name, age FROM people WHERE age > 30) AS subquery\n",
    "\"\"\")\n",
    "\n",
    "# Show the result\n",
    "result2.show()"
   ]
  },
  {
   "cell_type": "code",
   "execution_count": null,
   "id": "d959cf9d",
   "metadata": {},
   "outputs": [],
   "source": []
  },
  {
   "cell_type": "markdown",
   "id": "75c70cc7",
   "metadata": {},
   "source": [
    "## where 절 서브쿼리 \n",
    "- 서브쿼리가 하나의 값인지은 비교 등으로 처리\n",
    "- 서브쿼리의 결과가 여러 개의 값일 경우는 in 연산자로 처리 "
   ]
  },
  {
   "cell_type": "code",
   "execution_count": 8,
   "id": "3c4396a2",
   "metadata": {},
   "outputs": [
    {
     "name": "stdout",
     "output_type": "stream",
     "text": [
      "+--------+\n",
      "|avg(age)|\n",
      "+--------+\n",
      "|    30.0|\n",
      "+--------+\n",
      "\n"
     ]
    }
   ],
   "source": [
    "spark.sql(\"SELECT AVG(age) FROM people\").show()"
   ]
  },
  {
   "cell_type": "code",
   "execution_count": null,
   "id": "1d02abd5",
   "metadata": {},
   "outputs": [],
   "source": []
  },
  {
   "cell_type": "code",
   "execution_count": 7,
   "id": "e62e104c",
   "metadata": {},
   "outputs": [
    {
     "name": "stdout",
     "output_type": "stream",
     "text": [
      "+-------+\n",
      "|   name|\n",
      "+-------+\n",
      "|Charlie|\n",
      "+-------+\n",
      "\n"
     ]
    }
   ],
   "source": [
    "# Use a subquery to filter the data\n",
    "result1 = spark.sql(\"SELECT name FROM people WHERE age > (SELECT AVG(age) FROM people)\")\n",
    "\n",
    "# Show the result\n",
    "result1.show()"
   ]
  },
  {
   "cell_type": "code",
   "execution_count": null,
   "id": "b1e057a4",
   "metadata": {},
   "outputs": [],
   "source": []
  },
  {
   "cell_type": "code",
   "execution_count": null,
   "id": "dfd95555",
   "metadata": {},
   "outputs": [],
   "source": [
    "# Stop the SparkSession\n",
    "spark.stop()"
   ]
  }
 ],
 "metadata": {
  "kernelspec": {
   "display_name": "Python 3 (ipykernel)",
   "language": "python",
   "name": "python3"
  },
  "language_info": {
   "codemirror_mode": {
    "name": "ipython",
    "version": 3
   },
   "file_extension": ".py",
   "mimetype": "text/x-python",
   "name": "python",
   "nbconvert_exporter": "python",
   "pygments_lexer": "ipython3",
   "version": "3.11.3"
  }
 },
 "nbformat": 4,
 "nbformat_minor": 5
}
