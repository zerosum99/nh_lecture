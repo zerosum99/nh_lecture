{
 "cells": [
  {
   "cell_type": "code",
   "execution_count": 1,
   "id": "ff546a83",
   "metadata": {},
   "outputs": [
    {
     "data": {
      "text/plain": [
       "'/Users/a06411/Documents/GitHub/nh_lecture/nhbank_dp_2_pyspark'"
      ]
     },
     "execution_count": 1,
     "metadata": {},
     "output_type": "execute_result"
    }
   ],
   "source": [
    "%pwd"
   ]
  },
  {
   "cell_type": "markdown",
   "id": "a4cf2896",
   "metadata": {},
   "source": [
    "## 1. 파이스파크에 jdbc 연결 처리 "
   ]
  },
  {
   "cell_type": "code",
   "execution_count": 2,
   "id": "fef945aa",
   "metadata": {},
   "outputs": [],
   "source": [
    "import os"
   ]
  },
  {
   "cell_type": "markdown",
   "id": "93d90deb",
   "metadata": {},
   "source": [
    "## 1-1 jdbc 컨피그 세팅 "
   ]
  },
  {
   "cell_type": "code",
   "execution_count": 3,
   "id": "08948f6a",
   "metadata": {},
   "outputs": [
    {
     "name": "stderr",
     "output_type": "stream",
     "text": [
      "/Users/a06411/opt/anaconda3/envs/fluentPython/lib/python3.11/site-packages/pyspark/pandas/__init__.py:50: UserWarning: 'PYARROW_IGNORE_TIMEZONE' environment variable was not set. It is required to set this environment variable to '1' in both driver and executor sides if you use pyarrow>=2.0.0. pandas-on-Spark will set it for you but it does not work if there is a Spark context already launched.\n",
      "  warnings.warn(\n"
     ]
    }
   ],
   "source": [
    "import pandas as pd\n",
    "import numpy as np\n",
    "import pyspark.pandas as ps\n",
    "from pyspark.sql import SparkSession"
   ]
  },
  {
   "cell_type": "code",
   "execution_count": 4,
   "id": "4d17e77e",
   "metadata": {},
   "outputs": [
    {
     "name": "stderr",
     "output_type": "stream",
     "text": [
      "23/06/09 19:32:41 WARN NativeCodeLoader: Unable to load native-hadoop library for your platform... using builtin-java classes where applicable\n",
      "Setting default log level to \"WARN\".\n",
      "To adjust logging level use sc.setLogLevel(newLevel). For SparkR, use setLogLevel(newLevel).\n"
     ]
    }
   ],
   "source": [
    "spark = (SparkSession.builder.appName('pandas-api')\n",
    "                             .config(\"spark.driver.host\",\"127.0.0.1\") \n",
    "                             .config(\"spark.driver.bindAddress\",\"127.0.0.1\")\n",
    "                             .config(\"spark.jars\",\"{}/sqlite-jdbc-3.34.0.jar\".format(os.getcwd()))\n",
    "                             .config(\"spark.driver.extraClassPath\",\"{}/sqlite-jdbc-3.34.0.jar\".format(os.getcwd()))\n",
    "                             .getOrCreate())"
   ]
  },
  {
   "cell_type": "code",
   "execution_count": 5,
   "id": "1c29d22d",
   "metadata": {},
   "outputs": [
    {
     "data": {
      "text/html": [
       "\n",
       "            <div>\n",
       "                <p><b>SparkSession - in-memory</b></p>\n",
       "                \n",
       "        <div>\n",
       "            <p><b>SparkContext</b></p>\n",
       "\n",
       "            <p><a href=\"http://127.0.0.1:4040\">Spark UI</a></p>\n",
       "\n",
       "            <dl>\n",
       "              <dt>Version</dt>\n",
       "                <dd><code>v3.4.0</code></dd>\n",
       "              <dt>Master</dt>\n",
       "                <dd><code>local[*]</code></dd>\n",
       "              <dt>AppName</dt>\n",
       "                <dd><code>pandas-api</code></dd>\n",
       "            </dl>\n",
       "        </div>\n",
       "        \n",
       "            </div>\n",
       "        "
      ],
      "text/plain": [
       "<pyspark.sql.session.SparkSession at 0x126a30450>"
      ]
     },
     "execution_count": 5,
     "metadata": {},
     "output_type": "execute_result"
    }
   ],
   "source": [
    "spark"
   ]
  },
  {
   "cell_type": "markdown",
   "id": "11d81d1e",
   "metadata": {},
   "source": [
    "## 1-2 스파크 데이터베이스 확인 "
   ]
  },
  {
   "cell_type": "code",
   "execution_count": 11,
   "id": "ae93161a",
   "metadata": {},
   "outputs": [
    {
     "name": "stdout",
     "output_type": "stream",
     "text": [
      "+---------+\n",
      "|namespace|\n",
      "+---------+\n",
      "|  default|\n",
      "+---------+\n",
      "\n"
     ]
    }
   ],
   "source": [
    "spark.sql(\"show databases\").show()"
   ]
  },
  {
   "cell_type": "markdown",
   "id": "2e58120a",
   "metadata": {},
   "source": [
    "## 데이터 베이스 생성"
   ]
  },
  {
   "cell_type": "code",
   "execution_count": 12,
   "id": "acc1466f",
   "metadata": {},
   "outputs": [
    {
     "data": {
      "text/plain": [
       "DataFrame[]"
      ]
     },
     "execution_count": 12,
     "metadata": {},
     "output_type": "execute_result"
    }
   ],
   "source": [
    "spark.sql(\"CREATE DATABASE IF NOT EXISTS customer_db;\")"
   ]
  },
  {
   "cell_type": "code",
   "execution_count": 13,
   "id": "c15e6edd",
   "metadata": {},
   "outputs": [
    {
     "data": {
      "text/plain": [
       "DataFrame[]"
      ]
     },
     "execution_count": 13,
     "metadata": {},
     "output_type": "execute_result"
    }
   ],
   "source": [
    "spark.sql(\"Use customer_db;\")"
   ]
  },
  {
   "cell_type": "code",
   "execution_count": 15,
   "id": "5455b224",
   "metadata": {},
   "outputs": [
    {
     "name": "stdout",
     "output_type": "stream",
     "text": [
      "+---------+---------+-----------+\n",
      "|namespace|tableName|isTemporary|\n",
      "+---------+---------+-----------+\n",
      "+---------+---------+-----------+\n",
      "\n"
     ]
    }
   ],
   "source": [
    "spark.sql(\"show tables\").show()"
   ]
  },
  {
   "cell_type": "code",
   "execution_count": null,
   "id": "2fe17c72",
   "metadata": {},
   "outputs": [],
   "source": []
  },
  {
   "cell_type": "markdown",
   "id": "5f9717a2",
   "metadata": {},
   "source": [
    "# 2. 파이스파크에서 sqlite 연결 "
   ]
  },
  {
   "cell_type": "markdown",
   "id": "a34dffa9",
   "metadata": {},
   "source": [
    "## 2-1 파이스파크 판다스 api 에서  sqlite 연결 "
   ]
  },
  {
   "cell_type": "code",
   "execution_count": 6,
   "id": "53e16093",
   "metadata": {},
   "outputs": [
    {
     "data": {
      "text/html": [
       "<div>\n",
       "<style scoped>\n",
       "    .dataframe tbody tr th:only-of-type {\n",
       "        vertical-align: middle;\n",
       "    }\n",
       "\n",
       "    .dataframe tbody tr th {\n",
       "        vertical-align: top;\n",
       "    }\n",
       "\n",
       "    .dataframe thead th {\n",
       "        text-align: right;\n",
       "    }\n",
       "</style>\n",
       "<table border=\"1\" class=\"dataframe\">\n",
       "  <thead>\n",
       "    <tr style=\"text-align: right;\">\n",
       "      <th></th>\n",
       "      <th>id</th>\n",
       "      <th>fname</th>\n",
       "      <th>lname</th>\n",
       "      <th>birthyear</th>\n",
       "    </tr>\n",
       "  </thead>\n",
       "  <tbody>\n",
       "    <tr>\n",
       "      <th>0</th>\n",
       "      <td>0</td>\n",
       "      <td>Paul</td>\n",
       "      <td>McCartney</td>\n",
       "      <td>1942</td>\n",
       "    </tr>\n",
       "    <tr>\n",
       "      <th>1</th>\n",
       "      <td>1</td>\n",
       "      <td>John</td>\n",
       "      <td>Lennon</td>\n",
       "      <td>1940</td>\n",
       "    </tr>\n",
       "  </tbody>\n",
       "</table>\n",
       "</div>"
      ],
      "text/plain": [
       "   id fname      lname  birthyear\n",
       "0   0  Paul  McCartney       1942\n",
       "1   1  John     Lennon       1940"
      ]
     },
     "execution_count": 6,
     "metadata": {},
     "output_type": "execute_result"
    }
   ],
   "source": [
    "import pyspark.pandas as ps\n",
    "\n",
    "df = ps.read_sql(\"Band\", con=\"jdbc:sqlite:{}/beat.db\".format(os.getcwd()))\n",
    "df"
   ]
  },
  {
   "cell_type": "code",
   "execution_count": null,
   "id": "2e2a30c0",
   "metadata": {},
   "outputs": [],
   "source": []
  },
  {
   "cell_type": "markdown",
   "id": "bf006ef0",
   "metadata": {},
   "source": [
    "## 2-2 파이스파크에서 직접 sqlite 연결하기 "
   ]
  },
  {
   "cell_type": "code",
   "execution_count": 8,
   "id": "30696e57",
   "metadata": {},
   "outputs": [],
   "source": [
    "py_df = spark.read.format('jdbc') \\\n",
    "        .options(driver='org.sqlite.JDBC', dbtable='Band',\n",
    "                 url='jdbc:sqlite:{}/beat.db'.format(os.getcwd()))\\\n",
    "        .load()"
   ]
  },
  {
   "cell_type": "code",
   "execution_count": 9,
   "id": "a4ea1971",
   "metadata": {},
   "outputs": [
    {
     "name": "stdout",
     "output_type": "stream",
     "text": [
      "+---+-----+---------+---------+\n",
      "| id|fname|    lname|birthyear|\n",
      "+---+-----+---------+---------+\n",
      "|  0| Paul|McCartney|     1942|\n",
      "|  1| John|   Lennon|     1940|\n",
      "+---+-----+---------+---------+\n",
      "\n"
     ]
    }
   ],
   "source": [
    "py_df.show()"
   ]
  },
  {
   "cell_type": "markdown",
   "id": "6bedba28",
   "metadata": {},
   "source": [
    "## 2-3 판다스에서 sqlite db 연결 처리 "
   ]
  },
  {
   "cell_type": "code",
   "execution_count": 17,
   "id": "7635fc42",
   "metadata": {},
   "outputs": [],
   "source": [
    "\n",
    "import sqlite3\n",
    "\n",
    "con = sqlite3.connect(\"../data/beat.db\")"
   ]
  },
  {
   "cell_type": "code",
   "execution_count": 18,
   "id": "122a8c95",
   "metadata": {},
   "outputs": [],
   "source": [
    "query = \"\"\"SELECT name FROM sqlite_master  \n",
    "  WHERE type='table';\"\"\""
   ]
  },
  {
   "cell_type": "code",
   "execution_count": 19,
   "id": "e3253a56",
   "metadata": {},
   "outputs": [
    {
     "data": {
      "text/html": [
       "<div>\n",
       "<style scoped>\n",
       "    .dataframe tbody tr th:only-of-type {\n",
       "        vertical-align: middle;\n",
       "    }\n",
       "\n",
       "    .dataframe tbody tr th {\n",
       "        vertical-align: top;\n",
       "    }\n",
       "\n",
       "    .dataframe thead th {\n",
       "        text-align: right;\n",
       "    }\n",
       "</style>\n",
       "<table border=\"1\" class=\"dataframe\">\n",
       "  <thead>\n",
       "    <tr style=\"text-align: right;\">\n",
       "      <th></th>\n",
       "      <th>name</th>\n",
       "    </tr>\n",
       "  </thead>\n",
       "  <tbody>\n",
       "    <tr>\n",
       "      <th>0</th>\n",
       "      <td>Band</td>\n",
       "    </tr>\n",
       "  </tbody>\n",
       "</table>\n",
       "</div>"
      ],
      "text/plain": [
       "   name\n",
       "0  Band"
      ]
     },
     "execution_count": 19,
     "metadata": {},
     "output_type": "execute_result"
    }
   ],
   "source": [
    "pd.read_sql_query(query,con)"
   ]
  },
  {
   "cell_type": "code",
   "execution_count": 20,
   "id": "022e983f",
   "metadata": {},
   "outputs": [],
   "source": [
    "pd_df = pd.read_sql(\"select * from Band\", con)"
   ]
  },
  {
   "cell_type": "markdown",
   "id": "bd3ab27b",
   "metadata": {},
   "source": [
    "## 2-4 데이터프레임을 변환하기 "
   ]
  },
  {
   "cell_type": "code",
   "execution_count": 21,
   "id": "2ea9289c",
   "metadata": {},
   "outputs": [],
   "source": [
    "ps_df = ps.DataFrame(pd_df)"
   ]
  },
  {
   "cell_type": "code",
   "execution_count": 22,
   "id": "d5b0ce36",
   "metadata": {},
   "outputs": [
    {
     "name": "stderr",
     "output_type": "stream",
     "text": [
      "\r",
      "[Stage 2:>                                                          (0 + 1) / 1]\r",
      "\r",
      "                                                                                \r"
     ]
    },
    {
     "data": {
      "text/html": [
       "<div>\n",
       "<style scoped>\n",
       "    .dataframe tbody tr th:only-of-type {\n",
       "        vertical-align: middle;\n",
       "    }\n",
       "\n",
       "    .dataframe tbody tr th {\n",
       "        vertical-align: top;\n",
       "    }\n",
       "\n",
       "    .dataframe thead th {\n",
       "        text-align: right;\n",
       "    }\n",
       "</style>\n",
       "<table border=\"1\" class=\"dataframe\">\n",
       "  <thead>\n",
       "    <tr style=\"text-align: right;\">\n",
       "      <th></th>\n",
       "      <th>id</th>\n",
       "      <th>fname</th>\n",
       "      <th>lname</th>\n",
       "      <th>birthyear</th>\n",
       "    </tr>\n",
       "  </thead>\n",
       "  <tbody>\n",
       "    <tr>\n",
       "      <th>0</th>\n",
       "      <td>0</td>\n",
       "      <td>Paul</td>\n",
       "      <td>McCartney</td>\n",
       "      <td>1942</td>\n",
       "    </tr>\n",
       "    <tr>\n",
       "      <th>1</th>\n",
       "      <td>1</td>\n",
       "      <td>John</td>\n",
       "      <td>Lennon</td>\n",
       "      <td>1940</td>\n",
       "    </tr>\n",
       "  </tbody>\n",
       "</table>\n",
       "</div>"
      ],
      "text/plain": [
       "   id fname      lname  birthyear\n",
       "0   0  Paul  McCartney       1942\n",
       "1   1  John     Lennon       1940"
      ]
     },
     "execution_count": 22,
     "metadata": {},
     "output_type": "execute_result"
    }
   ],
   "source": [
    "ps_df"
   ]
  },
  {
   "cell_type": "code",
   "execution_count": 23,
   "id": "08cd1881",
   "metadata": {},
   "outputs": [],
   "source": [
    "sp_df = spark.createDataFrame(pd_df)"
   ]
  },
  {
   "cell_type": "code",
   "execution_count": 24,
   "id": "a9d18b7f",
   "metadata": {},
   "outputs": [
    {
     "name": "stdout",
     "output_type": "stream",
     "text": [
      "+---+-----+---------+---------+\n",
      "| id|fname|    lname|birthyear|\n",
      "+---+-----+---------+---------+\n",
      "|  0| Paul|McCartney|     1942|\n",
      "|  1| John|   Lennon|     1940|\n",
      "+---+-----+---------+---------+\n",
      "\n"
     ]
    }
   ],
   "source": [
    "sp_df.show()"
   ]
  },
  {
   "cell_type": "code",
   "execution_count": 21,
   "id": "5219b02c",
   "metadata": {},
   "outputs": [
    {
     "name": "stderr",
     "output_type": "stream",
     "text": [
      "                                                                                \r"
     ]
    }
   ],
   "source": [
    "## sp_df.write.mode(\"overwrite\").saveAsTable('Band')"
   ]
  },
  {
   "cell_type": "markdown",
   "id": "c2ff3ddd",
   "metadata": {},
   "source": [
    "## 3 파이스파크에서 조회한 것을 테이블로 저장"
   ]
  },
  {
   "cell_type": "markdown",
   "id": "29fd9e33",
   "metadata": {},
   "source": [
    "## 3-1 테이블 저장하기"
   ]
  },
  {
   "cell_type": "markdown",
   "id": "24905280",
   "metadata": {},
   "source": [
    "## 파이스파크"
   ]
  },
  {
   "cell_type": "code",
   "execution_count": 25,
   "id": "37f5cbc0",
   "metadata": {},
   "outputs": [
    {
     "name": "stderr",
     "output_type": "stream",
     "text": [
      "                                                                                \r"
     ]
    }
   ],
   "source": [
    "py_df.write.mode(\"overwrite\").saveAsTable('Band')"
   ]
  },
  {
   "cell_type": "code",
   "execution_count": 26,
   "id": "715b098f",
   "metadata": {},
   "outputs": [
    {
     "name": "stdout",
     "output_type": "stream",
     "text": [
      "+-----------+---------+-----------+\n",
      "|  namespace|tableName|isTemporary|\n",
      "+-----------+---------+-----------+\n",
      "|customer_db|     band|      false|\n",
      "+-----------+---------+-----------+\n",
      "\n"
     ]
    }
   ],
   "source": [
    "spark.sql(\"show tables\").show()"
   ]
  },
  {
   "cell_type": "code",
   "execution_count": 30,
   "id": "be07b459",
   "metadata": {},
   "outputs": [
    {
     "name": "stdout",
     "output_type": "stream",
     "text": [
      "+---+-----+---------+---------+\n",
      "| id|fname|    lname|birthyear|\n",
      "+---+-----+---------+---------+\n",
      "|  0| Paul|McCartney|     1942|\n",
      "|  1| John|   Lennon|     1940|\n",
      "+---+-----+---------+---------+\n",
      "\n"
     ]
    }
   ],
   "source": [
    "spark.sql('select * from band').show()"
   ]
  },
  {
   "cell_type": "markdown",
   "id": "ccbe2a69",
   "metadata": {},
   "source": [
    "##  판다스 -> 파이스파크 "
   ]
  },
  {
   "cell_type": "code",
   "execution_count": 27,
   "id": "d54e5e81",
   "metadata": {},
   "outputs": [],
   "source": [
    "sp_df.write.mode(\"overwrite\").saveAsTable('Band1')"
   ]
  },
  {
   "cell_type": "code",
   "execution_count": 28,
   "id": "244acbf1",
   "metadata": {},
   "outputs": [
    {
     "name": "stdout",
     "output_type": "stream",
     "text": [
      "+-----------+---------+-----------+\n",
      "|  namespace|tableName|isTemporary|\n",
      "+-----------+---------+-----------+\n",
      "|customer_db|     band|      false|\n",
      "|customer_db|    band1|      false|\n",
      "+-----------+---------+-----------+\n",
      "\n"
     ]
    }
   ],
   "source": [
    "spark.sql(\"show tables\").show()"
   ]
  },
  {
   "cell_type": "code",
   "execution_count": 29,
   "id": "85f83b79",
   "metadata": {},
   "outputs": [
    {
     "name": "stdout",
     "output_type": "stream",
     "text": [
      "+---+-----+---------+---------+\n",
      "| id|fname|    lname|birthyear|\n",
      "+---+-----+---------+---------+\n",
      "|  0| Paul|McCartney|     1942|\n",
      "|  1| John|   Lennon|     1940|\n",
      "+---+-----+---------+---------+\n",
      "\n"
     ]
    }
   ],
   "source": [
    "spark.sql('select * from band1').show()"
   ]
  },
  {
   "cell_type": "code",
   "execution_count": null,
   "id": "e28314cc",
   "metadata": {},
   "outputs": [],
   "source": []
  },
  {
   "cell_type": "code",
   "execution_count": null,
   "id": "823e4196",
   "metadata": {},
   "outputs": [],
   "source": []
  }
 ],
 "metadata": {
  "kernelspec": {
   "display_name": "Python 3 (ipykernel)",
   "language": "python",
   "name": "python3"
  },
  "language_info": {
   "codemirror_mode": {
    "name": "ipython",
    "version": 3
   },
   "file_extension": ".py",
   "mimetype": "text/x-python",
   "name": "python",
   "nbconvert_exporter": "python",
   "pygments_lexer": "ipython3",
   "version": "3.11.3"
  }
 },
 "nbformat": 4,
 "nbformat_minor": 5
}
