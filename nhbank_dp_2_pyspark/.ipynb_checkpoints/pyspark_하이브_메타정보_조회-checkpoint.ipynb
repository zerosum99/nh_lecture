{
 "cells": [
  {
   "cell_type": "code",
   "execution_count": null,
   "id": "2606591f",
   "metadata": {},
   "outputs": [],
   "source": []
  },
  {
   "cell_type": "code",
   "execution_count": 1,
   "id": "4ca1f7c4",
   "metadata": {},
   "outputs": [],
   "source": [
    "from pyspark.sql import SparkSession"
   ]
  },
  {
   "cell_type": "code",
   "execution_count": 2,
   "id": "91e96005",
   "metadata": {},
   "outputs": [
    {
     "name": "stderr",
     "output_type": "stream",
     "text": [
      "Setting default log level to \"WARN\".\n",
      "To adjust logging level use sc.setLogLevel(newLevel). For SparkR, use setLogLevel(newLevel).\n",
      "23/06/06 21:49:04 WARN NativeCodeLoader: Unable to load native-hadoop library for your platform... using builtin-java classes where applicable\n",
      "23/06/06 21:49:05 WARN Utils: Service 'SparkUI' could not bind on port 4040. Attempting port 4041.\n"
     ]
    }
   ],
   "source": [
    "spark = (SparkSession.builder.appName(\"MyPySparkApp\")\n",
    "                             .config(\"spark.driver.host\",\"127.0.0.1\") \n",
    "                             .config(\"spark.driver.bindAddress\",\"127.0.0.1\")\n",
    "                             .getOrCreate())"
   ]
  },
  {
   "cell_type": "code",
   "execution_count": 3,
   "id": "fc574ffd",
   "metadata": {},
   "outputs": [],
   "source": [
    "# 예제 데이터를 생성합니다.\n",
    "data = [(\"Alice\", 25), (\"Bob\", 30), (\"Charlie\", 35)]\n",
    "df = spark.createDataFrame(data, [\"name\", \"age\"])"
   ]
  },
  {
   "cell_type": "code",
   "execution_count": 4,
   "id": "951d33e3",
   "metadata": {},
   "outputs": [
    {
     "name": "stderr",
     "output_type": "stream",
     "text": [
      "                                                                                \r"
     ]
    }
   ],
   "source": [
    "# 데이터프레임을 영구 테이블로 등록합니다.\n",
    "df.write.saveAsTable(\"my_table\")"
   ]
  },
  {
   "cell_type": "code",
   "execution_count": 5,
   "id": "9c3fcaf4",
   "metadata": {},
   "outputs": [
    {
     "name": "stdout",
     "output_type": "stream",
     "text": [
      "+-------+---+\n",
      "|   name|age|\n",
      "+-------+---+\n",
      "|Charlie| 35|\n",
      "|  Alice| 25|\n",
      "|    Bob| 30|\n",
      "+-------+---+\n",
      "\n"
     ]
    }
   ],
   "source": [
    "# 등록한 테이블에 SQL 쿼리를 실행합니다.\n",
    "result = spark.sql(\"SELECT * FROM my_table\")\n",
    "result.show()\n",
    "\n"
   ]
  },
  {
   "cell_type": "code",
   "execution_count": null,
   "id": "708e7a9f",
   "metadata": {},
   "outputs": [],
   "source": []
  },
  {
   "cell_type": "code",
   "execution_count": 6,
   "id": "b27959ad",
   "metadata": {},
   "outputs": [
    {
     "name": "stdout",
     "output_type": "stream",
     "text": [
      "+---------+\n",
      "|namespace|\n",
      "+---------+\n",
      "|  default|\n",
      "+---------+\n",
      "\n"
     ]
    }
   ],
   "source": [
    "# 하이브 메타데이터 정보를 조회합니다.\n",
    "hive_db_df = spark.sql(\"SHOW DATABASES\")\n",
    "\n",
    "# 조회한 메타데이터를 출력합니다.\n",
    "hive_db_df.show()"
   ]
  },
  {
   "cell_type": "code",
   "execution_count": null,
   "id": "82e2ed42",
   "metadata": {},
   "outputs": [],
   "source": []
  },
  {
   "cell_type": "code",
   "execution_count": 10,
   "id": "c500bbbe",
   "metadata": {},
   "outputs": [
    {
     "name": "stdout",
     "output_type": "stream",
     "text": [
      "++\n",
      "||\n",
      "++\n",
      "++\n",
      "\n"
     ]
    }
   ],
   "source": [
    "# 하이브 메타데이터 정보를 조회합니다.\n",
    "hive_db_df1 = spark.sql(\"Use default\")\n",
    "\n",
    "# 조회한 메타데이터를 출력합니다.\n",
    "hive_db_df1.show()"
   ]
  },
  {
   "cell_type": "code",
   "execution_count": null,
   "id": "d122cb0d",
   "metadata": {},
   "outputs": [],
   "source": []
  },
  {
   "cell_type": "code",
   "execution_count": 11,
   "id": "449a91ac",
   "metadata": {},
   "outputs": [
    {
     "name": "stdout",
     "output_type": "stream",
     "text": [
      "+---------+---------+-----------+\n",
      "|namespace|tableName|isTemporary|\n",
      "+---------+---------+-----------+\n",
      "|  default| my_table|      false|\n",
      "+---------+---------+-----------+\n",
      "\n"
     ]
    }
   ],
   "source": [
    "# 하이브 메타데이터 정보를 조회합니다.\n",
    "hive_db_df2 = spark.sql(\"SHOW Tables\")\n",
    "\n",
    "# 조회한 메타데이터를 출력합니다.\n",
    "hive_db_df2.show()"
   ]
  },
  {
   "cell_type": "code",
   "execution_count": null,
   "id": "779ce100",
   "metadata": {},
   "outputs": [],
   "source": []
  },
  {
   "cell_type": "code",
   "execution_count": 12,
   "id": "3dc89274",
   "metadata": {},
   "outputs": [
    {
     "name": "stdout",
     "output_type": "stream",
     "text": [
      "+-------+---+\n",
      "|   name|age|\n",
      "+-------+---+\n",
      "|Charlie| 35|\n",
      "|  Alice| 25|\n",
      "|    Bob| 30|\n",
      "+-------+---+\n",
      "\n"
     ]
    }
   ],
   "source": [
    "# 하이브 메타데이터 정보를 조회합니다.\n",
    "hive_db_df3 = spark.sql(\"select * from my_table\")\n",
    "\n",
    "# 조회한 메타데이터를 출력합니다.\n",
    "hive_db_df3.show()"
   ]
  },
  {
   "cell_type": "code",
   "execution_count": null,
   "id": "f6abfa11",
   "metadata": {},
   "outputs": [],
   "source": []
  },
  {
   "cell_type": "code",
   "execution_count": null,
   "id": "fb7e4184",
   "metadata": {},
   "outputs": [],
   "source": [
    "# 세션을 종료합니다.\n",
    "spark.stop()"
   ]
  }
 ],
 "metadata": {
  "kernelspec": {
   "display_name": "Python 3 (ipykernel)",
   "language": "python",
   "name": "python3"
  },
  "language_info": {
   "codemirror_mode": {
    "name": "ipython",
    "version": 3
   },
   "file_extension": ".py",
   "mimetype": "text/x-python",
   "name": "python",
   "nbconvert_exporter": "python",
   "pygments_lexer": "ipython3",
   "version": "3.11.3"
  }
 },
 "nbformat": 4,
 "nbformat_minor": 5
}
