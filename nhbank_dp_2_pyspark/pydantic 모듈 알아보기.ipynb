{
 "cells": [
  {
   "cell_type": "code",
   "execution_count": 21,
   "id": "a3b979eb",
   "metadata": {},
   "outputs": [],
   "source": [
    "import platform"
   ]
  },
  {
   "cell_type": "code",
   "execution_count": 22,
   "id": "f69fdacc",
   "metadata": {},
   "outputs": [
    {
     "data": {
      "text/plain": [
       "'3.11.3'"
      ]
     },
     "execution_count": 22,
     "metadata": {},
     "output_type": "execute_result"
    }
   ],
   "source": [
    "platform.python_version()"
   ]
  },
  {
   "cell_type": "markdown",
   "id": "e9bd71ec",
   "metadata": {},
   "source": [
    "## 데이터 처리 모듈 설치 \n",
    "pip install pydantic"
   ]
  },
  {
   "cell_type": "markdown",
   "id": "6bb12027",
   "metadata": {},
   "source": [
    "# 1. 데이터클래스 "
   ]
  },
  {
   "cell_type": "code",
   "execution_count": 10,
   "id": "5d6aa51d",
   "metadata": {},
   "outputs": [],
   "source": [
    "from dataclasses import dataclass\n"
   ]
  },
  {
   "cell_type": "markdown",
   "id": "f4f5d0db",
   "metadata": {},
   "source": [
    "## 디스크립트 dataclass를 클래스에 데코레이터 처리\n",
    "\n",
    "- __get__ 을 지정해서 타입을 지정해서 처리 "
   ]
  },
  {
   "cell_type": "code",
   "execution_count": 14,
   "id": "77fbf76c",
   "metadata": {},
   "outputs": [
    {
     "data": {
      "text/plain": [
       "['__annotations__',\n",
       " '__builtins__',\n",
       " '__call__',\n",
       " '__class__',\n",
       " '__closure__',\n",
       " '__code__',\n",
       " '__defaults__',\n",
       " '__delattr__',\n",
       " '__dict__',\n",
       " '__dir__',\n",
       " '__doc__',\n",
       " '__eq__',\n",
       " '__format__',\n",
       " '__ge__',\n",
       " '__get__',\n",
       " '__getattribute__',\n",
       " '__getstate__',\n",
       " '__globals__',\n",
       " '__gt__',\n",
       " '__hash__',\n",
       " '__init__',\n",
       " '__init_subclass__',\n",
       " '__kwdefaults__',\n",
       " '__le__',\n",
       " '__lt__',\n",
       " '__module__',\n",
       " '__name__',\n",
       " '__ne__',\n",
       " '__new__',\n",
       " '__qualname__',\n",
       " '__reduce__',\n",
       " '__reduce_ex__',\n",
       " '__repr__',\n",
       " '__setattr__',\n",
       " '__sizeof__',\n",
       " '__str__',\n",
       " '__subclasshook__']"
      ]
     },
     "execution_count": 14,
     "metadata": {},
     "output_type": "execute_result"
    }
   ],
   "source": [
    "dir(dataclass)"
   ]
  },
  {
   "cell_type": "code",
   "execution_count": null,
   "id": "407d54c4",
   "metadata": {},
   "outputs": [],
   "source": [
    "@dataclass\n",
    "class Person:\n",
    "    name: str\n",
    "    age: int\n",
    "    profession: str"
   ]
  },
  {
   "cell_type": "code",
   "execution_count": 11,
   "id": "f6abb5eb",
   "metadata": {},
   "outputs": [],
   "source": [
    "# 데이터 클래스의 인스턴스 생성\n",
    "person1 = Person(\"Alice\", 30, \"Engineer\")\n",
    "person2 = Person(\"Bob\", 35, \"Manager\")"
   ]
  },
  {
   "cell_type": "code",
   "execution_count": 12,
   "id": "bcd5b329",
   "metadata": {},
   "outputs": [
    {
     "name": "stdout",
     "output_type": "stream",
     "text": [
      "Alice\n",
      "35\n"
     ]
    }
   ],
   "source": [
    "# 속성에 접근\n",
    "print(person1.name)  # Alice\n",
    "print(person2.age)   # 35"
   ]
  },
  {
   "cell_type": "code",
   "execution_count": 13,
   "id": "e2038365",
   "metadata": {},
   "outputs": [
    {
     "name": "stdout",
     "output_type": "stream",
     "text": [
      "Person(name='Alice', age=30, profession='Engineer')\n",
      "Person(name='Bob', age=35, profession='Manager')\n"
     ]
    }
   ],
   "source": [
    "# 데이터 클래스의 문자열 표현\n",
    "print(person1)  \n",
    "print(person2)  "
   ]
  },
  {
   "cell_type": "code",
   "execution_count": 23,
   "id": "a9d61abb",
   "metadata": {},
   "outputs": [],
   "source": [
    "from datetime import datetime"
   ]
  },
  {
   "cell_type": "markdown",
   "id": "352fee3f",
   "metadata": {},
   "source": [
    "# 2. pydantic \n",
    "\n",
    "- 파이썬 타입 어노테이션을 사용해서 데이터 유효성 검사와 설정 관리를 하는 라이브러리다. "
   ]
  },
  {
   "cell_type": "markdown",
   "id": "73248350",
   "metadata": {},
   "source": [
    "## 장점\n",
    "\n",
    "- IDE plugin으로 제공되고 파이썬 타입 어노테이션과 유사하기 때문에 쉽게 사용할 수 있다.\n",
    "- 비슷한 라이브러리 중에서 가장 빠르다.\n",
    "- recursive model, typing 의 타입, validator 를 통해 복잡한 데이터 스키마를 정의하고, validation과 parsing을 할 수 있다."
   ]
  },
  {
   "cell_type": "code",
   "execution_count": null,
   "id": "764768a6",
   "metadata": {},
   "outputs": [],
   "source": []
  },
  {
   "cell_type": "code",
   "execution_count": 2,
   "id": "6ece2e33",
   "metadata": {},
   "outputs": [],
   "source": [
    "from pydantic import BaseModel   \n"
   ]
  },
  {
   "cell_type": "code",
   "execution_count": null,
   "id": "5cb7ac33",
   "metadata": {},
   "outputs": [],
   "source": [
    "## 데이터 클래스와 다르게 BaseModel을 상속해서 처리\n",
    "\n",
    "- __fields__',\n",
    " '__fields_set__"
   ]
  },
  {
   "cell_type": "code",
   "execution_count": 8,
   "id": "22faf601",
   "metadata": {},
   "outputs": [
    {
     "data": {
      "text/plain": [
       "['Config',\n",
       " '__abstractmethods__',\n",
       " '__class__',\n",
       " '__class_vars__',\n",
       " '__config__',\n",
       " '__custom_root_type__',\n",
       " '__delattr__',\n",
       " '__dict__',\n",
       " '__dir__',\n",
       " '__doc__',\n",
       " '__eq__',\n",
       " '__exclude_fields__',\n",
       " '__fields__',\n",
       " '__fields_set__',\n",
       " '__format__',\n",
       " '__ge__',\n",
       " '__get_validators__',\n",
       " '__getattribute__',\n",
       " '__getstate__',\n",
       " '__gt__',\n",
       " '__hash__',\n",
       " '__include_fields__',\n",
       " '__init__',\n",
       " '__init_subclass__',\n",
       " '__iter__',\n",
       " '__json_encoder__',\n",
       " '__le__',\n",
       " '__lt__',\n",
       " '__module__',\n",
       " '__ne__',\n",
       " '__new__',\n",
       " '__post_root_validators__',\n",
       " '__pre_root_validators__',\n",
       " '__pretty__',\n",
       " '__private_attributes__',\n",
       " '__reduce__',\n",
       " '__reduce_ex__',\n",
       " '__repr__',\n",
       " '__repr_args__',\n",
       " '__repr_name__',\n",
       " '__repr_str__',\n",
       " '__rich_repr__',\n",
       " '__schema_cache__',\n",
       " '__setattr__',\n",
       " '__setstate__',\n",
       " '__signature__',\n",
       " '__sizeof__',\n",
       " '__slots__',\n",
       " '__str__',\n",
       " '__subclasshook__',\n",
       " '__try_update_forward_refs__',\n",
       " '__validators__',\n",
       " '_abc_impl',\n",
       " '_calculate_keys',\n",
       " '_copy_and_set_values',\n",
       " '_decompose_class',\n",
       " '_enforce_dict_if_root',\n",
       " '_get_value',\n",
       " '_init_private_attributes',\n",
       " '_iter',\n",
       " 'construct',\n",
       " 'copy',\n",
       " 'dict',\n",
       " 'from_orm',\n",
       " 'json',\n",
       " 'parse_file',\n",
       " 'parse_obj',\n",
       " 'parse_raw',\n",
       " 'schema',\n",
       " 'schema_json',\n",
       " 'update_forward_refs',\n",
       " 'validate']"
      ]
     },
     "execution_count": 8,
     "metadata": {},
     "output_type": "execute_result"
    }
   ],
   "source": [
    "dir(BaseModel)"
   ]
  },
  {
   "cell_type": "code",
   "execution_count": null,
   "id": "35dbaefa",
   "metadata": {},
   "outputs": [],
   "source": []
  },
  {
   "cell_type": "code",
   "execution_count": null,
   "id": "bc56fe5c",
   "metadata": {},
   "outputs": [],
   "source": []
  },
  {
   "cell_type": "code",
   "execution_count": 3,
   "id": "ddb723c4",
   "metadata": {},
   "outputs": [],
   "source": [
    "class Model(BaseModel):     \n",
    "    a: int     \n",
    "    b: float     \n",
    "    c: str "
   ]
  },
  {
   "cell_type": "code",
   "execution_count": 5,
   "id": "87fcb7e6",
   "metadata": {},
   "outputs": [],
   "source": [
    "m = Model(a=3.1415, b=' 2.72 ', c=123)"
   ]
  },
  {
   "cell_type": "code",
   "execution_count": 6,
   "id": "b9d8986e",
   "metadata": {},
   "outputs": [
    {
     "data": {
      "text/plain": [
       "Model(a=3, b=2.72, c='123')"
      ]
     },
     "execution_count": 6,
     "metadata": {},
     "output_type": "execute_result"
    }
   ],
   "source": [
    "m"
   ]
  },
  {
   "cell_type": "code",
   "execution_count": 7,
   "id": "20c33933",
   "metadata": {},
   "outputs": [
    {
     "data": {
      "text/plain": [
       "3"
      ]
     },
     "execution_count": 7,
     "metadata": {},
     "output_type": "execute_result"
    }
   ],
   "source": [
    "m.a"
   ]
  },
  {
   "cell_type": "code",
   "execution_count": null,
   "id": "2f6b09bc",
   "metadata": {},
   "outputs": [],
   "source": []
  },
  {
   "cell_type": "code",
   "execution_count": 4,
   "id": "ce643e8c",
   "metadata": {},
   "outputs": [
    {
     "name": "stdout",
     "output_type": "stream",
     "text": [
      "{'a': 3, 'b': 2.72, 'c': '123'}\n"
     ]
    }
   ],
   "source": [
    "print(Model(a=3.1415, b=' 2.72 ', c=123).dict()) "
   ]
  },
  {
   "cell_type": "code",
   "execution_count": null,
   "id": "33c30630",
   "metadata": {},
   "outputs": [],
   "source": []
  },
  {
   "cell_type": "code",
   "execution_count": 17,
   "id": "09e515ff",
   "metadata": {},
   "outputs": [],
   "source": [
    "class AdaptedModel(BaseModel):\n",
    "    parent_attr: str"
   ]
  },
  {
   "cell_type": "code",
   "execution_count": 18,
   "id": "faf74bcc",
   "metadata": {},
   "outputs": [
    {
     "data": {
      "text/plain": [
       "{'parent_attr': ModelField(name='parent_attr', type=str, required=True)}"
      ]
     },
     "execution_count": 18,
     "metadata": {},
     "output_type": "execute_result"
    }
   ],
   "source": [
    "AdaptedModel.__fields__"
   ]
  },
  {
   "cell_type": "code",
   "execution_count": 19,
   "id": "5b87f1cf",
   "metadata": {},
   "outputs": [],
   "source": [
    "class TestClass(AdaptedModel):\n",
    "    child_attr: str\n",
    "        "
   ]
  },
  {
   "cell_type": "code",
   "execution_count": 20,
   "id": "c1068b8c",
   "metadata": {},
   "outputs": [
    {
     "data": {
      "text/plain": [
       "{'parent_attr': ModelField(name='parent_attr', type=str, required=True),\n",
       " 'child_attr': ModelField(name='child_attr', type=str, required=True)}"
      ]
     },
     "execution_count": 20,
     "metadata": {},
     "output_type": "execute_result"
    }
   ],
   "source": [
    "TestClass.__fields__"
   ]
  },
  {
   "cell_type": "code",
   "execution_count": null,
   "id": "d86cfb53",
   "metadata": {},
   "outputs": [],
   "source": []
  },
  {
   "cell_type": "markdown",
   "id": "97fbc501",
   "metadata": {},
   "source": [
    "## ㅌ-1 자료형을 잘 못 처리하면 자동으로 수정해줌 "
   ]
  },
  {
   "cell_type": "code",
   "execution_count": 24,
   "id": "4c9750cf",
   "metadata": {},
   "outputs": [],
   "source": [
    "class User(BaseModel):\n",
    "    id: int\n",
    "    name = 'John Doe'\n",
    "    signup_ts: datetime | None = None\n",
    "    friends: list[int] = []\n"
   ]
  },
  {
   "cell_type": "code",
   "execution_count": 25,
   "id": "552bb8a9",
   "metadata": {},
   "outputs": [],
   "source": [
    "external_data = {\n",
    "    'id': '123',\n",
    "    'signup_ts': '2019-06-01 12:22',\n",
    "    'friends': [1, 2, '3'],\n",
    "}"
   ]
  },
  {
   "cell_type": "markdown",
   "id": "12675392",
   "metadata": {},
   "source": [
    "### 딕셔너리를 언팩처리해서 객체를 생성"
   ]
  },
  {
   "cell_type": "code",
   "execution_count": 26,
   "id": "fecc53fe",
   "metadata": {},
   "outputs": [],
   "source": [
    "user = User(**external_data)"
   ]
  },
  {
   "cell_type": "code",
   "execution_count": 27,
   "id": "629c8d37",
   "metadata": {},
   "outputs": [
    {
     "data": {
      "text/plain": [
       "User(id=123, signup_ts=datetime.datetime(2019, 6, 1, 12, 22), friends=[1, 2, 3], name='John Doe')"
      ]
     },
     "execution_count": 27,
     "metadata": {},
     "output_type": "execute_result"
    }
   ],
   "source": [
    "user"
   ]
  },
  {
   "cell_type": "code",
   "execution_count": 28,
   "id": "1eab3375",
   "metadata": {},
   "outputs": [
    {
     "data": {
      "text/plain": [
       "{'id': 123,\n",
       " 'signup_ts': datetime.datetime(2019, 6, 1, 12, 22),\n",
       " 'friends': [1, 2, 3],\n",
       " 'name': 'John Doe'}"
      ]
     },
     "execution_count": 28,
     "metadata": {},
     "output_type": "execute_result"
    }
   ],
   "source": [
    "user.dict()"
   ]
  },
  {
   "cell_type": "code",
   "execution_count": 29,
   "id": "eaff4203",
   "metadata": {},
   "outputs": [
    {
     "name": "stdout",
     "output_type": "stream",
     "text": [
      "123\n"
     ]
    }
   ],
   "source": [
    "print(user.id)"
   ]
  },
  {
   "cell_type": "code",
   "execution_count": 30,
   "id": "44c4e38e",
   "metadata": {},
   "outputs": [
    {
     "name": "stdout",
     "output_type": "stream",
     "text": [
      "datetime.datetime(2019, 6, 1, 12, 22)\n"
     ]
    }
   ],
   "source": [
    "print(repr(user.signup_ts))"
   ]
  },
  {
   "cell_type": "code",
   "execution_count": 31,
   "id": "793f988a",
   "metadata": {},
   "outputs": [
    {
     "name": "stdout",
     "output_type": "stream",
     "text": [
      "[1, 2, 3]\n"
     ]
    }
   ],
   "source": [
    "print(user.friends)"
   ]
  },
  {
   "cell_type": "code",
   "execution_count": null,
   "id": "11f13af6",
   "metadata": {},
   "outputs": [],
   "source": []
  },
  {
   "cell_type": "markdown",
   "id": "348a7c2d",
   "metadata": {},
   "source": [
    "## ㅌ-2 예외처리 "
   ]
  },
  {
   "cell_type": "code",
   "execution_count": 32,
   "id": "c07e1c1d",
   "metadata": {},
   "outputs": [
    {
     "name": "stdout",
     "output_type": "stream",
     "text": [
      "[\n",
      "  {\n",
      "    \"loc\": [\n",
      "      \"id\"\n",
      "    ],\n",
      "    \"msg\": \"field required\",\n",
      "    \"type\": \"value_error.missing\"\n",
      "  },\n",
      "  {\n",
      "    \"loc\": [\n",
      "      \"signup_ts\"\n",
      "    ],\n",
      "    \"msg\": \"invalid datetime format\",\n",
      "    \"type\": \"value_error.datetime\"\n",
      "  },\n",
      "  {\n",
      "    \"loc\": [\n",
      "      \"friends\",\n",
      "      2\n",
      "    ],\n",
      "    \"msg\": \"value is not a valid integer\",\n",
      "    \"type\": \"type_error.integer\"\n",
      "  }\n",
      "]\n"
     ]
    }
   ],
   "source": [
    "from pydantic import ValidationError\n",
    "\n",
    "try:\n",
    "    User(signup_ts='broken', friends=[1, 2, 'not number'])\n",
    "except ValidationError as e:\n",
    "    print(e.json())"
   ]
  },
  {
   "cell_type": "markdown",
   "id": "1873efac",
   "metadata": {},
   "source": [
    "## -3 데이터 클래스 사용하기 "
   ]
  },
  {
   "cell_type": "code",
   "execution_count": null,
   "id": "b5aa242b",
   "metadata": {},
   "outputs": [],
   "source": []
  },
  {
   "cell_type": "code",
   "execution_count": 35,
   "id": "17f0180a",
   "metadata": {},
   "outputs": [],
   "source": [
    "from pydantic.dataclasses import dataclass\n",
    "\n",
    "\n",
    "@dataclass\n",
    "class User:\n",
    "    id: int\n",
    "    name: str = 'John Doe'\n",
    "    signup_ts: datetime = None\n"
   ]
  },
  {
   "cell_type": "code",
   "execution_count": null,
   "id": "92f72aff",
   "metadata": {},
   "outputs": [],
   "source": []
  },
  {
   "cell_type": "code",
   "execution_count": 36,
   "id": "ce00baa2",
   "metadata": {},
   "outputs": [
    {
     "name": "stdout",
     "output_type": "stream",
     "text": [
      "User(id=42, name='John Doe', signup_ts=datetime.datetime(2032, 6, 21, 12, 0))\n"
     ]
    }
   ],
   "source": [
    "user = User(id='42', signup_ts='2032-06-21T12:00')\n",
    "print(user)"
   ]
  },
  {
   "cell_type": "code",
   "execution_count": null,
   "id": "a66a41f7",
   "metadata": {},
   "outputs": [],
   "source": []
  }
 ],
 "metadata": {
  "kernelspec": {
   "display_name": "Python 3 (ipykernel)",
   "language": "python",
   "name": "python3"
  },
  "language_info": {
   "codemirror_mode": {
    "name": "ipython",
    "version": 3
   },
   "file_extension": ".py",
   "mimetype": "text/x-python",
   "name": "python",
   "nbconvert_exporter": "python",
   "pygments_lexer": "ipython3",
   "version": "3.11.3"
  }
 },
 "nbformat": 4,
 "nbformat_minor": 5
}
