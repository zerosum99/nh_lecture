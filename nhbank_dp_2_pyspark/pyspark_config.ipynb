{
 "cells": [
  {
   "cell_type": "code",
   "execution_count": null,
   "id": "967f5b6c",
   "metadata": {},
   "outputs": [],
   "source": []
  },
  {
   "cell_type": "code",
   "execution_count": null,
   "id": "eb850204",
   "metadata": {},
   "outputs": [],
   "source": []
  },
  {
   "cell_type": "markdown",
   "id": "faa8f59a",
   "metadata": {},
   "source": [
    "##스파 크 실 행: \n",
    "\n",
    "### conf. yaml\n",
    "\n",
    "-  hive.metastore.uris: 'thrift://{host.dev}}: {{metastore.port)]' # Hive Metastore Host & Port\n",
    "-  spark.sq-.hive.convertMetastoreParquet: false # Metastore PARQUET FileFormat@ 8 5|°\n",
    "-  spark. sql.warehouse.dir: 'hdfs: / /{ (host.dev} }: ( {metastore.port}} /user/hive/warehouse'\n",
    "-  spark.sql.execution.arrow.enabled: true #ToPandas\n",
    "-  spatk.s91.Crossuoin.enabled: true # crossjoin 사용을위한설정\n",
    "-  spark.ul.enabled: false # spark ui\n",
    "### insert overwrite시동석파티션설정\n",
    "-  hive. exec.dynamic. partition: true\n",
    "-  hive.exec. dynamic. partition. mode: nonstrict\n",
    "### Partition 하위폴더에sub-dir 생성된경우파일읽도록설정\n",
    "- hive.input.dir.recursive: true\n",
    "- hive.mapred. supports. subdirectories: true\n",
    "- hive.supports.suodirectories: true\n",
    "- mapreduce. input.fileinputformat.input.dir.recursive: true\n",
    "- spark.driver.cores: {driver.cores}}' # Driver Core †\n",
    "- spark.driver.memory: '({driver.memory)]' # Driver Core memory & 8\n",
    "- spark.executor.cores: '(executor.cores]} ' # Executor Core +\n",
    "- spark.executor.memory: '(executor.memory}]' # Executor memory 5 8\n",
    "- spark.executor.instances: '¡{executor.instances]] ' # ExecuterInstance"
   ]
  },
  {
   "cell_type": "markdown",
   "id": "d3d218dc",
   "metadata": {},
   "source": [
    "###\n",
    "\n",
    "192.168.176.134 aiplatform dev\n",
    "172.17.210.31 aiplatform prd\n",
    "sudo vi /etc/hosts\n",
    "pw: mdd000"
   ]
  },
  {
   "cell_type": "code",
   "execution_count": null,
   "id": "6064fb30",
   "metadata": {},
   "outputs": [],
   "source": []
  },
  {
   "cell_type": "markdown",
   "id": "da7c3fad",
   "metadata": {},
   "source": [
    "### var.yaml\n",
    "\n",
    "- user: 000000         # os.environ [ 'HADOOP_ USER_NAME ']\n",
    "#### metastore:\n",
    "- port: 9083           # Thrift Metastore port 정보 \n",
    "#### host:\n",
    "- dev: 192.000.000.000 #  개발\n",
    "- prd: 172.00.000.00   #  운영\n",
    "#### driver:\n",
    "- cores: 1\n",
    "- memory: 4G\n",
    "#### executor:\n",
    "- cores: 1\n",
    "- петогу: 4G\n",
    "- instances: 1"
   ]
  },
  {
   "cell_type": "code",
   "execution_count": null,
   "id": "804243bf",
   "metadata": {},
   "outputs": [],
   "source": []
  },
  {
   "cell_type": "code",
   "execution_count": 11,
   "id": "7f96b3a1",
   "metadata": {},
   "outputs": [],
   "source": [
    "import findspark"
   ]
  },
  {
   "cell_type": "code",
   "execution_count": 12,
   "id": "b2261848",
   "metadata": {},
   "outputs": [],
   "source": [
    "findspark.init()"
   ]
  },
  {
   "cell_type": "code",
   "execution_count": 13,
   "id": "f8f8f297",
   "metadata": {},
   "outputs": [
    {
     "data": {
      "text/plain": [
       "'/Users/a06411/opt/anaconda3/envs/fluentPython/lib/python3.11/site-packages/pyspark'"
      ]
     },
     "execution_count": 13,
     "metadata": {},
     "output_type": "execute_result"
    }
   ],
   "source": [
    "findspark.find()"
   ]
  },
  {
   "cell_type": "code",
   "execution_count": null,
   "id": "b7e58cab",
   "metadata": {},
   "outputs": [],
   "source": []
  },
  {
   "cell_type": "markdown",
   "id": "4315340c",
   "metadata": {},
   "source": [
    "## 스파크 세팅 처리 "
   ]
  },
  {
   "cell_type": "code",
   "execution_count": 14,
   "id": "e034d941",
   "metadata": {},
   "outputs": [],
   "source": [
    "from pyspark.conf import SparkConf\n",
    "from pyspark.sql import SparkSession\n",
    "import os\n",
    "import re"
   ]
  },
  {
   "cell_type": "code",
   "execution_count": 15,
   "id": "220dfa00",
   "metadata": {},
   "outputs": [],
   "source": [
    "import yaml # install pyyan1"
   ]
  },
  {
   "cell_type": "code",
   "execution_count": 16,
   "id": "903e81f2",
   "metadata": {},
   "outputs": [],
   "source": [
    "class SparkStarter:\n",
    "    \"\"\" from spark_starter import SparkStarter\n",
    "        spark = SparkStarter ('./conf yaml', '/var.yaml') . start\n",
    "    \"\"\"\n",
    "    def  __init__(self, conf, var=None, app_name= 'untitled', debug=False) :\n",
    "        if conf is None:\n",
    "            raise RuntimeError('Configuration is not load')\n",
    "        os. environ [ 'HADOOPUSERNAME'] = \"mdd000\"\n",
    "        self._settings = SparkSettings (conf). read (var)\n",
    "        self.__app_name = app_name\n",
    "        if debug:\n",
    "            print (self.__settings)\n",
    "            \n",
    "            \n",
    "    def start (self, load_defaults=False):\n",
    "        conf = SparkConf (load_defaults). setAppName (self._app_name).setAll(self.__settings)\n",
    "        spark = SparkSession.builder.config (conf=conf).enableHiveSupport().getOrCreate ()\n",
    "        return spark\n",
    "    "
   ]
  },
  {
   "cell_type": "code",
   "execution_count": null,
   "id": "f38fe290",
   "metadata": {},
   "outputs": [],
   "source": []
  },
  {
   "cell_type": "code",
   "execution_count": 17,
   "id": "c0987e4c",
   "metadata": {},
   "outputs": [],
   "source": [
    "class SparkSettings:\n",
    "    \"\"\"\n",
    "        # RETURN: ('fruit': ('apple': 123, 'banana': 594), 'animal': ['dog', 'cat','baby']}\n",
    "        from spark settings import SparkSettings\n",
    "        settings = SparkSettings ('conf.yaml'). read ('var.yaml ')\n",
    "        conf = SparkConf(False). setAppName(self.app_name).setAll(settings)\n",
    "        spark = SparkSession.builder.config(conf=conf).enableHiveSupport().getOrCreate()\n",
    "    \"\"\"\n",
    "       \n",
    "        \n",
    "    def __init__(self, conf):\n",
    "        self.cont = YamlReader().read(conf)\n",
    "\n",
    "    def read (self, var=None):\n",
    "        self._var = YamlReader().read(var)\n",
    "        self._replace()\n",
    "        return  list (self.__conf.items())\n",
    "        \n",
    "    def __search (self, key) :\n",
    "        node = self._var\n",
    "        for k in key.split(\".\"):\n",
    "            if node is None:\n",
    "                break\n",
    "            node = node.get(k)\n",
    "        return node\n",
    "                           \n",
    "   \n",
    "    def replace(self):                    \n",
    "        for k,v in self.__conf.items() :\n",
    "                           \n",
    "            groups = re.findall ( '{ ([\\w\\.]+)}]', str (v) )\n",
    "            for group in groups:\n",
    "                value = seLf.__search(group)\n",
    "                if value is None:\n",
    "                    continue\n",
    "                    \n",
    "                v = v.replace (f'(((((group)]}}]', str (value))\n",
    "                self. __conf[k] = v\n"
   ]
  },
  {
   "cell_type": "code",
   "execution_count": 18,
   "id": "3e61d7d7",
   "metadata": {},
   "outputs": [],
   "source": [
    "class YamlReader:\n",
    "    def read(self, data):\n",
    "        if data is None:\n",
    "            return {}\n",
    "        if os.path.isfile(data) :\n",
    "            return self.__file (data)\n",
    "        return self._text(data)\n",
    "    \n",
    "    def _file(self, path):\n",
    "        with open(path,'r')as file:\n",
    "            return self._text(file)\n",
    "    \n",
    "    def _text (self, data):\n",
    "        return yaml.safe_Load(data)"
   ]
  },
  {
   "cell_type": "code",
   "execution_count": null,
   "id": "7da91014",
   "metadata": {},
   "outputs": [],
   "source": []
  }
 ],
 "metadata": {
  "kernelspec": {
   "display_name": "Python 3 (ipykernel)",
   "language": "python",
   "name": "python3"
  },
  "language_info": {
   "codemirror_mode": {
    "name": "ipython",
    "version": 3
   },
   "file_extension": ".py",
   "mimetype": "text/x-python",
   "name": "python",
   "nbconvert_exporter": "python",
   "pygments_lexer": "ipython3",
   "version": "3.11.3"
  }
 },
 "nbformat": 4,
 "nbformat_minor": 5
}
