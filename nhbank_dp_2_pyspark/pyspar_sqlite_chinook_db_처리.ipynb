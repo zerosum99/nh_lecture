{
 "cells": [
  {
   "cell_type": "code",
   "execution_count": 1,
   "id": "baa7117a",
   "metadata": {},
   "outputs": [
    {
     "name": "stderr",
     "output_type": "stream",
     "text": [
      "/Users/a06411/opt/anaconda3/envs/fluentPython/lib/python3.11/site-packages/pyspark/pandas/__init__.py:50: UserWarning: 'PYARROW_IGNORE_TIMEZONE' environment variable was not set. It is required to set this environment variable to '1' in both driver and executor sides if you use pyarrow>=2.0.0. pandas-on-Spark will set it for you but it does not work if there is a Spark context already launched.\n",
      "  warnings.warn(\n"
     ]
    }
   ],
   "source": [
    "import os\n",
    "import pandas as pd\n",
    "import numpy as np\n",
    "import pyspark.pandas as ps\n",
    "from pyspark.sql import SparkSession"
   ]
  },
  {
   "cell_type": "code",
   "execution_count": 2,
   "id": "750b28e0",
   "metadata": {},
   "outputs": [
    {
     "name": "stderr",
     "output_type": "stream",
     "text": [
      "23/06/09 21:37:57 WARN NativeCodeLoader: Unable to load native-hadoop library for your platform... using builtin-java classes where applicable\n",
      "Setting default log level to \"WARN\".\n",
      "To adjust logging level use sc.setLogLevel(newLevel). For SparkR, use setLogLevel(newLevel).\n",
      "23/06/09 21:37:58 WARN Utils: Service 'SparkUI' could not bind on port 4040. Attempting port 4041.\n",
      "23/06/09 21:37:58 WARN Utils: Service 'SparkUI' could not bind on port 4041. Attempting port 4042.\n"
     ]
    }
   ],
   "source": [
    "spark = (SparkSession.builder.appName('sqlite-api')\n",
    "                             .config(\"spark.driver.host\",\"127.0.0.1\") \n",
    "                             .config(\"spark.driver.bindAddress\",\"127.0.0.1\")\n",
    "                             .config(\"spark.jars\",\"{}/sqlite-jdbc-3.34.0.jar\".format(os.getcwd()))\n",
    "                             .config(\"spark.driver.extraClassPath\",\"{}/sqlite-jdbc-3.34.0.jar\".format(os.getcwd()))\n",
    "                             .getOrCreate())"
   ]
  },
  {
   "cell_type": "code",
   "execution_count": 3,
   "id": "caac9fc2",
   "metadata": {},
   "outputs": [
    {
     "data": {
      "text/html": [
       "\n",
       "            <div>\n",
       "                <p><b>SparkSession - in-memory</b></p>\n",
       "                \n",
       "        <div>\n",
       "            <p><b>SparkContext</b></p>\n",
       "\n",
       "            <p><a href=\"http://127.0.0.1:4042\">Spark UI</a></p>\n",
       "\n",
       "            <dl>\n",
       "              <dt>Version</dt>\n",
       "                <dd><code>v3.4.0</code></dd>\n",
       "              <dt>Master</dt>\n",
       "                <dd><code>local[*]</code></dd>\n",
       "              <dt>AppName</dt>\n",
       "                <dd><code>sqlite-api</code></dd>\n",
       "            </dl>\n",
       "        </div>\n",
       "        \n",
       "            </div>\n",
       "        "
      ],
      "text/plain": [
       "<pyspark.sql.session.SparkSession at 0x124bc5750>"
      ]
     },
     "execution_count": 3,
     "metadata": {},
     "output_type": "execute_result"
    }
   ],
   "source": [
    "spark"
   ]
  },
  {
   "cell_type": "code",
   "execution_count": null,
   "id": "328d67be",
   "metadata": {},
   "outputs": [],
   "source": []
  },
  {
   "cell_type": "code",
   "execution_count": 4,
   "id": "43726876",
   "metadata": {},
   "outputs": [],
   "source": [
    "import sqlite3\n",
    "\n",
    "con = sqlite3.connect(\"./chinook.db\")"
   ]
  },
  {
   "cell_type": "code",
   "execution_count": 5,
   "id": "719f6911",
   "metadata": {},
   "outputs": [],
   "source": [
    "query = \"\"\"SELECT name FROM sqlite_master  \n",
    "  WHERE type='table';\"\"\""
   ]
  },
  {
   "cell_type": "code",
   "execution_count": 6,
   "id": "e157e13b",
   "metadata": {},
   "outputs": [
    {
     "data": {
      "text/html": [
       "<div>\n",
       "<style scoped>\n",
       "    .dataframe tbody tr th:only-of-type {\n",
       "        vertical-align: middle;\n",
       "    }\n",
       "\n",
       "    .dataframe tbody tr th {\n",
       "        vertical-align: top;\n",
       "    }\n",
       "\n",
       "    .dataframe thead th {\n",
       "        text-align: right;\n",
       "    }\n",
       "</style>\n",
       "<table border=\"1\" class=\"dataframe\">\n",
       "  <thead>\n",
       "    <tr style=\"text-align: right;\">\n",
       "      <th></th>\n",
       "      <th>name</th>\n",
       "    </tr>\n",
       "  </thead>\n",
       "  <tbody>\n",
       "    <tr>\n",
       "      <th>0</th>\n",
       "      <td>albums</td>\n",
       "    </tr>\n",
       "    <tr>\n",
       "      <th>1</th>\n",
       "      <td>sqlite_sequence</td>\n",
       "    </tr>\n",
       "    <tr>\n",
       "      <th>2</th>\n",
       "      <td>artists</td>\n",
       "    </tr>\n",
       "    <tr>\n",
       "      <th>3</th>\n",
       "      <td>customers</td>\n",
       "    </tr>\n",
       "    <tr>\n",
       "      <th>4</th>\n",
       "      <td>employees</td>\n",
       "    </tr>\n",
       "    <tr>\n",
       "      <th>5</th>\n",
       "      <td>genres</td>\n",
       "    </tr>\n",
       "    <tr>\n",
       "      <th>6</th>\n",
       "      <td>invoices</td>\n",
       "    </tr>\n",
       "    <tr>\n",
       "      <th>7</th>\n",
       "      <td>invoice_items</td>\n",
       "    </tr>\n",
       "    <tr>\n",
       "      <th>8</th>\n",
       "      <td>media_types</td>\n",
       "    </tr>\n",
       "    <tr>\n",
       "      <th>9</th>\n",
       "      <td>playlists</td>\n",
       "    </tr>\n",
       "    <tr>\n",
       "      <th>10</th>\n",
       "      <td>playlist_track</td>\n",
       "    </tr>\n",
       "    <tr>\n",
       "      <th>11</th>\n",
       "      <td>tracks</td>\n",
       "    </tr>\n",
       "    <tr>\n",
       "      <th>12</th>\n",
       "      <td>sqlite_stat1</td>\n",
       "    </tr>\n",
       "  </tbody>\n",
       "</table>\n",
       "</div>"
      ],
      "text/plain": [
       "               name\n",
       "0            albums\n",
       "1   sqlite_sequence\n",
       "2           artists\n",
       "3         customers\n",
       "4         employees\n",
       "5            genres\n",
       "6          invoices\n",
       "7     invoice_items\n",
       "8       media_types\n",
       "9         playlists\n",
       "10   playlist_track\n",
       "11           tracks\n",
       "12     sqlite_stat1"
      ]
     },
     "execution_count": 6,
     "metadata": {},
     "output_type": "execute_result"
    }
   ],
   "source": [
    "pd.read_sql_query(query,con)"
   ]
  },
  {
   "cell_type": "code",
   "execution_count": null,
   "id": "4213ddcc",
   "metadata": {},
   "outputs": [],
   "source": []
  },
  {
   "cell_type": "code",
   "execution_count": 13,
   "id": "9f24c635",
   "metadata": {},
   "outputs": [
    {
     "data": {
      "text/plain": [
       "DataFrame[]"
      ]
     },
     "execution_count": 13,
     "metadata": {},
     "output_type": "execute_result"
    }
   ],
   "source": [
    "spark.sql(\"CREATE DATABASE IF NOT EXISTS chinook_db;\")"
   ]
  },
  {
   "cell_type": "code",
   "execution_count": 15,
   "id": "e79834cf",
   "metadata": {},
   "outputs": [
    {
     "name": "stdout",
     "output_type": "stream",
     "text": [
      "+----------+\n",
      "| namespace|\n",
      "+----------+\n",
      "|chinook_db|\n",
      "|   default|\n",
      "+----------+\n",
      "\n"
     ]
    }
   ],
   "source": [
    "spark.sql(\"show databases\").show()"
   ]
  },
  {
   "cell_type": "code",
   "execution_count": 17,
   "id": "42520c86",
   "metadata": {},
   "outputs": [
    {
     "data": {
      "text/plain": [
       "DataFrame[]"
      ]
     },
     "execution_count": 17,
     "metadata": {},
     "output_type": "execute_result"
    }
   ],
   "source": [
    "spark.sql(\"use chinook_db\")"
   ]
  },
  {
   "cell_type": "code",
   "execution_count": null,
   "id": "513b59e7",
   "metadata": {},
   "outputs": [],
   "source": []
  },
  {
   "cell_type": "code",
   "execution_count": 7,
   "id": "9704c139",
   "metadata": {},
   "outputs": [],
   "source": [
    "py_df_customers = spark.read.format('jdbc') \\\n",
    "        .options(driver='org.sqlite.JDBC', dbtable='customers',\n",
    "                 url='jdbc:sqlite:{}/chinook.db'.format(os.getcwd()))\\\n",
    "        .load()"
   ]
  },
  {
   "cell_type": "code",
   "execution_count": 11,
   "id": "9e6d5a23",
   "metadata": {},
   "outputs": [
    {
     "name": "stdout",
     "output_type": "stream",
     "text": [
      "root\n",
      " |-- CustomerId: integer (nullable = true)\n",
      " |-- FirstName: string (nullable = true)\n",
      " |-- LastName: string (nullable = true)\n",
      " |-- Company: string (nullable = true)\n",
      " |-- Address: string (nullable = true)\n",
      " |-- City: string (nullable = true)\n",
      " |-- State: string (nullable = true)\n",
      " |-- Country: string (nullable = true)\n",
      " |-- PostalCode: string (nullable = true)\n",
      " |-- Phone: string (nullable = true)\n",
      " |-- Fax: string (nullable = true)\n",
      " |-- Email: string (nullable = true)\n",
      " |-- SupportRepId: integer (nullable = true)\n",
      "\n"
     ]
    }
   ],
   "source": [
    "py_df_customers.printSchema()"
   ]
  },
  {
   "cell_type": "code",
   "execution_count": 8,
   "id": "bdd32a80",
   "metadata": {},
   "outputs": [
    {
     "name": "stdout",
     "output_type": "stream",
     "text": [
      "+----------+---------+-----------+--------------------+--------------------+-------------------+-----+--------------+----------+------------------+------------------+--------------------+------------+\n",
      "|CustomerId|FirstName|   LastName|             Company|             Address|               City|State|       Country|PostalCode|             Phone|               Fax|               Email|SupportRepId|\n",
      "+----------+---------+-----------+--------------------+--------------------+-------------------+-----+--------------+----------+------------------+------------------+--------------------+------------+\n",
      "|         1|     Luís|  Gonçalves|Embraer - Empresa...|Av. Brigadeiro Fa...|São José dos Campos|   SP|        Brazil| 12227-000|+55 (12) 3923-5555|+55 (12) 3923-5566|luisg@embraer.com.br|           3|\n",
      "|         2|   Leonie|     Köhler|                null|Theodor-Heuss-Str...|          Stuttgart| null|       Germany|     70174|  +49 0711 2842222|              null|leonekohler@surfe...|           5|\n",
      "|         3| François|   Tremblay|                null|   1498 rue Bélanger|           Montréal|   QC|        Canada|   H2G 1A7| +1 (514) 721-4711|              null| ftremblay@gmail.com|           3|\n",
      "|         4|    Bjørn|     Hansen|                null|    Ullevålsveien 14|               Oslo| null|        Norway|      0171|   +47 22 44 22 22|              null|bjorn.hansen@yaho...|           4|\n",
      "|         5|František|Wichterlová|    JetBrains s.r.o.|       Klanova 9/506|             Prague| null|Czech Republic|     14700|  +420 2 4172 5555|  +420 2 4172 5555|frantisekw@jetbra...|           4|\n",
      "|         6|   Helena|       Holý|                null|       Rilská 3174/6|             Prague| null|Czech Republic|     14300|  +420 2 4177 0449|              null|     hholy@gmail.com|           5|\n",
      "|         7|   Astrid|     Gruber|                null|Rotenturmstraße 4...|             Vienne| null|       Austria|      1010|    +43 01 5134505|              null|astrid.gruber@app...|           5|\n",
      "|         8|     Daan|    Peeters|                null|     Grétrystraat 63|           Brussels| null|       Belgium|      1000|  +32 02 219 03 03|              null|daan_peeters@appl...|           4|\n",
      "|         9|     Kara|    Nielsen|                null| Sønder Boulevard 51|         Copenhagen| null|       Denmark|      1720|    +453 3331 9991|              null|kara.nielsen@jubi...|           4|\n",
      "|        10|  Eduardo|    Martins|    Woodstock Discos|Rua Dr. Falcão Fi...|          São Paulo|   SP|        Brazil| 01007-010|+55 (11) 3033-5446|+55 (11) 3033-4564|eduardo@woodstock...|           4|\n",
      "|        11|Alexandre|      Rocha|Banco do Brasil S.A.|  Av. Paulista, 2022|          São Paulo|   SP|        Brazil| 01310-200|+55 (11) 3055-3278|+55 (11) 3055-8131|    alero@uol.com.br|           5|\n",
      "|        12|  Roberto|    Almeida|              Riotur|    Praça Pio X, 119|     Rio de Janeiro|   RJ|        Brazil| 20040-020|+55 (21) 2271-7000|+55 (21) 2271-7070|roberto.almeida@r...|           3|\n",
      "|        13| Fernanda|      Ramos|                null|        Qe 7 Bloco G|           Brasília|   DF|        Brazil| 71020-677|+55 (61) 3363-5547|+55 (61) 3363-7855|fernadaramos4@uol...|           4|\n",
      "|        14|     Mark|    Philips|               Telus|      8210 111 ST NW|           Edmonton|   AB|        Canada|   T6G 2C7| +1 (780) 434-4554| +1 (780) 434-5565|  mphilips12@shaw.ca|           5|\n",
      "|        15| Jennifer|   Peterson|       Rogers Canada| 700 W Pender Street|          Vancouver|   BC|        Canada|   V6C 1G8| +1 (604) 688-2255| +1 (604) 688-8756| jenniferp@rogers.ca|           3|\n",
      "|        16|    Frank|     Harris|         Google Inc.|1600 Amphitheatre...|      Mountain View|   CA|           USA|94043-1351| +1 (650) 253-0000| +1 (650) 253-0000|  fharris@google.com|           4|\n",
      "|        17|     Jack|      Smith|Microsoft Corpora...|     1 Microsoft Way|            Redmond|   WA|           USA|98052-8300| +1 (425) 882-8080| +1 (425) 882-8081|jacksmith@microso...|           5|\n",
      "|        18| Michelle|     Brooks|                null|        627 Broadway|           New York|   NY|           USA|10012-2612| +1 (212) 221-3546| +1 (212) 221-4679|   michelleb@aol.com|           3|\n",
      "|        19|      Tim|      Goyer|          Apple Inc.|     1 Infinite Loop|          Cupertino|   CA|           USA|     95014| +1 (408) 996-1010| +1 (408) 996-1011|    tgoyer@apple.com|           3|\n",
      "|        20|      Dan|     Miller|                null|541 Del Medio Avenue|      Mountain View|   CA|           USA| 94040-111| +1 (650) 644-3358|              null| dmiller@comcast.com|           4|\n",
      "+----------+---------+-----------+--------------------+--------------------+-------------------+-----+--------------+----------+------------------+------------------+--------------------+------------+\n",
      "only showing top 20 rows\n",
      "\n"
     ]
    }
   ],
   "source": [
    "py_df_customers.show()"
   ]
  },
  {
   "cell_type": "code",
   "execution_count": 18,
   "id": "f044c1db",
   "metadata": {},
   "outputs": [
    {
     "name": "stderr",
     "output_type": "stream",
     "text": [
      "                                                                                \r"
     ]
    }
   ],
   "source": [
    "py_df_customers.write.mode(\"overwrite\").saveAsTable('customers')"
   ]
  },
  {
   "cell_type": "code",
   "execution_count": 20,
   "id": "9ab175bd",
   "metadata": {},
   "outputs": [
    {
     "name": "stdout",
     "output_type": "stream",
     "text": [
      "+----------+---------+-----------+\n",
      "| namespace|tableName|isTemporary|\n",
      "+----------+---------+-----------+\n",
      "|chinook_db|customers|      false|\n",
      "+----------+---------+-----------+\n",
      "\n"
     ]
    }
   ],
   "source": [
    "spark.sql(\"show tables\").show()"
   ]
  },
  {
   "cell_type": "code",
   "execution_count": 22,
   "id": "7bf8cb15",
   "metadata": {},
   "outputs": [
    {
     "name": "stdout",
     "output_type": "stream",
     "text": [
      "+------------+---------+-------+\n",
      "|    col_name|data_type|comment|\n",
      "+------------+---------+-------+\n",
      "|  CustomerId|      int|   null|\n",
      "|   FirstName|   string|   null|\n",
      "|    LastName|   string|   null|\n",
      "|     Company|   string|   null|\n",
      "|     Address|   string|   null|\n",
      "|        City|   string|   null|\n",
      "|       State|   string|   null|\n",
      "|     Country|   string|   null|\n",
      "|  PostalCode|   string|   null|\n",
      "|       Phone|   string|   null|\n",
      "|         Fax|   string|   null|\n",
      "|       Email|   string|   null|\n",
      "|SupportRepId|      int|   null|\n",
      "+------------+---------+-------+\n",
      "\n"
     ]
    }
   ],
   "source": [
    "spark.sql(\"desc customers\").show()"
   ]
  },
  {
   "cell_type": "code",
   "execution_count": 21,
   "id": "7c20b8c7",
   "metadata": {},
   "outputs": [
    {
     "name": "stdout",
     "output_type": "stream",
     "text": [
      "+--------+\n",
      "|count(1)|\n",
      "+--------+\n",
      "|      59|\n",
      "+--------+\n",
      "\n"
     ]
    }
   ],
   "source": [
    "spark.sql(\"select count(*) from customers\").show()"
   ]
  },
  {
   "cell_type": "code",
   "execution_count": null,
   "id": "bf5b11ff",
   "metadata": {},
   "outputs": [],
   "source": []
  }
 ],
 "metadata": {
  "kernelspec": {
   "display_name": "Python 3 (ipykernel)",
   "language": "python",
   "name": "python3"
  },
  "language_info": {
   "codemirror_mode": {
    "name": "ipython",
    "version": 3
   },
   "file_extension": ".py",
   "mimetype": "text/x-python",
   "name": "python",
   "nbconvert_exporter": "python",
   "pygments_lexer": "ipython3",
   "version": "3.11.3"
  }
 },
 "nbformat": 4,
 "nbformat_minor": 5
}
