{
 "cells": [
  {
   "cell_type": "code",
   "execution_count": null,
   "id": "263704d1",
   "metadata": {},
   "outputs": [],
   "source": []
  },
  {
   "cell_type": "markdown",
   "id": "46311f82",
   "metadata": {},
   "source": [
    "## vi 편집기가 열리면 다음과 같은 모드로 진입합니다:\n",
    "- 명령 모드(Command Mode): vi 편집기가 처음 열린 상태입니다. 여기서는 편집이 아닌 명령을 입력합니다.\n",
    "- 입력 모드(Insert Mode): 명령 모드에서 i를 입력하면 입력 모드로 전환됩니다. 이 모드에서는 텍스트를 입력하고 편집할 수 있습니다.\n",
    "- 명령 행 모드(Command-Line Mode): 명령 모드에서 :(콜론)을 입력하면 명령 행 모드로 전환됩니다. 이 모드에서는 편집기 설정 변경, 검색, 저장 등의 명령을 입력할 수 있습니다.\n",
    "\n",
    "### 명령 모드에서 다양한 편집 명령을 사용할 수 있습니다. 몇 가지 기본 명령어는 다음과 같습니다:\n",
    "\n",
    "- i: 입력 모드로 전환하여 텍스트를 입력하고 편집합니다.\n",
    "- Esc: 입력 모드나 명령 행 모드에서 나와 명령 모드로 돌아갑니다.\n",
    "- :w: 현재 편집 중인 파일을 저장합니다.\n",
    "- :q: vi 편집기를 종료합니다.\n",
    "- :wq 또는 :x: 파일을 저장하고 vi 편집기를 종료합니다.\n",
    "- :q!: 변경 사항을 저장하지 않고 강제로 vi 편집기를 종료합니다."
   ]
  },
  {
   "cell_type": "code",
   "execution_count": null,
   "id": "31d6b60f",
   "metadata": {},
   "outputs": [],
   "source": []
  },
  {
   "cell_type": "markdown",
   "id": "68f5e3e8",
   "metadata": {},
   "source": [
    "## vi 편집기에서 사용되는 방향 명령키는 다음과 같습니다:\n",
    "\n",
    "- h: 왼쪽 방향으로 이동\n",
    "- j: 아래쪽 방향으로 이동\n",
    "- k: 위쪽 방향으로 이동\n",
    "- l: 오른쪽 방향으로 이동\n",
    "    \n",
    "    \n",
    "##### 이 방향 명령키들은 명령 모드 또는 명령 행 모드에서 사용할 수 있습니다. \n",
    "##### 예를 들어, 명령 모드에서 h 키를 누르면 커서가 왼쪽으로 이동하고, j 키를 누르면 커서가 아래쪽으로 이동합니다.\n",
    "\n",
    "##### 또한, 방향 명령키를 조합하여 사용할 수도 있습니다. \n",
    "##### 예를 들어, 10j를 입력하면 커서가 10줄 아래로 이동하고, 3h를 입력하면 커서가 3칸 왼쪽으로 이동합니다."
   ]
  },
  {
   "cell_type": "code",
   "execution_count": null,
   "id": "6182646c",
   "metadata": {},
   "outputs": [],
   "source": []
  }
 ],
 "metadata": {
  "kernelspec": {
   "display_name": "Python 3 (ipykernel)",
   "language": "python",
   "name": "python3"
  },
  "language_info": {
   "codemirror_mode": {
    "name": "ipython",
    "version": 3
   },
   "file_extension": ".py",
   "mimetype": "text/x-python",
   "name": "python",
   "nbconvert_exporter": "python",
   "pygments_lexer": "ipython3",
   "version": "3.11.3"
  }
 },
 "nbformat": 4,
 "nbformat_minor": 5
}
