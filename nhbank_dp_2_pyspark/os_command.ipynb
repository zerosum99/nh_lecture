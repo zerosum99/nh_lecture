{
 "cells": [
  {
   "cell_type": "markdown",
   "id": "664169d3",
   "metadata": {},
   "source": [
    "## subprocess 모듈로 명령어를 실행하기 \n",
    "\n",
    "subprocess.run() 함수를 사용하여 ls 명령어를 실행하고 실행 결과를 가져와 출력합니다. \n",
    "capture_output=True 옵션은 실행 결과를 캡처하고, text=True 옵션은 실행 결과를 텍스트 형식으로 반환하도록 설정합니다. \n",
    "실행 결과는 result.stdout 속성을 통해 접근할 수 있습니다."
   ]
  },
  {
   "cell_type": "code",
   "execution_count": 1,
   "id": "2eeb48dd",
   "metadata": {},
   "outputs": [
    {
     "name": "stdout",
     "output_type": "stream",
     "text": [
      "total 42928\n",
      "-rw-r--r--   1 a06411  staff    18526  6  9 19:47 \bpyspark_pandas_sqlite.ipynb\n",
      "-rwxr-xr-x   1 a06411  staff    12288  4 29 06:55 \u001b[31mbeat.db\u001b[m\u001b[m\n",
      "-rwxr-xr-x   1 a06411  staff   884736  4 29 06:55 \u001b[31mchinook.db\u001b[m\u001b[m\n",
      "-rw-r--r--   1 a06411  staff    18452  6  7 16:30 global_tempview_알아보기.ipynb\n",
      "-rw-r--r--   1 a06411  staff     9844  6  7 16:11 local_tempview_알아보기.ipynb\n",
      "-rw-r--r--   1 a06411  staff      774  6  6 17:39 m1_스파크 설치 .ipynb\n",
      "-rw-r--r--   1 a06411  staff    22258  6  7 16:38 mnm_dataset_일고 처리하기 .ipynb\n",
      "drwxr-xr-x@ 10 a06411  staff      320  3  7 16:15 \u001b[34mmysql-connector-j-8.0.33\u001b[m\u001b[m\n",
      "-rw-r--r--   1 a06411  staff       72  6 16 03:40 os_command.ipynb\n",
      "-rw-r--r--   1 a06411  staff       73  6  7 14:52 people.json\n",
      "-rw-r--r--   1 a06411  staff    13375  6  7 15:24 people_json_처리.ipynb\n",
      "-rw-r--r--   1 a06411  staff    17866  6  9 21:47 pyspar_sqlite_chinook_db_처리.ipynb\n",
      "-rw-r--r--   1 a06411  staff     8503  6 16 03:05 pyspark_config.ipynb\n",
      "-rw-r--r--   1 a06411  staff    35051  6 11 00:52 pyspark_lending_club.ipynb\n",
      "-rw-r--r--   1 a06411  staff     9279  6 11 23:45 pyspark_mysql_connect.ipynb\n",
      "-rw-r--r--   1 a06411  staff     3362  6 11 18:28 pyspark_parquet_processing.ipynb\n",
      "-rw-r--r--@  1 a06411  staff     6242  6  6 21:57 pyspark_하이브_메타정보_조회.ipynb\n",
      "-rw-r--r--@  1 a06411  staff    30986  6  6 17:59 quickstart_df.ipynb\n",
      "-rw-------@  1 a06411  staff  2353139  6  7 14:30 sample1.png\n",
      "-rw-------@  1 a06411  staff  3150043  6  7 14:30 sample2.png\n",
      "-rw-------@  1 a06411  staff  3284986  6  7 14:30 sample3.png\n",
      "-rw-------@  1 a06411  staff  2708002  6  7 14:30 sample4.png\n",
      "-rw-------@  1 a06411  staff  1990751  6  7 14:30 sample5.png\n",
      "drwxr-xr-x   6 a06411  staff      192  6  9 21:43 \u001b[34mspark-warehouse\u001b[m\u001b[m\n",
      "-rw-r--r--   1 a06411  staff  7296329  6  9 19:25 sqlite-jdbc-3.34.0.jar\n",
      "-rw-r--r--   1 a06411  staff     7397  6  9 19:26 서브쿼리 사용하기 .ipynb\n",
      "-rw-r--r--   1 a06411  staff     1738  6  8 18:04 파이스파크 서밋을 하려면 하둡과 얀세팅 필요 .ipynb\n",
      "-rw-r--r--   1 a06411  staff     8176  6  6 16:09 파이스파크_json데이터 읽어오기.ipynb\n",
      "-rw-r--r--   1 a06411  staff    20560  6  6 18:01 파이스파크로 판다스 처리하기.ipynb\n",
      "-rw-r--r--   1 a06411  staff     3893  6  6 16:40 파이스파크로 데이터프레임 처리하기.ipynb\n",
      "\n"
     ]
    }
   ],
   "source": [
    "import subprocess\n",
    "\n",
    "# 외부 명령어 실행\n",
    "result = subprocess.run(['ls', '-l'], capture_output=True, text=True)\n",
    "\n",
    "# 실행 결과 출력\n",
    "print(result.stdout)"
   ]
  },
  {
   "cell_type": "markdown",
   "id": "8bfe12d1",
   "metadata": {},
   "source": [
    "## os 모듈에서 명령어 실행하기 "
   ]
  },
  {
   "cell_type": "code",
   "execution_count": 5,
   "id": "597c6e3c",
   "metadata": {},
   "outputs": [
    {
     "name": "stdout",
     "output_type": "stream",
     "text": [
      "total 42936\n",
      "-rw-r--r--   1 a06411  staff    18526  6  9 19:47 \bpyspark_pandas_sqlite.ipynb\n",
      "-rwxr-xr-x   1 a06411  staff    12288  4 29 06:55 \u001b[31mbeat.db\u001b[m\u001b[m\n",
      "-rwxr-xr-x   1 a06411  staff   884736  4 29 06:55 \u001b[31mchinook.db\u001b[m\u001b[m\n",
      "-rw-r--r--   1 a06411  staff    18452  6  7 16:30 global_tempview_알아보기.ipynb\n",
      "-rw-r--r--   1 a06411  staff     9844  6  7 16:11 local_tempview_알아보기.ipynb\n",
      "-rw-r--r--   1 a06411  staff      774  6  6 17:39 m1_스파크 설치 .ipynb\n",
      "-rw-r--r--   1 a06411  staff    22258  6  7 16:38 mnm_dataset_일고 처리하기 .ipynb\n",
      "drwxr-xr-x@ 10 a06411  staff      320  3  7 16:15 \u001b[34mmysql-connector-j-8.0.33\u001b[m\u001b[m\n",
      "-rw-r--r--   1 a06411  staff     7326  6 16 03:42 os_command.ipynb\n",
      "-rw-r--r--   1 a06411  staff       73  6  7 14:52 people.json\n",
      "-rw-r--r--   1 a06411  staff    13375  6  7 15:24 people_json_처리.ipynb\n",
      "-rw-r--r--   1 a06411  staff    17866  6  9 21:47 pyspar_sqlite_chinook_db_처리.ipynb\n",
      "-rw-r--r--   1 a06411  staff     8503  6 16 03:05 pyspark_config.ipynb\n",
      "-rw-r--r--   1 a06411  staff    35051  6 11 00:52 pyspark_lending_club.ipynb\n",
      "-rw-r--r--   1 a06411  staff     9279  6 11 23:45 pyspark_mysql_connect.ipynb\n",
      "-rw-r--r--   1 a06411  staff     3362  6 11 18:28 pyspark_parquet_processing.ipynb\n",
      "-rw-r--r--@  1 a06411  staff     6242  6  6 21:57 pyspark_하이브_메타정보_조회.ipynb\n",
      "-rw-r--r--@  1 a06411  staff    30986  6  6 17:59 quickstart_df.ipynb\n",
      "-rw-------@  1 a06411  staff  2353139  6  7 14:30 sample1.png\n",
      "-rw-------@  1 a06411  staff  3150043  6  7 14:30 sample2.png\n",
      "-rw-------@  1 a06411  staff  3284986  6  7 14:30 sample3.png\n",
      "-rw-------@  1 a06411  staff  2708002  6  7 14:30 sample4.png\n",
      "-rw-------@  1 a06411  staff  1990751  6  7 14:30 sample5.png\n",
      "drwxr-xr-x   6 a06411  staff      192  6  9 21:43 \u001b[34mspark-warehouse\u001b[m\u001b[m\n",
      "-rw-r--r--   1 a06411  staff  7296329  6  9 19:25 sqlite-jdbc-3.34.0.jar\n",
      "-rw-r--r--   1 a06411  staff     7397  6  9 19:26 서브쿼리 사용하기 .ipynb\n",
      "-rw-r--r--   1 a06411  staff     1738  "
     ]
    },
    {
     "data": {
      "text/plain": [
       "0"
      ]
     },
     "execution_count": 5,
     "metadata": {},
     "output_type": "execute_result"
    },
    {
     "name": "stdout",
     "output_type": "stream",
     "text": [
      "6  8 18:04 파이스파크 서밋을 하려면 하둡과 얀세팅 필요 .ipynb\n",
      "-rw-r--r--   1 a06411  staff     8176  6  6 16:09 파이스파크_json데이터 읽어오기.ipynb\n",
      "-rw-r--r--   1 a06411  staff    20560  6  6 18:01 파이스파크로 판다스 처리하기.ipynb\n",
      "-rw-r--r--   1 a06411  staff     3893  6  6 16:40 파이스파크로 데이터프레임 처리하기.ipynb\n"
     ]
    }
   ],
   "source": [
    "import os\n",
    "\n",
    "# ls 명령어 실행\n",
    "os.system('ls -l')"
   ]
  },
  {
   "cell_type": "code",
   "execution_count": null,
   "id": "d51199dc",
   "metadata": {},
   "outputs": [],
   "source": []
  }
 ],
 "metadata": {
  "kernelspec": {
   "display_name": "Python 3 (ipykernel)",
   "language": "python",
   "name": "python3"
  },
  "language_info": {
   "codemirror_mode": {
    "name": "ipython",
    "version": 3
   },
   "file_extension": ".py",
   "mimetype": "text/x-python",
   "name": "python",
   "nbconvert_exporter": "python",
   "pygments_lexer": "ipython3",
   "version": "3.11.3"
  }
 },
 "nbformat": 4,
 "nbformat_minor": 5
}
