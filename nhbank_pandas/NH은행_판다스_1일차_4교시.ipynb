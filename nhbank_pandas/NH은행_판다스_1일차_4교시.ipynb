{
 "cells": [
  {
   "cell_type": "code",
   "execution_count": null,
   "id": "36135047",
   "metadata": {},
   "outputs": [],
   "source": []
  },
  {
   "cell_type": "markdown",
   "id": "4eac8389",
   "metadata": {},
   "source": [
    "# 3. 판다스 데이터 전처리 "
   ]
  },
  {
   "cell_type": "markdown",
   "id": "7e43938e",
   "metadata": {},
   "source": [
    "## 3-1  데이터 확인하기 "
   ]
  },
  {
   "cell_type": "markdown",
   "id": "cf53ba19",
   "metadata": {},
   "source": [
    "### 모듈 사용하기 "
   ]
  },
  {
   "cell_type": "code",
   "execution_count": 1,
   "id": "ffee85f9",
   "metadata": {},
   "outputs": [],
   "source": [
    "import pandas as pd"
   ]
  },
  {
   "cell_type": "code",
   "execution_count": 2,
   "id": "ff99e4b1",
   "metadata": {},
   "outputs": [],
   "source": [
    "import numpy as np"
   ]
  },
  {
   "cell_type": "markdown",
   "id": "ba2e7a09",
   "metadata": {},
   "source": [
    "### 파일 읽어오기 "
   ]
  },
  {
   "cell_type": "code",
   "execution_count": 3,
   "id": "d2b8b2f0",
   "metadata": {},
   "outputs": [],
   "source": [
    "df = pd.read_csv(\"../data/diabetic_data_new.csv\")"
   ]
  },
  {
   "cell_type": "markdown",
   "id": "01aed4e1",
   "metadata": {},
   "source": [
    "### 문자열을 널값으로 변환하기 "
   ]
  },
  {
   "cell_type": "code",
   "execution_count": 4,
   "id": "1b0ec252",
   "metadata": {},
   "outputs": [],
   "source": [
    "df_1 = df.replace(\"?\", np.nan).copy()"
   ]
  },
  {
   "cell_type": "markdown",
   "id": "e89e6222",
   "metadata": {},
   "source": [
    "### 데이터 상태 확인하기 "
   ]
  },
  {
   "cell_type": "code",
   "execution_count": 5,
   "id": "57827c89",
   "metadata": {},
   "outputs": [
    {
     "name": "stdout",
     "output_type": "stream",
     "text": [
      "<class 'pandas.core.frame.DataFrame'>\n",
      "RangeIndex: 101766 entries, 0 to 101765\n",
      "Data columns (total 50 columns):\n",
      " #   Column                    Non-Null Count   Dtype \n",
      "---  ------                    --------------   ----- \n",
      " 0   encounter_id              101766 non-null  int64 \n",
      " 1   patient_nbr               101766 non-null  int64 \n",
      " 2   race                      99493 non-null   object\n",
      " 3   gender                    101766 non-null  object\n",
      " 4   age                       101766 non-null  object\n",
      " 5   weight                    3197 non-null    object\n",
      " 6   admission_type_id         101766 non-null  int64 \n",
      " 7   discharge_disposition_id  101766 non-null  int64 \n",
      " 8   admission_source_id       101766 non-null  int64 \n",
      " 9   time_in_hospital          101766 non-null  int64 \n",
      " 10  payer_code                61510 non-null   object\n",
      " 11  medical_specialty         51817 non-null   object\n",
      " 12  num_lab_procedures        101766 non-null  int64 \n",
      " 13  num_procedures            101766 non-null  int64 \n",
      " 14  num_medications           101766 non-null  int64 \n",
      " 15  number_outpatient         101766 non-null  int64 \n",
      " 16  number_emergency          101766 non-null  int64 \n",
      " 17  number_inpatient          101766 non-null  int64 \n",
      " 18  diag_1                    101745 non-null  object\n",
      " 19  diag_2                    101408 non-null  object\n",
      " 20  diag_3                    100343 non-null  object\n",
      " 21  number_diagnoses          101766 non-null  int64 \n",
      " 22  max_glu_serum             101766 non-null  object\n",
      " 23  A1Cresult                 101766 non-null  object\n",
      " 24  metformin                 101766 non-null  object\n",
      " 25  repaglinide               101766 non-null  object\n",
      " 26  nateglinide               101766 non-null  object\n",
      " 27  chlorpropamide            101766 non-null  object\n",
      " 28  glimepiride               101766 non-null  object\n",
      " 29  acetohexamide             101766 non-null  object\n",
      " 30  glipizide                 101766 non-null  object\n",
      " 31  glyburide                 101766 non-null  object\n",
      " 32  tolbutamide               101766 non-null  object\n",
      " 33  pioglitazone              101766 non-null  object\n",
      " 34  rosiglitazone             101766 non-null  object\n",
      " 35  acarbose                  101766 non-null  object\n",
      " 36  miglitol                  101766 non-null  object\n",
      " 37  troglitazone              101766 non-null  object\n",
      " 38  tolazamide                101766 non-null  object\n",
      " 39  examide                   101766 non-null  object\n",
      " 40  citoglipton               101766 non-null  object\n",
      " 41  insulin                   101766 non-null  object\n",
      " 42  glyburide_metformin       101766 non-null  object\n",
      " 43  glipizide_metformin       101766 non-null  object\n",
      " 44  glimepiride_pioglitazone  101766 non-null  object\n",
      " 45  metformin_rosiglitazone   101766 non-null  object\n",
      " 46  metformin_pioglitazone    101766 non-null  object\n",
      " 47  change                    101766 non-null  object\n",
      " 48  diabetesMed               101766 non-null  object\n",
      " 49  readmitted                101766 non-null  object\n",
      "dtypes: int64(13), object(37)\n",
      "memory usage: 38.8+ MB\n"
     ]
    }
   ],
   "source": [
    "df_1.info()"
   ]
  },
  {
   "cell_type": "markdown",
   "id": "92c1efd1",
   "metadata": {},
   "source": [
    "## 3-2  널값 처리 "
   ]
  },
  {
   "cell_type": "markdown",
   "id": "1058d4dd",
   "metadata": {},
   "source": [
    "### 널값을 확인하기 "
   ]
  },
  {
   "cell_type": "code",
   "execution_count": 6,
   "id": "06d5fc27",
   "metadata": {},
   "outputs": [
    {
     "data": {
      "text/plain": [
       "encounter_id                    0\n",
       "patient_nbr                     0\n",
       "race                         2273\n",
       "gender                          0\n",
       "age                             0\n",
       "weight                      98569\n",
       "admission_type_id               0\n",
       "discharge_disposition_id        0\n",
       "admission_source_id             0\n",
       "time_in_hospital                0\n",
       "payer_code                  40256\n",
       "medical_specialty           49949\n",
       "num_lab_procedures              0\n",
       "num_procedures                  0\n",
       "num_medications                 0\n",
       "number_outpatient               0\n",
       "number_emergency                0\n",
       "number_inpatient                0\n",
       "diag_1                         21\n",
       "diag_2                        358\n",
       "diag_3                       1423\n",
       "number_diagnoses                0\n",
       "max_glu_serum                   0\n",
       "A1Cresult                       0\n",
       "metformin                       0\n",
       "repaglinide                     0\n",
       "nateglinide                     0\n",
       "chlorpropamide                  0\n",
       "glimepiride                     0\n",
       "acetohexamide                   0\n",
       "glipizide                       0\n",
       "glyburide                       0\n",
       "tolbutamide                     0\n",
       "pioglitazone                    0\n",
       "rosiglitazone                   0\n",
       "acarbose                        0\n",
       "miglitol                        0\n",
       "troglitazone                    0\n",
       "tolazamide                      0\n",
       "examide                         0\n",
       "citoglipton                     0\n",
       "insulin                         0\n",
       "glyburide_metformin             0\n",
       "glipizide_metformin             0\n",
       "glimepiride_pioglitazone        0\n",
       "metformin_rosiglitazone         0\n",
       "metformin_pioglitazone          0\n",
       "change                          0\n",
       "diabetesMed                     0\n",
       "readmitted                      0\n",
       "dtype: int64"
      ]
     },
     "execution_count": 6,
     "metadata": {},
     "output_type": "execute_result"
    }
   ],
   "source": [
    "df_1.isna().sum()"
   ]
  },
  {
   "cell_type": "markdown",
   "id": "ecd36165",
   "metadata": {},
   "source": [
    "### 널값이 있는 경우만 칼럼추출하기 "
   ]
  },
  {
   "cell_type": "code",
   "execution_count": 7,
   "id": "2b25cb5a",
   "metadata": {},
   "outputs": [],
   "source": [
    "df_col_null = df_1.columns[df_1.isna().sum() > 0 ]"
   ]
  },
  {
   "cell_type": "code",
   "execution_count": 8,
   "id": "9f74ad9b",
   "metadata": {},
   "outputs": [
    {
     "data": {
      "text/plain": [
       "race                  2273\n",
       "weight               98569\n",
       "payer_code           40256\n",
       "medical_specialty    49949\n",
       "diag_1                  21\n",
       "diag_2                 358\n",
       "diag_3                1423\n",
       "dtype: int64"
      ]
     },
     "execution_count": 8,
     "metadata": {},
     "output_type": "execute_result"
    }
   ],
   "source": [
    "df_1[df_col_null].isna().sum()"
   ]
  },
  {
   "cell_type": "code",
   "execution_count": 9,
   "id": "b504daa1",
   "metadata": {},
   "outputs": [
    {
     "data": {
      "text/plain": [
       "race                 object\n",
       "weight               object\n",
       "payer_code           object\n",
       "medical_specialty    object\n",
       "diag_1               object\n",
       "diag_2               object\n",
       "diag_3               object\n",
       "dtype: object"
      ]
     },
     "execution_count": 9,
     "metadata": {},
     "output_type": "execute_result"
    }
   ],
   "source": [
    "df_1[df_col_null].dtypes"
   ]
  },
  {
   "cell_type": "markdown",
   "id": "22633a74",
   "metadata": {},
   "source": [
    "## 3-2 문자열 자료 변형하기\n",
    "\n",
    "- 판다스는 칼럼으로 조회하면 .str 객체를 제공해서 문자열을 처리하는 다양한 메서드를 제공한다.\n"
   ]
  },
  {
   "cell_type": "markdown",
   "id": "3da3f39b",
   "metadata": {},
   "source": [
    "### 문자열 자료형 칼럼만 조회하기 "
   ]
  },
  {
   "cell_type": "code",
   "execution_count": 10,
   "id": "35ff9c2f",
   "metadata": {},
   "outputs": [],
   "source": [
    "df_str = df.select_dtypes(include='object')"
   ]
  },
  {
   "cell_type": "code",
   "execution_count": 11,
   "id": "bab74811",
   "metadata": {},
   "outputs": [
    {
     "data": {
      "text/plain": [
       "Index(['race', 'gender', 'age', 'weight', 'payer_code', 'medical_specialty',\n",
       "       'diag_1', 'diag_2', 'diag_3', 'max_glu_serum', 'A1Cresult', 'metformin',\n",
       "       'repaglinide', 'nateglinide', 'chlorpropamide', 'glimepiride',\n",
       "       'acetohexamide', 'glipizide', 'glyburide', 'tolbutamide',\n",
       "       'pioglitazone', 'rosiglitazone', 'acarbose', 'miglitol', 'troglitazone',\n",
       "       'tolazamide', 'examide', 'citoglipton', 'insulin',\n",
       "       'glyburide_metformin', 'glipizide_metformin',\n",
       "       'glimepiride_pioglitazone', 'metformin_rosiglitazone',\n",
       "       'metformin_pioglitazone', 'change', 'diabetesMed', 'readmitted'],\n",
       "      dtype='object')"
      ]
     },
     "execution_count": 11,
     "metadata": {},
     "output_type": "execute_result"
    }
   ],
   "source": [
    "df_str.columns"
   ]
  },
  {
   "cell_type": "markdown",
   "id": "6cf0d16c",
   "metadata": {},
   "source": [
    "### 성별 구분 확인하기\n",
    "\n",
    "- 남성/여성이외의 값이 들어왔다. "
   ]
  },
  {
   "cell_type": "code",
   "execution_count": 12,
   "id": "ee881b69",
   "metadata": {},
   "outputs": [
    {
     "data": {
      "text/plain": [
       "Female             54708\n",
       "Male               47055\n",
       "Unknown/Invalid        3\n",
       "Name: gender, dtype: int64"
      ]
     },
     "execution_count": 12,
     "metadata": {},
     "output_type": "execute_result"
    }
   ],
   "source": [
    "df['gender'].value_counts()"
   ]
  },
  {
   "cell_type": "code",
   "execution_count": 13,
   "id": "d9325059",
   "metadata": {},
   "outputs": [],
   "source": [
    "ss = df['gender'].replace('Unknown/Invalid', 'other' )"
   ]
  },
  {
   "cell_type": "code",
   "execution_count": 14,
   "id": "153519e2",
   "metadata": {},
   "outputs": [
    {
     "data": {
      "text/plain": [
       "Female    54708\n",
       "Male      47055\n",
       "other         3\n",
       "Name: gender, dtype: int64"
      ]
     },
     "execution_count": 14,
     "metadata": {},
     "output_type": "execute_result"
    }
   ],
   "source": [
    "ss.value_counts()"
   ]
  },
  {
   "cell_type": "markdown",
   "id": "586007d3",
   "metadata": {},
   "source": [
    "### 특정 범주형 값을 확인하기 "
   ]
  },
  {
   "cell_type": "code",
   "execution_count": 15,
   "id": "313ae287",
   "metadata": {},
   "outputs": [
    {
     "data": {
      "text/plain": [
       "428    6862\n",
       "414    6581\n",
       "786    4016\n",
       "410    3614\n",
       "486    3508\n",
       "       ... \n",
       "373       1\n",
       "314       1\n",
       "684       1\n",
       "217       1\n",
       "V51       1\n",
       "Name: diag_1, Length: 717, dtype: int64"
      ]
     },
     "execution_count": 15,
     "metadata": {},
     "output_type": "execute_result"
    }
   ],
   "source": [
    "df['diag_1'].value_counts() "
   ]
  },
  {
   "cell_type": "markdown",
   "id": "95716a47",
   "metadata": {},
   "source": [
    "### 내부에 문자와 숫자가 섞여있다.  "
   ]
  },
  {
   "cell_type": "code",
   "execution_count": 16,
   "id": "e70f1696",
   "metadata": {},
   "outputs": [],
   "source": [
    "xx = df['diag_1'].value_counts().index"
   ]
  },
  {
   "cell_type": "code",
   "execution_count": 17,
   "id": "a8cbf99d",
   "metadata": {},
   "outputs": [],
   "source": [
    "aa = []\n",
    "for i in xx :\n",
    "    if i[0].isdecimal() :\n",
    "        continue\n",
    "    else :\n",
    "        aa.append(i)"
   ]
  },
  {
   "cell_type": "code",
   "execution_count": 18,
   "id": "fce05af9",
   "metadata": {},
   "outputs": [
    {
     "data": {
      "text/plain": [
       "['V57',\n",
       " 'V58',\n",
       " 'V55',\n",
       " 'V54',\n",
       " 'V53',\n",
       " '?',\n",
       " 'V56',\n",
       " 'V71',\n",
       " 'V63',\n",
       " 'V45',\n",
       " 'V26',\n",
       " 'V66',\n",
       " 'V07',\n",
       " 'E909',\n",
       " 'V70',\n",
       " 'V43',\n",
       " 'V60',\n",
       " 'V25',\n",
       " 'V67',\n",
       " 'V51']"
      ]
     },
     "execution_count": 18,
     "metadata": {},
     "output_type": "execute_result"
    }
   ],
   "source": [
    "aa"
   ]
  },
  {
   "cell_type": "markdown",
   "id": "52d4788b",
   "metadata": {},
   "source": [
    "### 문자에 대한 갯수를 확인 "
   ]
  },
  {
   "cell_type": "code",
   "execution_count": 19,
   "id": "5ae18474",
   "metadata": {},
   "outputs": [
    {
     "data": {
      "text/plain": [
       "1644"
      ]
     },
     "execution_count": 19,
     "metadata": {},
     "output_type": "execute_result"
    }
   ],
   "source": [
    "df['diag_1'].str.startswith(\"V\").sum()"
   ]
  },
  {
   "cell_type": "code",
   "execution_count": 20,
   "id": "e58475c9",
   "metadata": {},
   "outputs": [
    {
     "data": {
      "text/plain": [
       "1"
      ]
     },
     "execution_count": 20,
     "metadata": {},
     "output_type": "execute_result"
    }
   ],
   "source": [
    "df['diag_1'].str.startswith(\"E\").sum()"
   ]
  },
  {
   "cell_type": "markdown",
   "id": "1b558aa2",
   "metadata": {},
   "source": [
    "### 각각의 문자를 변환하고 개수를 확인 "
   ]
  },
  {
   "cell_type": "code",
   "execution_count": 21,
   "id": "f59a4961",
   "metadata": {},
   "outputs": [
    {
     "data": {
      "text/plain": [
       "0"
      ]
     },
     "execution_count": 21,
     "metadata": {},
     "output_type": "execute_result"
    }
   ],
   "source": [
    "df['diag_1'].str.replace(\"V\",\"0\").str.startswith(\"V\").sum()"
   ]
  },
  {
   "cell_type": "code",
   "execution_count": 22,
   "id": "235f6c8d",
   "metadata": {},
   "outputs": [
    {
     "data": {
      "text/plain": [
       "0"
      ]
     },
     "execution_count": 22,
     "metadata": {},
     "output_type": "execute_result"
    }
   ],
   "source": [
    "df['diag_1'].str.replace(\"E\",\"0\").str.startswith(\"E\").sum()"
   ]
  },
  {
   "cell_type": "markdown",
   "id": "fd5945ca",
   "metadata": {},
   "source": [
    "## 3-3 날짜 자료 변형하기 \n",
    "\n",
    "- 날짜를 처리할 수 있도록 .dt 객체를 제공한다 "
   ]
  },
  {
   "cell_type": "markdown",
   "id": "67e747d0",
   "metadata": {},
   "source": [
    "### 날짜가 필요한 데이터를 읽기"
   ]
  },
  {
   "cell_type": "code",
   "execution_count": 23,
   "id": "0285a042",
   "metadata": {},
   "outputs": [],
   "source": [
    "df_day = pd.read_csv(\"../data/covid/day_wise.csv\")"
   ]
  },
  {
   "cell_type": "markdown",
   "id": "fa8154bd",
   "metadata": {},
   "source": [
    "### 데이터프레임 정보 확인하기 "
   ]
  },
  {
   "cell_type": "code",
   "execution_count": 24,
   "id": "80b64209",
   "metadata": {},
   "outputs": [
    {
     "name": "stdout",
     "output_type": "stream",
     "text": [
      "<class 'pandas.core.frame.DataFrame'>\n",
      "RangeIndex: 188 entries, 0 to 187\n",
      "Data columns (total 12 columns):\n",
      " #   Column                  Non-Null Count  Dtype  \n",
      "---  ------                  --------------  -----  \n",
      " 0   Date                    188 non-null    object \n",
      " 1   Confirmed               188 non-null    int64  \n",
      " 2   Deaths                  188 non-null    int64  \n",
      " 3   Recovered               188 non-null    int64  \n",
      " 4   Active                  188 non-null    int64  \n",
      " 5   New cases               188 non-null    int64  \n",
      " 6   New deaths              188 non-null    int64  \n",
      " 7   New recovered           188 non-null    int64  \n",
      " 8   Deaths / 100 Cases      188 non-null    float64\n",
      " 9   Recovered / 100 Cases   188 non-null    float64\n",
      " 10  Deaths / 100 Recovered  188 non-null    float64\n",
      " 11  No. of countries        188 non-null    int64  \n",
      "dtypes: float64(3), int64(8), object(1)\n",
      "memory usage: 17.8+ KB\n"
     ]
    }
   ],
   "source": [
    "df_day.info()"
   ]
  },
  {
   "cell_type": "markdown",
   "id": "bb133679",
   "metadata": {},
   "source": [
    "### 칼럼에 대한 날짜 타입으로 변환한다"
   ]
  },
  {
   "cell_type": "code",
   "execution_count": 25,
   "id": "9dd8a4d4",
   "metadata": {},
   "outputs": [],
   "source": [
    "df_day['Date'] = pd.to_datetime(df_day['Date'])"
   ]
  },
  {
   "cell_type": "code",
   "execution_count": 26,
   "id": "b75931d2",
   "metadata": {},
   "outputs": [
    {
     "data": {
      "text/plain": [
       "dtype('<M8[ns]')"
      ]
     },
     "execution_count": 26,
     "metadata": {},
     "output_type": "execute_result"
    }
   ],
   "source": [
    "df_day['Date'].dtype"
   ]
  },
  {
   "cell_type": "markdown",
   "id": "6152f6ce",
   "metadata": {},
   "source": [
    "### 날짜 자료형으로 변환되어 dt 객체를 활용할 수 있다"
   ]
  },
  {
   "cell_type": "code",
   "execution_count": 27,
   "id": "d8b6fd73",
   "metadata": {},
   "outputs": [
    {
     "data": {
      "text/plain": [
       "<pandas.core.indexes.accessors.DatetimeProperties object at 0x12046f550>"
      ]
     },
     "execution_count": 27,
     "metadata": {},
     "output_type": "execute_result"
    }
   ],
   "source": [
    "df_day['Date'].dt"
   ]
  },
  {
   "cell_type": "code",
   "execution_count": 28,
   "id": "96044e38",
   "metadata": {},
   "outputs": [
    {
     "data": {
      "text/plain": [
       "0      2020-01-22\n",
       "1      2020-01-23\n",
       "2      2020-01-24\n",
       "3      2020-01-25\n",
       "4      2020-01-26\n",
       "          ...    \n",
       "183    2020-07-23\n",
       "184    2020-07-24\n",
       "185    2020-07-25\n",
       "186    2020-07-26\n",
       "187    2020-07-27\n",
       "Name: Date, Length: 188, dtype: object"
      ]
     },
     "execution_count": 28,
     "metadata": {},
     "output_type": "execute_result"
    }
   ],
   "source": [
    "df_day['Date'].dt.date"
   ]
  },
  {
   "cell_type": "markdown",
   "id": "6b46d97e",
   "metadata": {},
   "source": [
    "### 새로운 칼럼 추가 \n",
    "\n",
    "- dt 내의 날짜 관련 정보를 분리해서 새로운 칼럼을 만들기"
   ]
  },
  {
   "cell_type": "code",
   "execution_count": 29,
   "id": "1e7664f8",
   "metadata": {},
   "outputs": [],
   "source": [
    "df_day['year']       = df_day['Date'].dt.year         # 연(4자리숫자)\n",
    "df_day['month']      = df_day['Date'].dt.month        # 월(숫자)\n",
    "df_day['month_name'] = df_day['Date'].dt.month_name() # 월(문자)\n",
    "\n",
    "df_day['day']        = df_day['Date'].dt.day          # 일(숫자)\n",
    "df_day['time']       = df_day['Date'].dt.time         # HH:MM:SS(문자)\n",
    "df_day['hour']       = df_day['Date'].dt.hour         # 시(숫자)\n",
    "df_day['minute']     = df_day['Date'].dt.minute       # 분(숫자)\n",
    "df_day['second']     = df_day['Date'].dt.second       # 초(숫자)\n"
   ]
  },
  {
   "cell_type": "code",
   "execution_count": 30,
   "id": "2cad3ff0",
   "metadata": {},
   "outputs": [
    {
     "data": {
      "text/html": [
       "<div>\n",
       "<style scoped>\n",
       "    .dataframe tbody tr th:only-of-type {\n",
       "        vertical-align: middle;\n",
       "    }\n",
       "\n",
       "    .dataframe tbody tr th {\n",
       "        vertical-align: top;\n",
       "    }\n",
       "\n",
       "    .dataframe thead th {\n",
       "        text-align: right;\n",
       "    }\n",
       "</style>\n",
       "<table border=\"1\" class=\"dataframe\">\n",
       "  <thead>\n",
       "    <tr style=\"text-align: right;\">\n",
       "      <th></th>\n",
       "      <th>Date</th>\n",
       "      <th>Confirmed</th>\n",
       "      <th>Deaths</th>\n",
       "      <th>Recovered</th>\n",
       "      <th>Active</th>\n",
       "      <th>New cases</th>\n",
       "      <th>New deaths</th>\n",
       "      <th>New recovered</th>\n",
       "      <th>Deaths / 100 Cases</th>\n",
       "      <th>Recovered / 100 Cases</th>\n",
       "      <th>Deaths / 100 Recovered</th>\n",
       "      <th>No. of countries</th>\n",
       "      <th>year</th>\n",
       "      <th>month</th>\n",
       "      <th>month_name</th>\n",
       "      <th>day</th>\n",
       "      <th>time</th>\n",
       "      <th>hour</th>\n",
       "      <th>minute</th>\n",
       "      <th>second</th>\n",
       "    </tr>\n",
       "  </thead>\n",
       "  <tbody>\n",
       "    <tr>\n",
       "      <th>0</th>\n",
       "      <td>2020-01-22</td>\n",
       "      <td>555</td>\n",
       "      <td>17</td>\n",
       "      <td>28</td>\n",
       "      <td>510</td>\n",
       "      <td>0</td>\n",
       "      <td>0</td>\n",
       "      <td>0</td>\n",
       "      <td>3.06</td>\n",
       "      <td>5.05</td>\n",
       "      <td>60.71</td>\n",
       "      <td>6</td>\n",
       "      <td>2020</td>\n",
       "      <td>1</td>\n",
       "      <td>January</td>\n",
       "      <td>22</td>\n",
       "      <td>00:00:00</td>\n",
       "      <td>0</td>\n",
       "      <td>0</td>\n",
       "      <td>0</td>\n",
       "    </tr>\n",
       "    <tr>\n",
       "      <th>1</th>\n",
       "      <td>2020-01-23</td>\n",
       "      <td>654</td>\n",
       "      <td>18</td>\n",
       "      <td>30</td>\n",
       "      <td>606</td>\n",
       "      <td>99</td>\n",
       "      <td>1</td>\n",
       "      <td>2</td>\n",
       "      <td>2.75</td>\n",
       "      <td>4.59</td>\n",
       "      <td>60.00</td>\n",
       "      <td>8</td>\n",
       "      <td>2020</td>\n",
       "      <td>1</td>\n",
       "      <td>January</td>\n",
       "      <td>23</td>\n",
       "      <td>00:00:00</td>\n",
       "      <td>0</td>\n",
       "      <td>0</td>\n",
       "      <td>0</td>\n",
       "    </tr>\n",
       "    <tr>\n",
       "      <th>2</th>\n",
       "      <td>2020-01-24</td>\n",
       "      <td>941</td>\n",
       "      <td>26</td>\n",
       "      <td>36</td>\n",
       "      <td>879</td>\n",
       "      <td>287</td>\n",
       "      <td>8</td>\n",
       "      <td>6</td>\n",
       "      <td>2.76</td>\n",
       "      <td>3.83</td>\n",
       "      <td>72.22</td>\n",
       "      <td>9</td>\n",
       "      <td>2020</td>\n",
       "      <td>1</td>\n",
       "      <td>January</td>\n",
       "      <td>24</td>\n",
       "      <td>00:00:00</td>\n",
       "      <td>0</td>\n",
       "      <td>0</td>\n",
       "      <td>0</td>\n",
       "    </tr>\n",
       "    <tr>\n",
       "      <th>3</th>\n",
       "      <td>2020-01-25</td>\n",
       "      <td>1434</td>\n",
       "      <td>42</td>\n",
       "      <td>39</td>\n",
       "      <td>1353</td>\n",
       "      <td>493</td>\n",
       "      <td>16</td>\n",
       "      <td>3</td>\n",
       "      <td>2.93</td>\n",
       "      <td>2.72</td>\n",
       "      <td>107.69</td>\n",
       "      <td>11</td>\n",
       "      <td>2020</td>\n",
       "      <td>1</td>\n",
       "      <td>January</td>\n",
       "      <td>25</td>\n",
       "      <td>00:00:00</td>\n",
       "      <td>0</td>\n",
       "      <td>0</td>\n",
       "      <td>0</td>\n",
       "    </tr>\n",
       "    <tr>\n",
       "      <th>4</th>\n",
       "      <td>2020-01-26</td>\n",
       "      <td>2118</td>\n",
       "      <td>56</td>\n",
       "      <td>52</td>\n",
       "      <td>2010</td>\n",
       "      <td>684</td>\n",
       "      <td>14</td>\n",
       "      <td>13</td>\n",
       "      <td>2.64</td>\n",
       "      <td>2.46</td>\n",
       "      <td>107.69</td>\n",
       "      <td>13</td>\n",
       "      <td>2020</td>\n",
       "      <td>1</td>\n",
       "      <td>January</td>\n",
       "      <td>26</td>\n",
       "      <td>00:00:00</td>\n",
       "      <td>0</td>\n",
       "      <td>0</td>\n",
       "      <td>0</td>\n",
       "    </tr>\n",
       "  </tbody>\n",
       "</table>\n",
       "</div>"
      ],
      "text/plain": [
       "        Date  Confirmed  Deaths  Recovered  Active  New cases  New deaths  \\\n",
       "0 2020-01-22        555      17         28     510          0           0   \n",
       "1 2020-01-23        654      18         30     606         99           1   \n",
       "2 2020-01-24        941      26         36     879        287           8   \n",
       "3 2020-01-25       1434      42         39    1353        493          16   \n",
       "4 2020-01-26       2118      56         52    2010        684          14   \n",
       "\n",
       "   New recovered  Deaths / 100 Cases  Recovered / 100 Cases  \\\n",
       "0              0                3.06                   5.05   \n",
       "1              2                2.75                   4.59   \n",
       "2              6                2.76                   3.83   \n",
       "3              3                2.93                   2.72   \n",
       "4             13                2.64                   2.46   \n",
       "\n",
       "   Deaths / 100 Recovered  No. of countries  year  month month_name  day  \\\n",
       "0                   60.71                 6  2020      1    January   22   \n",
       "1                   60.00                 8  2020      1    January   23   \n",
       "2                   72.22                 9  2020      1    January   24   \n",
       "3                  107.69                11  2020      1    January   25   \n",
       "4                  107.69                13  2020      1    January   26   \n",
       "\n",
       "       time  hour  minute  second  \n",
       "0  00:00:00     0       0       0  \n",
       "1  00:00:00     0       0       0  \n",
       "2  00:00:00     0       0       0  \n",
       "3  00:00:00     0       0       0  \n",
       "4  00:00:00     0       0       0  "
      ]
     },
     "execution_count": 30,
     "metadata": {},
     "output_type": "execute_result"
    }
   ],
   "source": [
    "df_day.head()"
   ]
  },
  {
   "cell_type": "code",
   "execution_count": 31,
   "id": "96f46576",
   "metadata": {},
   "outputs": [
    {
     "data": {
      "text/plain": [
       "Index(['Date', 'Confirmed', 'Deaths', 'Recovered', 'Active', 'New cases',\n",
       "       'New deaths', 'New recovered', 'Deaths / 100 Cases',\n",
       "       'Recovered / 100 Cases', 'Deaths / 100 Recovered', 'No. of countries',\n",
       "       'year', 'month', 'month_name', 'day', 'time', 'hour', 'minute',\n",
       "       'second'],\n",
       "      dtype='object')"
      ]
     },
     "execution_count": 31,
     "metadata": {},
     "output_type": "execute_result"
    }
   ],
   "source": [
    "df_day.columns"
   ]
  },
  {
   "cell_type": "markdown",
   "id": "7fd532b8",
   "metadata": {},
   "source": [
    "### 새로운 칼럼 추가 "
   ]
  },
  {
   "cell_type": "code",
   "execution_count": 32,
   "id": "4111f1d6",
   "metadata": {},
   "outputs": [],
   "source": [
    "df_day['Deaths ratio'] = df_day['Deaths'] / df_day['Confirmed']"
   ]
  },
  {
   "cell_type": "markdown",
   "id": "89b99687",
   "metadata": {},
   "source": [
    "### 그룹화해서 정보를 확인하기 "
   ]
  },
  {
   "cell_type": "code",
   "execution_count": 33,
   "id": "c8fd65ff",
   "metadata": {},
   "outputs": [
    {
     "data": {
      "text/html": [
       "<div>\n",
       "<style scoped>\n",
       "    .dataframe tbody tr th:only-of-type {\n",
       "        vertical-align: middle;\n",
       "    }\n",
       "\n",
       "    .dataframe tbody tr th {\n",
       "        vertical-align: top;\n",
       "    }\n",
       "\n",
       "    .dataframe thead th {\n",
       "        text-align: right;\n",
       "    }\n",
       "</style>\n",
       "<table border=\"1\" class=\"dataframe\">\n",
       "  <thead>\n",
       "    <tr style=\"text-align: right;\">\n",
       "      <th></th>\n",
       "      <th></th>\n",
       "      <th>Confirmed</th>\n",
       "      <th>Deaths</th>\n",
       "      <th>Deaths ratio</th>\n",
       "    </tr>\n",
       "    <tr>\n",
       "      <th>year</th>\n",
       "      <th>month</th>\n",
       "      <th></th>\n",
       "      <th></th>\n",
       "      <th></th>\n",
       "    </tr>\n",
       "  </thead>\n",
       "  <tbody>\n",
       "    <tr>\n",
       "      <th rowspan=\"7\" valign=\"top\">2020</th>\n",
       "      <th>1</th>\n",
       "      <td>9927</td>\n",
       "      <td>213</td>\n",
       "      <td>0.030631</td>\n",
       "    </tr>\n",
       "    <tr>\n",
       "      <th>2</th>\n",
       "      <td>85306</td>\n",
       "      <td>2936</td>\n",
       "      <td>0.034417</td>\n",
       "    </tr>\n",
       "    <tr>\n",
       "      <th>3</th>\n",
       "      <td>871355</td>\n",
       "      <td>44478</td>\n",
       "      <td>0.051045</td>\n",
       "    </tr>\n",
       "    <tr>\n",
       "      <th>4</th>\n",
       "      <td>3268876</td>\n",
       "      <td>234704</td>\n",
       "      <td>0.071814</td>\n",
       "    </tr>\n",
       "    <tr>\n",
       "      <th>5</th>\n",
       "      <td>6185530</td>\n",
       "      <td>373606</td>\n",
       "      <td>0.071480</td>\n",
       "    </tr>\n",
       "    <tr>\n",
       "      <th>6</th>\n",
       "      <td>10449697</td>\n",
       "      <td>511210</td>\n",
       "      <td>0.059973</td>\n",
       "    </tr>\n",
       "    <tr>\n",
       "      <th>7</th>\n",
       "      <td>16480485</td>\n",
       "      <td>654036</td>\n",
       "      <td>0.048392</td>\n",
       "    </tr>\n",
       "  </tbody>\n",
       "</table>\n",
       "</div>"
      ],
      "text/plain": [
       "            Confirmed  Deaths  Deaths ratio\n",
       "year month                                 \n",
       "2020 1           9927     213      0.030631\n",
       "     2          85306    2936      0.034417\n",
       "     3         871355   44478      0.051045\n",
       "     4        3268876  234704      0.071814\n",
       "     5        6185530  373606      0.071480\n",
       "     6       10449697  511210      0.059973\n",
       "     7       16480485  654036      0.048392"
      ]
     },
     "execution_count": 33,
     "metadata": {},
     "output_type": "execute_result"
    }
   ],
   "source": [
    "df_day.groupby([\"year\",\"month\"])[['Confirmed','Deaths','Deaths ratio']].max()"
   ]
  },
  {
   "cell_type": "code",
   "execution_count": null,
   "id": "5eb4e909",
   "metadata": {},
   "outputs": [],
   "source": []
  },
  {
   "cell_type": "markdown",
   "id": "b0e5cf6a",
   "metadata": {},
   "source": [
    "## 4. 특정 내부의 값을 변경하기\n",
    "\n",
    "-  transform, apply 메서드를 통해 내부의 값을 변경하기"
   ]
  },
  {
   "cell_type": "markdown",
   "id": "fdf344c2",
   "metadata": {},
   "source": [
    "## apply 함수 처리 기준 \n",
    "- apply(func, axis=0)func: DataFrame의 축을 따라 함수를 호출한다  \n",
    "- 기본적으로 하나의 시리즈 객체 단위로 계산한다 \n",
    "- func주어진 축을 따라 적용한 결과를 반환한다 ."
   ]
  },
  {
   "cell_type": "markdown",
   "id": "28a0e53d",
   "metadata": {},
   "source": [
    "## transform 함수 처리 기준\n",
    "- transform(func, axis=0): 변환된 값으로 DataFrame을 자체적으로func 생성 하는 함수를 호출한다.\n",
    "- 데이터프레임 단위로 처리하므로 시리즈 단위로 처리하는 함수를 호출하면 예외가 발생한다. \n",
    "-  self 와 길이가 같은 DataFrame을 반환한다"
   ]
  },
  {
   "cell_type": "markdown",
   "id": "54e60c35",
   "metadata": {},
   "source": [
    "## 4-1 지정된 함수를 사용해서 값을 변경하기 "
   ]
  },
  {
   "cell_type": "markdown",
   "id": "6c3509eb",
   "metadata": {},
   "source": [
    "### 실수 칼럼만 가져오기 "
   ]
  },
  {
   "cell_type": "code",
   "execution_count": 34,
   "id": "1be8d4c3",
   "metadata": {},
   "outputs": [],
   "source": [
    "df_num = df_day.select_dtypes(include=\"float\")"
   ]
  },
  {
   "cell_type": "markdown",
   "id": "b423428f",
   "metadata": {},
   "source": [
    "### 내장함수를 문자열로 전달해서 처리하기"
   ]
  },
  {
   "cell_type": "code",
   "execution_count": 35,
   "id": "3ec69c3f",
   "metadata": {},
   "outputs": [
    {
     "data": {
      "text/html": [
       "<div>\n",
       "<style scoped>\n",
       "    .dataframe tbody tr th:only-of-type {\n",
       "        vertical-align: middle;\n",
       "    }\n",
       "\n",
       "    .dataframe tbody tr th {\n",
       "        vertical-align: top;\n",
       "    }\n",
       "\n",
       "    .dataframe thead th {\n",
       "        text-align: right;\n",
       "    }\n",
       "</style>\n",
       "<table border=\"1\" class=\"dataframe\">\n",
       "  <thead>\n",
       "    <tr style=\"text-align: right;\">\n",
       "      <th></th>\n",
       "      <th>Deaths / 100 Cases</th>\n",
       "      <th>Recovered / 100 Cases</th>\n",
       "      <th>Deaths / 100 Recovered</th>\n",
       "      <th>Deaths ratio</th>\n",
       "    </tr>\n",
       "  </thead>\n",
       "  <tbody>\n",
       "    <tr>\n",
       "      <th>0</th>\n",
       "      <td>1.749286</td>\n",
       "      <td>2.247221</td>\n",
       "      <td>7.791662</td>\n",
       "      <td>0.175016</td>\n",
       "    </tr>\n",
       "    <tr>\n",
       "      <th>1</th>\n",
       "      <td>1.658312</td>\n",
       "      <td>2.142429</td>\n",
       "      <td>7.745967</td>\n",
       "      <td>0.165900</td>\n",
       "    </tr>\n",
       "    <tr>\n",
       "      <th>2</th>\n",
       "      <td>1.661325</td>\n",
       "      <td>1.957039</td>\n",
       "      <td>8.498235</td>\n",
       "      <td>0.166223</td>\n",
       "    </tr>\n",
       "    <tr>\n",
       "      <th>3</th>\n",
       "      <td>1.711724</td>\n",
       "      <td>1.649242</td>\n",
       "      <td>10.377379</td>\n",
       "      <td>0.171139</td>\n",
       "    </tr>\n",
       "    <tr>\n",
       "      <th>4</th>\n",
       "      <td>1.624808</td>\n",
       "      <td>1.568439</td>\n",
       "      <td>10.377379</td>\n",
       "      <td>0.162604</td>\n",
       "    </tr>\n",
       "  </tbody>\n",
       "</table>\n",
       "</div>"
      ],
      "text/plain": [
       "   Deaths / 100 Cases  Recovered / 100 Cases  Deaths / 100 Recovered  \\\n",
       "0            1.749286               2.247221                7.791662   \n",
       "1            1.658312               2.142429                7.745967   \n",
       "2            1.661325               1.957039                8.498235   \n",
       "3            1.711724               1.649242               10.377379   \n",
       "4            1.624808               1.568439               10.377379   \n",
       "\n",
       "   Deaths ratio  \n",
       "0      0.175016  \n",
       "1      0.165900  \n",
       "2      0.166223  \n",
       "3      0.171139  \n",
       "4      0.162604  "
      ]
     },
     "execution_count": 35,
     "metadata": {},
     "output_type": "execute_result"
    }
   ],
   "source": [
    "df_num.transform('sqrt').head()"
   ]
  },
  {
   "cell_type": "code",
   "execution_count": 36,
   "id": "9a141414",
   "metadata": {},
   "outputs": [
    {
     "data": {
      "text/html": [
       "<div>\n",
       "<style scoped>\n",
       "    .dataframe tbody tr th:only-of-type {\n",
       "        vertical-align: middle;\n",
       "    }\n",
       "\n",
       "    .dataframe tbody tr th {\n",
       "        vertical-align: top;\n",
       "    }\n",
       "\n",
       "    .dataframe thead th {\n",
       "        text-align: right;\n",
       "    }\n",
       "</style>\n",
       "<table border=\"1\" class=\"dataframe\">\n",
       "  <thead>\n",
       "    <tr style=\"text-align: right;\">\n",
       "      <th></th>\n",
       "      <th>Deaths / 100 Cases</th>\n",
       "      <th>Recovered / 100 Cases</th>\n",
       "      <th>Deaths / 100 Recovered</th>\n",
       "      <th>Deaths ratio</th>\n",
       "    </tr>\n",
       "  </thead>\n",
       "  <tbody>\n",
       "    <tr>\n",
       "      <th>0</th>\n",
       "      <td>1.749286</td>\n",
       "      <td>2.247221</td>\n",
       "      <td>7.791662</td>\n",
       "      <td>0.175016</td>\n",
       "    </tr>\n",
       "    <tr>\n",
       "      <th>1</th>\n",
       "      <td>1.658312</td>\n",
       "      <td>2.142429</td>\n",
       "      <td>7.745967</td>\n",
       "      <td>0.165900</td>\n",
       "    </tr>\n",
       "    <tr>\n",
       "      <th>2</th>\n",
       "      <td>1.661325</td>\n",
       "      <td>1.957039</td>\n",
       "      <td>8.498235</td>\n",
       "      <td>0.166223</td>\n",
       "    </tr>\n",
       "    <tr>\n",
       "      <th>3</th>\n",
       "      <td>1.711724</td>\n",
       "      <td>1.649242</td>\n",
       "      <td>10.377379</td>\n",
       "      <td>0.171139</td>\n",
       "    </tr>\n",
       "    <tr>\n",
       "      <th>4</th>\n",
       "      <td>1.624808</td>\n",
       "      <td>1.568439</td>\n",
       "      <td>10.377379</td>\n",
       "      <td>0.162604</td>\n",
       "    </tr>\n",
       "  </tbody>\n",
       "</table>\n",
       "</div>"
      ],
      "text/plain": [
       "   Deaths / 100 Cases  Recovered / 100 Cases  Deaths / 100 Recovered  \\\n",
       "0            1.749286               2.247221                7.791662   \n",
       "1            1.658312               2.142429                7.745967   \n",
       "2            1.661325               1.957039                8.498235   \n",
       "3            1.711724               1.649242               10.377379   \n",
       "4            1.624808               1.568439               10.377379   \n",
       "\n",
       "   Deaths ratio  \n",
       "0      0.175016  \n",
       "1      0.165900  \n",
       "2      0.166223  \n",
       "3      0.171139  \n",
       "4      0.162604  "
      ]
     },
     "execution_count": 36,
     "metadata": {},
     "output_type": "execute_result"
    }
   ],
   "source": [
    "df_num.apply('sqrt').head()"
   ]
  },
  {
   "cell_type": "code",
   "execution_count": null,
   "id": "942a8c46",
   "metadata": {},
   "outputs": [],
   "source": []
  },
  {
   "cell_type": "markdown",
   "id": "f4e2b41e",
   "metadata": {},
   "source": [
    "### 넘파이 모듈의 함수를 사용해서 계산하기 "
   ]
  },
  {
   "cell_type": "code",
   "execution_count": 37,
   "id": "40932256",
   "metadata": {},
   "outputs": [
    {
     "data": {
      "text/html": [
       "<div>\n",
       "<style scoped>\n",
       "    .dataframe tbody tr th:only-of-type {\n",
       "        vertical-align: middle;\n",
       "    }\n",
       "\n",
       "    .dataframe tbody tr th {\n",
       "        vertical-align: top;\n",
       "    }\n",
       "\n",
       "    .dataframe thead tr th {\n",
       "        text-align: left;\n",
       "    }\n",
       "</style>\n",
       "<table border=\"1\" class=\"dataframe\">\n",
       "  <thead>\n",
       "    <tr>\n",
       "      <th></th>\n",
       "      <th colspan=\"2\" halign=\"left\">Deaths / 100 Cases</th>\n",
       "      <th colspan=\"2\" halign=\"left\">Recovered / 100 Cases</th>\n",
       "      <th colspan=\"2\" halign=\"left\">Deaths / 100 Recovered</th>\n",
       "      <th colspan=\"2\" halign=\"left\">Deaths ratio</th>\n",
       "    </tr>\n",
       "    <tr>\n",
       "      <th></th>\n",
       "      <th>sqrt</th>\n",
       "      <th>exp</th>\n",
       "      <th>sqrt</th>\n",
       "      <th>exp</th>\n",
       "      <th>sqrt</th>\n",
       "      <th>exp</th>\n",
       "      <th>sqrt</th>\n",
       "      <th>exp</th>\n",
       "    </tr>\n",
       "  </thead>\n",
       "  <tbody>\n",
       "    <tr>\n",
       "      <th>0</th>\n",
       "      <td>1.749286</td>\n",
       "      <td>21.327557</td>\n",
       "      <td>2.247221</td>\n",
       "      <td>156.022464</td>\n",
       "      <td>7.791662</td>\n",
       "      <td>2.322833e+26</td>\n",
       "      <td>0.175016</td>\n",
       "      <td>1.031105</td>\n",
       "    </tr>\n",
       "    <tr>\n",
       "      <th>1</th>\n",
       "      <td>1.658312</td>\n",
       "      <td>15.642632</td>\n",
       "      <td>2.142429</td>\n",
       "      <td>98.494430</td>\n",
       "      <td>7.745967</td>\n",
       "      <td>1.142007e+26</td>\n",
       "      <td>0.165900</td>\n",
       "      <td>1.027905</td>\n",
       "    </tr>\n",
       "    <tr>\n",
       "      <th>2</th>\n",
       "      <td>1.661325</td>\n",
       "      <td>15.799843</td>\n",
       "      <td>1.957039</td>\n",
       "      <td>46.062538</td>\n",
       "      <td>8.498235</td>\n",
       "      <td>2.316048e+31</td>\n",
       "      <td>0.166223</td>\n",
       "      <td>1.028015</td>\n",
       "    </tr>\n",
       "    <tr>\n",
       "      <th>3</th>\n",
       "      <td>1.711724</td>\n",
       "      <td>18.727630</td>\n",
       "      <td>1.649242</td>\n",
       "      <td>15.180322</td>\n",
       "      <td>10.377379</td>\n",
       "      <td>5.877231e+46</td>\n",
       "      <td>0.171139</td>\n",
       "      <td>1.029722</td>\n",
       "    </tr>\n",
       "    <tr>\n",
       "      <th>4</th>\n",
       "      <td>1.624808</td>\n",
       "      <td>14.013204</td>\n",
       "      <td>1.568439</td>\n",
       "      <td>11.704812</td>\n",
       "      <td>10.377379</td>\n",
       "      <td>5.877231e+46</td>\n",
       "      <td>0.162604</td>\n",
       "      <td>1.026793</td>\n",
       "    </tr>\n",
       "  </tbody>\n",
       "</table>\n",
       "</div>"
      ],
      "text/plain": [
       "  Deaths / 100 Cases            Recovered / 100 Cases              \\\n",
       "                sqrt        exp                  sqrt         exp   \n",
       "0           1.749286  21.327557              2.247221  156.022464   \n",
       "1           1.658312  15.642632              2.142429   98.494430   \n",
       "2           1.661325  15.799843              1.957039   46.062538   \n",
       "3           1.711724  18.727630              1.649242   15.180322   \n",
       "4           1.624808  14.013204              1.568439   11.704812   \n",
       "\n",
       "  Deaths / 100 Recovered               Deaths ratio            \n",
       "                    sqrt           exp         sqrt       exp  \n",
       "0               7.791662  2.322833e+26     0.175016  1.031105  \n",
       "1               7.745967  1.142007e+26     0.165900  1.027905  \n",
       "2               8.498235  2.316048e+31     0.166223  1.028015  \n",
       "3              10.377379  5.877231e+46     0.171139  1.029722  \n",
       "4              10.377379  5.877231e+46     0.162604  1.026793  "
      ]
     },
     "execution_count": 37,
     "metadata": {},
     "output_type": "execute_result"
    }
   ],
   "source": [
    "df_num.transform([np.sqrt, np.exp]).head()"
   ]
  },
  {
   "cell_type": "code",
   "execution_count": 38,
   "id": "d8b2a61a",
   "metadata": {},
   "outputs": [
    {
     "data": {
      "text/html": [
       "<div>\n",
       "<style scoped>\n",
       "    .dataframe tbody tr th:only-of-type {\n",
       "        vertical-align: middle;\n",
       "    }\n",
       "\n",
       "    .dataframe tbody tr th {\n",
       "        vertical-align: top;\n",
       "    }\n",
       "\n",
       "    .dataframe thead tr th {\n",
       "        text-align: left;\n",
       "    }\n",
       "</style>\n",
       "<table border=\"1\" class=\"dataframe\">\n",
       "  <thead>\n",
       "    <tr>\n",
       "      <th></th>\n",
       "      <th colspan=\"2\" halign=\"left\">Deaths / 100 Cases</th>\n",
       "      <th colspan=\"2\" halign=\"left\">Recovered / 100 Cases</th>\n",
       "      <th colspan=\"2\" halign=\"left\">Deaths / 100 Recovered</th>\n",
       "      <th colspan=\"2\" halign=\"left\">Deaths ratio</th>\n",
       "    </tr>\n",
       "    <tr>\n",
       "      <th></th>\n",
       "      <th>sqrt</th>\n",
       "      <th>exp</th>\n",
       "      <th>sqrt</th>\n",
       "      <th>exp</th>\n",
       "      <th>sqrt</th>\n",
       "      <th>exp</th>\n",
       "      <th>sqrt</th>\n",
       "      <th>exp</th>\n",
       "    </tr>\n",
       "  </thead>\n",
       "  <tbody>\n",
       "    <tr>\n",
       "      <th>0</th>\n",
       "      <td>1.749286</td>\n",
       "      <td>21.327557</td>\n",
       "      <td>2.247221</td>\n",
       "      <td>156.022464</td>\n",
       "      <td>7.791662</td>\n",
       "      <td>2.322833e+26</td>\n",
       "      <td>0.175016</td>\n",
       "      <td>1.031105</td>\n",
       "    </tr>\n",
       "    <tr>\n",
       "      <th>1</th>\n",
       "      <td>1.658312</td>\n",
       "      <td>15.642632</td>\n",
       "      <td>2.142429</td>\n",
       "      <td>98.494430</td>\n",
       "      <td>7.745967</td>\n",
       "      <td>1.142007e+26</td>\n",
       "      <td>0.165900</td>\n",
       "      <td>1.027905</td>\n",
       "    </tr>\n",
       "    <tr>\n",
       "      <th>2</th>\n",
       "      <td>1.661325</td>\n",
       "      <td>15.799843</td>\n",
       "      <td>1.957039</td>\n",
       "      <td>46.062538</td>\n",
       "      <td>8.498235</td>\n",
       "      <td>2.316048e+31</td>\n",
       "      <td>0.166223</td>\n",
       "      <td>1.028015</td>\n",
       "    </tr>\n",
       "    <tr>\n",
       "      <th>3</th>\n",
       "      <td>1.711724</td>\n",
       "      <td>18.727630</td>\n",
       "      <td>1.649242</td>\n",
       "      <td>15.180322</td>\n",
       "      <td>10.377379</td>\n",
       "      <td>5.877231e+46</td>\n",
       "      <td>0.171139</td>\n",
       "      <td>1.029722</td>\n",
       "    </tr>\n",
       "    <tr>\n",
       "      <th>4</th>\n",
       "      <td>1.624808</td>\n",
       "      <td>14.013204</td>\n",
       "      <td>1.568439</td>\n",
       "      <td>11.704812</td>\n",
       "      <td>10.377379</td>\n",
       "      <td>5.877231e+46</td>\n",
       "      <td>0.162604</td>\n",
       "      <td>1.026793</td>\n",
       "    </tr>\n",
       "  </tbody>\n",
       "</table>\n",
       "</div>"
      ],
      "text/plain": [
       "  Deaths / 100 Cases            Recovered / 100 Cases              \\\n",
       "                sqrt        exp                  sqrt         exp   \n",
       "0           1.749286  21.327557              2.247221  156.022464   \n",
       "1           1.658312  15.642632              2.142429   98.494430   \n",
       "2           1.661325  15.799843              1.957039   46.062538   \n",
       "3           1.711724  18.727630              1.649242   15.180322   \n",
       "4           1.624808  14.013204              1.568439   11.704812   \n",
       "\n",
       "  Deaths / 100 Recovered               Deaths ratio            \n",
       "                    sqrt           exp         sqrt       exp  \n",
       "0               7.791662  2.322833e+26     0.175016  1.031105  \n",
       "1               7.745967  1.142007e+26     0.165900  1.027905  \n",
       "2               8.498235  2.316048e+31     0.166223  1.028015  \n",
       "3              10.377379  5.877231e+46     0.171139  1.029722  \n",
       "4              10.377379  5.877231e+46     0.162604  1.026793  "
      ]
     },
     "execution_count": 38,
     "metadata": {},
     "output_type": "execute_result"
    }
   ],
   "source": [
    "df_num.apply([np.sqrt, np.exp]).head()"
   ]
  },
  {
   "cell_type": "code",
   "execution_count": null,
   "id": "48c273ed",
   "metadata": {},
   "outputs": [],
   "source": []
  },
  {
   "cell_type": "markdown",
   "id": "1a31bd04",
   "metadata": {},
   "source": [
    "### 특정 칼럼별로 함수를 지정해서 딕셔너리로 전달하기 "
   ]
  },
  {
   "cell_type": "code",
   "execution_count": 39,
   "id": "61af3ac1",
   "metadata": {},
   "outputs": [
    {
     "data": {
      "text/html": [
       "<div>\n",
       "<style scoped>\n",
       "    .dataframe tbody tr th:only-of-type {\n",
       "        vertical-align: middle;\n",
       "    }\n",
       "\n",
       "    .dataframe tbody tr th {\n",
       "        vertical-align: top;\n",
       "    }\n",
       "\n",
       "    .dataframe thead th {\n",
       "        text-align: right;\n",
       "    }\n",
       "</style>\n",
       "<table border=\"1\" class=\"dataframe\">\n",
       "  <thead>\n",
       "    <tr style=\"text-align: right;\">\n",
       "      <th></th>\n",
       "      <th>Deaths / 100 Cases</th>\n",
       "      <th>Recovered / 100 Cases</th>\n",
       "    </tr>\n",
       "  </thead>\n",
       "  <tbody>\n",
       "    <tr>\n",
       "      <th>0</th>\n",
       "      <td>1.749286</td>\n",
       "      <td>156.022464</td>\n",
       "    </tr>\n",
       "    <tr>\n",
       "      <th>1</th>\n",
       "      <td>1.658312</td>\n",
       "      <td>98.494430</td>\n",
       "    </tr>\n",
       "    <tr>\n",
       "      <th>2</th>\n",
       "      <td>1.661325</td>\n",
       "      <td>46.062538</td>\n",
       "    </tr>\n",
       "    <tr>\n",
       "      <th>3</th>\n",
       "      <td>1.711724</td>\n",
       "      <td>15.180322</td>\n",
       "    </tr>\n",
       "    <tr>\n",
       "      <th>4</th>\n",
       "      <td>1.624808</td>\n",
       "      <td>11.704812</td>\n",
       "    </tr>\n",
       "  </tbody>\n",
       "</table>\n",
       "</div>"
      ],
      "text/plain": [
       "   Deaths / 100 Cases  Recovered / 100 Cases\n",
       "0            1.749286             156.022464\n",
       "1            1.658312              98.494430\n",
       "2            1.661325              46.062538\n",
       "3            1.711724              15.180322\n",
       "4            1.624808              11.704812"
      ]
     },
     "execution_count": 39,
     "metadata": {},
     "output_type": "execute_result"
    }
   ],
   "source": [
    "df_num.transform({\n",
    "    'Deaths / 100 Cases': np.sqrt,\n",
    "    'Recovered / 100 Cases': np.exp,\n",
    "}).head()"
   ]
  },
  {
   "cell_type": "code",
   "execution_count": 40,
   "id": "22ed512e",
   "metadata": {},
   "outputs": [
    {
     "data": {
      "text/html": [
       "<div>\n",
       "<style scoped>\n",
       "    .dataframe tbody tr th:only-of-type {\n",
       "        vertical-align: middle;\n",
       "    }\n",
       "\n",
       "    .dataframe tbody tr th {\n",
       "        vertical-align: top;\n",
       "    }\n",
       "\n",
       "    .dataframe thead th {\n",
       "        text-align: right;\n",
       "    }\n",
       "</style>\n",
       "<table border=\"1\" class=\"dataframe\">\n",
       "  <thead>\n",
       "    <tr style=\"text-align: right;\">\n",
       "      <th></th>\n",
       "      <th>Deaths / 100 Cases</th>\n",
       "      <th>Recovered / 100 Cases</th>\n",
       "    </tr>\n",
       "  </thead>\n",
       "  <tbody>\n",
       "    <tr>\n",
       "      <th>0</th>\n",
       "      <td>1.749286</td>\n",
       "      <td>156.022464</td>\n",
       "    </tr>\n",
       "    <tr>\n",
       "      <th>1</th>\n",
       "      <td>1.658312</td>\n",
       "      <td>98.494430</td>\n",
       "    </tr>\n",
       "    <tr>\n",
       "      <th>2</th>\n",
       "      <td>1.661325</td>\n",
       "      <td>46.062538</td>\n",
       "    </tr>\n",
       "    <tr>\n",
       "      <th>3</th>\n",
       "      <td>1.711724</td>\n",
       "      <td>15.180322</td>\n",
       "    </tr>\n",
       "    <tr>\n",
       "      <th>4</th>\n",
       "      <td>1.624808</td>\n",
       "      <td>11.704812</td>\n",
       "    </tr>\n",
       "  </tbody>\n",
       "</table>\n",
       "</div>"
      ],
      "text/plain": [
       "   Deaths / 100 Cases  Recovered / 100 Cases\n",
       "0            1.749286             156.022464\n",
       "1            1.658312              98.494430\n",
       "2            1.661325              46.062538\n",
       "3            1.711724              15.180322\n",
       "4            1.624808              11.704812"
      ]
     },
     "execution_count": 40,
     "metadata": {},
     "output_type": "execute_result"
    }
   ],
   "source": [
    "df_num.apply({\n",
    "    'Deaths / 100 Cases': np.sqrt,\n",
    "    'Recovered / 100 Cases': np.exp,\n",
    "}).head()"
   ]
  },
  {
   "cell_type": "markdown",
   "id": "734682a6",
   "metadata": {},
   "source": [
    "## 4-2 특정함수를 지정해서 처리하기"
   ]
  },
  {
   "cell_type": "markdown",
   "id": "4a18bf7e",
   "metadata": {},
   "source": [
    "### 람다함수로 처리하기 "
   ]
  },
  {
   "cell_type": "code",
   "execution_count": 41,
   "id": "5afdf2ef",
   "metadata": {},
   "outputs": [
    {
     "data": {
      "text/plain": [
       "Deaths / 100 Cases         913.80000\n",
       "Recovered / 100 Cases     6456.66000\n",
       "Deaths / 100 Recovered    4155.65000\n",
       "Deaths ratio                 9.13825\n",
       "dtype: float64"
      ]
     },
     "execution_count": 41,
     "metadata": {},
     "output_type": "execute_result"
    }
   ],
   "source": [
    "df_num.apply(lambda x:x.sum())"
   ]
  },
  {
   "cell_type": "markdown",
   "id": "502be7d1",
   "metadata": {},
   "source": [
    "### transform은 데이터프레임단위로 출력해서 예외발생\n",
    "\n",
    "-  "
   ]
  },
  {
   "cell_type": "code",
   "execution_count": 42,
   "id": "c318eea7",
   "metadata": {},
   "outputs": [
    {
     "name": "stdout",
     "output_type": "stream",
     "text": [
      "Function did not transform\n"
     ]
    }
   ],
   "source": [
    "try : \n",
    "    df_num.transform(lambda x:x.sum())\n",
    "except ValueError as e :\n",
    "    print(e)"
   ]
  },
  {
   "cell_type": "markdown",
   "id": "d70a18e3",
   "metadata": {},
   "source": [
    "### 두 개의 칼럼(시리즈) 간의 함수 연산 처리하기 "
   ]
  },
  {
   "cell_type": "code",
   "execution_count": 43,
   "id": "57b34853",
   "metadata": {},
   "outputs": [],
   "source": [
    "def subtract_two(x):\n",
    "    return x['Deaths / 100 Cases'] - x['Recovered / 100 Cases']"
   ]
  },
  {
   "cell_type": "code",
   "execution_count": 44,
   "id": "83202fde",
   "metadata": {},
   "outputs": [
    {
     "data": {
      "text/plain": [
       "0      -1.99\n",
       "1      -1.84\n",
       "2      -1.07\n",
       "3       0.21\n",
       "4       0.18\n",
       "       ...  \n",
       "183   -52.08\n",
       "184   -52.56\n",
       "185   -53.05\n",
       "186   -53.19\n",
       "187   -53.48\n",
       "Length: 188, dtype: float64"
      ]
     },
     "execution_count": 44,
     "metadata": {},
     "output_type": "execute_result"
    }
   ],
   "source": [
    "df_num.apply(subtract_two, axis=1)"
   ]
  },
  {
   "cell_type": "markdown",
   "id": "b8c8c840",
   "metadata": {},
   "source": [
    "### 한 번에 하나의 시리즈에서만 작업할 수 있기 때문에  예외 발생 "
   ]
  },
  {
   "cell_type": "code",
   "execution_count": 45,
   "id": "417bd695",
   "metadata": {},
   "outputs": [
    {
     "name": "stdout",
     "output_type": "stream",
     "text": [
      "Function did not transform\n"
     ]
    }
   ],
   "source": [
    "try :\n",
    "    df_num.transform(subtract_two, axis=1)\n",
    "except ValueError as e :\n",
    "    print(e)"
   ]
  },
  {
   "cell_type": "code",
   "execution_count": null,
   "id": "4875796a",
   "metadata": {},
   "outputs": [],
   "source": []
  }
 ],
 "metadata": {
  "kernelspec": {
   "display_name": "Python 3 (ipykernel)",
   "language": "python",
   "name": "python3"
  },
  "language_info": {
   "codemirror_mode": {
    "name": "ipython",
    "version": 3
   },
   "file_extension": ".py",
   "mimetype": "text/x-python",
   "name": "python",
   "nbconvert_exporter": "python",
   "pygments_lexer": "ipython3",
   "version": "3.9.16"
  }
 },
 "nbformat": 4,
 "nbformat_minor": 5
}
