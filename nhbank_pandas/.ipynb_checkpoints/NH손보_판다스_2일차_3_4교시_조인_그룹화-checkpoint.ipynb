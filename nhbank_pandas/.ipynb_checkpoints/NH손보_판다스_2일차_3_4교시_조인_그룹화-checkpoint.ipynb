{
 "cells": [
  {
   "cell_type": "markdown",
   "id": "d1a01adf",
   "metadata": {},
   "source": [
    "# 2. 판다스 기본 함수 처리 "
   ]
  },
  {
   "cell_type": "markdown",
   "id": "0a5e156a",
   "metadata": {},
   "source": [
    "### 판다스 모듈 불러오기"
   ]
  },
  {
   "cell_type": "code",
   "execution_count": 2,
   "id": "09d38b47",
   "metadata": {},
   "outputs": [],
   "source": [
    "import pandas as pd"
   ]
  },
  {
   "cell_type": "markdown",
   "id": "57d42a54",
   "metadata": {},
   "source": [
    "### 데이터 위치 지정하기 \n",
    "\n",
    "-  data 디렉토리는 현재 ipynb 파일보다 상위에 있어서 .. (상위 접근 표시)를 사용해서 지정"
   ]
  },
  {
   "cell_type": "code",
   "execution_count": 3,
   "id": "dd07350e",
   "metadata": {},
   "outputs": [],
   "source": [
    "csv_path = \"../data/diabetic_data_new.csv\""
   ]
  },
  {
   "cell_type": "markdown",
   "id": "d73666b9",
   "metadata": {},
   "source": [
    "### 파일 읽기 \n",
    "\n",
    "- read_csv 함수를 사용해서 읽기"
   ]
  },
  {
   "cell_type": "code",
   "execution_count": 4,
   "id": "a11e9305",
   "metadata": {},
   "outputs": [],
   "source": [
    "df = pd.read_csv(csv_path)"
   ]
  },
  {
   "cell_type": "markdown",
   "id": "7800d718",
   "metadata": {},
   "source": [
    "### 데이터의 값들을 확인하기 "
   ]
  },
  {
   "cell_type": "code",
   "execution_count": 5,
   "id": "5b2a41a7",
   "metadata": {},
   "outputs": [
    {
     "data": {
      "text/html": [
       "<div>\n",
       "<style scoped>\n",
       "    .dataframe tbody tr th:only-of-type {\n",
       "        vertical-align: middle;\n",
       "    }\n",
       "\n",
       "    .dataframe tbody tr th {\n",
       "        vertical-align: top;\n",
       "    }\n",
       "\n",
       "    .dataframe thead th {\n",
       "        text-align: right;\n",
       "    }\n",
       "</style>\n",
       "<table border=\"1\" class=\"dataframe\">\n",
       "  <thead>\n",
       "    <tr style=\"text-align: right;\">\n",
       "      <th></th>\n",
       "      <th>encounter_id</th>\n",
       "      <th>patient_nbr</th>\n",
       "      <th>race</th>\n",
       "      <th>gender</th>\n",
       "      <th>age</th>\n",
       "      <th>weight</th>\n",
       "      <th>admission_type_id</th>\n",
       "      <th>discharge_disposition_id</th>\n",
       "      <th>admission_source_id</th>\n",
       "      <th>time_in_hospital</th>\n",
       "      <th>...</th>\n",
       "      <th>citoglipton</th>\n",
       "      <th>insulin</th>\n",
       "      <th>glyburide_metformin</th>\n",
       "      <th>glipizide_metformin</th>\n",
       "      <th>glimepiride_pioglitazone</th>\n",
       "      <th>metformin_rosiglitazone</th>\n",
       "      <th>metformin_pioglitazone</th>\n",
       "      <th>change</th>\n",
       "      <th>diabetesMed</th>\n",
       "      <th>readmitted</th>\n",
       "    </tr>\n",
       "  </thead>\n",
       "  <tbody>\n",
       "    <tr>\n",
       "      <th>0</th>\n",
       "      <td>2278392</td>\n",
       "      <td>8222157</td>\n",
       "      <td>Caucasian</td>\n",
       "      <td>Female</td>\n",
       "      <td>[0-10)</td>\n",
       "      <td>?</td>\n",
       "      <td>6</td>\n",
       "      <td>25</td>\n",
       "      <td>1</td>\n",
       "      <td>1</td>\n",
       "      <td>...</td>\n",
       "      <td>No</td>\n",
       "      <td>No</td>\n",
       "      <td>No</td>\n",
       "      <td>No</td>\n",
       "      <td>No</td>\n",
       "      <td>No</td>\n",
       "      <td>No</td>\n",
       "      <td>No</td>\n",
       "      <td>No</td>\n",
       "      <td>NO</td>\n",
       "    </tr>\n",
       "    <tr>\n",
       "      <th>1</th>\n",
       "      <td>149190</td>\n",
       "      <td>55629189</td>\n",
       "      <td>Caucasian</td>\n",
       "      <td>Female</td>\n",
       "      <td>[10-20)</td>\n",
       "      <td>?</td>\n",
       "      <td>1</td>\n",
       "      <td>1</td>\n",
       "      <td>7</td>\n",
       "      <td>3</td>\n",
       "      <td>...</td>\n",
       "      <td>No</td>\n",
       "      <td>Up</td>\n",
       "      <td>No</td>\n",
       "      <td>No</td>\n",
       "      <td>No</td>\n",
       "      <td>No</td>\n",
       "      <td>No</td>\n",
       "      <td>Ch</td>\n",
       "      <td>Yes</td>\n",
       "      <td>&gt;30</td>\n",
       "    </tr>\n",
       "    <tr>\n",
       "      <th>2</th>\n",
       "      <td>64410</td>\n",
       "      <td>86047875</td>\n",
       "      <td>AfricanAmerican</td>\n",
       "      <td>Female</td>\n",
       "      <td>[20-30)</td>\n",
       "      <td>?</td>\n",
       "      <td>1</td>\n",
       "      <td>1</td>\n",
       "      <td>7</td>\n",
       "      <td>2</td>\n",
       "      <td>...</td>\n",
       "      <td>No</td>\n",
       "      <td>No</td>\n",
       "      <td>No</td>\n",
       "      <td>No</td>\n",
       "      <td>No</td>\n",
       "      <td>No</td>\n",
       "      <td>No</td>\n",
       "      <td>No</td>\n",
       "      <td>Yes</td>\n",
       "      <td>NO</td>\n",
       "    </tr>\n",
       "    <tr>\n",
       "      <th>3</th>\n",
       "      <td>500364</td>\n",
       "      <td>82442376</td>\n",
       "      <td>Caucasian</td>\n",
       "      <td>Male</td>\n",
       "      <td>[30-40)</td>\n",
       "      <td>?</td>\n",
       "      <td>1</td>\n",
       "      <td>1</td>\n",
       "      <td>7</td>\n",
       "      <td>2</td>\n",
       "      <td>...</td>\n",
       "      <td>No</td>\n",
       "      <td>Up</td>\n",
       "      <td>No</td>\n",
       "      <td>No</td>\n",
       "      <td>No</td>\n",
       "      <td>No</td>\n",
       "      <td>No</td>\n",
       "      <td>Ch</td>\n",
       "      <td>Yes</td>\n",
       "      <td>NO</td>\n",
       "    </tr>\n",
       "    <tr>\n",
       "      <th>4</th>\n",
       "      <td>16680</td>\n",
       "      <td>42519267</td>\n",
       "      <td>Caucasian</td>\n",
       "      <td>Male</td>\n",
       "      <td>[40-50)</td>\n",
       "      <td>?</td>\n",
       "      <td>1</td>\n",
       "      <td>1</td>\n",
       "      <td>7</td>\n",
       "      <td>1</td>\n",
       "      <td>...</td>\n",
       "      <td>No</td>\n",
       "      <td>Steady</td>\n",
       "      <td>No</td>\n",
       "      <td>No</td>\n",
       "      <td>No</td>\n",
       "      <td>No</td>\n",
       "      <td>No</td>\n",
       "      <td>Ch</td>\n",
       "      <td>Yes</td>\n",
       "      <td>NO</td>\n",
       "    </tr>\n",
       "  </tbody>\n",
       "</table>\n",
       "<p>5 rows × 50 columns</p>\n",
       "</div>"
      ],
      "text/plain": [
       "   encounter_id  patient_nbr             race  gender      age weight  \\\n",
       "0       2278392      8222157        Caucasian  Female   [0-10)      ?   \n",
       "1        149190     55629189        Caucasian  Female  [10-20)      ?   \n",
       "2         64410     86047875  AfricanAmerican  Female  [20-30)      ?   \n",
       "3        500364     82442376        Caucasian    Male  [30-40)      ?   \n",
       "4         16680     42519267        Caucasian    Male  [40-50)      ?   \n",
       "\n",
       "   admission_type_id  discharge_disposition_id  admission_source_id  \\\n",
       "0                  6                        25                    1   \n",
       "1                  1                         1                    7   \n",
       "2                  1                         1                    7   \n",
       "3                  1                         1                    7   \n",
       "4                  1                         1                    7   \n",
       "\n",
       "   time_in_hospital  ... citoglipton insulin  glyburide_metformin  \\\n",
       "0                 1  ...          No      No                   No   \n",
       "1                 3  ...          No      Up                   No   \n",
       "2                 2  ...          No      No                   No   \n",
       "3                 2  ...          No      Up                   No   \n",
       "4                 1  ...          No  Steady                   No   \n",
       "\n",
       "   glipizide_metformin  glimepiride_pioglitazone  metformin_rosiglitazone  \\\n",
       "0                   No                        No                       No   \n",
       "1                   No                        No                       No   \n",
       "2                   No                        No                       No   \n",
       "3                   No                        No                       No   \n",
       "4                   No                        No                       No   \n",
       "\n",
       "   metformin_pioglitazone  change diabetesMed readmitted  \n",
       "0                      No      No          No         NO  \n",
       "1                      No      Ch         Yes        >30  \n",
       "2                      No      No         Yes         NO  \n",
       "3                      No      Ch         Yes         NO  \n",
       "4                      No      Ch         Yes         NO  \n",
       "\n",
       "[5 rows x 50 columns]"
      ]
     },
     "execution_count": 5,
     "metadata": {},
     "output_type": "execute_result"
    }
   ],
   "source": [
    "df.head()"
   ]
  },
  {
   "cell_type": "markdown",
   "id": "1caa011c",
   "metadata": {},
   "source": [
    "### 데이터의 칼럼 등을 확인하기 "
   ]
  },
  {
   "cell_type": "code",
   "execution_count": 6,
   "id": "dc6c27ed",
   "metadata": {},
   "outputs": [
    {
     "data": {
      "text/plain": [
       "Index(['encounter_id', 'patient_nbr', 'race', 'gender', 'age', 'weight',\n",
       "       'admission_type_id', 'discharge_disposition_id', 'admission_source_id',\n",
       "       'time_in_hospital', 'payer_code', 'medical_specialty',\n",
       "       'num_lab_procedures', 'num_procedures', 'num_medications',\n",
       "       'number_outpatient', 'number_emergency', 'number_inpatient', 'diag_1',\n",
       "       'diag_2', 'diag_3', 'number_diagnoses', 'max_glu_serum', 'A1Cresult',\n",
       "       'metformin', 'repaglinide', 'nateglinide', 'chlorpropamide',\n",
       "       'glimepiride', 'acetohexamide', 'glipizide', 'glyburide', 'tolbutamide',\n",
       "       'pioglitazone', 'rosiglitazone', 'acarbose', 'miglitol', 'troglitazone',\n",
       "       'tolazamide', 'examide', 'citoglipton', 'insulin',\n",
       "       'glyburide_metformin', 'glipizide_metformin',\n",
       "       'glimepiride_pioglitazone', 'metformin_rosiglitazone',\n",
       "       'metformin_pioglitazone', 'change', 'diabetesMed', 'readmitted'],\n",
       "      dtype='object')"
      ]
     },
     "execution_count": 6,
     "metadata": {},
     "output_type": "execute_result"
    }
   ],
   "source": [
    "df.columns"
   ]
  },
  {
   "cell_type": "markdown",
   "id": "4907ea8e",
   "metadata": {},
   "source": [
    "### 데이터의 정보 확인하기 "
   ]
  },
  {
   "cell_type": "code",
   "execution_count": 7,
   "id": "d10e934b",
   "metadata": {},
   "outputs": [
    {
     "name": "stdout",
     "output_type": "stream",
     "text": [
      "<class 'pandas.core.frame.DataFrame'>\n",
      "RangeIndex: 101766 entries, 0 to 101765\n",
      "Data columns (total 50 columns):\n",
      " #   Column                    Non-Null Count   Dtype \n",
      "---  ------                    --------------   ----- \n",
      " 0   encounter_id              101766 non-null  int64 \n",
      " 1   patient_nbr               101766 non-null  int64 \n",
      " 2   race                      101766 non-null  object\n",
      " 3   gender                    101766 non-null  object\n",
      " 4   age                       101766 non-null  object\n",
      " 5   weight                    101766 non-null  object\n",
      " 6   admission_type_id         101766 non-null  int64 \n",
      " 7   discharge_disposition_id  101766 non-null  int64 \n",
      " 8   admission_source_id       101766 non-null  int64 \n",
      " 9   time_in_hospital          101766 non-null  int64 \n",
      " 10  payer_code                101766 non-null  object\n",
      " 11  medical_specialty         101766 non-null  object\n",
      " 12  num_lab_procedures        101766 non-null  int64 \n",
      " 13  num_procedures            101766 non-null  int64 \n",
      " 14  num_medications           101766 non-null  int64 \n",
      " 15  number_outpatient         101766 non-null  int64 \n",
      " 16  number_emergency          101766 non-null  int64 \n",
      " 17  number_inpatient          101766 non-null  int64 \n",
      " 18  diag_1                    101766 non-null  object\n",
      " 19  diag_2                    101766 non-null  object\n",
      " 20  diag_3                    101766 non-null  object\n",
      " 21  number_diagnoses          101766 non-null  int64 \n",
      " 22  max_glu_serum             101766 non-null  object\n",
      " 23  A1Cresult                 101766 non-null  object\n",
      " 24  metformin                 101766 non-null  object\n",
      " 25  repaglinide               101766 non-null  object\n",
      " 26  nateglinide               101766 non-null  object\n",
      " 27  chlorpropamide            101766 non-null  object\n",
      " 28  glimepiride               101766 non-null  object\n",
      " 29  acetohexamide             101766 non-null  object\n",
      " 30  glipizide                 101766 non-null  object\n",
      " 31  glyburide                 101766 non-null  object\n",
      " 32  tolbutamide               101766 non-null  object\n",
      " 33  pioglitazone              101766 non-null  object\n",
      " 34  rosiglitazone             101766 non-null  object\n",
      " 35  acarbose                  101766 non-null  object\n",
      " 36  miglitol                  101766 non-null  object\n",
      " 37  troglitazone              101766 non-null  object\n",
      " 38  tolazamide                101766 non-null  object\n",
      " 39  examide                   101766 non-null  object\n",
      " 40  citoglipton               101766 non-null  object\n",
      " 41  insulin                   101766 non-null  object\n",
      " 42  glyburide_metformin       101766 non-null  object\n",
      " 43  glipizide_metformin       101766 non-null  object\n",
      " 44  glimepiride_pioglitazone  101766 non-null  object\n",
      " 45  metformin_rosiglitazone   101766 non-null  object\n",
      " 46  metformin_pioglitazone    101766 non-null  object\n",
      " 47  change                    101766 non-null  object\n",
      " 48  diabetesMed               101766 non-null  object\n",
      " 49  readmitted                101766 non-null  object\n",
      "dtypes: int64(13), object(37)\n",
      "memory usage: 38.8+ MB\n"
     ]
    }
   ],
   "source": [
    "df.info()"
   ]
  },
  {
   "cell_type": "markdown",
   "id": "fa973bfc",
   "metadata": {},
   "source": [
    "## 2-1 데이터 준비하기\n",
    "\n",
    "- 다른 파일을 읽어서 하나의 파일로 만들기\n",
    "- 보통 다른 데이터프레임을 읽어서 동일한 값을 가진 필드로 결합하기 "
   ]
  },
  {
   "cell_type": "markdown",
   "id": "424186a9",
   "metadata": {},
   "source": [
    "## 두 개의 데이터프레임으로 분리\n",
    "\n",
    "- left : lll\n",
    "- right : rrr\n",
    "- 결합할 수 있는 값은 encounter_id "
   ]
  },
  {
   "cell_type": "markdown",
   "id": "ea398c23",
   "metadata": {},
   "source": [
    "### 분리할 칼럼을 리스트로 지정한다"
   ]
  },
  {
   "cell_type": "code",
   "execution_count": 8,
   "id": "97642d28",
   "metadata": {},
   "outputs": [],
   "source": [
    "lll = ['encounter_id', 'patient_nbr', 'race', 'gender', 'age', 'weight',\n",
    "       'admission_type_id', 'discharge_disposition_id', 'admission_source_id',\n",
    "       'time_in_hospital', 'payer_code', 'medical_specialty',\n",
    "       'num_lab_procedures', 'num_procedures', 'num_medications',\n",
    "       'number_outpatient', 'number_emergency', 'number_inpatient', 'diag_1',\n",
    "       'diag_2', 'diag_3', 'number_diagnoses', 'max_glu_serum',  'change', 'diabetesMed', 'readmitted']"
   ]
  },
  {
   "cell_type": "code",
   "execution_count": 9,
   "id": "25a374ad",
   "metadata": {},
   "outputs": [],
   "source": [
    "rrr = ['encounter_id', 'patient_nbr','A1Cresult',\n",
    "       'metformin', 'repaglinide', 'nateglinide', 'chlorpropamide',\n",
    "       'glimepiride', 'acetohexamide', 'glipizide', 'glyburide', 'tolbutamide',\n",
    "       'pioglitazone', 'rosiglitazone', 'acarbose', 'miglitol', 'troglitazone',\n",
    "       'tolazamide', 'examide', 'citoglipton', 'insulin',\n",
    "       'glyburide_metformin', 'glipizide_metformin',\n",
    "       'glimepiride_pioglitazone', 'metformin_rosiglitazone',\n",
    "       'metformin_pioglitazone',]"
   ]
  },
  {
   "cell_type": "markdown",
   "id": "e3fea025",
   "metadata": {},
   "source": [
    "### 데이터을 읽고 복사해서 다른 데이터프레임을 만든다"
   ]
  },
  {
   "cell_type": "code",
   "execution_count": 10,
   "id": "d74e1c63",
   "metadata": {},
   "outputs": [],
   "source": [
    "df_right = df[rrr].copy()"
   ]
  },
  {
   "cell_type": "code",
   "execution_count": 11,
   "id": "778c4f6f",
   "metadata": {},
   "outputs": [],
   "source": [
    "df_left = df[lll].copy()"
   ]
  },
  {
   "cell_type": "markdown",
   "id": "65bc6a28",
   "metadata": {},
   "source": [
    "### 제대로 분리되었는지 확인한다. "
   ]
  },
  {
   "cell_type": "code",
   "execution_count": 12,
   "id": "4ab4329b",
   "metadata": {},
   "outputs": [
    {
     "data": {
      "text/plain": [
       "Index(['encounter_id', 'patient_nbr', 'A1Cresult', 'metformin', 'repaglinide',\n",
       "       'nateglinide', 'chlorpropamide', 'glimepiride', 'acetohexamide',\n",
       "       'glipizide', 'glyburide', 'tolbutamide', 'pioglitazone',\n",
       "       'rosiglitazone', 'acarbose', 'miglitol', 'troglitazone', 'tolazamide',\n",
       "       'examide', 'citoglipton', 'insulin', 'glyburide_metformin',\n",
       "       'glipizide_metformin', 'glimepiride_pioglitazone',\n",
       "       'metformin_rosiglitazone', 'metformin_pioglitazone'],\n",
       "      dtype='object')"
      ]
     },
     "execution_count": 12,
     "metadata": {},
     "output_type": "execute_result"
    }
   ],
   "source": [
    "df_right.columns"
   ]
  },
  {
   "cell_type": "code",
   "execution_count": 13,
   "id": "201c8554",
   "metadata": {},
   "outputs": [
    {
     "data": {
      "text/plain": [
       "Index(['encounter_id', 'patient_nbr', 'race', 'gender', 'age', 'weight',\n",
       "       'admission_type_id', 'discharge_disposition_id', 'admission_source_id',\n",
       "       'time_in_hospital', 'payer_code', 'medical_specialty',\n",
       "       'num_lab_procedures', 'num_procedures', 'num_medications',\n",
       "       'number_outpatient', 'number_emergency', 'number_inpatient', 'diag_1',\n",
       "       'diag_2', 'diag_3', 'number_diagnoses', 'max_glu_serum', 'change',\n",
       "       'diabetesMed', 'readmitted'],\n",
       "      dtype='object')"
      ]
     },
     "execution_count": 13,
     "metadata": {},
     "output_type": "execute_result"
    }
   ],
   "source": [
    "df_left.columns"
   ]
  },
  {
   "cell_type": "markdown",
   "id": "e84453b9",
   "metadata": {},
   "source": [
    "## 2-2  데이터 단순하게 결합하기\n",
    "\n",
    "- concat 으로 결합하기 "
   ]
  },
  {
   "cell_type": "markdown",
   "id": "4e6371c7",
   "metadata": {},
   "source": [
    "## 데이터 합치기 \n",
    "\n",
    "![](../image/데이터합치기.png)"
   ]
  },
  {
   "cell_type": "markdown",
   "id": "8c4d2b43",
   "metadata": {},
   "source": [
    "### 겹치는 칼럼을 제거하기 "
   ]
  },
  {
   "cell_type": "code",
   "execution_count": 14,
   "id": "2cf85e5e",
   "metadata": {},
   "outputs": [
    {
     "data": {
      "text/plain": [
       "encounter_id    True\n",
       "patient_nbr     True\n",
       "dtype: bool"
      ]
     },
     "execution_count": 14,
     "metadata": {},
     "output_type": "execute_result"
    }
   ],
   "source": [
    "(df_right[['encounter_id', 'patient_nbr']] == df_left[['encounter_id', 'patient_nbr']]).all()"
   ]
  },
  {
   "cell_type": "markdown",
   "id": "2c52b982",
   "metadata": {},
   "source": [
    "### 데이터프레임의 두 개의 칼럼을 제외한다. "
   ]
  },
  {
   "cell_type": "code",
   "execution_count": 15,
   "id": "b0315ed0",
   "metadata": {},
   "outputs": [
    {
     "data": {
      "text/plain": [
       "Index(['race', 'gender', 'age', 'weight', 'admission_type_id',\n",
       "       'discharge_disposition_id', 'admission_source_id', 'time_in_hospital',\n",
       "       'payer_code', 'medical_specialty', 'num_lab_procedures',\n",
       "       'num_procedures', 'num_medications', 'number_outpatient',\n",
       "       'number_emergency', 'number_inpatient', 'diag_1', 'diag_2', 'diag_3',\n",
       "       'number_diagnoses', 'max_glu_serum', 'change', 'diabetesMed',\n",
       "       'readmitted'],\n",
       "      dtype='object')"
      ]
     },
     "execution_count": 15,
     "metadata": {},
     "output_type": "execute_result"
    }
   ],
   "source": [
    "df_left.columns[2:]"
   ]
  },
  {
   "cell_type": "markdown",
   "id": "a8a82511",
   "metadata": {},
   "source": [
    "### 두 개의 데이터프레임을 결합한다.  \n"
   ]
  },
  {
   "cell_type": "code",
   "execution_count": 16,
   "id": "5847c41b",
   "metadata": {},
   "outputs": [],
   "source": [
    "df_concat = pd.concat([df_right,df_left[df_left.columns[2:]]],axis=1,  join='inner')"
   ]
  },
  {
   "cell_type": "code",
   "execution_count": 17,
   "id": "9fd635b7",
   "metadata": {},
   "outputs": [
    {
     "data": {
      "text/plain": [
       "Index(['encounter_id', 'patient_nbr', 'A1Cresult', 'metformin', 'repaglinide',\n",
       "       'nateglinide', 'chlorpropamide', 'glimepiride', 'acetohexamide',\n",
       "       'glipizide', 'glyburide', 'tolbutamide', 'pioglitazone',\n",
       "       'rosiglitazone', 'acarbose', 'miglitol', 'troglitazone', 'tolazamide',\n",
       "       'examide', 'citoglipton', 'insulin', 'glyburide_metformin',\n",
       "       'glipizide_metformin', 'glimepiride_pioglitazone',\n",
       "       'metformin_rosiglitazone', 'metformin_pioglitazone', 'race', 'gender',\n",
       "       'age', 'weight', 'admission_type_id', 'discharge_disposition_id',\n",
       "       'admission_source_id', 'time_in_hospital', 'payer_code',\n",
       "       'medical_specialty', 'num_lab_procedures', 'num_procedures',\n",
       "       'num_medications', 'number_outpatient', 'number_emergency',\n",
       "       'number_inpatient', 'diag_1', 'diag_2', 'diag_3', 'number_diagnoses',\n",
       "       'max_glu_serum', 'change', 'diabetesMed', 'readmitted'],\n",
       "      dtype='object')"
      ]
     },
     "execution_count": 17,
     "metadata": {},
     "output_type": "execute_result"
    }
   ],
   "source": [
    "df_concat.columns"
   ]
  },
  {
   "cell_type": "code",
   "execution_count": 18,
   "id": "ccd3ca4c",
   "metadata": {},
   "outputs": [
    {
     "data": {
      "text/plain": [
       "50"
      ]
     },
     "execution_count": 18,
     "metadata": {},
     "output_type": "execute_result"
    }
   ],
   "source": [
    "len(df_concat.columns)"
   ]
  },
  {
   "cell_type": "markdown",
   "id": "9f762d6e",
   "metadata": {},
   "source": [
    "## 2-3 조인처리하기 \n",
    "\n",
    "- 데이터를 키로 조인하기 \n",
    "\n",
    "- merge 함수 사용하기 "
   ]
  },
  {
   "cell_type": "markdown",
   "id": "696bf5b6",
   "metadata": {},
   "source": [
    "## 이너조인\n",
    "\n",
    "![](../image/이너조인.png)"
   ]
  },
  {
   "cell_type": "code",
   "execution_count": null,
   "id": "b48f4166",
   "metadata": {},
   "outputs": [],
   "source": []
  },
  {
   "cell_type": "code",
   "execution_count": 19,
   "id": "2c426620",
   "metadata": {},
   "outputs": [],
   "source": [
    "df_join = pd.merge(df_left,df_right,on=['encounter_id'],how='inner')"
   ]
  },
  {
   "cell_type": "code",
   "execution_count": 20,
   "id": "2a16bf80",
   "metadata": {},
   "outputs": [
    {
     "data": {
      "text/plain": [
       "Index(['encounter_id', 'patient_nbr_x', 'race', 'gender', 'age', 'weight',\n",
       "       'admission_type_id', 'discharge_disposition_id', 'admission_source_id',\n",
       "       'time_in_hospital', 'payer_code', 'medical_specialty',\n",
       "       'num_lab_procedures', 'num_procedures', 'num_medications',\n",
       "       'number_outpatient', 'number_emergency', 'number_inpatient', 'diag_1',\n",
       "       'diag_2', 'diag_3', 'number_diagnoses', 'max_glu_serum', 'change',\n",
       "       'diabetesMed', 'readmitted', 'patient_nbr_y', 'A1Cresult', 'metformin',\n",
       "       'repaglinide', 'nateglinide', 'chlorpropamide', 'glimepiride',\n",
       "       'acetohexamide', 'glipizide', 'glyburide', 'tolbutamide',\n",
       "       'pioglitazone', 'rosiglitazone', 'acarbose', 'miglitol', 'troglitazone',\n",
       "       'tolazamide', 'examide', 'citoglipton', 'insulin',\n",
       "       'glyburide_metformin', 'glipizide_metformin',\n",
       "       'glimepiride_pioglitazone', 'metformin_rosiglitazone',\n",
       "       'metformin_pioglitazone'],\n",
       "      dtype='object')"
      ]
     },
     "execution_count": 20,
     "metadata": {},
     "output_type": "execute_result"
    }
   ],
   "source": [
    "df_join.columns"
   ]
  },
  {
   "cell_type": "markdown",
   "id": "19521103",
   "metadata": {},
   "source": [
    "### 겹치는  칼럼을 삭제하기 \n",
    "\n",
    "- 조인하면 조인 키를 제외한 겹치는 칼럼을 삭제"
   ]
  },
  {
   "cell_type": "code",
   "execution_count": 21,
   "id": "45181b68",
   "metadata": {},
   "outputs": [],
   "source": [
    "df_join_1 = df_join.drop('patient_nbr_y',axis=1)"
   ]
  },
  {
   "cell_type": "code",
   "execution_count": 22,
   "id": "de386150",
   "metadata": {},
   "outputs": [
    {
     "data": {
      "text/plain": [
       "Index(['encounter_id', 'patient_nbr_x', 'race', 'gender', 'age', 'weight',\n",
       "       'admission_type_id', 'discharge_disposition_id', 'admission_source_id',\n",
       "       'time_in_hospital', 'payer_code', 'medical_specialty',\n",
       "       'num_lab_procedures', 'num_procedures', 'num_medications',\n",
       "       'number_outpatient', 'number_emergency', 'number_inpatient', 'diag_1',\n",
       "       'diag_2', 'diag_3', 'number_diagnoses', 'max_glu_serum', 'change',\n",
       "       'diabetesMed', 'readmitted', 'A1Cresult', 'metformin', 'repaglinide',\n",
       "       'nateglinide', 'chlorpropamide', 'glimepiride', 'acetohexamide',\n",
       "       'glipizide', 'glyburide', 'tolbutamide', 'pioglitazone',\n",
       "       'rosiglitazone', 'acarbose', 'miglitol', 'troglitazone', 'tolazamide',\n",
       "       'examide', 'citoglipton', 'insulin', 'glyburide_metformin',\n",
       "       'glipizide_metformin', 'glimepiride_pioglitazone',\n",
       "       'metformin_rosiglitazone', 'metformin_pioglitazone'],\n",
       "      dtype='object')"
      ]
     },
     "execution_count": 22,
     "metadata": {},
     "output_type": "execute_result"
    }
   ],
   "source": [
    "df_join_1.columns"
   ]
  },
  {
   "cell_type": "markdown",
   "id": "bb2854a5",
   "metadata": {},
   "source": [
    "### 변경된 칼럼명을  변경하기"
   ]
  },
  {
   "cell_type": "code",
   "execution_count": 23,
   "id": "4b25dabb",
   "metadata": {},
   "outputs": [],
   "source": [
    "df_join_2 = df_join_1.rename(columns = {'patient_nbr_x' : 'patient_nbr'})"
   ]
  },
  {
   "cell_type": "code",
   "execution_count": 24,
   "id": "798bf94a",
   "metadata": {},
   "outputs": [
    {
     "data": {
      "text/plain": [
       "Index(['encounter_id', 'patient_nbr', 'race', 'gender', 'age', 'weight',\n",
       "       'admission_type_id', 'discharge_disposition_id', 'admission_source_id',\n",
       "       'time_in_hospital', 'payer_code', 'medical_specialty',\n",
       "       'num_lab_procedures', 'num_procedures', 'num_medications',\n",
       "       'number_outpatient', 'number_emergency', 'number_inpatient', 'diag_1',\n",
       "       'diag_2', 'diag_3', 'number_diagnoses', 'max_glu_serum', 'change',\n",
       "       'diabetesMed', 'readmitted', 'A1Cresult', 'metformin', 'repaglinide',\n",
       "       'nateglinide', 'chlorpropamide', 'glimepiride', 'acetohexamide',\n",
       "       'glipizide', 'glyburide', 'tolbutamide', 'pioglitazone',\n",
       "       'rosiglitazone', 'acarbose', 'miglitol', 'troglitazone', 'tolazamide',\n",
       "       'examide', 'citoglipton', 'insulin', 'glyburide_metformin',\n",
       "       'glipizide_metformin', 'glimepiride_pioglitazone',\n",
       "       'metformin_rosiglitazone', 'metformin_pioglitazone'],\n",
       "      dtype='object')"
      ]
     },
     "execution_count": 24,
     "metadata": {},
     "output_type": "execute_result"
    }
   ],
   "source": [
    "df_join_2.columns"
   ]
  },
  {
   "cell_type": "code",
   "execution_count": null,
   "id": "b23a5533",
   "metadata": {},
   "outputs": [],
   "source": []
  },
  {
   "cell_type": "markdown",
   "id": "2077eccd",
   "metadata": {},
   "source": [
    "## 레프트 조인\n",
    "\n",
    "![](../image/레프트조인.png)"
   ]
  },
  {
   "cell_type": "code",
   "execution_count": 25,
   "id": "2bdadcc5",
   "metadata": {},
   "outputs": [],
   "source": [
    "df_join_left = pd.merge(df_left,df_right,on=['encounter_id'],how='left')"
   ]
  },
  {
   "cell_type": "code",
   "execution_count": 26,
   "id": "03060f28",
   "metadata": {},
   "outputs": [
    {
     "data": {
      "text/html": [
       "<div>\n",
       "<style scoped>\n",
       "    .dataframe tbody tr th:only-of-type {\n",
       "        vertical-align: middle;\n",
       "    }\n",
       "\n",
       "    .dataframe tbody tr th {\n",
       "        vertical-align: top;\n",
       "    }\n",
       "\n",
       "    .dataframe thead th {\n",
       "        text-align: right;\n",
       "    }\n",
       "</style>\n",
       "<table border=\"1\" class=\"dataframe\">\n",
       "  <thead>\n",
       "    <tr style=\"text-align: right;\">\n",
       "      <th></th>\n",
       "      <th>encounter_id</th>\n",
       "      <th>patient_nbr_x</th>\n",
       "      <th>race</th>\n",
       "      <th>gender</th>\n",
       "      <th>age</th>\n",
       "      <th>weight</th>\n",
       "      <th>admission_type_id</th>\n",
       "      <th>discharge_disposition_id</th>\n",
       "      <th>admission_source_id</th>\n",
       "      <th>time_in_hospital</th>\n",
       "      <th>...</th>\n",
       "      <th>troglitazone</th>\n",
       "      <th>tolazamide</th>\n",
       "      <th>examide</th>\n",
       "      <th>citoglipton</th>\n",
       "      <th>insulin</th>\n",
       "      <th>glyburide_metformin</th>\n",
       "      <th>glipizide_metformin</th>\n",
       "      <th>glimepiride_pioglitazone</th>\n",
       "      <th>metformin_rosiglitazone</th>\n",
       "      <th>metformin_pioglitazone</th>\n",
       "    </tr>\n",
       "  </thead>\n",
       "  <tbody>\n",
       "    <tr>\n",
       "      <th>0</th>\n",
       "      <td>2278392</td>\n",
       "      <td>8222157</td>\n",
       "      <td>Caucasian</td>\n",
       "      <td>Female</td>\n",
       "      <td>[0-10)</td>\n",
       "      <td>?</td>\n",
       "      <td>6</td>\n",
       "      <td>25</td>\n",
       "      <td>1</td>\n",
       "      <td>1</td>\n",
       "      <td>...</td>\n",
       "      <td>No</td>\n",
       "      <td>No</td>\n",
       "      <td>No</td>\n",
       "      <td>No</td>\n",
       "      <td>No</td>\n",
       "      <td>No</td>\n",
       "      <td>No</td>\n",
       "      <td>No</td>\n",
       "      <td>No</td>\n",
       "      <td>No</td>\n",
       "    </tr>\n",
       "    <tr>\n",
       "      <th>1</th>\n",
       "      <td>149190</td>\n",
       "      <td>55629189</td>\n",
       "      <td>Caucasian</td>\n",
       "      <td>Female</td>\n",
       "      <td>[10-20)</td>\n",
       "      <td>?</td>\n",
       "      <td>1</td>\n",
       "      <td>1</td>\n",
       "      <td>7</td>\n",
       "      <td>3</td>\n",
       "      <td>...</td>\n",
       "      <td>No</td>\n",
       "      <td>No</td>\n",
       "      <td>No</td>\n",
       "      <td>No</td>\n",
       "      <td>Up</td>\n",
       "      <td>No</td>\n",
       "      <td>No</td>\n",
       "      <td>No</td>\n",
       "      <td>No</td>\n",
       "      <td>No</td>\n",
       "    </tr>\n",
       "    <tr>\n",
       "      <th>2</th>\n",
       "      <td>64410</td>\n",
       "      <td>86047875</td>\n",
       "      <td>AfricanAmerican</td>\n",
       "      <td>Female</td>\n",
       "      <td>[20-30)</td>\n",
       "      <td>?</td>\n",
       "      <td>1</td>\n",
       "      <td>1</td>\n",
       "      <td>7</td>\n",
       "      <td>2</td>\n",
       "      <td>...</td>\n",
       "      <td>No</td>\n",
       "      <td>No</td>\n",
       "      <td>No</td>\n",
       "      <td>No</td>\n",
       "      <td>No</td>\n",
       "      <td>No</td>\n",
       "      <td>No</td>\n",
       "      <td>No</td>\n",
       "      <td>No</td>\n",
       "      <td>No</td>\n",
       "    </tr>\n",
       "    <tr>\n",
       "      <th>3</th>\n",
       "      <td>500364</td>\n",
       "      <td>82442376</td>\n",
       "      <td>Caucasian</td>\n",
       "      <td>Male</td>\n",
       "      <td>[30-40)</td>\n",
       "      <td>?</td>\n",
       "      <td>1</td>\n",
       "      <td>1</td>\n",
       "      <td>7</td>\n",
       "      <td>2</td>\n",
       "      <td>...</td>\n",
       "      <td>No</td>\n",
       "      <td>No</td>\n",
       "      <td>No</td>\n",
       "      <td>No</td>\n",
       "      <td>Up</td>\n",
       "      <td>No</td>\n",
       "      <td>No</td>\n",
       "      <td>No</td>\n",
       "      <td>No</td>\n",
       "      <td>No</td>\n",
       "    </tr>\n",
       "    <tr>\n",
       "      <th>4</th>\n",
       "      <td>16680</td>\n",
       "      <td>42519267</td>\n",
       "      <td>Caucasian</td>\n",
       "      <td>Male</td>\n",
       "      <td>[40-50)</td>\n",
       "      <td>?</td>\n",
       "      <td>1</td>\n",
       "      <td>1</td>\n",
       "      <td>7</td>\n",
       "      <td>1</td>\n",
       "      <td>...</td>\n",
       "      <td>No</td>\n",
       "      <td>No</td>\n",
       "      <td>No</td>\n",
       "      <td>No</td>\n",
       "      <td>Steady</td>\n",
       "      <td>No</td>\n",
       "      <td>No</td>\n",
       "      <td>No</td>\n",
       "      <td>No</td>\n",
       "      <td>No</td>\n",
       "    </tr>\n",
       "  </tbody>\n",
       "</table>\n",
       "<p>5 rows × 51 columns</p>\n",
       "</div>"
      ],
      "text/plain": [
       "   encounter_id  patient_nbr_x             race  gender      age weight  \\\n",
       "0       2278392        8222157        Caucasian  Female   [0-10)      ?   \n",
       "1        149190       55629189        Caucasian  Female  [10-20)      ?   \n",
       "2         64410       86047875  AfricanAmerican  Female  [20-30)      ?   \n",
       "3        500364       82442376        Caucasian    Male  [30-40)      ?   \n",
       "4         16680       42519267        Caucasian    Male  [40-50)      ?   \n",
       "\n",
       "   admission_type_id  discharge_disposition_id  admission_source_id  \\\n",
       "0                  6                        25                    1   \n",
       "1                  1                         1                    7   \n",
       "2                  1                         1                    7   \n",
       "3                  1                         1                    7   \n",
       "4                  1                         1                    7   \n",
       "\n",
       "   time_in_hospital  ... troglitazone tolazamide  examide  citoglipton  \\\n",
       "0                 1  ...           No         No       No           No   \n",
       "1                 3  ...           No         No       No           No   \n",
       "2                 2  ...           No         No       No           No   \n",
       "3                 2  ...           No         No       No           No   \n",
       "4                 1  ...           No         No       No           No   \n",
       "\n",
       "   insulin  glyburide_metformin  glipizide_metformin  \\\n",
       "0       No                   No                   No   \n",
       "1       Up                   No                   No   \n",
       "2       No                   No                   No   \n",
       "3       Up                   No                   No   \n",
       "4   Steady                   No                   No   \n",
       "\n",
       "   glimepiride_pioglitazone metformin_rosiglitazone metformin_pioglitazone  \n",
       "0                        No                      No                     No  \n",
       "1                        No                      No                     No  \n",
       "2                        No                      No                     No  \n",
       "3                        No                      No                     No  \n",
       "4                        No                      No                     No  \n",
       "\n",
       "[5 rows x 51 columns]"
      ]
     },
     "execution_count": 26,
     "metadata": {},
     "output_type": "execute_result"
    }
   ],
   "source": [
    "df_join_left.head()"
   ]
  },
  {
   "cell_type": "code",
   "execution_count": null,
   "id": "de81d2d1",
   "metadata": {},
   "outputs": [],
   "source": []
  },
  {
   "cell_type": "markdown",
   "id": "12eba7e9",
   "metadata": {},
   "source": [
    "# 3. 데이터 그룹화 처리하기 \n",
    "\n",
    "- 특정 범주 등을 기준으로 값을 계산해서 현재 데이터의 상태를 확인하는 방법을 본다.\n",
    "\n",
    "- 이때는 groupby 메서드를 사용해서 하나의 칼럼이나 여러 칼럼을 그룹화할 수 있다. "
   ]
  },
  {
   "cell_type": "markdown",
   "id": "1ee8025d",
   "metadata": {},
   "source": [
    "## 그룹화처리\n",
    "\n",
    "![](../image/그룹화처리.png)"
   ]
  },
  {
   "cell_type": "markdown",
   "id": "24997650",
   "metadata": {},
   "source": [
    "## 3-1  특정 칼럼으로 그룹화하기"
   ]
  },
  {
   "cell_type": "markdown",
   "id": "b95d1e54",
   "metadata": {},
   "source": [
    "### 특정 칼럼의 그룹한 건수 확인 \n",
    "- 먼저 특정 칼럼의 value counts로 확인 "
   ]
  },
  {
   "cell_type": "code",
   "execution_count": 27,
   "id": "a0bd13df",
   "metadata": {},
   "outputs": [
    {
     "data": {
      "text/plain": [
       "patient_nbr\n",
       "88785891       40\n",
       "43140906       28\n",
       "1660293        23\n",
       "23199021       23\n",
       "88227540       23\n",
       "               ..\n",
       "34935156        1\n",
       "34935795        1\n",
       "34935804        1\n",
       "34937658        1\n",
       "189502619       1\n",
       "Length: 71518, dtype: int64"
      ]
     },
     "execution_count": 27,
     "metadata": {},
     "output_type": "execute_result"
    }
   ],
   "source": [
    "df.value_counts(subset=['patient_nbr'])"
   ]
  },
  {
   "cell_type": "markdown",
   "id": "bd16e1b7",
   "metadata": {},
   "source": [
    "### 특정 칼럼을 기준으로 그룹화해서 사이즈 확인하기 "
   ]
  },
  {
   "cell_type": "code",
   "execution_count": 28,
   "id": "d92e1b31",
   "metadata": {},
   "outputs": [
    {
     "data": {
      "text/plain": [
       "patient_nbr\n",
       "48164949     1\n",
       "67633857     1\n",
       "67633893     1\n",
       "67636341     1\n",
       "67638249     1\n",
       "            ..\n",
       "23199021    23\n",
       "1660293     23\n",
       "88227540    23\n",
       "43140906    28\n",
       "88785891    40\n",
       "Length: 71518, dtype: int64"
      ]
     },
     "execution_count": 28,
     "metadata": {},
     "output_type": "execute_result"
    }
   ],
   "source": [
    "df.groupby('patient_nbr').size().sort_values()"
   ]
  },
  {
   "cell_type": "markdown",
   "id": "75be68d5",
   "metadata": {},
   "source": [
    "### 그룹화한 후에 특정 칼럼의 개수를 확인하기"
   ]
  },
  {
   "cell_type": "code",
   "execution_count": 29,
   "id": "96806d94",
   "metadata": {},
   "outputs": [
    {
     "data": {
      "text/plain": [
       "patient_nbr\n",
       "48164949     1\n",
       "67633857     1\n",
       "67633893     1\n",
       "67636341     1\n",
       "67638249     1\n",
       "            ..\n",
       "23199021    23\n",
       "1660293     23\n",
       "88227540    23\n",
       "43140906    28\n",
       "88785891    40\n",
       "Name: encounter_id, Length: 71518, dtype: int64"
      ]
     },
     "execution_count": 29,
     "metadata": {},
     "output_type": "execute_result"
    }
   ],
   "source": [
    "df.groupby('patient_nbr')['encounter_id'].count().sort_values()"
   ]
  },
  {
   "cell_type": "code",
   "execution_count": 30,
   "id": "2a13d73f",
   "metadata": {},
   "outputs": [
    {
     "data": {
      "text/plain": [
       "patient_nbr\n",
       "88785891     40\n",
       "43140906     28\n",
       "1660293      23\n",
       "23199021     23\n",
       "88227540     23\n",
       "             ..\n",
       "34935156      1\n",
       "34935795      1\n",
       "34935804      1\n",
       "34937658      1\n",
       "189502619     1\n",
       "Name: encounter_id, Length: 71518, dtype: int64"
      ]
     },
     "execution_count": 30,
     "metadata": {},
     "output_type": "execute_result"
    }
   ],
   "source": [
    "df.groupby('patient_nbr')['encounter_id'].count().sort_values(ascending=False)"
   ]
  },
  {
   "cell_type": "markdown",
   "id": "bf9d4221",
   "metadata": {},
   "source": [
    "## 3-2  여러 칼럼으로 그룹화하기"
   ]
  },
  {
   "cell_type": "code",
   "execution_count": 31,
   "id": "8d4e7a9f",
   "metadata": {},
   "outputs": [
    {
     "data": {
      "text/plain": [
       "Index(['encounter_id', 'patient_nbr', 'race', 'gender', 'age', 'weight',\n",
       "       'admission_type_id', 'discharge_disposition_id', 'admission_source_id',\n",
       "       'time_in_hospital', 'payer_code', 'medical_specialty',\n",
       "       'num_lab_procedures', 'num_procedures', 'num_medications',\n",
       "       'number_outpatient', 'number_emergency', 'number_inpatient', 'diag_1',\n",
       "       'diag_2', 'diag_3', 'number_diagnoses', 'max_glu_serum', 'A1Cresult',\n",
       "       'metformin', 'repaglinide', 'nateglinide', 'chlorpropamide',\n",
       "       'glimepiride', 'acetohexamide', 'glipizide', 'glyburide', 'tolbutamide',\n",
       "       'pioglitazone', 'rosiglitazone', 'acarbose', 'miglitol', 'troglitazone',\n",
       "       'tolazamide', 'examide', 'citoglipton', 'insulin',\n",
       "       'glyburide_metformin', 'glipizide_metformin',\n",
       "       'glimepiride_pioglitazone', 'metformin_rosiglitazone',\n",
       "       'metformin_pioglitazone', 'change', 'diabetesMed', 'readmitted'],\n",
       "      dtype='object')"
      ]
     },
     "execution_count": 31,
     "metadata": {},
     "output_type": "execute_result"
    }
   ],
   "source": [
    "df.columns"
   ]
  },
  {
   "cell_type": "code",
   "execution_count": 32,
   "id": "64c65add",
   "metadata": {},
   "outputs": [
    {
     "data": {
      "text/plain": [
       "patient_nbr  gender\n",
       "88785891     Female    40\n",
       "43140906     Female    28\n",
       "1660293      Female    23\n",
       "23199021     Male      23\n",
       "88227540     Female    23\n",
       "                       ..\n",
       "34935804     Female     1\n",
       "34937658     Female     1\n",
       "34939350     Female     1\n",
       "34941789     Male       1\n",
       "189502619    Male       1\n",
       "Name: race, Length: 71521, dtype: int64"
      ]
     },
     "execution_count": 32,
     "metadata": {},
     "output_type": "execute_result"
    }
   ],
   "source": [
    "df.groupby(['patient_nbr','gender'])['race'].size().sort_values(ascending=False)"
   ]
  },
  {
   "cell_type": "code",
   "execution_count": null,
   "id": "8a3232b4",
   "metadata": {},
   "outputs": [],
   "source": []
  },
  {
   "cell_type": "code",
   "execution_count": null,
   "id": "23ce2e27",
   "metadata": {},
   "outputs": [],
   "source": []
  },
  {
   "cell_type": "code",
   "execution_count": null,
   "id": "263623c1",
   "metadata": {},
   "outputs": [],
   "source": []
  }
 ],
 "metadata": {
  "kernelspec": {
   "display_name": "Python 3 (ipykernel)",
   "language": "python",
   "name": "python3"
  },
  "language_info": {
   "codemirror_mode": {
    "name": "ipython",
    "version": 3
   },
   "file_extension": ".py",
   "mimetype": "text/x-python",
   "name": "python",
   "nbconvert_exporter": "python",
   "pygments_lexer": "ipython3",
   "version": "3.9.16"
  }
 },
 "nbformat": 4,
 "nbformat_minor": 5
}
