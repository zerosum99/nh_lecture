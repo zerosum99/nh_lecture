{
 "cells": [
  {
   "cell_type": "markdown",
   "id": "4dfa57e8",
   "metadata": {},
   "source": [
    "# 1.  제어문 "
   ]
  },
  {
   "cell_type": "markdown",
   "id": "8379d026",
   "metadata": {},
   "source": [
    "## 1-1 불리언 자료형 이해하기 "
   ]
  },
  {
   "cell_type": "markdown",
   "id": "884b4c2e",
   "metadata": {},
   "source": [
    "## 불리언 클래스는 정수의 하위 클래스"
   ]
  },
  {
   "cell_type": "code",
   "execution_count": 1,
   "id": "794ef915",
   "metadata": {},
   "outputs": [
    {
     "data": {
      "text/plain": [
       "[bool, <enum 'IntEnum'>, <enum 'IntFlag'>, sre_constants._NamedIntConstant]"
      ]
     },
     "execution_count": 1,
     "metadata": {},
     "output_type": "execute_result"
    }
   ],
   "source": [
    "int.__subclasses__()             # 정수 클래스를 상속한 클래스 확인하기"
   ]
  },
  {
   "cell_type": "code",
   "execution_count": 2,
   "id": "15a96b42",
   "metadata": {},
   "outputs": [
    {
     "data": {
      "text/plain": [
       "1"
      ]
     },
     "execution_count": 2,
     "metadata": {},
     "output_type": "execute_result"
    }
   ],
   "source": [
    "True + 0                         # 불리언 타입은 정수를 상속해서 True는 1로 처리 "
   ]
  },
  {
   "cell_type": "markdown",
   "id": "ca5f9c35",
   "metadata": {},
   "source": [
    "## 빈 값은 거짓  그외는 참으로 인식"
   ]
  },
  {
   "cell_type": "code",
   "execution_count": 3,
   "id": "c1e1cf1f",
   "metadata": {},
   "outputs": [
    {
     "data": {
      "text/plain": [
       "False"
      ]
     },
     "execution_count": 3,
     "metadata": {},
     "output_type": "execute_result"
    }
   ],
   "source": [
    "bool(None)                        # 블리언 클래스으로 널값을 인자로 넣어서 객체를 생성하면 False"
   ]
  },
  {
   "cell_type": "code",
   "execution_count": 4,
   "id": "936dce3a",
   "metadata": {},
   "outputs": [
    {
     "name": "stdout",
     "output_type": "stream",
     "text": [
      "False\n",
      "False\n",
      "False\n",
      "False\n",
      "False\n"
     ]
    }
   ],
   "source": [
    "print(bool(0))                    # 숫자 0 \n",
    "print(bool(\"\"))                   # 빈 문자열\n",
    "print(bool([]))                   # 빈 리스트 \n",
    "print(bool(()))                   # 빈 튜플 \n",
    "print(bool({}))                   # 빈 딕셔너리 "
   ]
  },
  {
   "cell_type": "code",
   "execution_count": null,
   "id": "c4ec30d7",
   "metadata": {},
   "outputs": [],
   "source": []
  },
  {
   "cell_type": "markdown",
   "id": "ddab8fb7",
   "metadata": {},
   "source": [
    "## 1-2  조건문 \n",
    "\n",
    "- 조건식이 참과 거짓일 경우 처리하는 문장 "
   ]
  },
  {
   "cell_type": "markdown",
   "id": "e6594f53",
   "metadata": {},
   "source": [
    "## 단순 조건 "
   ]
  },
  {
   "cell_type": "code",
   "execution_count": 5,
   "id": "03680208",
   "metadata": {},
   "outputs": [
    {
     "name": "stdout",
     "output_type": "stream",
     "text": [
      "참일 경우 \n"
     ]
    }
   ],
   "source": [
    "if True :                        # if 문의 조건은 항상 참이여야 함 \n",
    "    print(\"참일 경우 \")\n"
   ]
  },
  {
   "cell_type": "code",
   "execution_count": 6,
   "id": "4ca4b354",
   "metadata": {},
   "outputs": [
    {
     "name": "stdout",
     "output_type": "stream",
     "text": [
      "참일 경우 \n"
     ]
    }
   ],
   "source": [
    "if True :                        # if 문의 조건은 항상 참이여야 함 \n",
    "    print(\"참일 경우 \")\n",
    "else :\n",
    "    print(\"거짓일 경우\")"
   ]
  },
  {
   "cell_type": "markdown",
   "id": "c3d839df",
   "metadata": {},
   "source": [
    "## 복합 조건 "
   ]
  },
  {
   "cell_type": "code",
   "execution_count": 7,
   "id": "e0112a0c",
   "metadata": {},
   "outputs": [],
   "source": [
    "a = 100; b=30"
   ]
  },
  {
   "cell_type": "code",
   "execution_count": 8,
   "id": "c30fc47f",
   "metadata": {},
   "outputs": [
    {
     "name": "stdout",
     "output_type": "stream",
     "text": [
      "동일한 값일 경우\n"
     ]
    }
   ],
   "source": [
    "if a < 100  :\n",
    "    print(\"참일 경우 \")\n",
    "elif a == 100 :\n",
    "    print(\"동일한 값일 경우\")\n",
    "else :\n",
    "    print(\"거짓일 경우\")"
   ]
  },
  {
   "cell_type": "markdown",
   "id": "b76b1f92",
   "metadata": {},
   "source": [
    "## 내포된 if 문 처리 "
   ]
  },
  {
   "cell_type": "code",
   "execution_count": 9,
   "id": "a76e6efb",
   "metadata": {},
   "outputs": [
    {
     "name": "stdout",
     "output_type": "stream",
     "text": [
      "참일 경우\n",
      "내포된 거짓 경우 \n"
     ]
    }
   ],
   "source": [
    "if b > 10  :\n",
    "    print(\"참일 경우\")\n",
    "    if  b > 30 : \n",
    "        print(\"내포된 참일 경우 \")\n",
    "    else : \n",
    "        print(\"내포된 거짓 경우 \")\n",
    "else :\n",
    "    print(\"거짓일 경우\")"
   ]
  },
  {
   "cell_type": "markdown",
   "id": "ef402d86",
   "metadata": {},
   "source": [
    "## 1-3 삼항연산 처리 "
   ]
  },
  {
   "cell_type": "code",
   "execution_count": 10,
   "id": "07637c79",
   "metadata": {},
   "outputs": [],
   "source": [
    "m = 10\n",
    "n = 20\n",
    "x = 5"
   ]
  },
  {
   "cell_type": "code",
   "execution_count": 11,
   "id": "dbcc6e47",
   "metadata": {},
   "outputs": [
    {
     "name": "stdout",
     "output_type": "stream",
     "text": [
      "20\n"
     ]
    }
   ],
   "source": [
    "print(n) if (m) else x          # if 문의 조건이 참인 경우는 if 문 앞에 작성해야 함 "
   ]
  },
  {
   "cell_type": "code",
   "execution_count": null,
   "id": "93df89ed",
   "metadata": {},
   "outputs": [],
   "source": []
  },
  {
   "cell_type": "code",
   "execution_count": null,
   "id": "bd80bb56",
   "metadata": {},
   "outputs": [],
   "source": []
  },
  {
   "cell_type": "markdown",
   "id": "364347b3",
   "metadata": {},
   "source": [
    "# 2. 순환문 \n",
    "\n",
    "-  for 과 while 문 \n",
    "-  여러 원소를 가진 객체를 순환하는 for 문\n",
    "-  조건식이 참일 경우 처리하는 whiel 문"
   ]
  },
  {
   "cell_type": "markdown",
   "id": "8721aa77",
   "metadata": {},
   "source": [
    "## 2-1 for\n",
    "- 여러 원소를 가진 객체를 처리 "
   ]
  },
  {
   "cell_type": "markdown",
   "id": "208c03f3",
   "metadata": {},
   "source": [
    "## 범위 객체 생성하기 "
   ]
  },
  {
   "cell_type": "code",
   "execution_count": 12,
   "id": "60398cf8",
   "metadata": {},
   "outputs": [],
   "source": [
    "r = range(1,5)                 # 범위는 range 클래스의 객체를 생성 첫번째는 시작, 두번째는 종료(실제 적용값은 종료 -1) "
   ]
  },
  {
   "cell_type": "code",
   "execution_count": 13,
   "id": "639dcbaa",
   "metadata": {},
   "outputs": [
    {
     "data": {
      "text/plain": [
       "(1, 5, 1)"
      ]
     },
     "execution_count": 13,
     "metadata": {},
     "output_type": "execute_result"
    }
   ],
   "source": [
    "r.start,r.stop, r.step"
   ]
  },
  {
   "cell_type": "markdown",
   "id": "bfac1a83",
   "metadata": {},
   "source": [
    "## 범위 처리"
   ]
  },
  {
   "cell_type": "code",
   "execution_count": 14,
   "id": "1120b914",
   "metadata": {},
   "outputs": [
    {
     "name": "stdout",
     "output_type": "stream",
     "text": [
      "1\n",
      "2\n",
      "3\n",
      "4\n"
     ]
    }
   ],
   "source": [
    "for r in range(1,5)  :         ## for 문의 in 다음에는 iterable 즉 반복이 가능한 여러 원소를 가진 객체를 넣는다 \n",
    "    print(r)"
   ]
  },
  {
   "cell_type": "markdown",
   "id": "ec46ee9d",
   "metadata": {},
   "source": [
    "## 리스트 순환"
   ]
  },
  {
   "cell_type": "code",
   "execution_count": 15,
   "id": "c0a724f8",
   "metadata": {},
   "outputs": [],
   "source": [
    "ll = [1,2,3,4,]               # 리스트 리터럴은 대괄호 사이에 원소값을 나열해서 지정한다. "
   ]
  },
  {
   "cell_type": "code",
   "execution_count": 16,
   "id": "76ca5f99",
   "metadata": {},
   "outputs": [
    {
     "name": "stdout",
     "output_type": "stream",
     "text": [
      "1\n",
      "2\n",
      "3\n",
      "4\n"
     ]
    }
   ],
   "source": [
    "for l in ll :\n",
    "    print(l)"
   ]
  },
  {
   "cell_type": "code",
   "execution_count": null,
   "id": "b28feafb",
   "metadata": {},
   "outputs": [],
   "source": []
  },
  {
   "cell_type": "code",
   "execution_count": null,
   "id": "ef0b1418",
   "metadata": {},
   "outputs": [],
   "source": []
  },
  {
   "cell_type": "markdown",
   "id": "aba4b0d0",
   "metadata": {},
   "source": [
    "## 2-2 while "
   ]
  },
  {
   "cell_type": "markdown",
   "id": "cfda8978",
   "metadata": {},
   "source": [
    "## 조건식으로 순환 처리"
   ]
  },
  {
   "cell_type": "code",
   "execution_count": 17,
   "id": "d073e3a0",
   "metadata": {},
   "outputs": [],
   "source": [
    "liter = iter(ll)                 # iterator는 동적으로 처리하므로 한번 사용하면 원소가 다 없어진다. \n",
    "                                 # 그래서 계속사용하려면 반복자 객체를 다시 생셩"
   ]
  },
  {
   "cell_type": "code",
   "execution_count": 18,
   "id": "6b4d80a0",
   "metadata": {},
   "outputs": [
    {
     "name": "stdout",
     "output_type": "stream",
     "text": [
      "1\n",
      "2\n",
      "3\n",
      "4\n"
     ]
    }
   ],
   "source": [
    "xx = next(liter)\n",
    "while xx :                       # 리스트를 조건에 맞게 순환하기 위히 반복자로 변경해서 처리 \n",
    "    print(xx)\n",
    "    xx = next(liter, None)\n",
    "    "
   ]
  },
  {
   "cell_type": "markdown",
   "id": "801f6024",
   "metadata": {},
   "source": [
    "## 앞에서 반복자 리스트를 다 사용\n",
    "\n",
    "- 반복자를 더 사용할 수 없음 "
   ]
  },
  {
   "cell_type": "code",
   "execution_count": 19,
   "id": "cf9ae3c5",
   "metadata": {},
   "outputs": [
    {
     "name": "stdout",
     "output_type": "stream",
     "text": [
      "StopIterator 원소를 다 소진함 \n"
     ]
    }
   ],
   "source": [
    "try :\n",
    "    next(liter)\n",
    "except Exception as e :\n",
    "    print(\"StopIterator 원소를 다 소진함 \")"
   ]
  },
  {
   "cell_type": "markdown",
   "id": "f9f26f03",
   "metadata": {},
   "source": [
    "# 3. 튜플과 리스트 처리\n",
    "\n",
    "- 변경불가한 튜플과 변경가능한 리스트 \n",
    "- 배열은 별도의 모듈로 제공"
   ]
  },
  {
   "cell_type": "markdown",
   "id": "37615e1a",
   "metadata": {},
   "source": [
    "## 3-1 튜플"
   ]
  },
  {
   "cell_type": "markdown",
   "id": "19b0e516",
   "metadata": {},
   "source": [
    "## 리터럴로 바로 작성하기"
   ]
  },
  {
   "cell_type": "code",
   "execution_count": 20,
   "id": "cb45a420",
   "metadata": {},
   "outputs": [
    {
     "name": "stdout",
     "output_type": "stream",
     "text": [
      "빈튜플 ()\n",
      "한개 원소를 가진 튜플 (1,)\n"
     ]
    }
   ],
   "source": [
    "print(\"빈튜플\" ,())\n",
    "\n",
    "print(\"한개 원소를 가진 튜플\" ,(1,))"
   ]
  },
  {
   "cell_type": "code",
   "execution_count": 21,
   "id": "f853a094",
   "metadata": {},
   "outputs": [],
   "source": [
    "tt = (1,2,3,4)"
   ]
  },
  {
   "cell_type": "code",
   "execution_count": 22,
   "id": "4fe0297d",
   "metadata": {},
   "outputs": [
    {
     "data": {
      "text/plain": [
       "(1, 2, 3, 4)"
      ]
     },
     "execution_count": 22,
     "metadata": {},
     "output_type": "execute_result"
    }
   ],
   "source": [
    "tt"
   ]
  },
  {
   "cell_type": "markdown",
   "id": "49fade5d",
   "metadata": {},
   "source": [
    "## 클래스로 객체를 생성하기"
   ]
  },
  {
   "cell_type": "code",
   "execution_count": 23,
   "id": "b742aec3",
   "metadata": {},
   "outputs": [],
   "source": [
    "t = tuple([1,2,3,4])"
   ]
  },
  {
   "cell_type": "code",
   "execution_count": 24,
   "id": "d6facc85",
   "metadata": {},
   "outputs": [
    {
     "data": {
      "text/plain": [
       "(1, 2, 3, 4)"
      ]
     },
     "execution_count": 24,
     "metadata": {},
     "output_type": "execute_result"
    }
   ],
   "source": [
    "t"
   ]
  },
  {
   "cell_type": "markdown",
   "id": "95dc2435",
   "metadata": {},
   "source": [
    "## 튜플 검색 및 갱신"
   ]
  },
  {
   "cell_type": "code",
   "execution_count": 25,
   "id": "63324a14",
   "metadata": {},
   "outputs": [
    {
     "data": {
      "text/plain": [
       "1"
      ]
     },
     "execution_count": 25,
     "metadata": {},
     "output_type": "execute_result"
    }
   ],
   "source": [
    "t[0]"
   ]
  },
  {
   "cell_type": "markdown",
   "id": "f5a03159",
   "metadata": {},
   "source": [
    "## 튜플은 변경할 수 없으므로 변경하면 예외가 발생\n",
    "\n",
    "- 실제 변경할 수 있는 메서드가 없다 "
   ]
  },
  {
   "cell_type": "code",
   "execution_count": 26,
   "id": "5af02cea",
   "metadata": {},
   "outputs": [
    {
     "name": "stdout",
     "output_type": "stream",
     "text": [
      "__add__, __class__, __class_getitem__, __contains__, __delattr__, __dir__, __doc__, __eq__, __format__, __ge__, __getattribute__, __getitem__, __getnewargs__, __gt__, __hash__, __init__, __init_subclass__, __iter__, __le__, __len__, __lt__, __mul__, __ne__, __new__, __reduce__, __reduce_ex__, __repr__, __rmul__, __setattr__, __sizeof__, __str__, __subclasshook__, count, index, "
     ]
    }
   ],
   "source": [
    "for i in dir(tuple) :\n",
    "    print(i, end=', ')"
   ]
  },
  {
   "cell_type": "code",
   "execution_count": 27,
   "id": "ccd8bdd3",
   "metadata": {},
   "outputs": [
    {
     "name": "stdout",
     "output_type": "stream",
     "text": [
      "'tuple' object does not support item assignment\n"
     ]
    }
   ],
   "source": [
    "try :\n",
    "    t[0] = 100            # 튜플은 변경이 불가해서 갱신하면 예외발생 \n",
    "except Exception as e :\n",
    "    print(e)"
   ]
  },
  {
   "cell_type": "markdown",
   "id": "4b27532b",
   "metadata": {},
   "source": [
    "## 3-2 리스트"
   ]
  },
  {
   "cell_type": "code",
   "execution_count": 28,
   "id": "a7605a3a",
   "metadata": {},
   "outputs": [
    {
     "name": "stdout",
     "output_type": "stream",
     "text": [
      "__add__, __class__, __class_getitem__, __contains__, __delattr__, __delitem__, __dir__, __doc__, __eq__, __format__, __ge__, __getattribute__, __getitem__, __gt__, __hash__, __iadd__, __imul__, __init__, __init_subclass__, __iter__, __le__, __len__, __lt__, __mul__, __ne__, __new__, __reduce__, __reduce_ex__, __repr__, __reversed__, __rmul__, __setattr__, __setitem__, __sizeof__, __str__, __subclasshook__, append, clear, copy, count, extend, index, insert, pop, remove, reverse, sort, "
     ]
    }
   ],
   "source": [
    "for i in dir(list) :\n",
    "    print(i, end=', ')"
   ]
  },
  {
   "cell_type": "markdown",
   "id": "44213d1b",
   "metadata": {},
   "source": [
    "## 문자열을 사용해서  list 클래스로 객체 생성 "
   ]
  },
  {
   "cell_type": "code",
   "execution_count": 29,
   "id": "1da6603f",
   "metadata": {},
   "outputs": [],
   "source": [
    "ss = \"abcdef\""
   ]
  },
  {
   "cell_type": "code",
   "execution_count": 30,
   "id": "eed27d67",
   "metadata": {},
   "outputs": [],
   "source": [
    "lll = list(ss)"
   ]
  },
  {
   "cell_type": "code",
   "execution_count": 31,
   "id": "b74fe3c1",
   "metadata": {},
   "outputs": [
    {
     "data": {
      "text/plain": [
       "['a', 'b', 'c', 'd', 'e', 'f']"
      ]
     },
     "execution_count": 31,
     "metadata": {},
     "output_type": "execute_result"
    }
   ],
   "source": [
    "lll"
   ]
  },
  {
   "cell_type": "markdown",
   "id": "38a88413",
   "metadata": {},
   "source": [
    "## 리스트 원소/슬라이스 검색 및 갱신"
   ]
  },
  {
   "cell_type": "code",
   "execution_count": 32,
   "id": "9ef994a5",
   "metadata": {},
   "outputs": [],
   "source": [
    "lll[2] = \"abc\"                     # 원소 갱신 "
   ]
  },
  {
   "cell_type": "code",
   "execution_count": 33,
   "id": "b4cf5bc9",
   "metadata": {},
   "outputs": [
    {
     "data": {
      "text/plain": [
       "['a', 'b', 'abc', 'd', 'e', 'f']"
      ]
     },
     "execution_count": 33,
     "metadata": {},
     "output_type": "execute_result"
    }
   ],
   "source": [
    "lll"
   ]
  },
  {
   "cell_type": "code",
   "execution_count": 34,
   "id": "79329981",
   "metadata": {},
   "outputs": [
    {
     "data": {
      "text/plain": [
       "'d'"
      ]
     },
     "execution_count": 34,
     "metadata": {},
     "output_type": "execute_result"
    }
   ],
   "source": [
    "lll[3]                              # 원소 검색"
   ]
  },
  {
   "cell_type": "code",
   "execution_count": 35,
   "id": "98e5df2a",
   "metadata": {},
   "outputs": [
    {
     "data": {
      "text/plain": [
       "['b', 'abc', 'd']"
      ]
     },
     "execution_count": 35,
     "metadata": {},
     "output_type": "execute_result"
    }
   ],
   "source": [
    "lll[1:4]                            # 슬라이스 검색 "
   ]
  },
  {
   "cell_type": "code",
   "execution_count": null,
   "id": "32b5701b",
   "metadata": {},
   "outputs": [],
   "source": []
  },
  {
   "cell_type": "markdown",
   "id": "859a3812",
   "metadata": {},
   "source": [
    "## 3-3 리스트 컴프리헨션 처리"
   ]
  },
  {
   "cell_type": "markdown",
   "id": "69f2a9af",
   "metadata": {},
   "source": [
    "## 리스트의  원소 나열"
   ]
  },
  {
   "cell_type": "code",
   "execution_count": 36,
   "id": "8235d718",
   "metadata": {},
   "outputs": [],
   "source": [
    "ll = [1,2,3,4,5,6]"
   ]
  },
  {
   "cell_type": "markdown",
   "id": "48efb4e6",
   "metadata": {},
   "source": [
    "## 리스트를 특정 조건으로 원소 표시 : 컴프리헨션 표기"
   ]
  },
  {
   "cell_type": "code",
   "execution_count": 37,
   "id": "d67cbcd3",
   "metadata": {},
   "outputs": [],
   "source": [
    "llll = [x for x in range(1,7)]"
   ]
  },
  {
   "cell_type": "code",
   "execution_count": 38,
   "id": "e98540cc",
   "metadata": {},
   "outputs": [
    {
     "data": {
      "text/plain": [
       "[1, 2, 3, 4, 5, 6]"
      ]
     },
     "execution_count": 38,
     "metadata": {},
     "output_type": "execute_result"
    }
   ],
   "source": [
    "llll"
   ]
  },
  {
   "cell_type": "markdown",
   "id": "08846507",
   "metadata": {},
   "source": [
    "### map 클래스 처리"
   ]
  },
  {
   "cell_type": "code",
   "execution_count": 39,
   "id": "e251cc5e",
   "metadata": {},
   "outputs": [
    {
     "data": {
      "text/plain": [
       "<map at 0x107cc8fa0>"
      ]
     },
     "execution_count": 39,
     "metadata": {},
     "output_type": "execute_result"
    }
   ],
   "source": [
    "map(lambda x: pow(x,2), ll)"
   ]
  },
  {
   "cell_type": "code",
   "execution_count": 40,
   "id": "3ac5d24a",
   "metadata": {},
   "outputs": [
    {
     "data": {
      "text/plain": [
       "[1, 4, 9, 16, 25, 36]"
      ]
     },
     "execution_count": 40,
     "metadata": {},
     "output_type": "execute_result"
    }
   ],
   "source": [
    "[*map(lambda x: pow(x,2), ll)]"
   ]
  },
  {
   "cell_type": "markdown",
   "id": "d729ec15",
   "metadata": {},
   "source": [
    "###  컴플리헨션 처리 "
   ]
  },
  {
   "cell_type": "code",
   "execution_count": 41,
   "id": "6c9189b8",
   "metadata": {},
   "outputs": [
    {
     "data": {
      "text/plain": [
       "[1, 4, 9, 16, 25, 36]"
      ]
     },
     "execution_count": 41,
     "metadata": {},
     "output_type": "execute_result"
    }
   ],
   "source": [
    "[pow(x,2) for x in range(1,7)]"
   ]
  },
  {
   "cell_type": "markdown",
   "id": "348b6461",
   "metadata": {},
   "source": [
    "## 리스트 원소를 특정 조건에 맞춰 추출"
   ]
  },
  {
   "cell_type": "markdown",
   "id": "e587657d",
   "metadata": {},
   "source": [
    "### filter 클래스로 처리"
   ]
  },
  {
   "cell_type": "code",
   "execution_count": 42,
   "id": "784b3142",
   "metadata": {},
   "outputs": [
    {
     "data": {
      "text/plain": [
       "[4, 16, 36]"
      ]
     },
     "execution_count": 42,
     "metadata": {},
     "output_type": "execute_result"
    }
   ],
   "source": [
    "[*filter(lambda x : x%2 ==0 ,[*map(lambda x: pow(x,2), ll)])]"
   ]
  },
  {
   "cell_type": "markdown",
   "id": "8a84b0ab",
   "metadata": {},
   "source": [
    "### 컴프리헨션으로 처리"
   ]
  },
  {
   "cell_type": "code",
   "execution_count": 43,
   "id": "85d9dad5",
   "metadata": {},
   "outputs": [
    {
     "data": {
      "text/plain": [
       "[4, 16, 36]"
      ]
     },
     "execution_count": 43,
     "metadata": {},
     "output_type": "execute_result"
    }
   ],
   "source": [
    "[pow(x,2) for x in range(1,7) if x %2 ==0 ]"
   ]
  },
  {
   "cell_type": "code",
   "execution_count": null,
   "id": "cbed5bc3",
   "metadata": {},
   "outputs": [],
   "source": []
  }
 ],
 "metadata": {
  "kernelspec": {
   "display_name": "Python 3 (ipykernel)",
   "language": "python",
   "name": "python3"
  },
  "language_info": {
   "codemirror_mode": {
    "name": "ipython",
    "version": 3
   },
   "file_extension": ".py",
   "mimetype": "text/x-python",
   "name": "python",
   "nbconvert_exporter": "python",
   "pygments_lexer": "ipython3",
   "version": "3.9.13"
  }
 },
 "nbformat": 4,
 "nbformat_minor": 5
}
