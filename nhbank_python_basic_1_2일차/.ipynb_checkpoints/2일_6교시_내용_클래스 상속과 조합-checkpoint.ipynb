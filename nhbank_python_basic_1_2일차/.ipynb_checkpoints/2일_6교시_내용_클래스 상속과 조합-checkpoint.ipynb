{
 "cells": [
  {
   "cell_type": "markdown",
   "id": "3fbd7ee6",
   "metadata": {},
   "source": [
    "# 1. 클래스 상속\n",
    "\n",
    "- 클래스를 재사용할 수 있도록 관계를 구성한다."
   ]
  },
  {
   "cell_type": "markdown",
   "id": "b57d893a",
   "metadata": {},
   "source": [
    "## 1-1 부모클래스 정의\n",
    "\n",
    "- 먼저 정의된 클래스의 속성과 메서드를 재사용한다"
   ]
  },
  {
   "cell_type": "code",
   "execution_count": 1,
   "id": "bb133db6",
   "metadata": {},
   "outputs": [],
   "source": [
    "class Parent :\n",
    "    def __init__(self,name,age) :\n",
    "        self.name = name;\n",
    "        self.age = age;\n",
    "        \n",
    "    def getInfo(self) :\n",
    "        return self.name, self.age"
   ]
  },
  {
   "cell_type": "markdown",
   "id": "50adc245",
   "metadata": {},
   "source": [
    "## 1-2 자식 클래스 정의\n",
    "- 추가적인 속성과 메서드를 추가해서 사용한다"
   ]
  },
  {
   "cell_type": "code",
   "execution_count": 2,
   "id": "ab307f03",
   "metadata": {},
   "outputs": [],
   "source": [
    "class Child (Parent):\n",
    "    def __init__(self,name,age,job) :\n",
    "        super().__init__(name,age)\n",
    "        self.job = job\n",
    "        \n",
    "    def getJob(self) :\n",
    "        return self.job"
   ]
  },
  {
   "cell_type": "markdown",
   "id": "e674b6fa",
   "metadata": {},
   "source": [
    "## 상속관계 확인 \n",
    "\n",
    "- 두 클래스간의 관계가 상속여부를 확인한다"
   ]
  },
  {
   "cell_type": "code",
   "execution_count": 3,
   "id": "d9cc026a",
   "metadata": {},
   "outputs": [
    {
     "data": {
      "text/plain": [
       "[__main__.Child]"
      ]
     },
     "execution_count": 3,
     "metadata": {},
     "output_type": "execute_result"
    }
   ],
   "source": [
    "Parent.__subclasses__()"
   ]
  },
  {
   "cell_type": "code",
   "execution_count": 4,
   "id": "ffa179bb",
   "metadata": {},
   "outputs": [
    {
     "data": {
      "text/plain": [
       "True"
      ]
     },
     "execution_count": 4,
     "metadata": {},
     "output_type": "execute_result"
    }
   ],
   "source": [
    "issubclass(Child,object)"
   ]
  },
  {
   "cell_type": "code",
   "execution_count": 5,
   "id": "42ef67af",
   "metadata": {},
   "outputs": [
    {
     "data": {
      "text/plain": [
       "True"
      ]
     },
     "execution_count": 5,
     "metadata": {},
     "output_type": "execute_result"
    }
   ],
   "source": [
    "issubclass(Child,Parent)"
   ]
  },
  {
   "cell_type": "markdown",
   "id": "7a7174f6",
   "metadata": {},
   "source": [
    "## 1-3 객체 생성 및 확인 "
   ]
  },
  {
   "cell_type": "code",
   "execution_count": 6,
   "id": "2e4690f2",
   "metadata": {},
   "outputs": [],
   "source": [
    "c = Child(\"이름\", 33, \"은행원\")"
   ]
  },
  {
   "cell_type": "code",
   "execution_count": 7,
   "id": "1cd34537",
   "metadata": {},
   "outputs": [
    {
     "data": {
      "text/plain": [
       "{'name': '이름', 'age': 33, 'job': '은행원'}"
      ]
     },
     "execution_count": 7,
     "metadata": {},
     "output_type": "execute_result"
    }
   ],
   "source": [
    "c.__dict__"
   ]
  },
  {
   "cell_type": "markdown",
   "id": "08af1325",
   "metadata": {},
   "source": [
    "## 인스턴스 관계 확인 \n",
    "\n",
    "- 클래스로 객체를 만들었는 지를 확인한다."
   ]
  },
  {
   "cell_type": "code",
   "execution_count": 8,
   "id": "1c8d9a48",
   "metadata": {},
   "outputs": [
    {
     "data": {
      "text/plain": [
       "True"
      ]
     },
     "execution_count": 8,
     "metadata": {},
     "output_type": "execute_result"
    }
   ],
   "source": [
    "isinstance(c,Parent)"
   ]
  },
  {
   "cell_type": "code",
   "execution_count": 9,
   "id": "1936a550",
   "metadata": {},
   "outputs": [
    {
     "data": {
      "text/plain": [
       "True"
      ]
     },
     "execution_count": 9,
     "metadata": {},
     "output_type": "execute_result"
    }
   ],
   "source": [
    "isinstance(c,Child)"
   ]
  },
  {
   "cell_type": "markdown",
   "id": "cffda86d",
   "metadata": {},
   "source": [
    "# 2. 클래스 조합 \n",
    "\n",
    "- 여러 클래스의 관계를 조합해서 하나의 기능을 처리하는 관계\n",
    "- "
   ]
  },
  {
   "cell_type": "markdown",
   "id": "d3d06532",
   "metadata": {},
   "source": [
    "## 2-1 결합관계 (Aggregation)"
   ]
  },
  {
   "cell_type": "markdown",
   "id": "6277c405",
   "metadata": {},
   "source": [
    "## 사용 클래스 작성"
   ]
  },
  {
   "cell_type": "code",
   "execution_count": 10,
   "id": "1d475a81",
   "metadata": {},
   "outputs": [],
   "source": [
    "class Salary:\n",
    "    def __init__(self, pay, bonus):\n",
    "        self.pay = pay\n",
    "        self.bonus = bonus\n",
    "  \n",
    "    def annual_salary(self):\n",
    "        return (self.pay*12)+self.bonus\n",
    "  "
   ]
  },
  {
   "cell_type": "markdown",
   "id": "c353b550",
   "metadata": {},
   "source": [
    "## 주 클래스 작성"
   ]
  },
  {
   "cell_type": "code",
   "execution_count": 11,
   "id": "dd0f8e79",
   "metadata": {},
   "outputs": [],
   "source": [
    "class EmployeeOne:\n",
    "    def __init__(self, name, age, sal):\n",
    "        self.name = name\n",
    "        self.age = age\n",
    "  \n",
    "        # initializing the sal parameter\n",
    "        self.agg_salary = sal   # Aggregation\n",
    "  \n",
    "    def total_sal(self):\n",
    "        return self.agg_salary.annual_salary()\n",
    "  "
   ]
  },
  {
   "cell_type": "markdown",
   "id": "f03dd401",
   "metadata": {},
   "source": [
    "## 상속관계 확인"
   ]
  },
  {
   "cell_type": "code",
   "execution_count": 12,
   "id": "1642a109",
   "metadata": {},
   "outputs": [
    {
     "data": {
      "text/plain": [
       "False"
      ]
     },
     "execution_count": 12,
     "metadata": {},
     "output_type": "execute_result"
    }
   ],
   "source": [
    "issubclass(Salary, EmployeeOne)"
   ]
  },
  {
   "cell_type": "markdown",
   "id": "0b0055bf",
   "metadata": {},
   "source": [
    "## 객체 생성 및 메서드 실행 "
   ]
  },
  {
   "cell_type": "code",
   "execution_count": 13,
   "id": "4d774f2c",
   "metadata": {},
   "outputs": [],
   "source": [
    "salary = Salary(10000, 1500)"
   ]
  },
  {
   "cell_type": "code",
   "execution_count": 14,
   "id": "a7d2fe7d",
   "metadata": {},
   "outputs": [],
   "source": [
    "emp = EmployeeOne('Geek', 25, salary)"
   ]
  },
  {
   "cell_type": "code",
   "execution_count": 15,
   "id": "de13515c",
   "metadata": {},
   "outputs": [
    {
     "name": "stdout",
     "output_type": "stream",
     "text": [
      "121500\n"
     ]
    }
   ],
   "source": [
    "print(emp.total_sal())"
   ]
  },
  {
   "cell_type": "markdown",
   "id": "aee26f40",
   "metadata": {},
   "source": [
    "## 2-2 조합관계 (Composition)"
   ]
  },
  {
   "cell_type": "markdown",
   "id": "54be0740",
   "metadata": {},
   "source": [
    "## 사용대상 클래스 작성"
   ]
  },
  {
   "cell_type": "code",
   "execution_count": 16,
   "id": "44deef38",
   "metadata": {},
   "outputs": [],
   "source": [
    "class Salary:\n",
    "    def __init__(self, pay, bonus):\n",
    "        self.pay = pay\n",
    "        self.bonus = bonus\n",
    "  \n",
    "    def annual_salary(self):\n",
    "        return (self.pay*12)+self.bonus"
   ]
  },
  {
   "cell_type": "markdown",
   "id": "b98abf53",
   "metadata": {},
   "source": [
    "## 주 클래스 작성 "
   ]
  },
  {
   "cell_type": "code",
   "execution_count": 17,
   "id": "482712df",
   "metadata": {},
   "outputs": [],
   "source": [
    "class Employee:\n",
    "    def __init__(self, name, age, pay, bonus):\n",
    "        self.name = name\n",
    "        self.age = age\n",
    "  \n",
    "        self.obj_salary = Salary(pay, bonus)  # 조합을 위해서 생성자 내부에 사용대상 클래스의 객체를 작성 \n",
    "  \n",
    "    def total_sal(self):\n",
    "        return self.obj_salary.annual_salary()\n",
    "  "
   ]
  },
  {
   "cell_type": "markdown",
   "id": "fc6faf25",
   "metadata": {},
   "source": [
    "## 상속관계 여부 확인"
   ]
  },
  {
   "cell_type": "code",
   "execution_count": 18,
   "id": "e3552e09",
   "metadata": {},
   "outputs": [
    {
     "data": {
      "text/plain": [
       "False"
      ]
     },
     "execution_count": 18,
     "metadata": {},
     "output_type": "execute_result"
    }
   ],
   "source": [
    "issubclass(Salary, Employee)"
   ]
  },
  {
   "cell_type": "markdown",
   "id": "44715c2a",
   "metadata": {},
   "source": [
    "## 객체 생성하고 메서드 사용하기"
   ]
  },
  {
   "cell_type": "code",
   "execution_count": 19,
   "id": "170da4f1",
   "metadata": {},
   "outputs": [],
   "source": [
    "emp = Employee('Geek', 25, 10000, 1500)"
   ]
  },
  {
   "cell_type": "code",
   "execution_count": 20,
   "id": "b837c616",
   "metadata": {},
   "outputs": [
    {
     "name": "stdout",
     "output_type": "stream",
     "text": [
      "121500\n"
     ]
    }
   ],
   "source": [
    "print(emp.total_sal())"
   ]
  },
  {
   "cell_type": "code",
   "execution_count": null,
   "id": "47028759",
   "metadata": {},
   "outputs": [],
   "source": []
  }
 ],
 "metadata": {
  "kernelspec": {
   "display_name": "Python 3 (ipykernel)",
   "language": "python",
   "name": "python3"
  },
  "language_info": {
   "codemirror_mode": {
    "name": "ipython",
    "version": 3
   },
   "file_extension": ".py",
   "mimetype": "text/x-python",
   "name": "python",
   "nbconvert_exporter": "python",
   "pygments_lexer": "ipython3",
   "version": "3.9.13"
  }
 },
 "nbformat": 4,
 "nbformat_minor": 5
}
