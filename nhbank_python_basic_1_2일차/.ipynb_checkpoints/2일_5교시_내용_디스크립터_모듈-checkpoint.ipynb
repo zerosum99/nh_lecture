{
 "cells": [
  {
   "cell_type": "markdown",
   "id": "3aad07a9",
   "metadata": {},
   "source": [
    "# 1. 디스크립터 "
   ]
  },
  {
   "cell_type": "markdown",
   "id": "d1428386",
   "metadata": {},
   "source": [
    "## 1-1 프로퍼티 디스크립터 "
   ]
  },
  {
   "cell_type": "code",
   "execution_count": 31,
   "id": "a3c82486",
   "metadata": {},
   "outputs": [],
   "source": [
    "class Klass :\n",
    "    def __init__(self, name) :\n",
    "        self._name = name\n",
    "        \n",
    "    @property    \n",
    "    def Name(self) :\n",
    "        return self._name\n",
    "    \n",
    "    @Name.setter\n",
    "    def Name(self, value) :\n",
    "        self._name = value\n",
    "        "
   ]
  },
  {
   "cell_type": "code",
   "execution_count": 32,
   "id": "f1afdad0",
   "metadata": {},
   "outputs": [],
   "source": [
    "k = Klass(\"이름\")"
   ]
  },
  {
   "cell_type": "code",
   "execution_count": 33,
   "id": "b79f09a0",
   "metadata": {},
   "outputs": [
    {
     "data": {
      "text/plain": [
       "{'_name': '이름'}"
      ]
     },
     "execution_count": 33,
     "metadata": {},
     "output_type": "execute_result"
    }
   ],
   "source": [
    "k.__dict__"
   ]
  },
  {
   "cell_type": "code",
   "execution_count": 34,
   "id": "489cb7a1",
   "metadata": {},
   "outputs": [
    {
     "data": {
      "text/plain": [
       "('이름', '이름')"
      ]
     },
     "execution_count": 34,
     "metadata": {},
     "output_type": "execute_result"
    }
   ],
   "source": [
    "k.Name, k._name"
   ]
  },
  {
   "cell_type": "code",
   "execution_count": 35,
   "id": "1c935ab0",
   "metadata": {},
   "outputs": [
    {
     "data": {
      "text/plain": [
       "'이름'"
      ]
     },
     "execution_count": 35,
     "metadata": {},
     "output_type": "execute_result"
    }
   ],
   "source": [
    "getattr(k,'_name')"
   ]
  },
  {
   "cell_type": "code",
   "execution_count": 36,
   "id": "a0c291e8",
   "metadata": {},
   "outputs": [],
   "source": [
    "setattr(k,'_name', \"농협\")"
   ]
  },
  {
   "cell_type": "code",
   "execution_count": 37,
   "id": "36bc6f22",
   "metadata": {},
   "outputs": [
    {
     "data": {
      "text/plain": [
       "{'_name': '농협'}"
      ]
     },
     "execution_count": 37,
     "metadata": {},
     "output_type": "execute_result"
    }
   ],
   "source": [
    "k.__dict__"
   ]
  },
  {
   "cell_type": "code",
   "execution_count": null,
   "id": "02db7749",
   "metadata": {},
   "outputs": [],
   "source": []
  },
  {
   "cell_type": "markdown",
   "id": "bfaa1ab7",
   "metadata": {},
   "source": [
    "## 1-2  디스클립터 클래스로 속성 처리하기"
   ]
  },
  {
   "cell_type": "markdown",
   "id": "70b49c87",
   "metadata": {},
   "source": [
    "## 디스크립터 클래스 정의 "
   ]
  },
  {
   "cell_type": "code",
   "execution_count": 6,
   "id": "6525e5ab",
   "metadata": {},
   "outputs": [],
   "source": [
    "class descriptor :\n",
    "    # 클래스 변수 이름을 가져와서 객체 속성으로 지정 \n",
    "    def __set_name__(self, owner, name):\n",
    "        self.public_name = name\n",
    "        self.private_name = '_' + name\n",
    "\n",
    "    # 게터 정의하기 \n",
    "    def __get__(self, obj, objtype=None):\n",
    "        return  getattr(obj, self.private_name)\n",
    "    \n",
    "    # 세터 정의하기 \n",
    "    def __set__(self, obj, value):\n",
    "        setattr(obj, self.private_name, value)\n"
   ]
  },
  {
   "cell_type": "markdown",
   "id": "223c992a",
   "metadata": {},
   "source": [
    "## 실제 클래스 정의 "
   ]
  },
  {
   "cell_type": "code",
   "execution_count": 7,
   "id": "3b701992",
   "metadata": {},
   "outputs": [],
   "source": [
    "class Person:\n",
    "    name = descriptor()\n",
    "    age = descriptor()                  # Descriptor instance\n",
    "\n",
    "    def __init__(self, name, age):\n",
    "        self.name = name                # 속성 갱신 \n",
    "        self.age = age                  # 디스크립터  __set__()\n",
    "\n",
    "    def birthday(self):\n",
    "        self.age += 1                   # Calls both __get__() and __set__()"
   ]
  },
  {
   "cell_type": "code",
   "execution_count": 8,
   "id": "a5834714",
   "metadata": {},
   "outputs": [],
   "source": [
    "p = Person(\"이름\", 44)"
   ]
  },
  {
   "cell_type": "code",
   "execution_count": 9,
   "id": "20a60933",
   "metadata": {},
   "outputs": [
    {
     "data": {
      "text/plain": [
       "{'_name': '이름', '_age': 44}"
      ]
     },
     "execution_count": 9,
     "metadata": {},
     "output_type": "execute_result"
    }
   ],
   "source": [
    "p.__dict__"
   ]
  },
  {
   "cell_type": "code",
   "execution_count": 10,
   "id": "7d4afd8b",
   "metadata": {},
   "outputs": [],
   "source": [
    "p.birthday()"
   ]
  },
  {
   "cell_type": "code",
   "execution_count": 12,
   "id": "1c516920",
   "metadata": {},
   "outputs": [
    {
     "data": {
      "text/plain": [
       "'이름'"
      ]
     },
     "execution_count": 12,
     "metadata": {},
     "output_type": "execute_result"
    }
   ],
   "source": [
    "p.name"
   ]
  },
  {
   "cell_type": "code",
   "execution_count": 11,
   "id": "91878226",
   "metadata": {},
   "outputs": [
    {
     "data": {
      "text/plain": [
       "45"
      ]
     },
     "execution_count": 11,
     "metadata": {},
     "output_type": "execute_result"
    }
   ],
   "source": [
    "p.age"
   ]
  },
  {
   "cell_type": "code",
   "execution_count": 17,
   "id": "bd825a9d",
   "metadata": {},
   "outputs": [],
   "source": [
    "class User(Person) :\n",
    "    job = descriptor()\n",
    "    def __init__(self, name,age,job) :\n",
    "        super().__init__(name,age)\n",
    "        self.job = job"
   ]
  },
  {
   "cell_type": "code",
   "execution_count": 18,
   "id": "28ffad33",
   "metadata": {},
   "outputs": [],
   "source": [
    "u = User(\"사용자\", 30, \"은행원\")"
   ]
  },
  {
   "cell_type": "code",
   "execution_count": 19,
   "id": "efe83c5f",
   "metadata": {},
   "outputs": [
    {
     "data": {
      "text/plain": [
       "{'_name': '사용자', '_age': 30, '_job': '은행원'}"
      ]
     },
     "execution_count": 19,
     "metadata": {},
     "output_type": "execute_result"
    }
   ],
   "source": [
    "u.__dict__"
   ]
  },
  {
   "cell_type": "markdown",
   "id": "166b9f39",
   "metadata": {},
   "source": [
    "# 2. 모듈 작성하기 "
   ]
  },
  {
   "cell_type": "code",
   "execution_count": 13,
   "id": "631af3ca",
   "metadata": {},
   "outputs": [
    {
     "name": "stdout",
     "output_type": "stream",
     "text": [
      "Writing add.py\n"
     ]
    }
   ],
   "source": [
    "%%writefile add.py\n",
    "\n",
    "def add(x,y) :\n",
    "    return x+y"
   ]
  },
  {
   "cell_type": "code",
   "execution_count": 14,
   "id": "858aa00a",
   "metadata": {},
   "outputs": [],
   "source": [
    "import add"
   ]
  },
  {
   "cell_type": "code",
   "execution_count": 16,
   "id": "67a77b11",
   "metadata": {},
   "outputs": [
    {
     "data": {
      "text/plain": [
       "300"
      ]
     },
     "execution_count": 16,
     "metadata": {},
     "output_type": "execute_result"
    }
   ],
   "source": [
    "add.add(100,200)"
   ]
  },
  {
   "cell_type": "code",
   "execution_count": null,
   "id": "d0f920d2",
   "metadata": {},
   "outputs": [],
   "source": []
  }
 ],
 "metadata": {
  "kernelspec": {
   "display_name": "Python 3 (ipykernel)",
   "language": "python",
   "name": "python3"
  },
  "language_info": {
   "codemirror_mode": {
    "name": "ipython",
    "version": 3
   },
   "file_extension": ".py",
   "mimetype": "text/x-python",
   "name": "python",
   "nbconvert_exporter": "python",
   "pygments_lexer": "ipython3",
   "version": "3.9.13"
  }
 },
 "nbformat": 4,
 "nbformat_minor": 5
}
