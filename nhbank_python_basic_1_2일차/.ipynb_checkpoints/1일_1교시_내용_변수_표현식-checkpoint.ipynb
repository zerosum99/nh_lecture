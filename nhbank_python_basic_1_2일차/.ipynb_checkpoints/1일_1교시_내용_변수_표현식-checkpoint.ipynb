{
 "cells": [
  {
   "cell_type": "code",
   "execution_count": null,
   "id": "fc5c8354",
   "metadata": {},
   "outputs": [],
   "source": []
  },
  {
   "cell_type": "markdown",
   "id": "8403f1ea",
   "metadata": {},
   "source": [
    "# 1. 변수 \n",
    "\n",
    "- 변수는 값을 재사용 목적으로 지정한다.  \n"
   ]
  },
  {
   "cell_type": "markdown",
   "id": "30a1ef70",
   "metadata": {},
   "source": [
    "##  1-1 변수 정의 하기\n",
    "\n",
    "- 변수는 이름과 할당연산자 그리고 값으로 지정한다. "
   ]
  },
  {
   "cell_type": "markdown",
   "id": "183c685f",
   "metadata": {},
   "source": [
    "## 변수 이름과 어노테이션으로 정의하면 주석으로 처리"
   ]
  },
  {
   "cell_type": "code",
   "execution_count": 1,
   "id": "54134b9c",
   "metadata": {},
   "outputs": [],
   "source": [
    "var : int        # 변수와 자료형을 지정한 것 같지만 실제 어노테이션(주석)으로만 인식 "
   ]
  },
  {
   "cell_type": "code",
   "execution_count": 2,
   "id": "e257d41c",
   "metadata": {},
   "outputs": [
    {
     "ename": "NameError",
     "evalue": "name 'var' is not defined",
     "output_type": "error",
     "traceback": [
      "\u001b[0;31m---------------------------------------------------------------------------\u001b[0m",
      "\u001b[0;31mNameError\u001b[0m                                 Traceback (most recent call last)",
      "Input \u001b[0;32mIn [2]\u001b[0m, in \u001b[0;36m<cell line: 1>\u001b[0;34m()\u001b[0m\n\u001b[0;32m----> 1\u001b[0m \u001b[43mvar\u001b[49m\n",
      "\u001b[0;31mNameError\u001b[0m: name 'var' is not defined"
     ]
    }
   ],
   "source": [
    "var              # 아직 변수 정의가 안되어서 예외가 남  NameError는 실제 변수가 정의되지 않아 발생함 "
   ]
  },
  {
   "cell_type": "markdown",
   "id": "57a7d436",
   "metadata": {},
   "source": [
    "## 변수는 반드시 값을 할당해야 한다"
   ]
  },
  {
   "cell_type": "code",
   "execution_count": 3,
   "id": "915177c0",
   "metadata": {},
   "outputs": [],
   "source": [
    " x = 100                        # 변수 정의는 이름에 값을 반드시 할당해야 함 "
   ]
  },
  {
   "cell_type": "markdown",
   "id": "62fd8ebf",
   "metadata": {},
   "source": [
    "## 변수에 어노테이션 붙이기"
   ]
  },
  {
   "cell_type": "code",
   "execution_count": 4,
   "id": "db24e416",
   "metadata": {},
   "outputs": [],
   "source": [
    "y : int = 200                   # 변수 할당할 때 타입 어노테이션을 지정할 수 있다. "
   ]
  },
  {
   "cell_type": "code",
   "execution_count": null,
   "id": "31cfafe0",
   "metadata": {},
   "outputs": [],
   "source": []
  },
  {
   "cell_type": "markdown",
   "id": "626fc05c",
   "metadata": {},
   "source": [
    "## 1-2 변수 참조하기 "
   ]
  },
  {
   "cell_type": "markdown",
   "id": "2ad16467",
   "metadata": {},
   "source": [
    "## 변수를 할당하면 변수에 저장된 값을 항상 사용할 수 있다. "
   ]
  },
  {
   "cell_type": "code",
   "execution_count": 5,
   "id": "d3adfe37",
   "metadata": {},
   "outputs": [
    {
     "data": {
      "text/plain": [
       "100"
      ]
     },
     "execution_count": 5,
     "metadata": {},
     "output_type": "execute_result"
    }
   ],
   "source": [
    "x                              # 변수에 값이 저장되어 이름으로 조회하면 내부에 저장된 값을 조회한다. "
   ]
  },
  {
   "cell_type": "code",
   "execution_count": null,
   "id": "823b006b",
   "metadata": {},
   "outputs": [],
   "source": []
  },
  {
   "cell_type": "markdown",
   "id": "34246998",
   "metadata": {},
   "source": [
    "## 1-3 여러 변수 할당 "
   ]
  },
  {
   "cell_type": "markdown",
   "id": "befabaf5",
   "metadata": {},
   "source": [
    "## 동일한 값을 변수에 할당하기 "
   ]
  },
  {
   "cell_type": "code",
   "execution_count": 6,
   "id": "6105ecb3",
   "metadata": {},
   "outputs": [],
   "source": [
    "a = b = c = 400              # 동일한 값을 여러 변수에 할당할 때는 여러 변수와 할당연산자를 동시에 작성하고 값을 할당한다"
   ]
  },
  {
   "cell_type": "code",
   "execution_count": 7,
   "id": "8873b30f",
   "metadata": {},
   "outputs": [
    {
     "data": {
      "text/plain": [
       "(400, 400, 400)"
      ]
     },
     "execution_count": 7,
     "metadata": {},
     "output_type": "execute_result"
    }
   ],
   "source": [
    "a, b, c                      # 변수 여러 개를 쉼표로 조회하면 실제 튜플로 출력한다. "
   ]
  },
  {
   "cell_type": "markdown",
   "id": "744c1e3d",
   "metadata": {},
   "source": [
    "## 여러 문장을 하나의 문장으로 작성할 때는 세미콜론으로 구분한다."
   ]
  },
  {
   "cell_type": "code",
   "execution_count": 8,
   "id": "642d350c",
   "metadata": {},
   "outputs": [],
   "source": [
    "tc = 700; td= 9999           # 변수 할당을 두개를 연속으로 하면 두개의 문장이므로 두 문장을 구분하도록 세미콜론을 중간에 표시해야한다."
   ]
  },
  {
   "cell_type": "code",
   "execution_count": null,
   "id": "b48318ea",
   "metadata": {},
   "outputs": [],
   "source": []
  },
  {
   "cell_type": "markdown",
   "id": "789548b6",
   "metadata": {},
   "source": [
    "##  두변수의 값을 교환 \n",
    "\n",
    "- 할당연산자를 사이에 두고 튜플 표기로 처리"
   ]
  },
  {
   "cell_type": "code",
   "execution_count": 9,
   "id": "ed20e661",
   "metadata": {},
   "outputs": [],
   "source": [
    "(td, tc) = (tc, td)          #  할당연산자 좌측과 우측에 두 변수를 쉼표로 분리하면 튜플로 인식하므로 바로 값을 교환할 수 있다. "
   ]
  },
  {
   "cell_type": "code",
   "execution_count": 10,
   "id": "d858ab41",
   "metadata": {},
   "outputs": [
    {
     "data": {
      "text/plain": [
       "(9999, 700)"
      ]
     },
     "execution_count": 10,
     "metadata": {},
     "output_type": "execute_result"
    }
   ],
   "source": [
    "tc,td"
   ]
  },
  {
   "cell_type": "markdown",
   "id": "ef464035",
   "metadata": {},
   "source": [
    "### 튜플은 괄호보다 쉼표가 중요 "
   ]
  },
  {
   "cell_type": "code",
   "execution_count": 11,
   "id": "df841b8d",
   "metadata": {},
   "outputs": [],
   "source": [
    "td, tc = tc, td            # 여러 개를 쉼표로 분리할 때는 괄호가 없어도 튜플로 인식한다.  보기 좋게하기 위해서 괄호를 사용하는 것이 바람직하다 "
   ]
  },
  {
   "cell_type": "code",
   "execution_count": 12,
   "id": "ac3fdcbc",
   "metadata": {},
   "outputs": [
    {
     "data": {
      "text/plain": [
       "(700, 9999)"
      ]
     },
     "execution_count": 12,
     "metadata": {},
     "output_type": "execute_result"
    }
   ],
   "source": [
    "tc,td"
   ]
  },
  {
   "cell_type": "markdown",
   "id": "8da9fa3d",
   "metadata": {},
   "source": [
    "# 2  표현식 "
   ]
  },
  {
   "cell_type": "markdown",
   "id": "061cf016",
   "metadata": {},
   "source": [
    "## 2-1 숫자 표현"
   ]
  },
  {
   "cell_type": "markdown",
   "id": "d5e1c276",
   "metadata": {},
   "source": [
    "## 정수 확인하기 "
   ]
  },
  {
   "cell_type": "code",
   "execution_count": 13,
   "id": "61f5e8e9",
   "metadata": {},
   "outputs": [
    {
     "data": {
      "text/plain": [
       "100"
      ]
     },
     "execution_count": 13,
     "metadata": {},
     "output_type": "execute_result"
    }
   ],
   "source": [
    "100                     # 정수 표현 "
   ]
  },
  {
   "cell_type": "code",
   "execution_count": 14,
   "id": "6ec8e4e4",
   "metadata": {},
   "outputs": [
    {
     "data": {
      "text/plain": [
       "int"
      ]
     },
     "execution_count": 14,
     "metadata": {},
     "output_type": "execute_result"
    }
   ],
   "source": [
    "(100).__class__         # 파이썬은 모든 것이 객체이므로 이 객체를 만든 클래스를 확인할 수 있다. "
   ]
  },
  {
   "cell_type": "code",
   "execution_count": 15,
   "id": "2911411e",
   "metadata": {},
   "outputs": [
    {
     "data": {
      "text/plain": [
       "int"
      ]
     },
     "execution_count": 15,
     "metadata": {},
     "output_type": "execute_result"
    }
   ],
   "source": [
    "type(100)               # 타입으로 확인할 수도 있다. "
   ]
  },
  {
   "cell_type": "markdown",
   "id": "91025d19",
   "metadata": {},
   "source": [
    "## 실수 확인하기 "
   ]
  },
  {
   "cell_type": "code",
   "execution_count": 16,
   "id": "202bf7a8",
   "metadata": {},
   "outputs": [
    {
     "data": {
      "text/plain": [
       "1000.11"
      ]
     },
     "execution_count": 16,
     "metadata": {},
     "output_type": "execute_result"
    }
   ],
   "source": [
    "1000.11                 # 실수 표현"
   ]
  },
  {
   "cell_type": "code",
   "execution_count": 17,
   "id": "4dcd95f6",
   "metadata": {},
   "outputs": [
    {
     "data": {
      "text/plain": [
       "float"
      ]
     },
     "execution_count": 17,
     "metadata": {},
     "output_type": "execute_result"
    }
   ],
   "source": [
    "(1000.11).__class__    # 파이썬은 모든 것이 객체이므로 이 객체를 만든 클래스를 확인할 수 있다. "
   ]
  },
  {
   "cell_type": "code",
   "execution_count": 18,
   "id": "35f6d11d",
   "metadata": {},
   "outputs": [
    {
     "data": {
      "text/plain": [
       "float"
      ]
     },
     "execution_count": 18,
     "metadata": {},
     "output_type": "execute_result"
    }
   ],
   "source": [
    "type(1000.11)          # 타입으로 확인할 수도 있다. "
   ]
  },
  {
   "cell_type": "markdown",
   "id": "569403b7",
   "metadata": {},
   "source": [
    "## 표현식을 사용해서 계산하기 "
   ]
  },
  {
   "cell_type": "code",
   "execution_count": 19,
   "id": "27287036",
   "metadata": {},
   "outputs": [],
   "source": [
    "z = (x*x) + y          # 표션식은 하나의 값을 표시한다. 그래서 할당연산자 좌측의 변수에 최종 결과 값만 저장한다. "
   ]
  },
  {
   "cell_type": "code",
   "execution_count": 20,
   "id": "2a343036",
   "metadata": {},
   "outputs": [
    {
     "data": {
      "text/plain": [
       "10200"
      ]
     },
     "execution_count": 20,
     "metadata": {},
     "output_type": "execute_result"
    }
   ],
   "source": [
    "z"
   ]
  },
  {
   "cell_type": "markdown",
   "id": "be29f30d",
   "metadata": {},
   "source": [
    "## 2-2 내부 속성과 메서드 확인 "
   ]
  },
  {
   "cell_type": "markdown",
   "id": "36d61667",
   "metadata": {},
   "source": [
    "## dir 함수를 사용해서 내부 클래스 내의 속성들을 확인"
   ]
  },
  {
   "cell_type": "code",
   "execution_count": 21,
   "id": "490250c4",
   "metadata": {},
   "outputs": [
    {
     "name": "stdout",
     "output_type": "stream",
     "text": [
      "__abs__, __add__, __and__, __bool__, __ceil__, __class__, __delattr__, __dir__, __divmod__, __doc__, __eq__, __float__, __floor__, __floordiv__, __format__, __ge__, __getattribute__, __getnewargs__, __gt__, __hash__, __index__, __init__, __init_subclass__, __int__, __invert__, __le__, __lshift__, __lt__, __mod__, __mul__, __ne__, __neg__, __new__, __or__, __pos__, __pow__, __radd__, __rand__, __rdivmod__, __reduce__, __reduce_ex__, __repr__, __rfloordiv__, __rlshift__, __rmod__, __rmul__, __ror__, __round__, __rpow__, __rrshift__, __rshift__, __rsub__, __rtruediv__, __rxor__, __setattr__, __sizeof__, __str__, __sub__, __subclasshook__, __truediv__, __trunc__, __xor__, as_integer_ratio, bit_length, conjugate, denominator, from_bytes, imag, numerator, real, to_bytes, "
     ]
    }
   ],
   "source": [
    "for i in  dir(int) :            # 정수 클래스 내의 속성과 메서드를 문자열로 출력 \n",
    "    print(i, end=', ')"
   ]
  },
  {
   "cell_type": "markdown",
   "id": "368e55aa",
   "metadata": {},
   "source": [
    "##  2-3  클래스 확인하기 \n",
    "\n",
    "- type 이나 __class__ 속성으로 값의 클래스를 확인하기"
   ]
  },
  {
   "cell_type": "markdown",
   "id": "94ef1ecc",
   "metadata": {},
   "source": [
    "## 클래스의 클래스 확인"
   ]
  },
  {
   "cell_type": "code",
   "execution_count": 24,
   "id": "78bb6e1e",
   "metadata": {},
   "outputs": [
    {
     "data": {
      "text/plain": [
       "(type, type)"
      ]
     },
     "execution_count": 24,
     "metadata": {},
     "output_type": "execute_result"
    }
   ],
   "source": [
    "type(int), int.__class__            # 클래스의 클래스는 메타 클래스이다. 파이썬의 type은 메타클래스 "
   ]
  },
  {
   "cell_type": "markdown",
   "id": "291bb514",
   "metadata": {},
   "source": [
    "## 객체의 클래스 확인 "
   ]
  },
  {
   "cell_type": "code",
   "execution_count": 25,
   "id": "9ef6a7ce",
   "metadata": {},
   "outputs": [
    {
     "data": {
      "text/plain": [
       "(int, int)"
      ]
     },
     "execution_count": 25,
     "metadata": {},
     "output_type": "execute_result"
    }
   ],
   "source": [
    "type(100), (100).__class__"
   ]
  },
  {
   "cell_type": "markdown",
   "id": "f41dcf70",
   "metadata": {},
   "source": [
    "## 2-4 인터널 확인\n",
    "\n",
    "- 숫자는 256까지는 내부에 만들어져서 항상 동일한 객체\n",
    "- 하지만 더 큰 수는 매번 객체를 만들어서 처리하므로 동일한 객체는 아니지만 값은 동일\n",
    "- 그래서 is 연산자가 아닌  == 연산자로 값만 비교한다."
   ]
  },
  {
   "cell_type": "code",
   "execution_count": 14,
   "id": "7d80dcbc",
   "metadata": {},
   "outputs": [],
   "source": [
    "sa = 256\n",
    "ss = 256\n",
    "\n",
    "va = 257\n",
    "vs = 257 "
   ]
  },
  {
   "cell_type": "code",
   "execution_count": 15,
   "id": "8d203015",
   "metadata": {},
   "outputs": [
    {
     "name": "stdout",
     "output_type": "stream",
     "text": [
      "True\n",
      "False\n"
     ]
    }
   ],
   "source": [
    "print(sa is ss)               # 객체의 레퍼런스 비교 \n",
    "print(va is vs)"
   ]
  },
  {
   "cell_type": "code",
   "execution_count": 16,
   "id": "aa4b6173",
   "metadata": {},
   "outputs": [
    {
     "name": "stdout",
     "output_type": "stream",
     "text": [
      "True\n",
      "True\n"
     ]
    }
   ],
   "source": [
    "print(sa == ss)               # 객체의 값을 비교 \n",
    "print(va == vs)"
   ]
  },
  {
   "cell_type": "code",
   "execution_count": null,
   "id": "0f4885ee",
   "metadata": {},
   "outputs": [],
   "source": []
  }
 ],
 "metadata": {
  "kernelspec": {
   "display_name": "Python 3 (ipykernel)",
   "language": "python",
   "name": "python3"
  },
  "language_info": {
   "codemirror_mode": {
    "name": "ipython",
    "version": 3
   },
   "file_extension": ".py",
   "mimetype": "text/x-python",
   "name": "python",
   "nbconvert_exporter": "python",
   "pygments_lexer": "ipython3",
   "version": "3.9.13"
  }
 },
 "nbformat": 4,
 "nbformat_minor": 5
}
