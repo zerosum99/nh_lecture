{
 "cells": [
  {
   "cell_type": "markdown",
   "id": "d3e1698c",
   "metadata": {},
   "source": [
    "# 1. 클로저 환경 "
   ]
  },
  {
   "cell_type": "markdown",
   "id": "dc2cf46d",
   "metadata": {},
   "source": [
    "## 1-1 함수 내부의 함수 정의하기"
   ]
  },
  {
   "cell_type": "markdown",
   "id": "6be0c065",
   "metadata": {},
   "source": [
    "## 함수를 정의해서 실행하기"
   ]
  },
  {
   "cell_type": "code",
   "execution_count": 1,
   "id": "eb019bc6",
   "metadata": {},
   "outputs": [],
   "source": [
    "def func(x,y) :\n",
    "    return x+y"
   ]
  },
  {
   "cell_type": "code",
   "execution_count": 2,
   "id": "1c96f27b",
   "metadata": {},
   "outputs": [
    {
     "data": {
      "text/plain": [
       "30"
      ]
     },
     "execution_count": 2,
     "metadata": {},
     "output_type": "execute_result"
    }
   ],
   "source": [
    "func(10,20)"
   ]
  },
  {
   "cell_type": "markdown",
   "id": "7a417de4",
   "metadata": {},
   "source": [
    "## 기존 함수를 매개변수를 분리해서 처리하도록 함수를 분리"
   ]
  },
  {
   "cell_type": "code",
   "execution_count": 3,
   "id": "8c3d52ae",
   "metadata": {},
   "outputs": [],
   "source": [
    "def outer(x) :\n",
    "    def inner(y) :\n",
    "        return x+y\n",
    "    return inner"
   ]
  },
  {
   "cell_type": "code",
   "execution_count": 4,
   "id": "c9f3f6a5",
   "metadata": {},
   "outputs": [],
   "source": [
    "inner = outer(10)"
   ]
  },
  {
   "cell_type": "code",
   "execution_count": 5,
   "id": "af6ffa53",
   "metadata": {},
   "outputs": [
    {
     "data": {
      "text/plain": [
       "30"
      ]
     },
     "execution_count": 5,
     "metadata": {},
     "output_type": "execute_result"
    }
   ],
   "source": [
    "inner(20)"
   ]
  },
  {
   "cell_type": "markdown",
   "id": "eae6b32e",
   "metadata": {},
   "source": [
    "## 1-2 클로저 환경 확인하기"
   ]
  },
  {
   "cell_type": "markdown",
   "id": "738a4a19",
   "metadata": {},
   "source": [
    "## 내부함수는 외부함수의 변수를 캡처해서 사용\n",
    "\n",
    "-  외부함수의 변수를 내부함수에서 사용하는 것을 클로저라고 함"
   ]
  },
  {
   "cell_type": "code",
   "execution_count": 6,
   "id": "df8b039b",
   "metadata": {},
   "outputs": [
    {
     "data": {
      "text/plain": [
       "(<cell at 0x106255520: int object at 0x102bcea50>,)"
      ]
     },
     "execution_count": 6,
     "metadata": {},
     "output_type": "execute_result"
    }
   ],
   "source": [
    "inner.__closure__            # 내부함수 내의 클로저인 변수를 확인"
   ]
  },
  {
   "cell_type": "code",
   "execution_count": 7,
   "id": "b10b7a70",
   "metadata": {},
   "outputs": [
    {
     "data": {
      "text/plain": [
       "10"
      ]
     },
     "execution_count": 7,
     "metadata": {},
     "output_type": "execute_result"
    }
   ],
   "source": [
    "inner.__closure__[0].cell_contents"
   ]
  },
  {
   "cell_type": "code",
   "execution_count": null,
   "id": "8115d7b9",
   "metadata": {},
   "outputs": [],
   "source": []
  },
  {
   "cell_type": "markdown",
   "id": "643948c0",
   "metadata": {},
   "source": [
    "# 2. 데코레이터\n",
    "\n",
    "-  클로저환경을 이용해서 실행함수를 전달한 후에 이를 사용해서 내부 기능을 추가하고 처리하는 방식"
   ]
  },
  {
   "cell_type": "markdown",
   "id": "a34b8153",
   "metadata": {},
   "source": [
    "## 2-1 일반적인 방식이 데코레이터 구성하기 \n",
    "\n",
    "- 함수를 정의해서 함수의 인자로 함수를 전달해서 내부함수를 반환"
   ]
  },
  {
   "cell_type": "code",
   "execution_count": 8,
   "id": "98235f36",
   "metadata": {},
   "outputs": [],
   "source": [
    "def add(x,y) :\n",
    "    return x+y"
   ]
  },
  {
   "cell_type": "code",
   "execution_count": 9,
   "id": "5f72f7d5",
   "metadata": {},
   "outputs": [],
   "source": [
    "def outer(func) :\n",
    "    def inner(*args, **kwargs) :\n",
    "        return func(*args, **kwargs)\n",
    "    \n",
    "    return inner"
   ]
  },
  {
   "cell_type": "code",
   "execution_count": 10,
   "id": "519aa2fb",
   "metadata": {},
   "outputs": [],
   "source": [
    "add = outer(add)"
   ]
  },
  {
   "cell_type": "code",
   "execution_count": 11,
   "id": "bc418da7",
   "metadata": {},
   "outputs": [
    {
     "data": {
      "text/plain": [
       "<function __main__.outer.<locals>.inner(*args, **kwargs)>"
      ]
     },
     "execution_count": 11,
     "metadata": {},
     "output_type": "execute_result"
    }
   ],
   "source": [
    "add"
   ]
  },
  {
   "cell_type": "code",
   "execution_count": 12,
   "id": "a186b5f1",
   "metadata": {},
   "outputs": [
    {
     "data": {
      "text/plain": [
       "30"
      ]
     },
     "execution_count": 12,
     "metadata": {},
     "output_type": "execute_result"
    }
   ],
   "source": [
    "add(10,20)"
   ]
  },
  {
   "cell_type": "markdown",
   "id": "957c464a",
   "metadata": {},
   "source": [
    "## 2-2 데코레이터 표기법 사용하기\n",
    "\n",
    "- 다양한 데코레이터를 처리하기 위해 @ 표기법으로 사용"
   ]
  },
  {
   "cell_type": "code",
   "execution_count": null,
   "id": "a7c6a412",
   "metadata": {},
   "outputs": [],
   "source": []
  },
  {
   "cell_type": "code",
   "execution_count": 13,
   "id": "f77d95c6",
   "metadata": {},
   "outputs": [],
   "source": [
    "def decorator(func) :\n",
    "    def printFunc() :\n",
    "        print(\" 내부 기능 실행 \")\n",
    "    def inner(*args, **kwargs) :\n",
    "        printFunc()\n",
    "        return func(*args, **kwargs)\n",
    "    \n",
    "    return inner"
   ]
  },
  {
   "cell_type": "code",
   "execution_count": null,
   "id": "10b905ea",
   "metadata": {},
   "outputs": [],
   "source": []
  },
  {
   "cell_type": "code",
   "execution_count": 14,
   "id": "39dfd413",
   "metadata": {},
   "outputs": [],
   "source": [
    "@decorator\n",
    "def mul(x,y) :\n",
    "    return x*y"
   ]
  },
  {
   "cell_type": "code",
   "execution_count": 15,
   "id": "1c7a484b",
   "metadata": {},
   "outputs": [
    {
     "name": "stdout",
     "output_type": "stream",
     "text": [
      " 내부 기능 실행 \n"
     ]
    },
    {
     "data": {
      "text/plain": [
       "200"
      ]
     },
     "execution_count": 15,
     "metadata": {},
     "output_type": "execute_result"
    }
   ],
   "source": [
    "mul(10,20)"
   ]
  },
  {
   "cell_type": "code",
   "execution_count": null,
   "id": "37ac0587",
   "metadata": {},
   "outputs": [],
   "source": []
  },
  {
   "cell_type": "markdown",
   "id": "945c3525",
   "metadata": {},
   "source": [
    "## 2-3 여러 데코레이터를 사용하기 \n",
    "\n",
    "- 데코레이터를 계속 탑으로 쌓아서 처리할 수 있다. "
   ]
  },
  {
   "cell_type": "markdown",
   "id": "2fbea203",
   "metadata": {},
   "source": [
    "## 2개의 데코레이터 처리함수 정의"
   ]
  },
  {
   "cell_type": "code",
   "execution_count": 16,
   "id": "bae72b35",
   "metadata": {},
   "outputs": [],
   "source": [
    "def decorator1(func) :\n",
    "    def printFunc() :\n",
    "        print(\" 데코레이터 1 내부 기능 실행 \")\n",
    "    def inner(*args, **kwargs) :\n",
    "        printFunc()\n",
    "        return func(*args, **kwargs)\n",
    "    \n",
    "    return inner"
   ]
  },
  {
   "cell_type": "code",
   "execution_count": 17,
   "id": "808b11fa",
   "metadata": {},
   "outputs": [],
   "source": [
    "def decorator2(func) :\n",
    "    def printFunc() :\n",
    "        print(\" 데코레이터 2 내부 기능 실행 \")\n",
    "    def inner(*args, **kwargs) :\n",
    "        printFunc()\n",
    "        return func(*args, **kwargs)\n",
    "    \n",
    "    return inner"
   ]
  },
  {
   "cell_type": "markdown",
   "id": "1329375f",
   "metadata": {},
   "source": [
    "## 실행함수에 데코레이터 처리"
   ]
  },
  {
   "cell_type": "code",
   "execution_count": 18,
   "id": "6e7c2cc4",
   "metadata": {},
   "outputs": [],
   "source": [
    "@decorator2\n",
    "@decorator1\n",
    "def sub(x,y) :\n",
    "    return x - y"
   ]
  },
  {
   "cell_type": "markdown",
   "id": "3f51cfae",
   "metadata": {},
   "source": [
    "## 실행함수 실행 "
   ]
  },
  {
   "cell_type": "code",
   "execution_count": 19,
   "id": "f05a6caa",
   "metadata": {},
   "outputs": [
    {
     "name": "stdout",
     "output_type": "stream",
     "text": [
      " 데코레이터 2 내부 기능 실행 \n",
      " 데코레이터 1 내부 기능 실행 \n"
     ]
    },
    {
     "data": {
      "text/plain": [
       "20"
      ]
     },
     "execution_count": 19,
     "metadata": {},
     "output_type": "execute_result"
    }
   ],
   "source": [
    "sub(100,80)"
   ]
  },
  {
   "cell_type": "code",
   "execution_count": null,
   "id": "76d781c4",
   "metadata": {},
   "outputs": [],
   "source": []
  }
 ],
 "metadata": {
  "kernelspec": {
   "display_name": "Python 3 (ipykernel)",
   "language": "python",
   "name": "python3"
  },
  "language_info": {
   "codemirror_mode": {
    "name": "ipython",
    "version": 3
   },
   "file_extension": ".py",
   "mimetype": "text/x-python",
   "name": "python",
   "nbconvert_exporter": "python",
   "pygments_lexer": "ipython3",
   "version": "3.9.13"
  }
 },
 "nbformat": 4,
 "nbformat_minor": 5
}
