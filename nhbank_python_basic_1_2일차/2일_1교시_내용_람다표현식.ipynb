{
 "cells": [
  {
   "cell_type": "markdown",
   "id": "8d3eb252",
   "metadata": {},
   "source": [
    "# 1. 람다표현식 \n",
    "\n",
    "- 예약어 lambda 다음에 매개변수 + 콜론 다음에 표현식을 사용\n",
    "- 표현식은 문장이 아니므로 return 등 문장을 작성할 수 없다."
   ]
  },
  {
   "cell_type": "markdown",
   "id": "ba190902",
   "metadata": {},
   "source": [
    "## 1-1 람다 표현식\n",
    "-  람다표현식은 보통 바로 작성해서 실행한다.  \n",
    "- 일반함수처럼 별도의 정의가 필요하지 않는다. "
   ]
  },
  {
   "cell_type": "code",
   "execution_count": 1,
   "id": "5d5d2e54",
   "metadata": {},
   "outputs": [
    {
     "data": {
      "text/plain": [
       "300"
      ]
     },
     "execution_count": 1,
     "metadata": {},
     "output_type": "execute_result"
    }
   ],
   "source": [
    "(lambda x,y : x+y) (100,200)"
   ]
  },
  {
   "cell_type": "markdown",
   "id": "00d8c245",
   "metadata": {},
   "source": [
    "## 1-2 변수에 할당 \n",
    "\n",
    "- 람다표현식을 다시 사용하려면 변수에 할당한다.\n",
    "- 그 다음에 필요한 곳에서 실행한다. "
   ]
  },
  {
   "cell_type": "code",
   "execution_count": 2,
   "id": "9bc84c75",
   "metadata": {},
   "outputs": [],
   "source": [
    "func = lambda x,y : x+y "
   ]
  },
  {
   "cell_type": "code",
   "execution_count": 3,
   "id": "993f3de9",
   "metadata": {},
   "outputs": [
    {
     "data": {
      "text/plain": [
       "777"
      ]
     },
     "execution_count": 3,
     "metadata": {},
     "output_type": "execute_result"
    }
   ],
   "source": [
    "func(333,444)"
   ]
  },
  {
   "cell_type": "code",
   "execution_count": null,
   "id": "3b556403",
   "metadata": {},
   "outputs": [],
   "source": []
  },
  {
   "cell_type": "code",
   "execution_count": null,
   "id": "2a0b0990",
   "metadata": {},
   "outputs": [],
   "source": []
  },
  {
   "cell_type": "markdown",
   "id": "e40f6c0d",
   "metadata": {},
   "source": [
    "# 2. 함수는 1급 객체 "
   ]
  },
  {
   "cell_type": "code",
   "execution_count": null,
   "id": "5dd89053",
   "metadata": {},
   "outputs": [],
   "source": []
  },
  {
   "cell_type": "markdown",
   "id": "b3d65d34",
   "metadata": {},
   "source": [
    "## 2-1 함수 인자 전달 "
   ]
  },
  {
   "cell_type": "markdown",
   "id": "9963cfb7",
   "metadata": {},
   "source": [
    "## 함수를 정의할 때 기본값으로 람다표현식 전달 "
   ]
  },
  {
   "cell_type": "code",
   "execution_count": 4,
   "id": "2929473f",
   "metadata": {},
   "outputs": [],
   "source": [
    "def func(x, f =(lambda x : x*x )) :\n",
    "    return f(x)\n"
   ]
  },
  {
   "cell_type": "code",
   "execution_count": 5,
   "id": "88573a78",
   "metadata": {},
   "outputs": [
    {
     "data": {
      "text/plain": [
       "10000"
      ]
     },
     "execution_count": 5,
     "metadata": {},
     "output_type": "execute_result"
    }
   ],
   "source": [
    "func(100)"
   ]
  },
  {
   "cell_type": "markdown",
   "id": "70272ce1",
   "metadata": {},
   "source": [
    "## 함수를 정의하고 함수 호출할 때 람다표현식을 전달 "
   ]
  },
  {
   "cell_type": "code",
   "execution_count": 6,
   "id": "d83affda",
   "metadata": {},
   "outputs": [],
   "source": [
    "def func1(x, f) :\n",
    "    return f(x)"
   ]
  },
  {
   "cell_type": "code",
   "execution_count": 7,
   "id": "e184b7ac",
   "metadata": {},
   "outputs": [
    {
     "data": {
      "text/plain": [
       "40000"
      ]
     },
     "execution_count": 7,
     "metadata": {},
     "output_type": "execute_result"
    }
   ],
   "source": [
    "func1(200, lambda x : x*x)"
   ]
  },
  {
   "cell_type": "markdown",
   "id": "c3698eb9",
   "metadata": {},
   "source": [
    "## 2-2 함수를 반환값 전달 "
   ]
  },
  {
   "cell_type": "markdown",
   "id": "b30d69b1",
   "metadata": {},
   "source": [
    "## 반환값으로 람다표현식 정의"
   ]
  },
  {
   "cell_type": "code",
   "execution_count": 8,
   "id": "c7faf27c",
   "metadata": {},
   "outputs": [],
   "source": [
    "def func2(x,y) :\n",
    "    return lambda  : x+y "
   ]
  },
  {
   "cell_type": "markdown",
   "id": "41b93d37",
   "metadata": {},
   "source": [
    "## 함수 반환값을 변수에 할당"
   ]
  },
  {
   "cell_type": "code",
   "execution_count": 9,
   "id": "92827204",
   "metadata": {},
   "outputs": [],
   "source": [
    "ladd = func2(10,20)"
   ]
  },
  {
   "cell_type": "code",
   "execution_count": 10,
   "id": "57175b52",
   "metadata": {},
   "outputs": [
    {
     "data": {
      "text/plain": [
       "<function __main__.func2.<locals>.<lambda>()>"
      ]
     },
     "execution_count": 10,
     "metadata": {},
     "output_type": "execute_result"
    }
   ],
   "source": [
    "ladd"
   ]
  },
  {
   "cell_type": "markdown",
   "id": "b488d982",
   "metadata": {},
   "source": [
    "## 함수를 실행"
   ]
  },
  {
   "cell_type": "code",
   "execution_count": 11,
   "id": "f6c8bf02",
   "metadata": {},
   "outputs": [
    {
     "data": {
      "text/plain": [
       "30"
      ]
     },
     "execution_count": 11,
     "metadata": {},
     "output_type": "execute_result"
    }
   ],
   "source": [
    "ladd()"
   ]
  }
 ],
 "metadata": {
  "kernelspec": {
   "display_name": "Python 3 (ipykernel)",
   "language": "python",
   "name": "python3"
  },
  "language_info": {
   "codemirror_mode": {
    "name": "ipython",
    "version": 3
   },
   "file_extension": ".py",
   "mimetype": "text/x-python",
   "name": "python",
   "nbconvert_exporter": "python",
   "pygments_lexer": "ipython3",
   "version": "3.9.13"
  }
 },
 "nbformat": 4,
 "nbformat_minor": 5
}
