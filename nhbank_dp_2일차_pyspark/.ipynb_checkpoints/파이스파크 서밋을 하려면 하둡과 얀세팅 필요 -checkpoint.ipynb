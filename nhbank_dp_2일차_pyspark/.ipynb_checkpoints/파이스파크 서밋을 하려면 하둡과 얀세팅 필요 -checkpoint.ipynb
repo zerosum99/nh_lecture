{
 "cells": [
  {
   "cell_type": "code",
   "execution_count": null,
   "id": "630cdb43",
   "metadata": {},
   "outputs": [],
   "source": []
  },
  {
   "cell_type": "code",
   "execution_count": null,
   "id": "2ee00dc6",
   "metadata": {},
   "outputs": [],
   "source": [
    "from pyspark.conf import SparkConf\n",
    "from pyspark.sql import SparkSession\n",
    "\n",
    "# Create a SparkConf object\n",
    "conf = SparkConf()\n",
    "conf.set(\"spark.hadoop.fs.defaultFS\", \"hdfs://<hdfs-host>:<hdfs-port>\")\n",
    "conf.set(\"spark.hadoop.yarn.resourcemanager.address\", \"<yarn-host>:<yarn-port>\")\n",
    "# Add other necessary Hadoop configuration properties\n",
    "\n",
    "# Create a SparkSession with the configured SparkConf\n",
    "spark = SparkSession.builder \\\n",
    "    .appName(\"HadoopConfigExample\") \\\n",
    "    .config(conf=conf) \\\n",
    "    .getOrCreate()\n",
    "\n",
    "# Perform your Spark job\n",
    "\n",
    "# Stop the SparkSession\n",
    "spark.stop()"
   ]
  },
  {
   "cell_type": "code",
   "execution_count": null,
   "id": "01c8836f",
   "metadata": {},
   "outputs": [],
   "source": []
  },
  {
   "cell_type": "code",
   "execution_count": null,
   "id": "b21bf456",
   "metadata": {},
   "outputs": [],
   "source": []
  }
 ],
 "metadata": {
  "kernelspec": {
   "display_name": "Python 3 (ipykernel)",
   "language": "python",
   "name": "python3"
  },
  "language_info": {
   "codemirror_mode": {
    "name": "ipython",
    "version": 3
   },
   "file_extension": ".py",
   "mimetype": "text/x-python",
   "name": "python",
   "nbconvert_exporter": "python",
   "pygments_lexer": "ipython3",
   "version": "3.11.3"
  }
 },
 "nbformat": 4,
 "nbformat_minor": 5
}
