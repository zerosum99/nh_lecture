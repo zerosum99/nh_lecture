{
 "cells": [
  {
   "cell_type": "code",
   "execution_count": 1,
   "id": "3b36f82d",
   "metadata": {},
   "outputs": [
    {
     "name": "stdout",
     "output_type": "stream",
     "text": [
      "Collecting hdfs\n",
      "  Downloading hdfs-2.7.0-py3-none-any.whl (34 kB)\n",
      "Collecting docopt (from hdfs)\n",
      "  Downloading docopt-0.6.2.tar.gz (25 kB)\n",
      "  Preparing metadata (setup.py) ... \u001b[?25ldone\n",
      "\u001b[?25hCollecting requests>=2.7.0 (from hdfs)\n",
      "  Using cached requests-2.31.0-py3-none-any.whl (62 kB)\n",
      "Requirement already satisfied: six>=1.9.0 in /Users/a06411/opt/anaconda3/envs/fluentPython/lib/python3.11/site-packages (from hdfs) (1.16.0)\n",
      "Collecting charset-normalizer<4,>=2 (from requests>=2.7.0->hdfs)\n",
      "  Downloading charset_normalizer-3.1.0-cp311-cp311-macosx_11_0_arm64.whl (121 kB)\n",
      "\u001b[2K     \u001b[90m━━━━━━━━━━━━━━━━━━━━━━━━━━━━━━━━━━━━━━━\u001b[0m \u001b[32m121.7/121.7 kB\u001b[0m \u001b[31m8.6 MB/s\u001b[0m eta \u001b[36m0:00:00\u001b[0m\n",
      "\u001b[?25hRequirement already satisfied: idna<4,>=2.5 in /Users/a06411/opt/anaconda3/envs/fluentPython/lib/python3.11/site-packages (from requests>=2.7.0->hdfs) (3.4)\n",
      "Collecting urllib3<3,>=1.21.1 (from requests>=2.7.0->hdfs)\n",
      "  Downloading urllib3-2.0.2-py3-none-any.whl (123 kB)\n",
      "\u001b[2K     \u001b[90m━━━━━━━━━━━━━━━━━━━━━━━━━━━━━━━━━━━━━━━\u001b[0m \u001b[32m123.2/123.2 kB\u001b[0m \u001b[31m9.8 MB/s\u001b[0m eta \u001b[36m0:00:00\u001b[0m\n",
      "\u001b[?25hRequirement already satisfied: certifi>=2017.4.17 in /Users/a06411/opt/anaconda3/envs/fluentPython/lib/python3.11/site-packages (from requests>=2.7.0->hdfs) (2023.5.7)\n",
      "Building wheels for collected packages: docopt\n",
      "  Building wheel for docopt (setup.py) ... \u001b[?25ldone\n",
      "\u001b[?25h  Created wheel for docopt: filename=docopt-0.6.2-py2.py3-none-any.whl size=13707 sha256=1079abda87bff20ebd70346a2becce7ad40114a6cdabc8302a49c2a6d9041221\n",
      "  Stored in directory: /Users/a06411/Library/Caches/pip/wheels/1a/b0/8c/4b75c4116c31f83c8f9f047231251e13cc74481cca4a78a9ce\n",
      "Successfully built docopt\n",
      "Installing collected packages: docopt, urllib3, charset-normalizer, requests, hdfs\n",
      "Successfully installed charset-normalizer-3.1.0 docopt-0.6.2 hdfs-2.7.0 requests-2.31.0 urllib3-2.0.2\n",
      "Note: you may need to restart the kernel to use updated packages.\n"
     ]
    }
   ],
   "source": [
    "pip install hdfs"
   ]
  },
  {
   "cell_type": "code",
   "execution_count": 2,
   "id": "d4b5bf07",
   "metadata": {},
   "outputs": [],
   "source": [
    "import hdfs"
   ]
  },
  {
   "cell_type": "code",
   "execution_count": 4,
   "id": "f564fffe",
   "metadata": {},
   "outputs": [
    {
     "data": {
      "text/plain": [
       "['Client',\n",
       " 'Config',\n",
       " 'HdfsError',\n",
       " 'InsecureClient',\n",
       " 'NullHandler',\n",
       " 'TokenClient',\n",
       " '__builtins__',\n",
       " '__cached__',\n",
       " '__doc__',\n",
       " '__file__',\n",
       " '__license__',\n",
       " '__loader__',\n",
       " '__name__',\n",
       " '__package__',\n",
       " '__path__',\n",
       " '__spec__',\n",
       " '__version__',\n",
       " 'client',\n",
       " 'config',\n",
       " 'lg',\n",
       " 'util']"
      ]
     },
     "execution_count": 4,
     "metadata": {},
     "output_type": "execute_result"
    }
   ],
   "source": [
    "dir(hdfs)"
   ]
  },
  {
   "cell_type": "code",
   "execution_count": 5,
   "id": "e5e104e4",
   "metadata": {},
   "outputs": [],
   "source": [
    "from hdfs import InsecureClient"
   ]
  },
  {
   "cell_type": "code",
   "execution_count": 6,
   "id": "222499cc",
   "metadata": {},
   "outputs": [
    {
     "data": {
      "text/plain": [
       "['__class__',\n",
       " '__delattr__',\n",
       " '__dict__',\n",
       " '__dir__',\n",
       " '__doc__',\n",
       " '__eq__',\n",
       " '__format__',\n",
       " '__ge__',\n",
       " '__getattribute__',\n",
       " '__getstate__',\n",
       " '__gt__',\n",
       " '__hash__',\n",
       " '__init__',\n",
       " '__init_subclass__',\n",
       " '__le__',\n",
       " '__lt__',\n",
       " '__module__',\n",
       " '__ne__',\n",
       " '__new__',\n",
       " '__reduce__',\n",
       " '__reduce_ex__',\n",
       " '__registry__',\n",
       " '__repr__',\n",
       " '__setattr__',\n",
       " '__sizeof__',\n",
       " '__str__',\n",
       " '__subclasshook__',\n",
       " '__weakref__',\n",
       " '_allow_snapshot',\n",
       " '_append',\n",
       " '_create',\n",
       " '_create_snapshot',\n",
       " '_delete',\n",
       " '_delete_snapshot',\n",
       " '_disallow_snapshot',\n",
       " '_get_acl_status',\n",
       " '_get_content_summary',\n",
       " '_get_file_checksum',\n",
       " '_get_file_status',\n",
       " '_get_home_directory',\n",
       " '_get_trash_root',\n",
       " '_list_status',\n",
       " '_mkdirs',\n",
       " '_modify_acl_entries',\n",
       " '_open',\n",
       " '_remove_acl',\n",
       " '_remove_acl_entries',\n",
       " '_remove_default_acl',\n",
       " '_rename',\n",
       " '_rename_snapshot',\n",
       " '_request',\n",
       " '_set_acl',\n",
       " '_set_owner',\n",
       " '_set_permission',\n",
       " '_set_replication',\n",
       " '_set_times',\n",
       " 'acl_status',\n",
       " 'allow_snapshot',\n",
       " 'checksum',\n",
       " 'content',\n",
       " 'create_snapshot',\n",
       " 'delete',\n",
       " 'delete_snapshot',\n",
       " 'disallow_snapshot',\n",
       " 'download',\n",
       " 'from_options',\n",
       " 'list',\n",
       " 'makedirs',\n",
       " 'parts',\n",
       " 'read',\n",
       " 'remove_acl',\n",
       " 'remove_acl_entries',\n",
       " 'remove_default_acl',\n",
       " 'rename',\n",
       " 'rename_snapshot',\n",
       " 'resolve',\n",
       " 'set_acl',\n",
       " 'set_owner',\n",
       " 'set_permission',\n",
       " 'set_replication',\n",
       " 'set_times',\n",
       " 'status',\n",
       " 'upload',\n",
       " 'walk',\n",
       " 'write']"
      ]
     },
     "execution_count": 6,
     "metadata": {},
     "output_type": "execute_result"
    }
   ],
   "source": [
    "dir(InsecureClient)"
   ]
  },
  {
   "cell_type": "code",
   "execution_count": null,
   "id": "90660f59",
   "metadata": {},
   "outputs": [],
   "source": []
  }
 ],
 "metadata": {
  "kernelspec": {
   "display_name": "Python 3 (ipykernel)",
   "language": "python",
   "name": "python3"
  },
  "language_info": {
   "codemirror_mode": {
    "name": "ipython",
    "version": 3
   },
   "file_extension": ".py",
   "mimetype": "text/x-python",
   "name": "python",
   "nbconvert_exporter": "python",
   "pygments_lexer": "ipython3",
   "version": "3.11.3"
  }
 },
 "nbformat": 4,
 "nbformat_minor": 5
}
