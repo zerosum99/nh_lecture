{
 "cells": [
  {
   "cell_type": "code",
   "execution_count": 1,
   "id": "ce46e35b",
   "metadata": {},
   "outputs": [],
   "source": [
    "import pandas as pd"
   ]
  },
  {
   "cell_type": "code",
   "execution_count": 4,
   "id": "a85d3c5c",
   "metadata": {},
   "outputs": [],
   "source": [
    "websites = pd.read_csv(\"./data/top500Domains.csv\", index_col=0)"
   ]
  },
  {
   "cell_type": "code",
   "execution_count": 5,
   "id": "73091e4e",
   "metadata": {},
   "outputs": [
    {
     "data": {
      "text/html": [
       "<div>\n",
       "<style scoped>\n",
       "    .dataframe tbody tr th:only-of-type {\n",
       "        vertical-align: middle;\n",
       "    }\n",
       "\n",
       "    .dataframe tbody tr th {\n",
       "        vertical-align: top;\n",
       "    }\n",
       "\n",
       "    .dataframe thead th {\n",
       "        text-align: right;\n",
       "    }\n",
       "</style>\n",
       "<table border=\"1\" class=\"dataframe\">\n",
       "  <thead>\n",
       "    <tr style=\"text-align: right;\">\n",
       "      <th></th>\n",
       "      <th>Root Domain</th>\n",
       "      <th>Linking Root Domains</th>\n",
       "      <th>Domain Authority</th>\n",
       "    </tr>\n",
       "    <tr>\n",
       "      <th>Rank</th>\n",
       "      <th></th>\n",
       "      <th></th>\n",
       "      <th></th>\n",
       "    </tr>\n",
       "  </thead>\n",
       "  <tbody>\n",
       "    <tr>\n",
       "      <th>1</th>\n",
       "      <td>www.google.com</td>\n",
       "      <td>15,188,313</td>\n",
       "      <td>100</td>\n",
       "    </tr>\n",
       "    <tr>\n",
       "      <th>2</th>\n",
       "      <td>youtube.com</td>\n",
       "      <td>23,676,494</td>\n",
       "      <td>100</td>\n",
       "    </tr>\n",
       "    <tr>\n",
       "      <th>3</th>\n",
       "      <td>www.blogger.com</td>\n",
       "      <td>30,873,676</td>\n",
       "      <td>100</td>\n",
       "    </tr>\n",
       "    <tr>\n",
       "      <th>4</th>\n",
       "      <td>linkedin.com</td>\n",
       "      <td>12,761,063</td>\n",
       "      <td>99</td>\n",
       "    </tr>\n",
       "    <tr>\n",
       "      <th>5</th>\n",
       "      <td>apple.com</td>\n",
       "      <td>6,725,601</td>\n",
       "      <td>99</td>\n",
       "    </tr>\n",
       "    <tr>\n",
       "      <th>...</th>\n",
       "      <td>...</td>\n",
       "      <td>...</td>\n",
       "      <td>...</td>\n",
       "    </tr>\n",
       "    <tr>\n",
       "      <th>496</th>\n",
       "      <td>channel4.com</td>\n",
       "      <td>171,050</td>\n",
       "      <td>92</td>\n",
       "    </tr>\n",
       "    <tr>\n",
       "      <th>497</th>\n",
       "      <td>dictionary.com</td>\n",
       "      <td>369,241</td>\n",
       "      <td>92</td>\n",
       "    </tr>\n",
       "    <tr>\n",
       "      <th>498</th>\n",
       "      <td>tvtropes.org</td>\n",
       "      <td>140,672</td>\n",
       "      <td>92</td>\n",
       "    </tr>\n",
       "    <tr>\n",
       "      <th>499</th>\n",
       "      <td>unam.mx</td>\n",
       "      <td>171,657</td>\n",
       "      <td>92</td>\n",
       "    </tr>\n",
       "    <tr>\n",
       "      <th>500</th>\n",
       "      <td>dailystar.co.uk</td>\n",
       "      <td>159,594</td>\n",
       "      <td>92</td>\n",
       "    </tr>\n",
       "  </tbody>\n",
       "</table>\n",
       "<p>500 rows × 3 columns</p>\n",
       "</div>"
      ],
      "text/plain": [
       "          Root Domain Linking Root Domains  Domain Authority\n",
       "Rank                                                        \n",
       "1      www.google.com           15,188,313               100\n",
       "2         youtube.com           23,676,494               100\n",
       "3     www.blogger.com           30,873,676               100\n",
       "4        linkedin.com           12,761,063                99\n",
       "5           apple.com            6,725,601                99\n",
       "...               ...                  ...               ...\n",
       "496      channel4.com              171,050                92\n",
       "497    dictionary.com              369,241                92\n",
       "498      tvtropes.org              140,672                92\n",
       "499           unam.mx              171,657                92\n",
       "500   dailystar.co.uk              159,594                92\n",
       "\n",
       "[500 rows x 3 columns]"
      ]
     },
     "execution_count": 5,
     "metadata": {},
     "output_type": "execute_result"
    }
   ],
   "source": [
    "websites"
   ]
  },
  {
   "cell_type": "code",
   "execution_count": 18,
   "id": "17cdb3dd",
   "metadata": {},
   "outputs": [],
   "source": [
    "class A :\n",
    "    def __init__(self,value) :\n",
    "        self.value = value\n",
    "        \n",
    "    def __add__(self, value) :\n",
    "        if type(value) == int :\n",
    "            self.value += value\n",
    "        else :\n",
    "            self.value += value.value\n",
    "        \n",
    "    def __sub__(self, value) :\n",
    "        self.value -= value"
   ]
  },
  {
   "cell_type": "code",
   "execution_count": 19,
   "id": "75ccf477",
   "metadata": {},
   "outputs": [],
   "source": [
    "a = A(100)"
   ]
  },
  {
   "cell_type": "code",
   "execution_count": 20,
   "id": "f4e0a282",
   "metadata": {},
   "outputs": [],
   "source": [
    "a + 100"
   ]
  },
  {
   "cell_type": "code",
   "execution_count": 21,
   "id": "e546b4f2",
   "metadata": {},
   "outputs": [
    {
     "data": {
      "text/plain": [
       "200"
      ]
     },
     "execution_count": 21,
     "metadata": {},
     "output_type": "execute_result"
    }
   ],
   "source": [
    "a.value"
   ]
  },
  {
   "cell_type": "code",
   "execution_count": 22,
   "id": "a807b5fb",
   "metadata": {},
   "outputs": [],
   "source": [
    "a + a "
   ]
  },
  {
   "cell_type": "code",
   "execution_count": 23,
   "id": "a818d576",
   "metadata": {},
   "outputs": [
    {
     "data": {
      "text/plain": [
       "400"
      ]
     },
     "execution_count": 23,
     "metadata": {},
     "output_type": "execute_result"
    }
   ],
   "source": [
    "a.value"
   ]
  },
  {
   "cell_type": "code",
   "execution_count": null,
   "id": "e272cd89",
   "metadata": {},
   "outputs": [],
   "source": []
  }
 ],
 "metadata": {
  "kernelspec": {
   "display_name": "Python 3 (ipykernel)",
   "language": "python",
   "name": "python3"
  },
  "language_info": {
   "codemirror_mode": {
    "name": "ipython",
    "version": 3
   },
   "file_extension": ".py",
   "mimetype": "text/x-python",
   "name": "python",
   "nbconvert_exporter": "python",
   "pygments_lexer": "ipython3",
   "version": "3.11.3"
  }
 },
 "nbformat": 4,
 "nbformat_minor": 5
}
