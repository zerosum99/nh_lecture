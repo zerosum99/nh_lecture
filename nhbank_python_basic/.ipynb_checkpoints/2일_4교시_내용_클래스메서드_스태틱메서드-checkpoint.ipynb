{
 "cells": [
  {
   "cell_type": "markdown",
   "id": "72dd7520",
   "metadata": {},
   "source": [
    "# 1. 프로퍼티 메서드 "
   ]
  },
  {
   "cell_type": "markdown",
   "id": "fa01b817",
   "metadata": {},
   "source": [
    "## 1-1 일반 메서드로 처리하기"
   ]
  },
  {
   "cell_type": "code",
   "execution_count": 1,
   "id": "743c4fca",
   "metadata": {},
   "outputs": [],
   "source": [
    "class Shape :\n",
    "    def __init__(self,height, weight) :\n",
    "        self.height = height\n",
    "        self.weight = weight\n",
    "        \n",
    "    def getArea(self) :\n",
    "        return self.height * self.weight"
   ]
  },
  {
   "cell_type": "code",
   "execution_count": 2,
   "id": "fab1e22d",
   "metadata": {},
   "outputs": [],
   "source": [
    "s = Shape(100,200)"
   ]
  },
  {
   "cell_type": "code",
   "execution_count": 3,
   "id": "79462c32",
   "metadata": {},
   "outputs": [
    {
     "data": {
      "text/plain": [
       "20000"
      ]
     },
     "execution_count": 3,
     "metadata": {},
     "output_type": "execute_result"
    }
   ],
   "source": [
    "s.getArea()"
   ]
  },
  {
   "cell_type": "markdown",
   "id": "e89b82b9",
   "metadata": {},
   "source": [
    "## 1-2 프로퍼티로 처리하기\n",
    "\n",
    "- 프로퍼티는 이름으로 접근해서 처리하기\n",
    "- 모든 것을 속성처럼 처리한다."
   ]
  },
  {
   "cell_type": "code",
   "execution_count": 4,
   "id": "795a06c9",
   "metadata": {},
   "outputs": [],
   "source": [
    "class ShapeP :\n",
    "    def __init__(self,height, weight) :\n",
    "        self.height = height          # 세터를 사용해서 속성 처리  내부의 속성은 _과 붙은 복호속성임 \n",
    "        self.weight = weight\n",
    "        \n",
    "    @property                          # height의 게터처리 \n",
    "    def height(self) :\n",
    "        print(\"height getter \")\n",
    "        return self._height\n",
    "    \n",
    "    @height.setter                     # height의 세터처리 \n",
    "    def height(self, value) :\n",
    "        print(\"height setter \")\n",
    "        self._height = value\n",
    "    \n",
    "    @property                          # weight의 게터 처리 \n",
    "    def weight(self) :\n",
    "        print(\"weight getter \")\n",
    "        return self._weight\n",
    "    \n",
    "    @weight.setter                     # weight의 세터처리 \n",
    "    def weight(self, value) :\n",
    "        print(\"weight setter \")\n",
    "        self._weight = value\n",
    "        \n",
    "    @property                           # 면적 계산을 이름으로 처리 \n",
    "    def area(self) :\n",
    "        return self.height * self.weight"
   ]
  },
  {
   "cell_type": "markdown",
   "id": "ec62b8a7",
   "metadata": {},
   "source": [
    "## 객체 생성 "
   ]
  },
  {
   "cell_type": "code",
   "execution_count": 5,
   "id": "6e5860a2",
   "metadata": {},
   "outputs": [
    {
     "name": "stdout",
     "output_type": "stream",
     "text": [
      "height setter \n",
      "weight setter \n"
     ]
    }
   ],
   "source": [
    "sp = ShapeP(10,20)"
   ]
  },
  {
   "cell_type": "markdown",
   "id": "f07a7914",
   "metadata": {},
   "source": [
    "## 객체 내부의 확인 : 보호속성으로 처리"
   ]
  },
  {
   "cell_type": "code",
   "execution_count": 6,
   "id": "2fa679c9",
   "metadata": {},
   "outputs": [
    {
     "data": {
      "text/plain": [
       "{'_height': 10, '_weight': 20}"
      ]
     },
     "execution_count": 6,
     "metadata": {},
     "output_type": "execute_result"
    }
   ],
   "source": [
    "sp.__dict__"
   ]
  },
  {
   "cell_type": "markdown",
   "id": "b8359b22",
   "metadata": {},
   "source": [
    "## 게터를 사용해서 처리"
   ]
  },
  {
   "cell_type": "code",
   "execution_count": 7,
   "id": "d407d17f",
   "metadata": {},
   "outputs": [
    {
     "name": "stdout",
     "output_type": "stream",
     "text": [
      "height getter \n",
      "weight getter \n"
     ]
    },
    {
     "data": {
      "text/plain": [
       "(10, 20)"
      ]
     },
     "execution_count": 7,
     "metadata": {},
     "output_type": "execute_result"
    }
   ],
   "source": [
    "sp.height, sp.weight"
   ]
  },
  {
   "cell_type": "code",
   "execution_count": 8,
   "id": "99ed8d5d",
   "metadata": {},
   "outputs": [
    {
     "name": "stdout",
     "output_type": "stream",
     "text": [
      "height getter \n",
      "weight getter \n"
     ]
    },
    {
     "data": {
      "text/plain": [
       "200"
      ]
     },
     "execution_count": 8,
     "metadata": {},
     "output_type": "execute_result"
    }
   ],
   "source": [
    "sp.area"
   ]
  },
  {
   "cell_type": "markdown",
   "id": "f60e0928",
   "metadata": {},
   "source": [
    "## 세터를 사용해서 값을 변경"
   ]
  },
  {
   "cell_type": "code",
   "execution_count": 9,
   "id": "397c5985",
   "metadata": {},
   "outputs": [
    {
     "name": "stdout",
     "output_type": "stream",
     "text": [
      "height setter \n",
      "weight setter \n"
     ]
    }
   ],
   "source": [
    "sp.height = 30; sp.weight = 40"
   ]
  },
  {
   "cell_type": "code",
   "execution_count": 10,
   "id": "a5ebc94b",
   "metadata": {},
   "outputs": [
    {
     "name": "stdout",
     "output_type": "stream",
     "text": [
      "height getter \n",
      "weight getter \n"
     ]
    },
    {
     "data": {
      "text/plain": [
       "1200"
      ]
     },
     "execution_count": 10,
     "metadata": {},
     "output_type": "execute_result"
    }
   ],
   "source": [
    "sp.area"
   ]
  },
  {
   "cell_type": "markdown",
   "id": "93f0295a",
   "metadata": {},
   "source": [
    "# 2. 클래스/스태틱 메서드"
   ]
  },
  {
   "cell_type": "markdown",
   "id": "9761e59e",
   "metadata": {},
   "source": [
    "## 2-1 클래스 메서드"
   ]
  },
  {
   "cell_type": "markdown",
   "id": "d59c56e3",
   "metadata": {},
   "source": [
    "## 클래스 메서드 정의"
   ]
  },
  {
   "cell_type": "code",
   "execution_count": 11,
   "id": "e05dff28",
   "metadata": {},
   "outputs": [],
   "source": [
    "class PersonC:\n",
    "    default= \"사람 C \"\n",
    "\n",
    "    def __init__(self):\n",
    "        self.data = self.default\n",
    "\n",
    "    @classmethod\n",
    "    def class_person(cls):\n",
    "        return cls.default\n"
   ]
  },
  {
   "cell_type": "code",
   "execution_count": 12,
   "id": "59fac340",
   "metadata": {},
   "outputs": [
    {
     "data": {
      "text/plain": [
       "'사람 C '"
      ]
     },
     "execution_count": 12,
     "metadata": {},
     "output_type": "execute_result"
    }
   ],
   "source": [
    "PersonC.class_person()"
   ]
  },
  {
   "cell_type": "markdown",
   "id": "eb2ccf13",
   "metadata": {},
   "source": [
    "## 객체를 생성한 후에 클래스 메서드 처리 가능 "
   ]
  },
  {
   "cell_type": "code",
   "execution_count": 13,
   "id": "e6d7b2d9",
   "metadata": {},
   "outputs": [],
   "source": [
    "pc = PersonC()"
   ]
  },
  {
   "cell_type": "code",
   "execution_count": 14,
   "id": "285fb85b",
   "metadata": {},
   "outputs": [
    {
     "data": {
      "text/plain": [
       "'사람 C '"
      ]
     },
     "execution_count": 14,
     "metadata": {},
     "output_type": "execute_result"
    }
   ],
   "source": [
    "pc.class_person()"
   ]
  },
  {
   "cell_type": "markdown",
   "id": "050d8edd",
   "metadata": {},
   "source": [
    "## 2-2 스태틱 메서드 "
   ]
  },
  {
   "cell_type": "markdown",
   "id": "e04028a1",
   "metadata": {},
   "source": [
    "## 클래스 내부에 스태틱 메서드 정의"
   ]
  },
  {
   "cell_type": "code",
   "execution_count": 15,
   "id": "81c25086",
   "metadata": {},
   "outputs": [],
   "source": [
    "class PersonS:\n",
    "    default= \"사람 S\"\n",
    "\n",
    "    def __init__(self):\n",
    "        self.data = self.default\n",
    "\n",
    "    @staticmethod\n",
    "    def static_person():\n",
    "        return PersonS.default"
   ]
  },
  {
   "cell_type": "code",
   "execution_count": 16,
   "id": "0574456c",
   "metadata": {},
   "outputs": [
    {
     "data": {
      "text/plain": [
       "'사람 S'"
      ]
     },
     "execution_count": 16,
     "metadata": {},
     "output_type": "execute_result"
    }
   ],
   "source": [
    "PersonS.static_person()"
   ]
  },
  {
   "cell_type": "markdown",
   "id": "838b914a",
   "metadata": {},
   "source": [
    "## 객체를 생성한 후에 정적메서드 처리 가능 "
   ]
  },
  {
   "cell_type": "code",
   "execution_count": 17,
   "id": "7b62fa19",
   "metadata": {},
   "outputs": [],
   "source": [
    "ps = PersonS()"
   ]
  },
  {
   "cell_type": "code",
   "execution_count": 18,
   "id": "47ada82e",
   "metadata": {},
   "outputs": [
    {
     "data": {
      "text/plain": [
       "'사람 S'"
      ]
     },
     "execution_count": 18,
     "metadata": {},
     "output_type": "execute_result"
    }
   ],
   "source": [
    "ps.static_person()"
   ]
  },
  {
   "cell_type": "markdown",
   "id": "8fff4297",
   "metadata": {},
   "source": [
    "## 스태틱 메서드는 보통 함수를 클래스 내부에 정의해서 사용"
   ]
  },
  {
   "cell_type": "code",
   "execution_count": 19,
   "id": "1185d56d",
   "metadata": {},
   "outputs": [
    {
     "name": "stdout",
     "output_type": "stream",
     "text": [
      "2\n"
     ]
    }
   ],
   "source": [
    "class Test :\n",
    "    num = 0\n",
    "\n",
    "    @staticmethod\n",
    "    def add (x, y) :\n",
    "        return x + y\n",
    "\n",
    "\n",
    "print(Test.add(1,1))"
   ]
  },
  {
   "cell_type": "code",
   "execution_count": null,
   "id": "94a2fdeb",
   "metadata": {},
   "outputs": [],
   "source": []
  }
 ],
 "metadata": {
  "kernelspec": {
   "display_name": "Python 3 (ipykernel)",
   "language": "python",
   "name": "python3"
  },
  "language_info": {
   "codemirror_mode": {
    "name": "ipython",
    "version": 3
   },
   "file_extension": ".py",
   "mimetype": "text/x-python",
   "name": "python",
   "nbconvert_exporter": "python",
   "pygments_lexer": "ipython3",
   "version": "3.9.13"
  }
 },
 "nbformat": 4,
 "nbformat_minor": 5
}
