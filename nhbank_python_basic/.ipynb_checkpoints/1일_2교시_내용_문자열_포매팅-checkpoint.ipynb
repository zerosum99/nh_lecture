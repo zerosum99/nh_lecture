{
 "cells": [
  {
   "cell_type": "code",
   "execution_count": null,
   "id": "f03153b6",
   "metadata": {},
   "outputs": [],
   "source": []
  },
  {
   "cell_type": "markdown",
   "id": "b38b5df9",
   "metadata": {},
   "source": [
    "# 1. 유니코드 문자열(str) 과 바이트 문자열(bytes)\n",
    "\n",
    "- 파이썬은 문자가 없고 모든 것을 문자열로 처리\n",
    "- 문자열에는 유니코드와 바이트 문자열이 있음\n"
   ]
  },
  {
   "cell_type": "markdown",
   "id": "9a91bb4f",
   "metadata": {},
   "source": [
    "## 1-1 문자열 처리"
   ]
  },
  {
   "cell_type": "markdown",
   "id": "f2b08b29",
   "metadata": {},
   "source": [
    "## 한줄 문자열 처리"
   ]
  },
  {
   "cell_type": "code",
   "execution_count": 1,
   "id": "0be0fda9",
   "metadata": {},
   "outputs": [],
   "source": [
    "s1 = \"문자열1\"               # 문자열리터럴을 변수에 할당 \n",
    "s2 = '문자열'"
   ]
  },
  {
   "cell_type": "markdown",
   "id": "60bf551e",
   "metadata": {},
   "source": [
    "## 문자열의 길이"
   ]
  },
  {
   "cell_type": "code",
   "execution_count": 2,
   "id": "45b3ec46",
   "metadata": {},
   "outputs": [
    {
     "data": {
      "text/plain": [
       "(4, 3)"
      ]
     },
     "execution_count": 2,
     "metadata": {},
     "output_type": "execute_result"
    }
   ],
   "source": [
    "len(s1), len(s2)           # 문자열의 길이를 확인 "
   ]
  },
  {
   "cell_type": "code",
   "execution_count": 3,
   "id": "53892ad3",
   "metadata": {},
   "outputs": [
    {
     "data": {
      "text/plain": [
       "str"
      ]
     },
     "execution_count": 3,
     "metadata": {},
     "output_type": "execute_result"
    }
   ],
   "source": [
    "type(s1)                  # 문자열 타입확인 "
   ]
  },
  {
   "cell_type": "code",
   "execution_count": 4,
   "id": "f064e110",
   "metadata": {},
   "outputs": [
    {
     "data": {
      "text/plain": [
       "str"
      ]
     },
     "execution_count": 4,
     "metadata": {},
     "output_type": "execute_result"
    }
   ],
   "source": [
    "s1.__class__              # 문자열 타입확인 "
   ]
  },
  {
   "cell_type": "markdown",
   "id": "811d7509",
   "metadata": {},
   "source": [
    "## 한줄 바이트 문자열"
   ]
  },
  {
   "cell_type": "code",
   "execution_count": 5,
   "id": "05054f48",
   "metadata": {},
   "outputs": [],
   "source": [
    "b1 = b\"abc\"\n",
    "b2 = b'abc'"
   ]
  },
  {
   "cell_type": "markdown",
   "id": "466b40e4",
   "metadata": {},
   "source": [
    "## 바이트 문자열의 길이"
   ]
  },
  {
   "cell_type": "code",
   "execution_count": 6,
   "id": "e7377397",
   "metadata": {},
   "outputs": [
    {
     "data": {
      "text/plain": [
       "(3, 3)"
      ]
     },
     "execution_count": 6,
     "metadata": {},
     "output_type": "execute_result"
    }
   ],
   "source": [
    "len(b1), len(b2)"
   ]
  },
  {
   "cell_type": "code",
   "execution_count": 7,
   "id": "42bffee8",
   "metadata": {},
   "outputs": [
    {
     "data": {
      "text/plain": [
       "bytes"
      ]
     },
     "execution_count": 7,
     "metadata": {},
     "output_type": "execute_result"
    }
   ],
   "source": [
    "type(b1)"
   ]
  },
  {
   "cell_type": "markdown",
   "id": "c9a2f4da",
   "metadata": {},
   "source": [
    "## 로우 문자열 \n",
    "\n",
    "- 공백문자 등을 그대로 출력할 때 사용"
   ]
  },
  {
   "cell_type": "code",
   "execution_count": 8,
   "id": "3036fade",
   "metadata": {},
   "outputs": [
    {
     "data": {
      "text/plain": [
       "('문자열1 \\\\n', '문자열 \\n')"
      ]
     },
     "execution_count": 8,
     "metadata": {},
     "output_type": "execute_result"
    }
   ],
   "source": [
    "r\"문자열1 \\n\" , '문자열 \\n'             # 문자열 앞에 r(raw) 붙여서 원시문자열 즉 내부의 모든 것(이스케이프 문자, 편집문자)을 문자로 처리 "
   ]
  },
  {
   "cell_type": "markdown",
   "id": "ee2b0976",
   "metadata": {},
   "source": [
    "## 여러줄 문자열 처리"
   ]
  },
  {
   "cell_type": "code",
   "execution_count": 9,
   "id": "74c1a55f",
   "metadata": {},
   "outputs": [],
   "source": [
    "                                   # 여러 줄 문자열 처리 \n",
    "ss1 = \"\"\"                                 \n",
    "라인 1\n",
    "라인 2\n",
    "\"\"\""
   ]
  },
  {
   "cell_type": "code",
   "execution_count": 10,
   "id": "5ad857dd",
   "metadata": {},
   "outputs": [
    {
     "name": "stdout",
     "output_type": "stream",
     "text": [
      "                                 \n",
      "라인 1\n",
      "라인 2\n",
      "\n"
     ]
    }
   ],
   "source": [
    "print(ss1)"
   ]
  },
  {
   "cell_type": "code",
   "execution_count": 11,
   "id": "f4725501",
   "metadata": {},
   "outputs": [],
   "source": [
    "ss2 = '''\n",
    "라인1\n",
    "라인2\n",
    "'''"
   ]
  },
  {
   "cell_type": "code",
   "execution_count": 12,
   "id": "ce6cfec3",
   "metadata": {},
   "outputs": [
    {
     "name": "stdout",
     "output_type": "stream",
     "text": [
      "\n",
      "라인1\n",
      "라인2\n",
      "\n"
     ]
    }
   ],
   "source": [
    "print(ss2)"
   ]
  },
  {
   "cell_type": "markdown",
   "id": "b4417756",
   "metadata": {},
   "source": [
    "## 1-2 문자열 인코드 : 바이트 문자열로 변환"
   ]
  },
  {
   "cell_type": "code",
   "execution_count": 13,
   "id": "39f0274d",
   "metadata": {},
   "outputs": [],
   "source": [
    "s = \"문자열\""
   ]
  },
  {
   "cell_type": "code",
   "execution_count": 14,
   "id": "ddc84760",
   "metadata": {},
   "outputs": [
    {
     "data": {
      "text/plain": [
       "('문자열', str)"
      ]
     },
     "execution_count": 14,
     "metadata": {},
     "output_type": "execute_result"
    }
   ],
   "source": [
    "s, s.__class__"
   ]
  },
  {
   "cell_type": "code",
   "execution_count": 15,
   "id": "6c089b42",
   "metadata": {},
   "outputs": [],
   "source": [
    "b = s.encode()               # 바이트 문자열로 변환 "
   ]
  },
  {
   "cell_type": "code",
   "execution_count": 16,
   "id": "c0848e67",
   "metadata": {},
   "outputs": [
    {
     "data": {
      "text/plain": [
       "(b'\\xeb\\xac\\xb8\\xec\\x9e\\x90\\xec\\x97\\xb4', bytes)"
      ]
     },
     "execution_count": 16,
     "metadata": {},
     "output_type": "execute_result"
    }
   ],
   "source": [
    "b, b.__class__               # 바이트 타입 확인 \n",
    "                             # 바이트 문자열은 문자열 앞에 b(bytes)가 붙음 "
   ]
  },
  {
   "cell_type": "markdown",
   "id": "8bf4c1c5",
   "metadata": {},
   "source": [
    "## 1-3 문자열 디코드 : 유니코드 문자열로 변환"
   ]
  },
  {
   "cell_type": "code",
   "execution_count": 17,
   "id": "f7d8416d",
   "metadata": {},
   "outputs": [],
   "source": [
    "ss = b.decode()"
   ]
  },
  {
   "cell_type": "code",
   "execution_count": 18,
   "id": "f0b77336",
   "metadata": {},
   "outputs": [
    {
     "data": {
      "text/plain": [
       "('문자열', str)"
      ]
     },
     "execution_count": 18,
     "metadata": {},
     "output_type": "execute_result"
    }
   ],
   "source": [
    "ss, ss.__class__"
   ]
  },
  {
   "cell_type": "markdown",
   "id": "af9c6434",
   "metadata": {},
   "source": [
    "# 2. 문자열 메서드 "
   ]
  },
  {
   "cell_type": "code",
   "execution_count": 19,
   "id": "e0386c13",
   "metadata": {},
   "outputs": [
    {
     "name": "stdout",
     "output_type": "stream",
     "text": [
      "capitalize, casefold, center, count, encode, endswith, expandtabs, find, format, format_map, index, isalnum, isalpha, isascii, isdecimal, isdigit, isidentifier, islower, isnumeric, isprintable, isspace, istitle, isupper, join, ljust, lower, lstrip, maketrans, partition, removeprefix, removesuffix, replace, rfind, rindex, rjust, rpartition, rsplit, rstrip, split, splitlines, startswith, strip, swapcase, title, translate, upper, zfill, "
     ]
    }
   ],
   "source": [
    "for i in dir(str) :\n",
    "    print(i, end=\", \") if not i.startswith(\"_\") else _"
   ]
  },
  {
   "cell_type": "markdown",
   "id": "7ba9445f",
   "metadata": {},
   "source": [
    "## 정렬 처리 "
   ]
  },
  {
   "cell_type": "code",
   "execution_count": 20,
   "id": "20119b7d",
   "metadata": {},
   "outputs": [],
   "source": [
    "s11 =  \"가나다라마바사\""
   ]
  },
  {
   "cell_type": "code",
   "execution_count": 21,
   "id": "735bb0b3",
   "metadata": {},
   "outputs": [],
   "source": [
    "ls = [*sorted(s11)]               # 동적 처리를 하므로 리스트에 넣어서 실행시킴 "
   ]
  },
  {
   "cell_type": "code",
   "execution_count": 22,
   "id": "c4b5d956",
   "metadata": {},
   "outputs": [
    {
     "data": {
      "text/plain": [
       "['가', '나', '다', '라', '마', '바', '사']"
      ]
     },
     "execution_count": 22,
     "metadata": {},
     "output_type": "execute_result"
    }
   ],
   "source": [
    "ls"
   ]
  },
  {
   "cell_type": "code",
   "execution_count": 23,
   "id": "4b3ab3b9",
   "metadata": {},
   "outputs": [
    {
     "data": {
      "text/plain": [
       "'가나다라마바사'"
      ]
     },
     "execution_count": 23,
     "metadata": {},
     "output_type": "execute_result"
    }
   ],
   "source": [
    "\"\".join(ls)                       # 리스트를 다시 문자열로 연결"
   ]
  },
  {
   "cell_type": "markdown",
   "id": "48807730",
   "metadata": {},
   "source": [
    "## 역정렬 "
   ]
  },
  {
   "cell_type": "code",
   "execution_count": 24,
   "id": "5035a736",
   "metadata": {},
   "outputs": [
    {
     "data": {
      "text/plain": [
       "['사', '바', '마', '라', '다', '나', '가']"
      ]
     },
     "execution_count": 24,
     "metadata": {},
     "output_type": "execute_result"
    }
   ],
   "source": [
    "[*reversed(s11)]"
   ]
  },
  {
   "cell_type": "markdown",
   "id": "43909739",
   "metadata": {},
   "source": [
    "## 인덱스로 하나의 원소  선택하기"
   ]
  },
  {
   "cell_type": "code",
   "execution_count": 25,
   "id": "edf136ad",
   "metadata": {},
   "outputs": [
    {
     "data": {
      "text/plain": [
       "'가'"
      ]
     },
     "execution_count": 25,
     "metadata": {},
     "output_type": "execute_result"
    }
   ],
   "source": [
    "s11[0]"
   ]
  },
  {
   "cell_type": "code",
   "execution_count": 26,
   "id": "f9a1c2c5",
   "metadata": {},
   "outputs": [
    {
     "data": {
      "text/plain": [
       "7"
      ]
     },
     "execution_count": 26,
     "metadata": {},
     "output_type": "execute_result"
    }
   ],
   "source": [
    "len(s11)"
   ]
  },
  {
   "cell_type": "code",
   "execution_count": 27,
   "id": "6514771e",
   "metadata": {},
   "outputs": [
    {
     "name": "stdout",
     "output_type": "stream",
     "text": [
      "string index out of range\n"
     ]
    }
   ],
   "source": [
    "try :\n",
    "    s11[7]                           # 문자열 인덱스보다 큰 수를 넣으면 예외 발생함 \n",
    "except Exception as e :\n",
    "    print(e)"
   ]
  },
  {
   "cell_type": "code",
   "execution_count": null,
   "id": "63a9b4dd",
   "metadata": {},
   "outputs": [],
   "source": []
  },
  {
   "cell_type": "markdown",
   "id": "8bb3c6a5",
   "metadata": {},
   "source": [
    "## 슬라이스로 부분 문자열 처리하기"
   ]
  },
  {
   "cell_type": "code",
   "execution_count": 28,
   "id": "9b6141ce",
   "metadata": {},
   "outputs": [],
   "source": [
    "sl = slice(1,4)             # 특정 범위를 지정 "
   ]
  },
  {
   "cell_type": "code",
   "execution_count": 29,
   "id": "0f0ba830",
   "metadata": {},
   "outputs": [
    {
     "data": {
      "text/plain": [
       "'나다라'"
      ]
     },
     "execution_count": 29,
     "metadata": {},
     "output_type": "execute_result"
    }
   ],
   "source": [
    "s11[sl]                     # 특정 범위를 선택하면 특정 영역의 배열을 가져옴 "
   ]
  },
  {
   "cell_type": "code",
   "execution_count": 30,
   "id": "fe601486",
   "metadata": {},
   "outputs": [
    {
     "data": {
      "text/plain": [
       "'나다라'"
      ]
     },
     "execution_count": 30,
     "metadata": {},
     "output_type": "execute_result"
    }
   ],
   "source": [
    "s11[1:4]"
   ]
  },
  {
   "cell_type": "code",
   "execution_count": 31,
   "id": "c61fb4ca",
   "metadata": {},
   "outputs": [
    {
     "data": {
      "text/plain": [
       "'나다라마바사'"
      ]
     },
     "execution_count": 31,
     "metadata": {},
     "output_type": "execute_result"
    }
   ],
   "source": [
    "s11[1:100]                 # 슬라이스는 범위가 인덱스를 넘어도 예외없이 현재 모든 것을 조회"
   ]
  },
  {
   "cell_type": "markdown",
   "id": "65c44620",
   "metadata": {},
   "source": [
    "# 3. 포매팅 처리 \n",
    "\n",
    "- 출력을 위해 문자열 포매팅 처리 방식 확인 "
   ]
  },
  {
   "cell_type": "markdown",
   "id": "0cdeee8b",
   "metadata": {},
   "source": [
    "## 3-1 포매팅 처리 비교"
   ]
  },
  {
   "cell_type": "code",
   "execution_count": 32,
   "id": "3a71a554",
   "metadata": {},
   "outputs": [
    {
     "name": "stdout",
     "output_type": "stream",
     "text": [
      "Peter is 23 years old\n",
      "Peter is 23 years old\n",
      "Peter is 23 years old\n"
     ]
    }
   ],
   "source": [
    "name = 'Peter'\n",
    "age = 23\n",
    "\n",
    "print('%s is %d years old' % (name, age))      # 문자열에 대입 처리 \n",
    "print('{} is {} years old'.format(name, age))  # format 메서드  사용 \n",
    "print(f'{name} is {age} years old')            # f문자열 사용 "
   ]
  },
  {
   "cell_type": "markdown",
   "id": "4f62c271",
   "metadata": {},
   "source": [
    "## 3-2 f 문자열에 직접 표현식 처리 "
   ]
  },
  {
   "cell_type": "code",
   "execution_count": 33,
   "id": "bb04e4e7",
   "metadata": {},
   "outputs": [
    {
     "name": "stdout",
     "output_type": "stream",
     "text": [
      "There are total of 36 apples\n"
     ]
    }
   ],
   "source": [
    "bags = 3\n",
    "apples_in_bag = 12\n",
    "\n",
    "print(f'There are total of {bags * apples_in_bag} apples')"
   ]
  },
  {
   "cell_type": "markdown",
   "id": "a098064f",
   "metadata": {},
   "source": [
    "## 3-3 f문자열에 딕셔너리도 처리 "
   ]
  },
  {
   "cell_type": "code",
   "execution_count": 34,
   "id": "eef04990",
   "metadata": {},
   "outputs": [
    {
     "name": "stdout",
     "output_type": "stream",
     "text": [
      "농협은행  is a 은행원\n"
     ]
    }
   ],
   "source": [
    "\n",
    "user = {'name': '농협은행 ', 'occupation': '은행원'}\n",
    "\n",
    "print(f\"{user['name']} is a {user['occupation']}\")"
   ]
  },
  {
   "cell_type": "code",
   "execution_count": null,
   "id": "d2f66ae1",
   "metadata": {},
   "outputs": [],
   "source": []
  }
 ],
 "metadata": {
  "kernelspec": {
   "display_name": "Python 3 (ipykernel)",
   "language": "python",
   "name": "python3"
  },
  "language_info": {
   "codemirror_mode": {
    "name": "ipython",
    "version": 3
   },
   "file_extension": ".py",
   "mimetype": "text/x-python",
   "name": "python",
   "nbconvert_exporter": "python",
   "pygments_lexer": "ipython3",
   "version": "3.9.13"
  }
 },
 "nbformat": 4,
 "nbformat_minor": 5
}
