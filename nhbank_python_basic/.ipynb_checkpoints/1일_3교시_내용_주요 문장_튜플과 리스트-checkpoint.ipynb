{
 "cells": [
  {
   "cell_type": "markdown",
   "id": "4dfa57e8",
   "metadata": {},
   "source": [
    "# 1.  제어문 "
   ]
  },
  {
   "cell_type": "markdown",
   "id": "8379d026",
   "metadata": {},
   "source": [
    "## 1-1 불리언 자료형 이해하기 "
   ]
  },
  {
   "cell_type": "markdown",
   "id": "884b4c2e",
   "metadata": {},
   "source": [
    "## 불리언 클래스는 정수의 하위 클래스"
   ]
  },
  {
   "cell_type": "code",
   "execution_count": 1,
   "id": "794ef915",
   "metadata": {},
   "outputs": [
    {
     "data": {
      "text/plain": [
       "[bool, <enum 'IntEnum'>, <enum 'IntFlag'>, sre_constants._NamedIntConstant]"
      ]
     },
     "execution_count": 1,
     "metadata": {},
     "output_type": "execute_result"
    }
   ],
   "source": [
    "int.__subclasses__()"
   ]
  },
  {
   "cell_type": "code",
   "execution_count": 2,
   "id": "15a96b42",
   "metadata": {},
   "outputs": [
    {
     "data": {
      "text/plain": [
       "1"
      ]
     },
     "execution_count": 2,
     "metadata": {},
     "output_type": "execute_result"
    }
   ],
   "source": [
    "True + 0 "
   ]
  },
  {
   "cell_type": "markdown",
   "id": "ca5f9c35",
   "metadata": {},
   "source": [
    "## 빈 값은 거짓  그외는 참으로 인식"
   ]
  },
  {
   "cell_type": "code",
   "execution_count": 3,
   "id": "c1e1cf1f",
   "metadata": {},
   "outputs": [
    {
     "data": {
      "text/plain": [
       "False"
      ]
     },
     "execution_count": 3,
     "metadata": {},
     "output_type": "execute_result"
    }
   ],
   "source": [
    "bool(None)"
   ]
  },
  {
   "cell_type": "code",
   "execution_count": 4,
   "id": "936dce3a",
   "metadata": {},
   "outputs": [
    {
     "name": "stdout",
     "output_type": "stream",
     "text": [
      "False\n",
      "False\n",
      "False\n",
      "False\n",
      "False\n"
     ]
    }
   ],
   "source": [
    "print(bool(0))  # 숫자 0 \n",
    "print(bool(\"\")) # 빈 문자열\n",
    "print(bool([])) # 빈 리스트 \n",
    "print(bool(())) # 빈 튜플 \n",
    "print(bool({})) # 빈 딕셔너리 "
   ]
  },
  {
   "cell_type": "code",
   "execution_count": null,
   "id": "c4ec30d7",
   "metadata": {},
   "outputs": [],
   "source": []
  },
  {
   "cell_type": "markdown",
   "id": "ddab8fb7",
   "metadata": {},
   "source": [
    "## 1-2  조건문 \n",
    "\n",
    "- 조건식이 참과 거짓일 경우 처리하는 문장 "
   ]
  },
  {
   "cell_type": "markdown",
   "id": "e6594f53",
   "metadata": {},
   "source": [
    "## 단순 조건 "
   ]
  },
  {
   "cell_type": "code",
   "execution_count": 5,
   "id": "03680208",
   "metadata": {},
   "outputs": [
    {
     "name": "stdout",
     "output_type": "stream",
     "text": [
      "참일 경우 \n"
     ]
    }
   ],
   "source": [
    "if True :\n",
    "    print(\"참일 경우 \")\n"
   ]
  },
  {
   "cell_type": "code",
   "execution_count": 6,
   "id": "4ca4b354",
   "metadata": {},
   "outputs": [
    {
     "name": "stdout",
     "output_type": "stream",
     "text": [
      "참일 경우 \n"
     ]
    }
   ],
   "source": [
    "if True :\n",
    "    print(\"참일 경우 \")\n",
    "else :\n",
    "    print(\"거짓일 경우\")"
   ]
  },
  {
   "cell_type": "markdown",
   "id": "c3d839df",
   "metadata": {},
   "source": [
    "## 복합 조건 "
   ]
  },
  {
   "cell_type": "code",
   "execution_count": 7,
   "id": "e0112a0c",
   "metadata": {},
   "outputs": [],
   "source": [
    "a = 100; b=30"
   ]
  },
  {
   "cell_type": "code",
   "execution_count": 8,
   "id": "c30fc47f",
   "metadata": {},
   "outputs": [
    {
     "name": "stdout",
     "output_type": "stream",
     "text": [
      "동일한 값일 경우\n"
     ]
    }
   ],
   "source": [
    "if a < 100  :\n",
    "    print(\"참일 경우 \")\n",
    "elif a == 100 :\n",
    "    print(\"동일한 값일 경우\")\n",
    "else :\n",
    "    print(\"거짓일 경우\")"
   ]
  },
  {
   "cell_type": "markdown",
   "id": "b76b1f92",
   "metadata": {},
   "source": [
    "## 내포된 if 문 처리 "
   ]
  },
  {
   "cell_type": "code",
   "execution_count": 9,
   "id": "a76e6efb",
   "metadata": {},
   "outputs": [
    {
     "name": "stdout",
     "output_type": "stream",
     "text": [
      "참일 경우\n",
      "내포된 거짓 경우 \n"
     ]
    }
   ],
   "source": [
    "if b > 10  :\n",
    "    print(\"참일 경우\")\n",
    "    if  b > 30 : \n",
    "        print(\"내포된 참일 경우 \")\n",
    "    else : \n",
    "        print(\"내포된 거짓 경우 \")\n",
    "else :\n",
    "    print(\"거짓일 경우\")"
   ]
  },
  {
   "cell_type": "markdown",
   "id": "ef402d86",
   "metadata": {},
   "source": [
    "## 1-3 삼항연산 처리 "
   ]
  },
  {
   "cell_type": "code",
   "execution_count": 10,
   "id": "07637c79",
   "metadata": {},
   "outputs": [],
   "source": [
    "m = 10\n",
    "n = 20\n",
    "x = 5"
   ]
  },
  {
   "cell_type": "code",
   "execution_count": 11,
   "id": "dbcc6e47",
   "metadata": {},
   "outputs": [
    {
     "name": "stdout",
     "output_type": "stream",
     "text": [
      "20\n"
     ]
    }
   ],
   "source": [
    "print(n) if (m) else x;"
   ]
  },
  {
   "cell_type": "code",
   "execution_count": null,
   "id": "93df89ed",
   "metadata": {},
   "outputs": [],
   "source": []
  },
  {
   "cell_type": "code",
   "execution_count": null,
   "id": "bd80bb56",
   "metadata": {},
   "outputs": [],
   "source": []
  },
  {
   "cell_type": "markdown",
   "id": "364347b3",
   "metadata": {},
   "source": [
    "# 2. 순환문 \n",
    "\n",
    "-  for 과 while 문 \n",
    "-  여러 원소를 가진 객체를 순환하는 for 문\n",
    "-  조건식이 참일 경우 처리하는 whiel 문"
   ]
  },
  {
   "cell_type": "markdown",
   "id": "8721aa77",
   "metadata": {},
   "source": [
    "## 2-1 for\n",
    "- 여러 원소를 가진 객체를 처리 "
   ]
  },
  {
   "cell_type": "markdown",
   "id": "bfac1a83",
   "metadata": {},
   "source": [
    "## 범위 처리"
   ]
  },
  {
   "cell_type": "code",
   "execution_count": 17,
   "id": "1120b914",
   "metadata": {},
   "outputs": [
    {
     "name": "stdout",
     "output_type": "stream",
     "text": [
      "1\n",
      "2\n",
      "3\n",
      "4\n"
     ]
    }
   ],
   "source": [
    "for r in range(1,5)  :\n",
    "    print(r)"
   ]
  },
  {
   "cell_type": "markdown",
   "id": "ec46ee9d",
   "metadata": {},
   "source": [
    "## 리스트 순환"
   ]
  },
  {
   "cell_type": "code",
   "execution_count": 12,
   "id": "c0a724f8",
   "metadata": {},
   "outputs": [],
   "source": [
    "ll = [1,2,3,4,]"
   ]
  },
  {
   "cell_type": "code",
   "execution_count": 13,
   "id": "76ca5f99",
   "metadata": {},
   "outputs": [
    {
     "name": "stdout",
     "output_type": "stream",
     "text": [
      "1\n",
      "2\n",
      "3\n",
      "4\n"
     ]
    }
   ],
   "source": [
    "for l in ll :\n",
    "    print(l)"
   ]
  },
  {
   "cell_type": "code",
   "execution_count": null,
   "id": "b28feafb",
   "metadata": {},
   "outputs": [],
   "source": []
  },
  {
   "cell_type": "code",
   "execution_count": null,
   "id": "ef0b1418",
   "metadata": {},
   "outputs": [],
   "source": []
  },
  {
   "cell_type": "markdown",
   "id": "aba4b0d0",
   "metadata": {},
   "source": [
    "## 2-2 while "
   ]
  },
  {
   "cell_type": "code",
   "execution_count": null,
   "id": "ea0faeeb",
   "metadata": {},
   "outputs": [],
   "source": []
  },
  {
   "cell_type": "code",
   "execution_count": 14,
   "id": "d073e3a0",
   "metadata": {},
   "outputs": [],
   "source": [
    "liter = iter(ll)"
   ]
  },
  {
   "cell_type": "code",
   "execution_count": 15,
   "id": "6b4d80a0",
   "metadata": {},
   "outputs": [
    {
     "name": "stdout",
     "output_type": "stream",
     "text": [
      "1\n",
      "2\n",
      "3\n",
      "4\n"
     ]
    }
   ],
   "source": [
    "xx = next(liter)\n",
    "while xx :\n",
    "    print(xx)\n",
    "    xx = next(liter, None)\n",
    "    "
   ]
  },
  {
   "cell_type": "code",
   "execution_count": null,
   "id": "cf9ae3c5",
   "metadata": {},
   "outputs": [],
   "source": []
  },
  {
   "cell_type": "markdown",
   "id": "f9f26f03",
   "metadata": {},
   "source": [
    "# 3. 튜플과 리스트 처리\n",
    "\n",
    "- 변경불가한 튜플과 변경가능한 리스트 \n",
    "- 배열은 별도의 모듈로 제공"
   ]
  },
  {
   "cell_type": "markdown",
   "id": "37615e1a",
   "metadata": {},
   "source": [
    "## 3-1 튜플"
   ]
  },
  {
   "cell_type": "markdown",
   "id": "19b0e516",
   "metadata": {},
   "source": [
    "## 리터럴로 바로 작성하기"
   ]
  },
  {
   "cell_type": "code",
   "execution_count": 7,
   "id": "cb45a420",
   "metadata": {},
   "outputs": [
    {
     "name": "stdout",
     "output_type": "stream",
     "text": [
      "빈튜플 ()\n",
      "한개 원소를 가진 튜플 (1,)\n"
     ]
    }
   ],
   "source": [
    "print(\"빈튜플\" ,())\n",
    "\n",
    "print(\"한개 원소를 가진 튜플\" ,(1,))"
   ]
  },
  {
   "cell_type": "code",
   "execution_count": 3,
   "id": "f853a094",
   "metadata": {},
   "outputs": [],
   "source": [
    "tt = (1,2,3,4)"
   ]
  },
  {
   "cell_type": "code",
   "execution_count": 4,
   "id": "4fe0297d",
   "metadata": {},
   "outputs": [
    {
     "data": {
      "text/plain": [
       "(1, 2, 3, 4)"
      ]
     },
     "execution_count": 4,
     "metadata": {},
     "output_type": "execute_result"
    }
   ],
   "source": [
    "tt"
   ]
  },
  {
   "cell_type": "markdown",
   "id": "49fade5d",
   "metadata": {},
   "source": [
    "## 클래스로 객체를 생성하기"
   ]
  },
  {
   "cell_type": "code",
   "execution_count": 1,
   "id": "b742aec3",
   "metadata": {},
   "outputs": [],
   "source": [
    "t = tuple([1,2,3,4])"
   ]
  },
  {
   "cell_type": "code",
   "execution_count": 2,
   "id": "d6facc85",
   "metadata": {},
   "outputs": [
    {
     "data": {
      "text/plain": [
       "(1, 2, 3, 4)"
      ]
     },
     "execution_count": 2,
     "metadata": {},
     "output_type": "execute_result"
    }
   ],
   "source": [
    "t"
   ]
  },
  {
   "cell_type": "markdown",
   "id": "95dc2435",
   "metadata": {},
   "source": [
    "## 튜플 검색 및 갱신"
   ]
  },
  {
   "cell_type": "code",
   "execution_count": 8,
   "id": "63324a14",
   "metadata": {},
   "outputs": [
    {
     "data": {
      "text/plain": [
       "1"
      ]
     },
     "execution_count": 8,
     "metadata": {},
     "output_type": "execute_result"
    }
   ],
   "source": [
    "t[0]"
   ]
  },
  {
   "cell_type": "code",
   "execution_count": 9,
   "id": "ccd8bdd3",
   "metadata": {},
   "outputs": [
    {
     "name": "stdout",
     "output_type": "stream",
     "text": [
      "'tuple' object does not support item assignment\n"
     ]
    }
   ],
   "source": [
    "try :\n",
    "    t[0] = 100            # 튜플은 변경이 불가해서 갱신하면 예외발생 \n",
    "except Exception as e :\n",
    "    print(e)"
   ]
  },
  {
   "cell_type": "markdown",
   "id": "4b27532b",
   "metadata": {},
   "source": [
    "## 3-2 리스트"
   ]
  },
  {
   "cell_type": "code",
   "execution_count": null,
   "id": "a7605a3a",
   "metadata": {},
   "outputs": [],
   "source": []
  },
  {
   "cell_type": "code",
   "execution_count": null,
   "id": "23a7cd51",
   "metadata": {},
   "outputs": [],
   "source": []
  },
  {
   "cell_type": "code",
   "execution_count": null,
   "id": "1da6603f",
   "metadata": {},
   "outputs": [],
   "source": []
  },
  {
   "cell_type": "code",
   "execution_count": null,
   "id": "eed27d67",
   "metadata": {},
   "outputs": [],
   "source": []
  },
  {
   "cell_type": "code",
   "execution_count": null,
   "id": "b74fe3c1",
   "metadata": {},
   "outputs": [],
   "source": []
  },
  {
   "cell_type": "code",
   "execution_count": null,
   "id": "9ef994a5",
   "metadata": {},
   "outputs": [],
   "source": []
  },
  {
   "cell_type": "markdown",
   "id": "859a3812",
   "metadata": {},
   "source": [
    "## 3-3 리스트 컴프리헨션 처리"
   ]
  },
  {
   "cell_type": "code",
   "execution_count": null,
   "id": "8235d718",
   "metadata": {},
   "outputs": [],
   "source": []
  },
  {
   "cell_type": "code",
   "execution_count": null,
   "id": "e251cc5e",
   "metadata": {},
   "outputs": [],
   "source": []
  },
  {
   "cell_type": "code",
   "execution_count": null,
   "id": "3ac5d24a",
   "metadata": {},
   "outputs": [],
   "source": []
  },
  {
   "cell_type": "code",
   "execution_count": null,
   "id": "6c9189b8",
   "metadata": {},
   "outputs": [],
   "source": []
  }
 ],
 "metadata": {
  "kernelspec": {
   "display_name": "Python 3 (ipykernel)",
   "language": "python",
   "name": "python3"
  },
  "language_info": {
   "codemirror_mode": {
    "name": "ipython",
    "version": 3
   },
   "file_extension": ".py",
   "mimetype": "text/x-python",
   "name": "python",
   "nbconvert_exporter": "python",
   "pygments_lexer": "ipython3",
   "version": "3.9.13"
  }
 },
 "nbformat": 4,
 "nbformat_minor": 5
}
