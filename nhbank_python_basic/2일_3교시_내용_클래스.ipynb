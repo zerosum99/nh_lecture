{
 "cells": [
  {
   "cell_type": "markdown",
   "id": "29c24de1",
   "metadata": {},
   "source": [
    "# 1. 클래스 정의 \n",
    "\n",
    "- 클래스를 생성하려면 먼저 class 예약어로 클래스를 생성해야 함 "
   ]
  },
  {
   "cell_type": "markdown",
   "id": "b5540bed",
   "metadata": {},
   "source": [
    "## 1-1  클래스 정의 \n",
    "- 모든 클래스는 최상위 클래스 object를 상속함\n",
    "- object 클래스는 빈 객체를 생성할 수는 있지만 특정한 기능이 없음 "
   ]
  },
  {
   "cell_type": "code",
   "execution_count": 1,
   "id": "99c4e68b",
   "metadata": {},
   "outputs": [],
   "source": [
    "class Klass(object) :\n",
    "    pass"
   ]
  },
  {
   "cell_type": "code",
   "execution_count": 2,
   "id": "013de2d5",
   "metadata": {},
   "outputs": [],
   "source": [
    "class 클래스(object) :\n",
    "    ..."
   ]
  },
  {
   "cell_type": "markdown",
   "id": "124473f4",
   "metadata": {},
   "source": [
    "## 객체 생성\n",
    "- 클래스 이름과 호출연산자로 객체 인스턴스 생성"
   ]
  },
  {
   "cell_type": "code",
   "execution_count": 3,
   "id": "3feb2b53",
   "metadata": {},
   "outputs": [],
   "source": [
    "k = Klass()"
   ]
  },
  {
   "cell_type": "code",
   "execution_count": 4,
   "id": "9a755c65",
   "metadata": {},
   "outputs": [
    {
     "data": {
      "text/plain": [
       "<__main__.Klass at 0x104729100>"
      ]
     },
     "execution_count": 4,
     "metadata": {},
     "output_type": "execute_result"
    }
   ],
   "source": [
    "k"
   ]
  },
  {
   "cell_type": "code",
   "execution_count": 5,
   "id": "5d368afa",
   "metadata": {},
   "outputs": [],
   "source": [
    "k1 = 클래스.__call__()"
   ]
  },
  {
   "cell_type": "code",
   "execution_count": 6,
   "id": "7957800f",
   "metadata": {},
   "outputs": [
    {
     "data": {
      "text/plain": [
       "<__main__.클래스 at 0x1047298b0>"
      ]
     },
     "execution_count": 6,
     "metadata": {},
     "output_type": "execute_result"
    }
   ],
   "source": [
    "k1"
   ]
  },
  {
   "cell_type": "markdown",
   "id": "513ed486",
   "metadata": {},
   "source": [
    "## 클래스와 객체 관계 확인\n",
    "\n",
    "- isinstance 함수로 클래스와 객체 생성관계 확인 "
   ]
  },
  {
   "cell_type": "code",
   "execution_count": 7,
   "id": "2f062109",
   "metadata": {},
   "outputs": [
    {
     "data": {
      "text/plain": [
       "True"
      ]
     },
     "execution_count": 7,
     "metadata": {},
     "output_type": "execute_result"
    }
   ],
   "source": [
    "isinstance(k1, 클래스)"
   ]
  },
  {
   "cell_type": "markdown",
   "id": "8a9f48e4",
   "metadata": {},
   "source": [
    "## 1-2 생성자 정의\n",
    "\n",
    "- 객체의 속성을 정의  "
   ]
  },
  {
   "cell_type": "code",
   "execution_count": 24,
   "id": "6a6b0e5f",
   "metadata": {},
   "outputs": [],
   "source": [
    "class Person :                      # 클래스를 정의할 때 최상위 클래스는 보통 생략함 \n",
    "    def __init__(self,name,age) :\n",
    "        self.name = name\n",
    "        self.age = age"
   ]
  },
  {
   "cell_type": "code",
   "execution_count": 9,
   "id": "24b908a8",
   "metadata": {},
   "outputs": [
    {
     "data": {
      "text/plain": [
       "mappingproxy({'__module__': '__main__',\n",
       "              '__init__': <function __main__.Person.__init__(self, name, age)>,\n",
       "              '__dict__': <attribute '__dict__' of 'Person' objects>,\n",
       "              '__weakref__': <attribute '__weakref__' of 'Person' objects>,\n",
       "              '__doc__': None})"
      ]
     },
     "execution_count": 9,
     "metadata": {},
     "output_type": "execute_result"
    }
   ],
   "source": [
    "Person.__dict__      # 클래스 내부 속성 확인 "
   ]
  },
  {
   "cell_type": "code",
   "execution_count": 10,
   "id": "f31da410",
   "metadata": {},
   "outputs": [],
   "source": [
    "p = Person(\"농협은행\", 100)"
   ]
  },
  {
   "cell_type": "code",
   "execution_count": 11,
   "id": "3e9499a4",
   "metadata": {},
   "outputs": [
    {
     "data": {
      "text/plain": [
       "<__main__.Person at 0x1047344c0>"
      ]
     },
     "execution_count": 11,
     "metadata": {},
     "output_type": "execute_result"
    }
   ],
   "source": [
    "p"
   ]
  },
  {
   "cell_type": "code",
   "execution_count": 12,
   "id": "b4c6783c",
   "metadata": {},
   "outputs": [
    {
     "data": {
      "text/plain": [
       "{'name': '농협은행', 'age': 100}"
      ]
     },
     "execution_count": 12,
     "metadata": {},
     "output_type": "execute_result"
    }
   ],
   "source": [
    "p.__dict__   # 객체 내부 속성 확인 "
   ]
  },
  {
   "cell_type": "code",
   "execution_count": null,
   "id": "73ac1148",
   "metadata": {},
   "outputs": [],
   "source": []
  },
  {
   "cell_type": "code",
   "execution_count": null,
   "id": "aa07c5f7",
   "metadata": {},
   "outputs": [],
   "source": []
  },
  {
   "cell_type": "markdown",
   "id": "05a1ac63",
   "metadata": {},
   "source": [
    "# 2. 메서드 정의 \n",
    "\n",
    "- 객체가 특정한 행위를 하는 함수를 클래스 내부에 정의\n",
    "- 항상 객체의 행위를 나타낸다."
   ]
  },
  {
   "cell_type": "markdown",
   "id": "2d8f2072",
   "metadata": {},
   "source": [
    "## 2-1 객체가 사용하는 인스턴스 메서드 정의\n",
    "\n",
    "- 속성을 조회하는 메서드 작성 "
   ]
  },
  {
   "cell_type": "code",
   "execution_count": 13,
   "id": "56a37b37",
   "metadata": {},
   "outputs": [],
   "source": [
    "class User :\n",
    "    def __init__(self,name,age) :\n",
    "        self.name = name\n",
    "        self.age = age\n",
    "        \n",
    "    def getUser(self) :\n",
    "        return self.name, self.age"
   ]
  },
  {
   "cell_type": "code",
   "execution_count": 14,
   "id": "40666f93",
   "metadata": {},
   "outputs": [],
   "source": [
    "u = User(\"이름\", 11)"
   ]
  },
  {
   "cell_type": "code",
   "execution_count": 15,
   "id": "ca68a3cc",
   "metadata": {},
   "outputs": [
    {
     "data": {
      "text/plain": [
       "('이름', 11)"
      ]
     },
     "execution_count": 15,
     "metadata": {},
     "output_type": "execute_result"
    }
   ],
   "source": [
    "u.getUser()"
   ]
  },
  {
   "cell_type": "markdown",
   "id": "5ded92e9",
   "metadata": {},
   "source": [
    "## 2-2 속성을 갱신하는 메서드 정의 \n",
    "\n",
    "- 특정 속성을 갱신하는 메서드 작성 "
   ]
  },
  {
   "cell_type": "code",
   "execution_count": 16,
   "id": "2553867e",
   "metadata": {},
   "outputs": [],
   "source": [
    "class User1 :\n",
    "    def __init__(self,name,age) :\n",
    "        self.name = name\n",
    "        self.age = age\n",
    "        \n",
    "    def getUser(self) :\n",
    "        return self.name, self.age\n",
    "    \n",
    "    def setUser(self,nVal,aVal) :\n",
    "        self.name = nVal\n",
    "        self.age = aVal"
   ]
  },
  {
   "cell_type": "code",
   "execution_count": 17,
   "id": "64192ffc",
   "metadata": {},
   "outputs": [],
   "source": [
    "u1 = User1(\"이름1\", 111)"
   ]
  },
  {
   "cell_type": "code",
   "execution_count": 18,
   "id": "41d5f4aa",
   "metadata": {},
   "outputs": [
    {
     "data": {
      "text/plain": [
       "('이름1', 111)"
      ]
     },
     "execution_count": 18,
     "metadata": {},
     "output_type": "execute_result"
    }
   ],
   "source": [
    "u1.getUser()"
   ]
  },
  {
   "cell_type": "code",
   "execution_count": 19,
   "id": "c4e72d19",
   "metadata": {},
   "outputs": [],
   "source": [
    "u1.setUser(\"은행\", 120)"
   ]
  },
  {
   "cell_type": "code",
   "execution_count": 20,
   "id": "9089ee4a",
   "metadata": {},
   "outputs": [
    {
     "data": {
      "text/plain": [
       "('은행', 120)"
      ]
     },
     "execution_count": 20,
     "metadata": {},
     "output_type": "execute_result"
    }
   ],
   "source": [
    "u1.getUser()"
   ]
  },
  {
   "cell_type": "markdown",
   "id": "dff76e4e",
   "metadata": {},
   "source": [
    "## 2-3 특정 기능을 하는 메서드 정의 \n",
    "\n",
    "- 객체의 특별한 기능을 처리하는 메서드 작성"
   ]
  },
  {
   "cell_type": "code",
   "execution_count": 21,
   "id": "bc91cec1",
   "metadata": {},
   "outputs": [],
   "source": [
    "class User2 :\n",
    "    def __init__(self,name,age) :\n",
    "        self.name = name\n",
    "        self.age = age\n",
    "        \n",
    "    def getUser(self) :\n",
    "        return self.name, self.age\n",
    "    def setUser(self,nVal,aVal) :\n",
    "        self.name = nVal\n",
    "        self.age = aVal\n",
    "        \n",
    "    def printUser(self) :\n",
    "        print(\"User2 name = \" + self.name + ' age = ' + str(self.age))"
   ]
  },
  {
   "cell_type": "code",
   "execution_count": 22,
   "id": "930dc635",
   "metadata": {},
   "outputs": [],
   "source": [
    "u2 = User2(\"이름1\", 111)"
   ]
  },
  {
   "cell_type": "code",
   "execution_count": 23,
   "id": "23ddb587",
   "metadata": {},
   "outputs": [
    {
     "name": "stdout",
     "output_type": "stream",
     "text": [
      "User2 name = 이름1 age = 111\n"
     ]
    }
   ],
   "source": [
    "u2.printUser()"
   ]
  },
  {
   "cell_type": "code",
   "execution_count": null,
   "id": "73290c7a",
   "metadata": {},
   "outputs": [],
   "source": []
  }
 ],
 "metadata": {
  "kernelspec": {
   "display_name": "Python 3 (ipykernel)",
   "language": "python",
   "name": "python3"
  },
  "language_info": {
   "codemirror_mode": {
    "name": "ipython",
    "version": 3
   },
   "file_extension": ".py",
   "mimetype": "text/x-python",
   "name": "python",
   "nbconvert_exporter": "python",
   "pygments_lexer": "ipython3",
   "version": "3.9.13"
  }
 },
 "nbformat": 4,
 "nbformat_minor": 5
}
