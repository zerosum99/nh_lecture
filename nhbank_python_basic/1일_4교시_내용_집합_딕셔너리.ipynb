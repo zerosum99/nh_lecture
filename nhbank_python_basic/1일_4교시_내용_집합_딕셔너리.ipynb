{
 "cells": [
  {
   "cell_type": "code",
   "execution_count": null,
   "id": "3490aa2d",
   "metadata": {},
   "outputs": [],
   "source": []
  },
  {
   "cell_type": "code",
   "execution_count": null,
   "id": "5eabc48f",
   "metadata": {},
   "outputs": [],
   "source": []
  },
  {
   "cell_type": "markdown",
   "id": "98f69f36",
   "metadata": {},
   "source": [
    "# 1. 집합 "
   ]
  },
  {
   "cell_type": "markdown",
   "id": "34dca3a0",
   "metadata": {},
   "source": [
    "## 1-1 빈진합 확인하기 "
   ]
  },
  {
   "cell_type": "code",
   "execution_count": 1,
   "id": "8d860843",
   "metadata": {},
   "outputs": [
    {
     "data": {
      "text/plain": [
       "(set(), frozenset())"
      ]
     },
     "execution_count": 1,
     "metadata": {},
     "output_type": "execute_result"
    }
   ],
   "source": [
    "set(), frozenset()"
   ]
  },
  {
   "cell_type": "markdown",
   "id": "ad5c1447",
   "metadata": {},
   "source": [
    "## 1-2 집합 객체 생성하기"
   ]
  },
  {
   "cell_type": "code",
   "execution_count": 6,
   "id": "1ab8af44",
   "metadata": {},
   "outputs": [],
   "source": [
    "s = {1,2,3,4,5}               # 갱신이 가능한 집합"
   ]
  },
  {
   "cell_type": "code",
   "execution_count": 7,
   "id": "d59d3763",
   "metadata": {},
   "outputs": [
    {
     "data": {
      "text/plain": [
       "set"
      ]
     },
     "execution_count": 7,
     "metadata": {},
     "output_type": "execute_result"
    }
   ],
   "source": [
    "type(s)"
   ]
  },
  {
   "cell_type": "code",
   "execution_count": 9,
   "id": "0aa2f662",
   "metadata": {},
   "outputs": [],
   "source": [
    "f = frozenset(s)              #  갱신할 수 없는 집합 "
   ]
  },
  {
   "cell_type": "code",
   "execution_count": 10,
   "id": "d00d4529",
   "metadata": {},
   "outputs": [
    {
     "data": {
      "text/plain": [
       "frozenset"
      ]
     },
     "execution_count": 10,
     "metadata": {},
     "output_type": "execute_result"
    }
   ],
   "source": [
    "type(f)"
   ]
  },
  {
   "cell_type": "markdown",
   "id": "c21328a6",
   "metadata": {},
   "source": [
    "## 1-3 집합 내부 속성과 메서드 확인하기"
   ]
  },
  {
   "cell_type": "markdown",
   "id": "260cbec5",
   "metadata": {},
   "source": [
    "## 집합 처리 "
   ]
  },
  {
   "cell_type": "code",
   "execution_count": 4,
   "id": "f76e83c6",
   "metadata": {},
   "outputs": [
    {
     "name": "stdout",
     "output_type": "stream",
     "text": [
      "__and__, __class__, __class_getitem__, __contains__, __delattr__, __dir__, __doc__, __eq__, __format__, __ge__, __getattribute__, __gt__, __hash__, __iand__, __init__, __init_subclass__, __ior__, __isub__, __iter__, __ixor__, __le__, __len__, __lt__, __ne__, __new__, __or__, __rand__, __reduce__, __reduce_ex__, __repr__, __ror__, __rsub__, __rxor__, __setattr__, __sizeof__, __str__, __sub__, __subclasshook__, __xor__, add, clear, copy, difference, difference_update, discard, intersection, intersection_update, isdisjoint, issubset, issuperset, pop, remove, symmetric_difference, symmetric_difference_update, union, update, "
     ]
    }
   ],
   "source": [
    "for i in dir(s) :\n",
    "    print(i, end=', ')"
   ]
  },
  {
   "cell_type": "code",
   "execution_count": 12,
   "id": "0f5e5bbc",
   "metadata": {},
   "outputs": [],
   "source": [
    "a = {1,2,3,4}\n",
    "b = {2,3}"
   ]
  },
  {
   "cell_type": "code",
   "execution_count": 13,
   "id": "1809bca5",
   "metadata": {},
   "outputs": [
    {
     "data": {
      "text/plain": [
       "{2, 3}"
      ]
     },
     "execution_count": 13,
     "metadata": {},
     "output_type": "execute_result"
    }
   ],
   "source": [
    "a.intersection(b)"
   ]
  },
  {
   "cell_type": "code",
   "execution_count": 14,
   "id": "4faca251",
   "metadata": {},
   "outputs": [
    {
     "data": {
      "text/plain": [
       "{1, 2, 3, 4}"
      ]
     },
     "execution_count": 14,
     "metadata": {},
     "output_type": "execute_result"
    }
   ],
   "source": [
    "a.union(b)"
   ]
  },
  {
   "cell_type": "markdown",
   "id": "fd214b11",
   "metadata": {},
   "source": [
    "## 프로즌 셋 처리"
   ]
  },
  {
   "cell_type": "code",
   "execution_count": 5,
   "id": "f6d87b16",
   "metadata": {},
   "outputs": [
    {
     "name": "stdout",
     "output_type": "stream",
     "text": [
      "__and__, __class__, __class_getitem__, __contains__, __delattr__, __dir__, __doc__, __eq__, __format__, __ge__, __getattribute__, __gt__, __hash__, __init__, __init_subclass__, __iter__, __le__, __len__, __lt__, __ne__, __new__, __or__, __rand__, __reduce__, __reduce_ex__, __repr__, __ror__, __rsub__, __rxor__, __setattr__, __sizeof__, __str__, __sub__, __subclasshook__, __xor__, copy, difference, intersection, isdisjoint, issubset, issuperset, symmetric_difference, union, "
     ]
    }
   ],
   "source": [
    "for i in dir(frozenset()) :\n",
    "    print(i, end=', ')"
   ]
  },
  {
   "cell_type": "code",
   "execution_count": 15,
   "id": "5c10fbf4",
   "metadata": {},
   "outputs": [],
   "source": [
    "fa = frozenset(a)\n",
    "fb = frozenset(b)"
   ]
  },
  {
   "cell_type": "code",
   "execution_count": 16,
   "id": "a97c08fe",
   "metadata": {},
   "outputs": [
    {
     "data": {
      "text/plain": [
       "frozenset({2, 3})"
      ]
     },
     "execution_count": 16,
     "metadata": {},
     "output_type": "execute_result"
    }
   ],
   "source": [
    "fa.intersection(fb)"
   ]
  },
  {
   "cell_type": "code",
   "execution_count": 17,
   "id": "36a05265",
   "metadata": {},
   "outputs": [
    {
     "data": {
      "text/plain": [
       "frozenset({1, 2, 3, 4})"
      ]
     },
     "execution_count": 17,
     "metadata": {},
     "output_type": "execute_result"
    }
   ],
   "source": [
    "fa.union(fb)"
   ]
  },
  {
   "cell_type": "markdown",
   "id": "65a282b8",
   "metadata": {},
   "source": [
    "# 2. 딕셔너리 \n",
    "\n",
    "- 키와 값으로 처리하는 자료구조\n",
    "- 키는 해시로 구성해서 변경할 수 없는 객체만 키로 처리할 수 있다.\n",
    "- 보통 키는 문자열 정수 튜플 등으로 처리한다.\n"
   ]
  },
  {
   "cell_type": "markdown",
   "id": "d86f01f2",
   "metadata": {},
   "source": [
    "## 2-1 빈 딕셔너리 "
   ]
  },
  {
   "cell_type": "code",
   "execution_count": 6,
   "id": "caa8f171",
   "metadata": {},
   "outputs": [
    {
     "data": {
      "text/plain": [
       "{}"
      ]
     },
     "execution_count": 6,
     "metadata": {},
     "output_type": "execute_result"
    }
   ],
   "source": [
    "{}"
   ]
  },
  {
   "cell_type": "markdown",
   "id": "6a96a8b2",
   "metadata": {},
   "source": [
    "## 2-2 딕셔너리 생성하기"
   ]
  },
  {
   "cell_type": "markdown",
   "id": "d05e334a",
   "metadata": {},
   "source": [
    "## 리터럴로 생성하기"
   ]
  },
  {
   "cell_type": "code",
   "execution_count": 7,
   "id": "d8604cf7",
   "metadata": {},
   "outputs": [],
   "source": [
    "d = {'a':1, 'b':2}"
   ]
  },
  {
   "cell_type": "markdown",
   "id": "ccd17524",
   "metadata": {},
   "source": [
    "## 생성자로 생성하기 : 두개 원소를 갖는 튜플로 만들고 dict로 객체 생성"
   ]
  },
  {
   "cell_type": "code",
   "execution_count": 18,
   "id": "5e29698e",
   "metadata": {},
   "outputs": [],
   "source": [
    "l = [1,2,3,4]\n",
    "s = list(\"abcd\")\n",
    "c = zip(s,l)                # 키와 값으로 처리할 수 있도록 두 원소를 갖는 튜플로 변환"
   ]
  },
  {
   "cell_type": "code",
   "execution_count": 19,
   "id": "b05def59",
   "metadata": {},
   "outputs": [
    {
     "data": {
      "text/plain": [
       "[('a', 1), ('b', 2), ('c', 3), ('d', 4)]"
      ]
     },
     "execution_count": 19,
     "metadata": {},
     "output_type": "execute_result"
    }
   ],
   "source": [
    "[*c]"
   ]
  },
  {
   "cell_type": "code",
   "execution_count": 20,
   "id": "00fc97db",
   "metadata": {},
   "outputs": [],
   "source": [
    "c = zip(s,l)\n",
    "dd = dict(c)"
   ]
  },
  {
   "cell_type": "code",
   "execution_count": 21,
   "id": "a32ebe69",
   "metadata": {},
   "outputs": [
    {
     "data": {
      "text/plain": [
       "{'a': 1, 'b': 2, 'c': 3, 'd': 4}"
      ]
     },
     "execution_count": 21,
     "metadata": {},
     "output_type": "execute_result"
    }
   ],
   "source": [
    "dd"
   ]
  },
  {
   "cell_type": "markdown",
   "id": "f1420576",
   "metadata": {},
   "source": [
    "## 2-3 딕셔너리 속성과 메서드 확인하기 "
   ]
  },
  {
   "cell_type": "code",
   "execution_count": 12,
   "id": "7cfcc95a",
   "metadata": {},
   "outputs": [
    {
     "name": "stdout",
     "output_type": "stream",
     "text": [
      "__class__, __class_getitem__, __contains__, __delattr__, __delitem__, __dir__, __doc__, __eq__, __format__, __ge__, __getattribute__, __getitem__, __gt__, __hash__, __init__, __init_subclass__, __ior__, __iter__, __le__, __len__, __lt__, __ne__, __new__, __or__, __reduce__, __reduce_ex__, __repr__, __reversed__, __ror__, __setattr__, __setitem__, __sizeof__, __str__, __subclasshook__, clear, copy, fromkeys, get, items, keys, pop, popitem, setdefault, update, values, "
     ]
    }
   ],
   "source": [
    "for i in dir(d) :\n",
    "    print(i, end=', ')"
   ]
  },
  {
   "cell_type": "markdown",
   "id": "d85db8c9",
   "metadata": {},
   "source": [
    "## 딕셔너리 내부 원소 조회"
   ]
  },
  {
   "cell_type": "code",
   "execution_count": 13,
   "id": "98972052",
   "metadata": {},
   "outputs": [
    {
     "data": {
      "text/plain": [
       "dict_values([1, 2, 3, 4])"
      ]
     },
     "execution_count": 13,
     "metadata": {},
     "output_type": "execute_result"
    }
   ],
   "source": [
    "dd.values()              # 값 조회 "
   ]
  },
  {
   "cell_type": "code",
   "execution_count": 14,
   "id": "a71213e7",
   "metadata": {},
   "outputs": [
    {
     "data": {
      "text/plain": [
       "dict_keys(['a', 'b', 'c', 'd'])"
      ]
     },
     "execution_count": 14,
     "metadata": {},
     "output_type": "execute_result"
    }
   ],
   "source": [
    "dd.keys()                # 키 조회 "
   ]
  },
  {
   "cell_type": "code",
   "execution_count": 15,
   "id": "24242b34",
   "metadata": {},
   "outputs": [
    {
     "data": {
      "text/plain": [
       "dict_items([('a', 1), ('b', 2), ('c', 3), ('d', 4)])"
      ]
     },
     "execution_count": 15,
     "metadata": {},
     "output_type": "execute_result"
    }
   ],
   "source": [
    "dd.items()               # 키와 값을 쌍으로 조회"
   ]
  },
  {
   "cell_type": "markdown",
   "id": "edfc002a",
   "metadata": {},
   "source": [
    "## 개별 원소 조회하기 "
   ]
  },
  {
   "cell_type": "code",
   "execution_count": 16,
   "id": "b46c93da",
   "metadata": {},
   "outputs": [
    {
     "data": {
      "text/plain": [
       "1"
      ]
     },
     "execution_count": 16,
     "metadata": {},
     "output_type": "execute_result"
    }
   ],
   "source": [
    "dd['a']           # 키로 값을 조회 "
   ]
  },
  {
   "cell_type": "code",
   "execution_count": 17,
   "id": "1cfa33b8",
   "metadata": {},
   "outputs": [],
   "source": [
    "try :\n",
    "    dd['d']\n",
    "except Exception as e :\n",
    "    print(e)"
   ]
  },
  {
   "cell_type": "code",
   "execution_count": null,
   "id": "718c150c",
   "metadata": {},
   "outputs": [],
   "source": []
  },
  {
   "cell_type": "markdown",
   "id": "3a2f173e",
   "metadata": {},
   "source": [
    "## 딕셔너리는 인덱스 조회할 때 에러가 발생하므로 메서드로 조회하거나 갱신"
   ]
  },
  {
   "cell_type": "code",
   "execution_count": 18,
   "id": "d6c5b53f",
   "metadata": {},
   "outputs": [
    {
     "data": {
      "text/plain": [
       "1"
      ]
     },
     "execution_count": 18,
     "metadata": {},
     "output_type": "execute_result"
    }
   ],
   "source": [
    "dd.get('a', 0)    # 메"
   ]
  },
  {
   "cell_type": "code",
   "execution_count": 19,
   "id": "382955bd",
   "metadata": {},
   "outputs": [
    {
     "data": {
      "text/plain": [
       "3"
      ]
     },
     "execution_count": 19,
     "metadata": {},
     "output_type": "execute_result"
    }
   ],
   "source": [
    "dd.get('c', 0)"
   ]
  },
  {
   "cell_type": "code",
   "execution_count": 20,
   "id": "2185913e",
   "metadata": {},
   "outputs": [
    {
     "data": {
      "text/plain": [
       "3"
      ]
     },
     "execution_count": 20,
     "metadata": {},
     "output_type": "execute_result"
    }
   ],
   "source": [
    "dd.setdefault('c', 0)"
   ]
  },
  {
   "cell_type": "code",
   "execution_count": 21,
   "id": "d0aaf27a",
   "metadata": {},
   "outputs": [
    {
     "data": {
      "text/plain": [
       "{'a': 1, 'b': 2, 'c': 3, 'd': 4}"
      ]
     },
     "execution_count": 21,
     "metadata": {},
     "output_type": "execute_result"
    }
   ],
   "source": [
    "dd"
   ]
  },
  {
   "cell_type": "markdown",
   "id": "2f6949aa",
   "metadata": {},
   "source": [
    "# 3. 컴프리헨션 "
   ]
  },
  {
   "cell_type": "markdown",
   "id": "c430fa86",
   "metadata": {},
   "source": [
    "## 3-1 집합 컴프리헨션"
   ]
  },
  {
   "cell_type": "code",
   "execution_count": 22,
   "id": "f1534430",
   "metadata": {},
   "outputs": [],
   "source": [
    "s= { k  for k in [1,2,3,4]}"
   ]
  },
  {
   "cell_type": "code",
   "execution_count": 23,
   "id": "6d0be76c",
   "metadata": {},
   "outputs": [
    {
     "data": {
      "text/plain": [
       "{1, 2, 3, 4}"
      ]
     },
     "execution_count": 23,
     "metadata": {},
     "output_type": "execute_result"
    }
   ],
   "source": [
    "s"
   ]
  },
  {
   "cell_type": "markdown",
   "id": "ef140997",
   "metadata": {},
   "source": [
    "## 3-2 딕셔너리 컴프리헨션"
   ]
  },
  {
   "cell_type": "code",
   "execution_count": 24,
   "id": "d6c96585",
   "metadata": {},
   "outputs": [],
   "source": [
    "dd = { k : v for (k,v) in d.items()}"
   ]
  },
  {
   "cell_type": "code",
   "execution_count": 25,
   "id": "555a713c",
   "metadata": {},
   "outputs": [
    {
     "data": {
      "text/plain": [
       "{'a': 1, 'b': 2}"
      ]
     },
     "execution_count": 25,
     "metadata": {},
     "output_type": "execute_result"
    }
   ],
   "source": [
    "dd"
   ]
  },
  {
   "cell_type": "markdown",
   "id": "5e5b42e6",
   "metadata": {},
   "source": [
    "## 3-3 제너레이터 표현식\n",
    "\n",
    "- 동적으로 처리하는 객체를 만듬 \n",
    "- 컴프리헨션과 달리 반복형인 iterator와 유사한 처리 "
   ]
  },
  {
   "cell_type": "code",
   "execution_count": 1,
   "id": "6ca9a528",
   "metadata": {},
   "outputs": [],
   "source": [
    "g = (x for x in range(1,10))"
   ]
  },
  {
   "cell_type": "code",
   "execution_count": 2,
   "id": "4e2befce",
   "metadata": {},
   "outputs": [
    {
     "data": {
      "text/plain": [
       "generator"
      ]
     },
     "execution_count": 2,
     "metadata": {},
     "output_type": "execute_result"
    }
   ],
   "source": [
    "g.__class__"
   ]
  },
  {
   "cell_type": "code",
   "execution_count": 3,
   "id": "f45892d8",
   "metadata": {},
   "outputs": [
    {
     "name": "stdout",
     "output_type": "stream",
     "text": [
      "1, 2, 3, 4, 5, 6, 7, 8, 9, "
     ]
    }
   ],
   "source": [
    "for i in g :\n",
    "    print(i, end=\", \")"
   ]
  },
  {
   "cell_type": "code",
   "execution_count": 4,
   "id": "de42d47a",
   "metadata": {},
   "outputs": [
    {
     "name": "stdout",
     "output_type": "stream",
     "text": [
      "더 이상 사용할 원소가 없음 \n"
     ]
    }
   ],
   "source": [
    "try :\n",
    "    next(g)\n",
    "except Exception as e :\n",
    "    print(\"더 이상 사용할 원소가 없음 \")"
   ]
  },
  {
   "cell_type": "code",
   "execution_count": null,
   "id": "0b7eae64",
   "metadata": {},
   "outputs": [],
   "source": []
  }
 ],
 "metadata": {
  "kernelspec": {
   "display_name": "Python 3 (ipykernel)",
   "language": "python",
   "name": "python3"
  },
  "language_info": {
   "codemirror_mode": {
    "name": "ipython",
    "version": 3
   },
   "file_extension": ".py",
   "mimetype": "text/x-python",
   "name": "python",
   "nbconvert_exporter": "python",
   "pygments_lexer": "ipython3",
   "version": "3.9.13"
  }
 },
 "nbformat": 4,
 "nbformat_minor": 5
}
