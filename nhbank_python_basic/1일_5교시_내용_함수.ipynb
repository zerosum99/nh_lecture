{
 "cells": [
  {
   "cell_type": "markdown",
   "id": "e043f3eb",
   "metadata": {},
   "source": [
    "# 1. 함수 정의 및 호출\n",
    "\n",
    "\n",
    "- 함수를 정의하는 것은 여러 문장을 재사용하기 위해 하나의 코드 블럭으로 처리 "
   ]
  },
  {
   "cell_type": "markdown",
   "id": "86c128ad",
   "metadata": {},
   "source": [
    "##  1-1 함수 정의 \n",
    "\n",
    "- 함수 정의는 예약어 def + 함수이름 + 매개변수 + 콜론( 코드블럭 처리)\n",
    "- 코드블럭 내에는 다양한 기능과 반환값 처리 포함"
   ]
  },
  {
   "cell_type": "markdown",
   "id": "653e1ae5",
   "metadata": {},
   "source": [
    "## 아무런 기능이 없는 함수 정의 \n",
    "\n",
    "- 코드블럭 안에 pass 나 생략기호(...) 지정\n",
    "- 보통 함수 이름을 지정했지만 아직 내부 기능을 작성하지 못할 경우 많이 사용한다.\n"
   ]
  },
  {
   "cell_type": "code",
   "execution_count": 1,
   "id": "fbfaec5e",
   "metadata": {},
   "outputs": [],
   "source": [
    "def 아무것도안하는함수1() : \n",
    "    pass              # 아무런 구문도 처리하지 않음 "
   ]
  },
  {
   "cell_type": "code",
   "execution_count": 2,
   "id": "c8733ff6",
   "metadata": {},
   "outputs": [],
   "source": [
    "def 아무것도안하는함수2() : \n",
    "    ...                # 생략기호"
   ]
  },
  {
   "cell_type": "markdown",
   "id": "a3927c64",
   "metadata": {},
   "source": [
    "## 매개변수와 반환값 처리 함수 "
   ]
  },
  {
   "cell_type": "code",
   "execution_count": 3,
   "id": "4d479f33",
   "metadata": {},
   "outputs": [],
   "source": [
    "def 함수명(매개변수) :\n",
    "    print(매개변수)\n",
    "    return \"반환값\" + 매개변수"
   ]
  },
  {
   "cell_type": "code",
   "execution_count": null,
   "id": "66133453",
   "metadata": {},
   "outputs": [],
   "source": []
  },
  {
   "cell_type": "markdown",
   "id": "003ec410",
   "metadata": {},
   "source": [
    "## 1-2 함수 호출 "
   ]
  },
  {
   "cell_type": "markdown",
   "id": "6d390403",
   "metadata": {},
   "source": [
    "## 아무것도 처리하지 않는 함수 호출 \n",
    "\n",
    "- 함수가 실행한 결과가 아무것도 없다."
   ]
  },
  {
   "cell_type": "code",
   "execution_count": 4,
   "id": "ee89eb67",
   "metadata": {},
   "outputs": [],
   "source": [
    "아무것도안하는함수1()"
   ]
  },
  {
   "cell_type": "code",
   "execution_count": 5,
   "id": "d6991494",
   "metadata": {},
   "outputs": [],
   "source": [
    "아무것도안하는함수2()"
   ]
  },
  {
   "cell_type": "markdown",
   "id": "3b264e5a",
   "metadata": {},
   "source": [
    "## 인자를 전달해서 매개변수 처리하는 함수 호출"
   ]
  },
  {
   "cell_type": "code",
   "execution_count": 6,
   "id": "c8ace049",
   "metadata": {},
   "outputs": [
    {
     "name": "stdout",
     "output_type": "stream",
     "text": [
      "매개변수 지정\n"
     ]
    },
    {
     "data": {
      "text/plain": [
       "'반환값매개변수 지정'"
      ]
     },
     "execution_count": 6,
     "metadata": {},
     "output_type": "execute_result"
    }
   ],
   "source": [
    "함수명(\"매개변수 지정\") "
   ]
  },
  {
   "cell_type": "code",
   "execution_count": null,
   "id": "aee275b5",
   "metadata": {},
   "outputs": [],
   "source": []
  },
  {
   "cell_type": "markdown",
   "id": "3427c6ca",
   "metadata": {},
   "source": [
    "## 함수 호출 결과를 변수에 할당"
   ]
  },
  {
   "cell_type": "code",
   "execution_count": 7,
   "id": "f54f85d6",
   "metadata": {},
   "outputs": [
    {
     "name": "stdout",
     "output_type": "stream",
     "text": [
      "매개변수 지정\n"
     ]
    }
   ],
   "source": [
    "변수명 = 함수명(\"매개변수 지정\") "
   ]
  },
  {
   "cell_type": "markdown",
   "id": "e00a8bf2",
   "metadata": {},
   "source": [
    "# 2. 매개변수와 인자 처리 "
   ]
  },
  {
   "cell_type": "markdown",
   "id": "e617203a",
   "metadata": {},
   "source": [
    "## 2-1 매개변수 초기화 처리"
   ]
  },
  {
   "cell_type": "code",
   "execution_count": 8,
   "id": "21c5c3ca",
   "metadata": {},
   "outputs": [],
   "source": [
    "def func(x= 10,y=20) :\n",
    "    return x+y"
   ]
  },
  {
   "cell_type": "code",
   "execution_count": 9,
   "id": "c1566543",
   "metadata": {},
   "outputs": [
    {
     "data": {
      "text/plain": [
       "(10, 20)"
      ]
     },
     "execution_count": 9,
     "metadata": {},
     "output_type": "execute_result"
    }
   ],
   "source": [
    "func.__defaults__"
   ]
  },
  {
   "cell_type": "code",
   "execution_count": 10,
   "id": "92089109",
   "metadata": {},
   "outputs": [
    {
     "data": {
      "text/plain": [
       "30"
      ]
     },
     "execution_count": 10,
     "metadata": {},
     "output_type": "execute_result"
    }
   ],
   "source": [
    "func()"
   ]
  },
  {
   "cell_type": "code",
   "execution_count": 11,
   "id": "4c21e56c",
   "metadata": {},
   "outputs": [
    {
     "data": {
      "text/plain": [
       "120"
      ]
     },
     "execution_count": 11,
     "metadata": {},
     "output_type": "execute_result"
    }
   ],
   "source": [
    "func(100)"
   ]
  },
  {
   "cell_type": "code",
   "execution_count": 12,
   "id": "8b0d4383",
   "metadata": {},
   "outputs": [
    {
     "data": {
      "text/plain": [
       "220"
      ]
     },
     "execution_count": 12,
     "metadata": {},
     "output_type": "execute_result"
    }
   ],
   "source": [
    "func(200)"
   ]
  },
  {
   "cell_type": "code",
   "execution_count": null,
   "id": "0bfe96d6",
   "metadata": {},
   "outputs": [],
   "source": []
  },
  {
   "cell_type": "markdown",
   "id": "a59b1d0e",
   "metadata": {},
   "source": [
    "## 2-2 가변인자 처리"
   ]
  },
  {
   "cell_type": "code",
   "execution_count": 13,
   "id": "5a7011d4",
   "metadata": {},
   "outputs": [],
   "source": [
    "def varArg(*args) :\n",
    "    print(locals())\n",
    "    return sum(args)"
   ]
  },
  {
   "cell_type": "code",
   "execution_count": 14,
   "id": "01114f7d",
   "metadata": {},
   "outputs": [
    {
     "name": "stdout",
     "output_type": "stream",
     "text": [
      "{'args': (1, 2, 3, 4)}\n"
     ]
    },
    {
     "data": {
      "text/plain": [
       "10"
      ]
     },
     "execution_count": 14,
     "metadata": {},
     "output_type": "execute_result"
    }
   ],
   "source": [
    "varArg(1,2,3,4)"
   ]
  },
  {
   "cell_type": "markdown",
   "id": "b788d64c",
   "metadata": {},
   "source": [
    "## 가변인자 처리"
   ]
  },
  {
   "cell_type": "code",
   "execution_count": 15,
   "id": "e3910845",
   "metadata": {},
   "outputs": [],
   "source": [
    "def varArg1(*args) :\n",
    "    result = 0\n",
    "    print(locals())\n",
    "    for i in args :\n",
    "        result = result+ i\n",
    "    return result"
   ]
  },
  {
   "cell_type": "code",
   "execution_count": 16,
   "id": "0429a976",
   "metadata": {},
   "outputs": [
    {
     "name": "stdout",
     "output_type": "stream",
     "text": [
      "{'args': (1, 2, 3, 4, 5), 'result': 0}\n"
     ]
    },
    {
     "data": {
      "text/plain": [
       "15"
      ]
     },
     "execution_count": 16,
     "metadata": {},
     "output_type": "execute_result"
    }
   ],
   "source": [
    "varArg1(1,2,3,4,5)"
   ]
  },
  {
   "cell_type": "markdown",
   "id": "aed24dae",
   "metadata": {},
   "source": [
    "## 2-3 가변 키워드인자 처리 "
   ]
  },
  {
   "cell_type": "code",
   "execution_count": 17,
   "id": "de092705",
   "metadata": {},
   "outputs": [],
   "source": [
    "def varKWArg(**kwargs) :\n",
    "    result = 0\n",
    "    print(locals())\n",
    "    for i in kwargs.values() :\n",
    "        result = result+ i\n",
    "    return result"
   ]
  },
  {
   "cell_type": "code",
   "execution_count": 18,
   "id": "211b62cd",
   "metadata": {},
   "outputs": [
    {
     "name": "stdout",
     "output_type": "stream",
     "text": [
      "{'kwargs': {'a': 1, 'b': 2, 'c': 3}, 'result': 0}\n"
     ]
    },
    {
     "data": {
      "text/plain": [
       "6"
      ]
     },
     "execution_count": 18,
     "metadata": {},
     "output_type": "execute_result"
    }
   ],
   "source": [
    "varKWArg(a=1,b=2,c=3)"
   ]
  },
  {
   "cell_type": "markdown",
   "id": "ccef9702",
   "metadata": {},
   "source": [
    "# 3. 변수 스코프 이해하기\n",
    "\n",
    "- 변수를 처리할 수 있는 영역 전역/지역"
   ]
  },
  {
   "cell_type": "markdown",
   "id": "36ca3c9d",
   "metadata": {},
   "source": [
    "## 3-1 전역 변수 \n",
    "\n",
    "- 모듈에 정의된 변수는 전역변수이다"
   ]
  },
  {
   "cell_type": "code",
   "execution_count": 19,
   "id": "66b728f9",
   "metadata": {},
   "outputs": [],
   "source": [
    "x = 100"
   ]
  },
  {
   "cell_type": "code",
   "execution_count": 20,
   "id": "9dba5228",
   "metadata": {},
   "outputs": [
    {
     "data": {
      "text/plain": [
       "100"
      ]
     },
     "execution_count": 20,
     "metadata": {},
     "output_type": "execute_result"
    }
   ],
   "source": [
    "globals()['x']"
   ]
  },
  {
   "cell_type": "code",
   "execution_count": null,
   "id": "ced23876",
   "metadata": {},
   "outputs": [],
   "source": []
  },
  {
   "cell_type": "markdown",
   "id": "8933d353",
   "metadata": {},
   "source": [
    "## 3-2 지역변수\n",
    "\n",
    "- 함수 내부에 정의된 변수와 함수의 매개변수는 모두 지역변수이다."
   ]
  },
  {
   "cell_type": "markdown",
   "id": "8ccbd847",
   "metadata": {},
   "source": [
    "## 전역과 지역변수 확인하기"
   ]
  },
  {
   "cell_type": "code",
   "execution_count": 21,
   "id": "dd922213",
   "metadata": {},
   "outputs": [],
   "source": [
    "xx = 100 "
   ]
  },
  {
   "cell_type": "code",
   "execution_count": 22,
   "id": "438c890c",
   "metadata": {},
   "outputs": [],
   "source": [
    "def func_local(x) :\n",
    "    print(locals())\n",
    "    print(func_local.__globals__['xx'])"
   ]
  },
  {
   "cell_type": "code",
   "execution_count": 23,
   "id": "b94e56b3",
   "metadata": {},
   "outputs": [
    {
     "name": "stdout",
     "output_type": "stream",
     "text": [
      "{'x': 100}\n",
      "100\n"
     ]
    }
   ],
   "source": [
    "func_local(100)"
   ]
  },
  {
   "cell_type": "markdown",
   "id": "3e551356",
   "metadata": {},
   "source": [
    "## 전역변수 사용하기 "
   ]
  },
  {
   "cell_type": "code",
   "execution_count": 24,
   "id": "d0b6b0ce",
   "metadata": {},
   "outputs": [],
   "source": [
    "def funcSum(y) :\n",
    "    return xx+y"
   ]
  },
  {
   "cell_type": "code",
   "execution_count": 25,
   "id": "f1b8c604",
   "metadata": {},
   "outputs": [
    {
     "data": {
      "text/plain": [
       "200"
      ]
     },
     "execution_count": 25,
     "metadata": {},
     "output_type": "execute_result"
    }
   ],
   "source": [
    "funcSum(100)"
   ]
  },
  {
   "cell_type": "code",
   "execution_count": 26,
   "id": "33f15cdd",
   "metadata": {},
   "outputs": [],
   "source": [
    "def funcSum1(y) :\n",
    "    global xx\n",
    "    return xx+y"
   ]
  },
  {
   "cell_type": "code",
   "execution_count": 27,
   "id": "348b0906",
   "metadata": {},
   "outputs": [
    {
     "data": {
      "text/plain": [
       "200"
      ]
     },
     "execution_count": 27,
     "metadata": {},
     "output_type": "execute_result"
    }
   ],
   "source": [
    "funcSum1(100)"
   ]
  },
  {
   "cell_type": "code",
   "execution_count": null,
   "id": "8275291d",
   "metadata": {},
   "outputs": [],
   "source": []
  }
 ],
 "metadata": {
  "kernelspec": {
   "display_name": "Python 3 (ipykernel)",
   "language": "python",
   "name": "python3"
  },
  "language_info": {
   "codemirror_mode": {
    "name": "ipython",
    "version": 3
   },
   "file_extension": ".py",
   "mimetype": "text/x-python",
   "name": "python",
   "nbconvert_exporter": "python",
   "pygments_lexer": "ipython3",
   "version": "3.9.13"
  }
 },
 "nbformat": 4,
 "nbformat_minor": 5
}
