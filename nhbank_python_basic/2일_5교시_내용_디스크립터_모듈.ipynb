{
 "cells": [
  {
   "cell_type": "markdown",
   "id": "3aad07a9",
   "metadata": {},
   "source": [
    "# 1. 디스크립터 "
   ]
  },
  {
   "cell_type": "markdown",
   "id": "e2de64ab",
   "metadata": {},
   "source": [
    "## 1-1 프로퍼티 디스크립터 "
   ]
  },
  {
   "cell_type": "code",
   "execution_count": 1,
   "id": "7095d6b0",
   "metadata": {},
   "outputs": [],
   "source": [
    "class Klass :\n",
    "    def __init__(self, name) :\n",
    "        self._name = name\n",
    "        \n",
    "    @property    \n",
    "    def Name(self) :\n",
    "        return self._name\n",
    "    \n",
    "    @Name.setter\n",
    "    def Name(self, value) :\n",
    "        self._name = value\n",
    "        "
   ]
  },
  {
   "cell_type": "code",
   "execution_count": 2,
   "id": "d0a4b826",
   "metadata": {},
   "outputs": [],
   "source": [
    "k = Klass(\"이름\")"
   ]
  },
  {
   "cell_type": "code",
   "execution_count": 3,
   "id": "271a5878",
   "metadata": {},
   "outputs": [
    {
     "data": {
      "text/plain": [
       "{'_name': '이름'}"
      ]
     },
     "execution_count": 3,
     "metadata": {},
     "output_type": "execute_result"
    }
   ],
   "source": [
    "k.__dict__"
   ]
  },
  {
   "cell_type": "code",
   "execution_count": 4,
   "id": "afaed703",
   "metadata": {},
   "outputs": [
    {
     "data": {
      "text/plain": [
       "('이름', '이름')"
      ]
     },
     "execution_count": 4,
     "metadata": {},
     "output_type": "execute_result"
    }
   ],
   "source": [
    "k.Name, k._name"
   ]
  },
  {
   "cell_type": "markdown",
   "id": "0ef5ea6f",
   "metadata": {},
   "source": [
    "## 점연산자 대신 내장함수 사용하기"
   ]
  },
  {
   "cell_type": "code",
   "execution_count": 5,
   "id": "2d3e4955",
   "metadata": {},
   "outputs": [
    {
     "data": {
      "text/plain": [
       "'이름'"
      ]
     },
     "execution_count": 5,
     "metadata": {},
     "output_type": "execute_result"
    }
   ],
   "source": [
    "getattr(k,'_name')"
   ]
  },
  {
   "cell_type": "code",
   "execution_count": 6,
   "id": "e96881ad",
   "metadata": {},
   "outputs": [],
   "source": [
    "setattr(k,'_name', \"농협\")"
   ]
  },
  {
   "cell_type": "code",
   "execution_count": 7,
   "id": "6e54f6e0",
   "metadata": {},
   "outputs": [
    {
     "data": {
      "text/plain": [
       "{'_name': '농협'}"
      ]
     },
     "execution_count": 7,
     "metadata": {},
     "output_type": "execute_result"
    }
   ],
   "source": [
    "k.__dict__"
   ]
  },
  {
   "cell_type": "code",
   "execution_count": null,
   "id": "130827e3",
   "metadata": {},
   "outputs": [],
   "source": []
  },
  {
   "cell_type": "markdown",
   "id": "a939b694",
   "metadata": {},
   "source": [
    "## 1-2  디스클립터 클래스로 속성 처리하기"
   ]
  },
  {
   "cell_type": "markdown",
   "id": "d3d84997",
   "metadata": {},
   "source": [
    "## 디스크립터 클래스 정의 "
   ]
  },
  {
   "cell_type": "code",
   "execution_count": 8,
   "id": "6525e5ab",
   "metadata": {},
   "outputs": [],
   "source": [
    "class descriptor :\n",
    "    # 클래스 변수 이름을 가져와서 객체 속성으로 지정 \n",
    "    def __set_name__(self, owner, name):\n",
    "        self.public_name = name\n",
    "        self.private_name = '_' + name\n",
    "\n",
    "    # 게터 정의하기 \n",
    "    def __get__(self, obj, objtype=None):\n",
    "        return  getattr(obj, self.private_name)\n",
    "    \n",
    "    # 세터 정의하기 \n",
    "    def __set__(self, obj, value):\n",
    "        setattr(obj, self.private_name, value)\n"
   ]
  },
  {
   "cell_type": "markdown",
   "id": "fa0e3871",
   "metadata": {},
   "source": [
    "## 실제 클래스 정의 \n",
    "\n",
    "- 디스크립터 객체를 클래스 속성으로 지정하기 "
   ]
  },
  {
   "cell_type": "code",
   "execution_count": 9,
   "id": "3b701992",
   "metadata": {},
   "outputs": [],
   "source": [
    "class Person:\n",
    "    name = descriptor()\n",
    "    age = descriptor()                  # Descriptor instance\n",
    "\n",
    "    def __init__(self, name, age):\n",
    "        self.name = name                # 속성 갱신 \n",
    "        self.age = age                  # 디스크립터  __set__()\n",
    "\n",
    "    def birthday(self):\n",
    "        self.age += 1                   # Calls both __get__() and __set__()"
   ]
  },
  {
   "cell_type": "code",
   "execution_count": 10,
   "id": "a5834714",
   "metadata": {},
   "outputs": [],
   "source": [
    "p = Person(\"이름\", 44)"
   ]
  },
  {
   "cell_type": "code",
   "execution_count": 11,
   "id": "20a60933",
   "metadata": {},
   "outputs": [
    {
     "data": {
      "text/plain": [
       "{'_name': '이름', '_age': 44}"
      ]
     },
     "execution_count": 11,
     "metadata": {},
     "output_type": "execute_result"
    }
   ],
   "source": [
    "p.__dict__"
   ]
  },
  {
   "cell_type": "code",
   "execution_count": 12,
   "id": "7d4afd8b",
   "metadata": {},
   "outputs": [],
   "source": [
    "p.birthday()"
   ]
  },
  {
   "cell_type": "code",
   "execution_count": 13,
   "id": "5c15100c",
   "metadata": {},
   "outputs": [
    {
     "data": {
      "text/plain": [
       "'이름'"
      ]
     },
     "execution_count": 13,
     "metadata": {},
     "output_type": "execute_result"
    }
   ],
   "source": [
    "p.name"
   ]
  },
  {
   "cell_type": "code",
   "execution_count": 14,
   "id": "11aff521",
   "metadata": {},
   "outputs": [
    {
     "data": {
      "text/plain": [
       "45"
      ]
     },
     "execution_count": 14,
     "metadata": {},
     "output_type": "execute_result"
    }
   ],
   "source": [
    "p.age"
   ]
  },
  {
   "cell_type": "markdown",
   "id": "ee0e5de2",
   "metadata": {},
   "source": [
    "## 1-3 디스크립터 속성을 상요해서 상속하기"
   ]
  },
  {
   "cell_type": "code",
   "execution_count": 15,
   "id": "88d60191",
   "metadata": {},
   "outputs": [],
   "source": [
    "class User(Person) :\n",
    "    job = descriptor()\n",
    "    def __init__(self, name,age,job) :\n",
    "        super().__init__(name,age)\n",
    "        self.job = job"
   ]
  },
  {
   "cell_type": "code",
   "execution_count": 16,
   "id": "be79fd73",
   "metadata": {},
   "outputs": [],
   "source": [
    "u = User(\"사용자\", 30, \"은행원\")"
   ]
  },
  {
   "cell_type": "code",
   "execution_count": 17,
   "id": "a9339a1d",
   "metadata": {},
   "outputs": [
    {
     "data": {
      "text/plain": [
       "{'_name': '사용자', '_age': 30, '_job': '은행원'}"
      ]
     },
     "execution_count": 17,
     "metadata": {},
     "output_type": "execute_result"
    }
   ],
   "source": [
    "u.__dict__"
   ]
  },
  {
   "cell_type": "code",
   "execution_count": null,
   "id": "cc506955",
   "metadata": {},
   "outputs": [],
   "source": []
  },
  {
   "cell_type": "markdown",
   "id": "166b9f39",
   "metadata": {},
   "source": [
    "# 2. 모듈 작성하기 "
   ]
  },
  {
   "cell_type": "markdown",
   "id": "5a85f714",
   "metadata": {},
   "source": [
    "## 2-1 모듈 정의하기"
   ]
  },
  {
   "cell_type": "code",
   "execution_count": 18,
   "id": "631af3ca",
   "metadata": {},
   "outputs": [
    {
     "name": "stdout",
     "output_type": "stream",
     "text": [
      "Overwriting add.py\n"
     ]
    }
   ],
   "source": [
    "%%writefile add.py\n",
    "\n",
    "def add(x,y) :\n",
    "    return x+y"
   ]
  },
  {
   "cell_type": "code",
   "execution_count": 19,
   "id": "c818fbda",
   "metadata": {},
   "outputs": [],
   "source": [
    "import add"
   ]
  },
  {
   "cell_type": "code",
   "execution_count": 20,
   "id": "a064d7a0",
   "metadata": {},
   "outputs": [
    {
     "data": {
      "text/plain": [
       "300"
      ]
     },
     "execution_count": 20,
     "metadata": {},
     "output_type": "execute_result"
    }
   ],
   "source": [
    "add.add(100,200)"
   ]
  },
  {
   "cell_type": "code",
   "execution_count": null,
   "id": "b6da8021",
   "metadata": {},
   "outputs": [],
   "source": []
  },
  {
   "cell_type": "markdown",
   "id": "b59c1f61",
   "metadata": {},
   "source": [
    "## 2-2 모듈 소스 로딩하기"
   ]
  },
  {
   "cell_type": "code",
   "execution_count": null,
   "id": "86a9ef9d",
   "metadata": {},
   "outputs": [],
   "source": [
    "# %load add.py\n",
    "\n",
    "def add(x,y) :\n",
    "    return x+y\n"
   ]
  },
  {
   "cell_type": "code",
   "execution_count": null,
   "id": "8e1b18a1",
   "metadata": {},
   "outputs": [],
   "source": []
  }
 ],
 "metadata": {
  "kernelspec": {
   "display_name": "Python 3 (ipykernel)",
   "language": "python",
   "name": "python3"
  },
  "language_info": {
   "codemirror_mode": {
    "name": "ipython",
    "version": 3
   },
   "file_extension": ".py",
   "mimetype": "text/x-python",
   "name": "python",
   "nbconvert_exporter": "python",
   "pygments_lexer": "ipython3",
   "version": "3.9.15"
  }
 },
 "nbformat": 4,
 "nbformat_minor": 5
}
