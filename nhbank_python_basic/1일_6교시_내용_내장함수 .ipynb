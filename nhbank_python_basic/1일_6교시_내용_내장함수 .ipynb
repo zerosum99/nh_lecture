{
 "cells": [
  {
   "cell_type": "code",
   "execution_count": null,
   "id": "18a03953",
   "metadata": {},
   "outputs": [],
   "source": []
  },
  {
   "cell_type": "markdown",
   "id": "ce35cec6",
   "metadata": {},
   "source": [
    "# 1. 내장함수\n",
    "\n",
    "- 기본적으로 프로그램 언어에서 제공하는 함수"
   ]
  },
  {
   "cell_type": "markdown",
   "id": "0d5d3108",
   "metadata": {},
   "source": [
    "## 1-1 논리식과 주소처리"
   ]
  },
  {
   "cell_type": "markdown",
   "id": "c90a9e5e",
   "metadata": {},
   "source": [
    "## 조건 판단하기"
   ]
  },
  {
   "cell_type": "code",
   "execution_count": 1,
   "id": "7bc68c60",
   "metadata": {},
   "outputs": [
    {
     "data": {
      "text/plain": [
       "(False, True)"
      ]
     },
     "execution_count": 1,
     "metadata": {},
     "output_type": "execute_result"
    }
   ],
   "source": [
    "all([True, False]), any([True, False])"
   ]
  },
  {
   "cell_type": "markdown",
   "id": "518c766b",
   "metadata": {},
   "source": [
    "## 호출가능 객체 확인 "
   ]
  },
  {
   "cell_type": "code",
   "execution_count": 2,
   "id": "4011cc8c",
   "metadata": {},
   "outputs": [],
   "source": [
    "def add(x,y) :\n",
    "    return x+y"
   ]
  },
  {
   "cell_type": "code",
   "execution_count": 3,
   "id": "68a53d15",
   "metadata": {},
   "outputs": [
    {
     "data": {
      "text/plain": [
       "True"
      ]
     },
     "execution_count": 3,
     "metadata": {},
     "output_type": "execute_result"
    }
   ],
   "source": [
    "callable(add)"
   ]
  },
  {
   "cell_type": "markdown",
   "id": "ea50a5fc",
   "metadata": {},
   "source": [
    "## 객체  레퍼런스를 정수 및 해시값으로 보기"
   ]
  },
  {
   "cell_type": "code",
   "execution_count": 4,
   "id": "74346a4d",
   "metadata": {},
   "outputs": [],
   "source": [
    "class A :\n",
    "    pass"
   ]
  },
  {
   "cell_type": "code",
   "execution_count": 5,
   "id": "55b3f8f3",
   "metadata": {},
   "outputs": [
    {
     "data": {
      "text/plain": [
       "4399409280"
      ]
     },
     "execution_count": 5,
     "metadata": {},
     "output_type": "execute_result"
    }
   ],
   "source": [
    "id(A())"
   ]
  },
  {
   "cell_type": "code",
   "execution_count": 6,
   "id": "089a5449",
   "metadata": {},
   "outputs": [
    {
     "data": {
      "text/plain": [
       "274962966"
      ]
     },
     "execution_count": 6,
     "metadata": {},
     "output_type": "execute_result"
    }
   ],
   "source": [
    "hash(A())"
   ]
  },
  {
   "cell_type": "markdown",
   "id": "6d9a04b5",
   "metadata": {},
   "source": [
    "## 1-2 표현식을 계산하는 함수"
   ]
  },
  {
   "cell_type": "markdown",
   "id": "8b05e95f",
   "metadata": {},
   "source": [
    "## 절대값 처리"
   ]
  },
  {
   "cell_type": "code",
   "execution_count": 7,
   "id": "9e7c7bcf",
   "metadata": {},
   "outputs": [
    {
     "data": {
      "text/plain": [
       "100"
      ]
     },
     "execution_count": 7,
     "metadata": {},
     "output_type": "execute_result"
    }
   ],
   "source": [
    "abs(-100)"
   ]
  },
  {
   "cell_type": "markdown",
   "id": "250ff91b",
   "metadata": {},
   "source": [
    "## 몫과 나머지 구하기"
   ]
  },
  {
   "cell_type": "code",
   "execution_count": 8,
   "id": "ea7e10fa",
   "metadata": {},
   "outputs": [
    {
     "data": {
      "text/plain": [
       "(3, 1)"
      ]
     },
     "execution_count": 8,
     "metadata": {},
     "output_type": "execute_result"
    }
   ],
   "source": [
    "divmod(10,3)"
   ]
  },
  {
   "cell_type": "markdown",
   "id": "9cabac04",
   "metadata": {},
   "source": [
    "## 최대값과 최소갑 "
   ]
  },
  {
   "cell_type": "code",
   "execution_count": 9,
   "id": "6460d441",
   "metadata": {},
   "outputs": [
    {
     "name": "stdout",
     "output_type": "stream",
     "text": [
      "최대값 4\n",
      "최소값 1\n"
     ]
    }
   ],
   "source": [
    "ll = [1,2,3,4]\n",
    "print(\"최대값\",max(ll))\n",
    "print(\"최소값\",min(ll))"
   ]
  },
  {
   "cell_type": "markdown",
   "id": "6221fa54",
   "metadata": {},
   "source": [
    "## 버림 및 제곱 구하기"
   ]
  },
  {
   "cell_type": "code",
   "execution_count": 10,
   "id": "0a8bf0f5",
   "metadata": {},
   "outputs": [
    {
     "data": {
      "text/plain": [
       "100.34"
      ]
     },
     "execution_count": 10,
     "metadata": {},
     "output_type": "execute_result"
    }
   ],
   "source": [
    "round(100.337,2)"
   ]
  },
  {
   "cell_type": "code",
   "execution_count": 11,
   "id": "452246a9",
   "metadata": {},
   "outputs": [
    {
     "data": {
      "text/plain": [
       "(100, 100)"
      ]
     },
     "execution_count": 11,
     "metadata": {},
     "output_type": "execute_result"
    }
   ],
   "source": [
    "pow(10,2), 10*10"
   ]
  },
  {
   "cell_type": "markdown",
   "id": "d8f75559",
   "metadata": {},
   "source": [
    "## 문자열 표현식을 값으로 변환하기 "
   ]
  },
  {
   "cell_type": "code",
   "execution_count": 12,
   "id": "5c9fc50f",
   "metadata": {},
   "outputs": [
    {
     "data": {
      "text/plain": [
       "200"
      ]
     },
     "execution_count": 12,
     "metadata": {},
     "output_type": "execute_result"
    }
   ],
   "source": [
    "eval(\"100 + 100\")"
   ]
  },
  {
   "cell_type": "markdown",
   "id": "e13f28e0",
   "metadata": {},
   "source": [
    "## 1-3  특정 문자값 확인 "
   ]
  },
  {
   "cell_type": "code",
   "execution_count": 13,
   "id": "2d75cea8",
   "metadata": {},
   "outputs": [],
   "source": [
    "va = ord(\"a\")"
   ]
  },
  {
   "cell_type": "code",
   "execution_count": 14,
   "id": "c560cf00",
   "metadata": {},
   "outputs": [
    {
     "data": {
      "text/plain": [
       "'a'"
      ]
     },
     "execution_count": 14,
     "metadata": {},
     "output_type": "execute_result"
    }
   ],
   "source": [
    "chr(va)"
   ]
  },
  {
   "cell_type": "markdown",
   "id": "8009ccf7",
   "metadata": {},
   "source": [
    "## 1-4 진법 표시 확인 "
   ]
  },
  {
   "cell_type": "code",
   "execution_count": 15,
   "id": "85ac4243",
   "metadata": {},
   "outputs": [
    {
     "data": {
      "text/plain": [
       "'0b1100100'"
      ]
     },
     "execution_count": 15,
     "metadata": {},
     "output_type": "execute_result"
    }
   ],
   "source": [
    "bin(100)           # 2진수 "
   ]
  },
  {
   "cell_type": "code",
   "execution_count": 16,
   "id": "923f5a35",
   "metadata": {},
   "outputs": [
    {
     "data": {
      "text/plain": [
       "'0o144'"
      ]
     },
     "execution_count": 16,
     "metadata": {},
     "output_type": "execute_result"
    }
   ],
   "source": [
    "oct(100)           # 8진수 "
   ]
  },
  {
   "cell_type": "code",
   "execution_count": 17,
   "id": "0dffa77d",
   "metadata": {},
   "outputs": [
    {
     "data": {
      "text/plain": [
       "'0x64'"
      ]
     },
     "execution_count": 17,
     "metadata": {},
     "output_type": "execute_result"
    }
   ],
   "source": [
    "hex(100)           # 16진수"
   ]
  },
  {
   "cell_type": "markdown",
   "id": "2577dd6f",
   "metadata": {},
   "source": [
    "# 2. operator 모듈\n",
    "\n",
    "- 다양한 연산자를 함수로 제공"
   ]
  },
  {
   "cell_type": "markdown",
   "id": "653cf57b",
   "metadata": {},
   "source": [
    "## 오퍼레이터 모듈 확인하기 "
   ]
  },
  {
   "cell_type": "code",
   "execution_count": 18,
   "id": "49c3ae12",
   "metadata": {},
   "outputs": [],
   "source": [
    "import operator as op"
   ]
  },
  {
   "cell_type": "code",
   "execution_count": 19,
   "id": "bd929413",
   "metadata": {},
   "outputs": [
    {
     "name": "stdout",
     "output_type": "stream",
     "text": [
      "__abs__, __add__, __all__, __and__, __builtins__, __cached__, __concat__, __contains__, __delitem__, __doc__, __eq__, __file__, __floordiv__, __ge__, __getitem__, __gt__, __iadd__, __iand__, __iconcat__, __ifloordiv__, __ilshift__, __imatmul__, __imod__, __imul__, __index__, __inv__, __invert__, __ior__, __ipow__, __irshift__, __isub__, __itruediv__, __ixor__, __le__, __loader__, __lshift__, __lt__, __matmul__, __mod__, __mul__, __name__, __ne__, __neg__, __not__, __or__, __package__, __pos__, __pow__, __rshift__, __setitem__, __spec__, __sub__, __truediv__, __xor__, _abs, abs, add, and_, attrgetter, concat, contains, countOf, delitem, eq, floordiv, ge, getitem, gt, iadd, iand, iconcat, ifloordiv, ilshift, imatmul, imod, imul, index, indexOf, inv, invert, ior, ipow, irshift, is_, is_not, isub, itemgetter, itruediv, ixor, le, length_hint, lshift, lt, matmul, methodcaller, mod, mul, ne, neg, not_, or_, pos, pow, rshift, setitem, sub, truediv, truth, xor, "
     ]
    }
   ],
   "source": [
    "for i in dir(op) :\n",
    "    print(i, end=\", \")"
   ]
  },
  {
   "cell_type": "markdown",
   "id": "3672f32a",
   "metadata": {},
   "source": [
    "##  2-1 사칙연산자 처리 "
   ]
  },
  {
   "cell_type": "markdown",
   "id": "d85be62e",
   "metadata": {},
   "source": [
    "## 연산자 사용하기"
   ]
  },
  {
   "cell_type": "code",
   "execution_count": 20,
   "id": "e7ed46ed",
   "metadata": {},
   "outputs": [
    {
     "data": {
      "text/plain": [
       "(200, 20, 100, 10.0, 6)"
      ]
     },
     "execution_count": 20,
     "metadata": {},
     "output_type": "execute_result"
    }
   ],
   "source": [
    "100 + 100, 100 - 80, 10*10, 20 / 2, 20 //3 "
   ]
  },
  {
   "cell_type": "markdown",
   "id": "520aca98",
   "metadata": {},
   "source": [
    "## 함수와 메서드 사용하기 "
   ]
  },
  {
   "cell_type": "code",
   "execution_count": 21,
   "id": "739052be",
   "metadata": {},
   "outputs": [
    {
     "data": {
      "text/plain": [
       "(300, 200)"
      ]
     },
     "execution_count": 21,
     "metadata": {},
     "output_type": "execute_result"
    }
   ],
   "source": [
    "op.add(100,200), (100).__add__(100)"
   ]
  },
  {
   "cell_type": "code",
   "execution_count": 22,
   "id": "71cfd361",
   "metadata": {},
   "outputs": [
    {
     "data": {
      "text/plain": [
       "(-100, -100)"
      ]
     },
     "execution_count": 22,
     "metadata": {},
     "output_type": "execute_result"
    }
   ],
   "source": [
    "op.sub(100,200), (100).__sub__(200)"
   ]
  },
  {
   "cell_type": "code",
   "execution_count": 23,
   "id": "399495f5",
   "metadata": {},
   "outputs": [
    {
     "data": {
      "text/plain": [
       "(100, 100)"
      ]
     },
     "execution_count": 23,
     "metadata": {},
     "output_type": "execute_result"
    }
   ],
   "source": [
    "op.mul(10,10), (10).__mul__(10)"
   ]
  },
  {
   "cell_type": "code",
   "execution_count": 24,
   "id": "bcb04bab",
   "metadata": {},
   "outputs": [
    {
     "data": {
      "text/plain": [
       "(10.0, 10.0)"
      ]
     },
     "execution_count": 24,
     "metadata": {},
     "output_type": "execute_result"
    }
   ],
   "source": [
    "op.truediv(20,2), (20).__truediv__(2)"
   ]
  },
  {
   "cell_type": "code",
   "execution_count": 25,
   "id": "e3ee7ce7",
   "metadata": {},
   "outputs": [
    {
     "data": {
      "text/plain": [
       "(6, 6)"
      ]
     },
     "execution_count": 25,
     "metadata": {},
     "output_type": "execute_result"
    }
   ],
   "source": [
    "op.floordiv(20,3), (20).__floordiv__(3)"
   ]
  },
  {
   "cell_type": "code",
   "execution_count": 26,
   "id": "c2078091",
   "metadata": {},
   "outputs": [
    {
     "data": {
      "text/plain": [
       "(2, 2)"
      ]
     },
     "execution_count": 26,
     "metadata": {},
     "output_type": "execute_result"
    }
   ],
   "source": [
    "op.mod(20,3), (20).__mod__(3)"
   ]
  },
  {
   "cell_type": "code",
   "execution_count": null,
   "id": "c1005b93",
   "metadata": {},
   "outputs": [],
   "source": []
  }
 ],
 "metadata": {
  "kernelspec": {
   "display_name": "Python 3 (ipykernel)",
   "language": "python",
   "name": "python3"
  },
  "language_info": {
   "codemirror_mode": {
    "name": "ipython",
    "version": 3
   },
   "file_extension": ".py",
   "mimetype": "text/x-python",
   "name": "python",
   "nbconvert_exporter": "python",
   "pygments_lexer": "ipython3",
   "version": "3.9.13"
  }
 },
 "nbformat": 4,
 "nbformat_minor": 5
}
