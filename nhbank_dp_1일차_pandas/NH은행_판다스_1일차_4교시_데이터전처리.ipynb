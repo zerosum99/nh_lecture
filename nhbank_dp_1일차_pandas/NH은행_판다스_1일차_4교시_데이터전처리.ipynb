{
 "cells": [
  {
   "cell_type": "code",
   "execution_count": null,
   "id": "36135047",
   "metadata": {},
   "outputs": [],
   "source": []
  },
  {
   "cell_type": "markdown",
   "id": "4eac8389",
   "metadata": {},
   "source": [
    "# 3. 판다스 데이터 전처리 "
   ]
  },
  {
   "cell_type": "markdown",
   "id": "7e43938e",
   "metadata": {},
   "source": [
    "## 3-1  데이터 확인하기 "
   ]
  },
  {
   "cell_type": "markdown",
   "id": "cf53ba19",
   "metadata": {},
   "source": [
    "### 모듈 사용하기 "
   ]
  },
  {
   "cell_type": "code",
   "execution_count": 1,
   "id": "ffee85f9",
   "metadata": {},
   "outputs": [],
   "source": [
    "import pandas as pd"
   ]
  },
  {
   "cell_type": "code",
   "execution_count": 2,
   "id": "ff99e4b1",
   "metadata": {},
   "outputs": [],
   "source": [
    "import numpy as np"
   ]
  },
  {
   "cell_type": "markdown",
   "id": "ba2e7a09",
   "metadata": {},
   "source": [
    "### 파일 읽어오기 "
   ]
  },
  {
   "cell_type": "code",
   "execution_count": 3,
   "id": "d2b8b2f0",
   "metadata": {},
   "outputs": [],
   "source": [
    "df = pd.read_csv(\"./data/train.csv\")"
   ]
  },
  {
   "cell_type": "code",
   "execution_count": 4,
   "id": "400d8775",
   "metadata": {},
   "outputs": [
    {
     "data": {
      "text/plain": [
       "(1460, 81)"
      ]
     },
     "execution_count": 4,
     "metadata": {},
     "output_type": "execute_result"
    }
   ],
   "source": [
    "df.shape"
   ]
  },
  {
   "cell_type": "code",
   "execution_count": 5,
   "id": "77e39dbc",
   "metadata": {},
   "outputs": [
    {
     "data": {
      "text/html": [
       "<div>\n",
       "<style scoped>\n",
       "    .dataframe tbody tr th:only-of-type {\n",
       "        vertical-align: middle;\n",
       "    }\n",
       "\n",
       "    .dataframe tbody tr th {\n",
       "        vertical-align: top;\n",
       "    }\n",
       "\n",
       "    .dataframe thead th {\n",
       "        text-align: right;\n",
       "    }\n",
       "</style>\n",
       "<table border=\"1\" class=\"dataframe\">\n",
       "  <thead>\n",
       "    <tr style=\"text-align: right;\">\n",
       "      <th></th>\n",
       "      <th>Id</th>\n",
       "      <th>MSSubClass</th>\n",
       "      <th>MSZoning</th>\n",
       "      <th>LotFrontage</th>\n",
       "      <th>LotArea</th>\n",
       "      <th>Street</th>\n",
       "      <th>Alley</th>\n",
       "      <th>LotShape</th>\n",
       "      <th>LandContour</th>\n",
       "      <th>Utilities</th>\n",
       "      <th>...</th>\n",
       "      <th>PoolArea</th>\n",
       "      <th>PoolQC</th>\n",
       "      <th>Fence</th>\n",
       "      <th>MiscFeature</th>\n",
       "      <th>MiscVal</th>\n",
       "      <th>MoSold</th>\n",
       "      <th>YrSold</th>\n",
       "      <th>SaleType</th>\n",
       "      <th>SaleCondition</th>\n",
       "      <th>SalePrice</th>\n",
       "    </tr>\n",
       "  </thead>\n",
       "  <tbody>\n",
       "    <tr>\n",
       "      <th>0</th>\n",
       "      <td>1</td>\n",
       "      <td>60</td>\n",
       "      <td>RL</td>\n",
       "      <td>65.0</td>\n",
       "      <td>8450</td>\n",
       "      <td>Pave</td>\n",
       "      <td>NaN</td>\n",
       "      <td>Reg</td>\n",
       "      <td>Lvl</td>\n",
       "      <td>AllPub</td>\n",
       "      <td>...</td>\n",
       "      <td>0</td>\n",
       "      <td>NaN</td>\n",
       "      <td>NaN</td>\n",
       "      <td>NaN</td>\n",
       "      <td>0</td>\n",
       "      <td>2</td>\n",
       "      <td>2008</td>\n",
       "      <td>WD</td>\n",
       "      <td>Normal</td>\n",
       "      <td>208500</td>\n",
       "    </tr>\n",
       "    <tr>\n",
       "      <th>1</th>\n",
       "      <td>2</td>\n",
       "      <td>20</td>\n",
       "      <td>RL</td>\n",
       "      <td>80.0</td>\n",
       "      <td>9600</td>\n",
       "      <td>Pave</td>\n",
       "      <td>NaN</td>\n",
       "      <td>Reg</td>\n",
       "      <td>Lvl</td>\n",
       "      <td>AllPub</td>\n",
       "      <td>...</td>\n",
       "      <td>0</td>\n",
       "      <td>NaN</td>\n",
       "      <td>NaN</td>\n",
       "      <td>NaN</td>\n",
       "      <td>0</td>\n",
       "      <td>5</td>\n",
       "      <td>2007</td>\n",
       "      <td>WD</td>\n",
       "      <td>Normal</td>\n",
       "      <td>181500</td>\n",
       "    </tr>\n",
       "    <tr>\n",
       "      <th>2</th>\n",
       "      <td>3</td>\n",
       "      <td>60</td>\n",
       "      <td>RL</td>\n",
       "      <td>68.0</td>\n",
       "      <td>11250</td>\n",
       "      <td>Pave</td>\n",
       "      <td>NaN</td>\n",
       "      <td>IR1</td>\n",
       "      <td>Lvl</td>\n",
       "      <td>AllPub</td>\n",
       "      <td>...</td>\n",
       "      <td>0</td>\n",
       "      <td>NaN</td>\n",
       "      <td>NaN</td>\n",
       "      <td>NaN</td>\n",
       "      <td>0</td>\n",
       "      <td>9</td>\n",
       "      <td>2008</td>\n",
       "      <td>WD</td>\n",
       "      <td>Normal</td>\n",
       "      <td>223500</td>\n",
       "    </tr>\n",
       "    <tr>\n",
       "      <th>3</th>\n",
       "      <td>4</td>\n",
       "      <td>70</td>\n",
       "      <td>RL</td>\n",
       "      <td>60.0</td>\n",
       "      <td>9550</td>\n",
       "      <td>Pave</td>\n",
       "      <td>NaN</td>\n",
       "      <td>IR1</td>\n",
       "      <td>Lvl</td>\n",
       "      <td>AllPub</td>\n",
       "      <td>...</td>\n",
       "      <td>0</td>\n",
       "      <td>NaN</td>\n",
       "      <td>NaN</td>\n",
       "      <td>NaN</td>\n",
       "      <td>0</td>\n",
       "      <td>2</td>\n",
       "      <td>2006</td>\n",
       "      <td>WD</td>\n",
       "      <td>Abnorml</td>\n",
       "      <td>140000</td>\n",
       "    </tr>\n",
       "    <tr>\n",
       "      <th>4</th>\n",
       "      <td>5</td>\n",
       "      <td>60</td>\n",
       "      <td>RL</td>\n",
       "      <td>84.0</td>\n",
       "      <td>14260</td>\n",
       "      <td>Pave</td>\n",
       "      <td>NaN</td>\n",
       "      <td>IR1</td>\n",
       "      <td>Lvl</td>\n",
       "      <td>AllPub</td>\n",
       "      <td>...</td>\n",
       "      <td>0</td>\n",
       "      <td>NaN</td>\n",
       "      <td>NaN</td>\n",
       "      <td>NaN</td>\n",
       "      <td>0</td>\n",
       "      <td>12</td>\n",
       "      <td>2008</td>\n",
       "      <td>WD</td>\n",
       "      <td>Normal</td>\n",
       "      <td>250000</td>\n",
       "    </tr>\n",
       "  </tbody>\n",
       "</table>\n",
       "<p>5 rows × 81 columns</p>\n",
       "</div>"
      ],
      "text/plain": [
       "   Id  MSSubClass MSZoning  LotFrontage  LotArea Street Alley LotShape  \\\n",
       "0   1          60       RL         65.0     8450   Pave   NaN      Reg   \n",
       "1   2          20       RL         80.0     9600   Pave   NaN      Reg   \n",
       "2   3          60       RL         68.0    11250   Pave   NaN      IR1   \n",
       "3   4          70       RL         60.0     9550   Pave   NaN      IR1   \n",
       "4   5          60       RL         84.0    14260   Pave   NaN      IR1   \n",
       "\n",
       "  LandContour Utilities  ... PoolArea PoolQC Fence MiscFeature MiscVal MoSold  \\\n",
       "0         Lvl    AllPub  ...        0    NaN   NaN         NaN       0      2   \n",
       "1         Lvl    AllPub  ...        0    NaN   NaN         NaN       0      5   \n",
       "2         Lvl    AllPub  ...        0    NaN   NaN         NaN       0      9   \n",
       "3         Lvl    AllPub  ...        0    NaN   NaN         NaN       0      2   \n",
       "4         Lvl    AllPub  ...        0    NaN   NaN         NaN       0     12   \n",
       "\n",
       "  YrSold  SaleType  SaleCondition  SalePrice  \n",
       "0   2008        WD         Normal     208500  \n",
       "1   2007        WD         Normal     181500  \n",
       "2   2008        WD         Normal     223500  \n",
       "3   2006        WD        Abnorml     140000  \n",
       "4   2008        WD         Normal     250000  \n",
       "\n",
       "[5 rows x 81 columns]"
      ]
     },
     "execution_count": 5,
     "metadata": {},
     "output_type": "execute_result"
    }
   ],
   "source": [
    "df.head()"
   ]
  },
  {
   "cell_type": "code",
   "execution_count": 6,
   "id": "956c38ac",
   "metadata": {},
   "outputs": [
    {
     "data": {
      "text/plain": [
       "Index(['Id', 'MSSubClass', 'MSZoning', 'LotFrontage', 'LotArea', 'Street',\n",
       "       'Alley', 'LotShape', 'LandContour', 'Utilities', 'LotConfig',\n",
       "       'LandSlope', 'Neighborhood', 'Condition1', 'Condition2', 'BldgType',\n",
       "       'HouseStyle', 'OverallQual', 'OverallCond', 'YearBuilt', 'YearRemodAdd',\n",
       "       'RoofStyle', 'RoofMatl', 'Exterior1st', 'Exterior2nd', 'MasVnrType',\n",
       "       'MasVnrArea', 'ExterQual', 'ExterCond', 'Foundation', 'BsmtQual',\n",
       "       'BsmtCond', 'BsmtExposure', 'BsmtFinType1', 'BsmtFinSF1',\n",
       "       'BsmtFinType2', 'BsmtFinSF2', 'BsmtUnfSF', 'TotalBsmtSF', 'Heating',\n",
       "       'HeatingQC', 'CentralAir', 'Electrical', '1stFlrSF', '2ndFlrSF',\n",
       "       'LowQualFinSF', 'GrLivArea', 'BsmtFullBath', 'BsmtHalfBath', 'FullBath',\n",
       "       'HalfBath', 'BedroomAbvGr', 'KitchenAbvGr', 'KitchenQual',\n",
       "       'TotRmsAbvGrd', 'Functional', 'Fireplaces', 'FireplaceQu', 'GarageType',\n",
       "       'GarageYrBlt', 'GarageFinish', 'GarageCars', 'GarageArea', 'GarageQual',\n",
       "       'GarageCond', 'PavedDrive', 'WoodDeckSF', 'OpenPorchSF',\n",
       "       'EnclosedPorch', '3SsnPorch', 'ScreenPorch', 'PoolArea', 'PoolQC',\n",
       "       'Fence', 'MiscFeature', 'MiscVal', 'MoSold', 'YrSold', 'SaleType',\n",
       "       'SaleCondition', 'SalePrice'],\n",
       "      dtype='object')"
      ]
     },
     "execution_count": 6,
     "metadata": {},
     "output_type": "execute_result"
    }
   ],
   "source": [
    "df.columns"
   ]
  },
  {
   "cell_type": "code",
   "execution_count": 7,
   "id": "a96fbbd2",
   "metadata": {},
   "outputs": [],
   "source": [
    "# Importing libraries\n",
    "import matplotlib.pyplot as plt\n",
    "import seaborn as sns"
   ]
  },
  {
   "cell_type": "code",
   "execution_count": 8,
   "id": "40107862",
   "metadata": {},
   "outputs": [
    {
     "data": {
      "text/plain": [
       "(755000, 34900)"
      ]
     },
     "execution_count": 8,
     "metadata": {},
     "output_type": "execute_result"
    }
   ],
   "source": [
    "df['SalePrice'].max(), df['SalePrice'].min()"
   ]
  },
  {
   "cell_type": "code",
   "execution_count": null,
   "id": "e7d9f651",
   "metadata": {},
   "outputs": [],
   "source": []
  },
  {
   "cell_type": "code",
   "execution_count": 9,
   "id": "13dc1efe",
   "metadata": {},
   "outputs": [],
   "source": [
    "bins = pd.IntervalIndex.from_tuples([(0, 100000), (100001, 200000)\n",
    "                                     ,(200001, 300000),(300001,400000)\n",
    "                                     ,(400001,500000), (500001,600000)\n",
    "                                     ,(600001,700000), (700001,800000)])"
   ]
  },
  {
   "cell_type": "code",
   "execution_count": 10,
   "id": "95f6571d",
   "metadata": {},
   "outputs": [
    {
     "data": {
      "text/plain": [
       "IntervalIndex([(0, 100000], (100001, 200000], (200001, 300000], (300001, 400000], (400001, 500000], (500001, 600000], (600001, 700000], (700001, 800000]], dtype='interval[int64, right]')"
      ]
     },
     "execution_count": 10,
     "metadata": {},
     "output_type": "execute_result"
    }
   ],
   "source": [
    "pd.cut(df['SalePrice'],bins,labels=False, retbins=True, right=False)[1]"
   ]
  },
  {
   "cell_type": "code",
   "execution_count": 11,
   "id": "fd166c55",
   "metadata": {},
   "outputs": [
    {
     "data": {
      "text/plain": [
       "<seaborn.axisgrid.FacetGrid at 0x1377bfdd0>"
      ]
     },
     "execution_count": 11,
     "metadata": {},
     "output_type": "execute_result"
    },
    {
     "data": {
      "image/png": "[encoded data removed]",
      "text/plain": [
       "<Figure size 500x500 with 1 Axes>"
      ]
     },
     "metadata": {},
     "output_type": "display_data"
    }
   ],
   "source": [
    "sns.displot(df['SalePrice'], bins=8,color='r')"
   ]
  },
  {
   "cell_type": "code",
   "execution_count": null,
   "id": "eea89b01",
   "metadata": {},
   "outputs": [],
   "source": []
  },
  {
   "cell_type": "code",
   "execution_count": null,
   "id": "375f003d",
   "metadata": {},
   "outputs": [],
   "source": []
  },
  {
   "cell_type": "markdown",
   "id": "e89e6222",
   "metadata": {},
   "source": [
    "### 데이터 상태 확인하기 "
   ]
  },
  {
   "cell_type": "code",
   "execution_count": 12,
   "id": "57827c89",
   "metadata": {},
   "outputs": [
    {
     "name": "stdout",
     "output_type": "stream",
     "text": [
      "<class 'pandas.core.frame.DataFrame'>\n",
      "RangeIndex: 1460 entries, 0 to 1459\n",
      "Data columns (total 81 columns):\n",
      " #   Column         Non-Null Count  Dtype  \n",
      "---  ------         --------------  -----  \n",
      " 0   Id             1460 non-null   int64  \n",
      " 1   MSSubClass     1460 non-null   int64  \n",
      " 2   MSZoning       1460 non-null   object \n",
      " 3   LotFrontage    1201 non-null   float64\n",
      " 4   LotArea        1460 non-null   int64  \n",
      " 5   Street         1460 non-null   object \n",
      " 6   Alley          91 non-null     object \n",
      " 7   LotShape       1460 non-null   object \n",
      " 8   LandContour    1460 non-null   object \n",
      " 9   Utilities      1460 non-null   object \n",
      " 10  LotConfig      1460 non-null   object \n",
      " 11  LandSlope      1460 non-null   object \n",
      " 12  Neighborhood   1460 non-null   object \n",
      " 13  Condition1     1460 non-null   object \n",
      " 14  Condition2     1460 non-null   object \n",
      " 15  BldgType       1460 non-null   object \n",
      " 16  HouseStyle     1460 non-null   object \n",
      " 17  OverallQual    1460 non-null   int64  \n",
      " 18  OverallCond    1460 non-null   int64  \n",
      " 19  YearBuilt      1460 non-null   int64  \n",
      " 20  YearRemodAdd   1460 non-null   int64  \n",
      " 21  RoofStyle      1460 non-null   object \n",
      " 22  RoofMatl       1460 non-null   object \n",
      " 23  Exterior1st    1460 non-null   object \n",
      " 24  Exterior2nd    1460 non-null   object \n",
      " 25  MasVnrType     588 non-null    object \n",
      " 26  MasVnrArea     1452 non-null   float64\n",
      " 27  ExterQual      1460 non-null   object \n",
      " 28  ExterCond      1460 non-null   object \n",
      " 29  Foundation     1460 non-null   object \n",
      " 30  BsmtQual       1423 non-null   object \n",
      " 31  BsmtCond       1423 non-null   object \n",
      " 32  BsmtExposure   1422 non-null   object \n",
      " 33  BsmtFinType1   1423 non-null   object \n",
      " 34  BsmtFinSF1     1460 non-null   int64  \n",
      " 35  BsmtFinType2   1422 non-null   object \n",
      " 36  BsmtFinSF2     1460 non-null   int64  \n",
      " 37  BsmtUnfSF      1460 non-null   int64  \n",
      " 38  TotalBsmtSF    1460 non-null   int64  \n",
      " 39  Heating        1460 non-null   object \n",
      " 40  HeatingQC      1460 non-null   object \n",
      " 41  CentralAir     1460 non-null   object \n",
      " 42  Electrical     1459 non-null   object \n",
      " 43  1stFlrSF       1460 non-null   int64  \n",
      " 44  2ndFlrSF       1460 non-null   int64  \n",
      " 45  LowQualFinSF   1460 non-null   int64  \n",
      " 46  GrLivArea      1460 non-null   int64  \n",
      " 47  BsmtFullBath   1460 non-null   int64  \n",
      " 48  BsmtHalfBath   1460 non-null   int64  \n",
      " 49  FullBath       1460 non-null   int64  \n",
      " 50  HalfBath       1460 non-null   int64  \n",
      " 51  BedroomAbvGr   1460 non-null   int64  \n",
      " 52  KitchenAbvGr   1460 non-null   int64  \n",
      " 53  KitchenQual    1460 non-null   object \n",
      " 54  TotRmsAbvGrd   1460 non-null   int64  \n",
      " 55  Functional     1460 non-null   object \n",
      " 56  Fireplaces     1460 non-null   int64  \n",
      " 57  FireplaceQu    770 non-null    object \n",
      " 58  GarageType     1379 non-null   object \n",
      " 59  GarageYrBlt    1379 non-null   float64\n",
      " 60  GarageFinish   1379 non-null   object \n",
      " 61  GarageCars     1460 non-null   int64  \n",
      " 62  GarageArea     1460 non-null   int64  \n",
      " 63  GarageQual     1379 non-null   object \n",
      " 64  GarageCond     1379 non-null   object \n",
      " 65  PavedDrive     1460 non-null   object \n",
      " 66  WoodDeckSF     1460 non-null   int64  \n",
      " 67  OpenPorchSF    1460 non-null   int64  \n",
      " 68  EnclosedPorch  1460 non-null   int64  \n",
      " 69  3SsnPorch      1460 non-null   int64  \n",
      " 70  ScreenPorch    1460 non-null   int64  \n",
      " 71  PoolArea       1460 non-null   int64  \n",
      " 72  PoolQC         7 non-null      object \n",
      " 73  Fence          281 non-null    object \n",
      " 74  MiscFeature    54 non-null     object \n",
      " 75  MiscVal        1460 non-null   int64  \n",
      " 76  MoSold         1460 non-null   int64  \n",
      " 77  YrSold         1460 non-null   int64  \n",
      " 78  SaleType       1460 non-null   object \n",
      " 79  SaleCondition  1460 non-null   object \n",
      " 80  SalePrice      1460 non-null   int64  \n",
      "dtypes: float64(3), int64(35), object(43)\n",
      "memory usage: 924.0+ KB\n"
     ]
    }
   ],
   "source": [
    "df.info()"
   ]
  },
  {
   "cell_type": "markdown",
   "id": "92c1efd1",
   "metadata": {},
   "source": [
    "## 3-2  널값 처리 "
   ]
  },
  {
   "cell_type": "markdown",
   "id": "1058d4dd",
   "metadata": {},
   "source": [
    "### 널값을 확인하기 "
   ]
  },
  {
   "cell_type": "code",
   "execution_count": 13,
   "id": "06d5fc27",
   "metadata": {},
   "outputs": [
    {
     "data": {
      "text/plain": [
       "Id                 0\n",
       "MSSubClass         0\n",
       "MSZoning           0\n",
       "LotFrontage      259\n",
       "LotArea            0\n",
       "                ... \n",
       "MoSold             0\n",
       "YrSold             0\n",
       "SaleType           0\n",
       "SaleCondition      0\n",
       "SalePrice          0\n",
       "Length: 81, dtype: int64"
      ]
     },
     "execution_count": 13,
     "metadata": {},
     "output_type": "execute_result"
    }
   ],
   "source": [
    "df.isna().sum()"
   ]
  },
  {
   "cell_type": "markdown",
   "id": "ecd36165",
   "metadata": {},
   "source": [
    "### 널값이 있는 경우만 칼럼추출하기 "
   ]
  },
  {
   "cell_type": "code",
   "execution_count": 14,
   "id": "2b25cb5a",
   "metadata": {},
   "outputs": [],
   "source": [
    "df_col_null = df.columns[df.isna().sum() > 0 ]"
   ]
  },
  {
   "cell_type": "code",
   "execution_count": null,
   "id": "08142cb7",
   "metadata": {},
   "outputs": [],
   "source": []
  },
  {
   "cell_type": "code",
   "execution_count": 15,
   "id": "cfe106c6",
   "metadata": {},
   "outputs": [
    {
     "data": {
      "text/plain": [
       "Index(['LotFrontage', 'Alley', 'MasVnrType', 'MasVnrArea', 'BsmtQual',\n",
       "       'BsmtCond', 'BsmtExposure', 'BsmtFinType1', 'BsmtFinType2',\n",
       "       'Electrical', 'FireplaceQu', 'GarageType', 'GarageYrBlt',\n",
       "       'GarageFinish', 'GarageQual', 'GarageCond', 'PoolQC', 'Fence',\n",
       "       'MiscFeature'],\n",
       "      dtype='object')"
      ]
     },
     "execution_count": 15,
     "metadata": {},
     "output_type": "execute_result"
    }
   ],
   "source": [
    "df_col_null"
   ]
  },
  {
   "cell_type": "code",
   "execution_count": 16,
   "id": "9f74ad9b",
   "metadata": {},
   "outputs": [
    {
     "data": {
      "text/plain": [
       "LotFrontage      259\n",
       "Alley           1369\n",
       "MasVnrType       872\n",
       "MasVnrArea         8\n",
       "BsmtQual          37\n",
       "BsmtCond          37\n",
       "BsmtExposure      38\n",
       "BsmtFinType1      37\n",
       "BsmtFinType2      38\n",
       "Electrical         1\n",
       "FireplaceQu      690\n",
       "GarageType        81\n",
       "GarageYrBlt       81\n",
       "GarageFinish      81\n",
       "GarageQual        81\n",
       "GarageCond        81\n",
       "PoolQC          1453\n",
       "Fence           1179\n",
       "MiscFeature     1406\n",
       "dtype: int64"
      ]
     },
     "execution_count": 16,
     "metadata": {},
     "output_type": "execute_result"
    }
   ],
   "source": [
    "df[df_col_null].isna().sum()"
   ]
  },
  {
   "cell_type": "code",
   "execution_count": 17,
   "id": "b504daa1",
   "metadata": {},
   "outputs": [
    {
     "data": {
      "text/plain": [
       "LotFrontage     float64\n",
       "Alley            object\n",
       "MasVnrType       object\n",
       "MasVnrArea      float64\n",
       "BsmtQual         object\n",
       "BsmtCond         object\n",
       "BsmtExposure     object\n",
       "BsmtFinType1     object\n",
       "BsmtFinType2     object\n",
       "Electrical       object\n",
       "FireplaceQu      object\n",
       "GarageType       object\n",
       "GarageYrBlt     float64\n",
       "GarageFinish     object\n",
       "GarageQual       object\n",
       "GarageCond       object\n",
       "PoolQC           object\n",
       "Fence            object\n",
       "MiscFeature      object\n",
       "dtype: object"
      ]
     },
     "execution_count": 17,
     "metadata": {},
     "output_type": "execute_result"
    }
   ],
   "source": [
    "df[df_col_null].dtypes"
   ]
  },
  {
   "cell_type": "markdown",
   "id": "22633a74",
   "metadata": {},
   "source": [
    "## 3-2 문자열 자료 변형하기\n",
    "\n",
    "- 판다스는 칼럼으로 조회하면 .str 객체를 제공해서 문자열을 처리하는 다양한 메서드를 제공한다.\n"
   ]
  },
  {
   "cell_type": "markdown",
   "id": "3da3f39b",
   "metadata": {},
   "source": [
    "### 문자열 자료형 칼럼만 조회하기 "
   ]
  },
  {
   "cell_type": "code",
   "execution_count": 18,
   "id": "35ff9c2f",
   "metadata": {},
   "outputs": [],
   "source": [
    "df_str = df.select_dtypes(include='object')"
   ]
  },
  {
   "cell_type": "code",
   "execution_count": 19,
   "id": "bab74811",
   "metadata": {},
   "outputs": [
    {
     "data": {
      "text/plain": [
       "Index(['MSZoning', 'Street', 'Alley', 'LotShape', 'LandContour', 'Utilities',\n",
       "       'LotConfig', 'LandSlope', 'Neighborhood', 'Condition1', 'Condition2',\n",
       "       'BldgType', 'HouseStyle', 'RoofStyle', 'RoofMatl', 'Exterior1st',\n",
       "       'Exterior2nd', 'MasVnrType', 'ExterQual', 'ExterCond', 'Foundation',\n",
       "       'BsmtQual', 'BsmtCond', 'BsmtExposure', 'BsmtFinType1', 'BsmtFinType2',\n",
       "       'Heating', 'HeatingQC', 'CentralAir', 'Electrical', 'KitchenQual',\n",
       "       'Functional', 'FireplaceQu', 'GarageType', 'GarageFinish', 'GarageQual',\n",
       "       'GarageCond', 'PavedDrive', 'PoolQC', 'Fence', 'MiscFeature',\n",
       "       'SaleType', 'SaleCondition'],\n",
       "      dtype='object')"
      ]
     },
     "execution_count": 19,
     "metadata": {},
     "output_type": "execute_result"
    }
   ],
   "source": [
    "df_str.columns"
   ]
  },
  {
   "cell_type": "markdown",
   "id": "6cf0d16c",
   "metadata": {},
   "source": [
    "### 성별 구분 확인하기\n",
    "\n",
    "- 남성/여성이외의 값이 들어왔다. "
   ]
  },
  {
   "cell_type": "code",
   "execution_count": 20,
   "id": "ee881b69",
   "metadata": {},
   "outputs": [
    {
     "data": {
      "text/plain": [
       "Alley\n",
       "Grvl    50\n",
       "Pave    41\n",
       "Name: count, dtype: int64"
      ]
     },
     "execution_count": 20,
     "metadata": {},
     "output_type": "execute_result"
    }
   ],
   "source": [
    "df['Alley'].value_counts()"
   ]
  },
  {
   "cell_type": "code",
   "execution_count": 21,
   "id": "6947e764",
   "metadata": {},
   "outputs": [],
   "source": [
    "df['Alley'] = df['Alley'].fillna(\"NaN\")"
   ]
  },
  {
   "cell_type": "code",
   "execution_count": null,
   "id": "203ff983",
   "metadata": {},
   "outputs": [],
   "source": []
  },
  {
   "cell_type": "code",
   "execution_count": 22,
   "id": "d9325059",
   "metadata": {},
   "outputs": [],
   "source": [
    "ss = df['Alley'].replace('NaN', 'other' )"
   ]
  },
  {
   "cell_type": "code",
   "execution_count": 23,
   "id": "153519e2",
   "metadata": {},
   "outputs": [
    {
     "data": {
      "text/plain": [
       "Alley\n",
       "other    1369\n",
       "Grvl       50\n",
       "Pave       41\n",
       "Name: count, dtype: int64"
      ]
     },
     "execution_count": 23,
     "metadata": {},
     "output_type": "execute_result"
    }
   ],
   "source": [
    "ss.value_counts()"
   ]
  },
  {
   "cell_type": "code",
   "execution_count": null,
   "id": "d4b173c2",
   "metadata": {},
   "outputs": [],
   "source": []
  },
  {
   "cell_type": "markdown",
   "id": "fd5945ca",
   "metadata": {},
   "source": [
    "## 3-3 날짜 자료 변형하기 \n",
    "\n",
    "- 날짜를 처리할 수 있도록 .dt 객체를 제공한다 "
   ]
  },
  {
   "cell_type": "code",
   "execution_count": 24,
   "id": "33da5bf2",
   "metadata": {},
   "outputs": [],
   "source": [
    "import datetime"
   ]
  },
  {
   "cell_type": "markdown",
   "id": "67e747d0",
   "metadata": {},
   "source": [
    "### 날짜가 필요한 데이터를 읽기"
   ]
  },
  {
   "cell_type": "code",
   "execution_count": 25,
   "id": "ac93636b",
   "metadata": {},
   "outputs": [],
   "source": [
    "df.insert(loc=0, column='date', value=datetime.datetime.now())"
   ]
  },
  {
   "cell_type": "code",
   "execution_count": 26,
   "id": "5fd69505",
   "metadata": {},
   "outputs": [
    {
     "data": {
      "text/plain": [
       "0      2023-07-04 18:06:02.088084\n",
       "1      2023-07-04 18:06:02.088084\n",
       "2      2023-07-04 18:06:02.088084\n",
       "3      2023-07-04 18:06:02.088084\n",
       "4      2023-07-04 18:06:02.088084\n",
       "                  ...            \n",
       "1455   2023-07-04 18:06:02.088084\n",
       "1456   2023-07-04 18:06:02.088084\n",
       "1457   2023-07-04 18:06:02.088084\n",
       "1458   2023-07-04 18:06:02.088084\n",
       "1459   2023-07-04 18:06:02.088084\n",
       "Name: date, Length: 1460, dtype: datetime64[ns]"
      ]
     },
     "execution_count": 26,
     "metadata": {},
     "output_type": "execute_result"
    }
   ],
   "source": [
    "df['date']"
   ]
  },
  {
   "cell_type": "code",
   "execution_count": 27,
   "id": "0285a042",
   "metadata": {},
   "outputs": [],
   "source": [
    "df_day = df.copy()"
   ]
  },
  {
   "cell_type": "markdown",
   "id": "fa8154bd",
   "metadata": {},
   "source": [
    "### 데이터프레임 정보 확인하기 "
   ]
  },
  {
   "cell_type": "code",
   "execution_count": 28,
   "id": "80b64209",
   "metadata": {},
   "outputs": [
    {
     "name": "stdout",
     "output_type": "stream",
     "text": [
      "<class 'pandas.core.frame.DataFrame'>\n",
      "RangeIndex: 1460 entries, 0 to 1459\n",
      "Data columns (total 82 columns):\n",
      " #   Column         Non-Null Count  Dtype         \n",
      "---  ------         --------------  -----         \n",
      " 0   date           1460 non-null   datetime64[ns]\n",
      " 1   Id             1460 non-null   int64         \n",
      " 2   MSSubClass     1460 non-null   int64         \n",
      " 3   MSZoning       1460 non-null   object        \n",
      " 4   LotFrontage    1201 non-null   float64       \n",
      " 5   LotArea        1460 non-null   int64         \n",
      " 6   Street         1460 non-null   object        \n",
      " 7   Alley          1460 non-null   object        \n",
      " 8   LotShape       1460 non-null   object        \n",
      " 9   LandContour    1460 non-null   object        \n",
      " 10  Utilities      1460 non-null   object        \n",
      " 11  LotConfig      1460 non-null   object        \n",
      " 12  LandSlope      1460 non-null   object        \n",
      " 13  Neighborhood   1460 non-null   object        \n",
      " 14  Condition1     1460 non-null   object        \n",
      " 15  Condition2     1460 non-null   object        \n",
      " 16  BldgType       1460 non-null   object        \n",
      " 17  HouseStyle     1460 non-null   object        \n",
      " 18  OverallQual    1460 non-null   int64         \n",
      " 19  OverallCond    1460 non-null   int64         \n",
      " 20  YearBuilt      1460 non-null   int64         \n",
      " 21  YearRemodAdd   1460 non-null   int64         \n",
      " 22  RoofStyle      1460 non-null   object        \n",
      " 23  RoofMatl       1460 non-null   object        \n",
      " 24  Exterior1st    1460 non-null   object        \n",
      " 25  Exterior2nd    1460 non-null   object        \n",
      " 26  MasVnrType     588 non-null    object        \n",
      " 27  MasVnrArea     1452 non-null   float64       \n",
      " 28  ExterQual      1460 non-null   object        \n",
      " 29  ExterCond      1460 non-null   object        \n",
      " 30  Foundation     1460 non-null   object        \n",
      " 31  BsmtQual       1423 non-null   object        \n",
      " 32  BsmtCond       1423 non-null   object        \n",
      " 33  BsmtExposure   1422 non-null   object        \n",
      " 34  BsmtFinType1   1423 non-null   object        \n",
      " 35  BsmtFinSF1     1460 non-null   int64         \n",
      " 36  BsmtFinType2   1422 non-null   object        \n",
      " 37  BsmtFinSF2     1460 non-null   int64         \n",
      " 38  BsmtUnfSF      1460 non-null   int64         \n",
      " 39  TotalBsmtSF    1460 non-null   int64         \n",
      " 40  Heating        1460 non-null   object        \n",
      " 41  HeatingQC      1460 non-null   object        \n",
      " 42  CentralAir     1460 non-null   object        \n",
      " 43  Electrical     1459 non-null   object        \n",
      " 44  1stFlrSF       1460 non-null   int64         \n",
      " 45  2ndFlrSF       1460 non-null   int64         \n",
      " 46  LowQualFinSF   1460 non-null   int64         \n",
      " 47  GrLivArea      1460 non-null   int64         \n",
      " 48  BsmtFullBath   1460 non-null   int64         \n",
      " 49  BsmtHalfBath   1460 non-null   int64         \n",
      " 50  FullBath       1460 non-null   int64         \n",
      " 51  HalfBath       1460 non-null   int64         \n",
      " 52  BedroomAbvGr   1460 non-null   int64         \n",
      " 53  KitchenAbvGr   1460 non-null   int64         \n",
      " 54  KitchenQual    1460 non-null   object        \n",
      " 55  TotRmsAbvGrd   1460 non-null   int64         \n",
      " 56  Functional     1460 non-null   object        \n",
      " 57  Fireplaces     1460 non-null   int64         \n",
      " 58  FireplaceQu    770 non-null    object        \n",
      " 59  GarageType     1379 non-null   object        \n",
      " 60  GarageYrBlt    1379 non-null   float64       \n",
      " 61  GarageFinish   1379 non-null   object        \n",
      " 62  GarageCars     1460 non-null   int64         \n",
      " 63  GarageArea     1460 non-null   int64         \n",
      " 64  GarageQual     1379 non-null   object        \n",
      " 65  GarageCond     1379 non-null   object        \n",
      " 66  PavedDrive     1460 non-null   object        \n",
      " 67  WoodDeckSF     1460 non-null   int64         \n",
      " 68  OpenPorchSF    1460 non-null   int64         \n",
      " 69  EnclosedPorch  1460 non-null   int64         \n",
      " 70  3SsnPorch      1460 non-null   int64         \n",
      " 71  ScreenPorch    1460 non-null   int64         \n",
      " 72  PoolArea       1460 non-null   int64         \n",
      " 73  PoolQC         7 non-null      object        \n",
      " 74  Fence          281 non-null    object        \n",
      " 75  MiscFeature    54 non-null     object        \n",
      " 76  MiscVal        1460 non-null   int64         \n",
      " 77  MoSold         1460 non-null   int64         \n",
      " 78  YrSold         1460 non-null   int64         \n",
      " 79  SaleType       1460 non-null   object        \n",
      " 80  SaleCondition  1460 non-null   object        \n",
      " 81  SalePrice      1460 non-null   int64         \n",
      "dtypes: datetime64[ns](1), float64(3), int64(35), object(43)\n",
      "memory usage: 935.4+ KB\n"
     ]
    }
   ],
   "source": [
    "df_day.info()"
   ]
  },
  {
   "cell_type": "markdown",
   "id": "bb133679",
   "metadata": {},
   "source": [
    "### 칼럼에 대한 날짜 타입으로 변환한다"
   ]
  },
  {
   "cell_type": "code",
   "execution_count": 29,
   "id": "b75931d2",
   "metadata": {},
   "outputs": [
    {
     "data": {
      "text/plain": [
       "dtype('<M8[ns]')"
      ]
     },
     "execution_count": 29,
     "metadata": {},
     "output_type": "execute_result"
    }
   ],
   "source": [
    "df_day['date'].dtype"
   ]
  },
  {
   "cell_type": "markdown",
   "id": "6152f6ce",
   "metadata": {},
   "source": [
    "### 날짜 자료형으로 변환되어 dt 객체를 활용할 수 있다"
   ]
  },
  {
   "cell_type": "code",
   "execution_count": 30,
   "id": "d8b6fd73",
   "metadata": {},
   "outputs": [
    {
     "data": {
      "text/plain": [
       "<pandas.core.indexes.accessors.DatetimeProperties object at 0x14e284490>"
      ]
     },
     "execution_count": 30,
     "metadata": {},
     "output_type": "execute_result"
    }
   ],
   "source": [
    "df_day['date'].dt"
   ]
  },
  {
   "cell_type": "code",
   "execution_count": 31,
   "id": "96044e38",
   "metadata": {},
   "outputs": [
    {
     "data": {
      "text/plain": [
       "0       2023-07-04\n",
       "1       2023-07-04\n",
       "2       2023-07-04\n",
       "3       2023-07-04\n",
       "4       2023-07-04\n",
       "           ...    \n",
       "1455    2023-07-04\n",
       "1456    2023-07-04\n",
       "1457    2023-07-04\n",
       "1458    2023-07-04\n",
       "1459    2023-07-04\n",
       "Name: date, Length: 1460, dtype: object"
      ]
     },
     "execution_count": 31,
     "metadata": {},
     "output_type": "execute_result"
    }
   ],
   "source": [
    "df_day['date'].dt.date"
   ]
  },
  {
   "cell_type": "markdown",
   "id": "6b46d97e",
   "metadata": {},
   "source": [
    "### 새로운 칼럼 추가 \n",
    "\n",
    "- dt 내의 날짜 관련 정보를 분리해서 새로운 칼럼을 만들기"
   ]
  },
  {
   "cell_type": "code",
   "execution_count": 32,
   "id": "1e7664f8",
   "metadata": {},
   "outputs": [],
   "source": [
    "df_day['year']       = df_day['date'].dt.year         # 연(4자리숫자)\n",
    "df_day['month']      = df_day['date'].dt.month        # 월(숫자)\n",
    "df_day['month_name'] = df_day['date'].dt.month_name() # 월(문자)\n",
    "\n",
    "df_day['day']        = df_day['date'].dt.day          # 일(숫자)\n",
    "df_day['time']       = df_day['date'].dt.time         # HH:MM:SS(문자)\n",
    "df_day['hour']       = df_day['date'].dt.hour         # 시(숫자)\n",
    "df_day['minute']     = df_day['date'].dt.minute       # 분(숫자)\n",
    "df_day['second']     = df_day['date'].dt.second       # 초(숫자)\n"
   ]
  },
  {
   "cell_type": "code",
   "execution_count": 33,
   "id": "2cad3ff0",
   "metadata": {},
   "outputs": [
    {
     "data": {
      "text/html": [
       "<div>\n",
       "<style scoped>\n",
       "    .dataframe tbody tr th:only-of-type {\n",
       "        vertical-align: middle;\n",
       "    }\n",
       "\n",
       "    .dataframe tbody tr th {\n",
       "        vertical-align: top;\n",
       "    }\n",
       "\n",
       "    .dataframe thead th {\n",
       "        text-align: right;\n",
       "    }\n",
       "</style>\n",
       "<table border=\"1\" class=\"dataframe\">\n",
       "  <thead>\n",
       "    <tr style=\"text-align: right;\">\n",
       "      <th></th>\n",
       "      <th>date</th>\n",
       "      <th>Id</th>\n",
       "      <th>MSSubClass</th>\n",
       "      <th>MSZoning</th>\n",
       "      <th>LotFrontage</th>\n",
       "      <th>LotArea</th>\n",
       "      <th>Street</th>\n",
       "      <th>Alley</th>\n",
       "      <th>LotShape</th>\n",
       "      <th>LandContour</th>\n",
       "      <th>...</th>\n",
       "      <th>SaleCondition</th>\n",
       "      <th>SalePrice</th>\n",
       "      <th>year</th>\n",
       "      <th>month</th>\n",
       "      <th>month_name</th>\n",
       "      <th>day</th>\n",
       "      <th>time</th>\n",
       "      <th>hour</th>\n",
       "      <th>minute</th>\n",
       "      <th>second</th>\n",
       "    </tr>\n",
       "  </thead>\n",
       "  <tbody>\n",
       "    <tr>\n",
       "      <th>0</th>\n",
       "      <td>2023-07-04 18:06:02.088084</td>\n",
       "      <td>1</td>\n",
       "      <td>60</td>\n",
       "      <td>RL</td>\n",
       "      <td>65.0</td>\n",
       "      <td>8450</td>\n",
       "      <td>Pave</td>\n",
       "      <td>NaN</td>\n",
       "      <td>Reg</td>\n",
       "      <td>Lvl</td>\n",
       "      <td>...</td>\n",
       "      <td>Normal</td>\n",
       "      <td>208500</td>\n",
       "      <td>2023</td>\n",
       "      <td>7</td>\n",
       "      <td>July</td>\n",
       "      <td>4</td>\n",
       "      <td>18:06:02.088084</td>\n",
       "      <td>18</td>\n",
       "      <td>6</td>\n",
       "      <td>2</td>\n",
       "    </tr>\n",
       "    <tr>\n",
       "      <th>1</th>\n",
       "      <td>2023-07-04 18:06:02.088084</td>\n",
       "      <td>2</td>\n",
       "      <td>20</td>\n",
       "      <td>RL</td>\n",
       "      <td>80.0</td>\n",
       "      <td>9600</td>\n",
       "      <td>Pave</td>\n",
       "      <td>NaN</td>\n",
       "      <td>Reg</td>\n",
       "      <td>Lvl</td>\n",
       "      <td>...</td>\n",
       "      <td>Normal</td>\n",
       "      <td>181500</td>\n",
       "      <td>2023</td>\n",
       "      <td>7</td>\n",
       "      <td>July</td>\n",
       "      <td>4</td>\n",
       "      <td>18:06:02.088084</td>\n",
       "      <td>18</td>\n",
       "      <td>6</td>\n",
       "      <td>2</td>\n",
       "    </tr>\n",
       "    <tr>\n",
       "      <th>2</th>\n",
       "      <td>2023-07-04 18:06:02.088084</td>\n",
       "      <td>3</td>\n",
       "      <td>60</td>\n",
       "      <td>RL</td>\n",
       "      <td>68.0</td>\n",
       "      <td>11250</td>\n",
       "      <td>Pave</td>\n",
       "      <td>NaN</td>\n",
       "      <td>IR1</td>\n",
       "      <td>Lvl</td>\n",
       "      <td>...</td>\n",
       "      <td>Normal</td>\n",
       "      <td>223500</td>\n",
       "      <td>2023</td>\n",
       "      <td>7</td>\n",
       "      <td>July</td>\n",
       "      <td>4</td>\n",
       "      <td>18:06:02.088084</td>\n",
       "      <td>18</td>\n",
       "      <td>6</td>\n",
       "      <td>2</td>\n",
       "    </tr>\n",
       "    <tr>\n",
       "      <th>3</th>\n",
       "      <td>2023-07-04 18:06:02.088084</td>\n",
       "      <td>4</td>\n",
       "      <td>70</td>\n",
       "      <td>RL</td>\n",
       "      <td>60.0</td>\n",
       "      <td>9550</td>\n",
       "      <td>Pave</td>\n",
       "      <td>NaN</td>\n",
       "      <td>IR1</td>\n",
       "      <td>Lvl</td>\n",
       "      <td>...</td>\n",
       "      <td>Abnorml</td>\n",
       "      <td>140000</td>\n",
       "      <td>2023</td>\n",
       "      <td>7</td>\n",
       "      <td>July</td>\n",
       "      <td>4</td>\n",
       "      <td>18:06:02.088084</td>\n",
       "      <td>18</td>\n",
       "      <td>6</td>\n",
       "      <td>2</td>\n",
       "    </tr>\n",
       "    <tr>\n",
       "      <th>4</th>\n",
       "      <td>2023-07-04 18:06:02.088084</td>\n",
       "      <td>5</td>\n",
       "      <td>60</td>\n",
       "      <td>RL</td>\n",
       "      <td>84.0</td>\n",
       "      <td>14260</td>\n",
       "      <td>Pave</td>\n",
       "      <td>NaN</td>\n",
       "      <td>IR1</td>\n",
       "      <td>Lvl</td>\n",
       "      <td>...</td>\n",
       "      <td>Normal</td>\n",
       "      <td>250000</td>\n",
       "      <td>2023</td>\n",
       "      <td>7</td>\n",
       "      <td>July</td>\n",
       "      <td>4</td>\n",
       "      <td>18:06:02.088084</td>\n",
       "      <td>18</td>\n",
       "      <td>6</td>\n",
       "      <td>2</td>\n",
       "    </tr>\n",
       "  </tbody>\n",
       "</table>\n",
       "<p>5 rows × 90 columns</p>\n",
       "</div>"
      ],
      "text/plain": [
       "                        date  Id  MSSubClass MSZoning  LotFrontage  LotArea  \\\n",
       "0 2023-07-04 18:06:02.088084   1          60       RL         65.0     8450   \n",
       "1 2023-07-04 18:06:02.088084   2          20       RL         80.0     9600   \n",
       "2 2023-07-04 18:06:02.088084   3          60       RL         68.0    11250   \n",
       "3 2023-07-04 18:06:02.088084   4          70       RL         60.0     9550   \n",
       "4 2023-07-04 18:06:02.088084   5          60       RL         84.0    14260   \n",
       "\n",
       "  Street Alley LotShape LandContour  ... SaleCondition SalePrice  year month  \\\n",
       "0   Pave   NaN      Reg         Lvl  ...        Normal    208500  2023     7   \n",
       "1   Pave   NaN      Reg         Lvl  ...        Normal    181500  2023     7   \n",
       "2   Pave   NaN      IR1         Lvl  ...        Normal    223500  2023     7   \n",
       "3   Pave   NaN      IR1         Lvl  ...       Abnorml    140000  2023     7   \n",
       "4   Pave   NaN      IR1         Lvl  ...        Normal    250000  2023     7   \n",
       "\n",
       "  month_name day             time hour  minute  second  \n",
       "0       July   4  18:06:02.088084   18       6       2  \n",
       "1       July   4  18:06:02.088084   18       6       2  \n",
       "2       July   4  18:06:02.088084   18       6       2  \n",
       "3       July   4  18:06:02.088084   18       6       2  \n",
       "4       July   4  18:06:02.088084   18       6       2  \n",
       "\n",
       "[5 rows x 90 columns]"
      ]
     },
     "execution_count": 33,
     "metadata": {},
     "output_type": "execute_result"
    }
   ],
   "source": [
    "df_day.head()"
   ]
  },
  {
   "cell_type": "code",
   "execution_count": 34,
   "id": "96f46576",
   "metadata": {},
   "outputs": [
    {
     "data": {
      "text/plain": [
       "Index(['date', 'Id', 'MSSubClass', 'MSZoning', 'LotFrontage', 'LotArea',\n",
       "       'Street', 'Alley', 'LotShape', 'LandContour', 'Utilities', 'LotConfig',\n",
       "       'LandSlope', 'Neighborhood', 'Condition1', 'Condition2', 'BldgType',\n",
       "       'HouseStyle', 'OverallQual', 'OverallCond', 'YearBuilt', 'YearRemodAdd',\n",
       "       'RoofStyle', 'RoofMatl', 'Exterior1st', 'Exterior2nd', 'MasVnrType',\n",
       "       'MasVnrArea', 'ExterQual', 'ExterCond', 'Foundation', 'BsmtQual',\n",
       "       'BsmtCond', 'BsmtExposure', 'BsmtFinType1', 'BsmtFinSF1',\n",
       "       'BsmtFinType2', 'BsmtFinSF2', 'BsmtUnfSF', 'TotalBsmtSF', 'Heating',\n",
       "       'HeatingQC', 'CentralAir', 'Electrical', '1stFlrSF', '2ndFlrSF',\n",
       "       'LowQualFinSF', 'GrLivArea', 'BsmtFullBath', 'BsmtHalfBath', 'FullBath',\n",
       "       'HalfBath', 'BedroomAbvGr', 'KitchenAbvGr', 'KitchenQual',\n",
       "       'TotRmsAbvGrd', 'Functional', 'Fireplaces', 'FireplaceQu', 'GarageType',\n",
       "       'GarageYrBlt', 'GarageFinish', 'GarageCars', 'GarageArea', 'GarageQual',\n",
       "       'GarageCond', 'PavedDrive', 'WoodDeckSF', 'OpenPorchSF',\n",
       "       'EnclosedPorch', '3SsnPorch', 'ScreenPorch', 'PoolArea', 'PoolQC',\n",
       "       'Fence', 'MiscFeature', 'MiscVal', 'MoSold', 'YrSold', 'SaleType',\n",
       "       'SaleCondition', 'SalePrice', 'year', 'month', 'month_name', 'day',\n",
       "       'time', 'hour', 'minute', 'second'],\n",
       "      dtype='object')"
      ]
     },
     "execution_count": 34,
     "metadata": {},
     "output_type": "execute_result"
    }
   ],
   "source": [
    "df_day.columns"
   ]
  },
  {
   "cell_type": "code",
   "execution_count": 35,
   "id": "f2344043",
   "metadata": {},
   "outputs": [
    {
     "data": {
      "text/plain": [
       "Index(['Id', 'MSSubClass', 'LotFrontage', 'LotArea', 'OverallQual',\n",
       "       'OverallCond', 'YearBuilt', 'YearRemodAdd', 'MasVnrArea', 'BsmtFinSF1',\n",
       "       'BsmtFinSF2', 'BsmtUnfSF', 'TotalBsmtSF', '1stFlrSF', '2ndFlrSF',\n",
       "       'LowQualFinSF', 'GrLivArea', 'BsmtFullBath', 'BsmtHalfBath', 'FullBath',\n",
       "       'HalfBath', 'BedroomAbvGr', 'KitchenAbvGr', 'TotRmsAbvGrd',\n",
       "       'Fireplaces', 'GarageYrBlt', 'GarageCars', 'GarageArea', 'WoodDeckSF',\n",
       "       'OpenPorchSF', 'EnclosedPorch', '3SsnPorch', 'ScreenPorch', 'PoolArea',\n",
       "       'MiscVal', 'MoSold', 'YrSold', 'SalePrice', 'year', 'month', 'day',\n",
       "       'hour', 'minute', 'second'],\n",
       "      dtype='object')"
      ]
     },
     "execution_count": 35,
     "metadata": {},
     "output_type": "execute_result"
    }
   ],
   "source": [
    "df_day.select_dtypes(include='number').columns"
   ]
  },
  {
   "cell_type": "code",
   "execution_count": 36,
   "id": "0a63faae",
   "metadata": {},
   "outputs": [
    {
     "data": {
      "text/html": [
       "<div>\n",
       "<style scoped>\n",
       "    .dataframe tbody tr th:only-of-type {\n",
       "        vertical-align: middle;\n",
       "    }\n",
       "\n",
       "    .dataframe tbody tr th {\n",
       "        vertical-align: top;\n",
       "    }\n",
       "\n",
       "    .dataframe thead th {\n",
       "        text-align: right;\n",
       "    }\n",
       "</style>\n",
       "<table border=\"1\" class=\"dataframe\">\n",
       "  <thead>\n",
       "    <tr style=\"text-align: right;\">\n",
       "      <th></th>\n",
       "      <th>Id</th>\n",
       "      <th>MSSubClass</th>\n",
       "      <th>LotFrontage</th>\n",
       "      <th>LotArea</th>\n",
       "      <th>OverallQual</th>\n",
       "      <th>OverallCond</th>\n",
       "      <th>YearBuilt</th>\n",
       "      <th>YearRemodAdd</th>\n",
       "      <th>MasVnrArea</th>\n",
       "      <th>BsmtFinSF1</th>\n",
       "      <th>...</th>\n",
       "      <th>MiscVal</th>\n",
       "      <th>MoSold</th>\n",
       "      <th>YrSold</th>\n",
       "      <th>SalePrice</th>\n",
       "      <th>year</th>\n",
       "      <th>month</th>\n",
       "      <th>day</th>\n",
       "      <th>hour</th>\n",
       "      <th>minute</th>\n",
       "      <th>second</th>\n",
       "    </tr>\n",
       "  </thead>\n",
       "  <tbody>\n",
       "    <tr>\n",
       "      <th>0</th>\n",
       "      <td>1</td>\n",
       "      <td>60</td>\n",
       "      <td>65.0</td>\n",
       "      <td>8450</td>\n",
       "      <td>7</td>\n",
       "      <td>5</td>\n",
       "      <td>2003</td>\n",
       "      <td>2003</td>\n",
       "      <td>196.0</td>\n",
       "      <td>706</td>\n",
       "      <td>...</td>\n",
       "      <td>0</td>\n",
       "      <td>2</td>\n",
       "      <td>2008</td>\n",
       "      <td>208500</td>\n",
       "      <td>2023</td>\n",
       "      <td>7</td>\n",
       "      <td>4</td>\n",
       "      <td>18</td>\n",
       "      <td>6</td>\n",
       "      <td>2</td>\n",
       "    </tr>\n",
       "    <tr>\n",
       "      <th>1</th>\n",
       "      <td>2</td>\n",
       "      <td>20</td>\n",
       "      <td>80.0</td>\n",
       "      <td>9600</td>\n",
       "      <td>6</td>\n",
       "      <td>8</td>\n",
       "      <td>1976</td>\n",
       "      <td>1976</td>\n",
       "      <td>0.0</td>\n",
       "      <td>978</td>\n",
       "      <td>...</td>\n",
       "      <td>0</td>\n",
       "      <td>5</td>\n",
       "      <td>2007</td>\n",
       "      <td>181500</td>\n",
       "      <td>2023</td>\n",
       "      <td>7</td>\n",
       "      <td>4</td>\n",
       "      <td>18</td>\n",
       "      <td>6</td>\n",
       "      <td>2</td>\n",
       "    </tr>\n",
       "    <tr>\n",
       "      <th>2</th>\n",
       "      <td>3</td>\n",
       "      <td>60</td>\n",
       "      <td>68.0</td>\n",
       "      <td>11250</td>\n",
       "      <td>7</td>\n",
       "      <td>5</td>\n",
       "      <td>2001</td>\n",
       "      <td>2002</td>\n",
       "      <td>162.0</td>\n",
       "      <td>486</td>\n",
       "      <td>...</td>\n",
       "      <td>0</td>\n",
       "      <td>9</td>\n",
       "      <td>2008</td>\n",
       "      <td>223500</td>\n",
       "      <td>2023</td>\n",
       "      <td>7</td>\n",
       "      <td>4</td>\n",
       "      <td>18</td>\n",
       "      <td>6</td>\n",
       "      <td>2</td>\n",
       "    </tr>\n",
       "    <tr>\n",
       "      <th>3</th>\n",
       "      <td>4</td>\n",
       "      <td>70</td>\n",
       "      <td>60.0</td>\n",
       "      <td>9550</td>\n",
       "      <td>7</td>\n",
       "      <td>5</td>\n",
       "      <td>1915</td>\n",
       "      <td>1970</td>\n",
       "      <td>0.0</td>\n",
       "      <td>216</td>\n",
       "      <td>...</td>\n",
       "      <td>0</td>\n",
       "      <td>2</td>\n",
       "      <td>2006</td>\n",
       "      <td>140000</td>\n",
       "      <td>2023</td>\n",
       "      <td>7</td>\n",
       "      <td>4</td>\n",
       "      <td>18</td>\n",
       "      <td>6</td>\n",
       "      <td>2</td>\n",
       "    </tr>\n",
       "    <tr>\n",
       "      <th>4</th>\n",
       "      <td>5</td>\n",
       "      <td>60</td>\n",
       "      <td>84.0</td>\n",
       "      <td>14260</td>\n",
       "      <td>8</td>\n",
       "      <td>5</td>\n",
       "      <td>2000</td>\n",
       "      <td>2000</td>\n",
       "      <td>350.0</td>\n",
       "      <td>655</td>\n",
       "      <td>...</td>\n",
       "      <td>0</td>\n",
       "      <td>12</td>\n",
       "      <td>2008</td>\n",
       "      <td>250000</td>\n",
       "      <td>2023</td>\n",
       "      <td>7</td>\n",
       "      <td>4</td>\n",
       "      <td>18</td>\n",
       "      <td>6</td>\n",
       "      <td>2</td>\n",
       "    </tr>\n",
       "    <tr>\n",
       "      <th>...</th>\n",
       "      <td>...</td>\n",
       "      <td>...</td>\n",
       "      <td>...</td>\n",
       "      <td>...</td>\n",
       "      <td>...</td>\n",
       "      <td>...</td>\n",
       "      <td>...</td>\n",
       "      <td>...</td>\n",
       "      <td>...</td>\n",
       "      <td>...</td>\n",
       "      <td>...</td>\n",
       "      <td>...</td>\n",
       "      <td>...</td>\n",
       "      <td>...</td>\n",
       "      <td>...</td>\n",
       "      <td>...</td>\n",
       "      <td>...</td>\n",
       "      <td>...</td>\n",
       "      <td>...</td>\n",
       "      <td>...</td>\n",
       "      <td>...</td>\n",
       "    </tr>\n",
       "    <tr>\n",
       "      <th>1455</th>\n",
       "      <td>1456</td>\n",
       "      <td>60</td>\n",
       "      <td>62.0</td>\n",
       "      <td>7917</td>\n",
       "      <td>6</td>\n",
       "      <td>5</td>\n",
       "      <td>1999</td>\n",
       "      <td>2000</td>\n",
       "      <td>0.0</td>\n",
       "      <td>0</td>\n",
       "      <td>...</td>\n",
       "      <td>0</td>\n",
       "      <td>8</td>\n",
       "      <td>2007</td>\n",
       "      <td>175000</td>\n",
       "      <td>2023</td>\n",
       "      <td>7</td>\n",
       "      <td>4</td>\n",
       "      <td>18</td>\n",
       "      <td>6</td>\n",
       "      <td>2</td>\n",
       "    </tr>\n",
       "    <tr>\n",
       "      <th>1456</th>\n",
       "      <td>1457</td>\n",
       "      <td>20</td>\n",
       "      <td>85.0</td>\n",
       "      <td>13175</td>\n",
       "      <td>6</td>\n",
       "      <td>6</td>\n",
       "      <td>1978</td>\n",
       "      <td>1988</td>\n",
       "      <td>119.0</td>\n",
       "      <td>790</td>\n",
       "      <td>...</td>\n",
       "      <td>0</td>\n",
       "      <td>2</td>\n",
       "      <td>2010</td>\n",
       "      <td>210000</td>\n",
       "      <td>2023</td>\n",
       "      <td>7</td>\n",
       "      <td>4</td>\n",
       "      <td>18</td>\n",
       "      <td>6</td>\n",
       "      <td>2</td>\n",
       "    </tr>\n",
       "    <tr>\n",
       "      <th>1457</th>\n",
       "      <td>1458</td>\n",
       "      <td>70</td>\n",
       "      <td>66.0</td>\n",
       "      <td>9042</td>\n",
       "      <td>7</td>\n",
       "      <td>9</td>\n",
       "      <td>1941</td>\n",
       "      <td>2006</td>\n",
       "      <td>0.0</td>\n",
       "      <td>275</td>\n",
       "      <td>...</td>\n",
       "      <td>2500</td>\n",
       "      <td>5</td>\n",
       "      <td>2010</td>\n",
       "      <td>266500</td>\n",
       "      <td>2023</td>\n",
       "      <td>7</td>\n",
       "      <td>4</td>\n",
       "      <td>18</td>\n",
       "      <td>6</td>\n",
       "      <td>2</td>\n",
       "    </tr>\n",
       "    <tr>\n",
       "      <th>1458</th>\n",
       "      <td>1459</td>\n",
       "      <td>20</td>\n",
       "      <td>68.0</td>\n",
       "      <td>9717</td>\n",
       "      <td>5</td>\n",
       "      <td>6</td>\n",
       "      <td>1950</td>\n",
       "      <td>1996</td>\n",
       "      <td>0.0</td>\n",
       "      <td>49</td>\n",
       "      <td>...</td>\n",
       "      <td>0</td>\n",
       "      <td>4</td>\n",
       "      <td>2010</td>\n",
       "      <td>142125</td>\n",
       "      <td>2023</td>\n",
       "      <td>7</td>\n",
       "      <td>4</td>\n",
       "      <td>18</td>\n",
       "      <td>6</td>\n",
       "      <td>2</td>\n",
       "    </tr>\n",
       "    <tr>\n",
       "      <th>1459</th>\n",
       "      <td>1460</td>\n",
       "      <td>20</td>\n",
       "      <td>75.0</td>\n",
       "      <td>9937</td>\n",
       "      <td>5</td>\n",
       "      <td>6</td>\n",
       "      <td>1965</td>\n",
       "      <td>1965</td>\n",
       "      <td>0.0</td>\n",
       "      <td>830</td>\n",
       "      <td>...</td>\n",
       "      <td>0</td>\n",
       "      <td>6</td>\n",
       "      <td>2008</td>\n",
       "      <td>147500</td>\n",
       "      <td>2023</td>\n",
       "      <td>7</td>\n",
       "      <td>4</td>\n",
       "      <td>18</td>\n",
       "      <td>6</td>\n",
       "      <td>2</td>\n",
       "    </tr>\n",
       "  </tbody>\n",
       "</table>\n",
       "<p>1460 rows × 44 columns</p>\n",
       "</div>"
      ],
      "text/plain": [
       "        Id  MSSubClass  LotFrontage  LotArea  OverallQual  OverallCond  \\\n",
       "0        1          60         65.0     8450            7            5   \n",
       "1        2          20         80.0     9600            6            8   \n",
       "2        3          60         68.0    11250            7            5   \n",
       "3        4          70         60.0     9550            7            5   \n",
       "4        5          60         84.0    14260            8            5   \n",
       "...    ...         ...          ...      ...          ...          ...   \n",
       "1455  1456          60         62.0     7917            6            5   \n",
       "1456  1457          20         85.0    13175            6            6   \n",
       "1457  1458          70         66.0     9042            7            9   \n",
       "1458  1459          20         68.0     9717            5            6   \n",
       "1459  1460          20         75.0     9937            5            6   \n",
       "\n",
       "      YearBuilt  YearRemodAdd  MasVnrArea  BsmtFinSF1  ...  MiscVal  MoSold  \\\n",
       "0          2003          2003       196.0         706  ...        0       2   \n",
       "1          1976          1976         0.0         978  ...        0       5   \n",
       "2          2001          2002       162.0         486  ...        0       9   \n",
       "3          1915          1970         0.0         216  ...        0       2   \n",
       "4          2000          2000       350.0         655  ...        0      12   \n",
       "...         ...           ...         ...         ...  ...      ...     ...   \n",
       "1455       1999          2000         0.0           0  ...        0       8   \n",
       "1456       1978          1988       119.0         790  ...        0       2   \n",
       "1457       1941          2006         0.0         275  ...     2500       5   \n",
       "1458       1950          1996         0.0          49  ...        0       4   \n",
       "1459       1965          1965         0.0         830  ...        0       6   \n",
       "\n",
       "      YrSold  SalePrice  year  month  day  hour  minute  second  \n",
       "0       2008     208500  2023      7    4    18       6       2  \n",
       "1       2007     181500  2023      7    4    18       6       2  \n",
       "2       2008     223500  2023      7    4    18       6       2  \n",
       "3       2006     140000  2023      7    4    18       6       2  \n",
       "4       2008     250000  2023      7    4    18       6       2  \n",
       "...      ...        ...   ...    ...  ...   ...     ...     ...  \n",
       "1455    2007     175000  2023      7    4    18       6       2  \n",
       "1456    2010     210000  2023      7    4    18       6       2  \n",
       "1457    2010     266500  2023      7    4    18       6       2  \n",
       "1458    2010     142125  2023      7    4    18       6       2  \n",
       "1459    2008     147500  2023      7    4    18       6       2  \n",
       "\n",
       "[1460 rows x 44 columns]"
      ]
     },
     "execution_count": 36,
     "metadata": {},
     "output_type": "execute_result"
    }
   ],
   "source": [
    "df_day.select_dtypes(include='number')"
   ]
  },
  {
   "cell_type": "markdown",
   "id": "7fd532b8",
   "metadata": {},
   "source": [
    "### 새로운 칼럼 추가 "
   ]
  },
  {
   "cell_type": "code",
   "execution_count": 37,
   "id": "4111f1d6",
   "metadata": {},
   "outputs": [],
   "source": [
    "df_day['Pricepersquare'] = df_day['SalePrice'] / df_day['LotArea']"
   ]
  },
  {
   "cell_type": "markdown",
   "id": "89b99687",
   "metadata": {},
   "source": [
    "### 그룹화해서 정보를 확인하기 "
   ]
  },
  {
   "cell_type": "code",
   "execution_count": 38,
   "id": "c8fd65ff",
   "metadata": {},
   "outputs": [
    {
     "data": {
      "text/html": [
       "<div>\n",
       "<style scoped>\n",
       "    .dataframe tbody tr th:only-of-type {\n",
       "        vertical-align: middle;\n",
       "    }\n",
       "\n",
       "    .dataframe tbody tr th {\n",
       "        vertical-align: top;\n",
       "    }\n",
       "\n",
       "    .dataframe thead th {\n",
       "        text-align: right;\n",
       "    }\n",
       "</style>\n",
       "<table border=\"1\" class=\"dataframe\">\n",
       "  <thead>\n",
       "    <tr style=\"text-align: right;\">\n",
       "      <th></th>\n",
       "      <th></th>\n",
       "      <th>SalePrice</th>\n",
       "      <th>LotArea</th>\n",
       "      <th>Pricepersquare</th>\n",
       "    </tr>\n",
       "    <tr>\n",
       "      <th>year</th>\n",
       "      <th>month</th>\n",
       "      <th></th>\n",
       "      <th></th>\n",
       "      <th></th>\n",
       "    </tr>\n",
       "  </thead>\n",
       "  <tbody>\n",
       "    <tr>\n",
       "      <th>2023</th>\n",
       "      <th>7</th>\n",
       "      <td>755000</td>\n",
       "      <td>215245</td>\n",
       "      <td>95.384615</td>\n",
       "    </tr>\n",
       "  </tbody>\n",
       "</table>\n",
       "</div>"
      ],
      "text/plain": [
       "            SalePrice  LotArea  Pricepersquare\n",
       "year month                                    \n",
       "2023 7         755000   215245       95.384615"
      ]
     },
     "execution_count": 38,
     "metadata": {},
     "output_type": "execute_result"
    }
   ],
   "source": [
    "df_day.groupby([\"year\",\"month\"])[['SalePrice','LotArea','Pricepersquare']].max()"
   ]
  },
  {
   "cell_type": "code",
   "execution_count": null,
   "id": "5eb4e909",
   "metadata": {},
   "outputs": [],
   "source": []
  },
  {
   "cell_type": "markdown",
   "id": "b0e5cf6a",
   "metadata": {},
   "source": [
    "## 4. 특정 내부의 값을 변경하기\n",
    "\n",
    "-  transform, apply 메서드를 통해 내부의 값을 변경하기"
   ]
  },
  {
   "cell_type": "markdown",
   "id": "fdf344c2",
   "metadata": {},
   "source": [
    "## apply 함수 처리 기준 \n",
    "- apply(func, axis=0)func: DataFrame의 축을 따라 함수를 호출한다  \n",
    "- 기본적으로 하나의 시리즈 객체 단위로 계산한다 \n",
    "- func주어진 축을 따라 적용한 결과를 반환한다 ."
   ]
  },
  {
   "cell_type": "markdown",
   "id": "28a0e53d",
   "metadata": {},
   "source": [
    "## transform 함수 처리 기준\n",
    "- transform(func, axis=0): 변환된 값으로 DataFrame을 자체적으로func 생성 하는 함수를 호출한다.\n",
    "- 데이터프레임 단위로 처리하므로 시리즈 단위로 처리하는 함수를 호출하면 예외가 발생한다. \n",
    "-  self 와 길이가 같은 DataFrame을 반환한다"
   ]
  },
  {
   "cell_type": "markdown",
   "id": "54e60c35",
   "metadata": {},
   "source": [
    "## 4-1 지정된 함수를 사용해서 값을 변경하기 "
   ]
  },
  {
   "cell_type": "markdown",
   "id": "6c3509eb",
   "metadata": {},
   "source": [
    "### 실수 칼럼만 가져오기 "
   ]
  },
  {
   "cell_type": "code",
   "execution_count": 39,
   "id": "1be8d4c3",
   "metadata": {},
   "outputs": [],
   "source": [
    "df_num = df_day.select_dtypes(include=\"float\")"
   ]
  },
  {
   "cell_type": "markdown",
   "id": "b423428f",
   "metadata": {},
   "source": [
    "### 내장함수를 문자열로 전달해서 처리하기"
   ]
  },
  {
   "cell_type": "code",
   "execution_count": 40,
   "id": "3ec69c3f",
   "metadata": {},
   "outputs": [
    {
     "data": {
      "text/html": [
       "<div>\n",
       "<style scoped>\n",
       "    .dataframe tbody tr th:only-of-type {\n",
       "        vertical-align: middle;\n",
       "    }\n",
       "\n",
       "    .dataframe tbody tr th {\n",
       "        vertical-align: top;\n",
       "    }\n",
       "\n",
       "    .dataframe thead th {\n",
       "        text-align: right;\n",
       "    }\n",
       "</style>\n",
       "<table border=\"1\" class=\"dataframe\">\n",
       "  <thead>\n",
       "    <tr style=\"text-align: right;\">\n",
       "      <th></th>\n",
       "      <th>LotFrontage</th>\n",
       "      <th>MasVnrArea</th>\n",
       "      <th>GarageYrBlt</th>\n",
       "      <th>Pricepersquare</th>\n",
       "    </tr>\n",
       "  </thead>\n",
       "  <tbody>\n",
       "    <tr>\n",
       "      <th>0</th>\n",
       "      <td>8.062258</td>\n",
       "      <td>14.000000</td>\n",
       "      <td>44.754888</td>\n",
       "      <td>4.967349</td>\n",
       "    </tr>\n",
       "    <tr>\n",
       "      <th>1</th>\n",
       "      <td>8.944272</td>\n",
       "      <td>0.000000</td>\n",
       "      <td>44.452222</td>\n",
       "      <td>4.348132</td>\n",
       "    </tr>\n",
       "    <tr>\n",
       "      <th>2</th>\n",
       "      <td>8.246211</td>\n",
       "      <td>12.727922</td>\n",
       "      <td>44.732538</td>\n",
       "      <td>4.457204</td>\n",
       "    </tr>\n",
       "    <tr>\n",
       "      <th>3</th>\n",
       "      <td>7.745967</td>\n",
       "      <td>0.000000</td>\n",
       "      <td>44.698993</td>\n",
       "      <td>3.828797</td>\n",
       "    </tr>\n",
       "    <tr>\n",
       "      <th>4</th>\n",
       "      <td>9.165151</td>\n",
       "      <td>18.708287</td>\n",
       "      <td>44.721360</td>\n",
       "      <td>4.187070</td>\n",
       "    </tr>\n",
       "  </tbody>\n",
       "</table>\n",
       "</div>"
      ],
      "text/plain": [
       "   LotFrontage  MasVnrArea  GarageYrBlt  Pricepersquare\n",
       "0     8.062258   14.000000    44.754888        4.967349\n",
       "1     8.944272    0.000000    44.452222        4.348132\n",
       "2     8.246211   12.727922    44.732538        4.457204\n",
       "3     7.745967    0.000000    44.698993        3.828797\n",
       "4     9.165151   18.708287    44.721360        4.187070"
      ]
     },
     "execution_count": 40,
     "metadata": {},
     "output_type": "execute_result"
    }
   ],
   "source": [
    "df_num.transform('sqrt').head()"
   ]
  },
  {
   "cell_type": "code",
   "execution_count": 41,
   "id": "9a141414",
   "metadata": {},
   "outputs": [
    {
     "data": {
      "text/html": [
       "<div>\n",
       "<style scoped>\n",
       "    .dataframe tbody tr th:only-of-type {\n",
       "        vertical-align: middle;\n",
       "    }\n",
       "\n",
       "    .dataframe tbody tr th {\n",
       "        vertical-align: top;\n",
       "    }\n",
       "\n",
       "    .dataframe thead th {\n",
       "        text-align: right;\n",
       "    }\n",
       "</style>\n",
       "<table border=\"1\" class=\"dataframe\">\n",
       "  <thead>\n",
       "    <tr style=\"text-align: right;\">\n",
       "      <th></th>\n",
       "      <th>LotFrontage</th>\n",
       "      <th>MasVnrArea</th>\n",
       "      <th>GarageYrBlt</th>\n",
       "      <th>Pricepersquare</th>\n",
       "    </tr>\n",
       "  </thead>\n",
       "  <tbody>\n",
       "    <tr>\n",
       "      <th>0</th>\n",
       "      <td>8.062258</td>\n",
       "      <td>14.000000</td>\n",
       "      <td>44.754888</td>\n",
       "      <td>4.967349</td>\n",
       "    </tr>\n",
       "    <tr>\n",
       "      <th>1</th>\n",
       "      <td>8.944272</td>\n",
       "      <td>0.000000</td>\n",
       "      <td>44.452222</td>\n",
       "      <td>4.348132</td>\n",
       "    </tr>\n",
       "    <tr>\n",
       "      <th>2</th>\n",
       "      <td>8.246211</td>\n",
       "      <td>12.727922</td>\n",
       "      <td>44.732538</td>\n",
       "      <td>4.457204</td>\n",
       "    </tr>\n",
       "    <tr>\n",
       "      <th>3</th>\n",
       "      <td>7.745967</td>\n",
       "      <td>0.000000</td>\n",
       "      <td>44.698993</td>\n",
       "      <td>3.828797</td>\n",
       "    </tr>\n",
       "    <tr>\n",
       "      <th>4</th>\n",
       "      <td>9.165151</td>\n",
       "      <td>18.708287</td>\n",
       "      <td>44.721360</td>\n",
       "      <td>4.187070</td>\n",
       "    </tr>\n",
       "  </tbody>\n",
       "</table>\n",
       "</div>"
      ],
      "text/plain": [
       "   LotFrontage  MasVnrArea  GarageYrBlt  Pricepersquare\n",
       "0     8.062258   14.000000    44.754888        4.967349\n",
       "1     8.944272    0.000000    44.452222        4.348132\n",
       "2     8.246211   12.727922    44.732538        4.457204\n",
       "3     7.745967    0.000000    44.698993        3.828797\n",
       "4     9.165151   18.708287    44.721360        4.187070"
      ]
     },
     "execution_count": 41,
     "metadata": {},
     "output_type": "execute_result"
    }
   ],
   "source": [
    "df_num.apply('sqrt').head()"
   ]
  },
  {
   "cell_type": "code",
   "execution_count": null,
   "id": "942a8c46",
   "metadata": {},
   "outputs": [],
   "source": []
  },
  {
   "cell_type": "markdown",
   "id": "f4e2b41e",
   "metadata": {},
   "source": [
    "### 넘파이 모듈의 함수를 사용해서 계산하기 "
   ]
  },
  {
   "cell_type": "code",
   "execution_count": 42,
   "id": "40932256",
   "metadata": {},
   "outputs": [
    {
     "data": {
      "text/html": [
       "<div>\n",
       "<style scoped>\n",
       "    .dataframe tbody tr th:only-of-type {\n",
       "        vertical-align: middle;\n",
       "    }\n",
       "\n",
       "    .dataframe tbody tr th {\n",
       "        vertical-align: top;\n",
       "    }\n",
       "\n",
       "    .dataframe thead tr th {\n",
       "        text-align: left;\n",
       "    }\n",
       "</style>\n",
       "<table border=\"1\" class=\"dataframe\">\n",
       "  <thead>\n",
       "    <tr>\n",
       "      <th></th>\n",
       "      <th colspan=\"2\" halign=\"left\">LotFrontage</th>\n",
       "      <th colspan=\"2\" halign=\"left\">MasVnrArea</th>\n",
       "      <th colspan=\"2\" halign=\"left\">GarageYrBlt</th>\n",
       "      <th colspan=\"2\" halign=\"left\">Pricepersquare</th>\n",
       "    </tr>\n",
       "    <tr>\n",
       "      <th></th>\n",
       "      <th>sqrt</th>\n",
       "      <th>exp</th>\n",
       "      <th>sqrt</th>\n",
       "      <th>exp</th>\n",
       "      <th>sqrt</th>\n",
       "      <th>exp</th>\n",
       "      <th>sqrt</th>\n",
       "      <th>exp</th>\n",
       "    </tr>\n",
       "  </thead>\n",
       "  <tbody>\n",
       "    <tr>\n",
       "      <th>0</th>\n",
       "      <td>8.062258</td>\n",
       "      <td>1.694889e+28</td>\n",
       "      <td>14.000000</td>\n",
       "      <td>1.323483e+85</td>\n",
       "      <td>44.754888</td>\n",
       "      <td>inf</td>\n",
       "      <td>4.967349</td>\n",
       "      <td>5.200243e+10</td>\n",
       "    </tr>\n",
       "    <tr>\n",
       "      <th>1</th>\n",
       "      <td>8.944272</td>\n",
       "      <td>5.540622e+34</td>\n",
       "      <td>0.000000</td>\n",
       "      <td>1.000000e+00</td>\n",
       "      <td>44.452222</td>\n",
       "      <td>inf</td>\n",
       "      <td>4.348132</td>\n",
       "      <td>1.625100e+08</td>\n",
       "    </tr>\n",
       "    <tr>\n",
       "      <th>2</th>\n",
       "      <td>8.246211</td>\n",
       "      <td>3.404276e+29</td>\n",
       "      <td>12.727922</td>\n",
       "      <td>2.268329e+70</td>\n",
       "      <td>44.732538</td>\n",
       "      <td>inf</td>\n",
       "      <td>4.457204</td>\n",
       "      <td>4.246036e+08</td>\n",
       "    </tr>\n",
       "    <tr>\n",
       "      <th>3</th>\n",
       "      <td>7.745967</td>\n",
       "      <td>1.142007e+26</td>\n",
       "      <td>0.000000</td>\n",
       "      <td>1.000000e+00</td>\n",
       "      <td>44.698993</td>\n",
       "      <td>inf</td>\n",
       "      <td>3.828797</td>\n",
       "      <td>2.326059e+06</td>\n",
       "    </tr>\n",
       "    <tr>\n",
       "      <th>4</th>\n",
       "      <td>9.165151</td>\n",
       "      <td>3.025077e+36</td>\n",
       "      <td>18.708287</td>\n",
       "      <td>1.007091e+152</td>\n",
       "      <td>44.721360</td>\n",
       "      <td>inf</td>\n",
       "      <td>4.187070</td>\n",
       "      <td>4.110157e+07</td>\n",
       "    </tr>\n",
       "  </tbody>\n",
       "</table>\n",
       "</div>"
      ],
      "text/plain": [
       "  LotFrontage               MasVnrArea                GarageYrBlt       \\\n",
       "         sqrt           exp       sqrt            exp        sqrt  exp   \n",
       "0    8.062258  1.694889e+28  14.000000   1.323483e+85   44.754888  inf   \n",
       "1    8.944272  5.540622e+34   0.000000   1.000000e+00   44.452222  inf   \n",
       "2    8.246211  3.404276e+29  12.727922   2.268329e+70   44.732538  inf   \n",
       "3    7.745967  1.142007e+26   0.000000   1.000000e+00   44.698993  inf   \n",
       "4    9.165151  3.025077e+36  18.708287  1.007091e+152   44.721360  inf   \n",
       "\n",
       "  Pricepersquare                \n",
       "            sqrt           exp  \n",
       "0       4.967349  5.200243e+10  \n",
       "1       4.348132  1.625100e+08  \n",
       "2       4.457204  4.246036e+08  \n",
       "3       3.828797  2.326059e+06  \n",
       "4       4.187070  4.110157e+07  "
      ]
     },
     "execution_count": 42,
     "metadata": {},
     "output_type": "execute_result"
    }
   ],
   "source": [
    "df_num.transform([np.sqrt, np.exp]).head()"
   ]
  },
  {
   "cell_type": "code",
   "execution_count": 43,
   "id": "d8b2a61a",
   "metadata": {},
   "outputs": [
    {
     "data": {
      "text/html": [
       "<div>\n",
       "<style scoped>\n",
       "    .dataframe tbody tr th:only-of-type {\n",
       "        vertical-align: middle;\n",
       "    }\n",
       "\n",
       "    .dataframe tbody tr th {\n",
       "        vertical-align: top;\n",
       "    }\n",
       "\n",
       "    .dataframe thead tr th {\n",
       "        text-align: left;\n",
       "    }\n",
       "</style>\n",
       "<table border=\"1\" class=\"dataframe\">\n",
       "  <thead>\n",
       "    <tr>\n",
       "      <th></th>\n",
       "      <th colspan=\"2\" halign=\"left\">LotFrontage</th>\n",
       "      <th colspan=\"2\" halign=\"left\">MasVnrArea</th>\n",
       "      <th colspan=\"2\" halign=\"left\">GarageYrBlt</th>\n",
       "      <th colspan=\"2\" halign=\"left\">Pricepersquare</th>\n",
       "    </tr>\n",
       "    <tr>\n",
       "      <th></th>\n",
       "      <th>sqrt</th>\n",
       "      <th>exp</th>\n",
       "      <th>sqrt</th>\n",
       "      <th>exp</th>\n",
       "      <th>sqrt</th>\n",
       "      <th>exp</th>\n",
       "      <th>sqrt</th>\n",
       "      <th>exp</th>\n",
       "    </tr>\n",
       "  </thead>\n",
       "  <tbody>\n",
       "    <tr>\n",
       "      <th>0</th>\n",
       "      <td>8.062258</td>\n",
       "      <td>1.694889e+28</td>\n",
       "      <td>14.000000</td>\n",
       "      <td>1.323483e+85</td>\n",
       "      <td>44.754888</td>\n",
       "      <td>inf</td>\n",
       "      <td>4.967349</td>\n",
       "      <td>5.200243e+10</td>\n",
       "    </tr>\n",
       "    <tr>\n",
       "      <th>1</th>\n",
       "      <td>8.944272</td>\n",
       "      <td>5.540622e+34</td>\n",
       "      <td>0.000000</td>\n",
       "      <td>1.000000e+00</td>\n",
       "      <td>44.452222</td>\n",
       "      <td>inf</td>\n",
       "      <td>4.348132</td>\n",
       "      <td>1.625100e+08</td>\n",
       "    </tr>\n",
       "    <tr>\n",
       "      <th>2</th>\n",
       "      <td>8.246211</td>\n",
       "      <td>3.404276e+29</td>\n",
       "      <td>12.727922</td>\n",
       "      <td>2.268329e+70</td>\n",
       "      <td>44.732538</td>\n",
       "      <td>inf</td>\n",
       "      <td>4.457204</td>\n",
       "      <td>4.246036e+08</td>\n",
       "    </tr>\n",
       "    <tr>\n",
       "      <th>3</th>\n",
       "      <td>7.745967</td>\n",
       "      <td>1.142007e+26</td>\n",
       "      <td>0.000000</td>\n",
       "      <td>1.000000e+00</td>\n",
       "      <td>44.698993</td>\n",
       "      <td>inf</td>\n",
       "      <td>3.828797</td>\n",
       "      <td>2.326059e+06</td>\n",
       "    </tr>\n",
       "    <tr>\n",
       "      <th>4</th>\n",
       "      <td>9.165151</td>\n",
       "      <td>3.025077e+36</td>\n",
       "      <td>18.708287</td>\n",
       "      <td>1.007091e+152</td>\n",
       "      <td>44.721360</td>\n",
       "      <td>inf</td>\n",
       "      <td>4.187070</td>\n",
       "      <td>4.110157e+07</td>\n",
       "    </tr>\n",
       "  </tbody>\n",
       "</table>\n",
       "</div>"
      ],
      "text/plain": [
       "  LotFrontage               MasVnrArea                GarageYrBlt       \\\n",
       "         sqrt           exp       sqrt            exp        sqrt  exp   \n",
       "0    8.062258  1.694889e+28  14.000000   1.323483e+85   44.754888  inf   \n",
       "1    8.944272  5.540622e+34   0.000000   1.000000e+00   44.452222  inf   \n",
       "2    8.246211  3.404276e+29  12.727922   2.268329e+70   44.732538  inf   \n",
       "3    7.745967  1.142007e+26   0.000000   1.000000e+00   44.698993  inf   \n",
       "4    9.165151  3.025077e+36  18.708287  1.007091e+152   44.721360  inf   \n",
       "\n",
       "  Pricepersquare                \n",
       "            sqrt           exp  \n",
       "0       4.967349  5.200243e+10  \n",
       "1       4.348132  1.625100e+08  \n",
       "2       4.457204  4.246036e+08  \n",
       "3       3.828797  2.326059e+06  \n",
       "4       4.187070  4.110157e+07  "
      ]
     },
     "execution_count": 43,
     "metadata": {},
     "output_type": "execute_result"
    }
   ],
   "source": [
    "df_num.apply([np.sqrt, np.exp]).head()"
   ]
  },
  {
   "cell_type": "markdown",
   "id": "1a31bd04",
   "metadata": {},
   "source": [
    "### 특정 칼럼별로 함수를 지정해서 딕셔너리로 전달하기 "
   ]
  },
  {
   "cell_type": "code",
   "execution_count": 45,
   "id": "61af3ac1",
   "metadata": {},
   "outputs": [
    {
     "data": {
      "text/html": [
       "<div>\n",
       "<style scoped>\n",
       "    .dataframe tbody tr th:only-of-type {\n",
       "        vertical-align: middle;\n",
       "    }\n",
       "\n",
       "    .dataframe tbody tr th {\n",
       "        vertical-align: top;\n",
       "    }\n",
       "\n",
       "    .dataframe thead th {\n",
       "        text-align: right;\n",
       "    }\n",
       "</style>\n",
       "<table border=\"1\" class=\"dataframe\">\n",
       "  <thead>\n",
       "    <tr style=\"text-align: right;\">\n",
       "      <th></th>\n",
       "      <th>LotFrontage</th>\n",
       "      <th>MasVnrArea</th>\n",
       "    </tr>\n",
       "  </thead>\n",
       "  <tbody>\n",
       "    <tr>\n",
       "      <th>0</th>\n",
       "      <td>8.062258</td>\n",
       "      <td>1.323483e+85</td>\n",
       "    </tr>\n",
       "    <tr>\n",
       "      <th>1</th>\n",
       "      <td>8.944272</td>\n",
       "      <td>1.000000e+00</td>\n",
       "    </tr>\n",
       "    <tr>\n",
       "      <th>2</th>\n",
       "      <td>8.246211</td>\n",
       "      <td>2.268329e+70</td>\n",
       "    </tr>\n",
       "    <tr>\n",
       "      <th>3</th>\n",
       "      <td>7.745967</td>\n",
       "      <td>1.000000e+00</td>\n",
       "    </tr>\n",
       "    <tr>\n",
       "      <th>4</th>\n",
       "      <td>9.165151</td>\n",
       "      <td>1.007091e+152</td>\n",
       "    </tr>\n",
       "  </tbody>\n",
       "</table>\n",
       "</div>"
      ],
      "text/plain": [
       "   LotFrontage     MasVnrArea\n",
       "0     8.062258   1.323483e+85\n",
       "1     8.944272   1.000000e+00\n",
       "2     8.246211   2.268329e+70\n",
       "3     7.745967   1.000000e+00\n",
       "4     9.165151  1.007091e+152"
      ]
     },
     "execution_count": 45,
     "metadata": {},
     "output_type": "execute_result"
    }
   ],
   "source": [
    "df_num.transform({\n",
    "    'LotFrontage': np.sqrt,\n",
    "    'MasVnrArea': np.exp,\n",
    "}).head()"
   ]
  },
  {
   "cell_type": "code",
   "execution_count": 46,
   "id": "22ed512e",
   "metadata": {},
   "outputs": [
    {
     "data": {
      "text/html": [
       "<div>\n",
       "<style scoped>\n",
       "    .dataframe tbody tr th:only-of-type {\n",
       "        vertical-align: middle;\n",
       "    }\n",
       "\n",
       "    .dataframe tbody tr th {\n",
       "        vertical-align: top;\n",
       "    }\n",
       "\n",
       "    .dataframe thead th {\n",
       "        text-align: right;\n",
       "    }\n",
       "</style>\n",
       "<table border=\"1\" class=\"dataframe\">\n",
       "  <thead>\n",
       "    <tr style=\"text-align: right;\">\n",
       "      <th></th>\n",
       "      <th>LotFrontage</th>\n",
       "      <th>MasVnrArea</th>\n",
       "    </tr>\n",
       "  </thead>\n",
       "  <tbody>\n",
       "    <tr>\n",
       "      <th>0</th>\n",
       "      <td>8.062258</td>\n",
       "      <td>1.323483e+85</td>\n",
       "    </tr>\n",
       "    <tr>\n",
       "      <th>1</th>\n",
       "      <td>8.944272</td>\n",
       "      <td>1.000000e+00</td>\n",
       "    </tr>\n",
       "    <tr>\n",
       "      <th>2</th>\n",
       "      <td>8.246211</td>\n",
       "      <td>2.268329e+70</td>\n",
       "    </tr>\n",
       "    <tr>\n",
       "      <th>3</th>\n",
       "      <td>7.745967</td>\n",
       "      <td>1.000000e+00</td>\n",
       "    </tr>\n",
       "    <tr>\n",
       "      <th>4</th>\n",
       "      <td>9.165151</td>\n",
       "      <td>1.007091e+152</td>\n",
       "    </tr>\n",
       "  </tbody>\n",
       "</table>\n",
       "</div>"
      ],
      "text/plain": [
       "   LotFrontage     MasVnrArea\n",
       "0     8.062258   1.323483e+85\n",
       "1     8.944272   1.000000e+00\n",
       "2     8.246211   2.268329e+70\n",
       "3     7.745967   1.000000e+00\n",
       "4     9.165151  1.007091e+152"
      ]
     },
     "execution_count": 46,
     "metadata": {},
     "output_type": "execute_result"
    }
   ],
   "source": [
    "df_num.apply({\n",
    "    'LotFrontage': np.sqrt,\n",
    "    'MasVnrArea': np.exp,\n",
    "}).head()"
   ]
  },
  {
   "cell_type": "markdown",
   "id": "734682a6",
   "metadata": {},
   "source": [
    "## 4-2 특정함수를 지정해서 처리하기"
   ]
  },
  {
   "cell_type": "markdown",
   "id": "4a18bf7e",
   "metadata": {},
   "source": [
    "### 람다함수로 처리하기 "
   ]
  },
  {
   "cell_type": "code",
   "execution_count": 47,
   "id": "5afdf2ef",
   "metadata": {},
   "outputs": [
    {
     "data": {
      "text/plain": [
       "LotFrontage       8.413000e+04\n",
       "MasVnrArea        1.505510e+05\n",
       "GarageYrBlt       2.728360e+06\n",
       "Pricepersquare    3.076202e+04\n",
       "dtype: float64"
      ]
     },
     "execution_count": 47,
     "metadata": {},
     "output_type": "execute_result"
    }
   ],
   "source": [
    "df_num.apply(lambda x:x.sum())"
   ]
  },
  {
   "cell_type": "markdown",
   "id": "502be7d1",
   "metadata": {},
   "source": [
    "### transform은 데이터프레임단위로 출력해서 예외발생\n",
    "\n",
    "-  "
   ]
  },
  {
   "cell_type": "code",
   "execution_count": 48,
   "id": "c318eea7",
   "metadata": {},
   "outputs": [
    {
     "name": "stdout",
     "output_type": "stream",
     "text": [
      "Function did not transform\n"
     ]
    }
   ],
   "source": [
    "try : \n",
    "    df_num.transform(lambda x:x.sum())\n",
    "except ValueError as e :\n",
    "    print(e)"
   ]
  },
  {
   "cell_type": "code",
   "execution_count": null,
   "id": "4875796a",
   "metadata": {},
   "outputs": [],
   "source": []
  }
 ],
 "metadata": {
  "kernelspec": {
   "display_name": "Python 3 (ipykernel)",
   "language": "python",
   "name": "python3"
  },
  "language_info": {
   "codemirror_mode": {
    "name": "ipython",
    "version": 3
   },
   "file_extension": ".py",
   "mimetype": "text/x-python",
   "name": "python",
   "nbconvert_exporter": "python",
   "pygments_lexer": "ipython3",
   "version": "3.11.3"
  }
 },
 "nbformat": 4,
 "nbformat_minor": 5
}
