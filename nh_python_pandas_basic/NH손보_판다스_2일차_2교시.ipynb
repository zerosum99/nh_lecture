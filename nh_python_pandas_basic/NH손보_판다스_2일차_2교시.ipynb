{
 "cells": [
  {
   "cell_type": "markdown",
   "id": "d1a01adf",
   "metadata": {},
   "source": [
    "# 2. 판다스 기본 함수 처리 "
   ]
  },
  {
   "cell_type": "code",
   "execution_count": null,
   "id": "09d38b47",
   "metadata": {},
   "outputs": [],
   "source": []
  },
  {
   "cell_type": "markdown",
   "id": "fa973bfc",
   "metadata": {},
   "source": [
    "## 2-1 데이터 결합하기"
   ]
  },
  {
   "cell_type": "code",
   "execution_count": null,
   "id": "d74e1c63",
   "metadata": {},
   "outputs": [],
   "source": []
  },
  {
   "cell_type": "code",
   "execution_count": null,
   "id": "778c4f6f",
   "metadata": {},
   "outputs": [],
   "source": []
  },
  {
   "cell_type": "code",
   "execution_count": null,
   "id": "201c8554",
   "metadata": {},
   "outputs": [],
   "source": []
  },
  {
   "cell_type": "markdown",
   "id": "12eba7e9",
   "metadata": {},
   "source": [
    "## 2-2 데이터 그룹화 처리하기 "
   ]
  },
  {
   "cell_type": "code",
   "execution_count": null,
   "id": "96806d94",
   "metadata": {},
   "outputs": [],
   "source": []
  }
 ],
 "metadata": {
  "kernelspec": {
   "display_name": "Python 3 (ipykernel)",
   "language": "python",
   "name": "python3"
  },
  "language_info": {
   "codemirror_mode": {
    "name": "ipython",
    "version": 3
   },
   "file_extension": ".py",
   "mimetype": "text/x-python",
   "name": "python",
   "nbconvert_exporter": "python",
   "pygments_lexer": "ipython3",
   "version": "3.9.15"
  }
 },
 "nbformat": 4,
 "nbformat_minor": 5
}
