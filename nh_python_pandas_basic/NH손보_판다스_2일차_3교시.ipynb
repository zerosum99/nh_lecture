{
 "cells": [
  {
   "cell_type": "code",
   "execution_count": null,
   "id": "36135047",
   "metadata": {},
   "outputs": [],
   "source": []
  },
  {
   "cell_type": "markdown",
   "id": "4eac8389",
   "metadata": {},
   "source": [
    "# 3. 판다스 데이터 전처리 "
   ]
  },
  {
   "cell_type": "code",
   "execution_count": null,
   "id": "ffee85f9",
   "metadata": {},
   "outputs": [],
   "source": []
  },
  {
   "cell_type": "markdown",
   "id": "92c1efd1",
   "metadata": {},
   "source": [
    "## 3-1  널값 처리 "
   ]
  },
  {
   "cell_type": "code",
   "execution_count": null,
   "id": "2b25cb5a",
   "metadata": {},
   "outputs": [],
   "source": []
  },
  {
   "cell_type": "code",
   "execution_count": null,
   "id": "9f74ad9b",
   "metadata": {},
   "outputs": [],
   "source": []
  },
  {
   "cell_type": "code",
   "execution_count": null,
   "id": "b504daa1",
   "metadata": {},
   "outputs": [],
   "source": []
  },
  {
   "cell_type": "markdown",
   "id": "22633a74",
   "metadata": {},
   "source": [
    "## 3-2 문자열 자료 변형하기"
   ]
  },
  {
   "cell_type": "code",
   "execution_count": null,
   "id": "257c1ae4",
   "metadata": {},
   "outputs": [],
   "source": []
  },
  {
   "cell_type": "code",
   "execution_count": null,
   "id": "35ff9c2f",
   "metadata": {},
   "outputs": [],
   "source": []
  },
  {
   "cell_type": "code",
   "execution_count": null,
   "id": "bab74811",
   "metadata": {},
   "outputs": [],
   "source": []
  },
  {
   "cell_type": "markdown",
   "id": "fd5945ca",
   "metadata": {},
   "source": [
    "## 3-3 날짜 자료 변형하기 "
   ]
  },
  {
   "cell_type": "code",
   "execution_count": null,
   "id": "26a060db",
   "metadata": {},
   "outputs": [],
   "source": []
  },
  {
   "cell_type": "code",
   "execution_count": null,
   "id": "0285a042",
   "metadata": {},
   "outputs": [],
   "source": []
  }
 ],
 "metadata": {
  "kernelspec": {
   "display_name": "Python 3 (ipykernel)",
   "language": "python",
   "name": "python3"
  },
  "language_info": {
   "codemirror_mode": {
    "name": "ipython",
    "version": 3
   },
   "file_extension": ".py",
   "mimetype": "text/x-python",
   "name": "python",
   "nbconvert_exporter": "python",
   "pygments_lexer": "ipython3",
   "version": "3.9.15"
  }
 },
 "nbformat": 4,
 "nbformat_minor": 5
}
