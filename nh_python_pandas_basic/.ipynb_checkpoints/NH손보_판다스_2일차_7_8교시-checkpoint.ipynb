{
 "cells": [
  {
   "cell_type": "markdown",
   "id": "e7d3c766",
   "metadata": {},
   "source": [
    "# 4. 판다스 데이터 쿼리 처리 "
   ]
  },
  {
   "cell_type": "markdown",
   "id": "1f0149fe",
   "metadata": {},
   "source": [
    "### 간단한 데이터베이스 사용"
   ]
  },
  {
   "cell_type": "code",
   "execution_count": 1,
   "id": "25c86ec8",
   "metadata": {},
   "outputs": [],
   "source": [
    "import sqlite3"
   ]
  },
  {
   "cell_type": "markdown",
   "id": "df9bf885",
   "metadata": {},
   "source": [
    "### 판다스 모듈 사용"
   ]
  },
  {
   "cell_type": "code",
   "execution_count": 2,
   "id": "2ff7b5c4",
   "metadata": {},
   "outputs": [],
   "source": [
    "import pandas as pd"
   ]
  },
  {
   "cell_type": "markdown",
   "id": "f08bf331",
   "metadata": {},
   "source": [
    "## 4-1 기본 테이블 확인하기 "
   ]
  },
  {
   "cell_type": "markdown",
   "id": "388680e6",
   "metadata": {},
   "source": [
    "### 데이터베이스 경로 지정"
   ]
  },
  {
   "cell_type": "code",
   "execution_count": 3,
   "id": "2f2b7aa7",
   "metadata": {},
   "outputs": [],
   "source": [
    "path = \"../data/beat.db\""
   ]
  },
  {
   "cell_type": "markdown",
   "id": "fa372a3c",
   "metadata": {},
   "source": [
    "### 데이터베이스 컨넥션 생성 "
   ]
  },
  {
   "cell_type": "code",
   "execution_count": 4,
   "id": "8d0d0922",
   "metadata": {},
   "outputs": [],
   "source": [
    "con = sqlite3.connect(path)"
   ]
  },
  {
   "cell_type": "markdown",
   "id": "0c269ee0",
   "metadata": {},
   "source": [
    "### 데이터베이스 내부의 테이블 확인 "
   ]
  },
  {
   "cell_type": "code",
   "execution_count": 5,
   "id": "6657b6e0",
   "metadata": {},
   "outputs": [
    {
     "data": {
      "text/html": [
       "<div>\n",
       "<style scoped>\n",
       "    .dataframe tbody tr th:only-of-type {\n",
       "        vertical-align: middle;\n",
       "    }\n",
       "\n",
       "    .dataframe tbody tr th {\n",
       "        vertical-align: top;\n",
       "    }\n",
       "\n",
       "    .dataframe thead th {\n",
       "        text-align: right;\n",
       "    }\n",
       "</style>\n",
       "<table border=\"1\" class=\"dataframe\">\n",
       "  <thead>\n",
       "    <tr style=\"text-align: right;\">\n",
       "      <th></th>\n",
       "      <th>name</th>\n",
       "    </tr>\n",
       "  </thead>\n",
       "  <tbody>\n",
       "    <tr>\n",
       "      <th>0</th>\n",
       "      <td>Band</td>\n",
       "    </tr>\n",
       "  </tbody>\n",
       "</table>\n",
       "</div>"
      ],
      "text/plain": [
       "   name\n",
       "0  Band"
      ]
     },
     "execution_count": 5,
     "metadata": {},
     "output_type": "execute_result"
    }
   ],
   "source": [
    "pd.read_sql_query(\"SELECT name FROM sqlite_master WHERE type='table';\", con)"
   ]
  },
  {
   "cell_type": "markdown",
   "id": "7d3d42ab",
   "metadata": {},
   "source": [
    "### 테이블 데이터 조회하기 "
   ]
  },
  {
   "cell_type": "code",
   "execution_count": 6,
   "id": "19dc9168",
   "metadata": {},
   "outputs": [
    {
     "data": {
      "text/html": [
       "<div>\n",
       "<style scoped>\n",
       "    .dataframe tbody tr th:only-of-type {\n",
       "        vertical-align: middle;\n",
       "    }\n",
       "\n",
       "    .dataframe tbody tr th {\n",
       "        vertical-align: top;\n",
       "    }\n",
       "\n",
       "    .dataframe thead th {\n",
       "        text-align: right;\n",
       "    }\n",
       "</style>\n",
       "<table border=\"1\" class=\"dataframe\">\n",
       "  <thead>\n",
       "    <tr style=\"text-align: right;\">\n",
       "      <th></th>\n",
       "      <th>id</th>\n",
       "      <th>fname</th>\n",
       "      <th>lname</th>\n",
       "      <th>birthyear</th>\n",
       "    </tr>\n",
       "  </thead>\n",
       "  <tbody>\n",
       "    <tr>\n",
       "      <th>0</th>\n",
       "      <td>0</td>\n",
       "      <td>Paul</td>\n",
       "      <td>McCartney</td>\n",
       "      <td>1942</td>\n",
       "    </tr>\n",
       "    <tr>\n",
       "      <th>1</th>\n",
       "      <td>1</td>\n",
       "      <td>John</td>\n",
       "      <td>Lennon</td>\n",
       "      <td>1940</td>\n",
       "    </tr>\n",
       "  </tbody>\n",
       "</table>\n",
       "</div>"
      ],
      "text/plain": [
       "   id fname      lname  birthyear\n",
       "0   0  Paul  McCartney       1942\n",
       "1   1  John     Lennon       1940"
      ]
     },
     "execution_count": 6,
     "metadata": {},
     "output_type": "execute_result"
    }
   ],
   "source": [
    "pd.read_sql_query(\"SELECT * FROM Band;\", con)"
   ]
  },
  {
   "cell_type": "markdown",
   "id": "f27ffc75",
   "metadata": {},
   "source": [
    "## 4-2 다양한 테이블 확인하기 "
   ]
  },
  {
   "cell_type": "markdown",
   "id": "bb4c07fa",
   "metadata": {},
   "source": [
    "### 데이터베이스 확인 "
   ]
  },
  {
   "cell_type": "code",
   "execution_count": 7,
   "id": "73d42c5f",
   "metadata": {},
   "outputs": [],
   "source": [
    "path1 = \"../data/chinook.db\""
   ]
  },
  {
   "cell_type": "markdown",
   "id": "5c6af8a0",
   "metadata": {},
   "source": [
    "### 데이터베이스 컨넥션"
   ]
  },
  {
   "cell_type": "code",
   "execution_count": 8,
   "id": "e1c440cb",
   "metadata": {},
   "outputs": [],
   "source": [
    "con1 = sqlite3.connect(path1)"
   ]
  },
  {
   "cell_type": "markdown",
   "id": "5027f55f",
   "metadata": {},
   "source": [
    "### 데이터베이스 내의 테이블 확인 "
   ]
  },
  {
   "cell_type": "code",
   "execution_count": 9,
   "id": "afbab77c",
   "metadata": {},
   "outputs": [],
   "source": [
    "df_table = pd.read_sql_query(\"SELECT name FROM sqlite_master WHERE type='table';\", con1)"
   ]
  },
  {
   "cell_type": "code",
   "execution_count": 10,
   "id": "56cc99b6",
   "metadata": {},
   "outputs": [
    {
     "data": {
      "text/html": [
       "<div>\n",
       "<style scoped>\n",
       "    .dataframe tbody tr th:only-of-type {\n",
       "        vertical-align: middle;\n",
       "    }\n",
       "\n",
       "    .dataframe tbody tr th {\n",
       "        vertical-align: top;\n",
       "    }\n",
       "\n",
       "    .dataframe thead th {\n",
       "        text-align: right;\n",
       "    }\n",
       "</style>\n",
       "<table border=\"1\" class=\"dataframe\">\n",
       "  <thead>\n",
       "    <tr style=\"text-align: right;\">\n",
       "      <th></th>\n",
       "      <th>name</th>\n",
       "    </tr>\n",
       "  </thead>\n",
       "  <tbody>\n",
       "    <tr>\n",
       "      <th>0</th>\n",
       "      <td>albums</td>\n",
       "    </tr>\n",
       "    <tr>\n",
       "      <th>1</th>\n",
       "      <td>sqlite_sequence</td>\n",
       "    </tr>\n",
       "    <tr>\n",
       "      <th>2</th>\n",
       "      <td>artists</td>\n",
       "    </tr>\n",
       "    <tr>\n",
       "      <th>3</th>\n",
       "      <td>customers</td>\n",
       "    </tr>\n",
       "    <tr>\n",
       "      <th>4</th>\n",
       "      <td>employees</td>\n",
       "    </tr>\n",
       "    <tr>\n",
       "      <th>5</th>\n",
       "      <td>genres</td>\n",
       "    </tr>\n",
       "    <tr>\n",
       "      <th>6</th>\n",
       "      <td>invoices</td>\n",
       "    </tr>\n",
       "    <tr>\n",
       "      <th>7</th>\n",
       "      <td>invoice_items</td>\n",
       "    </tr>\n",
       "    <tr>\n",
       "      <th>8</th>\n",
       "      <td>media_types</td>\n",
       "    </tr>\n",
       "    <tr>\n",
       "      <th>9</th>\n",
       "      <td>playlists</td>\n",
       "    </tr>\n",
       "    <tr>\n",
       "      <th>10</th>\n",
       "      <td>playlist_track</td>\n",
       "    </tr>\n",
       "    <tr>\n",
       "      <th>11</th>\n",
       "      <td>tracks</td>\n",
       "    </tr>\n",
       "    <tr>\n",
       "      <th>12</th>\n",
       "      <td>sqlite_stat1</td>\n",
       "    </tr>\n",
       "  </tbody>\n",
       "</table>\n",
       "</div>"
      ],
      "text/plain": [
       "               name\n",
       "0            albums\n",
       "1   sqlite_sequence\n",
       "2           artists\n",
       "3         customers\n",
       "4         employees\n",
       "5            genres\n",
       "6          invoices\n",
       "7     invoice_items\n",
       "8       media_types\n",
       "9         playlists\n",
       "10   playlist_track\n",
       "11           tracks\n",
       "12     sqlite_stat1"
      ]
     },
     "execution_count": 10,
     "metadata": {},
     "output_type": "execute_result"
    }
   ],
   "source": [
    "df_table"
   ]
  },
  {
   "cell_type": "markdown",
   "id": "05bd96cf",
   "metadata": {},
   "source": [
    "### 테이블 내의 스키마 정보 확인 "
   ]
  },
  {
   "cell_type": "code",
   "execution_count": 11,
   "id": "1f967e53",
   "metadata": {},
   "outputs": [
    {
     "name": "stdout",
     "output_type": "stream",
     "text": [
      "<class 'pandas.core.frame.DataFrame'>\n",
      "RangeIndex: 347 entries, 0 to 346\n",
      "Data columns (total 3 columns):\n",
      " #   Column    Non-Null Count  Dtype \n",
      "---  ------    --------------  ----- \n",
      " 0   AlbumId   347 non-null    int64 \n",
      " 1   Title     347 non-null    object\n",
      " 2   ArtistId  347 non-null    int64 \n",
      "dtypes: int64(2), object(1)\n",
      "memory usage: 8.3+ KB\n",
      "None\n",
      "========================================\n",
      "<class 'pandas.core.frame.DataFrame'>\n",
      "RangeIndex: 10 entries, 0 to 9\n",
      "Data columns (total 2 columns):\n",
      " #   Column  Non-Null Count  Dtype \n",
      "---  ------  --------------  ----- \n",
      " 0   name    10 non-null     object\n",
      " 1   seq     10 non-null     int64 \n",
      "dtypes: int64(1), object(1)\n",
      "memory usage: 288.0+ bytes\n",
      "None\n",
      "========================================\n",
      "<class 'pandas.core.frame.DataFrame'>\n",
      "RangeIndex: 275 entries, 0 to 274\n",
      "Data columns (total 2 columns):\n",
      " #   Column    Non-Null Count  Dtype \n",
      "---  ------    --------------  ----- \n",
      " 0   ArtistId  275 non-null    int64 \n",
      " 1   Name      275 non-null    object\n",
      "dtypes: int64(1), object(1)\n",
      "memory usage: 4.4+ KB\n",
      "None\n",
      "========================================\n",
      "<class 'pandas.core.frame.DataFrame'>\n",
      "RangeIndex: 59 entries, 0 to 58\n",
      "Data columns (total 13 columns):\n",
      " #   Column        Non-Null Count  Dtype \n",
      "---  ------        --------------  ----- \n",
      " 0   CustomerId    59 non-null     int64 \n",
      " 1   FirstName     59 non-null     object\n",
      " 2   LastName      59 non-null     object\n",
      " 3   Company       10 non-null     object\n",
      " 4   Address       59 non-null     object\n",
      " 5   City          59 non-null     object\n",
      " 6   State         30 non-null     object\n",
      " 7   Country       59 non-null     object\n",
      " 8   PostalCode    55 non-null     object\n",
      " 9   Phone         58 non-null     object\n",
      " 10  Fax           12 non-null     object\n",
      " 11  Email         59 non-null     object\n",
      " 12  SupportRepId  59 non-null     int64 \n",
      "dtypes: int64(2), object(11)\n",
      "memory usage: 6.1+ KB\n",
      "None\n",
      "========================================\n",
      "<class 'pandas.core.frame.DataFrame'>\n",
      "RangeIndex: 8 entries, 0 to 7\n",
      "Data columns (total 15 columns):\n",
      " #   Column      Non-Null Count  Dtype  \n",
      "---  ------      --------------  -----  \n",
      " 0   EmployeeId  8 non-null      int64  \n",
      " 1   LastName    8 non-null      object \n",
      " 2   FirstName   8 non-null      object \n",
      " 3   Title       8 non-null      object \n",
      " 4   ReportsTo   7 non-null      float64\n",
      " 5   BirthDate   8 non-null      object \n",
      " 6   HireDate    8 non-null      object \n",
      " 7   Address     8 non-null      object \n",
      " 8   City        8 non-null      object \n",
      " 9   State       8 non-null      object \n",
      " 10  Country     8 non-null      object \n",
      " 11  PostalCode  8 non-null      object \n",
      " 12  Phone       8 non-null      object \n",
      " 13  Fax         8 non-null      object \n",
      " 14  Email       8 non-null      object \n",
      "dtypes: float64(1), int64(1), object(13)\n",
      "memory usage: 1.1+ KB\n",
      "None\n",
      "========================================\n",
      "<class 'pandas.core.frame.DataFrame'>\n",
      "RangeIndex: 25 entries, 0 to 24\n",
      "Data columns (total 2 columns):\n",
      " #   Column   Non-Null Count  Dtype \n",
      "---  ------   --------------  ----- \n",
      " 0   GenreId  25 non-null     int64 \n",
      " 1   Name     25 non-null     object\n",
      "dtypes: int64(1), object(1)\n",
      "memory usage: 528.0+ bytes\n",
      "None\n",
      "========================================\n",
      "<class 'pandas.core.frame.DataFrame'>\n",
      "RangeIndex: 412 entries, 0 to 411\n",
      "Data columns (total 9 columns):\n",
      " #   Column             Non-Null Count  Dtype  \n",
      "---  ------             --------------  -----  \n",
      " 0   InvoiceId          412 non-null    int64  \n",
      " 1   CustomerId         412 non-null    int64  \n",
      " 2   InvoiceDate        412 non-null    object \n",
      " 3   BillingAddress     412 non-null    object \n",
      " 4   BillingCity        412 non-null    object \n",
      " 5   BillingState       210 non-null    object \n",
      " 6   BillingCountry     412 non-null    object \n",
      " 7   BillingPostalCode  384 non-null    object \n",
      " 8   Total              412 non-null    float64\n",
      "dtypes: float64(1), int64(2), object(6)\n",
      "memory usage: 29.1+ KB\n",
      "None\n",
      "========================================\n",
      "<class 'pandas.core.frame.DataFrame'>\n",
      "RangeIndex: 2240 entries, 0 to 2239\n",
      "Data columns (total 5 columns):\n",
      " #   Column         Non-Null Count  Dtype  \n",
      "---  ------         --------------  -----  \n",
      " 0   InvoiceLineId  2240 non-null   int64  \n",
      " 1   InvoiceId      2240 non-null   int64  \n",
      " 2   TrackId        2240 non-null   int64  \n",
      " 3   UnitPrice      2240 non-null   float64\n",
      " 4   Quantity       2240 non-null   int64  \n",
      "dtypes: float64(1), int64(4)\n",
      "memory usage: 87.6 KB\n",
      "None\n",
      "========================================\n",
      "<class 'pandas.core.frame.DataFrame'>\n",
      "RangeIndex: 5 entries, 0 to 4\n",
      "Data columns (total 2 columns):\n",
      " #   Column       Non-Null Count  Dtype \n",
      "---  ------       --------------  ----- \n",
      " 0   MediaTypeId  5 non-null      int64 \n",
      " 1   Name         5 non-null      object\n",
      "dtypes: int64(1), object(1)\n",
      "memory usage: 208.0+ bytes\n",
      "None\n",
      "========================================\n",
      "<class 'pandas.core.frame.DataFrame'>\n",
      "RangeIndex: 18 entries, 0 to 17\n",
      "Data columns (total 2 columns):\n",
      " #   Column      Non-Null Count  Dtype \n",
      "---  ------      --------------  ----- \n",
      " 0   PlaylistId  18 non-null     int64 \n",
      " 1   Name        18 non-null     object\n",
      "dtypes: int64(1), object(1)\n",
      "memory usage: 416.0+ bytes\n",
      "None\n",
      "========================================\n",
      "<class 'pandas.core.frame.DataFrame'>\n",
      "RangeIndex: 8715 entries, 0 to 8714\n",
      "Data columns (total 2 columns):\n",
      " #   Column      Non-Null Count  Dtype\n",
      "---  ------      --------------  -----\n",
      " 0   PlaylistId  8715 non-null   int64\n",
      " 1   TrackId     8715 non-null   int64\n",
      "dtypes: int64(2)\n",
      "memory usage: 136.3 KB\n",
      "None\n",
      "========================================\n",
      "<class 'pandas.core.frame.DataFrame'>\n",
      "RangeIndex: 3503 entries, 0 to 3502\n",
      "Data columns (total 9 columns):\n",
      " #   Column        Non-Null Count  Dtype  \n",
      "---  ------        --------------  -----  \n",
      " 0   TrackId       3503 non-null   int64  \n",
      " 1   Name          3503 non-null   object \n",
      " 2   AlbumId       3503 non-null   int64  \n",
      " 3   MediaTypeId   3503 non-null   int64  \n",
      " 4   GenreId       3503 non-null   int64  \n",
      " 5   Composer      2525 non-null   object \n",
      " 6   Milliseconds  3503 non-null   int64  \n",
      " 7   Bytes         3503 non-null   int64  \n",
      " 8   UnitPrice     3503 non-null   float64\n",
      "dtypes: float64(1), int64(6), object(2)\n",
      "memory usage: 246.4+ KB\n",
      "None\n",
      "========================================\n",
      "<class 'pandas.core.frame.DataFrame'>\n",
      "RangeIndex: 15 entries, 0 to 14\n",
      "Data columns (total 3 columns):\n",
      " #   Column  Non-Null Count  Dtype \n",
      "---  ------  --------------  ----- \n",
      " 0   tbl     15 non-null     object\n",
      " 1   idx     11 non-null     object\n",
      " 2   stat    15 non-null     object\n",
      "dtypes: object(3)\n",
      "memory usage: 488.0+ bytes\n",
      "None\n",
      "========================================\n"
     ]
    }
   ],
   "source": [
    "for x in df_table['name'] :\n",
    "    df = pd.read_sql_query(f\"SELECT * FROM {x};\", con1)\n",
    "    print(df.info())\n",
    "    print(\"=\"*40)"
   ]
  },
  {
   "cell_type": "code",
   "execution_count": null,
   "id": "a061fff3",
   "metadata": {},
   "outputs": [],
   "source": []
  },
  {
   "cell_type": "markdown",
   "id": "2711f2fb",
   "metadata": {},
   "source": [
    "### 테이블 조회 "
   ]
  },
  {
   "cell_type": "code",
   "execution_count": 12,
   "id": "89821b15",
   "metadata": {},
   "outputs": [],
   "source": [
    "df_albums = pd.read_sql_query(\"SELECT * FROM albums;\", con1)"
   ]
  },
  {
   "cell_type": "code",
   "execution_count": 13,
   "id": "4333f402",
   "metadata": {},
   "outputs": [
    {
     "name": "stdout",
     "output_type": "stream",
     "text": [
      "<class 'pandas.core.frame.DataFrame'>\n",
      "RangeIndex: 347 entries, 0 to 346\n",
      "Data columns (total 3 columns):\n",
      " #   Column    Non-Null Count  Dtype \n",
      "---  ------    --------------  ----- \n",
      " 0   AlbumId   347 non-null    int64 \n",
      " 1   Title     347 non-null    object\n",
      " 2   ArtistId  347 non-null    int64 \n",
      "dtypes: int64(2), object(1)\n",
      "memory usage: 8.3+ KB\n"
     ]
    }
   ],
   "source": [
    "df_albums.info()"
   ]
  },
  {
   "cell_type": "markdown",
   "id": "7669ce69",
   "metadata": {},
   "source": [
    "### 특정 건수를 읽어오기  : sql"
   ]
  },
  {
   "cell_type": "code",
   "execution_count": 14,
   "id": "cb5598fe",
   "metadata": {},
   "outputs": [],
   "source": [
    "sql_1 = \"select * from albums limit 5\""
   ]
  },
  {
   "cell_type": "code",
   "execution_count": 15,
   "id": "ea5f6fde",
   "metadata": {},
   "outputs": [
    {
     "data": {
      "text/html": [
       "<div>\n",
       "<style scoped>\n",
       "    .dataframe tbody tr th:only-of-type {\n",
       "        vertical-align: middle;\n",
       "    }\n",
       "\n",
       "    .dataframe tbody tr th {\n",
       "        vertical-align: top;\n",
       "    }\n",
       "\n",
       "    .dataframe thead th {\n",
       "        text-align: right;\n",
       "    }\n",
       "</style>\n",
       "<table border=\"1\" class=\"dataframe\">\n",
       "  <thead>\n",
       "    <tr style=\"text-align: right;\">\n",
       "      <th></th>\n",
       "      <th>AlbumId</th>\n",
       "      <th>Title</th>\n",
       "      <th>ArtistId</th>\n",
       "    </tr>\n",
       "  </thead>\n",
       "  <tbody>\n",
       "    <tr>\n",
       "      <th>0</th>\n",
       "      <td>1</td>\n",
       "      <td>For Those About To Rock We Salute You</td>\n",
       "      <td>1</td>\n",
       "    </tr>\n",
       "    <tr>\n",
       "      <th>1</th>\n",
       "      <td>2</td>\n",
       "      <td>Balls to the Wall</td>\n",
       "      <td>2</td>\n",
       "    </tr>\n",
       "    <tr>\n",
       "      <th>2</th>\n",
       "      <td>3</td>\n",
       "      <td>Restless and Wild</td>\n",
       "      <td>2</td>\n",
       "    </tr>\n",
       "    <tr>\n",
       "      <th>3</th>\n",
       "      <td>4</td>\n",
       "      <td>Let There Be Rock</td>\n",
       "      <td>1</td>\n",
       "    </tr>\n",
       "    <tr>\n",
       "      <th>4</th>\n",
       "      <td>5</td>\n",
       "      <td>Big Ones</td>\n",
       "      <td>3</td>\n",
       "    </tr>\n",
       "  </tbody>\n",
       "</table>\n",
       "</div>"
      ],
      "text/plain": [
       "   AlbumId                                  Title  ArtistId\n",
       "0        1  For Those About To Rock We Salute You         1\n",
       "1        2                      Balls to the Wall         2\n",
       "2        3                      Restless and Wild         2\n",
       "3        4                      Let There Be Rock         1\n",
       "4        5                               Big Ones         3"
      ]
     },
     "execution_count": 15,
     "metadata": {},
     "output_type": "execute_result"
    }
   ],
   "source": [
    "pd.read_sql_query(sql_1, con1)"
   ]
  },
  {
   "cell_type": "markdown",
   "id": "378b20fe",
   "metadata": {},
   "source": [
    "### 특정 건수를 읽어오기  : pandas 메서드 사용"
   ]
  },
  {
   "cell_type": "code",
   "execution_count": 16,
   "id": "165d9e31",
   "metadata": {},
   "outputs": [
    {
     "data": {
      "text/html": [
       "<div>\n",
       "<style scoped>\n",
       "    .dataframe tbody tr th:only-of-type {\n",
       "        vertical-align: middle;\n",
       "    }\n",
       "\n",
       "    .dataframe tbody tr th {\n",
       "        vertical-align: top;\n",
       "    }\n",
       "\n",
       "    .dataframe thead th {\n",
       "        text-align: right;\n",
       "    }\n",
       "</style>\n",
       "<table border=\"1\" class=\"dataframe\">\n",
       "  <thead>\n",
       "    <tr style=\"text-align: right;\">\n",
       "      <th></th>\n",
       "      <th>AlbumId</th>\n",
       "      <th>Title</th>\n",
       "      <th>ArtistId</th>\n",
       "    </tr>\n",
       "  </thead>\n",
       "  <tbody>\n",
       "    <tr>\n",
       "      <th>0</th>\n",
       "      <td>1</td>\n",
       "      <td>For Those About To Rock We Salute You</td>\n",
       "      <td>1</td>\n",
       "    </tr>\n",
       "    <tr>\n",
       "      <th>1</th>\n",
       "      <td>2</td>\n",
       "      <td>Balls to the Wall</td>\n",
       "      <td>2</td>\n",
       "    </tr>\n",
       "    <tr>\n",
       "      <th>2</th>\n",
       "      <td>3</td>\n",
       "      <td>Restless and Wild</td>\n",
       "      <td>2</td>\n",
       "    </tr>\n",
       "    <tr>\n",
       "      <th>3</th>\n",
       "      <td>4</td>\n",
       "      <td>Let There Be Rock</td>\n",
       "      <td>1</td>\n",
       "    </tr>\n",
       "    <tr>\n",
       "      <th>4</th>\n",
       "      <td>5</td>\n",
       "      <td>Big Ones</td>\n",
       "      <td>3</td>\n",
       "    </tr>\n",
       "  </tbody>\n",
       "</table>\n",
       "</div>"
      ],
      "text/plain": [
       "   AlbumId                                  Title  ArtistId\n",
       "0        1  For Those About To Rock We Salute You         1\n",
       "1        2                      Balls to the Wall         2\n",
       "2        3                      Restless and Wild         2\n",
       "3        4                      Let There Be Rock         1\n",
       "4        5                               Big Ones         3"
      ]
     },
     "execution_count": 16,
     "metadata": {},
     "output_type": "execute_result"
    }
   ],
   "source": [
    "df_albums.head()"
   ]
  },
  {
   "cell_type": "markdown",
   "id": "6e91584f",
   "metadata": {},
   "source": [
    "### 마지막 부분 조회하기 "
   ]
  },
  {
   "cell_type": "code",
   "execution_count": 17,
   "id": "78f50440",
   "metadata": {},
   "outputs": [],
   "source": [
    "sql_2 = \"select * from albums order by AlbumId Desc limit 5\""
   ]
  },
  {
   "cell_type": "code",
   "execution_count": 18,
   "id": "eaf06c55",
   "metadata": {},
   "outputs": [
    {
     "data": {
      "text/html": [
       "<div>\n",
       "<style scoped>\n",
       "    .dataframe tbody tr th:only-of-type {\n",
       "        vertical-align: middle;\n",
       "    }\n",
       "\n",
       "    .dataframe tbody tr th {\n",
       "        vertical-align: top;\n",
       "    }\n",
       "\n",
       "    .dataframe thead th {\n",
       "        text-align: right;\n",
       "    }\n",
       "</style>\n",
       "<table border=\"1\" class=\"dataframe\">\n",
       "  <thead>\n",
       "    <tr style=\"text-align: right;\">\n",
       "      <th></th>\n",
       "      <th>AlbumId</th>\n",
       "      <th>Title</th>\n",
       "      <th>ArtistId</th>\n",
       "    </tr>\n",
       "  </thead>\n",
       "  <tbody>\n",
       "    <tr>\n",
       "      <th>0</th>\n",
       "      <td>347</td>\n",
       "      <td>Koyaanisqatsi (Soundtrack from the Motion Pict...</td>\n",
       "      <td>275</td>\n",
       "    </tr>\n",
       "    <tr>\n",
       "      <th>1</th>\n",
       "      <td>346</td>\n",
       "      <td>Mozart: Chamber Music</td>\n",
       "      <td>274</td>\n",
       "    </tr>\n",
       "    <tr>\n",
       "      <th>2</th>\n",
       "      <td>345</td>\n",
       "      <td>Monteverdi: L'Orfeo</td>\n",
       "      <td>273</td>\n",
       "    </tr>\n",
       "    <tr>\n",
       "      <th>3</th>\n",
       "      <td>344</td>\n",
       "      <td>Schubert: The Late String Quartets &amp; String Qu...</td>\n",
       "      <td>272</td>\n",
       "    </tr>\n",
       "    <tr>\n",
       "      <th>4</th>\n",
       "      <td>343</td>\n",
       "      <td>Respighi:Pines of Rome</td>\n",
       "      <td>226</td>\n",
       "    </tr>\n",
       "  </tbody>\n",
       "</table>\n",
       "</div>"
      ],
      "text/plain": [
       "   AlbumId                                              Title  ArtistId\n",
       "0      347  Koyaanisqatsi (Soundtrack from the Motion Pict...       275\n",
       "1      346                              Mozart: Chamber Music       274\n",
       "2      345                                Monteverdi: L'Orfeo       273\n",
       "3      344  Schubert: The Late String Quartets & String Qu...       272\n",
       "4      343                             Respighi:Pines of Rome       226"
      ]
     },
     "execution_count": 18,
     "metadata": {},
     "output_type": "execute_result"
    }
   ],
   "source": [
    "pd.read_sql_query(sql_2, con1)"
   ]
  },
  {
   "cell_type": "code",
   "execution_count": 19,
   "id": "3c31c93c",
   "metadata": {},
   "outputs": [
    {
     "data": {
      "text/html": [
       "<div>\n",
       "<style scoped>\n",
       "    .dataframe tbody tr th:only-of-type {\n",
       "        vertical-align: middle;\n",
       "    }\n",
       "\n",
       "    .dataframe tbody tr th {\n",
       "        vertical-align: top;\n",
       "    }\n",
       "\n",
       "    .dataframe thead th {\n",
       "        text-align: right;\n",
       "    }\n",
       "</style>\n",
       "<table border=\"1\" class=\"dataframe\">\n",
       "  <thead>\n",
       "    <tr style=\"text-align: right;\">\n",
       "      <th></th>\n",
       "      <th>AlbumId</th>\n",
       "      <th>Title</th>\n",
       "      <th>ArtistId</th>\n",
       "    </tr>\n",
       "  </thead>\n",
       "  <tbody>\n",
       "    <tr>\n",
       "      <th>342</th>\n",
       "      <td>343</td>\n",
       "      <td>Respighi:Pines of Rome</td>\n",
       "      <td>226</td>\n",
       "    </tr>\n",
       "    <tr>\n",
       "      <th>343</th>\n",
       "      <td>344</td>\n",
       "      <td>Schubert: The Late String Quartets &amp; String Qu...</td>\n",
       "      <td>272</td>\n",
       "    </tr>\n",
       "    <tr>\n",
       "      <th>344</th>\n",
       "      <td>345</td>\n",
       "      <td>Monteverdi: L'Orfeo</td>\n",
       "      <td>273</td>\n",
       "    </tr>\n",
       "    <tr>\n",
       "      <th>345</th>\n",
       "      <td>346</td>\n",
       "      <td>Mozart: Chamber Music</td>\n",
       "      <td>274</td>\n",
       "    </tr>\n",
       "    <tr>\n",
       "      <th>346</th>\n",
       "      <td>347</td>\n",
       "      <td>Koyaanisqatsi (Soundtrack from the Motion Pict...</td>\n",
       "      <td>275</td>\n",
       "    </tr>\n",
       "  </tbody>\n",
       "</table>\n",
       "</div>"
      ],
      "text/plain": [
       "     AlbumId                                              Title  ArtistId\n",
       "342      343                             Respighi:Pines of Rome       226\n",
       "343      344  Schubert: The Late String Quartets & String Qu...       272\n",
       "344      345                                Monteverdi: L'Orfeo       273\n",
       "345      346                              Mozart: Chamber Music       274\n",
       "346      347  Koyaanisqatsi (Soundtrack from the Motion Pict...       275"
      ]
     },
     "execution_count": 19,
     "metadata": {},
     "output_type": "execute_result"
    }
   ],
   "source": [
    "df_albums.tail()"
   ]
  },
  {
   "cell_type": "markdown",
   "id": "ae4d34cb",
   "metadata": {},
   "source": [
    "### 다른 테이블 조회"
   ]
  },
  {
   "cell_type": "code",
   "execution_count": 20,
   "id": "d5672ee3",
   "metadata": {},
   "outputs": [],
   "source": [
    "df_artists = pd.read_sql_query(\"SELECT * FROM artists;\", con1)"
   ]
  },
  {
   "cell_type": "code",
   "execution_count": 21,
   "id": "4cb9d71c",
   "metadata": {},
   "outputs": [
    {
     "data": {
      "text/html": [
       "<div>\n",
       "<style scoped>\n",
       "    .dataframe tbody tr th:only-of-type {\n",
       "        vertical-align: middle;\n",
       "    }\n",
       "\n",
       "    .dataframe tbody tr th {\n",
       "        vertical-align: top;\n",
       "    }\n",
       "\n",
       "    .dataframe thead th {\n",
       "        text-align: right;\n",
       "    }\n",
       "</style>\n",
       "<table border=\"1\" class=\"dataframe\">\n",
       "  <thead>\n",
       "    <tr style=\"text-align: right;\">\n",
       "      <th></th>\n",
       "      <th>ArtistId</th>\n",
       "      <th>Name</th>\n",
       "    </tr>\n",
       "  </thead>\n",
       "  <tbody>\n",
       "    <tr>\n",
       "      <th>0</th>\n",
       "      <td>1</td>\n",
       "      <td>AC/DC</td>\n",
       "    </tr>\n",
       "    <tr>\n",
       "      <th>1</th>\n",
       "      <td>2</td>\n",
       "      <td>Accept</td>\n",
       "    </tr>\n",
       "    <tr>\n",
       "      <th>2</th>\n",
       "      <td>3</td>\n",
       "      <td>Aerosmith</td>\n",
       "    </tr>\n",
       "    <tr>\n",
       "      <th>3</th>\n",
       "      <td>4</td>\n",
       "      <td>Alanis Morissette</td>\n",
       "    </tr>\n",
       "    <tr>\n",
       "      <th>4</th>\n",
       "      <td>5</td>\n",
       "      <td>Alice In Chains</td>\n",
       "    </tr>\n",
       "  </tbody>\n",
       "</table>\n",
       "</div>"
      ],
      "text/plain": [
       "   ArtistId               Name\n",
       "0         1              AC/DC\n",
       "1         2             Accept\n",
       "2         3          Aerosmith\n",
       "3         4  Alanis Morissette\n",
       "4         5    Alice In Chains"
      ]
     },
     "execution_count": 21,
     "metadata": {},
     "output_type": "execute_result"
    }
   ],
   "source": [
    "df_artists.head()"
   ]
  },
  {
   "cell_type": "code",
   "execution_count": null,
   "id": "41513ecf",
   "metadata": {},
   "outputs": [],
   "source": []
  },
  {
   "cell_type": "markdown",
   "id": "f6339d2e",
   "metadata": {},
   "source": [
    "## 4-3 데이터 조인 처리 \n",
    "\n",
    "-  두 테이블을 결합해서 하나의 테이블로 처리\n",
    "- 특정 키 값이 같아야 한다. "
   ]
  },
  {
   "cell_type": "markdown",
   "id": "d0339a7b",
   "metadata": {},
   "source": [
    "### 조인쿼리 만들기 : from과 where절 사용 처리"
   ]
  },
  {
   "cell_type": "code",
   "execution_count": 22,
   "id": "0536e768",
   "metadata": {},
   "outputs": [],
   "source": [
    "sql_j01 = \"\"\"\n",
    "select AlbumId,Title, al.ArtistId, Name \n",
    "from albums as al, artists as ar \n",
    "where al.ArtistId = ar.ArtistId;\n",
    "\"\"\""
   ]
  },
  {
   "cell_type": "markdown",
   "id": "cffdf964",
   "metadata": {},
   "source": [
    "### 쿼리 실행하기"
   ]
  },
  {
   "cell_type": "code",
   "execution_count": 23,
   "id": "ebcd8d69",
   "metadata": {},
   "outputs": [],
   "source": [
    "df_join = pd.read_sql_query(sql_j01, con1)"
   ]
  },
  {
   "cell_type": "code",
   "execution_count": 24,
   "id": "1ebc2f3f",
   "metadata": {},
   "outputs": [
    {
     "data": {
      "text/plain": [
       "(347, 4)"
      ]
     },
     "execution_count": 24,
     "metadata": {},
     "output_type": "execute_result"
    }
   ],
   "source": [
    "df_join.shape"
   ]
  },
  {
   "cell_type": "code",
   "execution_count": 25,
   "id": "5597b1c2",
   "metadata": {},
   "outputs": [
    {
     "data": {
      "text/html": [
       "<div>\n",
       "<style scoped>\n",
       "    .dataframe tbody tr th:only-of-type {\n",
       "        vertical-align: middle;\n",
       "    }\n",
       "\n",
       "    .dataframe tbody tr th {\n",
       "        vertical-align: top;\n",
       "    }\n",
       "\n",
       "    .dataframe thead th {\n",
       "        text-align: right;\n",
       "    }\n",
       "</style>\n",
       "<table border=\"1\" class=\"dataframe\">\n",
       "  <thead>\n",
       "    <tr style=\"text-align: right;\">\n",
       "      <th></th>\n",
       "      <th>AlbumId</th>\n",
       "      <th>Title</th>\n",
       "      <th>ArtistId</th>\n",
       "      <th>Name</th>\n",
       "    </tr>\n",
       "  </thead>\n",
       "  <tbody>\n",
       "    <tr>\n",
       "      <th>0</th>\n",
       "      <td>1</td>\n",
       "      <td>For Those About To Rock We Salute You</td>\n",
       "      <td>1</td>\n",
       "      <td>AC/DC</td>\n",
       "    </tr>\n",
       "    <tr>\n",
       "      <th>1</th>\n",
       "      <td>2</td>\n",
       "      <td>Balls to the Wall</td>\n",
       "      <td>2</td>\n",
       "      <td>Accept</td>\n",
       "    </tr>\n",
       "    <tr>\n",
       "      <th>2</th>\n",
       "      <td>3</td>\n",
       "      <td>Restless and Wild</td>\n",
       "      <td>2</td>\n",
       "      <td>Accept</td>\n",
       "    </tr>\n",
       "    <tr>\n",
       "      <th>3</th>\n",
       "      <td>4</td>\n",
       "      <td>Let There Be Rock</td>\n",
       "      <td>1</td>\n",
       "      <td>AC/DC</td>\n",
       "    </tr>\n",
       "    <tr>\n",
       "      <th>4</th>\n",
       "      <td>5</td>\n",
       "      <td>Big Ones</td>\n",
       "      <td>3</td>\n",
       "      <td>Aerosmith</td>\n",
       "    </tr>\n",
       "  </tbody>\n",
       "</table>\n",
       "</div>"
      ],
      "text/plain": [
       "   AlbumId                                  Title  ArtistId       Name\n",
       "0        1  For Those About To Rock We Salute You         1      AC/DC\n",
       "1        2                      Balls to the Wall         2     Accept\n",
       "2        3                      Restless and Wild         2     Accept\n",
       "3        4                      Let There Be Rock         1      AC/DC\n",
       "4        5                               Big Ones         3  Aerosmith"
      ]
     },
     "execution_count": 25,
     "metadata": {},
     "output_type": "execute_result"
    }
   ],
   "source": [
    "df_join.head()"
   ]
  },
  {
   "cell_type": "markdown",
   "id": "f690285b",
   "metadata": {},
   "source": [
    "### 조인하기 : join 쿼리 사용하기"
   ]
  },
  {
   "cell_type": "code",
   "execution_count": 26,
   "id": "8ca26b5b",
   "metadata": {},
   "outputs": [],
   "source": [
    "sql_j02 = \"\"\"\n",
    "select AlbumId,Title, al.ArtistId, Name \n",
    "from albums as al\n",
    "inner join artists as ar\n",
    "on al.ArtistId = ar.ArtistId;\n",
    "\"\"\""
   ]
  },
  {
   "cell_type": "code",
   "execution_count": 27,
   "id": "e10e154d",
   "metadata": {},
   "outputs": [],
   "source": [
    "df_join_02 = pd.read_sql_query(sql_j02, con1)"
   ]
  },
  {
   "cell_type": "code",
   "execution_count": 28,
   "id": "5a517ec5",
   "metadata": {},
   "outputs": [
    {
     "data": {
      "text/html": [
       "<div>\n",
       "<style scoped>\n",
       "    .dataframe tbody tr th:only-of-type {\n",
       "        vertical-align: middle;\n",
       "    }\n",
       "\n",
       "    .dataframe tbody tr th {\n",
       "        vertical-align: top;\n",
       "    }\n",
       "\n",
       "    .dataframe thead th {\n",
       "        text-align: right;\n",
       "    }\n",
       "</style>\n",
       "<table border=\"1\" class=\"dataframe\">\n",
       "  <thead>\n",
       "    <tr style=\"text-align: right;\">\n",
       "      <th></th>\n",
       "      <th>AlbumId</th>\n",
       "      <th>Title</th>\n",
       "      <th>ArtistId</th>\n",
       "      <th>Name</th>\n",
       "    </tr>\n",
       "  </thead>\n",
       "  <tbody>\n",
       "    <tr>\n",
       "      <th>0</th>\n",
       "      <td>1</td>\n",
       "      <td>For Those About To Rock We Salute You</td>\n",
       "      <td>1</td>\n",
       "      <td>AC/DC</td>\n",
       "    </tr>\n",
       "    <tr>\n",
       "      <th>1</th>\n",
       "      <td>2</td>\n",
       "      <td>Balls to the Wall</td>\n",
       "      <td>2</td>\n",
       "      <td>Accept</td>\n",
       "    </tr>\n",
       "    <tr>\n",
       "      <th>2</th>\n",
       "      <td>3</td>\n",
       "      <td>Restless and Wild</td>\n",
       "      <td>2</td>\n",
       "      <td>Accept</td>\n",
       "    </tr>\n",
       "    <tr>\n",
       "      <th>3</th>\n",
       "      <td>4</td>\n",
       "      <td>Let There Be Rock</td>\n",
       "      <td>1</td>\n",
       "      <td>AC/DC</td>\n",
       "    </tr>\n",
       "    <tr>\n",
       "      <th>4</th>\n",
       "      <td>5</td>\n",
       "      <td>Big Ones</td>\n",
       "      <td>3</td>\n",
       "      <td>Aerosmith</td>\n",
       "    </tr>\n",
       "  </tbody>\n",
       "</table>\n",
       "</div>"
      ],
      "text/plain": [
       "   AlbumId                                  Title  ArtistId       Name\n",
       "0        1  For Those About To Rock We Salute You         1      AC/DC\n",
       "1        2                      Balls to the Wall         2     Accept\n",
       "2        3                      Restless and Wild         2     Accept\n",
       "3        4                      Let There Be Rock         1      AC/DC\n",
       "4        5                               Big Ones         3  Aerosmith"
      ]
     },
     "execution_count": 28,
     "metadata": {},
     "output_type": "execute_result"
    }
   ],
   "source": [
    "df_join_02.head()"
   ]
  },
  {
   "cell_type": "code",
   "execution_count": null,
   "id": "fec3e571",
   "metadata": {},
   "outputs": [],
   "source": []
  },
  {
   "cell_type": "markdown",
   "id": "b101a6fd",
   "metadata": {},
   "source": [
    "## 4-4 서브쿼리 사용하기"
   ]
  },
  {
   "cell_type": "markdown",
   "id": "693e7063",
   "metadata": {},
   "source": [
    "### 위드구분으로 서브퀄를 만들고 사용하기"
   ]
  },
  {
   "cell_type": "code",
   "execution_count": 29,
   "id": "28cc8e52",
   "metadata": {},
   "outputs": [],
   "source": [
    "sql_with = \"\"\"\n",
    "With cte as\n",
    "(SELECT * from Artists )\n",
    "Select name from cte\n",
    "\"\"\""
   ]
  },
  {
   "cell_type": "code",
   "execution_count": 30,
   "id": "32c7ca89",
   "metadata": {},
   "outputs": [
    {
     "data": {
      "text/html": [
       "<div>\n",
       "<style scoped>\n",
       "    .dataframe tbody tr th:only-of-type {\n",
       "        vertical-align: middle;\n",
       "    }\n",
       "\n",
       "    .dataframe tbody tr th {\n",
       "        vertical-align: top;\n",
       "    }\n",
       "\n",
       "    .dataframe thead th {\n",
       "        text-align: right;\n",
       "    }\n",
       "</style>\n",
       "<table border=\"1\" class=\"dataframe\">\n",
       "  <thead>\n",
       "    <tr style=\"text-align: right;\">\n",
       "      <th></th>\n",
       "      <th>Name</th>\n",
       "    </tr>\n",
       "  </thead>\n",
       "  <tbody>\n",
       "    <tr>\n",
       "      <th>0</th>\n",
       "      <td>AC/DC</td>\n",
       "    </tr>\n",
       "    <tr>\n",
       "      <th>1</th>\n",
       "      <td>Accept</td>\n",
       "    </tr>\n",
       "    <tr>\n",
       "      <th>2</th>\n",
       "      <td>Aerosmith</td>\n",
       "    </tr>\n",
       "    <tr>\n",
       "      <th>3</th>\n",
       "      <td>Alanis Morissette</td>\n",
       "    </tr>\n",
       "    <tr>\n",
       "      <th>4</th>\n",
       "      <td>Alice In Chains</td>\n",
       "    </tr>\n",
       "    <tr>\n",
       "      <th>...</th>\n",
       "      <td>...</td>\n",
       "    </tr>\n",
       "    <tr>\n",
       "      <th>270</th>\n",
       "      <td>Mela Tenenbaum, Pro Musica Prague &amp; Richard Kapp</td>\n",
       "    </tr>\n",
       "    <tr>\n",
       "      <th>271</th>\n",
       "      <td>Emerson String Quartet</td>\n",
       "    </tr>\n",
       "    <tr>\n",
       "      <th>272</th>\n",
       "      <td>C. Monteverdi, Nigel Rogers - Chiaroscuro; Lon...</td>\n",
       "    </tr>\n",
       "    <tr>\n",
       "      <th>273</th>\n",
       "      <td>Nash Ensemble</td>\n",
       "    </tr>\n",
       "    <tr>\n",
       "      <th>274</th>\n",
       "      <td>Philip Glass Ensemble</td>\n",
       "    </tr>\n",
       "  </tbody>\n",
       "</table>\n",
       "<p>275 rows × 1 columns</p>\n",
       "</div>"
      ],
      "text/plain": [
       "                                                  Name\n",
       "0                                                AC/DC\n",
       "1                                               Accept\n",
       "2                                            Aerosmith\n",
       "3                                    Alanis Morissette\n",
       "4                                      Alice In Chains\n",
       "..                                                 ...\n",
       "270   Mela Tenenbaum, Pro Musica Prague & Richard Kapp\n",
       "271                             Emerson String Quartet\n",
       "272  C. Monteverdi, Nigel Rogers - Chiaroscuro; Lon...\n",
       "273                                      Nash Ensemble\n",
       "274                              Philip Glass Ensemble\n",
       "\n",
       "[275 rows x 1 columns]"
      ]
     },
     "execution_count": 30,
     "metadata": {},
     "output_type": "execute_result"
    }
   ],
   "source": [
    "pd.read_sql_query(sql_with, con1)"
   ]
  },
  {
   "cell_type": "code",
   "execution_count": null,
   "id": "e34103e7",
   "metadata": {},
   "outputs": [],
   "source": []
  },
  {
   "cell_type": "code",
   "execution_count": 31,
   "id": "9ce28512",
   "metadata": {},
   "outputs": [],
   "source": [
    "### 서브 쿼리를 만들어서 처리하기 "
   ]
  },
  {
   "cell_type": "code",
   "execution_count": 32,
   "id": "0ede890d",
   "metadata": {},
   "outputs": [],
   "source": [
    "sql_sub = \"\"\"\n",
    "SELECT * FROM\n",
    "(SELECT * FROM Artists) AS Art \n",
    "ORDER BY 1 DESC\n",
    "\"\"\""
   ]
  },
  {
   "cell_type": "code",
   "execution_count": 33,
   "id": "29ac076a",
   "metadata": {},
   "outputs": [
    {
     "data": {
      "text/html": [
       "<div>\n",
       "<style scoped>\n",
       "    .dataframe tbody tr th:only-of-type {\n",
       "        vertical-align: middle;\n",
       "    }\n",
       "\n",
       "    .dataframe tbody tr th {\n",
       "        vertical-align: top;\n",
       "    }\n",
       "\n",
       "    .dataframe thead th {\n",
       "        text-align: right;\n",
       "    }\n",
       "</style>\n",
       "<table border=\"1\" class=\"dataframe\">\n",
       "  <thead>\n",
       "    <tr style=\"text-align: right;\">\n",
       "      <th></th>\n",
       "      <th>ArtistId</th>\n",
       "      <th>Name</th>\n",
       "    </tr>\n",
       "  </thead>\n",
       "  <tbody>\n",
       "    <tr>\n",
       "      <th>0</th>\n",
       "      <td>275</td>\n",
       "      <td>Philip Glass Ensemble</td>\n",
       "    </tr>\n",
       "    <tr>\n",
       "      <th>1</th>\n",
       "      <td>274</td>\n",
       "      <td>Nash Ensemble</td>\n",
       "    </tr>\n",
       "    <tr>\n",
       "      <th>2</th>\n",
       "      <td>273</td>\n",
       "      <td>C. Monteverdi, Nigel Rogers - Chiaroscuro; Lon...</td>\n",
       "    </tr>\n",
       "    <tr>\n",
       "      <th>3</th>\n",
       "      <td>272</td>\n",
       "      <td>Emerson String Quartet</td>\n",
       "    </tr>\n",
       "    <tr>\n",
       "      <th>4</th>\n",
       "      <td>271</td>\n",
       "      <td>Mela Tenenbaum, Pro Musica Prague &amp; Richard Kapp</td>\n",
       "    </tr>\n",
       "    <tr>\n",
       "      <th>...</th>\n",
       "      <td>...</td>\n",
       "      <td>...</td>\n",
       "    </tr>\n",
       "    <tr>\n",
       "      <th>270</th>\n",
       "      <td>5</td>\n",
       "      <td>Alice In Chains</td>\n",
       "    </tr>\n",
       "    <tr>\n",
       "      <th>271</th>\n",
       "      <td>4</td>\n",
       "      <td>Alanis Morissette</td>\n",
       "    </tr>\n",
       "    <tr>\n",
       "      <th>272</th>\n",
       "      <td>3</td>\n",
       "      <td>Aerosmith</td>\n",
       "    </tr>\n",
       "    <tr>\n",
       "      <th>273</th>\n",
       "      <td>2</td>\n",
       "      <td>Accept</td>\n",
       "    </tr>\n",
       "    <tr>\n",
       "      <th>274</th>\n",
       "      <td>1</td>\n",
       "      <td>AC/DC</td>\n",
       "    </tr>\n",
       "  </tbody>\n",
       "</table>\n",
       "<p>275 rows × 2 columns</p>\n",
       "</div>"
      ],
      "text/plain": [
       "     ArtistId                                               Name\n",
       "0         275                              Philip Glass Ensemble\n",
       "1         274                                      Nash Ensemble\n",
       "2         273  C. Monteverdi, Nigel Rogers - Chiaroscuro; Lon...\n",
       "3         272                             Emerson String Quartet\n",
       "4         271   Mela Tenenbaum, Pro Musica Prague & Richard Kapp\n",
       "..        ...                                                ...\n",
       "270         5                                    Alice In Chains\n",
       "271         4                                  Alanis Morissette\n",
       "272         3                                          Aerosmith\n",
       "273         2                                             Accept\n",
       "274         1                                              AC/DC\n",
       "\n",
       "[275 rows x 2 columns]"
      ]
     },
     "execution_count": 33,
     "metadata": {},
     "output_type": "execute_result"
    }
   ],
   "source": [
    "pd.read_sql_query(sql_sub, con1)"
   ]
  },
  {
   "cell_type": "code",
   "execution_count": null,
   "id": "89c2a10c",
   "metadata": {},
   "outputs": [],
   "source": []
  }
 ],
 "metadata": {
  "kernelspec": {
   "display_name": "Python 3 (ipykernel)",
   "language": "python",
   "name": "python3"
  },
  "language_info": {
   "codemirror_mode": {
    "name": "ipython",
    "version": 3
   },
   "file_extension": ".py",
   "mimetype": "text/x-python",
   "name": "python",
   "nbconvert_exporter": "python",
   "pygments_lexer": "ipython3",
   "version": "3.9.15"
  }
 },
 "nbformat": 4,
 "nbformat_minor": 5
}
