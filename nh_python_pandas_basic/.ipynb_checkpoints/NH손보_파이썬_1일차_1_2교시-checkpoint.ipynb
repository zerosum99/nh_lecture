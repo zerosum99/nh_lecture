{
 "cells": [
  {
   "cell_type": "code",
   "execution_count": null,
   "id": "128cf736",
   "metadata": {},
   "outputs": [],
   "source": []
  },
  {
   "cell_type": "markdown",
   "id": "2bc8ab43",
   "metadata": {},
   "source": [
    "# 1. 파이썬 리터럴, 변수 처리 "
   ]
  },
  {
   "cell_type": "markdown",
   "id": "88366a3f",
   "metadata": {},
   "source": [
    "## 1-1 리터럴(literal)은 값(value) \n",
    "\n",
    "- 리터럴은 하나의 값을 표시하는 값(value)를 의미\n",
    "- 보통 프로그램 언어에서 숫자, 문자열, 불리언 등에 대해서는 일반적으로 별도의 생성절차없이 작성하는 것만으로 값으로 처리한다. "
   ]
  },
  {
   "cell_type": "markdown",
   "id": "3f71fec4",
   "metadata": {},
   "source": [
    "## 1-1-1  일반적인 리터럴 표기\n",
    "\n",
    "- 리터럴은 한번만 사용이 가능\n"
   ]
  },
  {
   "cell_type": "markdown",
   "id": "566909c1",
   "metadata": {},
   "source": [
    "### 리터럴 사용하는 이유\n",
    "\n",
    "- 숫자, 문자 등 프로그램 언어에서 제공하는 기본적인 값을 클래스로 객체 생성해서 처리하는 것보다 직접 값으로 처리 "
   ]
  },
  {
   "cell_type": "code",
   "execution_count": 1,
   "id": "536a0a26",
   "metadata": {},
   "outputs": [
    {
     "data": {
      "text/plain": [
       "100"
      ]
     },
     "execution_count": 1,
     "metadata": {},
     "output_type": "execute_result"
    }
   ],
   "source": [
    "100         # 정수 리터럴 "
   ]
  },
  {
   "cell_type": "code",
   "execution_count": 2,
   "id": "eed8bc00",
   "metadata": {},
   "outputs": [
    {
     "data": {
      "text/plain": [
       "100.33"
      ]
     },
     "execution_count": 2,
     "metadata": {},
     "output_type": "execute_result"
    }
   ],
   "source": [
    "100.33      # 실수 리터럴"
   ]
  },
  {
   "cell_type": "code",
   "execution_count": 3,
   "id": "03040841",
   "metadata": {},
   "outputs": [
    {
     "data": {
      "text/plain": [
       "'문자열'"
      ]
     },
     "execution_count": 3,
     "metadata": {},
     "output_type": "execute_result"
    }
   ],
   "source": [
    "\"문자열\"      # 문자열 리터럴"
   ]
  },
  {
   "cell_type": "code",
   "execution_count": 4,
   "id": "00b9d45c",
   "metadata": {},
   "outputs": [
    {
     "data": {
      "text/plain": [
       "True"
      ]
     },
     "execution_count": 4,
     "metadata": {},
     "output_type": "execute_result"
    }
   ],
   "source": [
    "True         # 불리언 "
   ]
  },
  {
   "cell_type": "code",
   "execution_count": null,
   "id": "9718acde",
   "metadata": {},
   "outputs": [],
   "source": []
  },
  {
   "cell_type": "markdown",
   "id": "9dd6b8d0",
   "metadata": {},
   "source": [
    "## 1-1-2  내장 자료형도 기본적으로 리터럴로 사용이 가능\n",
    "\n",
    "- 튜플, 리스트, 딕셔너리 등도 리터럴 표기법으로 객체를 생성 "
   ]
  },
  {
   "cell_type": "code",
   "execution_count": 5,
   "id": "a0959b59",
   "metadata": {},
   "outputs": [
    {
     "data": {
      "text/plain": [
       "[]"
      ]
     },
     "execution_count": 5,
     "metadata": {},
     "output_type": "execute_result"
    }
   ],
   "source": [
    "[]                   # 빈 리스트"
   ]
  },
  {
   "cell_type": "code",
   "execution_count": 6,
   "id": "3e03e53e",
   "metadata": {},
   "outputs": [
    {
     "data": {
      "text/plain": [
       "[1, 2, 3, 4]"
      ]
     },
     "execution_count": 6,
     "metadata": {},
     "output_type": "execute_result"
    }
   ],
   "source": [
    "[1,2,3,4]            # 요소를 가진 리스트 "
   ]
  },
  {
   "cell_type": "code",
   "execution_count": 7,
   "id": "8d46b17e",
   "metadata": {},
   "outputs": [
    {
     "data": {
      "text/plain": [
       "()"
      ]
     },
     "execution_count": 7,
     "metadata": {},
     "output_type": "execute_result"
    }
   ],
   "source": [
    "()                   # 빈 튜플"
   ]
  },
  {
   "cell_type": "code",
   "execution_count": 8,
   "id": "d73cdb98",
   "metadata": {},
   "outputs": [
    {
     "data": {
      "text/plain": [
       "{1: 2, 2: 2, 3: 3}"
      ]
     },
     "execution_count": 8,
     "metadata": {},
     "output_type": "execute_result"
    }
   ],
   "source": [
    "{1:2, 2:2, 3:3 }     # 요소를 가지는 딕셔너리"
   ]
  },
  {
   "cell_type": "code",
   "execution_count": null,
   "id": "99199301",
   "metadata": {},
   "outputs": [],
   "source": []
  },
  {
   "cell_type": "markdown",
   "id": "c867ee7f",
   "metadata": {},
   "source": [
    "## 1-1-3 리터럴의 자료형 알아보기 \n",
    "\n",
    "- 파이썬은 모든 리터럴 즉 값은 객체이다.\n",
    "- 그래서 객체의 자료형은 모두 클래스이다. "
   ]
  },
  {
   "cell_type": "markdown",
   "id": "1894c21f",
   "metadata": {},
   "source": [
    "### type 사용해서 자료형 확인"
   ]
  },
  {
   "cell_type": "code",
   "execution_count": 9,
   "id": "b8a23305",
   "metadata": {},
   "outputs": [
    {
     "data": {
      "text/plain": [
       "int"
      ]
     },
     "execution_count": 9,
     "metadata": {},
     "output_type": "execute_result"
    }
   ],
   "source": [
    "type(100)                     # 정수 리터럴을 넣고 자료형을 확인 "
   ]
  },
  {
   "cell_type": "markdown",
   "id": "a386866d",
   "metadata": {},
   "source": [
    "### __class__ 속성으로 확인"
   ]
  },
  {
   "cell_type": "code",
   "execution_count": 10,
   "id": "7a6f1580",
   "metadata": {},
   "outputs": [
    {
     "data": {
      "text/plain": [
       "int"
      ]
     },
     "execution_count": 10,
     "metadata": {},
     "output_type": "execute_result"
    }
   ],
   "source": [
    "(100).__class__                # 모든 리터럴은 객체이다. 그래서 자기를 만든 클래스를 확인이 가능하다\n",
    "                               # __class__ 속성으로 해당 객체를 만든 클래스를 알 수 있다."
   ]
  },
  {
   "cell_type": "code",
   "execution_count": 11,
   "id": "71c2a444",
   "metadata": {},
   "outputs": [
    {
     "data": {
      "text/plain": [
       "float"
      ]
     },
     "execution_count": 11,
     "metadata": {},
     "output_type": "execute_result"
    }
   ],
   "source": [
    "(100.2).__class__              # 실수에 대한 자료형을 알아보기 "
   ]
  },
  {
   "cell_type": "code",
   "execution_count": 12,
   "id": "0e709b2d",
   "metadata": {},
   "outputs": [
    {
     "data": {
      "text/plain": [
       "dict"
      ]
     },
     "execution_count": 12,
     "metadata": {},
     "output_type": "execute_result"
    }
   ],
   "source": [
    "{1:2, 2:2, 3:3 }.__class__     # 딕셔너리에 대한 자료형 알아보기"
   ]
  },
  {
   "cell_type": "code",
   "execution_count": null,
   "id": "f2816e01",
   "metadata": {},
   "outputs": [],
   "source": []
  },
  {
   "cell_type": "markdown",
   "id": "c2045af4",
   "metadata": {},
   "source": [
    "## 1-2 변수는 이름이다. \n",
    "\n",
    "- 변수(variable)은 실제 리터럴인 값을 재활용하는 이름이다. \n",
    "- 그래서 값을 재사용하기 위해서 변수를 구분해서 사용한다.\n",
    "- 이렇게 식별해서 관리하는 이름을 식별자라고 한다. "
   ]
  },
  {
   "cell_type": "markdown",
   "id": "d93d997c",
   "metadata": {},
   "source": [
    "## 1-2-1 변수는 리터럴 등 값을 관리하는 이름 \n",
    "\n",
    "- 변수를 정의할 때는 항상 값이 할당되어야 한다.\n",
    "- 할당연산자(배정연산자) = 의 좌측에는 변수명을 사용하고 우측은 값을 작성한다."
   ]
  },
  {
   "cell_type": "markdown",
   "id": "9438a199",
   "metadata": {},
   "source": [
    "### 한글로 변수이름 정의"
   ]
  },
  {
   "cell_type": "code",
   "execution_count": 13,
   "id": "0ff759fc",
   "metadata": {},
   "outputs": [],
   "source": [
    "정수변수 = 100\n",
    "실수변수 = 100.23"
   ]
  },
  {
   "cell_type": "markdown",
   "id": "ca9b8d38",
   "metadata": {},
   "source": [
    "### 영어로 변수이름 정의 "
   ]
  },
  {
   "cell_type": "code",
   "execution_count": 14,
   "id": "eec24dfa",
   "metadata": {},
   "outputs": [],
   "source": [
    "x = 100\n",
    "f = 100.23"
   ]
  },
  {
   "cell_type": "code",
   "execution_count": null,
   "id": "46121c23",
   "metadata": {},
   "outputs": [],
   "source": []
  },
  {
   "cell_type": "markdown",
   "id": "c570e082",
   "metadata": {},
   "source": [
    "## 1-2-2 변수 이름 정의하기 \n",
    "\n",
    "- 첫번째는 항상 문자나 밑줄(_)로 지정한다.\n",
    "- 영어를 보통 사용하므로 변수는 소문자로 처리한다.\n",
    "- 영어 단어가 연결될 경우 두 번째 단어는 대문자로 시작한다. "
   ]
  },
  {
   "cell_type": "code",
   "execution_count": 15,
   "id": "1d5cab88",
   "metadata": {},
   "outputs": [],
   "source": [
    "name = \"이름\"              # 한단어 변수 "
   ]
  },
  {
   "cell_type": "code",
   "execution_count": 16,
   "id": "761aabe9",
   "metadata": {},
   "outputs": [],
   "source": [
    "accountNumber = 1234      # 두단어 변수 "
   ]
  },
  {
   "cell_type": "code",
   "execution_count": 17,
   "id": "35e9f8f9",
   "metadata": {},
   "outputs": [],
   "source": [
    "_age = 33                 # 밑줄을 사용하는 변수 "
   ]
  },
  {
   "cell_type": "code",
   "execution_count": 18,
   "id": "bdb0e5a1",
   "metadata": {},
   "outputs": [],
   "source": [
    "# 123age = 30             # SyntaxError: invalid syntax\n"
   ]
  },
  {
   "cell_type": "markdown",
   "id": "96d49545",
   "metadata": {},
   "source": [
    "## 1-3 표현식 \n",
    "\n",
    "- 수학의 수식을 표현식(expression)이라고 함"
   ]
  },
  {
   "cell_type": "markdown",
   "id": "3db64ef2",
   "metadata": {},
   "source": [
    "## 1-3-1 표현식 정의 \n",
    "\n",
    "- 여러 개의 수식을 작성하지만 실행결과는 하나의 값으로 변환한다."
   ]
  },
  {
   "cell_type": "markdown",
   "id": "618a53b4",
   "metadata": {},
   "source": [
    "### 수식을 정의하면 하나의 값으로 변환됨"
   ]
  },
  {
   "cell_type": "code",
   "execution_count": 19,
   "id": "7427e24c",
   "metadata": {},
   "outputs": [
    {
     "data": {
      "text/plain": [
       "10123.0"
      ]
     },
     "execution_count": 19,
     "metadata": {},
     "output_type": "execute_result"
    }
   ],
   "source": [
    "정수변수 + 실수변수 * 100"
   ]
  },
  {
   "cell_type": "markdown",
   "id": "4672ddbf",
   "metadata": {},
   "source": [
    "## 1-3-2  표현식 결과를 변수에 저장 \n",
    "\n",
    "-  표현식의 결과도 재사용하려면 변수에 할당해서 사용해야한다,"
   ]
  },
  {
   "cell_type": "markdown",
   "id": "820c652a",
   "metadata": {},
   "source": [
    "### 표현식의 결과도 변수에 저장해서 처리"
   ]
  },
  {
   "cell_type": "code",
   "execution_count": 20,
   "id": "28df05aa",
   "metadata": {},
   "outputs": [],
   "source": [
    "var = 정수변수 + 실수변수 * 100"
   ]
  },
  {
   "cell_type": "code",
   "execution_count": 21,
   "id": "56e96c00",
   "metadata": {},
   "outputs": [
    {
     "data": {
      "text/plain": [
       "10123.0"
      ]
     },
     "execution_count": 21,
     "metadata": {},
     "output_type": "execute_result"
    }
   ],
   "source": [
    "var "
   ]
  },
  {
   "cell_type": "markdown",
   "id": "01cd1590",
   "metadata": {},
   "source": [
    "## 1-4  변수에 자료형 지정하기\n",
    "\n",
    "- 파이썬은 변수를 이름으로만 사용해서 실제 자료형이 필요없다.\n",
    "- 대신 변수에 특정 주석인 애노테이션을 지정할 수 있다.\n",
    "- 이런 애노테이션을 지정할 경우 해당 자료형만 처리하는 것으로 작성해야 한다. \n",
    "- 별도의 자료형 체크를 인터프리터는 수행하지 않는다"
   ]
  },
  {
   "cell_type": "markdown",
   "id": "2601cf0e",
   "metadata": {},
   "source": [
    "## 1-4-1 변수와 자료형만 지정한 경우는 변수로 인식하지 않는다."
   ]
  },
  {
   "cell_type": "markdown",
   "id": "f5d09370",
   "metadata": {},
   "source": [
    "### 변수에 애노테이션 붙이기"
   ]
  },
  {
   "cell_type": "code",
   "execution_count": 22,
   "id": "f2014a19",
   "metadata": {},
   "outputs": [],
   "source": [
    "var1 : int     # 실제 변수를 정의한 것 같지만 아무것도 정의되지 않음 "
   ]
  },
  {
   "cell_type": "markdown",
   "id": "564bcf72",
   "metadata": {},
   "source": [
    "### 변수 정의가 안되어서 에러처리"
   ]
  },
  {
   "cell_type": "code",
   "execution_count": 23,
   "id": "856e2508",
   "metadata": {},
   "outputs": [
    {
     "name": "stdout",
     "output_type": "stream",
     "text": [
      "name 'var1' is not defined\n"
     ]
    }
   ],
   "source": [
    "try :\n",
    "    var1         # 변수로 정의가 되지 않아서 이 변수의 이름을 찾을 수 없어 에러가 발생함 \n",
    "except NameError as e :\n",
    "    print(e)"
   ]
  },
  {
   "cell_type": "markdown",
   "id": "0fe5c1cb",
   "metadata": {},
   "source": [
    "## 1-4-2  변수는 반드시 값을 할당해야한다,   \n",
    "\n",
    "- 반드시 할당연산자(=) 다음에 값을 지정해야 함 "
   ]
  },
  {
   "cell_type": "markdown",
   "id": "50c5ef6f",
   "metadata": {},
   "source": [
    "### 변수 정의는 꼭 값이 할당되어야 함"
   ]
  },
  {
   "cell_type": "code",
   "execution_count": 24,
   "id": "88254b74",
   "metadata": {},
   "outputs": [],
   "source": [
    "var2 : int = 300       # 파이썬도 변수에 자료형을 애노테이션으로 지정이 가능\n",
    "                       # 애노테이션은 이 변수에 저장되는 자료형을 알려주는 주석이다. "
   ]
  },
  {
   "cell_type": "code",
   "execution_count": 25,
   "id": "667050c9",
   "metadata": {},
   "outputs": [
    {
     "data": {
      "text/plain": [
       "300"
      ]
     },
     "execution_count": 25,
     "metadata": {},
     "output_type": "execute_result"
    }
   ],
   "source": [
    "var2"
   ]
  },
  {
   "cell_type": "code",
   "execution_count": null,
   "id": "2e8d724a",
   "metadata": {},
   "outputs": [],
   "source": []
  },
  {
   "cell_type": "code",
   "execution_count": null,
   "id": "92fd11e9",
   "metadata": {},
   "outputs": [],
   "source": []
  },
  {
   "cell_type": "markdown",
   "id": "30d76168",
   "metadata": {},
   "source": [
    "## 1-5  출력 및 포매팅"
   ]
  },
  {
   "cell_type": "markdown",
   "id": "ded8a4f4",
   "metadata": {},
   "source": [
    "## 1-5-1 프로그램에서 출력할 때는 print 함수를 사용\n"
   ]
  },
  {
   "cell_type": "markdown",
   "id": "c30302c0",
   "metadata": {},
   "source": [
    "### print 함수를 통해서 출력표시하기"
   ]
  },
  {
   "cell_type": "code",
   "execution_count": 26,
   "id": "e818183d",
   "metadata": {},
   "outputs": [
    {
     "name": "stdout",
     "output_type": "stream",
     "text": [
      "Hello World !!!\n"
     ]
    }
   ],
   "source": [
    "print(\"Hello World !!!\")"
   ]
  },
  {
   "cell_type": "markdown",
   "id": "4112ba3b",
   "metadata": {},
   "source": [
    "### 연속적인 것을 문자열로 출력할 때는 쉼표로 구분해서 처리"
   ]
  },
  {
   "cell_type": "code",
   "execution_count": 27,
   "id": "a4cb828e",
   "metadata": {},
   "outputs": [
    {
     "name": "stdout",
     "output_type": "stream",
     "text": [
      "문자열  100\n"
     ]
    }
   ],
   "source": [
    "print(\"문자열 \", 100)"
   ]
  },
  {
   "cell_type": "markdown",
   "id": "913d5465",
   "metadata": {},
   "source": [
    "## 1-5-2  다양한 것을 출력할 때는 포매팅을 사용\n",
    "\n",
    "- f 문자열을 지정해서 처리 \n",
    "- 문자열 앞에 f를 붙이고 변수가 위치한 곳에 중괄호로 표시해서 처리함"
   ]
  },
  {
   "cell_type": "code",
   "execution_count": 28,
   "id": "577d9375",
   "metadata": {},
   "outputs": [],
   "source": [
    "a = 100"
   ]
  },
  {
   "cell_type": "code",
   "execution_count": 29,
   "id": "8971e2d5",
   "metadata": {},
   "outputs": [],
   "source": [
    "### f문자열은 포매팅처리 문자열\n"
   ]
  },
  {
   "cell_type": "code",
   "execution_count": 30,
   "id": "16322b49",
   "metadata": {},
   "outputs": [],
   "source": [
    "b = f\" 정수 a = {a} \""
   ]
  },
  {
   "cell_type": "code",
   "execution_count": 31,
   "id": "9184cdd8",
   "metadata": {},
   "outputs": [
    {
     "name": "stdout",
     "output_type": "stream",
     "text": [
      " 정수 a = 100 \n"
     ]
    }
   ],
   "source": [
    "print(b)"
   ]
  },
  {
   "cell_type": "code",
   "execution_count": null,
   "id": "e78f6921",
   "metadata": {},
   "outputs": [],
   "source": []
  },
  {
   "cell_type": "markdown",
   "id": "6f2e9bca",
   "metadata": {},
   "source": [
    "# 2. 파이썬 내장 자료형  :  Scalar \n",
    "\n",
    "- 숫자, 불리언은 하나의 값만 관리하는 자료형"
   ]
  },
  {
   "cell_type": "code",
   "execution_count": null,
   "id": "32df9269",
   "metadata": {},
   "outputs": [],
   "source": []
  },
  {
   "cell_type": "markdown",
   "id": "9580e103",
   "metadata": {},
   "source": [
    "## 2-1 숫자"
   ]
  },
  {
   "cell_type": "markdown",
   "id": "a36a1067",
   "metadata": {},
   "source": [
    "## 2-1-1 숫자에서 정수와 실수가 있음 "
   ]
  },
  {
   "cell_type": "code",
   "execution_count": 32,
   "id": "a00b33e7",
   "metadata": {},
   "outputs": [
    {
     "data": {
      "text/plain": [
       "int"
      ]
     },
     "execution_count": 32,
     "metadata": {},
     "output_type": "execute_result"
    }
   ],
   "source": [
    "int  #  정수 클래스"
   ]
  },
  {
   "cell_type": "code",
   "execution_count": 33,
   "id": "0ab5ac8d",
   "metadata": {},
   "outputs": [
    {
     "data": {
      "text/plain": [
       "float"
      ]
     },
     "execution_count": 33,
     "metadata": {},
     "output_type": "execute_result"
    }
   ],
   "source": [
    "float # 실수 클래스"
   ]
  },
  {
   "cell_type": "markdown",
   "id": "fcbd3ccc",
   "metadata": {},
   "source": [
    "### 정수를 클래스로 생성하기\n",
    "\n",
    "- 보통 클래스를 사용해서 값을 생성하는 것은 값이 자료형을 변환하는 것과 같다"
   ]
  },
  {
   "cell_type": "code",
   "execution_count": 34,
   "id": "95e6f623",
   "metadata": {},
   "outputs": [],
   "source": [
    "iVar = int(\"100\")"
   ]
  },
  {
   "cell_type": "code",
   "execution_count": 35,
   "id": "43b39566",
   "metadata": {},
   "outputs": [],
   "source": [
    "fVar = float(\"100.11\")"
   ]
  },
  {
   "cell_type": "code",
   "execution_count": 36,
   "id": "ec9ca336",
   "metadata": {},
   "outputs": [],
   "source": [
    "ss = f\"정수값 {iVar} 실수값 {fVar}\""
   ]
  },
  {
   "cell_type": "code",
   "execution_count": 37,
   "id": "748c32f8",
   "metadata": {},
   "outputs": [
    {
     "name": "stdout",
     "output_type": "stream",
     "text": [
      "정수값 100 실수값 100.11\n"
     ]
    }
   ],
   "source": [
    "print(ss)"
   ]
  },
  {
   "cell_type": "markdown",
   "id": "cc992fda",
   "metadata": {},
   "source": [
    "## 2-1-2 연산자 알아보기\n",
    "\n",
    "- 수학처럼 숫자 등을 계산할 경우 함수를 사용하지 않고 연산자 기호를 그대로 사용해서 처리"
   ]
  },
  {
   "cell_type": "code",
   "execution_count": 38,
   "id": "98692595",
   "metadata": {},
   "outputs": [
    {
     "data": {
      "text/plain": [
       "300"
      ]
     },
     "execution_count": 38,
     "metadata": {},
     "output_type": "execute_result"
    }
   ],
   "source": [
    "100 + 200     # 이항연산자 : 두개의 항를 가진 연산자"
   ]
  },
  {
   "cell_type": "markdown",
   "id": "99386a4e",
   "metadata": {},
   "source": [
    "### 사칙연산 \n",
    "\n",
    "- 나누기를 2개 제공\n",
    "- / : 나머지까지 나누기\n",
    "- // : 나머지를 버리고 나누기 "
   ]
  },
  {
   "cell_type": "code",
   "execution_count": 39,
   "id": "09ae32b8",
   "metadata": {},
   "outputs": [
    {
     "name": "stdout",
     "output_type": "stream",
     "text": [
      " 더하기  300\n",
      " 빼기   100\n",
      " 곱하기  20000\n",
      " 나누기  66.66666666666667\n",
      " 나누기  66\n",
      " 나머지  2\n"
     ]
    }
   ],
   "source": [
    "print(f\" 더하기  {100+200}\")\n",
    "print(f\" 빼기   {200-100}\")\n",
    "print(f\" 곱하기  {100*200}\")\n",
    "print(f\" 나누기  {200/3}\")\n",
    "print(f\" 나누기  {200//3}\")\n",
    "print(f\" 나머지  {200%3}\")"
   ]
  },
  {
   "cell_type": "code",
   "execution_count": null,
   "id": "f3339e99",
   "metadata": {},
   "outputs": [],
   "source": []
  },
  {
   "cell_type": "markdown",
   "id": "a7266743",
   "metadata": {},
   "source": [
    "## 2-2  불리언 값 처리 "
   ]
  },
  {
   "cell_type": "markdown",
   "id": "b3cd301b",
   "metadata": {},
   "source": [
    "## 2-2-1 불리언 값 처리"
   ]
  },
  {
   "cell_type": "markdown",
   "id": "e05319f8",
   "metadata": {},
   "source": [
    "### 파이썬 불리언은 정수로 처리 가능\n",
    "- 다른 프로그램 언어와 다르게 파이썬 불리언은 정수의 1과 0 으로 변환해서 처리됨"
   ]
  },
  {
   "cell_type": "code",
   "execution_count": 40,
   "id": "d3a492f4",
   "metadata": {},
   "outputs": [
    {
     "data": {
      "text/plain": [
       "1"
      ]
     },
     "execution_count": 40,
     "metadata": {},
     "output_type": "execute_result"
    }
   ],
   "source": [
    "True + False"
   ]
  },
  {
   "cell_type": "markdown",
   "id": "f9525a08",
   "metadata": {},
   "source": [
    "### 각 자료형의 값이 없다는 표기는 전부 False로 인식\n",
    "- 그러면 값이 있다는 것은  True로 인식"
   ]
  },
  {
   "cell_type": "code",
   "execution_count": 41,
   "id": "2d666de6",
   "metadata": {},
   "outputs": [],
   "source": [
    "sb = bool(\"\")"
   ]
  },
  {
   "cell_type": "code",
   "execution_count": 42,
   "id": "fa894ebf",
   "metadata": {},
   "outputs": [
    {
     "data": {
      "text/plain": [
       "False"
      ]
     },
     "execution_count": 42,
     "metadata": {},
     "output_type": "execute_result"
    }
   ],
   "source": [
    "sb"
   ]
  },
  {
   "cell_type": "code",
   "execution_count": 43,
   "id": "6c4b5192",
   "metadata": {},
   "outputs": [
    {
     "data": {
      "text/plain": [
       "(True, True)"
      ]
     },
     "execution_count": 43,
     "metadata": {},
     "output_type": "execute_result"
    }
   ],
   "source": [
    "bool(100), bool([1,2,3])"
   ]
  },
  {
   "cell_type": "code",
   "execution_count": null,
   "id": "62042874",
   "metadata": {},
   "outputs": [],
   "source": []
  },
  {
   "cell_type": "markdown",
   "id": "f138f559",
   "metadata": {},
   "source": [
    "## 2-2-2  조건문 처리 \n",
    "\n",
    "- 특정 불리언 값에 따라 판단해서 처리하는 문장 \n"
   ]
  },
  {
   "cell_type": "markdown",
   "id": "9260bb5d",
   "metadata": {},
   "source": [
    "### 참인 결과만 처리하기  "
   ]
  },
  {
   "cell_type": "code",
   "execution_count": 44,
   "id": "d00b8701",
   "metadata": {},
   "outputs": [
    {
     "name": "stdout",
     "output_type": "stream",
     "text": [
      " 참값입니다. \n"
     ]
    }
   ],
   "source": [
    "if 100 :\n",
    "    print(\" 참값입니다. \")"
   ]
  },
  {
   "cell_type": "markdown",
   "id": "988fb34a",
   "metadata": {},
   "source": [
    "### 참과 거짓을 처리하기"
   ]
  },
  {
   "cell_type": "code",
   "execution_count": 45,
   "id": "6adff21d",
   "metadata": {},
   "outputs": [
    {
     "name": "stdout",
     "output_type": "stream",
     "text": [
      " 참으로 처리 \n"
     ]
    }
   ],
   "source": [
    "if 100 < 200 :\n",
    "    print(\" 참으로 처리 \")\n",
    "else :\n",
    "    print(\" 거짓인 조건 \")"
   ]
  },
  {
   "cell_type": "markdown",
   "id": "56c93d63",
   "metadata": {},
   "source": [
    "### 내포된 조건문 처리하기\n",
    "\n",
    "- if 문 안에 if 문을 작성해서 처리할 수 있다."
   ]
  },
  {
   "cell_type": "code",
   "execution_count": 46,
   "id": "4bd7300e",
   "metadata": {},
   "outputs": [],
   "source": [
    "c = 95"
   ]
  },
  {
   "cell_type": "code",
   "execution_count": 47,
   "id": "f84af58d",
   "metadata": {},
   "outputs": [
    {
     "name": "stdout",
     "output_type": "stream",
     "text": [
      " 95이상\n"
     ]
    }
   ],
   "source": [
    "if c > 90 :\n",
    "    if c < 95 :\n",
    "        print(\" 95미만\")\n",
    "    else :\n",
    "        print(\" 95이상\")\n",
    "else :\n",
    "    print(\"90이하\")"
   ]
  },
  {
   "cell_type": "code",
   "execution_count": null,
   "id": "8bc1d55a",
   "metadata": {},
   "outputs": [],
   "source": []
  },
  {
   "cell_type": "markdown",
   "id": "e5fd0119",
   "metadata": {},
   "source": [
    "# 3. 파이썬 내장 자료형  :  Compound \n",
    "\n",
    "- 여러 원소를 가진 자료형\n",
    "- 문자열, 튜플, 리스트, 딕셔너리 등이 있다. "
   ]
  },
  {
   "cell_type": "markdown",
   "id": "89a403a4",
   "metadata": {},
   "source": [
    "## 3-1 문자열\n",
    "\n",
    "- 문자열에는 bytes, str 2개가 있다.\n",
    "- bytes는 ascii 코드의 값으로 처리\n",
    "- str은 유니코드의 값으로 처리 -> 한글 등 다양한 언어 처리"
   ]
  },
  {
   "cell_type": "markdown",
   "id": "475b3b20",
   "metadata": {},
   "source": [
    "## 3-1-1 문자열 알아보기\n",
    "\n",
    "-  문자열과 바이트 문자열은 한번 생성하면 내부의 값을 변경할 수 없다.\n",
    "- 대신 다양한 메서드를 제공해서 새로운 문자열로 변경한 결과를 만들어준다."
   ]
  },
  {
   "cell_type": "markdown",
   "id": "8d8bd92f",
   "metadata": {},
   "source": [
    "### 문자열 리터럴 작성\n",
    "\n",
    "- 따옴표를 사용해서 문자열을 작성한다.\n",
    "- 바이트 문자열인 경우는 문자열 앞에 b를 붙인다 "
   ]
  },
  {
   "cell_type": "code",
   "execution_count": 48,
   "id": "d9d1ecac",
   "metadata": {},
   "outputs": [],
   "source": [
    "ss = \"문자열\"\n",
    "bb = b\"abc\"           # 바이트 문자열(bytes) "
   ]
  },
  {
   "cell_type": "code",
   "execution_count": 49,
   "id": "fc5be887",
   "metadata": {},
   "outputs": [
    {
     "data": {
      "text/plain": [
       "(3, 3)"
      ]
     },
     "execution_count": 49,
     "metadata": {},
     "output_type": "execute_result"
    }
   ],
   "source": [
    "len(ss), len(bb)"
   ]
  },
  {
   "cell_type": "code",
   "execution_count": null,
   "id": "b57283ce",
   "metadata": {},
   "outputs": [],
   "source": []
  },
  {
   "cell_type": "code",
   "execution_count": 50,
   "id": "e209c6f3",
   "metadata": {},
   "outputs": [
    {
     "data": {
      "text/plain": [
       "(str, bytes)"
      ]
     },
     "execution_count": 50,
     "metadata": {},
     "output_type": "execute_result"
    }
   ],
   "source": [
    "type(ss), type(bb)    # 자료형 확인 "
   ]
  },
  {
   "cell_type": "markdown",
   "id": "2520494c",
   "metadata": {},
   "source": [
    "### 문자열에서 바이트 문자열로 변환\n",
    "\n",
    "- encode 메서드는 문자열을 바이트문자여로 변환\n",
    "- decode 메서드는 바이트 문자열에서 문자열로 변환"
   ]
  },
  {
   "cell_type": "code",
   "execution_count": 51,
   "id": "21b7fbf3",
   "metadata": {},
   "outputs": [
    {
     "data": {
      "text/plain": [
       "b'\\xeb\\xac\\xb8\\xec\\x9e\\x90\\xec\\x97\\xb4'"
      ]
     },
     "execution_count": 51,
     "metadata": {},
     "output_type": "execute_result"
    }
   ],
   "source": [
    "ss.encode()"
   ]
  },
  {
   "cell_type": "code",
   "execution_count": 52,
   "id": "428044e2",
   "metadata": {},
   "outputs": [
    {
     "data": {
      "text/plain": [
       "9"
      ]
     },
     "execution_count": 52,
     "metadata": {},
     "output_type": "execute_result"
    }
   ],
   "source": [
    "len(ss.encode())"
   ]
  },
  {
   "cell_type": "code",
   "execution_count": 53,
   "id": "9754ecbe",
   "metadata": {},
   "outputs": [
    {
     "data": {
      "text/plain": [
       "'문자열'"
      ]
     },
     "execution_count": 53,
     "metadata": {},
     "output_type": "execute_result"
    }
   ],
   "source": [
    "ss.encode().decode()"
   ]
  },
  {
   "cell_type": "code",
   "execution_count": 54,
   "id": "230d4ace",
   "metadata": {},
   "outputs": [
    {
     "data": {
      "text/plain": [
       "3"
      ]
     },
     "execution_count": 54,
     "metadata": {},
     "output_type": "execute_result"
    }
   ],
   "source": [
    "len(ss.encode().decode())"
   ]
  },
  {
   "cell_type": "markdown",
   "id": "637057b0",
   "metadata": {},
   "source": [
    "## 3-1-2 문자열 내의 원소 및 부분 검색 처리 \n",
    "\n",
    "- 인덱스 검색 : 대괄호 기호를 사용하고 인덱스를 전달해서 하나의 값을 검색\n",
    "- 슬라이스는 시작과 종료점을 지정해서 특정 부분을 검색"
   ]
  },
  {
   "cell_type": "markdown",
   "id": "faf5dbd9",
   "metadata": {},
   "source": [
    "### 인덱스 검색 "
   ]
  },
  {
   "cell_type": "code",
   "execution_count": 55,
   "id": "dfec78c8",
   "metadata": {},
   "outputs": [
    {
     "data": {
      "text/plain": [
       "'문'"
      ]
     },
     "execution_count": 55,
     "metadata": {},
     "output_type": "execute_result"
    }
   ],
   "source": [
    "ss[0]    # 하나의 요소를 선택하기 "
   ]
  },
  {
   "cell_type": "markdown",
   "id": "4a0047c5",
   "metadata": {},
   "source": [
    "### 슬리이스 검색\n",
    "- 슬라이스는 시작점과 종료점을 지정해서 부분검색"
   ]
  },
  {
   "cell_type": "code",
   "execution_count": 56,
   "id": "c5d0d0ba",
   "metadata": {},
   "outputs": [
    {
     "data": {
      "text/plain": [
       "'자'"
      ]
     },
     "execution_count": 56,
     "metadata": {},
     "output_type": "execute_result"
    }
   ],
   "source": [
    "ss[1:2]  # 여러개 요소를 선택하기 : 슬라이스 처리 "
   ]
  },
  {
   "cell_type": "markdown",
   "id": "0be6d9bc",
   "metadata": {},
   "source": [
    "### 슬리아스 검색 모든 것을 다 검색할 때는 콜론만 처리"
   ]
  },
  {
   "cell_type": "code",
   "execution_count": 57,
   "id": "07c69f0f",
   "metadata": {},
   "outputs": [
    {
     "data": {
      "text/plain": [
       "'문자열'"
      ]
     },
     "execution_count": 57,
     "metadata": {},
     "output_type": "execute_result"
    }
   ],
   "source": [
    "ss[:]"
   ]
  },
  {
   "cell_type": "markdown",
   "id": "8b344cdb",
   "metadata": {},
   "source": [
    "## 3-1-3  순환문 처리하기 \n",
    "\n",
    "- 다양한 요소를 가지는 복합 자료형은 순환문으로 내부의 요소를 처리할 수 있다."
   ]
  },
  {
   "cell_type": "markdown",
   "id": "1135c0b6",
   "metadata": {},
   "source": [
    "### 일반적인 숫자를 순환처리\n",
    "\n",
    "- range를 사용해서 순환문으로 처리\n",
    "- range(start, end, step) 으로 숫자의 범위를 만든다."
   ]
  },
  {
   "cell_type": "code",
   "execution_count": 58,
   "id": "bfe3cb48",
   "metadata": {},
   "outputs": [
    {
     "name": "stdout",
     "output_type": "stream",
     "text": [
      "0, 1, 2, 3, 4, 5, 6, 7, 8, 9, "
     ]
    }
   ],
   "source": [
    "for i in range(0, 10) :\n",
    "    print(i, end=\", \")"
   ]
  },
  {
   "cell_type": "code",
   "execution_count": 59,
   "id": "d9dcdcf0",
   "metadata": {},
   "outputs": [
    {
     "name": "stdout",
     "output_type": "stream",
     "text": [
      "0, 1, 2, 3, 4, 5, 6, 7, 8, 9, "
     ]
    }
   ],
   "source": [
    "for i in range(10) :\n",
    "    print(i, end=\", \")"
   ]
  },
  {
   "cell_type": "markdown",
   "id": "bc8a52e5",
   "metadata": {},
   "source": [
    "### 문자열을 순환해서 처리하기"
   ]
  },
  {
   "cell_type": "code",
   "execution_count": 60,
   "id": "5a5e02cb",
   "metadata": {},
   "outputs": [],
   "source": [
    "sss=\"가나다라마바사\""
   ]
  },
  {
   "cell_type": "code",
   "execution_count": 61,
   "id": "978a41cf",
   "metadata": {},
   "outputs": [
    {
     "name": "stdout",
     "output_type": "stream",
     "text": [
      "가\n",
      "나\n",
      "다\n",
      "라\n",
      "마\n",
      "바\n",
      "사\n"
     ]
    }
   ],
   "source": [
    "for i in sss:\n",
    "    print(i)"
   ]
  },
  {
   "cell_type": "markdown",
   "id": "d13b1b65",
   "metadata": {},
   "source": [
    "### 문자열 내부의 메서드 확인하기 1\n",
    "\n",
    "- 스페셜 메서드는 파이썬 내부적으로 처리하는 메서드를 만들어서 제공한다.\n",
    "- 보통 이 스페셜 메서드에는 연산자 등이 있다. "
   ]
  },
  {
   "cell_type": "code",
   "execution_count": 62,
   "id": "5298d932",
   "metadata": {},
   "outputs": [
    {
     "name": "stdout",
     "output_type": "stream",
     "text": [
      "__add__, __class__, __contains__, __delattr__, __dir__, __doc__, __eq__, __format__, __ge__, __getattribute__, __getitem__, __getnewargs__, __gt__, __hash__, __init__, __init_subclass__, __iter__, __le__, __len__, __lt__, __mod__, __mul__, __ne__, __new__, __reduce__, __reduce_ex__, __repr__, __rmod__, __rmul__, __setattr__, __sizeof__, __str__, __subclasshook__, "
     ]
    }
   ],
   "source": [
    "for i in dir(ss) :\n",
    "    if i.startswith(\"_\") :\n",
    "        print(i,end=\", \")"
   ]
  },
  {
   "cell_type": "markdown",
   "id": "0e9d1529",
   "metadata": {},
   "source": [
    "### 문자열 내부의 메서드 확인하기 2\n",
    "\n",
    "- 보통 사용하는 메서드"
   ]
  },
  {
   "cell_type": "code",
   "execution_count": 63,
   "id": "ac0cd850",
   "metadata": {},
   "outputs": [
    {
     "name": "stdout",
     "output_type": "stream",
     "text": [
      "capitalize, casefold, center, count, encode, endswith, expandtabs, find, format, format_map, index, isalnum, isalpha, isascii, isdecimal, isdigit, isidentifier, islower, isnumeric, isprintable, isspace, istitle, isupper, join, ljust, lower, lstrip, maketrans, partition, removeprefix, removesuffix, replace, rfind, rindex, rjust, rpartition, rsplit, rstrip, split, splitlines, startswith, strip, swapcase, title, translate, upper, zfill, "
     ]
    }
   ],
   "source": [
    "for i in dir(ss) :\n",
    "    if not i.startswith(\"_\") :\n",
    "        print(i,end=\", \")"
   ]
  },
  {
   "cell_type": "markdown",
   "id": "35ce1823",
   "metadata": {},
   "source": [
    "### 문자열 메서드 :  문자열 분리하기"
   ]
  },
  {
   "cell_type": "code",
   "execution_count": 64,
   "id": "f84c769a",
   "metadata": {},
   "outputs": [],
   "source": [
    "sst = \"문자열 분리하기\".split()"
   ]
  },
  {
   "cell_type": "code",
   "execution_count": 65,
   "id": "e850bc99",
   "metadata": {},
   "outputs": [
    {
     "data": {
      "text/plain": [
       "['문자열', '분리하기']"
      ]
     },
     "execution_count": 65,
     "metadata": {},
     "output_type": "execute_result"
    }
   ],
   "source": [
    "sst"
   ]
  },
  {
   "cell_type": "code",
   "execution_count": 66,
   "id": "c67c8fdd",
   "metadata": {},
   "outputs": [],
   "source": [
    "sst1 = \"쉼표,단위로,분리하기\".split(\",\")"
   ]
  },
  {
   "cell_type": "code",
   "execution_count": 67,
   "id": "90738431",
   "metadata": {},
   "outputs": [
    {
     "data": {
      "text/plain": [
       "['쉼표', '단위로', '분리하기']"
      ]
     },
     "execution_count": 67,
     "metadata": {},
     "output_type": "execute_result"
    }
   ],
   "source": [
    "sst1"
   ]
  },
  {
   "cell_type": "markdown",
   "id": "13721b13",
   "metadata": {},
   "source": [
    "## 3-2 튜플\n",
    "\n",
    "- 튜플은 여러 요소를 가지는 하나의 자료구조이다.\n",
    "- 튜플은 한번 생기면  요소를 수정하거나 삭제할 수 없다. "
   ]
  },
  {
   "cell_type": "markdown",
   "id": "025f662f",
   "metadata": {},
   "source": [
    "## 3-2-1 튜플을 정의해서 처리하기 "
   ]
  },
  {
   "cell_type": "markdown",
   "id": "c2ae70b3",
   "metadata": {},
   "source": [
    "### 튜플을 생성하기"
   ]
  },
  {
   "cell_type": "code",
   "execution_count": 68,
   "id": "444b00a8",
   "metadata": {},
   "outputs": [],
   "source": [
    "t0 = ()           # 아무 요소가 없는 튜플"
   ]
  },
  {
   "cell_type": "code",
   "execution_count": 69,
   "id": "d30dce95",
   "metadata": {},
   "outputs": [],
   "source": [
    "t1 = (100,)       # 하나의 요소를 가지는 튜플"
   ]
  },
  {
   "cell_type": "code",
   "execution_count": 70,
   "id": "15abca94",
   "metadata": {},
   "outputs": [
    {
     "name": "stdout",
     "output_type": "stream",
     "text": [
      "100\n",
      "200\n"
     ]
    }
   ],
   "source": [
    "t = (100,200)     # 두 개의 요소를 가지는 튜플\n",
    "for i in t :\n",
    "    print(i)"
   ]
  },
  {
   "cell_type": "markdown",
   "id": "d7cfb691",
   "metadata": {},
   "source": [
    "### 튜플 클래스로 변환해서 생성하기"
   ]
  },
  {
   "cell_type": "code",
   "execution_count": 71,
   "id": "b17a15a3",
   "metadata": {},
   "outputs": [],
   "source": [
    "lts = tuple([1,2,3,4])"
   ]
  },
  {
   "cell_type": "code",
   "execution_count": 72,
   "id": "503f65e9",
   "metadata": {},
   "outputs": [
    {
     "data": {
      "text/plain": [
       "(1, 2, 3, 4)"
      ]
     },
     "execution_count": 72,
     "metadata": {},
     "output_type": "execute_result"
    }
   ],
   "source": [
    "lts"
   ]
  },
  {
   "cell_type": "markdown",
   "id": "55de0097",
   "metadata": {},
   "source": [
    "### 튜플의 요소 개수 확인"
   ]
  },
  {
   "cell_type": "code",
   "execution_count": 73,
   "id": "d79bc5b3",
   "metadata": {},
   "outputs": [],
   "source": [
    "t3 = (100,200,300)"
   ]
  },
  {
   "cell_type": "code",
   "execution_count": 74,
   "id": "28872442",
   "metadata": {},
   "outputs": [
    {
     "data": {
      "text/plain": [
       "3"
      ]
     },
     "execution_count": 74,
     "metadata": {},
     "output_type": "execute_result"
    }
   ],
   "source": [
    "len(t3)"
   ]
  },
  {
   "cell_type": "markdown",
   "id": "48028dc2",
   "metadata": {},
   "source": [
    "## 3-2-2 인덱스 검색이나 슬라이스 검색을 통해 요소 조회"
   ]
  },
  {
   "cell_type": "markdown",
   "id": "b8027a23",
   "metadata": {},
   "source": [
    "### 인덱스 검색하기"
   ]
  },
  {
   "cell_type": "code",
   "execution_count": 75,
   "id": "1cea084c",
   "metadata": {},
   "outputs": [],
   "source": [
    "d = t3[0]"
   ]
  },
  {
   "cell_type": "code",
   "execution_count": 76,
   "id": "aa146424",
   "metadata": {},
   "outputs": [
    {
     "data": {
      "text/plain": [
       "100"
      ]
     },
     "execution_count": 76,
     "metadata": {},
     "output_type": "execute_result"
    }
   ],
   "source": [
    "d"
   ]
  },
  {
   "cell_type": "markdown",
   "id": "ccf50ade",
   "metadata": {},
   "source": [
    "### 슬라이스 검색하기"
   ]
  },
  {
   "cell_type": "code",
   "execution_count": 77,
   "id": "6c977cfc",
   "metadata": {},
   "outputs": [],
   "source": [
    "se = t3[1:2]"
   ]
  },
  {
   "cell_type": "code",
   "execution_count": 78,
   "id": "8276cdc1",
   "metadata": {},
   "outputs": [
    {
     "data": {
      "text/plain": [
       "(200,)"
      ]
     },
     "execution_count": 78,
     "metadata": {},
     "output_type": "execute_result"
    }
   ],
   "source": [
    "se"
   ]
  },
  {
   "cell_type": "markdown",
   "id": "056c168e",
   "metadata": {},
   "source": [
    "### 튜플 내부의 메서드 확인 \n",
    "\n",
    "- 튜플 내부에는 인덱스와 개수만 확인하는 메서드만 있다. \n",
    "- 튜플의 원소를 갱신하거나 수정할 수 있는 메서드가 없어서 한번 만들어지면 변경할 수 없다. "
   ]
  },
  {
   "cell_type": "code",
   "execution_count": 79,
   "id": "553d039b",
   "metadata": {},
   "outputs": [
    {
     "name": "stdout",
     "output_type": "stream",
     "text": [
      "count, index, "
     ]
    }
   ],
   "source": [
    "for i in dir(t3) :\n",
    "    if not i.startswith(\"_\") :\n",
    "        print(i,end=\", \")"
   ]
  },
  {
   "cell_type": "code",
   "execution_count": null,
   "id": "b64e4583",
   "metadata": {},
   "outputs": [],
   "source": []
  },
  {
   "cell_type": "markdown",
   "id": "5d975305",
   "metadata": {},
   "source": [
    "## 3-2-3 튜플의 원소를 분리해서 변수에 할당하기\n",
    "\n",
    "- 튜플의 요소를 바로 변수에 할당해서 분해 가능 "
   ]
  },
  {
   "cell_type": "code",
   "execution_count": 80,
   "id": "6ad2999d",
   "metadata": {},
   "outputs": [],
   "source": [
    "a,b,c = t3"
   ]
  },
  {
   "cell_type": "code",
   "execution_count": 81,
   "id": "5c70dba5",
   "metadata": {},
   "outputs": [
    {
     "name": "stdout",
     "output_type": "stream",
     "text": [
      "100 200 300\n"
     ]
    }
   ],
   "source": [
    "print(a,b,c)"
   ]
  },
  {
   "cell_type": "code",
   "execution_count": null,
   "id": "bd29ca75",
   "metadata": {},
   "outputs": [],
   "source": []
  },
  {
   "cell_type": "markdown",
   "id": "b3e09321",
   "metadata": {},
   "source": [
    "## 3-3 리스트\n",
    "\n",
    "- 리스트는 내부의 원소를 변경, 추가, 삭제가 가능한 복합 자료형이다.\n",
    "- 일반적인 배열 처럼 하나의 자료형으로 리스트를 만든다.\n",
    "- 다양한 자료형이 들어갈 경우는 최상위 자료형인 object로 구성된 것이다"
   ]
  },
  {
   "cell_type": "code",
   "execution_count": null,
   "id": "9792405a",
   "metadata": {},
   "outputs": [],
   "source": []
  },
  {
   "cell_type": "markdown",
   "id": "ae2f9e4d",
   "metadata": {},
   "source": [
    "## 3-3-1 리스트 생성"
   ]
  },
  {
   "cell_type": "markdown",
   "id": "b8e9393a",
   "metadata": {},
   "source": [
    "### 리터럴로 리스트 생성 "
   ]
  },
  {
   "cell_type": "code",
   "execution_count": 82,
   "id": "8dddaaa8",
   "metadata": {},
   "outputs": [],
   "source": [
    "l0 = []   # 요소가 아무것도 없는 리스트"
   ]
  },
  {
   "cell_type": "code",
   "execution_count": 83,
   "id": "98c4e0e3",
   "metadata": {},
   "outputs": [],
   "source": [
    "l1 = [1,]  # 하나의 요소를 가진 리스트"
   ]
  },
  {
   "cell_type": "markdown",
   "id": "9653f95c",
   "metadata": {},
   "source": [
    "### 클래스로 리스트 생성 \n",
    "\n",
    "- 보통 리스트 클래스로 생성할 경우는 튜플이나 문자열 등을 넣어서 생성\n",
    "- 다른 자료형을 리스트로 변환하는 것과 같다"
   ]
  },
  {
   "cell_type": "code",
   "execution_count": 84,
   "id": "a4d967ad",
   "metadata": {},
   "outputs": [],
   "source": [
    "cl = list((1,2,3,4))"
   ]
  },
  {
   "cell_type": "code",
   "execution_count": 85,
   "id": "78b67a0d",
   "metadata": {},
   "outputs": [
    {
     "data": {
      "text/plain": [
       "[1, 2, 3, 4]"
      ]
     },
     "execution_count": 85,
     "metadata": {},
     "output_type": "execute_result"
    }
   ],
   "source": [
    "cl"
   ]
  },
  {
   "cell_type": "code",
   "execution_count": 86,
   "id": "3afc2656",
   "metadata": {},
   "outputs": [],
   "source": [
    "cls = list(\"가나다라\")"
   ]
  },
  {
   "cell_type": "code",
   "execution_count": 87,
   "id": "53286a26",
   "metadata": {},
   "outputs": [
    {
     "data": {
      "text/plain": [
       "['가', '나', '다', '라']"
      ]
     },
     "execution_count": 87,
     "metadata": {},
     "output_type": "execute_result"
    }
   ],
   "source": [
    "cls"
   ]
  },
  {
   "cell_type": "code",
   "execution_count": null,
   "id": "0695d70e",
   "metadata": {},
   "outputs": [],
   "source": []
  },
  {
   "cell_type": "markdown",
   "id": "b8973fec",
   "metadata": {},
   "source": [
    "## 3-3-2 리스트 검색 및 부분 검색\n",
    "\n",
    "- 인덱스는 순방향 : 인덱스 값이 0부터 양수\n",
    "- 인덱스 역방향 : 인덱스값이 -1부터 시작"
   ]
  },
  {
   "cell_type": "code",
   "execution_count": 88,
   "id": "b2a64c37",
   "metadata": {},
   "outputs": [],
   "source": [
    "li_10 = list(range(10))"
   ]
  },
  {
   "cell_type": "code",
   "execution_count": 89,
   "id": "223d31af",
   "metadata": {},
   "outputs": [
    {
     "data": {
      "text/plain": [
       "[0, 1, 2, 3, 4, 5, 6, 7, 8, 9]"
      ]
     },
     "execution_count": 89,
     "metadata": {},
     "output_type": "execute_result"
    }
   ],
   "source": [
    "li_10"
   ]
  },
  {
   "cell_type": "markdown",
   "id": "24661986",
   "metadata": {},
   "source": [
    "### 인덱스로 하나의 값을 조회"
   ]
  },
  {
   "cell_type": "code",
   "execution_count": 90,
   "id": "da91c354",
   "metadata": {},
   "outputs": [
    {
     "data": {
      "text/plain": [
       "0"
      ]
     },
     "execution_count": 90,
     "metadata": {},
     "output_type": "execute_result"
    }
   ],
   "source": [
    "li_10[0]"
   ]
  },
  {
   "cell_type": "markdown",
   "id": "9fbe31a4",
   "metadata": {},
   "source": [
    "### 마지막 값을 조회하기\n",
    "\n",
    "- 인덱스를 음수로 사용해서 역방향으로 조회도 가능하다"
   ]
  },
  {
   "cell_type": "code",
   "execution_count": 91,
   "id": "81e049f1",
   "metadata": {},
   "outputs": [
    {
     "data": {
      "text/plain": [
       "9"
      ]
     },
     "execution_count": 91,
     "metadata": {},
     "output_type": "execute_result"
    }
   ],
   "source": [
    "li_10[len(li_10) -1]"
   ]
  },
  {
   "cell_type": "code",
   "execution_count": 92,
   "id": "714b9096",
   "metadata": {},
   "outputs": [
    {
     "data": {
      "text/plain": [
       "9"
      ]
     },
     "execution_count": 92,
     "metadata": {},
     "output_type": "execute_result"
    }
   ],
   "source": [
    "li_10[-1]"
   ]
  },
  {
   "cell_type": "markdown",
   "id": "93c935cd",
   "metadata": {},
   "source": [
    "### 슬리이스 검색"
   ]
  },
  {
   "cell_type": "code",
   "execution_count": 93,
   "id": "e2dc4b80",
   "metadata": {},
   "outputs": [
    {
     "data": {
      "text/plain": [
       "[2, 3, 4, 5, 6, 7, 8, 9]"
      ]
     },
     "execution_count": 93,
     "metadata": {},
     "output_type": "execute_result"
    }
   ],
   "source": [
    "li_10[2:]"
   ]
  },
  {
   "cell_type": "markdown",
   "id": "ba69335c",
   "metadata": {},
   "source": [
    "### 역방향으로 슬라이스 검색하기"
   ]
  },
  {
   "cell_type": "code",
   "execution_count": 94,
   "id": "04eb70f2",
   "metadata": {},
   "outputs": [
    {
     "data": {
      "text/plain": [
       "[9, 8, 7, 6, 5, 4, 3, 2, 1, 0]"
      ]
     },
     "execution_count": 94,
     "metadata": {},
     "output_type": "execute_result"
    }
   ],
   "source": [
    "li_10[-1:-11:-1]"
   ]
  },
  {
   "cell_type": "markdown",
   "id": "b92164ad",
   "metadata": {},
   "source": [
    "## 3-3-3  리스트 내의 메서드 확인하기"
   ]
  },
  {
   "cell_type": "code",
   "execution_count": 95,
   "id": "4905d8b2",
   "metadata": {},
   "outputs": [
    {
     "name": "stdout",
     "output_type": "stream",
     "text": [
      "append, clear, copy, count, extend, index, insert, pop, remove, reverse, sort, "
     ]
    }
   ],
   "source": [
    "for i in dir(l0) :\n",
    "    if not i.startswith(\"_\") :\n",
    "        print(i,end=\", \")"
   ]
  },
  {
   "cell_type": "markdown",
   "id": "93365f64",
   "metadata": {},
   "source": [
    "### 리스트의 맨뒤에 요소를 추가하기"
   ]
  },
  {
   "cell_type": "code",
   "execution_count": 96,
   "id": "26638b5d",
   "metadata": {},
   "outputs": [],
   "source": [
    "lll = []\n",
    "\n",
    "for i in range(10) :\n",
    "    lll.append(i)"
   ]
  },
  {
   "cell_type": "code",
   "execution_count": 97,
   "id": "e66ac5d6",
   "metadata": {},
   "outputs": [
    {
     "data": {
      "text/plain": [
       "10"
      ]
     },
     "execution_count": 97,
     "metadata": {},
     "output_type": "execute_result"
    }
   ],
   "source": [
    "len(lll)                     # 리스트의 원소 개수 확인하기"
   ]
  },
  {
   "cell_type": "markdown",
   "id": "c8ef1957",
   "metadata": {},
   "source": [
    "### 다른 리스트의 요소를 전부 추가하기"
   ]
  },
  {
   "cell_type": "code",
   "execution_count": 98,
   "id": "6c441540",
   "metadata": {},
   "outputs": [],
   "source": [
    "lll.extend(lll)"
   ]
  },
  {
   "cell_type": "code",
   "execution_count": 99,
   "id": "f4210f46",
   "metadata": {},
   "outputs": [
    {
     "data": {
      "text/plain": [
       "[0, 1, 2, 3, 4, 5, 6, 7, 8, 9, 0, 1, 2, 3, 4, 5, 6, 7, 8, 9]"
      ]
     },
     "execution_count": 99,
     "metadata": {},
     "output_type": "execute_result"
    }
   ],
   "source": [
    "lll"
   ]
  },
  {
   "cell_type": "code",
   "execution_count": null,
   "id": "607c7329",
   "metadata": {},
   "outputs": [],
   "source": []
  },
  {
   "cell_type": "markdown",
   "id": "fdb87e56",
   "metadata": {},
   "source": [
    "## 3-4 집합"
   ]
  },
  {
   "cell_type": "markdown",
   "id": "c91241a6",
   "metadata": {},
   "source": [
    "## 3-4-1 변경가능한 집합 "
   ]
  },
  {
   "cell_type": "code",
   "execution_count": 100,
   "id": "69cc03c7",
   "metadata": {},
   "outputs": [],
   "source": [
    "ss0 = set()"
   ]
  },
  {
   "cell_type": "code",
   "execution_count": 101,
   "id": "b0f5c63a",
   "metadata": {},
   "outputs": [],
   "source": [
    "ss1 = {1}"
   ]
  },
  {
   "cell_type": "code",
   "execution_count": 102,
   "id": "97ddf95d",
   "metadata": {},
   "outputs": [
    {
     "name": "stdout",
     "output_type": "stream",
     "text": [
      "add, clear, copy, difference, difference_update, discard, intersection, intersection_update, isdisjoint, issubset, issuperset, pop, remove, symmetric_difference, symmetric_difference_update, union, update, "
     ]
    }
   ],
   "source": [
    "for i in dir(ss0) :\n",
    "    if not i.startswith(\"_\") :\n",
    "        print(i,end=\", \")"
   ]
  },
  {
   "cell_type": "markdown",
   "id": "aaf71c7a",
   "metadata": {},
   "source": [
    "## 3-4-2 변경 불가능한 집합 "
   ]
  },
  {
   "cell_type": "code",
   "execution_count": 103,
   "id": "30992ad9",
   "metadata": {},
   "outputs": [],
   "source": [
    "fs0 = frozenset()"
   ]
  },
  {
   "cell_type": "code",
   "execution_count": 104,
   "id": "bd06cef2",
   "metadata": {},
   "outputs": [],
   "source": [
    "fs1 = frozenset([100])        # 튜플, 리스트 등으로 인자를 전달해야 함 "
   ]
  },
  {
   "cell_type": "code",
   "execution_count": 105,
   "id": "d6343e36",
   "metadata": {},
   "outputs": [
    {
     "name": "stdout",
     "output_type": "stream",
     "text": [
      "copy, difference, intersection, isdisjoint, issubset, issuperset, symmetric_difference, union, "
     ]
    }
   ],
   "source": [
    "for i in dir(fs0) :\n",
    "    if not i.startswith(\"_\") :\n",
    "        print(i,end=\", \")"
   ]
  },
  {
   "cell_type": "code",
   "execution_count": null,
   "id": "5b0d709f",
   "metadata": {},
   "outputs": [],
   "source": []
  },
  {
   "cell_type": "markdown",
   "id": "74f71c41",
   "metadata": {},
   "source": [
    "## 3-5 딕셔너리\n",
    "\n",
    "- 모든 요소는 키와 값으로 구성한다.\n",
    "- 키는 항상 변경이 불가능한 자료형으로 구성되어야 한다.\n",
    "- 보통 키는 숫자, 문자열, 튜플 등으로 구성한다."
   ]
  },
  {
   "cell_type": "code",
   "execution_count": null,
   "id": "f1749a2d",
   "metadata": {},
   "outputs": [],
   "source": []
  },
  {
   "cell_type": "markdown",
   "id": "6b237b4e",
   "metadata": {},
   "source": [
    "## 3-5-1 딕셔너리 생성 "
   ]
  },
  {
   "cell_type": "markdown",
   "id": "8787303d",
   "metadata": {},
   "source": [
    "### 리터럴로 딕셔너리 생성"
   ]
  },
  {
   "cell_type": "code",
   "execution_count": 106,
   "id": "f6d00934",
   "metadata": {},
   "outputs": [],
   "source": [
    "dd0 = {}"
   ]
  },
  {
   "cell_type": "code",
   "execution_count": 107,
   "id": "0016f1de",
   "metadata": {},
   "outputs": [],
   "source": [
    "dd1 = {\"a\":100}"
   ]
  },
  {
   "cell_type": "markdown",
   "id": "73ade007",
   "metadata": {},
   "source": [
    "### 키와 값을 쌍으로 만들어서 객체 생성\n",
    "\n",
    "- 두 개의 리스트를 zip을 사용해서 두 개의 요소를 가진 튜플로 묶은 리스트를 만든다."
   ]
  },
  {
   "cell_type": "code",
   "execution_count": 108,
   "id": "2b5b729d",
   "metadata": {},
   "outputs": [],
   "source": [
    "ll = [1,2,3,4,]\n",
    "ss = list(\"abcd\")"
   ]
  },
  {
   "cell_type": "code",
   "execution_count": 109,
   "id": "33b0c04d",
   "metadata": {},
   "outputs": [],
   "source": [
    "llss = [*zip(ll,ss)]"
   ]
  },
  {
   "cell_type": "code",
   "execution_count": 110,
   "id": "58529290",
   "metadata": {},
   "outputs": [],
   "source": [
    "dd = dict(llss)"
   ]
  },
  {
   "cell_type": "code",
   "execution_count": 111,
   "id": "eda104c2",
   "metadata": {},
   "outputs": [
    {
     "data": {
      "text/plain": [
       "{1: 'a', 2: 'b', 3: 'c', 4: 'd'}"
      ]
     },
     "execution_count": 111,
     "metadata": {},
     "output_type": "execute_result"
    }
   ],
   "source": [
    "dd"
   ]
  },
  {
   "cell_type": "code",
   "execution_count": null,
   "id": "a77b91b0",
   "metadata": {},
   "outputs": [],
   "source": []
  },
  {
   "cell_type": "markdown",
   "id": "736523bc",
   "metadata": {},
   "source": [
    "## 3-5-2 딕셔너리 메서드 사용"
   ]
  },
  {
   "cell_type": "code",
   "execution_count": 112,
   "id": "36be1a13",
   "metadata": {},
   "outputs": [
    {
     "name": "stdout",
     "output_type": "stream",
     "text": [
      "clear, copy, fromkeys, get, items, keys, pop, popitem, setdefault, update, values, "
     ]
    }
   ],
   "source": [
    "for i in dir(dd0) :\n",
    "    if not i.startswith(\"_\") :\n",
    "        print(i,end=\", \")"
   ]
  },
  {
   "cell_type": "code",
   "execution_count": null,
   "id": "abcbe188",
   "metadata": {},
   "outputs": [],
   "source": []
  },
  {
   "cell_type": "code",
   "execution_count": null,
   "id": "edd24dae",
   "metadata": {},
   "outputs": [],
   "source": []
  },
  {
   "cell_type": "markdown",
   "id": "e6d5605d",
   "metadata": {},
   "source": [
    "## 3-6 컴프리헨션 \n",
    "\n",
    "- 리스트, 집합, 딕셔너리의 요소들을 나열하지 않고 축약으로 표기하는 법 \n",
    "- 많은 요소를 가질 경우 이 방식을 사용해서 표기해서 사용"
   ]
  },
  {
   "cell_type": "markdown",
   "id": "cf4dd2e5",
   "metadata": {},
   "source": [
    "## 3-6-1 리스트 컴프리헨션 "
   ]
  },
  {
   "cell_type": "markdown",
   "id": "97c7e64c",
   "metadata": {},
   "source": [
    "### 리스트에 요소를 추가하기"
   ]
  },
  {
   "cell_type": "code",
   "execution_count": 113,
   "id": "22008b10",
   "metadata": {},
   "outputs": [],
   "source": [
    "llll = [] \n",
    "for i in range(100) :\n",
    "    llll.append(i)"
   ]
  },
  {
   "cell_type": "code",
   "execution_count": 114,
   "id": "f847f259",
   "metadata": {},
   "outputs": [
    {
     "data": {
      "text/plain": [
       "100"
      ]
     },
     "execution_count": 114,
     "metadata": {},
     "output_type": "execute_result"
    }
   ],
   "source": [
    "len(llll)"
   ]
  },
  {
   "cell_type": "markdown",
   "id": "0a1a9057",
   "metadata": {},
   "source": [
    "### 컴프리헨션으로 바로 요소 추가하기"
   ]
  },
  {
   "cell_type": "code",
   "execution_count": 115,
   "id": "8f02ac78",
   "metadata": {},
   "outputs": [],
   "source": [
    "l100 = [i for i in range(100)]"
   ]
  },
  {
   "cell_type": "code",
   "execution_count": 116,
   "id": "8bbf111e",
   "metadata": {},
   "outputs": [
    {
     "data": {
      "text/plain": [
       "100"
      ]
     },
     "execution_count": 116,
     "metadata": {},
     "output_type": "execute_result"
    }
   ],
   "source": [
    "len(l100)"
   ]
  },
  {
   "cell_type": "code",
   "execution_count": 117,
   "id": "ae748553",
   "metadata": {},
   "outputs": [
    {
     "data": {
      "text/plain": [
       "[0, 1, 2, 3, 4, 5, 6, 7, 8, 9]"
      ]
     },
     "execution_count": 117,
     "metadata": {},
     "output_type": "execute_result"
    }
   ],
   "source": [
    "l100[:10]"
   ]
  },
  {
   "cell_type": "markdown",
   "id": "e32d49ee",
   "metadata": {},
   "source": [
    "### 특정값을 필터링해서 요소 추가하기"
   ]
  },
  {
   "cell_type": "code",
   "execution_count": 118,
   "id": "2c93155c",
   "metadata": {},
   "outputs": [],
   "source": [
    "llll = [] \n",
    "for i in range(100) :\n",
    "    if i % 2 == 0 :\n",
    "        llll.append(i)"
   ]
  },
  {
   "cell_type": "code",
   "execution_count": 119,
   "id": "3bee0d27",
   "metadata": {},
   "outputs": [
    {
     "data": {
      "text/plain": [
       "50"
      ]
     },
     "execution_count": 119,
     "metadata": {},
     "output_type": "execute_result"
    }
   ],
   "source": [
    "len(llll)"
   ]
  },
  {
   "cell_type": "markdown",
   "id": "6fdb5a2a",
   "metadata": {},
   "source": [
    "### 컴프리헨션에서 가드를 사용해서 필터링하기 "
   ]
  },
  {
   "cell_type": "code",
   "execution_count": 120,
   "id": "f806b9f0",
   "metadata": {},
   "outputs": [],
   "source": [
    "l50 = [i for i in range(100) if i % 2 == 0]"
   ]
  },
  {
   "cell_type": "code",
   "execution_count": 121,
   "id": "9fb8b3b6",
   "metadata": {},
   "outputs": [
    {
     "data": {
      "text/plain": [
       "50"
      ]
     },
     "execution_count": 121,
     "metadata": {},
     "output_type": "execute_result"
    }
   ],
   "source": [
    "len(l50)"
   ]
  },
  {
   "cell_type": "markdown",
   "id": "3c8291e9",
   "metadata": {},
   "source": [
    "## 3-6-2 집합 컴프리헨션 "
   ]
  },
  {
   "cell_type": "markdown",
   "id": "dcc52082",
   "metadata": {},
   "source": [
    "### 집합인 경우도 가능\n"
   ]
  },
  {
   "cell_type": "code",
   "execution_count": 122,
   "id": "d75c4ae9",
   "metadata": {},
   "outputs": [],
   "source": [
    "s100 = {i for i in range(100)}"
   ]
  },
  {
   "cell_type": "code",
   "execution_count": 123,
   "id": "a8e85f0c",
   "metadata": {},
   "outputs": [
    {
     "data": {
      "text/plain": [
       "100"
      ]
     },
     "execution_count": 123,
     "metadata": {},
     "output_type": "execute_result"
    }
   ],
   "source": [
    "len(s100)"
   ]
  },
  {
   "cell_type": "code",
   "execution_count": null,
   "id": "6fddd621",
   "metadata": {},
   "outputs": [],
   "source": []
  },
  {
   "cell_type": "markdown",
   "id": "8e35a413",
   "metadata": {},
   "source": [
    "## 3-6-3 딕셔너리 컴프리헨션 "
   ]
  },
  {
   "cell_type": "markdown",
   "id": "064ea447",
   "metadata": {},
   "source": [
    "### 키와 값을 처리하는 부분이 집합과 다르다.\n",
    "\n",
    "- enumerate 함수는 인덱스와 값을 반환한다.\n",
    "- 그래서 두개의 변수로 분리해서 처리"
   ]
  },
  {
   "cell_type": "code",
   "execution_count": 124,
   "id": "1dbe9f9f",
   "metadata": {},
   "outputs": [],
   "source": [
    "dd100 = {i:v for i,v in enumerate(range(100))}"
   ]
  },
  {
   "cell_type": "code",
   "execution_count": 125,
   "id": "aa863db6",
   "metadata": {},
   "outputs": [
    {
     "data": {
      "text/plain": [
       "100"
      ]
     },
     "execution_count": 125,
     "metadata": {},
     "output_type": "execute_result"
    }
   ],
   "source": [
    "len(dd100)"
   ]
  },
  {
   "cell_type": "markdown",
   "id": "e93123a4",
   "metadata": {},
   "source": [
    "### 키의 원소만 추출하기"
   ]
  },
  {
   "cell_type": "code",
   "execution_count": 126,
   "id": "1c13d700",
   "metadata": {},
   "outputs": [],
   "source": [
    "keys = dd100.keys()"
   ]
  },
  {
   "cell_type": "code",
   "execution_count": 127,
   "id": "a3037ac3",
   "metadata": {},
   "outputs": [
    {
     "data": {
      "text/plain": [
       "dict_keys([0, 1, 2, 3, 4, 5, 6, 7, 8, 9, 10, 11, 12, 13, 14, 15, 16, 17, 18, 19, 20, 21, 22, 23, 24, 25, 26, 27, 28, 29, 30, 31, 32, 33, 34, 35, 36, 37, 38, 39, 40, 41, 42, 43, 44, 45, 46, 47, 48, 49, 50, 51, 52, 53, 54, 55, 56, 57, 58, 59, 60, 61, 62, 63, 64, 65, 66, 67, 68, 69, 70, 71, 72, 73, 74, 75, 76, 77, 78, 79, 80, 81, 82, 83, 84, 85, 86, 87, 88, 89, 90, 91, 92, 93, 94, 95, 96, 97, 98, 99])"
      ]
     },
     "execution_count": 127,
     "metadata": {},
     "output_type": "execute_result"
    }
   ],
   "source": [
    "keys"
   ]
  },
  {
   "cell_type": "markdown",
   "id": "ba4a58f4",
   "metadata": {},
   "source": [
    "### 특정 값만 가드를 사용해서 필터링하기"
   ]
  },
  {
   "cell_type": "code",
   "execution_count": 128,
   "id": "6603fd2c",
   "metadata": {},
   "outputs": [
    {
     "data": {
      "text/plain": [
       "{0: 0, 1: 1, 2: 2, 3: 3, 4: 4, 5: 5, 6: 6, 7: 7, 8: 8, 9: 9}"
      ]
     },
     "execution_count": 128,
     "metadata": {},
     "output_type": "execute_result"
    }
   ],
   "source": [
    "{k: dd100[k] for k in keys if k < 10 }"
   ]
  },
  {
   "cell_type": "markdown",
   "id": "5b0aa54c",
   "metadata": {},
   "source": [
    "### 딕셔너리의 값만 가져오기"
   ]
  },
  {
   "cell_type": "code",
   "execution_count": 129,
   "id": "f75c80eb",
   "metadata": {},
   "outputs": [
    {
     "data": {
      "text/plain": [
       "dict_values([0, 1, 2, 3, 4, 5, 6, 7, 8, 9, 10, 11, 12, 13, 14, 15, 16, 17, 18, 19, 20, 21, 22, 23, 24, 25, 26, 27, 28, 29, 30, 31, 32, 33, 34, 35, 36, 37, 38, 39, 40, 41, 42, 43, 44, 45, 46, 47, 48, 49, 50, 51, 52, 53, 54, 55, 56, 57, 58, 59, 60, 61, 62, 63, 64, 65, 66, 67, 68, 69, 70, 71, 72, 73, 74, 75, 76, 77, 78, 79, 80, 81, 82, 83, 84, 85, 86, 87, 88, 89, 90, 91, 92, 93, 94, 95, 96, 97, 98, 99])"
      ]
     },
     "execution_count": 129,
     "metadata": {},
     "output_type": "execute_result"
    }
   ],
   "source": [
    "dd100.values()"
   ]
  },
  {
   "cell_type": "markdown",
   "id": "777f7655",
   "metadata": {},
   "source": [
    "### 딕셔너리의 키와 값의 순서쌍을 출력하기 "
   ]
  },
  {
   "cell_type": "code",
   "execution_count": 130,
   "id": "cd459ed9",
   "metadata": {},
   "outputs": [
    {
     "data": {
      "text/plain": [
       "dict_items([(0, 0), (1, 1), (2, 2), (3, 3), (4, 4), (5, 5), (6, 6), (7, 7), (8, 8), (9, 9), (10, 10), (11, 11), (12, 12), (13, 13), (14, 14), (15, 15), (16, 16), (17, 17), (18, 18), (19, 19), (20, 20), (21, 21), (22, 22), (23, 23), (24, 24), (25, 25), (26, 26), (27, 27), (28, 28), (29, 29), (30, 30), (31, 31), (32, 32), (33, 33), (34, 34), (35, 35), (36, 36), (37, 37), (38, 38), (39, 39), (40, 40), (41, 41), (42, 42), (43, 43), (44, 44), (45, 45), (46, 46), (47, 47), (48, 48), (49, 49), (50, 50), (51, 51), (52, 52), (53, 53), (54, 54), (55, 55), (56, 56), (57, 57), (58, 58), (59, 59), (60, 60), (61, 61), (62, 62), (63, 63), (64, 64), (65, 65), (66, 66), (67, 67), (68, 68), (69, 69), (70, 70), (71, 71), (72, 72), (73, 73), (74, 74), (75, 75), (76, 76), (77, 77), (78, 78), (79, 79), (80, 80), (81, 81), (82, 82), (83, 83), (84, 84), (85, 85), (86, 86), (87, 87), (88, 88), (89, 89), (90, 90), (91, 91), (92, 92), (93, 93), (94, 94), (95, 95), (96, 96), (97, 97), (98, 98), (99, 99)])"
      ]
     },
     "execution_count": 130,
     "metadata": {},
     "output_type": "execute_result"
    }
   ],
   "source": [
    "dd100.items()"
   ]
  },
  {
   "cell_type": "code",
   "execution_count": null,
   "id": "47ec8edd",
   "metadata": {},
   "outputs": [],
   "source": []
  }
 ],
 "metadata": {
  "kernelspec": {
   "display_name": "Python 3 (ipykernel)",
   "language": "python",
   "name": "python3"
  },
  "language_info": {
   "codemirror_mode": {
    "name": "ipython",
    "version": 3
   },
   "file_extension": ".py",
   "mimetype": "text/x-python",
   "name": "python",
   "nbconvert_exporter": "python",
   "pygments_lexer": "ipython3",
   "version": "3.9.15"
  }
 },
 "nbformat": 4,
 "nbformat_minor": 5
}
