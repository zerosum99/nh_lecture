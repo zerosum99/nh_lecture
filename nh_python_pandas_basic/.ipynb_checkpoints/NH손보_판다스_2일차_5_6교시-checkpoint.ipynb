{
 "cells": [
  {
   "cell_type": "code",
   "execution_count": null,
   "id": "36135047",
   "metadata": {},
   "outputs": [],
   "source": []
  },
  {
   "cell_type": "markdown",
   "id": "4eac8389",
   "metadata": {},
   "source": [
    "# 3. 판다스 데이터 전처리 "
   ]
  },
  {
   "cell_type": "code",
   "execution_count": 1,
   "id": "ffee85f9",
   "metadata": {},
   "outputs": [],
   "source": [
    "import pandas as pd"
   ]
  },
  {
   "cell_type": "code",
   "execution_count": 3,
   "id": "ff99e4b1",
   "metadata": {},
   "outputs": [],
   "source": [
    "import numpy as np"
   ]
  },
  {
   "cell_type": "code",
   "execution_count": 2,
   "id": "d2b8b2f0",
   "metadata": {},
   "outputs": [],
   "source": [
    "df = pd.read_csv(\"../data/diabetic_data_new.csv\")"
   ]
  },
  {
   "cell_type": "code",
   "execution_count": 4,
   "id": "1b0ec252",
   "metadata": {},
   "outputs": [],
   "source": [
    "df_1 = df.replace(\"?\", np.nan).copy()"
   ]
  },
  {
   "cell_type": "code",
   "execution_count": 5,
   "id": "57827c89",
   "metadata": {},
   "outputs": [
    {
     "name": "stdout",
     "output_type": "stream",
     "text": [
      "<class 'pandas.core.frame.DataFrame'>\n",
      "RangeIndex: 101766 entries, 0 to 101765\n",
      "Data columns (total 50 columns):\n",
      " #   Column                    Non-Null Count   Dtype \n",
      "---  ------                    --------------   ----- \n",
      " 0   encounter_id              101766 non-null  int64 \n",
      " 1   patient_nbr               101766 non-null  int64 \n",
      " 2   race                      99493 non-null   object\n",
      " 3   gender                    101766 non-null  object\n",
      " 4   age                       101766 non-null  object\n",
      " 5   weight                    3197 non-null    object\n",
      " 6   admission_type_id         101766 non-null  int64 \n",
      " 7   discharge_disposition_id  101766 non-null  int64 \n",
      " 8   admission_source_id       101766 non-null  int64 \n",
      " 9   time_in_hospital          101766 non-null  int64 \n",
      " 10  payer_code                61510 non-null   object\n",
      " 11  medical_specialty         51817 non-null   object\n",
      " 12  num_lab_procedures        101766 non-null  int64 \n",
      " 13  num_procedures            101766 non-null  int64 \n",
      " 14  num_medications           101766 non-null  int64 \n",
      " 15  number_outpatient         101766 non-null  int64 \n",
      " 16  number_emergency          101766 non-null  int64 \n",
      " 17  number_inpatient          101766 non-null  int64 \n",
      " 18  diag_1                    101745 non-null  object\n",
      " 19  diag_2                    101408 non-null  object\n",
      " 20  diag_3                    100343 non-null  object\n",
      " 21  number_diagnoses          101766 non-null  int64 \n",
      " 22  max_glu_serum             101766 non-null  object\n",
      " 23  A1Cresult                 101766 non-null  object\n",
      " 24  metformin                 101766 non-null  object\n",
      " 25  repaglinide               101766 non-null  object\n",
      " 26  nateglinide               101766 non-null  object\n",
      " 27  chlorpropamide            101766 non-null  object\n",
      " 28  glimepiride               101766 non-null  object\n",
      " 29  acetohexamide             101766 non-null  object\n",
      " 30  glipizide                 101766 non-null  object\n",
      " 31  glyburide                 101766 non-null  object\n",
      " 32  tolbutamide               101766 non-null  object\n",
      " 33  pioglitazone              101766 non-null  object\n",
      " 34  rosiglitazone             101766 non-null  object\n",
      " 35  acarbose                  101766 non-null  object\n",
      " 36  miglitol                  101766 non-null  object\n",
      " 37  troglitazone              101766 non-null  object\n",
      " 38  tolazamide                101766 non-null  object\n",
      " 39  examide                   101766 non-null  object\n",
      " 40  citoglipton               101766 non-null  object\n",
      " 41  insulin                   101766 non-null  object\n",
      " 42  glyburide_metformin       101766 non-null  object\n",
      " 43  glipizide_metformin       101766 non-null  object\n",
      " 44  glimepiride_pioglitazone  101766 non-null  object\n",
      " 45  metformin_rosiglitazone   101766 non-null  object\n",
      " 46  metformin_pioglitazone    101766 non-null  object\n",
      " 47  change                    101766 non-null  object\n",
      " 48  diabetesMed               101766 non-null  object\n",
      " 49  readmitted                101766 non-null  object\n",
      "dtypes: int64(13), object(37)\n",
      "memory usage: 38.8+ MB\n"
     ]
    }
   ],
   "source": [
    "df_1.info()"
   ]
  },
  {
   "cell_type": "markdown",
   "id": "92c1efd1",
   "metadata": {},
   "source": [
    "## 3-1  널값 처리 "
   ]
  },
  {
   "cell_type": "code",
   "execution_count": 45,
   "id": "06d5fc27",
   "metadata": {},
   "outputs": [
    {
     "data": {
      "text/plain": [
       "encounter_id                    0\n",
       "patient_nbr                     0\n",
       "race                         2273\n",
       "gender                          0\n",
       "age                             0\n",
       "weight                      98569\n",
       "admission_type_id               0\n",
       "discharge_disposition_id        0\n",
       "admission_source_id             0\n",
       "time_in_hospital                0\n",
       "payer_code                  40256\n",
       "medical_specialty           49949\n",
       "num_lab_procedures              0\n",
       "num_procedures                  0\n",
       "num_medications                 0\n",
       "number_outpatient               0\n",
       "number_emergency                0\n",
       "number_inpatient                0\n",
       "diag_1                         21\n",
       "diag_2                        358\n",
       "diag_3                       1423\n",
       "number_diagnoses                0\n",
       "max_glu_serum                   0\n",
       "A1Cresult                       0\n",
       "metformin                       0\n",
       "repaglinide                     0\n",
       "nateglinide                     0\n",
       "chlorpropamide                  0\n",
       "glimepiride                     0\n",
       "acetohexamide                   0\n",
       "glipizide                       0\n",
       "glyburide                       0\n",
       "tolbutamide                     0\n",
       "pioglitazone                    0\n",
       "rosiglitazone                   0\n",
       "acarbose                        0\n",
       "miglitol                        0\n",
       "troglitazone                    0\n",
       "tolazamide                      0\n",
       "examide                         0\n",
       "citoglipton                     0\n",
       "insulin                         0\n",
       "glyburide_metformin             0\n",
       "glipizide_metformin             0\n",
       "glimepiride_pioglitazone        0\n",
       "metformin_rosiglitazone         0\n",
       "metformin_pioglitazone          0\n",
       "change                          0\n",
       "diabetesMed                     0\n",
       "readmitted                      0\n",
       "dtype: int64"
      ]
     },
     "execution_count": 45,
     "metadata": {},
     "output_type": "execute_result"
    }
   ],
   "source": [
    "df_1.isna().sum()"
   ]
  },
  {
   "cell_type": "code",
   "execution_count": null,
   "id": "6ef37ed8",
   "metadata": {},
   "outputs": [],
   "source": []
  },
  {
   "cell_type": "code",
   "execution_count": 48,
   "id": "2b25cb5a",
   "metadata": {},
   "outputs": [],
   "source": [
    "df_col_null = df_1.columns[df_1.isna().sum() > 0 ]"
   ]
  },
  {
   "cell_type": "code",
   "execution_count": 49,
   "id": "9f74ad9b",
   "metadata": {},
   "outputs": [
    {
     "data": {
      "text/plain": [
       "race                  2273\n",
       "weight               98569\n",
       "payer_code           40256\n",
       "medical_specialty    49949\n",
       "diag_1                  21\n",
       "diag_2                 358\n",
       "diag_3                1423\n",
       "dtype: int64"
      ]
     },
     "execution_count": 49,
     "metadata": {},
     "output_type": "execute_result"
    }
   ],
   "source": [
    "df_1[df_col_null].isna().sum()"
   ]
  },
  {
   "cell_type": "code",
   "execution_count": 51,
   "id": "b504daa1",
   "metadata": {},
   "outputs": [
    {
     "data": {
      "text/plain": [
       "race                 object\n",
       "weight               object\n",
       "payer_code           object\n",
       "medical_specialty    object\n",
       "diag_1               object\n",
       "diag_2               object\n",
       "diag_3               object\n",
       "dtype: object"
      ]
     },
     "execution_count": 51,
     "metadata": {},
     "output_type": "execute_result"
    }
   ],
   "source": [
    "df_1[df_col_null].dtypes"
   ]
  },
  {
   "cell_type": "markdown",
   "id": "22633a74",
   "metadata": {},
   "source": [
    "## 3-2 문자열 자료 변형하기"
   ]
  },
  {
   "cell_type": "code",
   "execution_count": null,
   "id": "257c1ae4",
   "metadata": {},
   "outputs": [],
   "source": []
  },
  {
   "cell_type": "code",
   "execution_count": 6,
   "id": "35ff9c2f",
   "metadata": {},
   "outputs": [],
   "source": [
    "df_str = df.select_dtypes(include='object')"
   ]
  },
  {
   "cell_type": "code",
   "execution_count": 7,
   "id": "bab74811",
   "metadata": {},
   "outputs": [
    {
     "data": {
      "text/plain": [
       "Index(['race', 'gender', 'age', 'weight', 'payer_code', 'medical_specialty',\n",
       "       'diag_1', 'diag_2', 'diag_3', 'max_glu_serum', 'A1Cresult', 'metformin',\n",
       "       'repaglinide', 'nateglinide', 'chlorpropamide', 'glimepiride',\n",
       "       'acetohexamide', 'glipizide', 'glyburide', 'tolbutamide',\n",
       "       'pioglitazone', 'rosiglitazone', 'acarbose', 'miglitol', 'troglitazone',\n",
       "       'tolazamide', 'examide', 'citoglipton', 'insulin',\n",
       "       'glyburide_metformin', 'glipizide_metformin',\n",
       "       'glimepiride_pioglitazone', 'metformin_rosiglitazone',\n",
       "       'metformin_pioglitazone', 'change', 'diabetesMed', 'readmitted'],\n",
       "      dtype='object')"
      ]
     },
     "execution_count": 7,
     "metadata": {},
     "output_type": "execute_result"
    }
   ],
   "source": [
    "df_str.columns"
   ]
  },
  {
   "cell_type": "code",
   "execution_count": 10,
   "id": "ee881b69",
   "metadata": {},
   "outputs": [
    {
     "data": {
      "text/plain": [
       "Female             54708\n",
       "Male               47055\n",
       "Unknown/Invalid        3\n",
       "Name: gender, dtype: int64"
      ]
     },
     "execution_count": 10,
     "metadata": {},
     "output_type": "execute_result"
    }
   ],
   "source": [
    "df['gender'].value_counts()"
   ]
  },
  {
   "cell_type": "code",
   "execution_count": 12,
   "id": "d9325059",
   "metadata": {},
   "outputs": [],
   "source": [
    "ss = df['gender'].replace('Unknown/Invalid', 'other' )"
   ]
  },
  {
   "cell_type": "code",
   "execution_count": 14,
   "id": "153519e2",
   "metadata": {},
   "outputs": [
    {
     "data": {
      "text/plain": [
       "Female    54708\n",
       "Male      47055\n",
       "other         3\n",
       "Name: gender, dtype: int64"
      ]
     },
     "execution_count": 14,
     "metadata": {},
     "output_type": "execute_result"
    }
   ],
   "source": [
    "ss.value_counts()"
   ]
  },
  {
   "cell_type": "code",
   "execution_count": null,
   "id": "874d79fa",
   "metadata": {},
   "outputs": [],
   "source": []
  },
  {
   "cell_type": "code",
   "execution_count": 16,
   "id": "313ae287",
   "metadata": {},
   "outputs": [
    {
     "data": {
      "text/plain": [
       "428    6862\n",
       "414    6581\n",
       "786    4016\n",
       "410    3614\n",
       "486    3508\n",
       "       ... \n",
       "373       1\n",
       "314       1\n",
       "684       1\n",
       "217       1\n",
       "V51       1\n",
       "Name: diag_1, Length: 717, dtype: int64"
      ]
     },
     "execution_count": 16,
     "metadata": {},
     "output_type": "execute_result"
    }
   ],
   "source": [
    "df['diag_1'].value_counts() "
   ]
  },
  {
   "cell_type": "code",
   "execution_count": 20,
   "id": "e70f1696",
   "metadata": {},
   "outputs": [],
   "source": [
    "xx = df['diag_1'].value_counts().index"
   ]
  },
  {
   "cell_type": "code",
   "execution_count": 30,
   "id": "a8cbf99d",
   "metadata": {},
   "outputs": [],
   "source": [
    "aa = []\n",
    "for i in xx :\n",
    "    if i[0].isdecimal() :\n",
    "        continue\n",
    "    else :\n",
    "        aa.append(i)"
   ]
  },
  {
   "cell_type": "code",
   "execution_count": 31,
   "id": "fce05af9",
   "metadata": {},
   "outputs": [
    {
     "data": {
      "text/plain": [
       "['V57',\n",
       " 'V58',\n",
       " 'V55',\n",
       " 'V54',\n",
       " 'V53',\n",
       " '?',\n",
       " 'V56',\n",
       " 'V71',\n",
       " 'V63',\n",
       " 'V45',\n",
       " 'V26',\n",
       " 'V66',\n",
       " 'V07',\n",
       " 'E909',\n",
       " 'V70',\n",
       " 'V43',\n",
       " 'V60',\n",
       " 'V25',\n",
       " 'V67',\n",
       " 'V51']"
      ]
     },
     "execution_count": 31,
     "metadata": {},
     "output_type": "execute_result"
    }
   ],
   "source": [
    "aa"
   ]
  },
  {
   "cell_type": "code",
   "execution_count": 19,
   "id": "5ae18474",
   "metadata": {},
   "outputs": [
    {
     "data": {
      "text/plain": [
       "1644"
      ]
     },
     "execution_count": 19,
     "metadata": {},
     "output_type": "execute_result"
    }
   ],
   "source": [
    "df['diag_1'].str.startswith(\"V\").sum()"
   ]
  },
  {
   "cell_type": "code",
   "execution_count": 32,
   "id": "e58475c9",
   "metadata": {},
   "outputs": [
    {
     "data": {
      "text/plain": [
       "1"
      ]
     },
     "execution_count": 32,
     "metadata": {},
     "output_type": "execute_result"
    }
   ],
   "source": [
    "df['diag_1'].str.startswith(\"E\").sum()"
   ]
  },
  {
   "cell_type": "code",
   "execution_count": 35,
   "id": "f59a4961",
   "metadata": {},
   "outputs": [
    {
     "data": {
      "text/plain": [
       "0"
      ]
     },
     "execution_count": 35,
     "metadata": {},
     "output_type": "execute_result"
    }
   ],
   "source": [
    "df['diag_1'].str.replace(\"V\",\"0\").str.startswith(\"V\").sum()"
   ]
  },
  {
   "cell_type": "code",
   "execution_count": 36,
   "id": "235f6c8d",
   "metadata": {},
   "outputs": [
    {
     "data": {
      "text/plain": [
       "0"
      ]
     },
     "execution_count": 36,
     "metadata": {},
     "output_type": "execute_result"
    }
   ],
   "source": [
    "df['diag_1'].str.replace(\"E\",\"0\").str.startswith(\"E\").sum()"
   ]
  },
  {
   "cell_type": "markdown",
   "id": "fd5945ca",
   "metadata": {},
   "source": [
    "## 3-3 날짜 자료 변형하기 "
   ]
  },
  {
   "cell_type": "code",
   "execution_count": null,
   "id": "26a060db",
   "metadata": {},
   "outputs": [],
   "source": []
  },
  {
   "cell_type": "code",
   "execution_count": 38,
   "id": "0285a042",
   "metadata": {},
   "outputs": [],
   "source": [
    "df_day = pd.read_csv(\"../data/covid/day_wise.csv\")"
   ]
  },
  {
   "cell_type": "code",
   "execution_count": 39,
   "id": "80b64209",
   "metadata": {},
   "outputs": [
    {
     "name": "stdout",
     "output_type": "stream",
     "text": [
      "<class 'pandas.core.frame.DataFrame'>\n",
      "RangeIndex: 188 entries, 0 to 187\n",
      "Data columns (total 12 columns):\n",
      " #   Column                  Non-Null Count  Dtype  \n",
      "---  ------                  --------------  -----  \n",
      " 0   Date                    188 non-null    object \n",
      " 1   Confirmed               188 non-null    int64  \n",
      " 2   Deaths                  188 non-null    int64  \n",
      " 3   Recovered               188 non-null    int64  \n",
      " 4   Active                  188 non-null    int64  \n",
      " 5   New cases               188 non-null    int64  \n",
      " 6   New deaths              188 non-null    int64  \n",
      " 7   New recovered           188 non-null    int64  \n",
      " 8   Deaths / 100 Cases      188 non-null    float64\n",
      " 9   Recovered / 100 Cases   188 non-null    float64\n",
      " 10  Deaths / 100 Recovered  188 non-null    float64\n",
      " 11  No. of countries        188 non-null    int64  \n",
      "dtypes: float64(3), int64(8), object(1)\n",
      "memory usage: 17.8+ KB\n"
     ]
    }
   ],
   "source": [
    "df_day.info()"
   ]
  },
  {
   "cell_type": "code",
   "execution_count": 43,
   "id": "9dd8a4d4",
   "metadata": {},
   "outputs": [],
   "source": [
    "df_day['Date'] = pd.to_datetime(df_day['Date'])"
   ]
  },
  {
   "cell_type": "code",
   "execution_count": 44,
   "id": "d8b6fd73",
   "metadata": {},
   "outputs": [
    {
     "data": {
      "text/plain": [
       "<pandas.core.indexes.accessors.DatetimeProperties object at 0x1693328e0>"
      ]
     },
     "execution_count": 44,
     "metadata": {},
     "output_type": "execute_result"
    }
   ],
   "source": [
    "df_day['Date'].dt"
   ]
  },
  {
   "cell_type": "code",
   "execution_count": null,
   "id": "96044e38",
   "metadata": {},
   "outputs": [],
   "source": []
  }
 ],
 "metadata": {
  "kernelspec": {
   "display_name": "Python 3 (ipykernel)",
   "language": "python",
   "name": "python3"
  },
  "language_info": {
   "codemirror_mode": {
    "name": "ipython",
    "version": 3
   },
   "file_extension": ".py",
   "mimetype": "text/x-python",
   "name": "python",
   "nbconvert_exporter": "python",
   "pygments_lexer": "ipython3",
   "version": "3.9.15"
  }
 },
 "nbformat": 4,
 "nbformat_minor": 5
}
