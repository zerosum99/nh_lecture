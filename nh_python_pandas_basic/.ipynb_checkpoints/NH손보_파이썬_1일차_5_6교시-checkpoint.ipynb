{
 "cells": [
  {
   "cell_type": "markdown",
   "id": "0d00920b",
   "metadata": {},
   "source": [
    "# 5. 파이썬 클래스 \n",
    "\n",
    "- 클래스는 객체의 속성이나 메서드를 하나로 작성한 템플릿\n",
    "- 이 클래스를 가지고 객체를 생성해서 프로그램을 실행한다. \n",
    "- 그래서 반드시 클래스를 정의한 후에 객체를 생성해 이 객체의 메서드를 가지고 실행한다. \n"
   ]
  },
  {
   "cell_type": "code",
   "execution_count": null,
   "id": "aa59ac83",
   "metadata": {},
   "outputs": [],
   "source": []
  },
  {
   "cell_type": "markdown",
   "id": "3936054a",
   "metadata": {},
   "source": [
    "## 5-1 클래스 정의 및 객체 생성 "
   ]
  },
  {
   "cell_type": "markdown",
   "id": "dfc36cac",
   "metadata": {},
   "source": [
    "### 클래스 정의 \n",
    "\n",
    "- 예약어 class 를 사용한다.\n",
    "- 클래스 이름은 첫문자는 대문자로 사용한다."
   ]
  },
  {
   "cell_type": "code",
   "execution_count": 26,
   "id": "4a377526",
   "metadata": {},
   "outputs": [],
   "source": [
    "class 클래스명(object) :       # 클래스명 다음에 소괄호를 작성해서 상속관계를 표시 \n",
    "    ...                      # 클래스의 본문은 콜론 다음줄에 작성한다. "
   ]
  },
  {
   "cell_type": "code",
   "execution_count": 27,
   "id": "9491d51d",
   "metadata": {},
   "outputs": [
    {
     "data": {
      "text/plain": [
       "<__main__.클래스명 at 0x105be1f40>"
      ]
     },
     "execution_count": 27,
     "metadata": {},
     "output_type": "execute_result"
    }
   ],
   "source": [
    "클래스명()                     # 아무것도 안하는 객체 생성하기 \n",
    "                             # 객체를 생성하면 객체 생성된다. \n",
    "                             # 출력하면 클래스명 at 레퍼런스(주소)로 표시\n",
    "                             # 그래서 객체를 변수에 할당해야 재사용이 가능하다. "
   ]
  },
  {
   "cell_type": "markdown",
   "id": "15f76ca1",
   "metadata": {},
   "source": [
    "### 생성자 작성 : 객체가 관리하는 속성 정의 \n",
    "- __init__ 메서드를 작성\n",
    "- 함수와 메서드의 차이는 메서드에 첫번째 매개변수가 self를 지정해야함\n",
    "- 메서드를 호출하면 자동으로 self 매개변수의 위치에 현재 객체를 인자로 전달해 줌"
   ]
  },
  {
   "cell_type": "code",
   "execution_count": 28,
   "id": "4f46ba85",
   "metadata": {},
   "outputs": [],
   "source": [
    "class Klass :\n",
    "    def __init__(self,name,age) :\n",
    "        self.name = name\n",
    "        self.age = age"
   ]
  },
  {
   "cell_type": "markdown",
   "id": "8c18cc38",
   "metadata": {},
   "source": [
    "### 객체 생성 \n",
    "\n",
    "- 생성자 호출은 클래스 이름과 호출연산자를 사용\n",
    "- 호출연산자에는 __init__ 생성자의 self를 제외한 매개변수에 매칭되는 인자를 전달해야함"
   ]
  },
  {
   "cell_type": "code",
   "execution_count": 29,
   "id": "a02610a2",
   "metadata": {},
   "outputs": [],
   "source": [
    "k = Klass(\"이름\", 33)"
   ]
  },
  {
   "cell_type": "markdown",
   "id": "2b5d1966",
   "metadata": {},
   "source": [
    "### 객체 내부 확인\n",
    "\n",
    "-  객체가 생성되면 내부에 속성를 관리한다.\n",
    "-  객체의 속성을 확인하려면 __dict__ 속성을 사용"
   ]
  },
  {
   "cell_type": "code",
   "execution_count": 30,
   "id": "c8515ca6",
   "metadata": {},
   "outputs": [
    {
     "data": {
      "text/plain": [
       "{'name': '이름', 'age': 33}"
      ]
     },
     "execution_count": 30,
     "metadata": {},
     "output_type": "execute_result"
    }
   ],
   "source": [
    "k.__dict__"
   ]
  },
  {
   "cell_type": "code",
   "execution_count": null,
   "id": "07b57ba1",
   "metadata": {},
   "outputs": [],
   "source": []
  },
  {
   "cell_type": "markdown",
   "id": "ea4b3e42",
   "metadata": {},
   "source": [
    "## 5-2 객체 메서드 정의 "
   ]
  },
  {
   "cell_type": "markdown",
   "id": "cfc4f632",
   "metadata": {},
   "source": [
    "### 객체가 사용하는 메서드 작성\n",
    "- 메서드는 함수처럼 def 예약어와 메서드 이름으로 작성한다\n",
    "- 메서드의 매개변수는 첫번째는 self로 사용하고 그 다음 매개변수는 객체가 호출할 때 인자로 전달될 값에 맞게 작성"
   ]
  },
  {
   "cell_type": "code",
   "execution_count": 31,
   "id": "5a64ba0e",
   "metadata": {},
   "outputs": [],
   "source": [
    "class Arth :\n",
    "    def __init__(self,value) :\n",
    "        self.item = value\n",
    "        \n",
    "    def add(self,value) :                  # 메서드 첫 매개변수는 self로 지정\n",
    "        return self.item + value\n",
    "    \n",
    "    def mul(self,value) :\n",
    "        return self.item * value"
   ]
  },
  {
   "cell_type": "markdown",
   "id": "a27404f5",
   "metadata": {},
   "source": [
    "### 객체를 생성한 후에 메서드를 사용할 수 있다."
   ]
  },
  {
   "cell_type": "code",
   "execution_count": 32,
   "id": "e8549fad",
   "metadata": {},
   "outputs": [],
   "source": [
    "a = Arth(100)"
   ]
  },
  {
   "cell_type": "code",
   "execution_count": 33,
   "id": "2d13eae1",
   "metadata": {},
   "outputs": [
    {
     "data": {
      "text/plain": [
       "300"
      ]
     },
     "execution_count": 33,
     "metadata": {},
     "output_type": "execute_result"
    }
   ],
   "source": [
    "a.add(200)"
   ]
  },
  {
   "cell_type": "code",
   "execution_count": 34,
   "id": "385eaa4f",
   "metadata": {},
   "outputs": [
    {
     "data": {
      "text/plain": [
       "20000"
      ]
     },
     "execution_count": 34,
     "metadata": {},
     "output_type": "execute_result"
    }
   ],
   "source": [
    "a.mul(200)"
   ]
  },
  {
   "cell_type": "markdown",
   "id": "7b0d830f",
   "metadata": {},
   "source": [
    "### 메서드 작동 원리 \n",
    "\n",
    "- 객체가 호출하는 메서드는 실제 첫번째 매개변수에 객체 자신을 전달해서 처리하는 함수 구조\n",
    "- 그래서 객체.메서드를 실행하는 것과 클래스.함수(객체)를 전달해서 처리하는 것과 같은 구조\n"
   ]
  },
  {
   "cell_type": "code",
   "execution_count": 35,
   "id": "342aedaf",
   "metadata": {},
   "outputs": [
    {
     "data": {
      "text/plain": [
       "300"
      ]
     },
     "execution_count": 35,
     "metadata": {},
     "output_type": "execute_result"
    }
   ],
   "source": [
    "Arth.add(a,200)"
   ]
  },
  {
   "cell_type": "markdown",
   "id": "cad6fcda",
   "metadata": {},
   "source": [
    "## 5-3 클래스 메서드 정의 "
   ]
  },
  {
   "cell_type": "markdown",
   "id": "65f94fcf",
   "metadata": {},
   "source": [
    "### 클래스 메서드를 정의하기\n",
    "\n",
    "- 클래스가 직접 호출해서 처리할 수 있는 메서드도 작성할 수 있다.\n",
    "- 다른 프로그램 언어와 다르게 객체도 이 클래스 메서드를 호출할 수 있다. "
   ]
  },
  {
   "cell_type": "code",
   "execution_count": 36,
   "id": "582b4e50",
   "metadata": {},
   "outputs": [],
   "source": [
    "class KlassMethod :\n",
    "    name = \"클래스속성\"\n",
    "    \n",
    "    def __init__(self,value) :\n",
    "        self.name = value               # 객체 속성\n",
    "        \n",
    "    def getName(self) :                 # 메서드 작성 : 객체가 사용하는 메서드라서 self \n",
    "        return self.name                # 객체 속성 조회 \n",
    "    \n",
    "    @classmethod                        # 클래스 메서드 처리 \n",
    "    def getKname(cls) :                 # 메서드 작성 첫번째 인자는 class 의 약자인 cls \n",
    "        return cls.name                 # 클래스의 속성 name을 조회 "
   ]
  },
  {
   "cell_type": "markdown",
   "id": "910ab881",
   "metadata": {},
   "source": [
    "### 클래스가 관리하는 영역을 확인\n",
    "\n",
    "- 클래스는 클래스 속성, 메서드 등을 관리한다."
   ]
  },
  {
   "cell_type": "code",
   "execution_count": 37,
   "id": "a4f66fe0",
   "metadata": {},
   "outputs": [
    {
     "data": {
      "text/plain": [
       "mappingproxy({'__module__': '__main__',\n",
       "              'name': '클래스속성',\n",
       "              '__init__': <function __main__.KlassMethod.__init__(self, value)>,\n",
       "              'getName': <function __main__.KlassMethod.getName(self)>,\n",
       "              'getKname': <classmethod at 0x107004040>,\n",
       "              '__dict__': <attribute '__dict__' of 'KlassMethod' objects>,\n",
       "              '__weakref__': <attribute '__weakref__' of 'KlassMethod' objects>,\n",
       "              '__doc__': None})"
      ]
     },
     "execution_count": 37,
     "metadata": {},
     "output_type": "execute_result"
    }
   ],
   "source": [
    "KlassMethod.__dict__"
   ]
  },
  {
   "cell_type": "markdown",
   "id": "ea34459b",
   "metadata": {},
   "source": [
    "### 객체가 관리하는 영역확인 \n",
    "\n",
    "-  객체는 생성자에서 만든 속성만 관리한다.\n",
    "- 메서드는 전부 클래스 영역에 존재한다"
   ]
  },
  {
   "cell_type": "code",
   "execution_count": 38,
   "id": "dd5ab813",
   "metadata": {},
   "outputs": [
    {
     "data": {
      "text/plain": [
       "{'name': '이름', 'age': 33}"
      ]
     },
     "execution_count": 38,
     "metadata": {},
     "output_type": "execute_result"
    }
   ],
   "source": [
    "k.__dict__"
   ]
  },
  {
   "cell_type": "markdown",
   "id": "78ddc4a8",
   "metadata": {},
   "source": [
    "### 객체를 생성하면 객체관련 속성과 메서드를 사용"
   ]
  },
  {
   "cell_type": "code",
   "execution_count": 39,
   "id": "86f61d08",
   "metadata": {},
   "outputs": [],
   "source": [
    "k = KlassMethod(\"객체속성\")"
   ]
  },
  {
   "cell_type": "code",
   "execution_count": 40,
   "id": "989ae17d",
   "metadata": {},
   "outputs": [
    {
     "data": {
      "text/plain": [
       "'객체속성'"
      ]
     },
     "execution_count": 40,
     "metadata": {},
     "output_type": "execute_result"
    }
   ],
   "source": [
    "k.getName()"
   ]
  },
  {
   "cell_type": "markdown",
   "id": "758436c9",
   "metadata": {},
   "source": [
    "### 클래스로 직접 클래스 속성 상요\n",
    "- 객체를 생성하기 전에도 클래스 이름으로 메서드를 호출할 수 있다."
   ]
  },
  {
   "cell_type": "code",
   "execution_count": 41,
   "id": "fc5b9148",
   "metadata": {},
   "outputs": [
    {
     "data": {
      "text/plain": [
       "'클래스속성'"
      ]
     },
     "execution_count": 41,
     "metadata": {},
     "output_type": "execute_result"
    }
   ],
   "source": [
    "KlassMethod.getKname()"
   ]
  },
  {
   "cell_type": "markdown",
   "id": "6cef7bd8",
   "metadata": {},
   "source": [
    "### 클래스 메서드는 객체가 호출도 가능하다. "
   ]
  },
  {
   "cell_type": "code",
   "execution_count": 42,
   "id": "edd146bf",
   "metadata": {},
   "outputs": [
    {
     "data": {
      "text/plain": [
       "'클래스속성'"
      ]
     },
     "execution_count": 42,
     "metadata": {},
     "output_type": "execute_result"
    }
   ],
   "source": [
    "k.getKname()"
   ]
  },
  {
   "cell_type": "markdown",
   "id": "6f579a65",
   "metadata": {},
   "source": [
    "### 클래스 속성과 객체 속성 직접 접근 \n",
    "\n",
    "-  클래스 속성은 클래스이름에서 접근한다.\n",
    "-  객체 속성은 객체이름으로 접근한다.\n",
    "- 클래스 속성과 객체 속성이 동일한 이름일 경우 객체에서는 클래스 속성을 접근할 수 없다."
   ]
  },
  {
   "cell_type": "code",
   "execution_count": 43,
   "id": "6af329ea",
   "metadata": {},
   "outputs": [
    {
     "data": {
      "text/plain": [
       "'클래스속성'"
      ]
     },
     "execution_count": 43,
     "metadata": {},
     "output_type": "execute_result"
    }
   ],
   "source": [
    "KlassMethod.name"
   ]
  },
  {
   "cell_type": "code",
   "execution_count": 44,
   "id": "ed0faff9",
   "metadata": {},
   "outputs": [
    {
     "data": {
      "text/plain": [
       "'객체속성'"
      ]
     },
     "execution_count": 44,
     "metadata": {},
     "output_type": "execute_result"
    }
   ],
   "source": [
    "k.name"
   ]
  },
  {
   "cell_type": "code",
   "execution_count": null,
   "id": "cb70a34a",
   "metadata": {},
   "outputs": [],
   "source": []
  },
  {
   "cell_type": "markdown",
   "id": "9849fa80",
   "metadata": {},
   "source": [
    "## 5-4 정적 메서드 정의 "
   ]
  },
  {
   "cell_type": "code",
   "execution_count": 45,
   "id": "564bbb6d",
   "metadata": {},
   "outputs": [],
   "source": [
    "class StaticMethod :\n",
    "    name = \"클래스속성\"\n",
    "    \n",
    "    def __init__(self,value) :\n",
    "        self.name = value               # 객체 속성\n",
    "        \n",
    "    def getName(self) :                 # 메서드 작성 : 객체가 사용하는 메서드라서 self \n",
    "        return self.name                # 객체 속성 조회 \n",
    "    \n",
    "    @staticmethod                       # 정적 메서드 처리 \n",
    "    def getSname(cls,self) :            # 메서드 작성할 때 첫번째 매개변수를 특별하게 지정할 필요없음 \n",
    "        return cls.name , self.name     # 실제 클래스와 객체를 접근하려면 매개변수로 지정해야함 "
   ]
  },
  {
   "cell_type": "code",
   "execution_count": null,
   "id": "64ea1824",
   "metadata": {},
   "outputs": [],
   "source": []
  },
  {
   "cell_type": "code",
   "execution_count": 46,
   "id": "aa54fa66",
   "metadata": {},
   "outputs": [],
   "source": [
    "s = StaticMethod(\"객체속성\")"
   ]
  },
  {
   "cell_type": "code",
   "execution_count": 47,
   "id": "4eacbfd1",
   "metadata": {},
   "outputs": [
    {
     "data": {
      "text/plain": [
       "'객체속성'"
      ]
     },
     "execution_count": 47,
     "metadata": {},
     "output_type": "execute_result"
    }
   ],
   "source": [
    "s.getName()"
   ]
  },
  {
   "cell_type": "code",
   "execution_count": 48,
   "id": "4a10b872",
   "metadata": {},
   "outputs": [
    {
     "data": {
      "text/plain": [
       "('클래스속성', '객체속성')"
      ]
     },
     "execution_count": 48,
     "metadata": {},
     "output_type": "execute_result"
    }
   ],
   "source": [
    "s.getSname(StaticMethod,s)"
   ]
  },
  {
   "cell_type": "markdown",
   "id": "e2fd208c",
   "metadata": {},
   "source": [
    "### 점연산자 대신 내장함수로 접근하기 \n",
    "\n",
    "- getattr 함수로 속성 확인 \n",
    "- setattr 함수로 속성 갱신 "
   ]
  },
  {
   "cell_type": "code",
   "execution_count": 49,
   "id": "5febb028",
   "metadata": {},
   "outputs": [
    {
     "data": {
      "text/plain": [
       "'객체속성'"
      ]
     },
     "execution_count": 49,
     "metadata": {},
     "output_type": "execute_result"
    }
   ],
   "source": [
    "getattr(s,\"name\")"
   ]
  },
  {
   "cell_type": "code",
   "execution_count": 50,
   "id": "8efefd6e",
   "metadata": {},
   "outputs": [
    {
     "data": {
      "text/plain": [
       "'클래스속성'"
      ]
     },
     "execution_count": 50,
     "metadata": {},
     "output_type": "execute_result"
    }
   ],
   "source": [
    "getattr(StaticMethod,\"name\")"
   ]
  },
  {
   "cell_type": "code",
   "execution_count": null,
   "id": "cfc2656f",
   "metadata": {},
   "outputs": [],
   "source": []
  },
  {
   "cell_type": "code",
   "execution_count": 51,
   "id": "bbc2c9cb",
   "metadata": {},
   "outputs": [],
   "source": [
    "setattr(s,\"name\", \"이름변경\")"
   ]
  },
  {
   "cell_type": "code",
   "execution_count": 52,
   "id": "5a269fd4",
   "metadata": {},
   "outputs": [],
   "source": [
    "setattr(StaticMethod,\"name\",\"클래스속성변경\")"
   ]
  },
  {
   "cell_type": "code",
   "execution_count": 53,
   "id": "60ccb70a",
   "metadata": {},
   "outputs": [
    {
     "data": {
      "text/plain": [
       "('이름변경', '클래스속성변경')"
      ]
     },
     "execution_count": 53,
     "metadata": {},
     "output_type": "execute_result"
    }
   ],
   "source": [
    "getattr(s,\"name\"), getattr(StaticMethod,\"name\")"
   ]
  },
  {
   "cell_type": "code",
   "execution_count": null,
   "id": "0751927d",
   "metadata": {},
   "outputs": [],
   "source": []
  },
  {
   "cell_type": "markdown",
   "id": "8fc3cd9c",
   "metadata": {},
   "source": [
    "## 5-5 프로퍼티 처리하기 "
   ]
  },
  {
   "cell_type": "code",
   "execution_count": 54,
   "id": "92853c91",
   "metadata": {},
   "outputs": [],
   "source": [
    "class Pro : \n",
    "    def __init__(self,value) :\n",
    "        self._name = value\n",
    "    \n",
    "    @property\n",
    "    def name(self) :\n",
    "        return self._name\n",
    "    \n",
    "    @name.setter\n",
    "    def name(self,value) :\n",
    "        self._name = value"
   ]
  },
  {
   "cell_type": "code",
   "execution_count": 55,
   "id": "1134bc01",
   "metadata": {},
   "outputs": [],
   "source": [
    "p = Pro(\"객체속성\")"
   ]
  },
  {
   "cell_type": "code",
   "execution_count": 56,
   "id": "171995e2",
   "metadata": {},
   "outputs": [
    {
     "data": {
      "text/plain": [
       "'객체속성'"
      ]
     },
     "execution_count": 56,
     "metadata": {},
     "output_type": "execute_result"
    }
   ],
   "source": [
    "p.name"
   ]
  },
  {
   "cell_type": "code",
   "execution_count": 57,
   "id": "4c289669",
   "metadata": {},
   "outputs": [],
   "source": [
    "p.name = \"속성값 변경\""
   ]
  },
  {
   "cell_type": "code",
   "execution_count": 58,
   "id": "74a57b40",
   "metadata": {},
   "outputs": [
    {
     "data": {
      "text/plain": [
       "'속성값 변경'"
      ]
     },
     "execution_count": 58,
     "metadata": {},
     "output_type": "execute_result"
    }
   ],
   "source": [
    "p.name"
   ]
  },
  {
   "cell_type": "markdown",
   "id": "8ae7818b",
   "metadata": {},
   "source": [
    "## 6 .  디스크립터 처리하기"
   ]
  },
  {
   "cell_type": "code",
   "execution_count": null,
   "id": "58956195",
   "metadata": {},
   "outputs": [],
   "source": []
  },
  {
   "cell_type": "markdown",
   "id": "20960edf",
   "metadata": {},
   "source": [
    "### 속성을 제어하는 디스크립터 클래스 정의 "
   ]
  },
  {
   "cell_type": "code",
   "execution_count": 59,
   "id": "933f4826",
   "metadata": {},
   "outputs": [],
   "source": [
    "class Descriptor :\n",
    "    # 클래스 변수 이름을 가져와서 객체 속성으로 지정 \n",
    "    def __set_name__(self, owner, name):\n",
    "        self.public_name = name\n",
    "        self.private_name = '_' + name\n",
    "\n",
    "    # 게터 정의하기 \n",
    "    def __get__(self, obj, objtype=None):\n",
    "        print(self.__dict__)\n",
    "        return  getattr(obj, self.private_name)\n",
    "    \n",
    "    # 세터 정의하기 \n",
    "    def __set__(self, obj, value):\n",
    "        setattr(obj, self.private_name, value)\n"
   ]
  },
  {
   "cell_type": "code",
   "execution_count": 60,
   "id": "17a58ff1",
   "metadata": {},
   "outputs": [
    {
     "data": {
      "text/plain": [
       "mappingproxy({'__module__': '__main__',\n",
       "              '__set_name__': <function __main__.Descriptor.__set_name__(self, owner, name)>,\n",
       "              '__get__': <function __main__.Descriptor.__get__(self, obj, objtype=None)>,\n",
       "              '__set__': <function __main__.Descriptor.__set__(self, obj, value)>,\n",
       "              '__dict__': <attribute '__dict__' of 'Descriptor' objects>,\n",
       "              '__weakref__': <attribute '__weakref__' of 'Descriptor' objects>,\n",
       "              '__doc__': None})"
      ]
     },
     "execution_count": 60,
     "metadata": {},
     "output_type": "execute_result"
    }
   ],
   "source": [
    "Descriptor.__dict__"
   ]
  },
  {
   "cell_type": "code",
   "execution_count": null,
   "id": "00cf1794",
   "metadata": {},
   "outputs": [],
   "source": []
  },
  {
   "cell_type": "markdown",
   "id": "0dfd56b7",
   "metadata": {},
   "source": [
    "### 실제 사용할 클래스 정의\n",
    "\n",
    "- 디스크립터의 객체는 반드시 클래스 속성으로 정의한다. \n",
    "- 객체의 속성은 항상 클래스 디스크립터 속성으로 제어하므로 별도의 메서드를 작성할 필요없음"
   ]
  },
  {
   "cell_type": "code",
   "execution_count": 61,
   "id": "ca7f7b6a",
   "metadata": {},
   "outputs": [],
   "source": [
    "class User :\n",
    "    name = Descriptor()\n",
    "    age = Descriptor()\n",
    "    \n",
    "    def __init__(self,name,age) :\n",
    "        self.name = name\n",
    "        self.age = age"
   ]
  },
  {
   "cell_type": "code",
   "execution_count": 62,
   "id": "8e178a23",
   "metadata": {},
   "outputs": [
    {
     "data": {
      "text/plain": [
       "mappingproxy({'__module__': '__main__',\n",
       "              'name': <__main__.Descriptor at 0x10700e160>,\n",
       "              'age': <__main__.Descriptor at 0x10700e970>,\n",
       "              '__init__': <function __main__.User.__init__(self, name, age)>,\n",
       "              '__dict__': <attribute '__dict__' of 'User' objects>,\n",
       "              '__weakref__': <attribute '__weakref__' of 'User' objects>,\n",
       "              '__doc__': None})"
      ]
     },
     "execution_count": 62,
     "metadata": {},
     "output_type": "execute_result"
    }
   ],
   "source": [
    "User.__dict__"
   ]
  },
  {
   "cell_type": "code",
   "execution_count": null,
   "id": "eda9502a",
   "metadata": {},
   "outputs": [],
   "source": []
  },
  {
   "cell_type": "code",
   "execution_count": 63,
   "id": "fdc1baf3",
   "metadata": {},
   "outputs": [],
   "source": [
    "u = User(\"이름\", 33)"
   ]
  },
  {
   "cell_type": "code",
   "execution_count": 64,
   "id": "d15a20f9",
   "metadata": {},
   "outputs": [
    {
     "name": "stdout",
     "output_type": "stream",
     "text": [
      "{'public_name': 'name', 'private_name': '_name'}\n"
     ]
    },
    {
     "data": {
      "text/plain": [
       "'이름'"
      ]
     },
     "execution_count": 64,
     "metadata": {},
     "output_type": "execute_result"
    }
   ],
   "source": [
    "u.name"
   ]
  },
  {
   "cell_type": "code",
   "execution_count": 65,
   "id": "5c6113f8",
   "metadata": {},
   "outputs": [
    {
     "name": "stdout",
     "output_type": "stream",
     "text": [
      "{'public_name': 'age', 'private_name': '_age'}\n"
     ]
    },
    {
     "data": {
      "text/plain": [
       "33"
      ]
     },
     "execution_count": 65,
     "metadata": {},
     "output_type": "execute_result"
    }
   ],
   "source": [
    "u.age"
   ]
  },
  {
   "cell_type": "code",
   "execution_count": null,
   "id": "977050f5",
   "metadata": {},
   "outputs": [],
   "source": []
  }
 ],
 "metadata": {
  "kernelspec": {
   "display_name": "Python 3 (ipykernel)",
   "language": "python",
   "name": "python3"
  },
  "language_info": {
   "codemirror_mode": {
    "name": "ipython",
    "version": 3
   },
   "file_extension": ".py",
   "mimetype": "text/x-python",
   "name": "python",
   "nbconvert_exporter": "python",
   "pygments_lexer": "ipython3",
   "version": "3.9.16"
  }
 },
 "nbformat": 4,
 "nbformat_minor": 5
}
