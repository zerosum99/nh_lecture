{
 "cells": [
  {
   "cell_type": "markdown",
   "id": "4976dc02",
   "metadata": {},
   "source": [
    "# 3. 파이썬 함수"
   ]
  },
  {
   "cell_type": "markdown",
   "id": "2826b968",
   "metadata": {},
   "source": [
    "## 3-1 함수 정의 및 호출 "
   ]
  },
  {
   "cell_type": "markdown",
   "id": "73dac91c",
   "metadata": {},
   "source": [
    "### 함수 정의 \n",
    "\n",
    "- 예약어 def 사용\n",
    "- 함수명과 괄호에 매개변수 정의 \n",
    "- 매개변수는 함수의 입력 데이터\n",
    "- 콜론을 사용한 다음에 실제 코드가 입력된다.\n",
    "- 반환값은 return 다음에 넣는다. "
   ]
  },
  {
   "cell_type": "code",
   "execution_count": 1,
   "id": "dcad826d",
   "metadata": {},
   "outputs": [],
   "source": [
    "def 함수(매개변수) :\n",
    "    return 매개변수"
   ]
  },
  {
   "cell_type": "markdown",
   "id": "68dd9e6f",
   "metadata": {},
   "source": [
    "### 함수호출\n",
    "\n",
    "- 함수명과 괄호에 인자를 넣는다. \n",
    "- 인자는 매개변수와 개수가 동일해야 한다. "
   ]
  },
  {
   "cell_type": "code",
   "execution_count": 2,
   "id": "e9995226",
   "metadata": {},
   "outputs": [
    {
     "data": {
      "text/plain": [
       "'인자'"
      ]
     },
     "execution_count": 2,
     "metadata": {},
     "output_type": "execute_result"
    }
   ],
   "source": [
    "함수(\"인자\")"
   ]
  },
  {
   "cell_type": "code",
   "execution_count": 3,
   "id": "5bf0dd10",
   "metadata": {},
   "outputs": [
    {
     "data": {
      "text/plain": [
       "100"
      ]
     },
     "execution_count": 3,
     "metadata": {},
     "output_type": "execute_result"
    }
   ],
   "source": [
    "함수(100)"
   ]
  },
  {
   "cell_type": "markdown",
   "id": "78cd11a2",
   "metadata": {},
   "source": [
    "## 3-2 함수 매개변수와 인자 "
   ]
  },
  {
   "cell_type": "markdown",
   "id": "2fa3eb2f",
   "metadata": {},
   "source": [
    "### 매개변수에 초기값을 지정하기"
   ]
  },
  {
   "cell_type": "code",
   "execution_count": 4,
   "id": "a7d79fe5",
   "metadata": {},
   "outputs": [],
   "source": [
    "def add(x=100,y=200) :\n",
    "    return x+y"
   ]
  },
  {
   "cell_type": "code",
   "execution_count": 5,
   "id": "646a6de1",
   "metadata": {},
   "outputs": [
    {
     "data": {
      "text/plain": [
       "300"
      ]
     },
     "execution_count": 5,
     "metadata": {},
     "output_type": "execute_result"
    }
   ],
   "source": [
    "add()"
   ]
  },
  {
   "cell_type": "code",
   "execution_count": 6,
   "id": "ff738c44",
   "metadata": {},
   "outputs": [
    {
     "data": {
      "text/plain": [
       "500"
      ]
     },
     "execution_count": 6,
     "metadata": {},
     "output_type": "execute_result"
    }
   ],
   "source": [
    "add(300)"
   ]
  },
  {
   "cell_type": "code",
   "execution_count": 7,
   "id": "4ce4a2b7",
   "metadata": {},
   "outputs": [
    {
     "data": {
      "text/plain": [
       "1100"
      ]
     },
     "execution_count": 7,
     "metadata": {},
     "output_type": "execute_result"
    }
   ],
   "source": [
    "add(500,600)"
   ]
  },
  {
   "cell_type": "code",
   "execution_count": null,
   "id": "cc257c5d",
   "metadata": {},
   "outputs": [],
   "source": []
  },
  {
   "cell_type": "markdown",
   "id": "2c880216",
   "metadata": {},
   "source": [
    "### 하나의 매개변수에 여러 인자 처리하기 "
   ]
  },
  {
   "cell_type": "code",
   "execution_count": 8,
   "id": "14bfff7f",
   "metadata": {},
   "outputs": [],
   "source": [
    "def totalSum(*args) :\n",
    "    print(args)\n",
    "    return sum(args)"
   ]
  },
  {
   "cell_type": "code",
   "execution_count": 9,
   "id": "b0979aa8",
   "metadata": {},
   "outputs": [
    {
     "name": "stdout",
     "output_type": "stream",
     "text": [
      "(1, 2, 3, 4, 5)\n"
     ]
    },
    {
     "data": {
      "text/plain": [
       "15"
      ]
     },
     "execution_count": 9,
     "metadata": {},
     "output_type": "execute_result"
    }
   ],
   "source": [
    "totalSum(1,2,3,4,5)"
   ]
  },
  {
   "cell_type": "code",
   "execution_count": null,
   "id": "70d933cc",
   "metadata": {},
   "outputs": [],
   "source": []
  },
  {
   "cell_type": "markdown",
   "id": "5d070acf",
   "metadata": {},
   "source": [
    "### 하나의 매개변수에 여러 키워드 인자 처리하기"
   ]
  },
  {
   "cell_type": "code",
   "execution_count": 10,
   "id": "34c7303e",
   "metadata": {},
   "outputs": [],
   "source": [
    "def totalSum1(**kwargs) :\n",
    "    print(kwargs)\n",
    "    print(kwargs.values())\n",
    "    return sum(kwargs.values())"
   ]
  },
  {
   "cell_type": "code",
   "execution_count": 11,
   "id": "c64b89a4",
   "metadata": {},
   "outputs": [
    {
     "name": "stdout",
     "output_type": "stream",
     "text": [
      "{'a': 1, 'b': 2, 'c': 3, 'd': 4, 'e': 5}\n",
      "dict_values([1, 2, 3, 4, 5])\n"
     ]
    },
    {
     "data": {
      "text/plain": [
       "15"
      ]
     },
     "execution_count": 11,
     "metadata": {},
     "output_type": "execute_result"
    }
   ],
   "source": [
    "totalSum1(a=1,b=2,c=3,d=4,e=5)"
   ]
  },
  {
   "cell_type": "code",
   "execution_count": null,
   "id": "2fb43498",
   "metadata": {},
   "outputs": [],
   "source": []
  },
  {
   "cell_type": "markdown",
   "id": "593a244d",
   "metadata": {},
   "source": [
    "### 두 개의 매개변수를 정의하면 모든 인자를 다 처리할 수 있다. "
   ]
  },
  {
   "cell_type": "code",
   "execution_count": null,
   "id": "9f92fcd5",
   "metadata": {},
   "outputs": [],
   "source": []
  },
  {
   "cell_type": "code",
   "execution_count": 12,
   "id": "97c1aded",
   "metadata": {},
   "outputs": [],
   "source": [
    "def totalSum2(*args, **kwargs) :\n",
    "    print(args)\n",
    "    print(kwargs)\n",
    "    print(kwargs.values())\n",
    "    return sum(args) + sum(kwargs.values())"
   ]
  },
  {
   "cell_type": "code",
   "execution_count": 13,
   "id": "eff5f0ad",
   "metadata": {},
   "outputs": [
    {
     "name": "stdout",
     "output_type": "stream",
     "text": [
      "(1, 2, 3, 4, 5)\n",
      "{'a': 1, 'b': 2, 'c': 3, 'd': 4, 'e': 5}\n",
      "dict_values([1, 2, 3, 4, 5])\n"
     ]
    },
    {
     "data": {
      "text/plain": [
       "30"
      ]
     },
     "execution_count": 13,
     "metadata": {},
     "output_type": "execute_result"
    }
   ],
   "source": [
    "totalSum2(1,2,3,4,5,a=1,b=2,c=3,d=4,e=5)"
   ]
  },
  {
   "cell_type": "code",
   "execution_count": null,
   "id": "7bc8df1c",
   "metadata": {},
   "outputs": [],
   "source": []
  },
  {
   "cell_type": "markdown",
   "id": "ac354b32",
   "metadata": {},
   "source": [
    "## 3-3 익명함수 "
   ]
  },
  {
   "cell_type": "code",
   "execution_count": 14,
   "id": "c69fdc74",
   "metadata": {},
   "outputs": [
    {
     "data": {
      "text/plain": [
       "300"
      ]
     },
     "execution_count": 14,
     "metadata": {},
     "output_type": "execute_result"
    }
   ],
   "source": [
    "(lambda x,y : x+y)(100,200)"
   ]
  },
  {
   "cell_type": "code",
   "execution_count": 15,
   "id": "35c7f15d",
   "metadata": {},
   "outputs": [],
   "source": [
    "func = lambda x,y : x+y"
   ]
  },
  {
   "cell_type": "code",
   "execution_count": 16,
   "id": "1a87ee1b",
   "metadata": {},
   "outputs": [
    {
     "data": {
      "text/plain": [
       "300"
      ]
     },
     "execution_count": 16,
     "metadata": {},
     "output_type": "execute_result"
    }
   ],
   "source": [
    "func(100,200)"
   ]
  },
  {
   "cell_type": "markdown",
   "id": "a8101e5b",
   "metadata": {},
   "source": [
    "## 3-4 함수를 인자로 전달하기"
   ]
  },
  {
   "cell_type": "code",
   "execution_count": null,
   "id": "98c264a8",
   "metadata": {},
   "outputs": [],
   "source": []
  },
  {
   "cell_type": "code",
   "execution_count": 17,
   "id": "c43964fa",
   "metadata": {},
   "outputs": [],
   "source": [
    "def agg(func,*args) :\n",
    "    return func(*args)\n",
    "    "
   ]
  },
  {
   "cell_type": "code",
   "execution_count": 18,
   "id": "13d1b512",
   "metadata": {},
   "outputs": [],
   "source": [
    "def add(x,y) :\n",
    "    return x+y"
   ]
  },
  {
   "cell_type": "code",
   "execution_count": 19,
   "id": "0be0776d",
   "metadata": {},
   "outputs": [
    {
     "data": {
      "text/plain": [
       "300"
      ]
     },
     "execution_count": 19,
     "metadata": {},
     "output_type": "execute_result"
    }
   ],
   "source": [
    "agg(add,100,200)"
   ]
  },
  {
   "cell_type": "code",
   "execution_count": null,
   "id": "8a3e3206",
   "metadata": {},
   "outputs": [],
   "source": []
  },
  {
   "cell_type": "markdown",
   "id": "0d0ec00b",
   "metadata": {},
   "source": [
    "## 3-5 함수 데코레이터 처리"
   ]
  },
  {
   "cell_type": "markdown",
   "id": "4f5b91f2",
   "metadata": {},
   "source": [
    "### 함수 내부에 함수를 정의하기"
   ]
  },
  {
   "cell_type": "code",
   "execution_count": 20,
   "id": "4b95d756",
   "metadata": {},
   "outputs": [],
   "source": [
    "def outer(x) :\n",
    "    print(\"외부함수 실행\")\n",
    "    def inner(y)  :\n",
    "        print(\"내부함수 실행\")\n",
    "        return x+y\n",
    "    \n",
    "    return inner"
   ]
  },
  {
   "cell_type": "code",
   "execution_count": 21,
   "id": "ecfdfd04",
   "metadata": {},
   "outputs": [
    {
     "name": "stdout",
     "output_type": "stream",
     "text": [
      "외부함수 실행\n"
     ]
    }
   ],
   "source": [
    "inner = outer(100)"
   ]
  },
  {
   "cell_type": "code",
   "execution_count": 22,
   "id": "a917ccb7",
   "metadata": {},
   "outputs": [
    {
     "name": "stdout",
     "output_type": "stream",
     "text": [
      "내부함수 실행\n"
     ]
    },
    {
     "data": {
      "text/plain": [
       "300"
      ]
     },
     "execution_count": 22,
     "metadata": {},
     "output_type": "execute_result"
    }
   ],
   "source": [
    "inner(200)"
   ]
  },
  {
   "cell_type": "markdown",
   "id": "32d207a0",
   "metadata": {},
   "source": [
    "### 함수 데코레이터를 처리하기\n",
    "\n",
    "- 먼저 데코레이터 처리함수 정의\n",
    "- 실제 함수를 정의할 때 바로 위에 @데코레이터함수 지정"
   ]
  },
  {
   "cell_type": "markdown",
   "id": "ea50391b",
   "metadata": {},
   "source": [
    "#### 데코레이터 함수 정의 "
   ]
  },
  {
   "cell_type": "code",
   "execution_count": 23,
   "id": "9454e6d1",
   "metadata": {},
   "outputs": [],
   "source": [
    "def deco(func) :\n",
    "    print(\"데코레이터 처리\")\n",
    "    def inner(*args,**kwagrs) :\n",
    "        print(\"내부함수 처리\")\n",
    "        return func(*args,**kwagrs)\n",
    "    return inner"
   ]
  },
  {
   "cell_type": "markdown",
   "id": "3a976fff",
   "metadata": {},
   "source": [
    "#### 실제 실행함수에 데코레이터 처리하기 "
   ]
  },
  {
   "cell_type": "code",
   "execution_count": 24,
   "id": "5fbd05d5",
   "metadata": {},
   "outputs": [
    {
     "name": "stdout",
     "output_type": "stream",
     "text": [
      "데코레이터 처리\n"
     ]
    }
   ],
   "source": [
    "@deco\n",
    "def add(x,y) :\n",
    "    return x+y"
   ]
  },
  {
   "cell_type": "markdown",
   "id": "4204cf11",
   "metadata": {},
   "source": [
    "#### 함수를 실행하기 "
   ]
  },
  {
   "cell_type": "code",
   "execution_count": 25,
   "id": "8fc28093",
   "metadata": {},
   "outputs": [
    {
     "name": "stdout",
     "output_type": "stream",
     "text": [
      "내부함수 처리\n"
     ]
    },
    {
     "data": {
      "text/plain": [
       "300"
      ]
     },
     "execution_count": 25,
     "metadata": {},
     "output_type": "execute_result"
    }
   ],
   "source": [
    "add(100,200)"
   ]
  },
  {
   "cell_type": "code",
   "execution_count": null,
   "id": "cf2d14c0",
   "metadata": {},
   "outputs": [],
   "source": []
  },
  {
   "cell_type": "markdown",
   "id": "990ad1a8",
   "metadata": {},
   "source": [
    "# 4. 연산자 함수/ 내장함수 알아보기"
   ]
  },
  {
   "cell_type": "code",
   "execution_count": null,
   "id": "5dc30ca1",
   "metadata": {},
   "outputs": [],
   "source": []
  }
 ],
 "metadata": {
  "kernelspec": {
   "display_name": "Python 3 (ipykernel)",
   "language": "python",
   "name": "python3"
  },
  "language_info": {
   "codemirror_mode": {
    "name": "ipython",
    "version": 3
   },
   "file_extension": ".py",
   "mimetype": "text/x-python",
   "name": "python",
   "nbconvert_exporter": "python",
   "pygments_lexer": "ipython3",
   "version": "3.9.16"
  }
 },
 "nbformat": 4,
 "nbformat_minor": 5
}
